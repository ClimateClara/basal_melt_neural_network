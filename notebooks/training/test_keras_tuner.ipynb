{
 "cells": [
  {
   "cell_type": "code",
   "execution_count": null,
   "id": "47d7a2ec-7ead-484f-816c-fe6c8db174e0",
   "metadata": {},
   "outputs": [],
   "source": [
    "\"\"\"\n",
    "Created on Wed Mar 15 10:45 2023\n",
    "\n",
    "Test Keras Tuner: https://keras.io/guides/keras_tuner/getting_started/\n",
    "\n",
    "Author: @claraburgard\n",
    "\"\"\""
   ]
  },
  {
   "cell_type": "code",
   "execution_count": null,
   "id": "afd852db-6e10-4c32-884f-5dec956c0179",
   "metadata": {},
   "outputs": [],
   "source": [
    "from tensorflow import keras\n",
    "from tensorflow.keras import layers\n",
    "import keras_tuner\n",
    "\n",
    "import xarray as xr"
   ]
  },
  {
   "cell_type": "code",
   "execution_count": null,
   "id": "fd086665-696e-41fa-b15c-6bd4bd60535f",
   "metadata": {},
   "outputs": [],
   "source": [
    "outputpath = '/bettik/burgardc/DATA/NN_PARAM/interim/NN_MODELS/keras_tuner_tests/'"
   ]
  },
  {
   "cell_type": "code",
   "execution_count": null,
   "id": "490aa998-3410-4042-9ca3-edbe3d5792be",
   "metadata": {},
   "outputs": [],
   "source": [
    "lrelu = lambda x: keras.activations.relu(x, alpha=0.1)"
   ]
  },
  {
   "cell_type": "code",
   "execution_count": null,
   "id": "67631e3f-66f4-496a-9509-d4ac8acaf1fc",
   "metadata": {},
   "outputs": [],
   "source": [
    "def build_model(hp):\n",
    "    model = keras.Sequential()\n",
    "    model.add(keras.layers.Input(10, name=\"InputLayer\"))\n",
    "    for i in range(hp.Int(\"num_layers\", 1, 6)):\n",
    "        model.add(\n",
    "            layers.Dense(\n",
    "                # Tune number of units separately.\n",
    "                units=hp.Int(f\"units_{i}\", min_value=32, max_value=512, step=32),\n",
    "                activation=lrelu,\n",
    "            )\n",
    "        )\n",
    "    model.add(keras.layers.Dense(1, name='Output'))\n",
    "    model.compile(optimizer=\"adam\", loss='mse', metrics=['mae', 'mse'])\n",
    "    return model\n",
    "    "
   ]
  },
  {
   "cell_type": "code",
   "execution_count": null,
   "id": "16e9e760-aad7-46ec-ad3a-4ae8c0090aa1",
   "metadata": {},
   "outputs": [],
   "source": [
    "build_model(keras_tuner.HyperParameters())\n"
   ]
  },
  {
   "cell_type": "code",
   "execution_count": null,
   "id": "01a933cc-063c-4b22-8f96-6bb3c13b2da3",
   "metadata": {},
   "outputs": [],
   "source": [
    "tuner = keras_tuner.RandomSearch(\n",
    "    hypermodel=build_model,\n",
    "    objective=\"val_loss\",\n",
    "    max_trials=10,\n",
    "    executions_per_trial=2,\n",
    "    overwrite=True,\n",
    "    directory=outputpath,\n",
    "    project_name=\"helloworld\",\n",
    ")\n"
   ]
  },
  {
   "cell_type": "code",
   "execution_count": null,
   "id": "e3ed87de-1af7-4c05-ba98-759e8f0041eb",
   "metadata": {},
   "outputs": [],
   "source": [
    "tuner.search_space_summary()"
   ]
  },
  {
   "cell_type": "markdown",
   "id": "2f80ee89-3356-45e7-8044-db88f0127514",
   "metadata": {},
   "source": [
    "READ IN THE DATA"
   ]
  },
  {
   "cell_type": "code",
   "execution_count": null,
   "id": "831bf895-f8f8-4492-afa7-4009674baa95",
   "metadata": {},
   "outputs": [],
   "source": [
    "inputpath_data = '/bettik/burgardc/DATA/NN_PARAM/interim/INPUT_DATA/'\n",
    "inputpath_CVinput = inputpath_data+'EXTRAPOLATED_ISFDRAFT_CHUNKS_CV/'"
   ]
  },
  {
   "cell_type": "code",
   "execution_count": null,
   "id": "49bd7b28-edea-49be-94bd-756ead85de44",
   "metadata": {},
   "outputs": [],
   "source": [
    "norm_method = 'std'"
   ]
  },
  {
   "cell_type": "code",
   "execution_count": null,
   "id": "88293890-eb04-49bc-b984-d1fde76f674f",
   "metadata": {},
   "outputs": [],
   "source": [
    "tblock_dim = range(1,14)\n",
    "isf_dim = [10,11,12,13,18,22,23,24,25,30,31,33,38,39,40,42,43,44,45,47,48,51,52,53,54,55,58,61,65,66,69,70,71,73,75]\n",
    "\n",
    "isf_out = 66\n",
    "tblock_out = 0\n",
    "\n",
    "data_train_orig_norm = xr.open_dataset(inputpath_CVinput + 'train_data_CV_noisf'+str(isf_out).zfill(3)+'_notblock'+str(tblock_out).zfill(3)+'.nc')\n",
    "data_val_orig_norm = xr.open_dataset(inputpath_CVinput + 'val_data_CV_noisf'+str(isf_out).zfill(3)+'_notblock'+str(tblock_out).zfill(3)+'.nc') \n",
    "data_train_addvar1_norm = xr.open_dataset(inputpath_CVinput + 'train_addvar1_CV_noisf'+str(isf_out).zfill(3)+'_notblock'+str(tblock_out).zfill(3)+'.nc')\n",
    "data_val_addvar1_norm = xr.open_dataset(inputpath_CVinput + 'val_addvar1_CV_noisf'+str(isf_out).zfill(3)+'_notblock'+str(tblock_out).zfill(3)+'.nc')\n",
    "    \n",
    "data_train_norm = data_train_orig_norm[['dGL','dIF','corrected_isfdraft','bathy_metry','slope_bed_lon','slope_bed_lat','slope_ice_lon','slope_ice_lat','theta_in','salinity_in',\n",
    "                                            'melt_m_ice_per_y']]\n",
    "data_val_norm = data_val_orig_norm[['dGL','dIF','corrected_isfdraft','bathy_metry','slope_bed_lon','slope_bed_lat','slope_ice_lon','slope_ice_lat','theta_in','salinity_in',\n",
    "                                        'melt_m_ice_per_y']]\n",
    "\n",
    "    \n",
    "## prepare input and target\n",
    "y_train_norm = data_train_norm['melt_m_ice_per_y'].sel(norm_method=norm_method).load()\n",
    "x_train_norm = data_train_norm.drop_vars(['melt_m_ice_per_y']).sel(norm_method=norm_method).to_array().load()\n",
    "    \n",
    "y_val_norm = data_val_norm['melt_m_ice_per_y'].sel(norm_method=norm_method).load()\n",
    "x_val_norm = data_val_norm.drop_vars(['melt_m_ice_per_y']).sel(norm_method=norm_method).to_array().load()"
   ]
  },
  {
   "cell_type": "code",
   "execution_count": null,
   "id": "d5ac2b64-593d-4424-bcbf-42e030cb52cf",
   "metadata": {},
   "outputs": [],
   "source": [
    "input_size = x_train_norm.values.shape[0]\n",
    "activ_fct = 'relu' #LeakyReLU\n",
    "epoch_nb = 100\n",
    "batch_siz = 512"
   ]
  },
  {
   "cell_type": "code",
   "execution_count": null,
   "id": "70a0af9b-bbf5-4a8a-939e-2614f57cbfa0",
   "metadata": {},
   "outputs": [],
   "source": [
    "tuner.search(x_train_norm.T, y_train_norm, epochs=50, validation_data=(x_val_norm, y_val_norm))"
   ]
  },
  {
   "cell_type": "code",
   "execution_count": null,
   "id": "e28fdaef-877e-4240-a9c5-328dea2eb375",
   "metadata": {},
   "outputs": [],
   "source": []
  }
 ],
 "metadata": {
  "kernelspec": {
   "display_name": "neuralnet",
   "language": "python",
   "name": "neuralnet"
  },
  "language_info": {
   "codemirror_mode": {
    "name": "ipython",
    "version": 3
   },
   "file_extension": ".py",
   "mimetype": "text/x-python",
   "name": "python",
   "nbconvert_exporter": "python",
   "pygments_lexer": "ipython3",
   "version": "3.9.4"
  }
 },
 "nbformat": 4,
 "nbformat_minor": 5
}
