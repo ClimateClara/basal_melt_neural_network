{
 "cells": [
  {
   "cell_type": "code",
   "execution_count": null,
   "id": "1e2f8f74-a672-4a47-9867-3c3f1309c3f3",
   "metadata": {},
   "outputs": [],
   "source": [
    "\"\"\"\n",
    "Created on Tue Apr 05 15:43 2022\n",
    "\n",
    "Try using xarray input into the DNN directly\n",
    "\n",
    "Author: @claraburgard\n",
    "\n",
    "\"\"\""
   ]
  },
  {
   "cell_type": "code",
   "execution_count": null,
   "id": "78591024-6443-4390-b166-fdb3091f29a6",
   "metadata": {},
   "outputs": [],
   "source": [
    "import numpy as np\n",
    "import xarray as xr\n",
    "from tqdm.notebook import trange, tqdm\n",
    "import glob\n",
    "import matplotlib as mpl\n",
    "import seaborn as sns\n",
    "import datetime\n",
    "import time\n",
    "\n",
    "import tensorflow as tf\n",
    "from tensorflow import keras\n",
    "from contextlib import redirect_stdout\n",
    "\n",
    "from basal_melt_neural_networks.constants import *\n",
    "import basal_melt_neural_networks.diagnostic_functions as diag\n",
    "import basal_melt_neural_networks.data_formatting as dfmt"
   ]
  },
  {
   "cell_type": "markdown",
   "id": "ece0a826-5e46-4c4c-8f01-8c78f66bb74a",
   "metadata": {},
   "source": [
    "READ IN DATA"
   ]
  },
  {
   "cell_type": "code",
   "execution_count": null,
   "id": "51d67da9-d01e-4850-89c3-739159ea00cf",
   "metadata": {},
   "outputs": [],
   "source": [
    "run_list = ['OPM016', 'OPM018']"
   ]
  },
  {
   "cell_type": "code",
   "execution_count": null,
   "id": "3c0aa859-49d5-487e-87e7-c74e01fe2db8",
   "metadata": {},
   "outputs": [],
   "source": [
    "all_input_df = None\n",
    "\n",
    "for nemo_run in run_list:\n",
    "    clean_df_nrun = pd.read_csv(outputpath_nn + 'dataframe_input_'+nemo_run+'.csv').drop('Unnamed: 0', 1)\n",
    "    if all_input_df is None:\n",
    "        all_input_df = clean_df_nrun\n",
    "    else:\n",
    "        all_input_df.append(clean_df_nrun, ignore_index = True)"
   ]
  }
 ],
 "metadata": {
  "kernelspec": {
   "display_name": "py38",
   "language": "python",
   "name": "py38"
  },
  "language_info": {
   "codemirror_mode": {
    "name": "ipython",
    "version": 3
   },
   "file_extension": ".py",
   "mimetype": "text/x-python",
   "name": "python",
   "nbconvert_exporter": "python",
   "pygments_lexer": "ipython3",
   "version": "3.8.12"
  }
 },
 "nbformat": 4,
 "nbformat_minor": 5
}
