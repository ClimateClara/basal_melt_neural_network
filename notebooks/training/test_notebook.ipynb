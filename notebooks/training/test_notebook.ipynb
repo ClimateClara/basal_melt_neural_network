{
 "cells": [
  {
   "cell_type": "code",
   "execution_count": null,
   "id": "6475add9-52fc-4863-a7ae-3687849c30ad",
   "metadata": {},
   "outputs": [],
   "source": [
    "\"\"\"\n",
    "Created on Thu Sep 08 11:15 2022\n",
    "\n",
    "This script is to automate a bit the cross-validation and avoiding having to do it in a notebook\n",
    "\n",
    "Author: Clara Burgard\n",
    "\"\"\"\n",
    "\n",
    "import numpy as np\n",
    "import xarray as xr\n",
    "import pandas as pd\n",
    "from tqdm.notebook import trange, tqdm\n",
    "import glob\n",
    "import datetime\n",
    "import time\n",
    "import sys\n",
    "\n",
    "import tensorflow as tf\n",
    "from tensorflow import keras\n",
    "import basal_melt_neural_networks.model_functions as modf\n",
    "import basal_melt_neural_networks.prep_input_data as indat"
   ]
  },
  {
   "cell_type": "code",
   "execution_count": null,
   "id": "b5dc065d-3a2e-4cc2-b455-e4918b4f92b5",
   "metadata": {},
   "outputs": [],
   "source": [
    "######### READ IN OPTIONS\n",
    "\n",
    "mod_size = 'medium' #'mini', 'small', 'medium', 'large', 'extra_large'\n",
    "tblock_out = 1\n",
    "isf_out =0\n",
    "TS_opt = 'extrap' # extrap, whole, thermocline\n",
    "norm_method = 'std' # std, interquart, minmax\n",
    "exp_name = 'testest'\n",
    "\n",
    "# INPUT\n",
    "# onlyTSdraft: 'corrected_isfdraft','theta_in','salinity_in'\n",
    "# TSdraftbotandiceddandwcd: 'corrected_isfdraft','water_col_depth','theta_in','salinity_in','theta_bot','salinity_bot'"
   ]
  },
  {
   "cell_type": "code",
   "execution_count": null,
   "id": "e8017b00-2974-4895-a773-f12a0eeb52ad",
   "metadata": {},
   "outputs": [],
   "source": [
    "######### READ IN DATA\n",
    "\n",
    "inputpath_data = '/bettik/burgardc/DATA/NN_PARAM/interim/INPUT_DATA/'\n",
    "outputpath_nn_models = '/bettik/burgardc/DATA/NN_PARAM/interim/NN_MODELS/experiments/'\n",
    "outputpath_doc = '/bettik/burgardc/SCRIPTS/basal_melt_neural_networks/custom_doc/experiments/'\n",
    "\n",
    "tblock_dim = range(1,14)\n",
    "isf_dim = [10,11,12,13,18,22,23,24,25,30,31,33,38,39,40,42,43,44,45,47,48,51,52,53,54,55,58,61,65,66,69,70,71,73,75]\n",
    "\n",
    "if (tblock_out > 0) and (isf_out == 0):\n",
    "    path_model = outputpath_nn_models+'CV_TBLOCK/'\n",
    "    \n",
    "elif (isf_out > 0) and (tblock_out == 0):\n",
    "    path_model = outputpath_nn_models+'CV_ISF/'\n",
    "    \n",
    "else:\n",
    "    print(\"I do not know what to do with both tblock and isf left out! \")\n",
    "\n",
    "#new_path_doc = outputpath_doc+timetag+'/'\n",
    "#if not os.path.isdir(new_path_doc):\n",
    "#    print(\"I did not find this folder (\"+timetag+\") in doc folder! :( \")\n",
    "\n",
    "if TS_opt == 'extrap':\n",
    "    inputpath_CVinput = inputpath_data+'EXTRAPOLATED_ISFDRAFT_CHUNKS_CV/'\n",
    "elif TS_opt == 'whole':\n",
    "    inputpath_CVinput = inputpath_data+'WHOLE_PROF_CHUNKS_CV/'\n",
    "elif TS_opt == 'thermocline':\n",
    "    inputpath_CVinput = inputpath_data+'THERMOCLINE_CHUNKS_CV/'\n",
    "\n",
    "\n",
    "if TS_opt == 'extrap':\n",
    "    \n",
    "    data_train_orig_norm = xr.open_dataset(inputpath_CVinput + 'train_data_CV_noisf'+str(isf_out).zfill(3)+'_notblock'+str(tblock_out).zfill(3)+'.nc')\n",
    "    data_val_orig_norm = xr.open_dataset(inputpath_CVinput + 'val_data_CV_noisf'+str(isf_out).zfill(3)+'_notblock'+str(tblock_out).zfill(3)+'.nc') \n",
    "    data_train_addvar1_norm = xr.open_dataset(inputpath_CVinput + 'train_addvar1_CV_noisf'+str(isf_out).zfill(3)+'_notblock'+str(tblock_out).zfill(3)+'.nc')\n",
    "    data_val_addvar1_norm = xr.open_dataset(inputpath_CVinput + 'val_addvar1_CV_noisf'+str(isf_out).zfill(3)+'_notblock'+str(tblock_out).zfill(3)+'.nc')\n",
    "    \n",
    "\n",
    "    print('here1')\n",
    "    data_train_norm = xr.merge([data_train_orig_norm[['corrected_isfdraft','theta_in','salinity_in','melt_m_ice_per_y']], \n",
    "                                data_train_addvar1_norm[['water_col_depth','theta_bot','salinity_bot']]])\n",
    "    print('here2')\n",
    "    data_val_norm = xr.merge([data_val_orig_norm[['corrected_isfdraft','theta_in','salinity_in','melt_m_ice_per_y']], \n",
    "                                data_val_addvar1_norm[['water_col_depth','theta_bot','salinity_bot']]])\n",
    "    \n",
    "    ## prepare input and target\n",
    "            \n",
    "    print('here3')\n",
    "    y_train_norm = data_train_norm['melt_m_ice_per_y'].sel(norm_method=norm_method).load()\n",
    "    x_train_norm = data_train_norm.drop_vars(['melt_m_ice_per_y']).sel(norm_method=norm_method).to_array().load()\n",
    "    #print('here4')\n",
    "    #x_train_norm = data_train_norm[['corrected_isfdraft','water_col_depth','theta_in','salinity_in','theta_bot','salinity_bot']].sel(norm_method=norm_method).to_array().load()\n",
    "    \n",
    "    print('here5')\n",
    "    y_val_norm = data_val_norm['melt_m_ice_per_y'].sel(norm_method=norm_method).load()\n",
    "    x_val_norm = data_val_norm.drop_vars(['melt_m_ice_per_y']).sel(norm_method=norm_method).to_array().load()\n",
    "    #print('here6')\n",
    "    #x_val_norm = data_val_norm[['corrected_isfdraft','water_col_depth','theta_in','salinity_in','theta_bot','salinity_bot']].sel(norm_method=norm_method).to_array().load()"
   ]
  },
  {
   "cell_type": "code",
   "execution_count": null,
   "id": "69caeeeb-cbc0-46a8-abd9-fef8338cf56d",
   "metadata": {},
   "outputs": [],
   "source": [
    "data_train_orig_norm[['corrected_isfdraft','theta_in','salinity_in','melt_m_ice_per_y']]"
   ]
  },
  {
   "cell_type": "code",
   "execution_count": null,
   "id": "68cec0b7-6400-428d-9185-f3272504985a",
   "metadata": {},
   "outputs": [],
   "source": [
    "data_train_addvar1_norm[['water_col_depth','theta_bot','salinity_bot']]"
   ]
  },
  {
   "cell_type": "code",
   "execution_count": null,
   "id": "5b700aec-9ffe-4050-9be9-b4588bfa7733",
   "metadata": {},
   "outputs": [],
   "source": [
    "data_val_orig_norm[['corrected_isfdraft','theta_in','salinity_in','melt_m_ice_per_y']]"
   ]
  },
  {
   "cell_type": "code",
   "execution_count": null,
   "id": "15f8a325-56b7-4f03-bfe5-936f50046c24",
   "metadata": {},
   "outputs": [],
   "source": []
  }
 ],
 "metadata": {
  "kernelspec": {
   "display_name": "neuralnet",
   "language": "python",
   "name": "neuralnet"
  },
  "language_info": {
   "codemirror_mode": {
    "name": "ipython",
    "version": 3
   },
   "file_extension": ".py",
   "mimetype": "text/x-python",
   "name": "python",
   "nbconvert_exporter": "python",
   "pygments_lexer": "ipython3",
   "version": "3.9.4"
  }
 },
 "nbformat": 4,
 "nbformat_minor": 5
}
