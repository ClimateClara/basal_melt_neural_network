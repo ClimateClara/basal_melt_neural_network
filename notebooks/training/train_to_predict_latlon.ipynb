{
 "cells": [
  {
   "cell_type": "code",
   "execution_count": null,
   "id": "610056d1-c9a5-4d36-a7bf-81701e4b0dc5",
   "metadata": {},
   "outputs": [],
   "source": [
    "\"\"\"\n",
    "Created on Fri Oct 21 16:58 2022\n",
    "\n",
    "Look if with training I can match exactly latlon\n",
    "\n",
    "Author: Clara Burgard\n",
    "\"\"\""
   ]
  },
  {
   "cell_type": "code",
   "execution_count": null,
   "id": "919eb0d8-b9f6-4e73-b789-fe4bdfdf0cf5",
   "metadata": {},
   "outputs": [],
   "source": [
    "import numpy as np\n",
    "import xarray as xr\n",
    "import pandas as pd\n",
    "from tqdm.notebook import trange, tqdm\n",
    "import glob\n",
    "import datetime\n",
    "import time\n",
    "import sys\n",
    "\n",
    "import tensorflow as tf\n",
    "from tensorflow import keras\n",
    "import basal_melt_neural_networks.model_functions as modf\n",
    "import basal_melt_neural_networks.prep_input_data as indat"
   ]
  },
  {
   "cell_type": "code",
   "execution_count": null,
   "id": "2343ebbe-d4c2-4374-a5d8-6aef471bbf72",
   "metadata": {},
   "outputs": [],
   "source": [
    "######### READ IN OPTIONS\n",
    "\n",
    "mod_size = 'medium' #'mini', 'small', 'medium', 'large', 'extra_large'\n",
    "tblock_out = 1\n",
    "isf_out = 0\n",
    "TS_opt = 'extrap' # extrap, whole, thermocline\n",
    "norm_method = 'std' # std, interquart, minmax"
   ]
  },
  {
   "cell_type": "code",
   "execution_count": null,
   "id": "337d6ccd-6d61-4a71-9e1b-c4c111839ba8",
   "metadata": {},
   "outputs": [],
   "source": [
    "######### READ IN DATA\n",
    "\n",
    "inputpath_data = '/bettik/burgardc/DATA/NN_PARAM/interim/INPUT_DATA/'\n",
    "outputpath_nn_models = '/bettik/burgardc/DATA/NN_PARAM/interim/NN_MODELS/'\n",
    "outputpath_doc = '/bettik/burgardc/SCRIPTS/basal_melt_neural_networks/custom_doc/'\n",
    "\n",
    "tblock_dim = range(1,14)\n",
    "isf_dim = [10,11,12,13,18,22,23,24,25,30,31,33,38,39,40,42,43,44,45,47,48,51,52,53,54,55,58,61,65,66,69,70,71,73,75]\n",
    "\n",
    "if (tblock_out > 0) and (isf_out == 0):\n",
    "    path_model = outputpath_nn_models+'CV_TBLOCK/'\n",
    "    \n",
    "elif (isf_out > 0) and (tblock_out == 0):\n",
    "    path_model = outputpath_nn_models+'CV_ISF/'\n",
    "    \n",
    "else:\n",
    "    print(\"I do not know what to do with both tblock and isf left out! \")\n",
    "\n",
    "#new_path_doc = outputpath_doc+timetag+'/'\n",
    "#if not os.path.isdir(new_path_doc):\n",
    "#    print(\"I did not find this folder (\"+timetag+\") in doc folder! :( \")\n",
    "\n",
    "inputpath_CVinput = inputpath_data+'EXTRAPOLATED_ISFDRAFT_CHUNKS_CV/'\n",
    "    \n",
    "input_data_train_norm = xr.open_dataset(inputpath_CVinput + 'train_data_CV_noisf'+str(isf_out).zfill(3)+'_notblock'+str(tblock_out).zfill(3)+'.nc')\n",
    "input_data_val_norm = xr.open_dataset(inputpath_CVinput + 'val_data_CV_noisf'+str(isf_out).zfill(3)+'_notblock'+str(tblock_out).zfill(3)+'.nc') \n",
    "latlon_train_norm = xr.open_dataset(inputpath_CVinput + 'trainlatlon_data_CV_noisf'+str(isf_out).zfill(3)+'_notblock'+str(tblock_out).zfill(3)+'.nc')\n",
    "latlon_val_norm = xr.open_dataset(inputpath_CVinput + 'vallatlon_data_CV_noisf'+str(isf_out).zfill(3)+'_notblock'+str(tblock_out).zfill(3)+'.nc')"
   ]
  },
  {
   "cell_type": "code",
   "execution_count": null,
   "id": "acd03ed8-67c5-49be-8e8e-2ebc9aba1bcf",
   "metadata": {},
   "outputs": [],
   "source": [
    "## prepare input and target\n",
    "\n",
    "x_train_norm = input_data_train_norm.drop_vars(['melt_m_ice_per_y','theta_in','salinity_in']).sel(norm_method=norm_method).to_array().load()\n",
    "y_train_norm = latlon_train_norm.drop_vars(['salinity_in']).sel(norm_method=norm_method).to_array().load()\n",
    "\n",
    "x_val_norm = input_data_val_norm.drop_vars(['melt_m_ice_per_y','theta_in','salinity_in']).sel(norm_method=norm_method).to_array().load()\n",
    "y_val_norm = latlon_val_norm.drop_vars(['salinity_in']).sel(norm_method=norm_method).to_array().load()"
   ]
  },
  {
   "cell_type": "code",
   "execution_count": null,
   "id": "eb1c871d-dc92-4e8c-bdf1-9fcaf89993af",
   "metadata": {},
   "outputs": [],
   "source": [
    "######### TRAIN THE MODEL\n",
    "\n",
    "input_size = x_train_norm.values.shape[0]\n",
    "activ_fct = 'relu' #LeakyReLU\n",
    "epoch_nb = 100\n",
    "batch_siz = 512\n",
    "\n",
    "model = modf.get_model(mod_size, input_size, activ_fct, 2)\n",
    "\n",
    "\n",
    "reduce_lr = tf.keras.callbacks.ReduceLROnPlateau(monitor='val_loss', factor=0.5,\n",
    "                              patience=3, min_lr=0.0000001, min_delta=0.0005) #, min_delta=0.1\n",
    "            \n",
    "early_stop = tf.keras.callbacks.EarlyStopping(\n",
    "    monitor=\"val_loss\",\n",
    "    #min_delta=0.000001,\n",
    "    patience=10,\n",
    "    verbose=0,\n",
    "    mode=\"auto\",\n",
    "    baseline=None,\n",
    "    restore_best_weights=True,\n",
    ")\n",
    "\n",
    "time_start = time.time()\n",
    "time_start0 = datetime.datetime.now()\n",
    "print(time_start0)\n",
    "\n",
    "history = model.fit(x_train_norm.T.values,\n",
    "                    y_train_norm.T.values,\n",
    "                    epochs          = epoch_nb,\n",
    "                    batch_size      = batch_siz,\n",
    "                    validation_data = (x_val_norm.T.values, y_val_norm.T.values),\n",
    "                   callbacks=[reduce_lr, early_stop])\n",
    "time_end = time.time()\n",
    "timelength = time_end - time_start\n",
    "\n",
    "time_end0 = datetime.datetime.now()\n",
    "print(time_end0)"
   ]
  },
  {
   "cell_type": "code",
   "execution_count": null,
   "id": "c3cd59b8-513f-4ac3-be56-4da7361a6f54",
   "metadata": {},
   "outputs": [],
   "source": [
    "model.save(path_model + 'model_medium_latlon.h5')\n"
   ]
  },
  {
   "cell_type": "code",
   "execution_count": null,
   "id": "8cb98e00-db84-41eb-9464-00edae86f2f3",
   "metadata": {},
   "outputs": [],
   "source": [
    "y_out_norm = model.predict(x_val_norm.T.values)\n",
    "y_out_norm_xr = xr.DataArray(data=y_out_norm.squeeze()).rename({'dim_0': 'index'})\n",
    "y_out_norm_xr = y_out_norm_xr.assign_coords({'index': x_val_norm.index})\n",
    "\n",
    "norm_metrics_file = xr.open_dataset(inputpath_CVinput + 'metricslatlon_norm_CV_noisf'+str(isf_out).zfill(3)+'_notblock'+str(tblock_out).zfill(3)+'.nc')\n",
    "norm_metrics = norm_metrics_file.sel(norm_method=norm_method).drop('norm_method').to_dataframe()\n",
    "\n",
    "# denormalise the output\n",
    "y_out = pp.denormalise_vars(y_out_norm_xr, \n",
    "                         norm_metrics['latitude','longitude'].loc['mean_vars'],\n",
    "                         norm_metrics['latitude','longitude'].loc['range_vars'])"
   ]
  },
  {
   "cell_type": "code",
   "execution_count": null,
   "id": "0da011c0-f54c-4e7e-aa64-a5cb67ad3eea",
   "metadata": {},
   "outputs": [],
   "source": [
    "y_out_pd_s = pd.Series(y_out.values,index=df_nrun.index,name='predicted_melt') \n",
    "y_target_pd_s = pd.Series(df_nrun['melt_m_ice_per_y'].values,index=df_nrun.index,name='reference_melt') \n",
    "\n",
    "# put some order in the file\n",
    "y_out_xr = y_out_pd_s.to_xarray()\n",
    "y_target_xr = y_target_pd_s.to_xarray()\n",
    "y_to_compare = xr.merge([y_out_xr.T, y_target_xr.T]).sortby('y')"
   ]
  }
 ],
 "metadata": {
  "kernelspec": {
   "display_name": "neuralnet",
   "language": "python",
   "name": "neuralnet"
  },
  "language_info": {
   "codemirror_mode": {
    "name": "ipython",
    "version": 3
   },
   "file_extension": ".py",
   "mimetype": "text/x-python",
   "name": "python",
   "nbconvert_exporter": "python",
   "pygments_lexer": "ipython3",
   "version": "3.9.4"
  }
 },
 "nbformat": 4,
 "nbformat_minor": 5
}
