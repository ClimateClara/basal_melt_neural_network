{
 "cells": [
  {
   "cell_type": "code",
   "execution_count": null,
   "id": "876ad69a-2947-4f9b-8b9a-2d8d9bcbf773",
   "metadata": {},
   "outputs": [],
   "source": [
    "\"\"\"\n",
    "Created on Thu Sep 08 17:24 2022\n",
    "\n",
    "Check out learning history for test runs\n",
    "\n",
    "Author: Clara Burgard\n",
    "\"\"\""
   ]
  },
  {
   "cell_type": "code",
   "execution_count": null,
   "id": "5f09b71d-9d49-4ead-bb78-b50fb220c95b",
   "metadata": {},
   "outputs": [],
   "source": [
    "import pandas as pd\n",
    "import xarray as xr"
   ]
  },
  {
   "cell_type": "code",
   "execution_count": null,
   "id": "de97c2e8-9c57-4abc-a13c-41803b5330ad",
   "metadata": {},
   "outputs": [],
   "source": [
    "outputpath_nn_models = '/bettik/burgardc/DATA/NN_PARAM/interim/NN_MODELS/'"
   ]
  },
  {
   "cell_type": "code",
   "execution_count": null,
   "id": "a741cc91-dd99-49f0-9ba1-efca0658bdda",
   "metadata": {},
   "outputs": [],
   "source": [
    "tblock_dim = range(1,14)\n",
    "isf_dim = [10,11,12,13,18,22,23,24,25,30,31,33,38,39,40,42,43,44,45,47,48,51,52,53,54,55,58,61,65,66,69,70,71,73,75]\n",
    "mod_size = 'mini'\n",
    "norm_method = 'std'"
   ]
  },
  {
   "cell_type": "code",
   "execution_count": null,
   "id": "1ccc3d4d-c764-4da7-b9b4-0bcf4be6b334",
   "metadata": {},
   "outputs": [],
   "source": [
    "TS_opt = 'extrap'\n",
    "hist_list_extrap = []\n",
    "for tblock_out in tblock_dim:\n",
    "    \n",
    "    isf_out = 0\n",
    "    \n",
    "    if (tblock_out > 0) and (isf_out == 0):\n",
    "        path_model = outputpath_nn_models+'CV_TBLOCK/'\n",
    "\n",
    "    elif (isf_out > 0) and (tblock_out == 0):\n",
    "        path_model = outputpath_nn_models+'CV_ISF/'\n",
    "\n",
    "    hist_csv_file = path_model + 'history_'+mod_size+'_noisf'+str(isf_out).zfill(3)+'_notblock'+str(tblock_out).zfill(3)+'_TS'+TS_opt+'_norm'+norm_method+'.csv'\n",
    "    hist_file = pd.read_csv(hist_csv_file)\n",
    "    hist_list_extrap.append(hist_file)\n"
   ]
  },
  {
   "cell_type": "code",
   "execution_count": null,
   "id": "90b11401-517b-436b-8506-9e63a1a79b74",
   "metadata": {},
   "outputs": [],
   "source": [
    "TS_opt = 'whole'\n",
    "hist_list_whole = []\n",
    "for tblock_out in tblock_dim:\n",
    "    \n",
    "    isf_out = 0\n",
    "    \n",
    "    if (tblock_out > 0) and (isf_out == 0):\n",
    "        path_model = outputpath_nn_models+'CV_TBLOCK/'\n",
    "\n",
    "    elif (isf_out > 0) and (tblock_out == 0):\n",
    "        path_model = outputpath_nn_models+'CV_ISF/'\n",
    "\n",
    "    hist_csv_file = path_model + 'history_'+mod_size+'_noisf'+str(isf_out).zfill(3)+'_notblock'+str(tblock_out).zfill(3)+'_TS'+TS_opt+'_norm'+norm_method+'.csv'\n",
    "    hist_file = pd.read_csv(hist_csv_file)\n",
    "    hist_list_whole.append(hist_file)\n"
   ]
  },
  {
   "cell_type": "code",
   "execution_count": null,
   "id": "2dee8479-be33-4f40-bc26-c479c1798b2a",
   "metadata": {},
   "outputs": [],
   "source": [
    "for hh, hfile in enumerate(hist_list):\n",
    "    plt.figure()\n",
    "    hfile['loss'].plot(label='train_loss_extrap')\n",
    "    hfile['val_loss'].plot(label='val_loss_extrap')\n",
    "    hist_list_whole[hh]['loss'].plot(label='train_loss_whole')\n",
    "    hist_list_whole[hh]['val_loss'].plot(label='val_loss_whole')\n",
    "    plt.legend()  \n",
    "    plt.title(tblock_dim[hh])"
   ]
  },
  {
   "cell_type": "code",
   "execution_count": null,
   "id": "73bb8df2-26db-49ef-8e3f-cf0a2dae3db2",
   "metadata": {},
   "outputs": [],
   "source": [
    "hist_file['loss'].plot(label='train_loss')\n",
    "hist_file['val_loss'].plot(label='val_loss')\n",
    "plt.legend()\n"
   ]
  },
  {
   "cell_type": "code",
   "execution_count": null,
   "id": "84164661-028e-4ab2-bf1c-69b0c325bd31",
   "metadata": {},
   "outputs": [],
   "source": [
    "hist_file['lr'].plot()"
   ]
  },
  {
   "cell_type": "code",
   "execution_count": null,
   "id": "63e40208-bb8f-4427-8a46-6c5ac9d1ecb2",
   "metadata": {},
   "outputs": [],
   "source": []
  }
 ],
 "metadata": {
  "kernelspec": {
   "display_name": "neuralnet",
   "language": "python",
   "name": "neuralnet"
  },
  "language_info": {
   "codemirror_mode": {
    "name": "ipython",
    "version": 3
   },
   "file_extension": ".py",
   "mimetype": "text/x-python",
   "name": "python",
   "nbconvert_exporter": "python",
   "pygments_lexer": "ipython3",
   "version": "3.9.4"
  }
 },
 "nbformat": 4,
 "nbformat_minor": 5
}
