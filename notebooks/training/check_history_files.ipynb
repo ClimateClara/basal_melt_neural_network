{
 "cells": [
  {
   "cell_type": "code",
   "execution_count": null,
   "id": "876ad69a-2947-4f9b-8b9a-2d8d9bcbf773",
   "metadata": {},
   "outputs": [],
   "source": [
    "\"\"\"\n",
    "Created on Thu Sep 08 17:24 2022\n",
    "\n",
    "Check out learning history for test runs\n",
    "\n",
    "Author: Clara Burgard\n",
    "\"\"\""
   ]
  },
  {
   "cell_type": "code",
   "execution_count": null,
   "id": "5f09b71d-9d49-4ead-bb78-b50fb220c95b",
   "metadata": {},
   "outputs": [],
   "source": [
    "import pandas as pd"
   ]
  },
  {
   "cell_type": "code",
   "execution_count": null,
   "id": "1ccc3d4d-c764-4da7-b9b4-0bcf4be6b334",
   "metadata": {},
   "outputs": [],
   "source": [
    "hist_csv_file = '/bettik/burgardc/DATA/NN_PARAM/interim/INPUT_DATA/TEMPORARY/history_test.csv'\n",
    "hist_file = pd.read_csv(hist_csv_file)"
   ]
  },
  {
   "cell_type": "code",
   "execution_count": null,
   "id": "73bb8df2-26db-49ef-8e3f-cf0a2dae3db2",
   "metadata": {},
   "outputs": [],
   "source": [
    "hist_file['loss'].plot(label='train_loss')\n",
    "hist_file['val_loss'].plot(label='val_loss')\n",
    "plt.legend()\n"
   ]
  },
  {
   "cell_type": "code",
   "execution_count": null,
   "id": "84164661-028e-4ab2-bf1c-69b0c325bd31",
   "metadata": {},
   "outputs": [],
   "source": [
    "hist_file['lr'].plot()"
   ]
  },
  {
   "cell_type": "code",
   "execution_count": null,
   "id": "63e40208-bb8f-4427-8a46-6c5ac9d1ecb2",
   "metadata": {},
   "outputs": [],
   "source": []
  }
 ],
 "metadata": {
  "kernelspec": {
   "display_name": "neuralnet",
   "language": "python",
   "name": "neuralnet"
  },
  "language_info": {
   "codemirror_mode": {
    "name": "ipython",
    "version": 3
   },
   "file_extension": ".py",
   "mimetype": "text/x-python",
   "name": "python",
   "nbconvert_exporter": "python",
   "pygments_lexer": "ipython3",
   "version": "3.9.4"
  }
 },
 "nbformat": 4,
 "nbformat_minor": 5
}
