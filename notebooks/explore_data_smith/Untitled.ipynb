{
 "cells": [
  {
   "cell_type": "code",
   "execution_count": null,
   "id": "8a2cfa8f-31b8-4cf2-b248-fbefd5480f15",
   "metadata": {},
   "outputs": [],
   "source": [
    "\"\"\"\n",
    "Have a look at the files from Robin Smith\n",
    "\n",
    "Author: Clara Burgard\n",
    "\"\"\""
   ]
  },
  {
   "cell_type": "code",
   "execution_count": null,
   "id": "d0cc7bea-0f22-4f25-992c-639cb410b0d6",
   "metadata": {},
   "outputs": [],
   "source": [
    "import xarray as xr\n",
    "import basal_melt_param.useful_functions as uf"
   ]
  },
  {
   "cell_type": "code",
   "execution_count": null,
   "id": "dea4ca72-e6cb-4ae1-89fd-5f3e6eb2a957",
   "metadata": {},
   "outputs": [],
   "source": [
    "inputpath_data = '/bettik/burgardc/DATA/NN_PARAM/raw/SMITH_DATA/'"
   ]
  },
  {
   "cell_type": "code",
   "execution_count": null,
   "id": "c7df700f-51e2-4742-aaf7-c9db5f8edbd2",
   "metadata": {},
   "outputs": [],
   "source": [
    "grid_T_data = xr.open_dataset(inputpath_data + 'bf663_1y_grid-T-y300tMX_ANNAVG.nc')"
   ]
  },
  {
   "cell_type": "code",
   "execution_count": null,
   "id": "c98dfb85-2df6-4a22-8a73-054367ec82b3",
   "metadata": {},
   "outputs": [],
   "source": [
    "grid_T_data['thetao'].isel(deptht=0,time_counter=0).plot()"
   ]
  },
  {
   "cell_type": "code",
   "execution_count": null,
   "id": "db3363a4-3918-4549-9001-a82add5f227c",
   "metadata": {},
   "outputs": [],
   "source": [
    "grid_T_data.nav_lat.max()"
   ]
  },
  {
   "cell_type": "code",
   "execution_count": null,
   "id": "2a920e8f-08ac-46e6-8088-9322c63119ee",
   "metadata": {},
   "outputs": [],
   "source": [
    "nemo_run='OPM006'\n",
    "inputpath_data_other='/bettik/burgardc/SCRIPTS/basal_melt_param/data/interim/NEMO_eORCA025.L121_'+nemo_run+'_ANT_STEREO/'\n",
    "file_mask_orig = xr.open_dataset(inputpath_data_other+'variables_of_interest_1980_Ant.nc')"
   ]
  },
  {
   "cell_type": "code",
   "execution_count": null,
   "id": "c39663d3-81d9-45e7-b478-f6d7f287ab3c",
   "metadata": {},
   "outputs": [],
   "source": [
    "file_mask_orig.lat.max()"
   ]
  },
  {
   "cell_type": "code",
   "execution_count": null,
   "id": "ab43ea24-ef80-4181-9352-9f2faa51a8e6",
   "metadata": {},
   "outputs": [],
   "source": []
  }
 ],
 "metadata": {
  "kernelspec": {
   "display_name": "py38",
   "language": "python",
   "name": "py38"
  },
  "language_info": {
   "codemirror_mode": {
    "name": "ipython",
    "version": 3
   },
   "file_extension": ".py",
   "mimetype": "text/x-python",
   "name": "python",
   "nbconvert_exporter": "python",
   "pygments_lexer": "ipython3",
   "version": "3.8.12"
  }
 },
 "nbformat": 4,
 "nbformat_minor": 5
}
