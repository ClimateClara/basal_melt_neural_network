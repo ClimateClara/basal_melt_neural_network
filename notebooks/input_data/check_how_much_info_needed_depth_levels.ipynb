{
 "cells": [
  {
   "cell_type": "code",
   "execution_count": null,
   "id": "d3583510-f584-4543-9c95-18a707cd5d4b",
   "metadata": {},
   "outputs": [],
   "source": [
    "\"\"\"\n",
    "Created on Tue Jul 05 14:17 2022\n",
    "\n",
    "Prepare csv with whole vertical profiles in chunks\n",
    "\n",
    "Author: @claraburgard\n",
    "\"\"\""
   ]
  },
  {
   "cell_type": "markdown",
   "id": "5f3c0584-3a9a-424e-a0f0-c5630eee10c6",
   "metadata": {},
   "source": [
    "FOR EACH POINT:\n",
    "- T and S profiles at each point\n",
    "- Distance to front\n",
    "- Distance to the grounding line\n",
    "- ice draft zonal and meridional slope in x- and y-direction\n",
    "- bedrock zonal and meridional slope in x- and y-direction\n",
    "- Ice draft depth\n",
    "- Bathymetry\n",
    "- utide\n",
    "- Ice draft concentration\n",
    "- Max bathymetry \n",
    "- Target: melt m ice per yr"
   ]
  },
  {
   "cell_type": "code",
   "execution_count": null,
   "id": "6a60f5de-bf69-4a60-ac95-59a63847b320",
   "metadata": {},
   "outputs": [],
   "source": [
    "import numpy as np\n",
    "import xarray as xr\n",
    "import pandas as pd\n",
    "from tqdm.notebook import trange, tqdm\n",
    "import basal_melt_neural_networks.data_formatting as dfmt"
   ]
  },
  {
   "cell_type": "code",
   "execution_count": null,
   "id": "f66310ab-fe38-4dfe-b0e3-50485359889e",
   "metadata": {},
   "outputs": [],
   "source": [
    "%matplotlib qt5"
   ]
  },
  {
   "cell_type": "markdown",
   "id": "f8a9e7d1-c559-448a-8434-3b643030f529",
   "metadata": {},
   "source": [
    "READ IN DATA"
   ]
  },
  {
   "cell_type": "code",
   "execution_count": null,
   "id": "948a373b-c36b-434a-bdc3-fdcb490aff41",
   "metadata": {},
   "outputs": [],
   "source": [
    "nemo_run0 = 'OPM016'\n",
    "\n",
    "if nemo_run0 == 'OPM031-1' or nemo_run0 ==  'OPM031-2':\n",
    "    nemo_run = 'OPM031'\n",
    "else:\n",
    "    nemo_run = nemo_run0\n",
    "    "
   ]
  },
  {
   "cell_type": "code",
   "execution_count": null,
   "id": "9002f0ba-ba08-4db0-b072-1307a05030f4",
   "metadata": {},
   "outputs": [],
   "source": [
    "inputpath_data='/bettik/burgardc/SCRIPTS/basal_melt_param/data/interim/NEMO_eORCA025.L121_'+nemo_run+'_ANT_STEREO/'\n",
    "inputpath_mask = '/bettik/burgardc/SCRIPTS/basal_melt_param/data/interim/ANTARCTICA_IS_MASKS/nemo_5km_'+nemo_run+'/'\n",
    "inputpath_profiles = '/bettik/burgardc/SCRIPTS/basal_melt_param/data/interim/T_S_PROF/nemo_5km_'+nemo_run+'/'\n",
    "inputpath_plumes = '/bettik/burgardc/SCRIPTS/basal_melt_param/data/interim/PLUMES/nemo_5km_'+nemo_run+'/'\n",
    "inputpath_boxes = '/bettik/burgardc/SCRIPTS/basal_melt_param/data/interim/BOXES/nemo_5km_'+nemo_run+'/'\n",
    "outputpath_melt = '/bettik/burgardc/SCRIPTS/basal_melt_param/data/processed/MELT_RATE/nemo_5km_'+nemo_run+'/'\n",
    "outputpath_nn = '/bettik/burgardc/DATA/NN_PARAM/interim/INPUT_DATA/WHOLE_PROF_CHUNKS/'\n",
    "inputpath_info = '/bettik/burgardc/DATA/NN_PARAM/interim/INPUT_DATA/EXTRAPOLATED_ISFDRAFT_CHUNKS/'\n",
    "inputpath_tides = '/bettik/burgardc/DATA/BASAL_MELT_PARAM/interim/TIDES/'"
   ]
  },
  {
   "cell_type": "markdown",
   "id": "1415af73-a87c-43e0-9bea-cc2a00620b87",
   "metadata": {},
   "source": [
    "Input variables"
   ]
  },
  {
   "cell_type": "code",
   "execution_count": null,
   "id": "c770f032-ad7b-4dcd-af51-291720dd8c91",
   "metadata": {},
   "outputs": [],
   "source": [
    "# make the domain a little smaller to make the computation even more efficient - file isf has already been made smaller at its creation\n",
    "map_lim = [-3000000,3000000]\n",
    "\n",
    "chunk_size = 300"
   ]
  },
  {
   "cell_type": "code",
   "execution_count": null,
   "id": "41d10c91-7478-40d1-a696-cbd66750a910",
   "metadata": {},
   "outputs": [],
   "source": [
    "file_isf_orig = xr.open_dataset(inputpath_mask+'nemo_5km_isf_masks_and_info_and_distance_new_oneFRIS.nc')\n",
    "nonnan_Nisf = file_isf_orig['Nisf'].where(np.isfinite(file_isf_orig['front_bot_depth_max']), drop=True).astype(int)\n",
    "file_isf_nonnan = file_isf_orig.sel(Nisf=nonnan_Nisf)\n",
    "large_isf = file_isf_nonnan['Nisf'].where(file_isf_nonnan['isf_area_here'] >= 2500, drop=True)\n",
    "file_isf = file_isf_nonnan.sel(Nisf=large_isf)"
   ]
  },
  {
   "cell_type": "code",
   "execution_count": null,
   "id": "5fea8438-17cb-4f42-af64-e65f56e3341a",
   "metadata": {},
   "outputs": [],
   "source": [
    "file_TS_orig = xr.open_dataset(inputpath_profiles+'T_S_mean_prof_corrected_km_contshelf_and_offshore_1980-2018_oneFRIS.nc')\n",
    "file_TS = file_TS_orig.sel(Nisf=large_isf)\n",
    "file_TS_dom = file_TS.sel(profile_domain=50).drop('profile_domain')"
   ]
  },
  {
   "cell_type": "code",
   "execution_count": null,
   "id": "c5c56879-bfd7-4ffe-bfed-3c987587f552",
   "metadata": {},
   "outputs": [],
   "source": [
    "file_TS_cut_bot = file_TS_dom.dropna('depth', how='all')\n",
    "file_TS_cut_top_bot = xr.concat([file_TS_cut_bot.isel(depth=0),file_TS_cut_bot.where(file_TS_dom.depth >= 100, drop=True)], dim='depth')"
   ]
  },
  {
   "cell_type": "code",
   "execution_count": null,
   "id": "50068b1a-00e1-4e9c-bc93-214172290126",
   "metadata": {},
   "outputs": [],
   "source": [
    "plt.scatter(range(68),file_TS_cut_top_bot.depth)"
   ]
  },
  {
   "cell_type": "code",
   "execution_count": null,
   "id": "aa460a9a-12b9-45c1-8ad9-ac7e990237f3",
   "metadata": {},
   "outputs": [],
   "source": [
    "file_TS_cut_top_bot.depth - file_TS_cut_top_bot.depth.shift(depth=1)"
   ]
  },
  {
   "cell_type": "code",
   "execution_count": null,
   "id": "fcdbfaec-8cb9-4fd3-bb1d-f6ee9a44bad7",
   "metadata": {},
   "outputs": [],
   "source": [
    "map_lim = [-3000000,3000000]\n",
    "file_mask_orig = xr.open_dataset(inputpath_data+'other_mask_vars_Ant_stereo.nc')\n",
    "file_mask_orig_cut = dfmt.cut_domain_stereo(file_mask_orig, map_lim, map_lim)\n",
    "file_other = xr.open_dataset(inputpath_data+'corrected_draft_bathy_isf.nc')#, chunks={'x': chunk_size, 'y': chunk_size})\n",
    "file_other_cut = dfmt.cut_domain_stereo(file_other, map_lim, map_lim)\n",
    "file_conc = xr.open_dataset(inputpath_data+'isfdraft_conc_Ant_stereo.nc')\n",
    "file_conc_cut = dfmt.cut_domain_stereo(file_conc, map_lim, map_lim)"
   ]
  },
  {
   "cell_type": "code",
   "execution_count": null,
   "id": "1a3dc398-695c-475b-9efa-bd8d75890411",
   "metadata": {},
   "outputs": [],
   "source": [
    "# bathymetry, ice draft, concentration\n",
    "file_bed_orig = file_mask_orig_cut['bathy_metry']\n",
    "file_bed_corr = file_other_cut['corrected_isf_bathy']\n",
    "file_draft = file_other_cut['corrected_isfdraft'] \n",
    "file_bed_goodGL = file_bed_orig.where(file_draft < file_bed_orig,file_bed_corr)\n",
    "file_isf_conc = file_conc_cut['isfdraft_conc']"
   ]
  },
  {
   "cell_type": "code",
   "execution_count": null,
   "id": "c5c6b3a2-e5b2-4e96-b086-cebe0fca4bdf",
   "metadata": {},
   "outputs": [],
   "source": [
    "file_slope = xr.open_dataset(inputpath_mask+'nemo_5km_slope_info_bedrock_draft_latlon_oneFRIS.nc')"
   ]
  },
  {
   "cell_type": "code",
   "execution_count": null,
   "id": "9eef5ce0-a676-4d4e-9755-c2056cd9b381",
   "metadata": {},
   "outputs": [],
   "source": [
    "utide_file = xr.open_dataset(inputpath_tides + 'tidal_velocity_nemo_Ant_stereo.nc').rename({'ttv':'u_tide'})\n",
    "u_tide = dfmt.cut_domain_stereo(utide_file['u_tide'], map_lim, map_lim)"
   ]
  },
  {
   "cell_type": "markdown",
   "id": "5251cfb1-ad3d-4bfe-ba28-5c4ed7e79abb",
   "metadata": {},
   "source": [
    "Target"
   ]
  },
  {
   "cell_type": "code",
   "execution_count": null,
   "id": "b08cccec-0236-4527-bb96-a458177dedae",
   "metadata": {},
   "outputs": [],
   "source": [
    "if nemo_run == 'OPM031-2':\n",
    "    NEMO_melt_rates_2D = xr.open_mfdataset(outputpath_melt+'melt_rates_2D_NEMO.nc').isel(time=range(30,70))\n",
    "elif nemo_run == 'OPM031-1':\n",
    "    NEMO_melt_rates_2D = xr.open_mfdataset(outputpath_melt+'melt_rates_2D_NEMO.nc').isel(time=range(30))\n",
    "else:\n",
    "    NEMO_melt_rates_2D = xr.open_mfdataset(outputpath_melt+'melt_rates_2D_NEMO.nc')\n",
    "\n",
    "melt_rate = NEMO_melt_rates_2D['melt_m_ice_per_y']"
   ]
  },
  {
   "cell_type": "markdown",
   "id": "7e1bba8a-ec02-4f92-a31c-3e710a4b6ea1",
   "metadata": {},
   "source": [
    "PREPARE ONE DATASET WITH EVERYTHING (EXCEPT T AND S)"
   ]
  },
  {
   "cell_type": "code",
   "execution_count": null,
   "id": "2bbadfd9-d656-4586-92ef-6d5ffd0a8056",
   "metadata": {},
   "outputs": [],
   "source": [
    "geometry_2D = file_isf[['dGL', 'dIF']].merge(file_draft).merge(file_bed_goodGL).merge(file_slope).merge(file_isf_conc).merge(u_tide) \n",
    "geometry_2D['dIF'] = geometry_2D['dIF'].where(np.isfinite(geometry_2D['dIF']), np.nan)\n",
    "#time_dpdt_in = T_S_2D_isfdraft.transpose('time','y','x').merge(melt_rate)"
   ]
  },
  {
   "cell_type": "markdown",
   "id": "9fb28ded-0914-4d0b-be3b-49b5f71f2077",
   "metadata": {},
   "source": [
    "PREPARE CLEAN DATAFRAME WITH ALL DATA FOR EACH ICE SHELF (T AND S INCLUDED)"
   ]
  },
  {
   "cell_type": "code",
   "execution_count": null,
   "id": "220f27e9-6b02-4fa5-a5e5-416cf7660065",
   "metadata": {},
   "outputs": [],
   "source": [
    "chunk_info = pd.read_csv(inputpath_info+'info_chunks.txt',header=None,index_col=0)\n",
    "chunk_info.rename(columns = {1:'RUN'}, inplace = True)\n",
    "chunk_info.rename(columns = {2:'STARTYY'}, inplace = True)\n",
    "chunk_info.rename(columns = {3:'ENDYY'}, inplace = True)"
   ]
  },
  {
   "cell_type": "code",
   "execution_count": null,
   "id": "ec96b259-a441-4325-8d3f-b82cd6d4944a",
   "metadata": {},
   "outputs": [],
   "source": [
    "run_idx = chunk_info.where(chunk_info['RUN'] == nemo_run).dropna().index.tolist()\n",
    "\n",
    "for kisf in tqdm(file_isf.Nisf):\n",
    "    geometry_2D_isf = geometry_2D.where(file_isf['ISF_mask']==kisf,drop=True).drop('longitude').drop('latitude')\n",
    "    melt_rate_isf = melt_rate.where(file_isf['ISF_mask']==kisf,drop=True)\n",
    "    T_S_2D_isf = xr.open_dataset(inputpath_profiles+'flattened_T_S_profiles_isf'+str(kisf.values).zfill(3)+'.nc').squeeze().transpose('time','y','x').drop('longitude').drop('latitude')\n",
    "    \n",
    "    time_dpdt_in = T_S_2D_isf.merge(melt_rate_isf).drop('longitude').drop('latitude')\n",
    "    geometry_2D_br_isf, time_dpdt_in_br = xr.broadcast(geometry_2D_isf,time_dpdt_in)\n",
    "    final_input_xr_isf = xr.merge([geometry_2D_br_isf, time_dpdt_in_br]).transpose('y','x','time').drop('Nisf')\n",
    "    ds_kisf = final_input_xr_isf\n",
    "    \n",
    "    for chunk_nb_new in run_idx:\n",
    "        \n",
    "        trange = final_input_xr_isf.time.sel(time=range(chunk_info['STARTYY'].loc[chunk_nb_new], chunk_info['ENDYY'].loc[chunk_nb_new]+1))\n",
    "        #print(trange.values)                        \n",
    "        df_kisf = ds_kisf.sel(time=trange).to_dataframe()\n",
    "        clean_df_kisf = df_kisf.dropna()\n",
    "        clean_df_kisf = clean_df_kisf.where(clean_df_kisf['S_003']!=0).dropna()\n",
    "        clean_df_kisf.to_csv(outputpath_nn + 'dataframe_input_isf'+str(kisf.values).zfill(3)+'_'+str(chunk_nb_new).zfill(3)+'.csv')\n",
    "    "
   ]
  },
  {
   "cell_type": "code",
   "execution_count": null,
   "id": "ea624005-e2be-428f-9a68-c30da44b6d6b",
   "metadata": {},
   "outputs": [],
   "source": [
    "kisf = file_isf.Nisf.sel(Nisf=66)\n",
    "T_S_2D_isf = xr.open_dataset(inputpath_profiles+'flattened_T_S_profiles_isf'+str(kisf.values).zfill(3)+'.nc').squeeze().transpose('time','y','x').drop('longitude').drop('latitude')"
   ]
  },
  {
   "cell_type": "code",
   "execution_count": null,
   "id": "23de4493-580f-4c73-bb12-604965f3d223",
   "metadata": {},
   "outputs": [],
   "source": [
    "T_S_2D_isf"
   ]
  },
  {
   "cell_type": "markdown",
   "id": "750be137-b65a-4963-9055-e76f3eb1c483",
   "metadata": {},
   "source": [
    "####################"
   ]
  },
  {
   "cell_type": "code",
   "execution_count": null,
   "id": "e335969e-ad6a-4e5f-a0f1-ad6cfbe2249c",
   "metadata": {},
   "outputs": [],
   "source": [
    "clean_df_kisf"
   ]
  },
  {
   "cell_type": "raw",
   "id": "04c5942a-483f-4879-971c-ca8d994fa078",
   "metadata": {
    "tags": []
   },
   "source": [
    "# remove rows where there are nans\n",
    "clean_df_yy = merged_df.dropna()\n",
    "clean_df_yy = clean_df_yy.where(clean_df_yy['S_003']!=0).dropna()"
   ]
  },
  {
   "cell_type": "code",
   "execution_count": null,
   "id": "b2fc9ed0-7836-47f0-baac-223c5c9d7014",
   "metadata": {},
   "outputs": [],
   "source": [
    "# remove index (time, x, y)\n",
    "clean_df_yy.reset_index(drop=True, inplace=True)"
   ]
  },
  {
   "cell_type": "code",
   "execution_count": null,
   "id": "330f46cc-402c-4aea-91bd-7257989b245e",
   "metadata": {},
   "outputs": [],
   "source": [
    "file_isf.Nisf"
   ]
  },
  {
   "cell_type": "code",
   "execution_count": null,
   "id": "d0b26df5-5941-4047-abd8-b0196c99639b",
   "metadata": {},
   "outputs": [],
   "source": []
  }
 ],
 "metadata": {
  "kernelspec": {
   "display_name": "neuralnet",
   "language": "python",
   "name": "neuralnet"
  },
  "language_info": {
   "codemirror_mode": {
    "name": "ipython",
    "version": 3
   },
   "file_extension": ".py",
   "mimetype": "text/x-python",
   "name": "python",
   "nbconvert_exporter": "python",
   "pygments_lexer": "ipython3",
   "version": "3.9.4"
  }
 },
 "nbformat": 4,
 "nbformat_minor": 5
}
