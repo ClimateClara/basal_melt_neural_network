{
 "cells": [
  {
   "cell_type": "code",
   "execution_count": null,
   "id": "d0202672-a3bf-4584-8d01-8510223ebb50",
   "metadata": {},
   "outputs": [],
   "source": [
    "\"\"\"\n",
    "Created on Mon May 02 11:15 2022\n",
    "\n",
    "Correlation matrix input data\n",
    "\n",
    "Author: @claraburgard\n",
    "\n",
    "\"\"\""
   ]
  },
  {
   "cell_type": "code",
   "execution_count": null,
   "id": "bb270910-70b4-4a74-ad34-59f622acf621",
   "metadata": {},
   "outputs": [],
   "source": [
    "import xarray as xr\n",
    "import numpy as np\n",
    "import pandas as pd\n",
    "from tqdm.notebook import trange, tqdm\n",
    "import seaborn as sns"
   ]
  },
  {
   "cell_type": "code",
   "execution_count": null,
   "id": "c94687a2-8f7f-43c8-a298-eb045033bb72",
   "metadata": {},
   "outputs": [],
   "source": [
    "sns.set_context('paper')"
   ]
  },
  {
   "cell_type": "code",
   "execution_count": null,
   "id": "73a5d42c-98ce-44eb-ba75-2bb579ea595e",
   "metadata": {},
   "outputs": [],
   "source": [
    "%matplotlib qt5"
   ]
  },
  {
   "cell_type": "code",
   "execution_count": null,
   "id": "c39035ef-41ee-4f53-af29-25623eb0994e",
   "metadata": {},
   "outputs": [],
   "source": [
    "inputpath_data = '/bettik/burgardc/DATA/NN_PARAM/interim/INPUT_DATA/'\n",
    "outputpath_nn_models = '/bettik/burgardc/DATA/NN_PARAM/interim/NN_MODELS/'\n",
    "outputpath_doc = '/bettik/burgardc/SCRIPTS/basal_melt_neural_networks/custom_doc/'\n",
    "plot_path = '/bettik/burgardc/PLOTS/NN_plots/input_vars/'"
   ]
  },
  {
   "cell_type": "code",
   "execution_count": null,
   "id": "7a82f7bf-7ed8-439a-ac58-ac90541ce0c6",
   "metadata": {},
   "outputs": [],
   "source": [
    "sorted_isf_all = [11,69,43,12,70,44,58,71,45,30,31,61,73,32,49,18,10,65,51,22,23,66,39,40,75,25,26,42,55]\n",
    "#sorted_isf_all = [32,33,17,49,18,10,65,51,22,23,66,39,40,75,25,26,42,55]"
   ]
  },
  {
   "cell_type": "code",
   "execution_count": null,
   "id": "920a3601-9180-4bca-9d7c-aa85a84187ac",
   "metadata": {},
   "outputs": [],
   "source": [
    "clean_df_kisf = pd.read_csv(outputpath_nn + 'dataframe_input_isf'+str(kisf).zfill(3)+'_'+str(tt)+'_'+nemo_run+'.csv')"
   ]
  },
  {
   "cell_type": "code",
   "execution_count": null,
   "id": "7e2076dd-93f6-4e0c-97a2-e555a6c00c2c",
   "metadata": {},
   "outputs": [],
   "source": [
    "clean_df_kisf"
   ]
  },
  {
   "cell_type": "code",
   "execution_count": null,
   "id": "e33cd981-df12-4ec8-8d5a-64fb66f7378b",
   "metadata": {},
   "outputs": [],
   "source": [
    "for nemo_run in ['bf663']: #'bf663'\n",
    "    \n",
    "    whole_input_df = None\n",
    "    tblock_list = []\n",
    "    isf_list = []\n",
    "    for tt in tqdm(range(1980,1980 + 60)):\n",
    "        \n",
    "        outputpath_nn = '/bettik/burgardc/DATA/NN_PARAM/interim/INPUT_DATA/SMITH_'+nemo_run+'_EXTRAPDRAFT_CHUNKS/'\n",
    "\n",
    "        for kisf in sorted_isf_all:\n",
    "            clean_df_kisf = pd.read_csv(outputpath_nn + 'dataframe_input_isf'+str(kisf).zfill(3)+'_'+str(tt)+'_'+nemo_run+'.csv',index_col=[0,1])\n",
    "            clean_df_kisf.reset_index(drop=True, inplace=True)\n",
    "            if 'Nisf' in clean_df_kisf.columns.values.tolist():\n",
    "                clean_df_kisf = clean_df_kisf.drop(['Nisf'], axis=1)\n",
    "            clean_ds_kisf = clean_df_kisf.to_xarray()\n",
    "            \n",
    "\n",
    "            if whole_input_df is None:\n",
    "                whole_input_df = clean_ds_kisf.copy()\n",
    "                tblock_list = tblock_list + (np.zeros(len(whole_input_df.index)) + tt).astype(int).tolist()\n",
    "                isf_list = isf_list + (np.zeros(len(whole_input_df.index)) + kisf).astype(int).tolist()\n",
    "            else:\n",
    "                new_index = clean_ds_kisf.index.values + whole_input_df.index.max().values+1\n",
    "                clean_ds_kisf = clean_ds_kisf.assign_coords({'index': new_index})\n",
    "                whole_input_df = xr.concat([whole_input_df, clean_ds_kisf], dim='index')\n",
    "                tblock_list = tblock_list + (np.zeros(len(new_index)) + tt).astype(int).tolist()\n",
    "                isf_list = isf_list + (np.zeros(len(new_index)) + kisf).astype(int).tolist()\n",
    "\n",
    "    whole_input_df.to_netcdf(outputpath_nn + 'dataframe_allisf_alltimes.nc')\n",
    "    index_ds = xr.Dataset({'Nisf': (['index'], isf_list), 'tblock': (['index'], tblock_list)}, coords={'index': whole_input_df.index})\n",
    "    index_ds.to_netcdf(outputpath_nn + 'indexing_allisf_alltimes.nc')"
   ]
  },
  {
   "cell_type": "code",
   "execution_count": null,
   "id": "ddbe78a4-2525-4ce3-8e98-42802975a727",
   "metadata": {},
   "outputs": [],
   "source": [
    "kisf"
   ]
  },
  {
   "cell_type": "code",
   "execution_count": null,
   "id": "2786b1ac-b8c0-4062-b56a-dcfc5c53327d",
   "metadata": {},
   "outputs": [],
   "source": [
    "col_list = ['dGL','dIF','corrected_isfdraft','bathy_metry','slope_bed_lon','slope_bed_lat',\n",
    "            'slope_ice_lon','slope_ice_lat','theta_in','salinity_in','T_mean','T_std','S_mean','S_std',\n",
    "                                            'melt_m_ice_per_y']"
   ]
  },
  {
   "cell_type": "code",
   "execution_count": null,
   "id": "f3c29b0b-04d0-49e5-838e-a5f954673793",
   "metadata": {},
   "outputs": [],
   "source": [
    "nemo_run = 'bf663'\n",
    "outputpath_nn = '/bettik/burgardc/DATA/NN_PARAM/interim/INPUT_DATA/SMITH_'+nemo_run+'_EXTRAPDRAFT_CHUNKS/'\n",
    "\n",
    "whole_input_df = xr.open_dataset(outputpath_nn + 'dataframe_allisf_alltimes.nc')"
   ]
  },
  {
   "cell_type": "code",
   "execution_count": null,
   "id": "e9158e90-bf4e-415e-bfe0-08d26a5aba18",
   "metadata": {},
   "outputs": [],
   "source": [
    "df_all = whole_input_df.to_dataframe()"
   ]
  },
  {
   "cell_type": "code",
   "execution_count": null,
   "id": "b5805c0b-1b73-4ffe-b645-ec29959fde02",
   "metadata": {},
   "outputs": [],
   "source": [
    "corr_matrix = df_all[col_list].astype(float).corr()"
   ]
  },
  {
   "cell_type": "code",
   "execution_count": null,
   "id": "2525b00e-ece0-442e-8edc-950eeffc98a0",
   "metadata": {},
   "outputs": [],
   "source": [
    "corr_matrix_round = corr_matrix.round(1)"
   ]
  },
  {
   "cell_type": "code",
   "execution_count": null,
   "id": "b452ad5b-e548-482f-bf08-f598b62191fc",
   "metadata": {},
   "outputs": [],
   "source": [
    "corr_matrix_round"
   ]
  },
  {
   "cell_type": "code",
   "execution_count": null,
   "id": "3f155e53-e2b8-44bc-9729-e7dc7e83bb04",
   "metadata": {},
   "outputs": [],
   "source": [
    "f = plt.figure(figsize=(8.24,8.24))\n",
    "sns.heatmap(corr_matrix_round, annot=True, vmax=1, vmin=-1, center=0, cmap='vlag')\n",
    "f.savefig(plot_path+'cross_correlation_input_'+nemo_run+'.png')"
   ]
  },
  {
   "cell_type": "code",
   "execution_count": null,
   "id": "a42d02d9-7771-48f2-b037-bf05b0c132a8",
   "metadata": {},
   "outputs": [],
   "source": [
    "TS_input\n"
   ]
  },
  {
   "cell_type": "code",
   "execution_count": null,
   "id": "1afb71c5-0a01-460a-88f5-8894d371c98a",
   "metadata": {},
   "outputs": [],
   "source": [
    "input_dataset"
   ]
  },
  {
   "cell_type": "code",
   "execution_count": null,
   "id": "52fd66de-68b6-4dc1-b541-85b7635c3d3c",
   "metadata": {},
   "outputs": [],
   "source": []
  }
 ],
 "metadata": {
  "kernelspec": {
   "display_name": "py38",
   "language": "python",
   "name": "py38"
  },
  "language_info": {
   "codemirror_mode": {
    "name": "ipython",
    "version": 3
   },
   "file_extension": ".py",
   "mimetype": "text/x-python",
   "name": "python",
   "nbconvert_exporter": "python",
   "pygments_lexer": "ipython3",
   "version": "3.8.12"
  }
 },
 "nbformat": 4,
 "nbformat_minor": 5
}
