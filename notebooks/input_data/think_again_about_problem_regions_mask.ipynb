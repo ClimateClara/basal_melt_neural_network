{
 "cells": [
  {
   "cell_type": "code",
   "execution_count": null,
   "id": "3d2cd152-7d51-43c2-9513-a82c90af27ad",
   "metadata": {
    "tags": []
   },
   "outputs": [],
   "source": [
    "\"\"\"\n",
    "Created on Mon March 06 18:36 2023\n",
    "\n",
    "Try to apply script from Rieke from the CryoHackathon to better define the masks, but this time together with Nico's limits\n",
    "\n",
    "@author: Clara Burgard\n",
    "\"\"\""
   ]
  },
  {
   "cell_type": "code",
   "execution_count": null,
   "id": "e3dc0a7f-5e38-4ccb-a750-f4152f4f6fab",
   "metadata": {},
   "outputs": [],
   "source": [
    "import xarray as xr\n",
    "import matplotlib.pyplot as plt\n",
    "import basal_melt_param.useful_functions as uf\n",
    "import matplotlib as mpl\n",
    "from tqdm.notebook import tqdm\n",
    "import basal_melt_param.plume_functions as pf\n",
    "from scipy.interpolate import griddata\n",
    "import basal_melt_param.create_isf_mask_functions as isfmf\n",
    "import cc3d"
   ]
  },
  {
   "cell_type": "code",
   "execution_count": null,
   "id": "8754fd44-3f27-467c-a341-a9949070869c",
   "metadata": {},
   "outputs": [],
   "source": [
    "%matplotlib"
   ]
  },
  {
   "cell_type": "code",
   "execution_count": null,
   "id": "bd4965ba-4bf3-467d-aac5-b158d9c1f7f2",
   "metadata": {},
   "outputs": [],
   "source": [
    "nemo_run = 'bi646'\n",
    "map_lim = [-3000000,3000000]\n"
   ]
  },
  {
   "cell_type": "code",
   "execution_count": null,
   "id": "a896f40a-b0d1-413a-917f-2d02adc6f9f1",
   "metadata": {},
   "outputs": [],
   "source": [
    "outputpath_mask='/bettik/burgardc/DATA/NN_PARAM/interim/ANTARCTICA_IS_MASKS/SMITH_'+nemo_run+'/'\n",
    "inputpath_data='/bettik/burgardc/DATA/NN_PARAM/interim/SMITH_'+nemo_run+'/'\n",
    "inputpath_data2='/bettik/burgardc/DATA/BASAL_MELT_PARAM/interim/NEMO_eORCA025.L121_OPM016_ANT_STEREO/'\n",
    "outputpath_mask_orig='/bettik/burgardc/SCRIPTS/basal_melt_param/data/interim/ANTARCTICA_IS_MASKS/nemo_5km_OPM016/'\n",
    "\n",
    "\n",
    "outputpath_boxes = '/bettik/burgardc/DATA/NN_PARAM/interim/BOXES/SMITH_'+nemo_run+'/'\n",
    "inputpath_raw = '/bettik/burgardc/DATA/NN_PARAM/raw/'"
   ]
  },
  {
   "cell_type": "code",
   "execution_count": null,
   "id": "f79700ef-81e7-4265-897c-d7239f70df06",
   "metadata": {},
   "outputs": [],
   "source": [
    "file_isf = xr.open_dataset(outputpath_mask + 'nemo_5km_isf_masks_and_info_and_distance_oneFRIS_2040.nc')\n"
   ]
  },
  {
   "cell_type": "code",
   "execution_count": null,
   "id": "b8d86aa1-0eeb-4099-9925-1d16cf2f1291",
   "metadata": {},
   "outputs": [],
   "source": [
    "file_isf['ISF_mask'].plot()"
   ]
  },
  {
   "cell_type": "code",
   "execution_count": null,
   "id": "ed3dd90e-8030-483c-b448-21bdcbaf2ea2",
   "metadata": {},
   "outputs": [],
   "source": [
    "file_isf = xr.open_dataset(outputpath_mask + 'nemo_5km_isf_masks_and_info_and_distance_oneFRIS_1970.nc')\n",
    "file_isf_orig = xr.open_dataset(outputpath_mask_orig + 'nemo_5km_isf_masks_and_info_and_distance_new_oneFRIS.nc')\n",
    "\n",
    "\n",
    "file_mask = xr.open_dataset(inputpath_data+'custom_lsmask_Ant_stereo_clean.nc')#, chunks={'x': chunk_size, 'y': chunk_size})\n",
    "file_mask_cut = uf.cut_domain_stereo(file_mask, map_lim, map_lim)\n",
    "\n",
    "file_conc = xr.open_dataset(inputpath_data+'isfdraft_conc_Ant_stereo.nc')\n",
    "file_conc_cut = uf.cut_domain_stereo(file_conc, map_lim, map_lim)"
   ]
  },
  {
   "cell_type": "code",
   "execution_count": null,
   "id": "2f1b8ce4-9858-405b-9dae-4a3c6475f359",
   "metadata": {},
   "outputs": [],
   "source": [
    "def def_isf_mask(arr_def_ismask, file_msk, file_conc, lon, lat, FRIS_one=True, \n",
    "                 mouginot_basins=False, connectivity = 4, threshold = 4):\n",
    "    \n",
    "    \"\"\"\n",
    "    Define a mask for the individual ice shelves. \n",
    "    \n",
    "    This function defines a mask for the individual ice shelves. I think it works for both stereographic and latlon grids but I have not tried the latter.\n",
    "    \n",
    "    Parameters\n",
    "    ----------\n",
    "    arr_def_ismask : np.array\n",
    "        Array containing minlon,maxlon,minlat,maxlat,is_nb or xr.Dataset with drainage basins\n",
    "    file_msk : xr.DataArray\n",
    "        Mask separating ocean (0), ice shelves (between 0 and 2, excluding 0 and 2), grounded ice (2) \n",
    "    file_conc : xr.DataArray\n",
    "        Ice shelf concentration for each point (between 0 and 1)\n",
    "    lon : xr.DataArray\n",
    "        Longitude (depends on x,y for stereographic)\n",
    "    lat : xr.DataArray\n",
    "        Latitude (depends on x,y for stereographic)\n",
    "    FRIS_one : Boolean \n",
    "        If True, Filchner-Ronne are considered as one ice-shelf\n",
    "    mouginot_basins : Boolean \n",
    "        If True, arr_def_ismask\n",
    "    connectivity : int\n",
    "        4 or 8 for 2D, defines what is considered a \"connected\" point\n",
    "    threshold : int\n",
    "        Size of lonely pixel areas to remove\n",
    "        \n",
    "    Returns\n",
    "    -------\n",
    "    new_mask : xr.DataArray\n",
    "        Array showing the coverage of each ice shelf with the respective ID, open ocean is 1, land is 0\n",
    "    \"\"\"    \n",
    "    \n",
    "    if mouginot_basins:\n",
    "        \n",
    "        isf_mask = file_msk.copy()\n",
    "        # only ice shelves\n",
    "        isf_only_mask = file_conc > 0\n",
    "        \n",
    "        #find connected components\n",
    "        dusted = cc3d.dust(isf_only_mask.values.astype(np.int64), \n",
    "                   threshold = threshold, \n",
    "                   connectivity = connectivity, \n",
    "                   in_place = False)\n",
    "        \n",
    "        labels_out = cc3d.connected_components(dusted, \n",
    "                                       connectivity = connectivity)\n",
    "        \n",
    "        labelled = xr.DataArray(labels_out, \n",
    "                        coords = {\"y\": file_conc.y, \"x\": file_conc.x}, \n",
    "                        dims = [\"y\", \"x\"],\n",
    "                        name = \"labels\")\n",
    "        \n",
    "        # assign ID for basins\n",
    "        isf_mask_basins = arr_def_ismask['ID_isf'].where(isf_only_mask > 0)\n",
    "        # cut connected areas to area covered by basin stuff\n",
    "        labelled_isf = labelled.where(np.isfinite(isf_mask_basins))\n",
    "        \n",
    "        # creating the mask\n",
    "        new_mask = isf_mask_basins.copy()\n",
    "        \n",
    "        new_mask = new_mask.where(\n",
    "            new_mask != 58, 57).where(\n",
    "            new_mask != 151, 99).where(\n",
    "            new_mask != 109, 107).where(\n",
    "            new_mask != 116, 5).where(\n",
    "            new_mask != 143, 97).where(\n",
    "            new_mask != 137, 99)\n",
    "        \n",
    "                    \n",
    "        arr_def_ismask['name_isf'].loc[{'Nisf': 57}] = 'Ross'\n",
    "        arr_def_ismask['name_isf'].loc[{'Nisf': 58}] = np.nan\n",
    "        \n",
    "        if FRIS_one:\n",
    "            new_mask = new_mask.where(new_mask != 104, 103)\n",
    "            arr_def_ismask['name_isf'].loc[{'Nisf': 103}] = 'Filchner-Ronne'\n",
    "            arr_def_ismask['name_isf'].loc[{'Nisf': 104}] = np.nan\n",
    "\n",
    "        arr_def_ismask['name_isf'] = arr_def_ismask['name_isf'].dropna('Nisf')\n",
    "        \n",
    "        # do some fine-tuning for overlapping ice shelves   \n",
    "        problem_regions = [2,3,8,9,10,13,23,26,27,28,29,32,34,38,44,46,50,57,59,60,\n",
    "                   63,70,71,72,73,74,76,77,78,83,84,85,89,91,96,103]\n",
    "        \n",
    "        for conn_label in range(1,labels_out.max()):\n",
    "            basins_conn_domain = summary_mask_basins['ID_isf'].where(labelled_isf == conn_label, drop=True)\n",
    "            max_label = basins_conn_domain.max().values\n",
    "            min_label = basins_conn_domain.min().values\n",
    "            \n",
    "            # for areas with two labels in problem regions, take the one with the most points\n",
    "            if max_label != min_label:\n",
    "                groups_isf = basins_conn_domain.groupby(basins_conn_domain)\n",
    "                groups_labels = groups_isf.groups.keys()\n",
    "                if groups_isf.count().ID_isf.count() > 1:\n",
    "                    if any(x in problem_regions for x in list(groups_labels)):\n",
    "                        #print(conn_label)\n",
    "                        #print(min_label,max_label)\n",
    "                        dominant_isf = groups_isf.count().idxmax().values\n",
    "                        if dominant_isf == 12:\n",
    "                            dominant_isf = 14\n",
    "                        #print(dominant_isf)\n",
    "                        new_mask = new_mask.where(labelled_isf != conn_label, dominant_isf)\n",
    "            \n",
    "        # other fine-tuning: if an ice shelf is split, keep the largest connected domain\n",
    "        dx = abs(file_conc.x[1] - file_conc.x[0])\n",
    "        dy = abs(file_conc.y[1] - file_conc.y[0])\n",
    "\n",
    "        split_regions = [70,77,83,89,103] \n",
    "\n",
    "        for rreg in split_regions:\n",
    "            # look where there are the same labels in several unconnected domains\n",
    "            labels_same = list(new_mask.groupby(labelled_isf).groups) * (new_mask.groupby(labelled_isf).median() == rreg)\n",
    "            labels_same = labels_same[labels_same>0]\n",
    "\n",
    "            area_before = 0\n",
    "            for conn_label in labels_same:\n",
    "                # compute the area of the different unconnected areas\n",
    "                conc_for_area = file_conc.where(labelled_isf == conn_label, drop=True)\n",
    "                area_now = (conc_for_area * dx * dy).sum()\n",
    "                if area_now >= area_before:\n",
    "                    area_before = area_now\n",
    "                    largest_label = conn_label\n",
    "\n",
    "            # set the smaller areas to 159\n",
    "            for small_label in (labels_same.where(labels_same != largest_label).dropna('labels')):\n",
    "                new_mask = new_mask.where(labelled_isf != small_label, 159)\n",
    "\n",
    "        new_mask = new_mask + 1\n",
    "        new_mask_info = arr_def_ismask.copy()\n",
    "        new_mask_info['Nisf'] = new_mask_info['Nisf'] + 1\n",
    "        \n",
    "        new_mask = new_mask.where(file_msk != 0, 1).where(file_msk != 2, 0)\n",
    "    \n",
    "    else:\n",
    "        \n",
    "        arr_def_general = arr_def_ismask[arr_def_ismask[:, 3] == -50]\n",
    "        arr_def_detail = arr_def_ismask[arr_def_ismask[:, 3] != -50]\n",
    "\n",
    "        isf_yes = (file_msk > 0) & (file_msk < 2)\n",
    "        isf_mask = file_msk.copy()\n",
    "        # is_mask0.plot()\n",
    "        for i, mm in enumerate(arr_def_general):\n",
    "            #print('general ' + str(i))\n",
    "            isf_mask = isf_mask.where(~(uf.in_range(lon, mm[0:2]) & uf.in_range(lat, mm[2:4])), int(mm[4]))\n",
    "        for i, mm in enumerate(arr_def_detail):\n",
    "            #print('detail ' + str(i))\n",
    "            isf_mask = isf_mask.where(~(uf.in_range(lon, mm[0:2]) & uf.in_range(lat, mm[2:4])), int(mm[4]))\n",
    "        isf_mask = isf_mask.where(isf_yes)\n",
    "\n",
    "        if FRIS_one:\n",
    "            isf_mask = isf_mask.where(isf_mask != 21, 11) # Filchner (21) and Ronne (11) are combined\n",
    "        \n",
    "        new_mask = isf_mask.where(file_msk != 0, 1).where(file_msk != 2, 0)\n",
    "    \n",
    "    \n",
    "    if mouginot_basins:\n",
    "        mask_file = xr.merge([new_mask.rename('ISF_mask'), \n",
    "                              new_mask_info['name_isf'], \n",
    "                              new_mask_info['name_reg'], \n",
    "                              new_mask_info['Nisf_orig']])\n",
    "    else:\n",
    "        mask_file = new_mask\n",
    "    \n",
    "    return mask_file"
   ]
  },
  {
   "cell_type": "code",
   "execution_count": null,
   "id": "b33acbd6-b199-460f-8916-9c0faa3813c2",
   "metadata": {},
   "outputs": [],
   "source": [
    "tt = 2040\n",
    "file_msk = file_mask_cut['ls_mask012'].sel(time=tt)\n",
    "file_conc = file_conc_cut['isfdraft_conc'].sel(time=tt).drop('time')\n",
    "inputpath_metadata='/bettik/burgardc/SCRIPTS/basal_melt_param/data/raw/MASK_METADATA/'\n",
    "arr_mask = isfmf.read_isfmask_info(inputpath_metadata+'lonlat_masks.txt')\n",
    "mask_file = def_isf_mask(arr_mask, file_msk, file_conc, file_isf.longitude, file_isf.latitude, FRIS_one=True, \n",
    "                 mouginot_basins=False)"
   ]
  },
  {
   "cell_type": "code",
   "execution_count": null,
   "id": "b110cb49-a8ad-4038-ae31-3f3033a6807f",
   "metadata": {},
   "outputs": [],
   "source": [
    "file_conc.where(mask_file < 10).plot()"
   ]
  },
  {
   "cell_type": "code",
   "execution_count": null,
   "id": "42aae808-dcb7-45d6-9ee3-63e7217c9ab6",
   "metadata": {},
   "outputs": [],
   "source": [
    "scattered_reg_all_mask.plot()"
   ]
  },
  {
   "cell_type": "code",
   "execution_count": null,
   "id": "0591b89a-2771-48af-b3f4-7d72ec740406",
   "metadata": {},
   "outputs": [],
   "source": [
    "scattered_reg_all_conc = file_conc.where(mask_file < 10) \n",
    "scattered_reg_all_mask = scattered_reg_all_conc > 0\n",
    "\n",
    "new_mask = mask_file.copy()\n",
    "isf_only_mask = new_mask.where(new_mask > 2)\n"
   ]
  },
  {
   "cell_type": "code",
   "execution_count": null,
   "id": "34fd022d-7539-446c-8de1-5a35a346dda1",
   "metadata": {},
   "outputs": [],
   "source": [
    "labelled.plot()"
   ]
  },
  {
   "cell_type": "code",
   "execution_count": null,
   "id": "f0354a5b-1f9a-495c-89bc-706dc2a6a52d",
   "metadata": {},
   "outputs": [],
   "source": [
    "new_mask = mask_file.copy()"
   ]
  },
  {
   "cell_type": "code",
   "execution_count": null,
   "id": "078f4102-95a9-4091-ad37-d5eda608768f",
   "metadata": {},
   "outputs": [],
   "source": [
    "new_mask = mask_file.copy()\n",
    "new_mask = new_mask.where(~((new_mask > 1) & (new_mask < 10)), 4)\n",
    "\n",
    "### SPECIAL REGIONS\n",
    "new_mask = new_mask.where(new_mask != 102, 75)\n",
    "new_mask = new_mask.where(new_mask != 103, 75)\n",
    "\n",
    "\n",
    "###### THIS BLOCK IS TO SEPARATE SPLIT REGIONS\n",
    "threshold = 1\n",
    "connectivity = 4\n",
    "\n",
    "#find connected components\n",
    "dusted = cc3d.dust(new_mask.values.astype(np.int64), \n",
    "           threshold = threshold, \n",
    "           connectivity = connectivity, \n",
    "           in_place = False)\n",
    "\n",
    "labels_out = cc3d.connected_components(dusted, \n",
    "                               connectivity = connectivity)\n",
    "\n",
    "labelled_isf = xr.DataArray(labels_out, \n",
    "                coords = {\"y\": file_conc.y, \"x\": file_conc.x}, \n",
    "                dims = [\"y\", \"x\"],\n",
    "                name = \"labels\")\n",
    "\n",
    "all_isf_list = np.array(list(new_mask.groupby(new_mask).groups))\n",
    "isf_labels = all_isf_list[all_isf_list>9]\n",
    "\n",
    "for rreg in isf_labels:\n",
    "    #print(rreg)\n",
    "    # look is one ice shelf is present in disconnected regions\n",
    "    isf_group = new_mask.where(new_mask==rreg)\n",
    "    label_group = labelled_isf.where(np.isfinite(isf_group))\n",
    "    label_group_list = np.array(list(label_group.groupby(label_group).groups))\n",
    "    label_group_list = label_group_list[label_group_list > 1]\n",
    "    if label_group_list.size > 0:\n",
    "        if label_group_list.min() != label_group_list.max():\n",
    "            area_before = 0\n",
    "            for conn_label in label_group_list:\n",
    "                # compute the area of the different unconnected areas\n",
    "                conc_for_area = file_conc.where(labelled_isf == conn_label, drop=True)\n",
    "                area_now = (conc_for_area * dx * dy).sum()\n",
    "                if area_now >= area_before:\n",
    "                    area_before = area_now\n",
    "                    largest_label = conn_label\n",
    "            \n",
    "            # set the smaller areas to 4 (random choice)\n",
    "            for llabel in label_group_list:\n",
    "                if llabel != largest_label:\n",
    "                    new_mask = new_mask.where(labelled_isf != llabel, 4)\n",
    "                    \n"
   ]
  },
  {
   "cell_type": "code",
   "execution_count": null,
   "id": "c7ba32d4-6cf4-480f-9727-05b7c6f1c24e",
   "metadata": {},
   "outputs": [],
   "source": [
    "plt.figure()\n",
    "new_mask.plot(vmin=101,vmax=104)"
   ]
  },
  {
   "cell_type": "code",
   "execution_count": null,
   "id": "29a6e80c-76a6-4992-a900-f357782f4228",
   "metadata": {},
   "outputs": [],
   "source": [
    "file_conc.where(new_mask<5).plot()"
   ]
  },
  {
   "cell_type": "code",
   "execution_count": null,
   "id": "abf07d9a-88d8-4fd8-afda-1815d844e276",
   "metadata": {},
   "outputs": [],
   "source": [
    "new_mask.plot()"
   ]
  },
  {
   "cell_type": "code",
   "execution_count": null,
   "id": "0b4bffbf-c0f9-459a-af00-27aa390add1e",
   "metadata": {},
   "outputs": [],
   "source": [
    "    area_before = 0\n",
    "    for conn_label in labels_same:\n",
    "        # compute the area of the different unconnected areas\n",
    "        conc_for_area = file_conc.where(labelled_isf == conn_label, drop=True)\n",
    "        area_now = (conc_for_area * dx * dy).sum()\n",
    "        if area_now >= area_before:\n",
    "            area_before = area_now\n",
    "            largest_label = conn_label\n",
    "\n",
    "    # set the smaller areas to 3\n",
    "    for small_label in (labels_same.where(labels_same != largest_label).dropna('labels')):\n",
    "        new_mask = new_mask.where(labelled_isf != small_label, 3)"
   ]
  },
  {
   "cell_type": "code",
   "execution_count": null,
   "id": "e151f093-c824-48b9-ae4e-f2dc8e63be33",
   "metadata": {},
   "outputs": [],
   "source": [
    "labelled_isf.plot()"
   ]
  },
  {
   "cell_type": "code",
   "execution_count": null,
   "id": "77321493-c009-487e-9661-e28cce8871ae",
   "metadata": {},
   "outputs": [],
   "source": [
    "new_mask = mask_file.copy()\n",
    "new_mask = new_mask.where(~((new_mask > 1) & (new_mask < 10)), 4)\n",
    "\n",
    "### SPECIAL REGIONS\n",
    "new_mask = new_mask.where(new_mask != 102, 75)\n",
    "new_mask = new_mask.where(new_mask != 103, 75)\n",
    "\n",
    "###### THIS BLOCK IS TO SEPARATE SPLIT REGIONS\n",
    "threshold = 1\n",
    "connectivity = 4\n",
    "\n",
    "#find connected components\n",
    "dusted = cc3d.dust(new_mask.values.astype(np.int64), \n",
    "           threshold = threshold, \n",
    "           connectivity = connectivity, \n",
    "           in_place = False)\n",
    "\n",
    "labels_out = cc3d.connected_components(dusted, \n",
    "                               connectivity = connectivity)\n",
    "\n",
    "labelled_isf = xr.DataArray(labels_out, \n",
    "                coords = {\"y\": file_conc.y, \"x\": file_conc.x}, \n",
    "                dims = [\"y\", \"x\"],\n",
    "                name = \"labels\")\n",
    "\n",
    "all_isf_list = np.array(list(new_mask.groupby(new_mask).groups))\n",
    "isf_labels = all_isf_list[all_isf_list>9]\n",
    "\n",
    "for rreg in isf_labels:\n",
    "    #print(rreg)\n",
    "    # look is one ice shelf is present in disconnected regions\n",
    "    isf_group = new_mask.where(new_mask==rreg)\n",
    "    label_group = labelled_isf.where(np.isfinite(isf_group))\n",
    "    label_group_list = np.array(list(label_group.groupby(label_group).groups))\n",
    "    label_group_list = label_group_list[label_group_list > 1]\n",
    "    if label_group_list.size > 0:\n",
    "        if label_group_list.min() != label_group_list.max():\n",
    "            area_before = 0\n",
    "            for conn_label in label_group_list:\n",
    "                # compute the area of the different unconnected areas\n",
    "                conc_for_area = file_conc.where(labelled_isf == conn_label, drop=True)\n",
    "                area_now = (conc_for_area * dx * dy).sum()\n",
    "                if area_now >= area_before:\n",
    "                    area_before = area_now\n",
    "                    largest_label = conn_label\n",
    "            \n",
    "            # set the smaller areas to 4 (random choice)\n",
    "            for llabel in label_group_list:\n",
    "                if llabel != largest_label:\n",
    "                    new_mask = new_mask.where(labelled_isf != llabel, 4)\n",
    "\n",
    "\n",
    "###### THIS BLOCK IS TO FILL THE \"NEW REGIONS\"\n",
    "\n",
    "threshold = 1\n",
    "connectivity = 4\n",
    "\n",
    "scattered_reg_all_conc = file_conc.where(new_mask == 4) \n",
    "scattered_reg_all_mask = scattered_reg_all_conc > 0\n",
    "\n",
    "#find connected components\n",
    "dusted = cc3d.dust(scattered_reg_all_mask.values.astype(np.int64), \n",
    "           threshold = threshold, \n",
    "           connectivity = connectivity, \n",
    "           in_place = False)\n",
    "\n",
    "labels_out_conc = cc3d.connected_components(dusted, \n",
    "                               connectivity = connectivity)\n",
    "\n",
    "labelled = xr.DataArray(labels_out_conc, \n",
    "                coords = {\"y\": file_conc.y, \"x\": file_conc.x}, \n",
    "                dims = [\"y\", \"x\"],\n",
    "                name = \"labels\")\n",
    "\n",
    "# filter that checks the point around\n",
    "weights_filter = np.zeros((3,3))\n",
    "weights_filter[0,1] = 1\n",
    "weights_filter[1,0] = 1\n",
    "weights_filter[1,2] = 1\n",
    "weights_filter[2,1] = 1\n",
    "\n",
    "weights_da = xr.DataArray(data=weights_filter,dims=['y0','x0'])\n",
    "\n",
    "dx = abs(labelled.x[1] - labelled.x[0]).values.astype(int)\n",
    "dy = abs(labelled.y[1] - labelled.y[0]).values.astype(int)\n",
    "\n",
    "for conn_label in range(1,labels_out_conc.max()):\n",
    "    dom_region = labelled.where(labelled == conn_label, drop=True)\n",
    "    dom_bounds_plus1 = np.array([dom_region.x.min().values - dx,dom_region.x.max().values + dx,dom_region.y.min().values - dy,dom_region.y.max().values + dy]).astype(int)\n",
    "    dom_plus1_mask = scattered_reg_all_mask.sel(x=range(dom_bounds_plus1[0],dom_bounds_plus1[1]+1,dx), y=range(dom_bounds_plus1[2],dom_bounds_plus1[3]+1,dy))\n",
    "    corr = pf.xr_nd_corr_v2(dom_plus1_mask, weights_filter)\n",
    "    only_contour = (corr ^ dom_plus1_mask)\n",
    "    neighboring_pixels = new_mask.where(only_contour)\n",
    "    if neighboring_pixels.max() > 9:\n",
    "        neighbor_max = neighboring_pixels.where(neighboring_pixels > 9).max()\n",
    "        neighbor_min = neighboring_pixels.where(neighboring_pixels > 9).min()\n",
    "        if neighbor_max == neighbor_min:\n",
    "            #print(neighbor_min.values)\n",
    "            new_mask = new_mask.where(labelled != conn_label, neighbor_min)\n",
    "    else:\n",
    "        print(conn_label)\n",
    "        print(neighboring_pixels.max().values)"
   ]
  },
  {
   "cell_type": "code",
   "execution_count": null,
   "id": "82a5758a-6776-495d-9bde-b327e3be5220",
   "metadata": {},
   "outputs": [],
   "source": [
    "labelled.plot(vmin=50,vmax=60)"
   ]
  },
  {
   "cell_type": "code",
   "execution_count": null,
   "id": "2b5e9f6c-c9de-4578-a41e-b65946ef4d6b",
   "metadata": {},
   "outputs": [],
   "source": [
    "labels_out_conc.plot()"
   ]
  },
  {
   "cell_type": "code",
   "execution_count": null,
   "id": "350dd25d-4016-425b-b768-e961ac38fcae",
   "metadata": {},
   "outputs": [],
   "source": [
    "file_conc.plot()"
   ]
  },
  {
   "cell_type": "code",
   "execution_count": null,
   "id": "6edc046a-6746-42ad-ad8c-e7b6f2fac9fe",
   "metadata": {},
   "outputs": [],
   "source": [
    "file_conc.where(new_mask<4).plot()"
   ]
  },
  {
   "cell_type": "code",
   "execution_count": null,
   "id": "d6613b7b-b701-489e-9b5f-e1c046ebbb3a",
   "metadata": {},
   "outputs": [],
   "source": [
    "new_mask = new_mask.where(~((new_mask > 1) & (new_mask < 10)), 4)\n",
    "#new_mask.where(new_mask == 4)"
   ]
  },
  {
   "cell_type": "code",
   "execution_count": null,
   "id": "a07e6263-aaf3-44d4-8cfb-73a7e6911446",
   "metadata": {},
   "outputs": [],
   "source": [
    "conn_label = 59\n",
    "dom_region = labelled.where(labelled == conn_label, drop=True)\n",
    "dom_bounds_plus1 = np.array([dom_region.x.min().values - dx,dom_region.x.max().values + dx,dom_region.y.min().values - dy,dom_region.y.max().values + dy]).astype(int)\n",
    "dom_plus1_mask = scattered_reg_all_mask.sel(x=range(dom_bounds_plus1[0],dom_bounds_plus1[1]+1,dx), y=range(dom_bounds_plus1[2],dom_bounds_plus1[3]+1,dy))\n",
    "corr = pf.xr_nd_corr_v2(dom_plus1_mask, weights_filter)\n",
    "only_contour = (corr ^ dom_plus1_mask)\n",
    "neighboring_pixels = new_mask.where(only_contour)\n",
    "\n",
    "if neighboring_pixels.max() > 9:\n",
    "    neighbor_max = neighboring_pixels.where(neighboring_pixels > 9).max()\n",
    "    neighbor_min = neighboring_pixels.where(neighboring_pixels > 9).min()\n"
   ]
  },
  {
   "cell_type": "code",
   "execution_count": null,
   "id": "ac00f4a0-6b5d-496b-8365-1d3ea2e217ff",
   "metadata": {},
   "outputs": [],
   "source": [
    "file_isf['ground_mask'].plot()"
   ]
  },
  {
   "cell_type": "code",
   "execution_count": null,
   "id": "067b2f85-1806-4a43-b629-d7c784250c23",
   "metadata": {},
   "outputs": [],
   "source": [
    "neighboring_pixels.plot()"
   ]
  },
  {
   "cell_type": "code",
   "execution_count": null,
   "id": "dbe96f6d-ebf9-4cd6-9fd0-1eaa4ef9970c",
   "metadata": {},
   "outputs": [],
   "source": [
    "new_mask.plot(vmin=0,vmax=3)"
   ]
  },
  {
   "cell_type": "code",
   "execution_count": null,
   "id": "5c044641-d6ed-4061-9cde-cbee0f67a99a",
   "metadata": {},
   "outputs": [],
   "source": [
    "plt.figure()\n",
    "scattered_reg_all_mask.plot()"
   ]
  },
  {
   "cell_type": "code",
   "execution_count": null,
   "id": "13424cf7-77d9-4b6d-a6a5-829158f4c238",
   "metadata": {},
   "outputs": [],
   "source": [
    "dom_region.plot()"
   ]
  },
  {
   "cell_type": "code",
   "execution_count": null,
   "id": "e2c0e70a-b9e3-40c4-bdea-eb20282df670",
   "metadata": {},
   "outputs": [],
   "source": [
    "new_mask.plot()"
   ]
  },
  {
   "cell_type": "code",
   "execution_count": null,
   "id": "4a6d5109-546d-4d66-a30a-c7fbc2e37bf6",
   "metadata": {},
   "outputs": [],
   "source": [
    "new_mask.where(dom_plus1_mask).plot()"
   ]
  },
  {
   "cell_type": "code",
   "execution_count": null,
   "id": "0caf2f93-3be5-43a6-b143-c22c214707a3",
   "metadata": {},
   "outputs": [],
   "source": [
    "labelled.where(labelled == conn_label).plot()"
   ]
  },
  {
   "cell_type": "code",
   "execution_count": null,
   "id": "b5b7ecb1-5ee8-41c8-abb4-9af6bc2b6bb0",
   "metadata": {},
   "outputs": [],
   "source": [
    "corr.where(dom_region != conn_label).plot()"
   ]
  },
  {
   "cell_type": "code",
   "execution_count": null,
   "id": "ca6895e6-95ba-4a01-8996-623d1c0726cb",
   "metadata": {},
   "outputs": [],
   "source": [
    "labelled.sel(x=range(dom_bounds_plus1[0],dom_bounds_plus1[1]+1,dx), y=range(dom_bounds_plus1[2],dom_bounds_plus1[3]+1,dy)).plot()"
   ]
  },
  {
   "cell_type": "code",
   "execution_count": null,
   "id": "a706e76b-f63d-487a-8643-a014a2152365",
   "metadata": {},
   "outputs": [],
   "source": [
    "mask_file.sel(x=range(dom_bounds_plus1[0],dom_bounds_plus1[1]+1,dx), y=range(dom_bounds_plus1[2],dom_bounds_plus1[3]+1,dy)).plot(vmax=10)"
   ]
  },
  {
   "cell_type": "code",
   "execution_count": null,
   "id": "a0fa99ae-763f-409f-b4fb-433bc1568996",
   "metadata": {},
   "outputs": [],
   "source": [
    "corr.plot()"
   ]
  },
  {
   "cell_type": "code",
   "execution_count": null,
   "id": "3b7495c8-4b9f-4ee4-8f33-279301469a05",
   "metadata": {},
   "outputs": [],
   "source": [
    "mask_file.where(corr)"
   ]
  },
  {
   "cell_type": "code",
   "execution_count": null,
   "id": "5f548894-4160-44f4-afaa-950688d67a25",
   "metadata": {},
   "outputs": [],
   "source": [
    "neighbouring_pixels = mask_file.where(corr)\n"
   ]
  },
  {
   "cell_type": "code",
   "execution_count": null,
   "id": "6bf12660-be0f-4d71-95dc-ed072a2f454e",
   "metadata": {},
   "outputs": [],
   "source": [
    "neighbouring_pixels.where(neighbouring_pixels > 2).min()"
   ]
  },
  {
   "cell_type": "code",
   "execution_count": null,
   "id": "bf495061-58fc-4888-b093-aaef007b21b9",
   "metadata": {},
   "outputs": [],
   "source": []
  }
 ],
 "metadata": {
  "kernelspec": {
   "display_name": "py38",
   "language": "python",
   "name": "py38"
  },
  "language_info": {
   "codemirror_mode": {
    "name": "ipython",
    "version": 3
   },
   "file_extension": ".py",
   "mimetype": "text/x-python",
   "name": "python",
   "nbconvert_exporter": "python",
   "pygments_lexer": "ipython3",
   "version": "3.8.12"
  }
 },
 "nbformat": 4,
 "nbformat_minor": 5
}
