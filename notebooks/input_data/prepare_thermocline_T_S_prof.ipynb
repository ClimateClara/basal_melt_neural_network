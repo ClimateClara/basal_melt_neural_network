{
 "cells": [
  {
   "cell_type": "code",
   "execution_count": null,
   "id": "ebf2847f-f5f1-4b3b-87d8-01158a04c288",
   "metadata": {},
   "outputs": [],
   "source": [
    "\"\"\"\n",
    "Created on Wed Apr 13 14:17 2022\n",
    "\n",
    "Prepare vertical profiles of T and S - not working like I want, need to think about it a bit\n",
    "\n",
    "Author: @claraburgard\n",
    "\"\"\""
   ]
  },
  {
   "cell_type": "code",
   "execution_count": null,
   "id": "6d7254de-eb14-4b78-a997-d26414c4607b",
   "metadata": {},
   "outputs": [],
   "source": [
    "import numpy as np\n",
    "import xarray as xr\n",
    "from tqdm.notebook import trange, tqdm\n",
    "import basal_melt_neural_networks.data_formatting as dfmt\n",
    "\n",
    "from dask import delayed\n",
    "\n",
    "import distributed\n",
    "import glob"
   ]
  },
  {
   "cell_type": "markdown",
   "id": "aa65d411-d8ae-4c87-9290-da89e26c75d2",
   "metadata": {},
   "source": [
    "READ IN DATA"
   ]
  },
  {
   "cell_type": "code",
   "execution_count": null,
   "id": "82cfa1ba-1e87-460f-9103-772311b50c1f",
   "metadata": {},
   "outputs": [],
   "source": [
    "nemo_run = 'OPM021'"
   ]
  },
  {
   "cell_type": "code",
   "execution_count": null,
   "id": "f8541474-b3a8-4425-bfd0-7d0371d180de",
   "metadata": {},
   "outputs": [],
   "source": [
    "inputpath_data='/bettik/burgardc/SCRIPTS/basal_melt_param/data/interim/NEMO_eORCA025.L121_'+nemo_run+'_ANT_STEREO/'\n",
    "inputpath_mask = '/bettik/burgardc/SCRIPTS/basal_melt_param/data/interim/ANTARCTICA_IS_MASKS/nemo_5km_'+nemo_run+'/'\n",
    "inputpath_profiles = '/bettik/burgardc/SCRIPTS/basal_melt_param/data/interim/T_S_PROF/nemo_5km_'+nemo_run+'/'\n",
    "outputpath_simple = '/bettik/burgardc/SCRIPTS/basal_melt_param/data/interim/SIMPLE/nemo_5km_'+nemo_run+'/'\n",
    "inputpath_plumes = '/bettik/burgardc/SCRIPTS/basal_melt_param/data/interim/PLUMES/nemo_5km_'+nemo_run+'/'\n",
    "outputpath = '/bettik/burgardc/SCRIPTS/basal_melt_param/data/interim/'\n",
    "plot_path = '/bettik/burgardc/PLOTS/first-look/'"
   ]
  },
  {
   "cell_type": "code",
   "execution_count": null,
   "id": "750bade1-e9a5-42fc-8389-2605f0fc7f52",
   "metadata": {},
   "outputs": [],
   "source": [
    "# make the domain a little smaller to make the computation even more efficient - file isf has already been made smaller at its creation\n",
    "map_lim = [-3000000,3000000]\n",
    "\n",
    "chunk_size = 300"
   ]
  },
  {
   "cell_type": "code",
   "execution_count": null,
   "id": "4db707b4-8213-4889-bb35-818ded0d68a1",
   "metadata": {},
   "outputs": [],
   "source": [
    "file_isf_orig = xr.open_dataset(inputpath_mask+'nemo_5km_isf_masks_and_info_and_distance_new_oneFRIS.nc')\n",
    "nonnan_Nisf = file_isf_orig['Nisf'].where(np.isfinite(file_isf_orig['front_bot_depth_max']), drop=True).astype(int)\n",
    "file_isf_nonnan = file_isf_orig.sel(Nisf=nonnan_Nisf)\n",
    "large_isf = file_isf_nonnan['Nisf'].where(file_isf_nonnan['isf_area_here'] >= 2500, drop=True)\n",
    "file_isf = file_isf_nonnan.sel(Nisf=large_isf)"
   ]
  },
  {
   "cell_type": "code",
   "execution_count": null,
   "id": "6d8e5b1c-8b51-46fe-8cab-b55a97ef3706",
   "metadata": {},
   "outputs": [],
   "source": [
    "#file_TS_orig = xr.open_mfdataset(inputpath_profiles+'T_S_profiles_per_iceshelf_1980-2018.nc', chunks={'Nisf': 1})\n",
    "#file_TS_orig = xr.open_mfdataset(inputpath_profiles+'T_S_mean_prof_km_1980-2018.nc', chunks={'Nisf': 1})\n",
    "#file_TS_orig = xr.open_mfdataset(inputpath_profiles+'T_S_mean_prof_km_contshelf_1980-2018.nc', chunks={'Nisf': 1})\n",
    "file_TS_orig = xr.open_dataset(inputpath_profiles+'T_S_mean_prof_corrected_km_contshelf_and_offshore_1980-2018_oneFRIS.nc')\n",
    "file_TS = file_TS_orig.sel(Nisf=large_isf)\n",
    "file_TS_dom = file_TS.sel(profile_domain=50).drop('profile_domain')"
   ]
  },
  {
   "cell_type": "code",
   "execution_count": null,
   "id": "48ec7e32-0e18-4c8e-8235-994f84f28a2b",
   "metadata": {},
   "outputs": [],
   "source": [
    "#file_TS_cut_bot = file_TS_dom.where(file_TS_dom.depth < file_isf['front_bot_depth_max'].max(), drop=True) # to keep in case I go for offshore profiles at some point\n",
    "file_TS_cut_bot = file_TS_dom.dropna('depth', how='all')"
   ]
  },
  {
   "cell_type": "code",
   "execution_count": null,
   "id": "bbb49eb8-e981-4ae5-9d30-61da1f2e1c57",
   "metadata": {},
   "outputs": [],
   "source": [
    "file_TS_cut_top_bot = xr.concat([file_TS_cut_bot.isel(depth=0),file_TS_cut_bot.where(file_TS_dom.depth >= 100, drop=True)], dim='depth')"
   ]
  },
  {
   "cell_type": "code",
   "execution_count": null,
   "id": "5b0781e9-0648-471d-a59f-9fbed181e867",
   "metadata": {},
   "outputs": [],
   "source": [
    "Tmin = file_TS_cut_top_bot['theta_ocean'].min('depth')\n",
    "Tmax = file_TS_cut_top_bot['theta_ocean'].max('depth')\n",
    "upper_depth = file_TS_cut_top_bot.depth.where(file_TS_cut_top_bot['theta_ocean'] == Tmin).min('depth')\n",
    "lower_depth = file_TS_cut_top_bot.depth.where(file_TS_cut_top_bot['theta_ocean'] == Tmax).min('depth')\n",
    "Smin = file_TS_cut_top_bot['salinity_ocean'].sel(depth=upper_depth)\n",
    "Smax = file_TS_cut_top_bot['salinity_ocean'].sel(depth=lower_depth)"
   ]
  },
  {
   "cell_type": "code",
   "execution_count": null,
   "id": "eebc055c-35d3-4854-ac67-d886ba7a0199",
   "metadata": {},
   "outputs": [],
   "source": [
    "Tmin"
   ]
  },
  {
   "cell_type": "code",
   "execution_count": null,
   "id": "0944bd37-43b5-4fdb-9895-669189196af2",
   "metadata": {},
   "outputs": [],
   "source": [
    "upper_depth = file_TS_cut_top_bot.depth.where(file_TS_cut_top_bot['theta_ocean'] == Tmin).min('depth')\n",
    "lower_depth = file_TS_cut_top_bot.depth.where(file_TS_cut_top_bot['theta_ocean'] == Tmax).min('depth')"
   ]
  },
  {
   "cell_type": "code",
   "execution_count": null,
   "id": "93cc0595-99be-4c2d-a7b8-376d849a0805",
   "metadata": {},
   "outputs": [],
   "source": [
    "plt.figure()\n",
    "upper_depth.sel(Nisf=10).plot()\n",
    "lower_depth.sel(Nisf=10).plot()"
   ]
  },
  {
   "cell_type": "code",
   "execution_count": null,
   "id": "2a735fea-41db-4c1b-a36a-ae58c4d53fe4",
   "metadata": {},
   "outputs": [],
   "source": []
  },
  {
   "cell_type": "code",
   "execution_count": null,
   "id": "abd4c3fb-487a-4e2f-9620-831d2d2cd78e",
   "metadata": {},
   "outputs": [],
   "source": [
    "depth_dim = np.arange(file_TS_cut_top_bot.depth.isel(depth=np.arange(1,len(file_TS_cut_top_bot.depth))).min(),file_TS_cut_top_bot.depth.max(), 10)\n",
    "interp_TS = file_TS_cut_top_bot.interp(depth=depth_dim).ffill('depth')"
   ]
  },
  {
   "cell_type": "code",
   "execution_count": null,
   "id": "f1d05705-12b5-4426-a378-79b178ce4622",
   "metadata": {},
   "outputs": [],
   "source": [
    "# AUTOCORRELATION IN TEMPERATURE\n",
    "corr_list = []\n",
    "lag_range = np.arange(0,200,10)\n",
    "for lag in lag_range:\n",
    "    auto_corr = xr.corr(interp_TS['theta_ocean'],interp_TS['theta_ocean'].shift(depth=lag),dim='depth')\n",
    "    corr_list.append(auto_corr)\n",
    "corr_all = xr.concat(corr_list, dim='lag')"
   ]
  },
  {
   "cell_type": "code",
   "execution_count": null,
   "id": "64ffbfa6-dafe-4684-8471-bf2a3b39045f",
   "metadata": {},
   "outputs": [],
   "source": [
    "plotted_var = corr_all.isel(time=0)\n",
    "\n",
    "x = np.arange(len(lag_range))\n",
    "y = np.arange(len(plotted_var.Nisf))\n",
    "\n",
    "fig, axs = plt.subplots(1, 1,figsize=(len(y)/4,len(x)/2.75))\n",
    "ax0 = axs.imshow(plotted_var.values, cmap=plt.cm.coolwarm, vmin=-0.5, vmax=1)\n",
    "\n",
    "for j, dom in enumerate([50]):\n",
    "    axs.yaxis.tick_right()\n",
    "    axs.set_yticks(x)\n",
    "    axs.yaxis.tick_right()\n",
    "\n",
    "    axs.xaxis.tick_top()    \n",
    "    axs.set_xticks(y)\n",
    "\n",
    "\n",
    "cb_ax = fig.add_axes([0.15, 0.08, 0.7, 0.02])\n",
    "#cb_ax = fig.add_axes([0.01, 0.2, 0.02, 0.7])\n",
    "cbar = fig.colorbar(ax0, cax=cb_ax, orientation='horizontal')\n",
    "plt.tight_layout()\n"
   ]
  },
  {
   "cell_type": "code",
   "execution_count": null,
   "id": "855670cd-adc7-4e59-918d-37475c20c506",
   "metadata": {},
   "outputs": [],
   "source": []
  }
 ],
 "metadata": {
  "kernelspec": {
   "display_name": "neuralnet",
   "language": "python",
   "name": "neuralnet"
  },
  "language_info": {
   "codemirror_mode": {
    "name": "ipython",
    "version": 3
   },
   "file_extension": ".py",
   "mimetype": "text/x-python",
   "name": "python",
   "nbconvert_exporter": "python",
   "pygments_lexer": "ipython3",
   "version": "3.9.4"
  }
 },
 "nbformat": 4,
 "nbformat_minor": 5
}
