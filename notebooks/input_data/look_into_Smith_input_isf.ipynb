{
 "cells": [
  {
   "cell_type": "code",
   "execution_count": null,
   "id": "29b85556-ed76-4e44-af64-61db0011cae9",
   "metadata": {},
   "outputs": [],
   "source": [
    "\"\"\"\n",
    "Created on Tue Jan 17 10:02 2022\n",
    "\n",
    "Look at the Smith T and S profiles\n",
    "\n",
    "Author: @claraburgard\n",
    "\n",
    "\"\"\""
   ]
  },
  {
   "cell_type": "code",
   "execution_count": null,
   "id": "898099bb-7115-4757-9c2d-33ea7dd90729",
   "metadata": {},
   "outputs": [],
   "source": [
    "import numpy as np\n",
    "import xarray as xr\n",
    "from tqdm.notebook import trange, tqdm\n",
    "import matplotlib.pyplot as plt"
   ]
  },
  {
   "cell_type": "code",
   "execution_count": null,
   "id": "8aeb5719-ea57-41e0-9f4f-1c5981145164",
   "metadata": {},
   "outputs": [],
   "source": [
    "%matplotlib qt5"
   ]
  },
  {
   "cell_type": "code",
   "execution_count": null,
   "id": "f144fc3a-065a-463b-9590-16eed73022b7",
   "metadata": {},
   "outputs": [],
   "source": [
    "nemo_run = 'bf663' # 'bf663','bi646' "
   ]
  },
  {
   "cell_type": "code",
   "execution_count": null,
   "id": "b94c0979-145d-4480-83e7-0c7f4142a685",
   "metadata": {},
   "outputs": [],
   "source": [
    "inputpath_data='/bettik/burgardc/DATA/NN_PARAM/interim/SMITH_'+nemo_run+'/'\n",
    "inputpath_mask='/bettik/burgardc/DATA/NN_PARAM/interim/ANTARCTICA_IS_MASKS/SMITH_'+nemo_run+'/'\n",
    "inputpath_profiles='/bettik/burgardc/DATA/NN_PARAM/interim/T_S_PROF/SMITH_'+nemo_run+'/'\n",
    "inputpath_plumes='/bettik/burgardc/DATA/NN_PARAM/interim/PLUMES/SMITH_'+nemo_run+'/'\n",
    "inputpath_boxes='/bettik/burgardc/DATA/NN_PARAM/interim/BOXES/SMITH_'+nemo_run+'/'\n",
    "\n",
    "\n",
    "outputpath_melt = '/bettik/burgardc/DATA/NN_PARAM/interim/SMITH_'+nemo_run+'/'\n",
    "outputpath_nn = '/bettik/burgardc/DATA/NN_PARAM/interim/INPUT_DATA/SMITH_'+nemo_run+'_EXTRAPDRAFT_CHUNKS/'\n",
    "inputpath_tides = '/bettik/burgardc/DATA/BASAL_MELT_PARAM/interim/TIDES/'"
   ]
  },
  {
   "cell_type": "code",
   "execution_count": null,
   "id": "6eceea6b-6a2c-4f66-9a36-da2e2e3a3237",
   "metadata": {},
   "outputs": [],
   "source": [
    "tt = 0\n",
    "file_isf_orig = xr.open_dataset(inputpath_mask+'nemo_5km_isf_masks_and_info_and_distance_oneFRIS_yy'+str(tt).zfill(2)+'.nc')\n",
    "nonnan_Nisf = file_isf_orig['Nisf'].where(np.isfinite(file_isf_orig['front_bot_depth_max']), drop=True).astype(int)\n",
    "file_isf_nonnan = file_isf_orig.sel(Nisf=nonnan_Nisf)\n",
    "large_isf = file_isf_nonnan['Nisf'].where(file_isf_nonnan['isf_area_here'] >= 2500, drop=True)\n",
    "file_isf = file_isf_nonnan.sel(Nisf=large_isf)\n"
   ]
  },
  {
   "cell_type": "code",
   "execution_count": null,
   "id": "3a7e4b7b-96fe-4dbd-a57f-2bf2b22acd5f",
   "metadata": {},
   "outputs": [],
   "source": [
    "file_isf_list = []\n",
    "for tt in range(40):\n",
    "    file_isf_list.append(xr.open_dataset(inputpath_mask+'nemo_5km_isf_masks_and_info_and_distance_oneFRIS_yy'+str(tt).zfill(2)+'.nc'))\n",
    "file_isf_allyy = xr.concat(file_isf_list, dim='time')   "
   ]
  },
  {
   "cell_type": "code",
   "execution_count": null,
   "id": "20e2ff21-dceb-4cdc-bab7-239bfec0e61b",
   "metadata": {},
   "outputs": [],
   "source": [
    "file_TS_list = []\n",
    "for tt in range(40):\n",
    "    file_TS_list.append(xr.open_dataset(inputpath_profiles+'T_S_mean_prof_corrected_km_contshelf_yy'+str(tt).zfill(2)+'.nc'))\n",
    "file_TS_allyy = xr.concat(file_TS_list, dim='time')                     \n"
   ]
  },
  {
   "cell_type": "code",
   "execution_count": null,
   "id": "41014e78-4c0f-4128-9d62-05e5938d1ae2",
   "metadata": {},
   "outputs": [],
   "source": [
    "for kisf in file_TS_allyy.Nisf:\n",
    "    plt.figure()\n",
    "    file_TS_allyy['theta_ocean']"
   ]
  },
  {
   "cell_type": "code",
   "execution_count": null,
   "id": "26be9dbc-c6f4-468d-acde-0a9d1cf7978c",
   "metadata": {},
   "outputs": [],
   "source": [
    "dom = 50\n",
    "\n",
    "f = plt.figure()\n",
    "f.set_size_inches(8.25*1.5, 8.25*1.5)\n",
    "\n",
    "ax={}\n",
    "\n",
    "leg_hdl = []\n",
    "\n",
    "i = 0\n",
    "    \n",
    "for kisf in tqdm(file_TS_allyy.Nisf):\n",
    "    \n",
    "    ax[i] = f.add_subplot(8,5,i+1)\n",
    "    kisf_data = file_TS_allyy['salinity_ocean'].sel(Nisf=kisf)\n",
    "\n",
    "    for tt in file_TS_allyy.time:\n",
    "    \n",
    "        kisf_tt_data = kisf_data.sel(time=tt).values\n",
    "\n",
    "        leg, = plt.plot(kisf_tt_data,-1*file_TS_allyy.depth, color='grey', alpha=0.1)\n",
    "\n",
    "    ax[i].set_title(str(file_isf_allyy['isf_name'].sel(time=tt,Nisf=kisf).values))\n",
    "    #ax[i].set_xlim(-2.2,2.5)\n",
    "    ax[i].set_xlim(25,35)\n",
    "\n",
    "    i = i+1\n",
    "        \n",
    "\n",
    "f.subplots_adjust(bottom=0.05, wspace=0.1)\n",
    "\n",
    "#f.legend(handles = leg_hdl , labels=['REALISTIC', 'COLDAMU', 'WARMROSS', 'WARMGETZ', 'NEW_REALISTIC', '2200', '2300'], loc='lower center', ncol=4)\n",
    "#f.legend(handles = leg_hdl , labels=['REALISTIC', 'COLDAMU', 'WARMROSS', 'HIGHGETZ'], loc='lower center', ncol=4)#, 'NEW_REALISTIC', '2200', '2300'], loc='lower center', ncol=4)\n",
    "\n",
    "f.tight_layout()\n",
    "sns.despine()\n"
   ]
  },
  {
   "cell_type": "code",
   "execution_count": null,
   "id": "69f24434-ea99-40db-aa35-35037ba25953",
   "metadata": {},
   "outputs": [],
   "source": [
    "file_TS_allyy['salinity_ocean'].sel(Nisf=66)"
   ]
  },
  {
   "cell_type": "code",
   "execution_count": null,
   "id": "9ba6a015-c29e-4ee8-8e23-dead96a01bef",
   "metadata": {},
   "outputs": [],
   "source": [
    "file_isf['isf_name']"
   ]
  },
  {
   "cell_type": "code",
   "execution_count": null,
   "id": "7adc3aff-6a73-4abc-965d-dcc1060cf349",
   "metadata": {},
   "outputs": [],
   "source": [
    "isf_dim = [10,11,12,13,18,22,23,24,25,30,31,33,38,39,40,42,43,44,45,47,48,51,52,53,54,55,58,61,65,66,69,70,71,73,75]\n",
    "isf_dim_new = file_isf.Nisf.values"
   ]
  },
  {
   "cell_type": "code",
   "execution_count": null,
   "id": "f5b7095c-ab38-475f-880c-7f2c2822a342",
   "metadata": {},
   "outputs": [],
   "source": [
    "for kisf in range(76):\n",
    "    if (kisf in isf_dim) and (kisf not in isf_dim_new):\n",
    "        plt.figure()\n",
    "        file_isf_orig['ISF_mask'].where(file_isf_orig['ISF_mask'] == kisf, drop=True).plot()\n",
    "        plt.title(file_isf_orig['isf_name'].sel(Nisf=kisf).values)\n",
    "\n",
    "    "
   ]
  },
  {
   "cell_type": "code",
   "execution_count": null,
   "id": "2b070ab1-0731-40b4-aea9-d2b3e65cf8cc",
   "metadata": {},
   "outputs": [],
   "source": [
    "file_isf_list = []\n",
    "for tt in range(40):\n",
    "    file_isf_list.append(xr.open_dataset(inputpath_mask+'nemo_5km_isf_masks_and_info_and_distance_oneFRIS_yy'+str(tt).zfill(2)+'.nc'))\n",
    "file_isf_allyy = xr.concat(file_isf_list, dim='time')                     \n"
   ]
  },
  {
   "cell_type": "code",
   "execution_count": null,
   "id": "703dfa7a-ccfd-4de0-833a-d17ae1310a8b",
   "metadata": {},
   "outputs": [],
   "source": [
    "kisf = 66\n",
    "for tt in range(40):\n",
    "    tt_GL = file_isf_allyy['GL_mask'].sel(time=tt)\n",
    "    tt_GL.where(tt_GL == kisf).plot(add_colorbar=False)"
   ]
  },
  {
   "cell_type": "code",
   "execution_count": null,
   "id": "1dc7d36b-ffc5-4a9b-a76c-5de1cede97ee",
   "metadata": {},
   "outputs": [],
   "source": [
    "NEMO_melt_rates_2D = xr.open_dataset(outputpath_melt+'melt_rates_2D_NEMO_yy'+str(tt).zfill(2)+'.nc')\n"
   ]
  },
  {
   "cell_type": "code",
   "execution_count": null,
   "id": "b4bca92d-7795-4f0f-bfd8-2f701fc1a56a",
   "metadata": {},
   "outputs": [],
   "source": [
    "NEMO_melt_rates_2D['melt_m_ice_per_y'].plot(vmax=30)"
   ]
  },
  {
   "cell_type": "code",
   "execution_count": null,
   "id": "c54969ac-3c56-4fa7-9eac-b447ee5c0709",
   "metadata": {},
   "outputs": [],
   "source": [
    "file_isf_orig['ISF_mask'].plot()"
   ]
  },
  {
   "cell_type": "code",
   "execution_count": null,
   "id": "9d209ac6-a6c0-4845-93af-f7bfb09dd57d",
   "metadata": {},
   "outputs": [],
   "source": [
    "plt.close('all')"
   ]
  },
  {
   "cell_type": "code",
   "execution_count": null,
   "id": "18bc365c-5667-4416-bf54-f119c9ee51c7",
   "metadata": {},
   "outputs": [],
   "source": [
    "(file_isf_orig['ISF_mask'] == kisf).plot()\n"
   ]
  },
  {
   "cell_type": "code",
   "execution_count": null,
   "id": "c4b5311a-51d2-4db5-8dcf-f39bb90a907f",
   "metadata": {},
   "outputs": [],
   "source": []
  }
 ],
 "metadata": {
  "kernelspec": {
   "display_name": "py38",
   "language": "python",
   "name": "py38"
  },
  "language_info": {
   "codemirror_mode": {
    "name": "ipython",
    "version": 3
   },
   "file_extension": ".py",
   "mimetype": "text/x-python",
   "name": "python",
   "nbconvert_exporter": "python",
   "pygments_lexer": "ipython3",
   "version": "3.8.12"
  }
 },
 "nbformat": 4,
 "nbformat_minor": 5
}
