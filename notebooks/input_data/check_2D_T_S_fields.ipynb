{
 "cells": [
  {
   "cell_type": "code",
   "execution_count": null,
   "id": "ca78327c-d56c-4a58-92c2-d62c71f96523",
   "metadata": {},
   "outputs": [],
   "source": [
    "\"\"\"\n",
    "Created on Tue Jan 31 14:27 2023\n",
    "\n",
    "Look at the extrapolated 2D fields\n",
    "\n",
    "Author: @claraburgard\n",
    "\"\"\""
   ]
  },
  {
   "cell_type": "code",
   "execution_count": null,
   "id": "14ae554d-5226-4a44-a5d8-9f4e8a69ba38",
   "metadata": {},
   "outputs": [],
   "source": [
    "import xarray as xr\n",
    "import matplotlib.pyplot as plt\n",
    "from tqdm.notebook import tqdm\n",
    "import cmocean"
   ]
  },
  {
   "cell_type": "code",
   "execution_count": null,
   "id": "f5dc0de8-4e88-4ff9-aaee-ae577ff5ddc4",
   "metadata": {},
   "outputs": [],
   "source": [
    "%matplotlib qt5"
   ]
  },
  {
   "cell_type": "markdown",
   "id": "60b02a82-eb7d-4b38-9b13-8bd78f1c9be7",
   "metadata": {},
   "source": [
    "READ IN DATA"
   ]
  },
  {
   "cell_type": "code",
   "execution_count": null,
   "id": "0c7af312-c10d-4f25-be73-a0b56710efb7",
   "metadata": {},
   "outputs": [],
   "source": [
    "nemo_run = 'bf663'"
   ]
  },
  {
   "cell_type": "code",
   "execution_count": null,
   "id": "5fb842c6-43fa-4c01-8e83-e2c8cbf6a448",
   "metadata": {},
   "outputs": [],
   "source": [
    "inputpath_profiles='/bettik/burgardc/DATA/NN_PARAM/interim/T_S_PROF/SMITH_'+nemo_run+'/'"
   ]
  },
  {
   "cell_type": "code",
   "execution_count": null,
   "id": "4013b03c-ce97-4f00-bf73-1212c32c3eaa",
   "metadata": {},
   "outputs": [],
   "source": [
    "isf_dim = [10,11,12,13,18,22,23,25,30,31,33,39,40,42,43,44,45,47,51,55,58,61,65,66,69,70,71,73,75]\n",
    "inputpath_mask = '/bettik/burgardc/DATA/NN_PARAM/interim/ANTARCTICA_IS_MASKS/SMITH_bf663/'\n",
    "file_isf_orig = xr.open_dataset(inputpath_mask+'nemo_5km_isf_masks_and_info_and_distance_oneFRIS_yy54.nc')\n",
    "file_isf = file_isf_orig.sel(Nisf = isf_dim).squeeze().drop('time')"
   ]
  },
  {
   "cell_type": "code",
   "execution_count": null,
   "id": "b2bfd2f8-349e-45cb-a13c-ca7c09b5294d",
   "metadata": {},
   "outputs": [],
   "source": [
    "yy_list = range(1970,1970+35)\n",
    "prof_list = []\n",
    "for yy in yy_list:\n",
    "    file_TS_yy = xr.open_dataset(inputpath_profiles+'T_S_mean_prof_corrected_km_contshelf_'+str(yy)+'.nc')\n",
    "    prof_list.append(file_TS_yy)\n",
    "    \n",
    "file_TS = xr.concat(prof_list, dim='time')\n",
    "file_TS_mean = file_TS.mean('time')\n",
    "file_TS_std = file_TS.std('time')"
   ]
  },
  {
   "cell_type": "code",
   "execution_count": null,
   "id": "c9a9d2d5-3689-4cb6-95ba-4e28d05b22b1",
   "metadata": {},
   "outputs": [],
   "source": [
    "(file_TS_mean['theta_ocean'] + file_TS_std['theta_ocean']).sel(Nisf=66).plot()\n",
    "(file_TS_mean['theta_ocean'] - file_TS_std['theta_ocean']).sel(Nisf=66).plot()"
   ]
  },
  {
   "cell_type": "code",
   "execution_count": null,
   "id": "d075fed4-f645-41c7-a2b7-04a21367837f",
   "metadata": {},
   "outputs": [],
   "source": [
    "kisf = 66\n",
    "T_mean_kisf = file_TS_mean['theta_ocean'].sel(Nisf=kisf)\n",
    "T_std_kisf = file_TS_std['theta_ocean'].sel(Nisf=kisf)"
   ]
  },
  {
   "cell_type": "code",
   "execution_count": null,
   "id": "5590296f-654b-4df7-87f0-3ee266bef379",
   "metadata": {},
   "outputs": [],
   "source": [
    "plt.plot(T_mean_kisf, -1*T_mean_kisf.depth)\n",
    "plt.fill_betweenx(-1*T_mean_kisf.depth, T_mean_kisf - T_std_kisf, T_mean_kisf + T_std_kisf, -1*T_mean_kisf.depth, alpha=0.2)\n"
   ]
  },
  {
   "cell_type": "code",
   "execution_count": null,
   "id": "14dc5bf5-fc4f-4dee-9e64-921c454e2d0a",
   "metadata": {},
   "outputs": [],
   "source": [
    "plt.contourf()"
   ]
  },
  {
   "cell_type": "code",
   "execution_count": null,
   "id": "d81a4368-941f-47cb-9e0b-0617dfd87f57",
   "metadata": {},
   "outputs": [],
   "source": [
    "kisf = 10\n",
    "mean_data = file_TS_mean['theta_ocean'].sel(Nisf=kisf)\n",
    "all_data = file_TS['theta_ocean'].sel(Nisf=kisf).dropna('depth')\n",
    "plt.contourf(all_data.time, -1*all_data.depth, all_data.T, cmap=cmocean.cm.thermal)\n",
    "plt.colorbar()"
   ]
  },
  {
   "cell_type": "code",
   "execution_count": null,
   "id": "54b1e264-2237-411c-ab5b-2bbf28689ebf",
   "metadata": {},
   "outputs": [],
   "source": [
    "regions = ['Weddell','Bellingshausen','Amundsen','Ross','East 1','East 2','Dronning Maud Land']\n",
    "colors = ['red','orange','brown','magenta','yellow','cyan','blue','magenta']\n",
    "\n",
    "f = plt.figure()\n",
    "f.set_size_inches(8.25*1.5, 8.25*1.5)\n",
    "\n",
    "ax={}\n",
    "\n",
    "leg_hdl = []\n",
    "\n",
    "i = 0\n",
    "for rr,reg in enumerate(regions):\n",
    "    \n",
    "    subset_isf = file_isf.Nisf.where(file_isf['region']==reg,drop=True)\n",
    "    \n",
    "    for kisf in tqdm(subset_isf.Nisf):\n",
    "\n",
    "        mean_data = file_TS_mean_bf663['theta_ocean'].sel(Nisf=kisf)\n",
    "        all_data = file_TS['theta_ocean'].sel(Nisf=kisf)\n",
    "        \n",
    "        ax[i] = f.add_subplot(6,6,i+1)\n",
    "            \n",
    "        leg, = plt.plot(mean_data,-1*mean_data.depth, 'k', linewidth=3)\n",
    "        for yy in all_data.time:\n",
    "            plt.plot(all_data.sel(time=yy),-1*mean_data.depth, color='grey', alpha=0.2)\n",
    "        leg_hdl.append(leg)\n",
    "            \n",
    "        \n",
    "        ax[i].set_title(str(file_isf['isf_name'].sel(Nisf=kisf).values))\n",
    "        ax[i].set_xlim(-2.2,2.5)\n",
    "        \n",
    "        i = i+1\n",
    "        \n",
    "\n",
    "f.subplots_adjust(bottom=0.05, wspace=0.1)\n",
    "\n",
    "f.tight_layout()\n",
    "sns.despine()"
   ]
  },
  {
   "cell_type": "code",
   "execution_count": null,
   "id": "3eb375bd-f9cf-48e0-a949-e32f2d973933",
   "metadata": {},
   "outputs": [],
   "source": [
    "regions = ['Weddell','Bellingshausen','Amundsen','Ross','East 1','East 2','Dronning Maud Land']\n",
    "colors = ['red','orange','brown','magenta','yellow','cyan','blue','magenta']\n",
    "\n",
    "f = plt.figure()\n",
    "f.set_size_inches(8.25*1.5, 8.25*1.5)\n",
    "\n",
    "ax={}\n",
    "\n",
    "leg_hdl = []\n",
    "\n",
    "i = 0\n",
    "for rr,reg in enumerate(regions):\n",
    "    \n",
    "    subset_isf = file_isf.Nisf.where(file_isf['region']==reg,drop=True)\n",
    "    \n",
    "    for kisf in tqdm(subset_isf.Nisf):\n",
    "\n",
    "        mean_data = file_TS_mean_bf663['theta_ocean'].sel(Nisf=kisf)\n",
    "        all_data = file_TS['theta_ocean'].sel(Nisf=kisf)\n",
    "        \n",
    "        ax[i] = f.add_subplot(6,6,i+1)\n",
    "            \n",
    "        leg, = plt.plot(mean_data,-1*mean_data.depth, 'k', linewidth=3)\n",
    "        for yy in all_data.time:\n",
    "            plt.plot(all_data.sel(time=yy),-1*mean_data.depth, color='grey', alpha=0.2)\n",
    "        leg_hdl.append(leg)\n",
    "            \n",
    "        \n",
    "        ax[i].set_title(str(file_isf['isf_name'].sel(Nisf=kisf).values))\n",
    "        ax[i].set_xlim(-2.2,2.5)\n",
    "        \n",
    "        i = i+1\n",
    "        \n",
    "\n",
    "f.subplots_adjust(bottom=0.05, wspace=0.1)\n",
    "\n",
    "f.tight_layout()\n",
    "sns.despine()"
   ]
  },
  {
   "cell_type": "code",
   "execution_count": null,
   "id": "488101ed-d86c-4118-af9f-84aae9604c55",
   "metadata": {},
   "outputs": [],
   "source": [
    "regions = ['Weddell','Bellingshausen','Amundsen','Ross','East 1','East 2','Dronning Maud Land']\n",
    "colors = ['red','orange','brown','magenta','yellow','cyan','blue','magenta']\n",
    "\n",
    "f = plt.figure()\n",
    "f.set_size_inches(8.25*1.5, 8.25*1.5)\n",
    "\n",
    "ax={}\n",
    "\n",
    "leg_hdl = []\n",
    "\n",
    "i = 0\n",
    "for rr,reg in enumerate(regions):\n",
    "    \n",
    "    subset_isf = file_isf.Nisf.where(file_isf['region']==reg,drop=True)\n",
    "    \n",
    "    for kisf in tqdm(subset_isf.Nisf):\n",
    "\n",
    "        mean_data = file_TS_mean_bf663['salinity_ocean'].sel(Nisf=kisf)\n",
    "        all_data = file_TS['salinity_ocean'].sel(Nisf=kisf)\n",
    "        \n",
    "        ax[i] = f.add_subplot(6,6,i+1)\n",
    "            \n",
    "        leg, = plt.plot(mean_data,-1*mean_data.depth, 'k', linewidth=3)\n",
    "        for yy in all_data.time:\n",
    "            plt.plot(all_data.sel(time=yy),-1*mean_data.depth, color='grey', alpha=0.2)\n",
    "        leg_hdl.append(leg)\n",
    "            \n",
    "        \n",
    "        ax[i].set_title(str(file_isf['isf_name'].sel(Nisf=kisf).values))\n",
    "        ax[i].set_xlim(29,35)\n",
    "        \n",
    "        i = i+1\n",
    "        \n",
    "\n",
    "f.subplots_adjust(bottom=0.05, wspace=0.1)\n",
    "\n",
    "f.tight_layout()\n",
    "sns.despine()"
   ]
  },
  {
   "cell_type": "code",
   "execution_count": null,
   "id": "0382f81d-394b-4a6d-b53b-0ee1991e3769",
   "metadata": {},
   "outputs": [],
   "source": [
    "regions = ['Weddell','Bellingshausen','Amundsen','Ross','East 1','East 2','Dronning Maud Land']\n",
    "colors = ['red','orange','brown','magenta','yellow','cyan','blue','magenta']\n",
    "\n",
    "f = plt.figure()\n",
    "f.set_size_inches(8.25*2, 8.25*1.5)\n",
    "\n",
    "ax={}\n",
    "\n",
    "leg_hdl = []\n",
    "\n",
    "i = 0\n",
    "for rr,reg in enumerate(regions):\n",
    "    \n",
    "    subset_isf = file_isf.Nisf.where(file_isf['region']==reg,drop=True)\n",
    "    \n",
    "    for kisf in tqdm(subset_isf.Nisf):\n",
    "\n",
    "        mean_data = file_TS_mean['theta_ocean'].sel(Nisf=kisf)\n",
    "        all_data = file_TS['theta_ocean'].sel(Nisf=kisf).dropna('depth')\n",
    "        \n",
    "        ax[i] = f.add_subplot(6,6,i+1)\n",
    "            \n",
    "        plt.contourf(all_data.time, -1*all_data.depth, all_data.T, cmap=cmocean.cm.thermal)\n",
    "        plt.colorbar()\n",
    "        leg_hdl.append(leg)\n",
    "            \n",
    "        \n",
    "        ax[i].set_title(str(file_isf['isf_name'].sel(Nisf=kisf).values))\n",
    "        #ax[i].set_xlim(-2.2,2.5)\n",
    "        \n",
    "        i = i+1\n",
    "        \n",
    "\n",
    "f.subplots_adjust(bottom=0.05, wspace=0.1)\n",
    "\n",
    "f.tight_layout()\n",
    "sns.despine()"
   ]
  },
  {
   "cell_type": "code",
   "execution_count": null,
   "id": "094619ab-5afa-4b15-8c30-47f5bf08eaf0",
   "metadata": {},
   "outputs": [],
   "source": [
    "all_data = file_TS['theta_ocean'].sel(Nisf=kisf).dropna('depth')\n"
   ]
  },
  {
   "cell_type": "code",
   "execution_count": null,
   "id": "1c65755f-aabe-4d99-9966-ac7e89fbd6dc",
   "metadata": {},
   "outputs": [],
   "source": [
    "file_TS"
   ]
  },
  {
   "cell_type": "code",
   "execution_count": null,
   "id": "2bbf4e98-b602-4631-a636-99c3fa0bb31b",
   "metadata": {},
   "outputs": [],
   "source": [
    "tt = 34\n",
    "T_S_2D_isfdraft = xr.open_dataset(inputpath_profiles+'T_S_2D_fields_isf_draft_oneFRIS_'+str(tt)+'.nc').squeeze().drop('time')"
   ]
  },
  {
   "cell_type": "code",
   "execution_count": null,
   "id": "9f2f43d4-4c4f-4bc0-9001-9cb3427b2a3e",
   "metadata": {},
   "outputs": [],
   "source": []
  }
 ],
 "metadata": {
  "kernelspec": {
   "display_name": "py38",
   "language": "python",
   "name": "py38"
  },
  "language_info": {
   "codemirror_mode": {
    "name": "ipython",
    "version": 3
   },
   "file_extension": ".py",
   "mimetype": "text/x-python",
   "name": "python",
   "nbconvert_exporter": "python",
   "pygments_lexer": "ipython3",
   "version": "3.8.12"
  }
 },
 "nbformat": 4,
 "nbformat_minor": 5
}
