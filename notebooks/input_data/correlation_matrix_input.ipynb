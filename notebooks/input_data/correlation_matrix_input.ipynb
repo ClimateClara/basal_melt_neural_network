{
 "cells": [
  {
   "cell_type": "code",
   "execution_count": null,
   "id": "d0202672-a3bf-4584-8d01-8510223ebb50",
   "metadata": {},
   "outputs": [],
   "source": [
    "\"\"\"\n",
    "Created on Mon May 02 11:15 2022\n",
    "\n",
    "Correlation matrix input data\n",
    "\n",
    "Author: @claraburgard\n",
    "\n",
    "\"\"\""
   ]
  },
  {
   "cell_type": "code",
   "execution_count": null,
   "id": "bb270910-70b4-4a74-ad34-59f622acf621",
   "metadata": {},
   "outputs": [],
   "source": [
    "import xarray as xr\n",
    "import numpy as np\n",
    "import pandas as pd\n",
    "from tqdm.notebook import trange, tqdm\n",
    "import seaborn as sns"
   ]
  },
  {
   "cell_type": "code",
   "execution_count": null,
   "id": "c94687a2-8f7f-43c8-a298-eb045033bb72",
   "metadata": {},
   "outputs": [],
   "source": [
    "sns.set_context('paper')"
   ]
  },
  {
   "cell_type": "code",
   "execution_count": null,
   "id": "73a5d42c-98ce-44eb-ba75-2bb579ea595e",
   "metadata": {},
   "outputs": [],
   "source": [
    "%matplotlib qt5"
   ]
  },
  {
   "cell_type": "code",
   "execution_count": null,
   "id": "c39035ef-41ee-4f53-af29-25623eb0994e",
   "metadata": {},
   "outputs": [],
   "source": [
    "inputpath_data = '/bettik/burgardc/DATA/NN_PARAM/interim/INPUT_DATA/'\n",
    "outputpath_nn_models = '/bettik/burgardc/DATA/NN_PARAM/interim/NN_MODELS/'\n",
    "outputpath_doc = '/bettik/burgardc/SCRIPTS/basal_melt_neural_networks/custom_doc/'\n",
    "plot_path = '/bettik/burgardc/PLOTS/NN_plots/input_vars/'"
   ]
  },
  {
   "cell_type": "code",
   "execution_count": null,
   "id": "c4d885b6-6496-4a7d-bede-f9c80f7d4f9a",
   "metadata": {},
   "outputs": [],
   "source": [
    "input_dataset = 'valid' #valid, train\n",
    "if input_dataset == 'train':\n",
    "    run_list = ['OPM006', 'OPM016', 'OPM018', 'OPM031-2'] #training dataset\n",
    "elif input_dataset == 'valid':\n",
    "    run_list = ['OPM021', 'OPM026', 'OPM027', 'OPM031-1'] #validationa dataset"
   ]
  },
  {
   "cell_type": "code",
   "execution_count": null,
   "id": "85cf13fe-60a5-418c-9d04-bf3cb697d8e8",
   "metadata": {},
   "outputs": [],
   "source": [
    "TS_input = 'extrapolated' # 'whole_prof'extrapolated"
   ]
  },
  {
   "cell_type": "code",
   "execution_count": null,
   "id": "b9e39a6b-5d1f-422a-b259-d53456229a75",
   "metadata": {},
   "outputs": [],
   "source": [
    "isf_list = [10, 11, 12, 13, 18, 21, 22, 23, 24, 25, 30, 31, 33, 38, 39, 40, 42, 43, 44, 45, 47, 48, 51, 52, 53, 54, 55, 58, 61, 65, 66, 69, 70, 71, 73, 75]"
   ]
  },
  {
   "cell_type": "code",
   "execution_count": null,
   "id": "7c4795aa-eb65-4ee7-899a-64a572a088f5",
   "metadata": {},
   "outputs": [],
   "source": [
    "if TS_input == 'whole_prof':\n",
    "    csv_path = inputpath_data + 'WHOLE_PROF/'\n",
    "elif TS_input == 'extrapolated':\n",
    "    csv_path = inputpath_data + 'EXTRAPOLATED_ISFDRAFT/'\n",
    "\n",
    "all_input_df = None        \n",
    "    \n",
    "for nemo_run in run_list:\n",
    "    \n",
    "    for kisf in tqdm(isf_list): \n",
    "    #for kisf in tqdm([23,66]): \n",
    "    #for kisf in tqdm([23]): \n",
    "        clean_df_nrun_kisf = pd.read_csv(csv_path + 'dataframe_input_isf'+str(kisf).zfill(3)+'_'+nemo_run+'.csv',index_col=[0,1,2])\n",
    "        clean_df_nrun_kisf.reset_index(drop=True, inplace=True)\n",
    "        clean_ds_nrun_kisf = clean_df_nrun_kisf.to_xarray()\n",
    "\n",
    "        if all_input_df is None:\n",
    "            all_input_df = clean_ds_nrun_kisf.copy()\n",
    "        else:\n",
    "            #print(clean_ds_nrun_kisf.index)\n",
    "            #print(all_input_df.index.max())\n",
    "            new_index = clean_ds_nrun_kisf.index.values + all_input_df.index.max().values+1\n",
    "            #print(new_index)\n",
    "            clean_ds_nrun_kisf = clean_ds_nrun_kisf.assign_coords({'index': new_index})\n",
    "            all_input_df = xr.concat([all_input_df, clean_ds_nrun_kisf], dim='index') \n",
    "\n",
    "#all_input_df.to_netcdf(new_path_input + 'dataset_input_'+timetag+'.nc','w')"
   ]
  },
  {
   "cell_type": "code",
   "execution_count": null,
   "id": "fa5f6133-a880-432e-9c4b-f381742c44ff",
   "metadata": {},
   "outputs": [],
   "source": [
    "corr_matrix = all_input_df.to_dataframe().corr()"
   ]
  },
  {
   "cell_type": "code",
   "execution_count": null,
   "id": "2525b00e-ece0-442e-8edc-950eeffc98a0",
   "metadata": {},
   "outputs": [],
   "source": [
    "corr_matrix_round = corr_matrix.round(1)"
   ]
  },
  {
   "cell_type": "code",
   "execution_count": null,
   "id": "b452ad5b-e548-482f-bf08-f598b62191fc",
   "metadata": {},
   "outputs": [],
   "source": [
    "corr_matrix_round"
   ]
  },
  {
   "cell_type": "code",
   "execution_count": null,
   "id": "3f155e53-e2b8-44bc-9729-e7dc7e83bb04",
   "metadata": {},
   "outputs": [],
   "source": [
    "if TS_input == 'whole_prof':\n",
    "    f = plt.figure(figsize=(8.24*8,8.24*8))\n",
    "elif TS_input == 'extrapolated':\n",
    "    f = plt.figure(figsize=(8.24,8.24))\n",
    "sns.heatmap(corr_matrix_round, annot=True, vmax=1, vmin=-1, center=0, cmap='vlag')\n",
    "f.savefig(plot_path+'cross_correlation_input_'+TS_input+'_'+input_dataset+'.png')"
   ]
  },
  {
   "cell_type": "code",
   "execution_count": null,
   "id": "a42d02d9-7771-48f2-b037-bf05b0c132a8",
   "metadata": {},
   "outputs": [],
   "source": [
    "TS_input\n"
   ]
  },
  {
   "cell_type": "code",
   "execution_count": null,
   "id": "1afb71c5-0a01-460a-88f5-8894d371c98a",
   "metadata": {},
   "outputs": [],
   "source": [
    "input_dataset"
   ]
  },
  {
   "cell_type": "code",
   "execution_count": null,
   "id": "52fd66de-68b6-4dc1-b541-85b7635c3d3c",
   "metadata": {},
   "outputs": [],
   "source": []
  }
 ],
 "metadata": {
  "kernelspec": {
   "display_name": "neuralnet",
   "language": "python",
   "name": "neuralnet"
  },
  "language_info": {
   "codemirror_mode": {
    "name": "ipython",
    "version": 3
   },
   "file_extension": ".py",
   "mimetype": "text/x-python",
   "name": "python",
   "nbconvert_exporter": "python",
   "pygments_lexer": "ipython3",
   "version": "3.9.4"
  }
 },
 "nbformat": 4,
 "nbformat_minor": 5
}
