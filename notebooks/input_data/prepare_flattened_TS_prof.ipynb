{
 "cells": [
  {
   "cell_type": "code",
   "execution_count": null,
   "id": "ebf2847f-f5f1-4b3b-87d8-01158a04c288",
   "metadata": {},
   "outputs": [],
   "source": [
    "\"\"\"\n",
    "Created on Wed Apr 13 14:17 2022\n",
    "\n",
    "Prepare vertical profiles of T and S\n",
    "\n",
    "Author: @claraburgard\n",
    "\"\"\""
   ]
  },
  {
   "cell_type": "code",
   "execution_count": null,
   "id": "6d7254de-eb14-4b78-a997-d26414c4607b",
   "metadata": {},
   "outputs": [],
   "source": [
    "import numpy as np\n",
    "import xarray as xr\n",
    "from tqdm.notebook import trange, tqdm\n",
    "import basal_melt_neural_networks.data_formatting as dfmt\n",
    "\n",
    "from dask import delayed\n",
    "\n",
    "import distributed\n",
    "import glob"
   ]
  },
  {
   "cell_type": "markdown",
   "id": "aa65d411-d8ae-4c87-9290-da89e26c75d2",
   "metadata": {},
   "source": [
    "READ IN DATA"
   ]
  },
  {
   "cell_type": "code",
   "execution_count": null,
   "id": "82cfa1ba-1e87-460f-9103-772311b50c1f",
   "metadata": {},
   "outputs": [],
   "source": [
    "nemo_run = 'OPM031'"
   ]
  },
  {
   "cell_type": "code",
   "execution_count": null,
   "id": "f8541474-b3a8-4425-bfd0-7d0371d180de",
   "metadata": {},
   "outputs": [],
   "source": [
    "inputpath_data='/bettik/burgardc/SCRIPTS/basal_melt_param/data/interim/NEMO_eORCA025.L121_'+nemo_run+'_ANT_STEREO/'\n",
    "inputpath_mask = '/bettik/burgardc/SCRIPTS/basal_melt_param/data/interim/ANTARCTICA_IS_MASKS/nemo_5km_'+nemo_run+'/'\n",
    "inputpath_profiles = '/bettik/burgardc/SCRIPTS/basal_melt_param/data/interim/T_S_PROF/nemo_5km_'+nemo_run+'/'\n",
    "outputpath_simple = '/bettik/burgardc/SCRIPTS/basal_melt_param/data/interim/SIMPLE/nemo_5km_'+nemo_run+'/'\n",
    "inputpath_plumes = '/bettik/burgardc/SCRIPTS/basal_melt_param/data/interim/PLUMES/nemo_5km_'+nemo_run+'/'\n",
    "outputpath = '/bettik/burgardc/SCRIPTS/basal_melt_param/data/interim/'\n",
    "plot_path = '/bettik/burgardc/PLOTS/first-look/'"
   ]
  },
  {
   "cell_type": "code",
   "execution_count": null,
   "id": "750bade1-e9a5-42fc-8389-2605f0fc7f52",
   "metadata": {},
   "outputs": [],
   "source": [
    "# make the domain a little smaller to make the computation even more efficient - file isf has already been made smaller at its creation\n",
    "map_lim = [-3000000,3000000]\n",
    "\n",
    "chunk_size = 300"
   ]
  },
  {
   "cell_type": "code",
   "execution_count": null,
   "id": "4db707b4-8213-4889-bb35-818ded0d68a1",
   "metadata": {},
   "outputs": [],
   "source": [
    "file_isf_orig = xr.open_dataset(inputpath_mask+'nemo_5km_isf_masks_and_info_and_distance_new.nc')\n",
    "nonnan_Nisf = file_isf_orig['Nisf'].where(np.isfinite(file_isf_orig['front_bot_depth_max']), drop=True).astype(int)\n",
    "file_isf_nonnan = file_isf_orig.sel(Nisf=nonnan_Nisf)\n",
    "large_isf = file_isf_nonnan['Nisf'].where(file_isf_nonnan['isf_area_here'] >= 2500, drop=True)\n",
    "file_isf = file_isf_nonnan.sel(Nisf=large_isf)"
   ]
  },
  {
   "cell_type": "code",
   "execution_count": null,
   "id": "6d8e5b1c-8b51-46fe-8cab-b55a97ef3706",
   "metadata": {},
   "outputs": [],
   "source": [
    "#file_TS_orig = xr.open_mfdataset(inputpath_profiles+'T_S_profiles_per_iceshelf_1980-2018.nc', chunks={'Nisf': 1})\n",
    "#file_TS_orig = xr.open_mfdataset(inputpath_profiles+'T_S_mean_prof_km_1980-2018.nc', chunks={'Nisf': 1})\n",
    "#file_TS_orig = xr.open_mfdataset(inputpath_profiles+'T_S_mean_prof_km_contshelf_1980-2018.nc', chunks={'Nisf': 1})\n",
    "file_TS_orig = xr.open_dataset(inputpath_profiles+'T_S_mean_prof_corrected_km_contshelf_and_offshore_1980-2018.nc')\n",
    "file_TS = file_TS_orig.sel(Nisf=large_isf)\n",
    "file_TS_dom = file_TS.sel(profile_domain=50).drop('profile_domain')"
   ]
  },
  {
   "cell_type": "code",
   "execution_count": null,
   "id": "48ec7e32-0e18-4c8e-8235-994f84f28a2b",
   "metadata": {},
   "outputs": [],
   "source": [
    "#file_TS_cut_bot = file_TS_dom.where(file_TS_dom.depth < file_isf['front_bot_depth_max'].max(), drop=True) # to keep in case I go for offshore profiles at some point\n",
    "file_TS_cut_bot = file_TS_dom.dropna('depth', how='all')"
   ]
  },
  {
   "cell_type": "code",
   "execution_count": null,
   "id": "bbb49eb8-e981-4ae5-9d30-61da1f2e1c57",
   "metadata": {},
   "outputs": [],
   "source": [
    "file_TS_cut_top_bot = xr.concat([file_TS_cut_bot.isel(depth=0),file_TS_cut_bot.where(file_TS_dom.depth >= 100, drop=True)], dim='depth')"
   ]
  },
  {
   "cell_type": "code",
   "execution_count": null,
   "id": "b19d4f00-534e-4e5c-9eee-8efb22f34abb",
   "metadata": {},
   "outputs": [],
   "source": [
    "filled_TS = file_TS_cut_top_bot.ffill('depth')"
   ]
  },
  {
   "cell_type": "code",
   "execution_count": null,
   "id": "e808c9bb-9b2d-4aa2-9dbd-9242abf77b95",
   "metadata": {},
   "outputs": [],
   "source": [
    "T_ds = None\n",
    "S_ds = None\n",
    "\n",
    "for dd, ddepth in tqdm(enumerate(filled_TS.depth)):\n",
    "    T_depth = filled_TS['theta_ocean'].sel(depth=ddepth).drop('depth')\n",
    "    T_da = xr.DataArray(data=T_depth).rename('T_'+str(dd+1).zfill(3))\n",
    "    \n",
    "    if T_ds is None:\n",
    "        T_ds = T_da.to_dataset()\n",
    "    else:\n",
    "        T_ds = xr.merge([T_ds, T_da])\n",
    "        \n",
    "    S_depth = filled_TS['salinity_ocean'].sel(depth=ddepth).drop('depth')\n",
    "    S_da = xr.DataArray(data=S_depth).rename('S_'+str(dd+1).zfill(3))\n",
    "\n",
    "    if S_ds is None:\n",
    "        S_ds = S_da.to_dataset()\n",
    "    else:\n",
    "        S_ds = xr.merge([S_ds, S_da])\n",
    "\n",
    "T_S_prof_flat = xr.merge([T_ds, S_ds])\n",
    "T_S_prof_flat.to_netcdf(inputpath_profiles+'flattened_T_S_profiles_not_mapped_yet.nc')"
   ]
  },
  {
   "cell_type": "markdown",
   "id": "f5839fee-9b6a-49eb-bf88-662a03d8d230",
   "metadata": {},
   "source": [
    "START DASK HERE"
   ]
  },
  {
   "cell_type": "code",
   "execution_count": null,
   "id": "c69efdea-a02e-44d3-97ec-37bc365ed65f",
   "metadata": {},
   "outputs": [],
   "source": [
    "client = distributed.Client(n_workers=12, dashboard_address=':8795', local_directory='/tmp', memory_limit='4GB')"
   ]
  },
  {
   "cell_type": "code",
   "execution_count": null,
   "id": "12a0b2a1-b8f1-4d4a-9a79-eefa74c0d64e",
   "metadata": {},
   "outputs": [],
   "source": [
    "file_isf = file_isf.chunk(chunks={'x': chunk_size, 'y': chunk_size, 'Nisf': 1})"
   ]
  },
  {
   "cell_type": "code",
   "execution_count": null,
   "id": "46514af9-ebf1-4a45-8337-0626c96f897d",
   "metadata": {},
   "outputs": [],
   "source": [
    "filled_TS"
   ]
  },
  {
   "cell_type": "code",
   "execution_count": null,
   "id": "b6cb3952-6abd-4090-967e-82660e65632a",
   "metadata": {},
   "outputs": [],
   "source": [
    "T_list = []\n",
    "S_list = []\n",
    "for dd, ddepth in tqdm(enumerate(filled_TS.depth)):\n",
    "    T_list.append('T_'+str(dd+1).zfill(3)) \n",
    "    S_list.append('S_'+str(dd+1).zfill(3)) "
   ]
  },
  {
   "cell_type": "code",
   "execution_count": null,
   "id": "bcce8026-a4f0-4c4c-ae4e-a7df97aa4ea9",
   "metadata": {},
   "outputs": [],
   "source": [
    "T_S_prof_flat = xr.open_dataset(inputpath_profiles+'flattened_T_S_profiles_not_mapped_yet.nc')\n",
    "T_prof_flat_map = file_isf['ISF_mask']\n",
    "S_prof_flat_map = file_isf['ISF_mask']\n",
    "T_S_prof_isf_all = None\n",
    "\n",
    "for kisf in tqdm(file_isf.Nisf):\n",
    "    T_prof_map_isf = T_prof_flat_map.where(file_isf['ISF_mask']==kisf, drop=True) \n",
    "    T_prof_isf = T_prof_map_isf.where(T_prof_map_isf!=kisf, T_S_prof_flat[T_list].sel(Nisf=[kisf]))#.drop('Nisf'))\n",
    "\n",
    "    S_prof_map_isf = S_prof_flat_map.where(file_isf['ISF_mask']==kisf, drop=True) \n",
    "    S_prof_isf = S_prof_map_isf.where(T_prof_map_isf!=kisf, T_S_prof_flat[S_list].sel(Nisf=[kisf]))#.drop('Nisf'))\n",
    "\n",
    "    T_S_prof_isf = xr.merge([T_prof_isf, S_prof_isf])    \n",
    "    T_S_prof_isf.to_netcdf(inputpath_profiles+'flattened_T_S_profiles_isf'+str(kisf.values).zfill(3)+'.nc')\n",
    "    \n",
    "    #T_S_prof_isf_whole_mask = T_S_prof_isf.reindex_like(file_isf['ISF_mask'])\n",
    "\n",
    "#    if T_S_prof_isf_all is None:\n",
    "#        T_S_prof_isf_all = T_S_prof_isf\n",
    "#    else:\n",
    "#        T_S_prof_isf_all = T_S_prof_isf_all.combine_first(T_S_prof_isf)\n",
    "\n",
    "#T_S_prof_isf_all.to_netcdf(inputpath_profiles+'flattened_T_S_profiles.nc')        "
   ]
  },
  {
   "cell_type": "code",
   "execution_count": null,
   "id": "f04b0341-f9e4-43b8-aecf-5cb41fbbb18e",
   "metadata": {},
   "outputs": [],
   "source": [
    "T_S_prof_isf"
   ]
  },
  {
   "cell_type": "markdown",
   "id": "831d30e4-9c2a-4372-9744-8867d91b4902",
   "metadata": {},
   "source": [
    "ALL THE FOLLOWING SOLUTIONS ARE CRASHING"
   ]
  },
  {
   "cell_type": "code",
   "execution_count": null,
   "id": "a10bb446-216b-480b-8e79-71641673d65d",
   "metadata": {},
   "outputs": [],
   "source": [
    "T_S_prof_flat = xr.open_dataset(inputpath_profiles+'flattened_T_S_profiles_not_mapped_yet.nc')\n",
    "T_prof_flat_map = file_isf['ISF_mask'].where(file_isf['ISF_mask']>1).copy()\n",
    "S_prof_flat_map = file_isf['ISF_mask'].where(file_isf['ISF_mask']>1).copy()\n",
    "\n",
    "for kisf in tqdm(file_isf.Nisf):\n",
    "    T_prof_flat_map = T_prof_flat_map.where(file_isf['ISF_mask']!=kisf, T_S_prof_flat[T_list].sel(Nisf=kisf).drop('Nisf'))\n",
    "    S_prof_flat_map = S_prof_flat_map.where(file_isf['ISF_mask']!=kisf, T_S_prof_flat[S_list].sel(Nisf=kisf).drop('Nisf'))\n",
    "\n",
    "T_S_prof_flat_map = xr.merge([T_prof_flat_map, S_prof_flat_map])    \n",
    "T_S_prof_flat_map.to_netcdf(inputpath_profiles+'flattened_T_S_profiles.nc')"
   ]
  },
  {
   "cell_type": "code",
   "execution_count": null,
   "id": "c329d612-66c8-4756-8aa8-63faa3e9c49a",
   "metadata": {},
   "outputs": [],
   "source": [
    "T_S_prof_flat = xr.open_dataset(inputpath_profiles+'flattened_T_S_profiles_not_mapped_yet.nc', chunks={'x': chunk_size, 'y': chunk_size, 'time': 5, 'Nisf': 1})\n",
    "T_S_prof_flat_map = file_isf['ISF_mask'].where(file_isf['ISF_mask']>1).copy()\n",
    "T_S_prof_flat_map = T_S_prof_flat_map.where(file_isf['ISF_mask']!=file_isf.Nisf, T_S_prof_flat.where(T_S_prof_flat.Nisf==file_isf.Nisf)).drop('Nisf')\n",
    "T_S_prof_flat_map = T_S_prof_flat_map.where(file_isf['ISF_mask']==file_isf.Nisf)\n",
    "\n",
    "T_S_prof_flat_map.sum('Nisf').to_netcdf(inputpath_profiles+'flattened_T_S_profiles.nc')"
   ]
  }
 ],
 "metadata": {
  "kernelspec": {
   "display_name": "neuralnet",
   "language": "python",
   "name": "neuralnet"
  },
  "language_info": {
   "codemirror_mode": {
    "name": "ipython",
    "version": 3
   },
   "file_extension": ".py",
   "mimetype": "text/x-python",
   "name": "python",
   "nbconvert_exporter": "python",
   "pygments_lexer": "ipython3",
   "version": "3.9.4"
  }
 },
 "nbformat": 4,
 "nbformat_minor": 5
}
