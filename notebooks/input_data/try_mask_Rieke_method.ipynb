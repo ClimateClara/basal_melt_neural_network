{
 "cells": [
  {
   "cell_type": "code",
   "execution_count": null,
   "id": "606d491b-5c19-4ac8-93f1-7bfe41b25e08",
   "metadata": {},
   "outputs": [],
   "source": [
    "\"\"\"\n",
    "Created on Wed Feb 22 10:37 2023\n",
    "\n",
    "Try to apply script from Rieke from the CryoHackathon to better define the masks\n",
    "\n",
    "@author: Clara Burgard\n",
    "\"\"\""
   ]
  },
  {
   "cell_type": "code",
   "execution_count": null,
   "id": "f32511c8-81cb-490f-8e06-31c70fca63a4",
   "metadata": {},
   "outputs": [],
   "source": [
    "import xarray as xr\n",
    "import matplotlib.pyplot as plt\n",
    "import basal_melt_param.useful_functions as uf\n",
    "import matplotlib as mpl\n",
    "from tqdm.notebook import tqdm\n",
    "import basal_melt_param.plume_functions as pf\n",
    "from scipy.interpolate import griddata\n",
    "import basal_melt_param.create_isf_mask_functions as isfmf\n",
    "import cc3d\n"
   ]
  },
  {
   "cell_type": "code",
   "execution_count": null,
   "id": "60bbc3c8-f56b-472b-801e-405bb7e69e00",
   "metadata": {},
   "outputs": [],
   "source": [
    "%matplotlib qt5"
   ]
  },
  {
   "cell_type": "markdown",
   "id": "ad893e9b-c283-43e7-9010-f8b67b53eea0",
   "metadata": {},
   "source": [
    "READ IN DATA"
   ]
  },
  {
   "cell_type": "code",
   "execution_count": null,
   "id": "dbe34e15-4a77-4a30-9148-5682e351e3dd",
   "metadata": {},
   "outputs": [],
   "source": [
    "nemo_run = 'bi646'\n",
    "map_lim = [-3000000,3000000]\n"
   ]
  },
  {
   "cell_type": "code",
   "execution_count": null,
   "id": "ec6427d2-6cbd-4e00-895d-077ef751df05",
   "metadata": {},
   "outputs": [],
   "source": [
    "outputpath_mask='/bettik/burgardc/DATA/NN_PARAM/interim/ANTARCTICA_IS_MASKS/SMITH_'+nemo_run+'/'\n",
    "inputpath_data='/bettik/burgardc/DATA/NN_PARAM/interim/SMITH_'+nemo_run+'/'\n",
    "inputpath_data2='/bettik/burgardc/DATA/BASAL_MELT_PARAM/interim/NEMO_eORCA025.L121_OPM016_ANT_STEREO/'\n",
    "\n",
    "outputpath_boxes = '/bettik/burgardc/DATA/NN_PARAM/interim/BOXES/SMITH_'+nemo_run+'/'\n",
    "inputpath_raw = '/bettik/burgardc/DATA/NN_PARAM/raw/'"
   ]
  },
  {
   "cell_type": "code",
   "execution_count": null,
   "id": "3575e59c-2498-42b2-bbdc-155405d8b529",
   "metadata": {},
   "outputs": [],
   "source": [
    "file_isf = xr.open_dataset(outputpath_mask + 'nemo_5km_isf_masks_and_info_and_distance_oneFRIS_1970.nc')\n",
    "\n",
    "file_mask = xr.open_dataset(inputpath_data+'custom_lsmask_Ant_stereo_clean.nc')#, chunks={'x': chunk_size, 'y': chunk_size})\n",
    "file_mask_cut = uf.cut_domain_stereo(file_mask, map_lim, map_lim)\n",
    "\n",
    "file_TS_orig = xr.open_dataset(inputpath_data + '3D_variables_of_interest_allyy_Ant_stereo_2000.nc')\n",
    "file_TS_cut = uf.cut_domain_stereo(file_TS_orig, map_lim, map_lim)"
   ]
  },
  {
   "cell_type": "code",
   "execution_count": null,
   "id": "4f802d52-fdfa-44f6-bfc6-3a806282b6b1",
   "metadata": {},
   "outputs": [],
   "source": [
    "file_isf.Nisf.where(file_isf['isf_name'] == 'Bach', drop=True).values[0]"
   ]
  },
  {
   "cell_type": "code",
   "execution_count": null,
   "id": "b33e4b69-0fe6-49b7-9cb2-f2c9f5c6864a",
   "metadata": {},
   "outputs": [],
   "source": [
    "file_conc = xr.open_dataset(inputpath_data+'isfdraft_conc_Ant_stereo.nc')\n",
    "file_conc_cut = uf.cut_domain_stereo(file_conc, map_lim, map_lim)"
   ]
  },
  {
   "cell_type": "code",
   "execution_count": null,
   "id": "ffd95055-8b8d-479b-a900-5d5ea5b87491",
   "metadata": {},
   "outputs": [],
   "source": [
    "def def_isf_mask(arr_def_ismask, file_msk, file_conc, lon, lat, FRIS_one=True, \n",
    "                 mouginot_basins=False, connectivity = 4, threshold = 4):\n",
    "    \n",
    "    \"\"\"\n",
    "    Define a mask for the individual ice shelves. \n",
    "    \n",
    "    This function defines a mask for the individual ice shelves. I think it works for both stereographic and latlon grids but I have not tried the latter.\n",
    "    \n",
    "    Parameters\n",
    "    ----------\n",
    "    arr_def_ismask : np.array\n",
    "        Array containing minlon,maxlon,minlat,maxlat,is_nb or xr.Dataset with drainage basins\n",
    "    file_msk : xr.DataArray\n",
    "        Mask separating ocean (0), ice shelves (between 0 and 2, excluding 0 and 2), grounded ice (2) \n",
    "    file_conc : xr.DataArray\n",
    "        Ice shelf concentration for each point (between 0 and 1)\n",
    "    lon : xr.DataArray\n",
    "        Longitude (depends on x,y for stereographic)\n",
    "    lat : xr.DataArray\n",
    "        Latitude (depends on x,y for stereographic)\n",
    "    FRIS_one : Boolean \n",
    "        If True, Filchner-Ronne are considered as one ice-shelf\n",
    "    mouginot_basins : Boolean \n",
    "        If True, arr_def_ismask\n",
    "    connectivity : int\n",
    "        4 or 8 for 2D, defines what is considered a \"connected\" point\n",
    "    threshold : int\n",
    "        Size of lonely pixel areas to remove\n",
    "        \n",
    "    Returns\n",
    "    -------\n",
    "    new_mask : xr.DataArray\n",
    "        Array showing the coverage of each ice shelf with the respective ID, open ocean is 1, land is 0\n",
    "    \"\"\"    \n",
    "    \n",
    "    if mouginot_basins:\n",
    "        \n",
    "        isf_mask = file_msk.copy()\n",
    "        # only ice shelves\n",
    "        isf_only_mask = file_conc > 0\n",
    "        \n",
    "        #find connected components\n",
    "        dusted = cc3d.dust(isf_only_mask.values.astype(np.int64), \n",
    "                   threshold = threshold, \n",
    "                   connectivity = connectivity, \n",
    "                   in_place = False)\n",
    "        \n",
    "        labels_out = cc3d.connected_components(dusted, \n",
    "                                       connectivity = connectivity)\n",
    "        \n",
    "        labelled = xr.DataArray(labels_out, \n",
    "                        coords = {\"y\": file_conc.y, \"x\": file_conc.x}, \n",
    "                        dims = [\"y\", \"x\"],\n",
    "                        name = \"labels\")\n",
    "        \n",
    "        # assign ID for basins\n",
    "        isf_mask_basins = arr_def_ismask['ID_isf'].where(isf_only_mask > 0)\n",
    "        # cut connected areas to area covered by basin stuff\n",
    "        labelled_isf = labelled.where(np.isfinite(isf_mask_basins))\n",
    "        \n",
    "        # creating the mask\n",
    "        new_mask = isf_mask_basins.copy()\n",
    "        \n",
    "        new_mask = new_mask.where(\n",
    "            new_mask != 58, 57).where(\n",
    "            new_mask != 151, 99).where(\n",
    "            new_mask != 109, 107).where(\n",
    "            new_mask != 116, 5).where(\n",
    "            new_mask != 143, 97).where(\n",
    "            new_mask != 137, 99)\n",
    "        \n",
    "                    \n",
    "        arr_def_ismask['name_isf'].loc[{'Nisf': 57}] = 'Ross'\n",
    "        arr_def_ismask['name_isf'].loc[{'Nisf': 58}] = np.nan\n",
    "        \n",
    "        if FRIS_one:\n",
    "            new_mask = new_mask.where(new_mask != 104, 103)\n",
    "            arr_def_ismask['name_isf'].loc[{'Nisf': 103}] = 'Filchner-Ronne'\n",
    "            arr_def_ismask['name_isf'].loc[{'Nisf': 104}] = np.nan\n",
    "\n",
    "        arr_def_ismask['name_isf'] = arr_def_ismask['name_isf'].dropna('Nisf')\n",
    "        \n",
    "        # do some fine-tuning for overlapping ice shelves   \n",
    "        problem_regions = [2,3,8,9,10,13,23,26,27,28,29,32,34,38,44,46,50,57,59,60,\n",
    "                   63,70,71,72,73,74,76,77,78,83,84,85,89,91,96,103]\n",
    "        \n",
    "        for conn_label in range(1,labels_out.max()):\n",
    "            basins_conn_domain = summary_mask_basins['ID_isf'].where(labelled_isf == conn_label, drop=True)\n",
    "            max_label = basins_conn_domain.max().values\n",
    "            min_label = basins_conn_domain.min().values\n",
    "            \n",
    "            # for areas with two labels in problem regions, take the one with the most points\n",
    "            if max_label != min_label:\n",
    "                groups_isf = basins_conn_domain.groupby(basins_conn_domain)\n",
    "                groups_labels = groups_isf.groups.keys()\n",
    "                if groups_isf.count().ID_isf.count() > 1:\n",
    "                    if any(x in problem_regions for x in list(groups_labels)):\n",
    "                        #print(conn_label)\n",
    "                        #print(min_label,max_label)\n",
    "                        dominant_isf = groups_isf.count().idxmax().values\n",
    "                        if dominant_isf == 12:\n",
    "                            dominant_isf = 14\n",
    "                        #print(dominant_isf)\n",
    "                        new_mask = new_mask.where(labelled_isf != conn_label, dominant_isf)\n",
    "            \n",
    "        # other fine-tuning: if an ice shelf is split, keep the largest connected domain\n",
    "        dx = abs(file_conc.x[1] - file_conc.x[0])\n",
    "        dy = abs(file_conc.y[1] - file_conc.y[0])\n",
    "\n",
    "        split_regions = [70,77,83,89,103] \n",
    "\n",
    "        for rreg in split_regions:\n",
    "            # look where there are the same labels in several unconnected domains\n",
    "            labels_same = list(new_mask.groupby(labelled_isf).groups) * (new_mask.groupby(labelled_isf).median() == rreg)\n",
    "            labels_same = labels_same[labels_same>0]\n",
    "\n",
    "            area_before = 0\n",
    "            for conn_label in labels_same:\n",
    "                # compute the area of the different unconnected areas\n",
    "                conc_for_area = file_conc.where(labelled_isf == conn_label, drop=True)\n",
    "                area_now = (conc_for_area * dx * dy).sum()\n",
    "                if area_now >= area_before:\n",
    "                    area_before = area_now\n",
    "                    largest_label = conn_label\n",
    "\n",
    "            # set the smaller areas to 159\n",
    "            for small_label in (labels_same.where(labels_same != largest_label).dropna('labels')):\n",
    "                new_mask = new_mask.where(labelled_isf != small_label, 159)\n",
    "\n",
    "        new_mask = new_mask + 1\n",
    "        new_mask_info = arr_def_ismask.copy()\n",
    "        new_mask_info['Nisf'] = new_mask_info['Nisf'] + 1\n",
    "    \n",
    "    else:\n",
    "        \n",
    "        arr_def_general = arr_def_ismask[arr_def_ismask[:, 3] == -50]\n",
    "        arr_def_detail = arr_def_ismask[arr_def_ismask[:, 3] != -50]\n",
    "\n",
    "        isf_yes = (file_msk > 0) & (file_msk < 2)\n",
    "        isf_mask = file_msk.copy()\n",
    "        # is_mask0.plot()\n",
    "        for i, mm in enumerate(arr_def_general):\n",
    "            #print('general ' + str(i))\n",
    "            isf_mask = isf_mask.where(~(uf.in_range(lon, mm[0:2]) & uf.in_range(lat, mm[2:4])), int(mm[4]))\n",
    "        for i, mm in enumerate(arr_def_detail):\n",
    "            #print('detail ' + str(i))\n",
    "            isf_mask = isf_mask.where(~(uf.in_range(lon, mm[0:2]) & uf.in_range(lat, mm[2:4])), int(mm[4]))\n",
    "        isf_mask = isf_mask.where(isf_yes)\n",
    "\n",
    "        if FRIS_one:\n",
    "            isf_mask = isf_mask.where(isf_mask != 21, 11) # Filchner (21) and Ronne (11) are combined\n",
    "    \n",
    "    new_mask = new_mask.where(file_msk != 0, 1).where(file_msk != 2, 0)\n",
    "    \n",
    "    if mouginot_basins:\n",
    "        mask_file = xr.merge([new_mask.rename('ISF_mask'), \n",
    "                              new_mask_info['name_isf'], \n",
    "                              new_mask_info['name_reg'], \n",
    "                              new_mask_info['Nisf_orig']])\n",
    "    else:\n",
    "        mask_file = new_mask\n",
    "    \n",
    "    return mask_file"
   ]
  },
  {
   "cell_type": "code",
   "execution_count": null,
   "id": "1b8a5e1a-3ddd-4627-a086-fbf8e1cf5d29",
   "metadata": {},
   "outputs": [],
   "source": [
    "tt = 1970\n",
    "file_msk = file_mask_cut['ls_mask012'].sel(time=tt)\n",
    "file_conc = file_conc_cut['isfdraft_conc'].sel(time=tt).drop('time')\n",
    "summary_mask_basins = xr.open_dataset('/bettik/burgardc/DATA/NN_PARAM/interim/basins_mask_extrap_50km.nc')\n"
   ]
  },
  {
   "cell_type": "code",
   "execution_count": null,
   "id": "da070790-0c38-4f43-9c0b-8e8b7ecdde2a",
   "metadata": {},
   "outputs": [],
   "source": [
    "summary_mask_basins['name_isf'].sel(Nisf=23)"
   ]
  },
  {
   "cell_type": "code",
   "execution_count": null,
   "id": "bb3725aa-c457-4105-a6b2-19ff4dff84ca",
   "metadata": {},
   "outputs": [],
   "source": [
    "mask_file = def_isf_mask(summary_mask_basins, file_msk, file_conc, file_isf.longitude, file_isf.latitude, FRIS_one=True, \n",
    "                 mouginot_basins=True, connectivity = 4, threshold = 4)"
   ]
  },
  {
   "cell_type": "code",
   "execution_count": null,
   "id": "fee0480f-da35-463b-9a3d-d1ff17b49a3c",
   "metadata": {},
   "outputs": [],
   "source": [
    "if not mask_file.Nisf.where(mask_file['Nisf_orig'] == 103, drop=True):\n",
    "    print('lol')#.values[0].astype(int)"
   ]
  },
  {
   "cell_type": "code",
   "execution_count": null,
   "id": "799fe934-2e06-4bc8-9e9e-67e9a4426c5f",
   "metadata": {},
   "outputs": [],
   "source": [
    "mask.where(file_msk != 0, 1).where(file_msk != 2, 0).plot()"
   ]
  },
  {
   "cell_type": "code",
   "execution_count": null,
   "id": "d9dc78d9-441f-47d8-9bed-699177e2f008",
   "metadata": {},
   "outputs": [],
   "source": [
    "isf_only_mask = file_conc_cut['isfdraft_conc'] > 0"
   ]
  },
  {
   "cell_type": "code",
   "execution_count": null,
   "id": "f3ac3424-910b-4389-b890-78a0a2a60e5f",
   "metadata": {},
   "outputs": [],
   "source": [
    "isf_only_mask_00 = isf_only_mask.isel(time=30).drop('time')"
   ]
  },
  {
   "cell_type": "code",
   "execution_count": null,
   "id": "81779da6-dad0-49f1-8d6f-9dc7126450a7",
   "metadata": {},
   "outputs": [],
   "source": [
    "#level of connectivity (4 or 8 for 2D)\n",
    "connectivity = 4\n",
    "#size of lonely pixel areas to remove # Rieke put 25\n",
    "threshold = 4"
   ]
  },
  {
   "cell_type": "code",
   "execution_count": null,
   "id": "95db4229-25ca-4ebe-9614-e2586ad97d31",
   "metadata": {},
   "outputs": [],
   "source": [
    "#remove lonely pixels\n",
    "#data is sliced to exclude time, data type needs to be int!!\n",
    "dusted = cc3d.dust(isf_only_mask_00.values.astype(np.int64), \n",
    "                   threshold = threshold, \n",
    "                   connectivity = connectivity, \n",
    "                   in_place = False)\n",
    "#find connected components\n",
    "labels_out = cc3d.connected_components(dusted, \n",
    "                                       connectivity = connectivity)\n"
   ]
  },
  {
   "cell_type": "code",
   "execution_count": null,
   "id": "0322d193-ebd9-443f-9534-81c902b1a701",
   "metadata": {},
   "outputs": [],
   "source": [
    "labelled = xr.DataArray(labels_out, \n",
    "                        coords = {\"y\": file_conc_cut.y, \"x\": file_conc_cut.x}, \n",
    "                        dims = [\"y\", \"x\"],\n",
    "                        name = \"labels\")"
   ]
  },
  {
   "cell_type": "code",
   "execution_count": null,
   "id": "d64d9263-8b96-438e-94eb-57f3a7e5c8e1",
   "metadata": {},
   "outputs": [],
   "source": [
    "labelled.plot()"
   ]
  },
  {
   "cell_type": "code",
   "execution_count": null,
   "id": "8941b9df-a93f-44bc-a614-7e9400f119dd",
   "metadata": {},
   "outputs": [],
   "source": [
    "summary_mask_basins = xr.open_dataset('/bettik/burgardc/DATA/NN_PARAM/interim/basins_mask_extrap_50km.nc')\n"
   ]
  },
  {
   "cell_type": "code",
   "execution_count": null,
   "id": "4097e583-9f7f-4bfa-b81e-b11b350b3aad",
   "metadata": {},
   "outputs": [],
   "source": [
    "isf_mask_basins = summary_mask_basins['ID_isf'].where(isf_only_mask_00 > 0)"
   ]
  },
  {
   "cell_type": "code",
   "execution_count": null,
   "id": "051c135d-6da2-4082-b4ae-e4ec7a56ffa4",
   "metadata": {},
   "outputs": [],
   "source": [
    "labelled_isf = labelled.where(np.isfinite(isf_mask_basins))"
   ]
  },
  {
   "cell_type": "code",
   "execution_count": null,
   "id": "4d77878a-ebf4-442b-b5f2-c14aac6c4948",
   "metadata": {},
   "outputs": [],
   "source": [
    "labelled_isf.plot()"
   ]
  },
  {
   "cell_type": "code",
   "execution_count": null,
   "id": "b1dffc7e-71c2-4f3b-9dbc-9905ae406e9e",
   "metadata": {},
   "outputs": [],
   "source": [
    "isf_only_mask_00.plot()"
   ]
  },
  {
   "cell_type": "code",
   "execution_count": null,
   "id": "f075f052-bee5-48ad-98de-17c06dbfb9ae",
   "metadata": {},
   "outputs": [],
   "source": [
    "combined_test_isf_mask = isf_mask_basins.copy()"
   ]
  },
  {
   "cell_type": "code",
   "execution_count": null,
   "id": "5ed5b5ed-5a85-44de-8cd7-6eab43ced174",
   "metadata": {},
   "outputs": [],
   "source": [
    "labels_out.max()"
   ]
  },
  {
   "cell_type": "code",
   "execution_count": null,
   "id": "a299210f-85fe-4e5d-8fc5-8dcc29727032",
   "metadata": {},
   "outputs": [],
   "source": [
    "isf_mask_basins.plot()"
   ]
  },
  {
   "cell_type": "code",
   "execution_count": null,
   "id": "2e44e860-1823-4810-8d07-894dbde72154",
   "metadata": {},
   "outputs": [],
   "source": [
    "groups= basins_conn_area.groupby(basins_conn_area)#.count()"
   ]
  },
  {
   "cell_type": "code",
   "execution_count": null,
   "id": "c55cce90-b0eb-4eb4-8b99-b98612bceeaa",
   "metadata": {},
   "outputs": [],
   "source": [
    "groups.count().ID_isf.count()"
   ]
  },
  {
   "cell_type": "markdown",
   "id": "46b511d7-9212-41b8-8c88-7e98d352debf",
   "metadata": {},
   "source": [
    "MERGE ROSS AND FRIS"
   ]
  },
  {
   "cell_type": "code",
   "execution_count": null,
   "id": "23a8d663-d0f9-4f87-8431-47b7a6077cf6",
   "metadata": {},
   "outputs": [],
   "source": [
    "new_mask = isf_mask_basins.copy()"
   ]
  },
  {
   "cell_type": "code",
   "execution_count": null,
   "id": "dbf70499-371a-47f8-b981-fe69e6d079f5",
   "metadata": {},
   "outputs": [],
   "source": [
    "new_mask = new_mask.where(new_mask != 58, 57).where(\n",
    "    new_mask != 104, 103).where(\n",
    "    new_mask != 151, 99).where(\n",
    "    new_mask != 109, 107).where(\n",
    "    new_mask != 116, 5).where(\n",
    "    new_mask != 143, 97).where(\n",
    "    new_mask != 137, 99)"
   ]
  },
  {
   "cell_type": "code",
   "execution_count": null,
   "id": "c7ba082a-7dba-47a9-aaf6-0df6d0037cab",
   "metadata": {},
   "outputs": [],
   "source": [
    "summary_mask_basins['name_isf'].loc[{'Nisf': 57}] = 'Ross'\n",
    "summary_mask_basins['name_isf'].loc[{'Nisf': 58}] = np.nan\n",
    "summary_mask_basins['name_isf'].loc[{'Nisf': 103}] = 'Filchner-Ronne'\n",
    "summary_mask_basins['name_isf'].loc[{'Nisf': 104}] = np.nan\n",
    "summary_mask_basins['name_isf'] = summary_mask_basins['name_isf'].dropna('Nisf')"
   ]
  },
  {
   "cell_type": "code",
   "execution_count": null,
   "id": "2894bb42-1e68-42eb-b729-564553dc7d48",
   "metadata": {},
   "outputs": [],
   "source": [
    "problem_regions = [2,3,8,9,10,13,23,26,27,28,29,32,34,38,44,46,50,57,59,60,\n",
    "                   63,70,71,72,73,74,76,77,78,83,84,85,89,91,96,103]"
   ]
  },
  {
   "cell_type": "code",
   "execution_count": null,
   "id": "d9a0f031-b8bc-4c2c-a557-c3ebf2dd14d8",
   "metadata": {},
   "outputs": [],
   "source": [
    "for conn_label in range(1,labels_out.max()):\n",
    "    basins_conn_domain = summary_mask_basins['ID_isf'].where(labelled_isf == conn_label, drop=True)\n",
    "    max_label = basins_conn_domain.max().values\n",
    "    min_label = basins_conn_domain.min().values\n",
    "\n",
    "    if max_label != min_label:\n",
    "        groups_isf = basins_conn_domain.groupby(basins_conn_domain)\n",
    "        groups_labels = groups_isf.groups.keys()\n",
    "        if groups_isf.count().ID_isf.count() > 1:\n",
    "            if any(x in problem_regions for x in list(groups_labels)):\n",
    "                #print(conn_label)\n",
    "                #print(min_label,max_label)\n",
    "                dominant_isf = groups_isf.count().idxmax().values\n",
    "                if dominant_isf == 12:\n",
    "                    dominant_isf = 14\n",
    "                #print(dominant_isf)\n",
    "                new_mask = new_mask.where(labelled_isf != conn_label, dominant_isf)\n"
   ]
  },
  {
   "cell_type": "code",
   "execution_count": null,
   "id": "68f5c081-aad2-4d92-96f3-9ef6e6486771",
   "metadata": {},
   "outputs": [],
   "source": [
    "conc_00 = file_conc_cut['isfdraft_conc'].isel(time=30)\n",
    "dx = abs(conc_00.x[1] - conc_00.x[0])\n",
    "dy = abs(conc_00.y[1] - conc_00.y[0])"
   ]
  },
  {
   "cell_type": "code",
   "execution_count": null,
   "id": "43a3dbe0-97a8-4901-aa42-84cfd6fbca67",
   "metadata": {},
   "outputs": [],
   "source": [
    "split_regions = [70,77,83,89] \n",
    "\n",
    "for rreg in split_regions:\n",
    "    labels_same = list(new_mask.groupby(labelled_isf).groups) * (new_mask.groupby(labelled_isf).median() == rreg)\n",
    "    labels_same = labels_same[labels_same>0]\n",
    "\n",
    "    area_before = 0\n",
    "    for conn_label in labels_same:\n",
    "        conc_for_area = conc_00.where(labelled_isf == conn_label, drop=True)\n",
    "        area_now = (conc_for_area * dx * dy).sum()\n",
    "        if area_now >= area_before:\n",
    "            area_before = area_now\n",
    "            largest_label = conn_label\n",
    "\n",
    "    for small_label in (labels_same.where(labels_same != largest_label).dropna('labels')):\n",
    "        new_mask = new_mask.where(labelled_isf != small_label, 159)"
   ]
  },
  {
   "cell_type": "code",
   "execution_count": null,
   "id": "2ef9fa4f-5ce2-4988-b096-57de61276361",
   "metadata": {},
   "outputs": [],
   "source": [
    "for kisf in summary_mask_basins['Nisf']:\n",
    "    if (new_mask.groupby(labelled_isf).median() == 70).sum() > 1:\n",
    "        new_mask.groupby(labelled_isf)"
   ]
  },
  {
   "cell_type": "code",
   "execution_count": null,
   "id": "151bd219-6da0-428b-886b-0220883677d9",
   "metadata": {},
   "outputs": [],
   "source": [
    "(new_mask.groupby(labelled_isf).median() == 70)"
   ]
  },
  {
   "cell_type": "code",
   "execution_count": null,
   "id": "e7f26c5b-6512-4d5b-9605-7bce66c9a356",
   "metadata": {},
   "outputs": [],
   "source": [
    "(new_mask.groupby(labelled_isf).where(new_mask.groupby(labelled_isf).max() == 70)).plot()"
   ]
  },
  {
   "cell_type": "code",
   "execution_count": null,
   "id": "45b0ea5c-7c64-4f5e-9b64-a598e4d7ddd6",
   "metadata": {},
   "outputs": [],
   "source": [
    "labels_same = list(new_mask.groupby(labelled_isf).groups) * (new_mask.groupby(labelled_isf).median() == 70)\n",
    "labels_same = labels_same[labels_same>0]\n"
   ]
  },
  {
   "cell_type": "code",
   "execution_count": null,
   "id": "cae09cd1-3bdd-4925-9ff1-9267f6375f90",
   "metadata": {},
   "outputs": [],
   "source": [
    "new_mask.plot()"
   ]
  },
  {
   "cell_type": "code",
   "execution_count": null,
   "id": "d110b237-9242-4b27-b125-729613ebd761",
   "metadata": {},
   "outputs": [],
   "source": [
    "dx = abs(conc_00.x[1] - conc_00.x[0])\n",
    "dy = abs(conc_00.y[1] - conc_00.y[0])\n",
    "\n",
    "area_before = 0\n",
    "for conn_label in labels_same:\n",
    "    conc_for_area = conc_00.where(labelled_isf == conn_label, drop=True)\n",
    "    area_now = (conc_for_area * dx * dy).sum()\n",
    "    if area_now >= area_before:\n",
    "        area_before = area_now\n",
    "        largest_label = conn_label\n",
    "\n",
    "test_mask = new_mask.copy()\n",
    "for small_label in (labels_same.where(labels_same != largest_label).dropna('labels')):\n",
    "    print(small_label.values)\n",
    "    test_mask = test_mask.where(labelled_isf != small_label, 159)"
   ]
  },
  {
   "cell_type": "code",
   "execution_count": null,
   "id": "5b370459-f595-475c-92ba-c409c7994475",
   "metadata": {},
   "outputs": [],
   "source": [
    "test_mask.plot()"
   ]
  },
  {
   "cell_type": "code",
   "execution_count": null,
   "id": "c2c1aa14-cc25-4329-b4f7-38b587e15c21",
   "metadata": {},
   "outputs": [],
   "source": [
    "conc_00.where(labelled_isf == 80).plot()"
   ]
  },
  {
   "cell_type": "code",
   "execution_count": null,
   "id": "e3ef0bf2-9a28-43f1-a46d-1828ea728324",
   "metadata": {},
   "outputs": [],
   "source": [
    "largest_label"
   ]
  },
  {
   "cell_type": "code",
   "execution_count": null,
   "id": "150b1f34-1f0c-4b6e-bb76-60e08ab3444c",
   "metadata": {},
   "outputs": [],
   "source": [
    "new_ground_mask = isfmf.def_ground_mask(file_mask_cut['ls_mask012'].isel(time=30), 40, 120)"
   ]
  },
  {
   "cell_type": "code",
   "execution_count": null,
   "id": "f0e6b1b8-7de1-44fc-af7e-fcd1f819c04a",
   "metadata": {},
   "outputs": [],
   "source": [
    "plt.contour(new_ground_mask.x,new_ground_mask.y,new_ground_mask,levels=[0,1],linewidths=0.5,colors='black',zorder=10)\n",
    "file_conc_cut['isfdraft_conc'].isel(time=0).where(new_mask != 99).plot()"
   ]
  },
  {
   "cell_type": "code",
   "execution_count": null,
   "id": "0bb6c627-b1d5-40e4-8926-8f623e9f4a06",
   "metadata": {},
   "outputs": [],
   "source": [
    "plt.contour(new_ground_mask.x,new_ground_mask.y,new_ground_mask,levels=[0,1],linewidths=0.5,colors='black',zorder=10)\n",
    "summary_mask_basins['ID_isf'].plot(vmin=26,vmax=28)"
   ]
  },
  {
   "cell_type": "code",
   "execution_count": null,
   "id": "624c558e-a1cd-4d71-b30c-7ffc10a9abd5",
   "metadata": {},
   "outputs": [],
   "source": [
    "plt.contour(new_ground_mask.x,new_ground_mask.y,new_ground_mask,levels=[0,1],linewidths=0.5,colors='black',zorder=10)\n",
    "new_mask.plot(vmin=26,vmax=28)"
   ]
  },
  {
   "cell_type": "code",
   "execution_count": null,
   "id": "a8b6b258-aea6-4e23-9e38-4a4330b79bf8",
   "metadata": {},
   "outputs": [],
   "source": [
    "plt.contour(new_ground_mask.x,new_ground_mask.y,new_ground_mask,levels=[0,1],linewidths=0.5,colors='black',zorder=10)\n",
    "conc_00.where(labelled_isf == 80).plot()"
   ]
  },
  {
   "cell_type": "code",
   "execution_count": null,
   "id": "e67942c5-3e99-4a84-b104-715d7db91301",
   "metadata": {},
   "outputs": [],
   "source": [
    "file_conc_cut['isfdraft_conc'].isel(time=0).where(new_mask != 151).plot()"
   ]
  },
  {
   "cell_type": "code",
   "execution_count": null,
   "id": "b13985b4-5abc-4210-a158-08cff6015584",
   "metadata": {},
   "outputs": [],
   "source": [
    "all_isf_areas = new_mask.groupby(new_mask).count()\n",
    "large_isf_Nisf = all_isf_areas.where(all_isf_areas > 100, drop=True).ID_isf"
   ]
  },
  {
   "cell_type": "code",
   "execution_count": null,
   "id": "bc2aeaa6-c965-405a-a7b1-553af91236ac",
   "metadata": {},
   "outputs": [],
   "source": [
    "for idx in large_isf_Nisf:\n",
    "    if idx not in [12, 96, 158]:\n",
    "        print(idx.values, summary_mask_basins['name_isf'].sel(Nisf=idx).values)"
   ]
  },
  {
   "cell_type": "code",
   "execution_count": null,
   "id": "8677d1a5-f1d4-4a9e-85a3-0b56567df02a",
   "metadata": {},
   "outputs": [],
   "source": [
    "summary_mask_basins['ID_isf'].where(labelled_isf == 33, drop=True).plot()"
   ]
  },
  {
   "cell_type": "code",
   "execution_count": null,
   "id": "72492839-eb14-4138-abe1-84226698e52d",
   "metadata": {},
   "outputs": [],
   "source": [
    "conn_label = 47\n",
    "new_mask = isf_mask_basins.copy()\n",
    "basins_conn_domain = summary_mask_basins['ID_isf'].where(labelled_isf == conn_label, drop=True)\n",
    "max_label = basins_conn_domain.max().values\n",
    "min_label = basins_conn_domain.min().values\n",
    "    \n",
    "if max_label != min_label:\n",
    "    groups_isf = basins_conn_domain.groupby(basins_conn_domain)\n",
    "    groups_labels = groups_isf.groups.keys()\n",
    "    if groups_isf.count().ID_isf.count() > 1:\n",
    "        if any(x in problem_regions for x in list(groups_labels)):\n",
    "            print(conn_label)\n",
    "            print(min_label,max_label)\n",
    "            dominant_isf = groups_isf.count().idxmax().values\n",
    "            print(dominant_isf)\n",
    "            new_mask = new_mask.where(labelled_isf != conn_label, dominant_isf)\n",
    "            \n"
   ]
  },
  {
   "cell_type": "code",
   "execution_count": null,
   "id": "d62ea891-f2f0-4bb7-a2d4-f60d0828dc96",
   "metadata": {},
   "outputs": [],
   "source": [
    "new_mask.where(labelled_isf == conn_label).plot()"
   ]
  },
  {
   "cell_type": "code",
   "execution_count": null,
   "id": "fee32646-4616-484c-a295-c4428210f68b",
   "metadata": {},
   "outputs": [],
   "source": [
    "groups_isf.count().idxmax()"
   ]
  },
  {
   "cell_type": "code",
   "execution_count": null,
   "id": "775b6b7a-c6c8-481f-81ae-93e66fcfa70d",
   "metadata": {},
   "outputs": [],
   "source": [
    "basins_conn_domain = summary_mask_basins['ID_isf'].where(labelled_isf == 47, drop=True)"
   ]
  },
  {
   "cell_type": "code",
   "execution_count": null,
   "id": "59752861-03f9-447a-9bbb-1837b08b612d",
   "metadata": {},
   "outputs": [],
   "source": [
    "basins_conn_domain.plot()"
   ]
  },
  {
   "cell_type": "code",
   "execution_count": null,
   "id": "dc563ba9-9b82-4364-b933-ba175b6e96ad",
   "metadata": {},
   "outputs": [],
   "source": [
    "max_area != min_area"
   ]
  },
  {
   "cell_type": "code",
   "execution_count": null,
   "id": "f0ec0f1f-81be-4fb4-9a53-37029f5f02de",
   "metadata": {},
   "outputs": [],
   "source": [
    "groups_isf.count().ID_isf.count()"
   ]
  },
  {
   "cell_type": "code",
   "execution_count": null,
   "id": "84f59063-d5e6-420e-a1a0-cb420ae3b6da",
   "metadata": {},
   "outputs": [],
   "source": [
    "for ii in groups.groups:\n",
    "    print(ii)"
   ]
  },
  {
   "cell_type": "code",
   "execution_count": null,
   "id": "b3ef00fc-b502-487a-92dc-11de6b5c051e",
   "metadata": {},
   "outputs": [],
   "source": [
    "if 4 in groups:\n",
    "    print('yes')"
   ]
  },
  {
   "cell_type": "code",
   "execution_count": null,
   "id": "885d8f5e-0331-480d-9e86-38ba2968caa5",
   "metadata": {},
   "outputs": [],
   "source": [
    "basins_conn_area = summary_mask_basins['ID_isf'].where(labelled_isf == 0, drop=True)"
   ]
  },
  {
   "cell_type": "code",
   "execution_count": null,
   "id": "2465a4d7-7491-4e76-b8b2-ab7a7fa3847d",
   "metadata": {},
   "outputs": [],
   "source": [
    "groups = basins_conn_area.groupby(basins_conn_area)"
   ]
  },
  {
   "cell_type": "code",
   "execution_count": null,
   "id": "1a861218-008e-45e6-a57a-af4f835e9d7b",
   "metadata": {},
   "outputs": [],
   "source": [
    "groups"
   ]
  },
  {
   "cell_type": "code",
   "execution_count": null,
   "id": "b75522ac-e2ce-41a3-8798-237e52ed25ba",
   "metadata": {},
   "outputs": [],
   "source": [
    "file_conc_cutbasins_conn_area.plot()\n"
   ]
  },
  {
   "cell_type": "code",
   "execution_count": null,
   "id": "de3b96d4-c798-44a8-a9db-ffe5bac0b96f",
   "metadata": {},
   "outputs": [],
   "source": [
    "file_conc_cut['isfdraft_conc'].isel(time=0).where(basins_conn_domain, drop=True).plot()"
   ]
  },
  {
   "cell_type": "code",
   "execution_count": null,
   "id": "69251904-4bd5-475f-9c98-695ba1509eb9",
   "metadata": {},
   "outputs": [],
   "source": [
    "isf_only_mask_00.where(basins_conn_domain, drop=True).plot()"
   ]
  },
  {
   "cell_type": "code",
   "execution_count": null,
   "id": "009a9a15-6fcb-40a0-a167-6358039b963f",
   "metadata": {},
   "outputs": [],
   "source": [
    "basins_conn_area.plot()"
   ]
  },
  {
   "cell_type": "code",
   "execution_count": null,
   "id": "7878194c-bbaa-49f3-97cc-8839b093ed73",
   "metadata": {},
   "outputs": [],
   "source": []
  },
  {
   "cell_type": "code",
   "execution_count": null,
   "id": "0e972f09-dbd2-4e95-8043-485e5de435fc",
   "metadata": {},
   "outputs": [],
   "source": [
    "file_conc_cut['isfdraft_conc'].isel(time=0).where(summary_mask_basins['ID_isf'] < 2).plot()"
   ]
  },
  {
   "cell_type": "code",
   "execution_count": null,
   "id": "d83f2264-947c-4fb8-948f-625ac8574781",
   "metadata": {},
   "outputs": [],
   "source": [
    "for idx in summary_mask_basins['name_isf'].Nisf:\n",
    "    print(idx.values, summary_mask_basins['name_isf'].sel(Nisf=idx).values)"
   ]
  },
  {
   "cell_type": "code",
   "execution_count": null,
   "id": "24787b3a-0b55-42ef-a69e-e8c91fc6015b",
   "metadata": {},
   "outputs": [],
   "source": [
    "isf_mask_basins.plot()"
   ]
  },
  {
   "cell_type": "code",
   "execution_count": null,
   "id": "bdb42d46-19d0-4555-a08b-8eb69e5dec1b",
   "metadata": {},
   "outputs": [],
   "source": []
  }
 ],
 "metadata": {
  "kernelspec": {
   "display_name": "py38",
   "language": "python",
   "name": "py38"
  },
  "language_info": {
   "codemirror_mode": {
    "name": "ipython",
    "version": 3
   },
   "file_extension": ".py",
   "mimetype": "text/x-python",
   "name": "python",
   "nbconvert_exporter": "python",
   "pygments_lexer": "ipython3",
   "version": "3.8.12"
  }
 },
 "nbformat": 4,
 "nbformat_minor": 5
}
