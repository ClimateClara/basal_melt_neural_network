{
 "cells": [
  {
   "cell_type": "code",
   "execution_count": null,
   "id": "d3583510-f584-4543-9c95-18a707cd5d4b",
   "metadata": {},
   "outputs": [],
   "source": [
    "\"\"\"\n",
    "Created on Wed Apr 13 14:17 2022\n",
    "\n",
    "Prepare csv for individual runs \n",
    "\n",
    "Author: @claraburgard\n",
    "\"\"\""
   ]
  },
  {
   "cell_type": "markdown",
   "id": "5f3c0584-3a9a-424e-a0f0-c5630eee10c6",
   "metadata": {},
   "source": [
    "FOR EACH POINT:\n",
    "- T and S extrapolated to ice draft depth\n",
    "- T and S mean\n",
    "- Distance to front\n",
    "- Distance to the grounding line\n",
    "- ice draft zonal and meridional slope in x- and y-direction\n",
    "- bedrock zonal and meridional slope in x- and y-direction\n",
    "- Ice draft depth\n",
    "- Bathymetry\n",
    "- utide\n",
    "- Ice draft concentration\n",
    "- Max bathymetry \n",
    "- Target: melt m ice per yr"
   ]
  },
  {
   "cell_type": "code",
   "execution_count": null,
   "id": "6a60f5de-bf69-4a60-ac95-59a63847b320",
   "metadata": {},
   "outputs": [],
   "source": [
    "import numpy as np\n",
    "import xarray as xr\n",
    "from tqdm.notebook import trange, tqdm\n",
    "import basal_melt_neural_networks.data_formatting as dfmt"
   ]
  },
  {
   "cell_type": "markdown",
   "id": "f8a9e7d1-c559-448a-8434-3b643030f529",
   "metadata": {},
   "source": [
    "READ IN DATA"
   ]
  },
  {
   "cell_type": "code",
   "execution_count": null,
   "id": "948a373b-c36b-434a-bdc3-fdcb490aff41",
   "metadata": {},
   "outputs": [],
   "source": [
    "nemo_run = 'EPM034' # 'EPM031', 'EPM034'\n",
    "\n",
    "\n",
    "if nemo_run == 'EPM031' or nemo_run=='EPM026':\n",
    "    yy_start = 2049\n",
    "    yy_end = 2058\n",
    "elif nemo_run == 'EPM034':\n",
    "    yy_start = 2119\n",
    "    yy_end = 2128"
   ]
  },
  {
   "cell_type": "code",
   "execution_count": null,
   "id": "9002f0ba-ba08-4db0-b072-1307a05030f4",
   "metadata": {},
   "outputs": [],
   "source": [
    "inputpath_data='/bettik/burgardc/DATA/NN_PARAM/interim/NEMO_eORCA025.L121_'+nemo_run+'_ANT_STEREO/'\n",
    "inputpath_mask = '/bettik/burgardc/DATA/NN_PARAM/interim/ANTARCTICA_IS_MASKS/nemo_5km_'+nemo_run+'/'\n",
    "inputpath_profiles = '/bettik/burgardc/DATA/NN_PARAM/interim/T_S_PROF/nemo_5km_'+nemo_run+'/'\n",
    "inputpath_plumes = '/bettik/burgardc/DATA/NN_PARAM/interim/PLUMES/nemo_5km_'+nemo_run+'/'\n",
    "inputpath_boxes = '/bettik/burgardc/DATA/NN_PARAM/interim/BOXES/nemo_5km_'+nemo_run+'/'\n",
    "\n",
    "outputpath_melt = '/bettik/burgardc/DATA/NN_PARAM/processed/MELT_RATE/nemo_5km_'+nemo_run+'/'\n",
    "outputpath_nn = '/bettik/burgardc/DATA/NN_PARAM/interim/INPUT_DATA/PIERRE_'+nemo_run+'_EXTRAPDRAFT_CHUNKS/'\n",
    "inputpath_tides = '/bettik/burgardc/DATA/BASAL_MELT_PARAM/interim/TIDES/'\n",
    "\n",
    "outputpath = '/bettik/burgardc/DATA/NN_PARAM/interim/'"
   ]
  },
  {
   "cell_type": "markdown",
   "id": "1415af73-a87c-43e0-9bea-cc2a00620b87",
   "metadata": {},
   "source": [
    "Input variables"
   ]
  },
  {
   "cell_type": "code",
   "execution_count": null,
   "id": "e152620f-1403-42ae-b866-ff5a99e18778",
   "metadata": {},
   "outputs": [],
   "source": [
    "map_lim = [-3000000,3000000]\n",
    "\n",
    "\n",
    "utide_file = xr.open_dataset(inputpath_tides + 'tidal_velocity_nemo_Ant_stereo.nc').rename({'ttv':'u_tide'})\n",
    "u_tide = dfmt.cut_domain_stereo(utide_file['u_tide'], map_lim, map_lim)"
   ]
  },
  {
   "cell_type": "code",
   "execution_count": null,
   "id": "e3d84d6f-6055-4409-9c55-70ee33a98e13",
   "metadata": {},
   "outputs": [],
   "source": [
    "for tt in tqdm(range(yy_start,yy_end+1)): #continue at 1978\n",
    "    \n",
    "    file_mask_orig = xr.open_dataset(inputpath_data+'other_mask_vars_Ant_stereo_'+str(tt)+'.nc')\n",
    "    file_mask_orig_cut = dfmt.cut_domain_stereo(file_mask_orig, map_lim, map_lim)\n",
    "\n",
    "    file_other = xr.open_dataset(inputpath_data+'corrected_draft_bathy_isf_'+str(tt)+'.nc')#, chunks={'x': chunk_size, 'y': chunk_size})\n",
    "    file_other_cut = dfmt.cut_domain_stereo(file_other, map_lim, map_lim)\n",
    "\n",
    "    file_conc = xr.open_dataset(inputpath_data+'isfdraft_conc_Ant_stereo_'+str(tt)+'.nc')\n",
    "    file_conc_cut = dfmt.cut_domain_stereo(file_conc, map_lim, map_lim)\n",
    "\n",
    "\n",
    "    # T and S extrapolated to ice draft depth\n",
    "    T_S_2D_isfdraft = xr.open_dataset(inputpath_profiles+'T_S_2D_fields_isf_draft_oneFRIS_'+str(tt)+'.nc').squeeze().drop('time')\n",
    "    \n",
    "    # T and S mean and std\n",
    "    T_S_2D_meanstd = xr.open_dataset(inputpath_profiles + 'T_S_2D_meanstd_isf_draft_oneFRIS_'+str(tt)+'.nc')\n",
    "    \n",
    "    # dIF, dGL\n",
    "    file_isf_orig = xr.open_dataset(inputpath_mask+'nemo_5km_isf_masks_and_info_and_distance_oneFRIS_'+str(tt)+'.nc')\n",
    "    nonnan_Nisf = file_isf_orig['Nisf'].where(np.isfinite(file_isf_orig['front_bot_depth_max']), drop=True).astype(int)\n",
    "    file_isf_nonnan = file_isf_orig.sel(Nisf=nonnan_Nisf)\n",
    "    large_isf = file_isf_nonnan['Nisf'].where(file_isf_nonnan['isf_area_here'] >= 2500, drop=True)\n",
    "    file_isf = file_isf_nonnan.sel(Nisf=large_isf)\n",
    "    \n",
    "    # bathymetry, ice draft, concentration\n",
    "    file_bed_orig = file_mask_orig_cut['bathy_metry']\n",
    "    file_bed_corr = file_other_cut['corrected_isf_bathy']\n",
    "    file_draft = file_other_cut['corrected_isfdraft']\n",
    "    file_bed_goodGL = file_bed_orig.where(file_draft < file_bed_orig,file_bed_corr)\n",
    "    file_isf_conc = file_conc_cut['isfdraft_conc']\n",
    "    \n",
    "    file_slope = xr.open_dataset(inputpath_mask+'nemo_5km_slope_info_bedrock_draft_latlon_oneFRIS_'+str(tt)+'.nc')\n",
    "    \n",
    "    # Target\n",
    "    NEMO_melt_rates_2D = xr.open_dataset(outputpath_melt+'melt_rates_2D_NEMO_'+str(tt)+'.nc')\n",
    "    melt_rate = NEMO_melt_rates_2D['melt_m_ice_per_y']\n",
    "    \n",
    "    time_dpdt_in = file_isf[['dGL', 'dIF']].merge(file_draft).merge(file_bed_goodGL).merge(file_slope).merge(file_isf_conc).merge(T_S_2D_isfdraft[['theta_in','salinity_in']]).merge(T_S_2D_meanstd).merge(melt_rate).merge(u_tide)\n",
    "    time_dpdt_in['dIF'] = time_dpdt_in['dIF'].where(np.isfinite(time_dpdt_in['dIF']), np.nan)\n",
    "    \n",
    "    for kisf in file_isf.Nisf:\n",
    "        ds_kisf = time_dpdt_in.where(file_isf['ISF_mask'] == kisf, drop=True)\n",
    "\n",
    "        df_kisf = ds_kisf.drop('longitude').drop('latitude').to_dataframe()\n",
    "        # remove rows where there are nans\n",
    "        clean_df_kisf = df_kisf.dropna()\n",
    "        clean_df_kisf = clean_df_kisf.where(clean_df_kisf['salinity_in']!=0).dropna()\n",
    "        clean_df_kisf.to_csv(outputpath_nn + 'dataframe_input_isf'+str(kisf.values).zfill(3)+'_'+str(tt)+'_'+nemo_run+'.csv')"
   ]
  },
  {
   "cell_type": "code",
   "execution_count": null,
   "id": "1b251c82-b346-410d-b353-208e01a488c0",
   "metadata": {},
   "outputs": [],
   "source": [
    "tt"
   ]
  },
  {
   "cell_type": "code",
   "execution_count": null,
   "id": "7c966410-6456-4d25-8255-2f1904e9246c",
   "metadata": {},
   "outputs": [],
   "source": [
    "time_dpdt_in.where(file_isf['ISF_mask'] == kisf, drop=True)"
   ]
  },
  {
   "cell_type": "markdown",
   "id": "7e1bba8a-ec02-4f92-a31c-3e710a4b6ea1",
   "metadata": {},
   "source": [
    "PREPARE ONE DATASET WITH EVERYTHING"
   ]
  },
  {
   "cell_type": "code",
   "execution_count": null,
   "id": "2bbadfd9-d656-4586-92ef-6d5ffd0a8056",
   "metadata": {},
   "outputs": [],
   "source": [
    "time_dpdt_in.merge(u_tide)"
   ]
  },
  {
   "cell_type": "code",
   "execution_count": null,
   "id": "ff1b0bc5-37fc-4366-bd2a-0d5ecdac097c",
   "metadata": {},
   "outputs": [],
   "source": [
    "geometry_2D_br, time_dpdt_in_br = xr.broadcast(geometry_2D,time_dpdt_in)"
   ]
  },
  {
   "cell_type": "code",
   "execution_count": null,
   "id": "3bd8b9b6-b629-4afb-bd06-aef795f69f0c",
   "metadata": {},
   "outputs": [],
   "source": [
    "final_input_xr = xr.merge([geometry_2D_br, time_dpdt_in_br]).transpose('y','x','time').drop('profile_domain').load()"
   ]
  },
  {
   "cell_type": "markdown",
   "id": "9fb28ded-0914-4d0b-be3b-49b5f71f2077",
   "metadata": {},
   "source": [
    "PREPARE CLEAN DATAFRAME WITH ALL DATA TO SAVE AND FEED TO THE NN"
   ]
  },
  {
   "cell_type": "code",
   "execution_count": null,
   "id": "8d66e073-6a06-4f97-a034-1a7483fdecf7",
   "metadata": {},
   "outputs": [],
   "source": [
    "for kisf in tqdm(file_isf.Nisf):\n",
    "    ds_kisf = final_input_xr.where(file_isf['ISF_mask'] == kisf, drop=True).drop('Nisf')\n",
    "    \n",
    "    df_kisf = ds_kisf.drop('longitude').drop('latitude').to_dataframe()\n",
    "    # remove rows where there are nans\n",
    "    clean_df_kisf = df_kisf.dropna()\n",
    "    clean_df_kisf = clean_df_kisf.where(clean_df_kisf['salinity_in']!=0).dropna()\n",
    "    clean_df_kisf.to_csv(outputpath_nn + 'dataframe_input_isf'+str(kisf.values).zfill(3)+'_'+nemo_run0+'.csv')"
   ]
  },
  {
   "cell_type": "code",
   "execution_count": null,
   "id": "521f1807-00d3-47d5-b99d-be069b669805",
   "metadata": {},
   "outputs": [],
   "source": [
    "clean_df_kisf.dtypes"
   ]
  },
  {
   "cell_type": "markdown",
   "id": "ad8cb85e-8dbe-4550-8b52-bb38103272ac",
   "metadata": {},
   "source": [
    "#########################"
   ]
  },
  {
   "cell_type": "markdown",
   "id": "3acec1c8-b3ea-4008-ab59-3b4a8062f0c5",
   "metadata": {},
   "source": [
    "SAVE TO CSV"
   ]
  },
  {
   "cell_type": "code",
   "execution_count": null,
   "id": "f36e4f25-1a28-4f62-9006-74ac7f6b7575",
   "metadata": {},
   "outputs": [],
   "source": [
    "clean_df_yy.to_csv(outputpath_nn + 'dataframe_input_'+nemo_run+'.csv')"
   ]
  },
  {
   "cell_type": "code",
   "execution_count": null,
   "id": "b2fc9ed0-7836-47f0-baac-223c5c9d7014",
   "metadata": {},
   "outputs": [],
   "source": [
    "# remove index (time, x, y)\n",
    "clean_df_yy.reset_index(drop=True, inplace=True)"
   ]
  },
  {
   "cell_type": "markdown",
   "id": "50be679b-c73b-4565-8dc9-55e0eb5d01fe",
   "metadata": {},
   "source": [
    "PREPARE LAT AND LON FOR A CHECK"
   ]
  },
  {
   "cell_type": "code",
   "execution_count": null,
   "id": "f4a5b4a8-7fa8-4d5a-a68e-98013ebc3102",
   "metadata": {},
   "outputs": [],
   "source": [
    "latlon = file_isf[['latitude', 'longitude']].reset_coords(names=['longitude','latitude'])"
   ]
  },
  {
   "cell_type": "code",
   "execution_count": null,
   "id": "87ef009b-db83-4ba8-92d8-49220351795e",
   "metadata": {},
   "outputs": [],
   "source": [
    "latlon_br, salinity_for_nans = xr.broadcast(latlon,T_S_2D_isfdraft['salinity_in'].drop(['longitude','latitude']))\n",
    "latlon_input_xr = xr.merge([latlon_br, salinity_for_nans]).transpose('y','x','time').drop('profile_domain').load()"
   ]
  },
  {
   "cell_type": "code",
   "execution_count": null,
   "id": "0b42baae-1785-4951-bf26-ed5bbdee3df3",
   "metadata": {},
   "outputs": [],
   "source": [
    "for kisf in tqdm(file_isf.Nisf):\n",
    "    ds_kisf = latlon_input_xr.where(file_isf['ISF_mask'] == kisf, drop=True).drop('Nisf')\n",
    "    df_kisf = ds_kisf.to_dataframe()\n",
    "    # remove rows where there are nans\n",
    "    clean_df_kisf = df_kisf.dropna()\n",
    "    clean_df_kisf = clean_df_kisf.where(clean_df_kisf['salinity_in']!=0).dropna()\n",
    "    #clean_df_kisf.to_csv(outputpath_nn + 'dataframe_input_isf'+str(kisf.values).zfill(3)+'_'+nemo_run0+'.csv')"
   ]
  },
  {
   "cell_type": "code",
   "execution_count": null,
   "id": "92bf720f-b8a0-4945-8ebb-1e5fe75745ec",
   "metadata": {},
   "outputs": [],
   "source": []
  }
 ],
 "metadata": {
  "kernelspec": {
   "display_name": "neuralnet",
   "language": "python",
   "name": "neuralnet"
  },
  "language_info": {
   "codemirror_mode": {
    "name": "ipython",
    "version": 3
   },
   "file_extension": ".py",
   "mimetype": "text/x-python",
   "name": "python",
   "nbconvert_exporter": "python",
   "pygments_lexer": "ipython3",
   "version": "3.9.16"
  }
 },
 "nbformat": 4,
 "nbformat_minor": 5
}
