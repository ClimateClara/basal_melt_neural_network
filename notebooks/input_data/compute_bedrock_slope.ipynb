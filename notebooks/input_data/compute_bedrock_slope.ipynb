{
 "cells": [
  {
   "cell_type": "code",
   "execution_count": null,
   "id": "032743bc-0a46-41dd-8cf7-c759078fca93",
   "metadata": {},
   "outputs": [],
   "source": [
    "\"\"\"\n",
    "Created on Wed Jun 09 14:36 2021\n",
    "\n",
    "Prepare bedrock slope for use in the neural network\n",
    "\n",
    "Author: @claraburgard\n",
    "\n",
    "\"\"\""
   ]
  },
  {
   "cell_type": "code",
   "execution_count": null,
   "id": "06e1756e-ce85-408f-803d-48b24131e259",
   "metadata": {},
   "outputs": [],
   "source": [
    "import numpy as np\n",
    "import xarray as xr\n",
    "from tqdm.notebook import trange, tqdm"
   ]
  },
  {
   "cell_type": "code",
   "execution_count": null,
   "id": "5b79e103-f4c9-4e4c-977b-2e90fbede60c",
   "metadata": {},
   "outputs": [],
   "source": [
    "nemo_run = 'OPM021'\n",
    "inputpath_data='/bettik/burgardc/SCRIPTS/basal_melt_param/data/interim/NEMO_eORCA025.L121_'+nemo_run+'_ANT_STEREO/'\n",
    "inputpath_mask = '/bettik/burgardc/SCRIPTS/basal_melt_param/data/interim/ANTARCTICA_IS_MASKS/nemo_5km_'+nemo_run+'/'"
   ]
  },
  {
   "cell_type": "code",
   "execution_count": null,
   "id": "28cc66a4-835b-4a94-bd6e-37549b34e7b8",
   "metadata": {},
   "outputs": [],
   "source": [
    "def cut_domain_stereo(var_to_cut, map_lim_x, map_lim_y):\n",
    "    var_cutted = var_to_cut.sel(x=var_to_cut.x.where(in_range(var_to_cut.x,map_lim_x),drop=True), y=var_to_cut.y.where(in_range(var_to_cut.y,map_lim_y),drop=True))\n",
    "    return var_cutted\n",
    "\n",
    "def in_range(in_xy,txy):\n",
    "    return ((in_xy >= min(txy)) & (in_xy < max(txy)))"
   ]
  },
  {
   "cell_type": "code",
   "execution_count": null,
   "id": "06ccfa9e-a01f-4266-b96d-b1a928f3909b",
   "metadata": {},
   "outputs": [],
   "source": [
    "file_isf_orig = xr.open_dataset(inputpath_mask+'nemo_5km_isf_masks_and_info_and_distance_new.nc')\n",
    "nonnan_Nisf = file_isf_orig['Nisf'].where(np.isfinite(file_isf_orig['front_bot_depth_max']), drop=True).astype(int)\n",
    "file_isf_nonnan = file_isf_orig.sel(Nisf=nonnan_Nisf)\n",
    "large_isf = file_isf_nonnan['Nisf'].where(file_isf_nonnan['isf_area_here'] >= 2500, drop=True)\n",
    "file_isf = file_isf_nonnan.sel(Nisf=large_isf)"
   ]
  },
  {
   "cell_type": "code",
   "execution_count": null,
   "id": "b51862f3-81ca-4847-8e4a-9a1c38ed2992",
   "metadata": {},
   "outputs": [],
   "source": [
    "map_lim = [-3000000,3000000]\n",
    "file_mask_orig = xr.open_dataset(inputpath_data+'other_mask_vars_Ant_stereo.nc')\n",
    "file_mask_orig_cut = cut_domain_stereo(file_mask_orig, map_lim, map_lim)\n",
    "file_other = xr.open_dataset(inputpath_data+'corrected_draft_bathy_isf.nc')#, chunks={'x': chunk_size, 'y': chunk_size})\n",
    "file_other_cut = cut_domain_stereo(file_other, map_lim, map_lim)\n",
    "file_conc = xr.open_dataset(inputpath_data+'isfdraft_conc_Ant_stereo.nc')\n",
    "file_conc_cut = cut_domain_stereo(file_conc, map_lim, map_lim)"
   ]
  },
  {
   "cell_type": "code",
   "execution_count": null,
   "id": "def40da3-5979-4e61-967d-6d9bc5615dc1",
   "metadata": {},
   "outputs": [],
   "source": [
    "file_bed_corr = file_other_cut['corrected_isf_bathy']\n",
    "file_bed_orig = file_mask_orig_cut['bathy_metry']\n",
    "file_draft = file_other_cut['corrected_isfdraft'] \n",
    "file_isf_conc = file_conc_cut['isfdraft_conc']\n",
    "file_bed_goodGL = file_bed_orig.where(file_draft < file_bed_orig,file_bed_corr)\n"
   ]
  },
  {
   "cell_type": "markdown",
   "id": "485dc96b-042f-4055-abc5-28cbf4d45678",
   "metadata": {},
   "source": [
    "################# OLD SCRIPTS"
   ]
  },
  {
   "cell_type": "code",
   "execution_count": null,
   "id": "cf2033ad-cd7e-4a06-b20e-f123eec84846",
   "metadata": {},
   "outputs": [],
   "source": [
    "# aboslute slope in both directions (like for plume, local slope option)\n",
    "dx = file_isf.x[2] - file_isf.x[1]\n",
    "dy = file_isf.y[2] - file_isf.y[1]\n",
    "\n",
    "bedrock_slope = None\n",
    "for kisf in tqdm(file_isf.Nisf):\n",
    "    #print(kisf.values)\n",
    "    bb_sl = compute_alpha_appenB(kisf, file_isf, -1*file_bed_goodGL, abs(dx), abs(dy))\n",
    "    if bedrock_slope is None:\n",
    "        bedrock_slope = bb_sl\n",
    "    else:\n",
    "        bedrock_slope = bedrock_slope.combine_first(bb_sl)\n",
    "bedrock_slope_smooth = bedrock_slope.reindex_like(file_isf)\n",
    "bedrock_slope_smooth.to_dataset(name='bedrock_slope').to_netcdf(inputpath_mask+'nemo_5km_bedrock_slope.nc','w')"
   ]
  },
  {
   "cell_type": "code",
   "execution_count": null,
   "id": "f7e3d93f-951f-4843-bf5a-028ccebf1ba9",
   "metadata": {},
   "outputs": [],
   "source": [
    "def slope_in_x_and_y_dir(kisf, plume_var_of_int, ice_draft_neg, dx, dy):\n",
    "    # cut out the ice shelf of interest\n",
    "    draft_isf = ice_draft_neg.where(plume_var_of_int['ISF_mask'] == kisf, drop=True)\n",
    "    \n",
    "    shiftedx_minus = draft_isf.shift(x=-1)\n",
    "    shiftedx_plus = draft_isf.shift(x=1)\n",
    "    xslope = check_slope_one_dimension(draft_isf, shiftedx_plus, shiftedx_minus, dx)\n",
    "\n",
    "    shiftedy_minus = draft_isf.shift(y=-1)\n",
    "    shiftedy_plus = draft_isf.shift(y=1)\n",
    "    yslope = check_slope_one_dimension(draft_isf, shiftedy_plus, shiftedy_minus, dy)\n",
    "    \n",
    "    xslope_whole_grid = xslope.reindex_like(plume_var_of_int['ISF_mask'])\n",
    "    yslope_whole_grid = yslope.reindex_like(plume_var_of_int['ISF_mask'])\n",
    "    return xslope_whole_grid, yslope_whole_grid\n",
    "\n",
    "def slope_in_lon_and_lat_dir(kisf, plume_var_of_int, ice_draft_neg, var):\n",
    "    # cut out the ice shelf of interest\n",
    "    draft_isf = ice_draft_neg.where(plume_var_of_int['ISF_mask'] == kisf, drop=True)\n",
    "    lat = plume_var_of_int['latitude'].where(plume_var_of_int['ISF_mask'] == kisf, drop=True).drop('latitude').drop('longitude')\n",
    "    lon = plume_var_of_int['longitude'].where(plume_var_of_int['ISF_mask'] == kisf, drop=True).drop('latitude').drop('longitude')\n",
    "    shift_vars = xr.merge([draft_isf.drop('latitude').drop('longitude'),lat,lon])\n",
    "    \n",
    "    shift_vars_x_minus = shift_vars.shift(x=-1)\n",
    "    shift_vars_x_plus = shift_vars.shift(x=1)\n",
    "    shift_vars_y_minus = shift_vars.shift(y=-1)\n",
    "    shift_vars_y_plus = shift_vars.shift(y=1)\n",
    "    \n",
    "    for ccoord in ['longitude','latitude']:\n",
    "    \n",
    "        shift_vars['xslope_'+ccoord] = check_slope_one_dimension_latlon(shift_vars[var], shift_vars_x_plus[var], shift_vars_x_minus[var], \n",
    "                                                  shift_vars[ccoord], shift_vars_x_plus[ccoord], shift_vars_x_minus[ccoord])\n",
    "        shift_vars['yslope_'+ccoord] = check_slope_one_dimension_latlon(shift_vars[var], shift_vars_y_plus[var], shift_vars_y_minus[var], \n",
    "                                                  shift_vars[ccoord], shift_vars_y_plus[ccoord], shift_vars_y_minus[ccoord])\n",
    "\n",
    "    xslope_lat_whole_grid = shift_vars['xslope_latitude'].reindex_like(plume_var_of_int['ISF_mask'])\n",
    "    xslope_lon_whole_grid = shift_vars['xslope_longitude'].reindex_like(plume_var_of_int['ISF_mask'])\n",
    "\n",
    "    yslope_lat_whole_grid = shift_vars['yslope_latitude'].reindex_like(plume_var_of_int['ISF_mask'])\n",
    "    yslope_lon_whole_grid = shift_vars['yslope_longitude'].reindex_like(plume_var_of_int['ISF_mask']) \n",
    "    \n",
    "    return xslope_lat_whole_grid, xslope_lon_whole_grid, yslope_lat_whole_grid, yslope_lon_whole_grid"
   ]
  },
  {
   "cell_type": "code",
   "execution_count": null,
   "id": "6473abe8-5a04-4e2d-b80a-60223156f1dd",
   "metadata": {},
   "outputs": [],
   "source": [
    "shift_vars"
   ]
  },
  {
   "cell_type": "code",
   "execution_count": null,
   "id": "df2a8138-1549-45c6-a507-8001214aa08f",
   "metadata": {},
   "outputs": [],
   "source": [
    "ice_draft_neg = -1*file_bed_goodGL\n",
    "plume_var_of_int = file_isf\n",
    "kisf=66"
   ]
  },
  {
   "cell_type": "code",
   "execution_count": null,
   "id": "379f8599-f83f-4649-857d-a8a9a1fc27a2",
   "metadata": {},
   "outputs": [],
   "source": [
    "shift_vars = xr.merge([draft_isf.drop('latitude').drop('longitude'),lat,lon])"
   ]
  },
  {
   "cell_type": "code",
   "execution_count": null,
   "id": "ee391ebc-7a16-4323-9f86-24afe8488c0b",
   "metadata": {},
   "outputs": [],
   "source": [
    "draft_isf = ice_draft_neg.where(plume_var_of_int['ISF_mask'] == kisf, drop=True)\n",
    "lat = plume_var_of_int['latitude'].where(plume_var_of_int['ISF_mask'] == kisf, drop=True).drop('latitude').drop('longitude')\n",
    "lon = plume_var_of_int['longitude'].where(plume_var_of_int['ISF_mask'] == kisf, drop=True).drop('latitude').drop('longitude')\n",
    "shift_vars = xr.merge([draft_isf.drop('latitude').drop('longitude'),lat,lon])"
   ]
  },
  {
   "cell_type": "code",
   "execution_count": null,
   "id": "225a4e59-6985-439d-bf98-a816064e007c",
   "metadata": {},
   "outputs": [],
   "source": [
    "shift_vars_x_minus = shift_vars.shift(x=-1)\n",
    "shift_vars_x_plus = shift_vars.shift(x=1)\n",
    "shift_vars_y_minus = shift_vars.shift(y=-1)\n",
    "shift_vars_y_plus = shift_vars.shift(y=1)"
   ]
  },
  {
   "cell_type": "code",
   "execution_count": null,
   "id": "0ba96c45-99bb-4798-a818-bc258900f2e2",
   "metadata": {},
   "outputs": [],
   "source": [
    "shift_vars_test = shift_vars_x_minus - shift_vars\n",
    "shift_vars_test['longitude']"
   ]
  },
  {
   "cell_type": "code",
   "execution_count": null,
   "id": "4884f360-425b-4a20-8ef3-59925dd97b74",
   "metadata": {},
   "outputs": [],
   "source": [
    "# this is the lon, lat stuff in the x and y directions\n",
    "\n",
    "x_slope_bed_lat = None\n",
    "x_slope_bed_lon = None\n",
    "y_slope_bed_lat = None\n",
    "y_slope_bed_lon = None\n",
    "x_slope_ice_lat = None\n",
    "x_slope_ice_lon = None\n",
    "y_slope_ice_lat = None\n",
    "y_slope_ice_lon = None\n",
    "\n",
    "isf_area_map = file_isf['ISF_mask'].where(file_isf['ISF_mask']>1).copy()\n",
    "entry_depth_map = file_isf['ISF_mask'].where(file_isf['ISF_mask']>1).copy()\n",
    "\n",
    "\n",
    "for kisf in tqdm(file_isf.Nisf):\n",
    "    #print(kisf.values)\n",
    "    bb_sl_x_lat, bb_sl_x_lon, bb_sl_y_lat, bb_sl_y_lon = slope_in_lon_and_lat_dir(kisf, file_isf, -1*file_bed_goodGL, 'bathy_metry')\n",
    "    ice_sl_x_lat, ice_sl_x_lon, ice_sl_y_lat, ice_sl_y_lon = slope_in_lon_and_lat_dir(kisf, file_isf, -1*file_draft, 'corrected_isfdraft')\n",
    "    if x_slope_bed_lat is None:\n",
    "        x_slope_bed_lat = bb_sl_x_lat\n",
    "        x_slope_bed_lon = bb_sl_x_lon\n",
    "        y_slope_bed_lat = bb_sl_y_lat\n",
    "        y_slope_bed_lon = bb_sl_y_lon\n",
    "        x_slope_ice_lat = ice_sl_x_lat\n",
    "        x_slope_ice_lon = ice_sl_x_lon\n",
    "        y_slope_ice_lat = ice_sl_y_lat\n",
    "        y_slope_ice_lon = ice_sl_y_lon\n",
    "    else:\n",
    "        x_slope_bed_lat = x_slope_bed_lat.combine_first(bb_sl_x_lat)\n",
    "        x_slope_bed_lon = x_slope_bed_lon.combine_first(bb_sl_x_lon)\n",
    "        y_slope_bed_lat = y_slope_bed_lat.combine_first(bb_sl_y_lat)\n",
    "        y_slope_bed_lon = y_slope_bed_lon.combine_first(bb_sl_y_lon)\n",
    "        \n",
    "        x_slope_ice_lat = x_slope_ice_lat.combine_first(ice_sl_x_lat)\n",
    "        x_slope_ice_lon = x_slope_ice_lon.combine_first(ice_sl_x_lon)\n",
    "        y_slope_ice_lat = y_slope_ice_lat.combine_first(ice_sl_y_lat)\n",
    "        y_slope_ice_lon = y_slope_ice_lon.combine_first(ice_sl_y_lon)        \n",
    "    \n",
    "    isf_area_map = isf_area_map.where(file_isf['ISF_mask']!=kisf, file_isf['isf_area_here'].sel(Nisf=kisf).drop('Nisf'))\n",
    "    entry_depth_map = entry_depth_map.where(file_isf['ISF_mask']!=kisf, file_isf['front_bot_depth_max'].sel(Nisf=kisf).drop('Nisf'))\n",
    "\n",
    "        \n",
    "x_slope_bed_lat_smooth = x_slope_bed_lat.reindex_like(file_isf)\n",
    "x_slope_bed_lon_smooth = x_slope_bed_lon.reindex_like(file_isf)\n",
    "y_slope_bed_lat_smooth = y_slope_bed_lat.reindex_like(file_isf)\n",
    "y_slope_bed_lon_smooth = y_slope_bed_lon.reindex_like(file_isf)\n",
    "\n",
    "x_slope_ice_lat_smooth = x_slope_ice_lat.reindex_like(file_isf)\n",
    "x_slope_ice_lon_smooth = x_slope_ice_lon.reindex_like(file_isf)\n",
    "y_slope_ice_lat_smooth = y_slope_ice_lat.reindex_like(file_isf)\n",
    "y_slope_ice_lon_smooth = y_slope_ice_lon.reindex_like(file_isf)\n",
    "\n",
    "\n",
    "dataset_res_x_lat_bed = x_slope_bed_lat_smooth.to_dataset(name='slope_bed_x_lat')\n",
    "dataset_res_x_lon_bed = x_slope_bed_lon_smooth.to_dataset(name='slope_bed_x_lon')\n",
    "dataset_res_y_lat_bed = y_slope_bed_lat_smooth.to_dataset(name='slope_bed_y_lat')\n",
    "dataset_res_y_lon_bed = y_slope_bed_lon_smooth.to_dataset(name='slope_bed_y_lon')\n",
    "\n",
    "dataset_res_x_lat_ice = x_slope_ice_lat_smooth.to_dataset(name='slope_ice_x_lat')\n",
    "dataset_res_x_lon_ice = x_slope_ice_lon_smooth.to_dataset(name='slope_ice_x_lon')\n",
    "dataset_res_y_lat_ice = y_slope_ice_lat_smooth.to_dataset(name='slope_ice_y_lat')\n",
    "dataset_res_y_lon_ice = y_slope_ice_lon_smooth.to_dataset(name='slope_ice_y_lon')\n",
    "\n",
    "dataset_res = xr.merge([dataset_res_x_lat_bed,dataset_res_x_lon_bed,dataset_res_y_lat_bed,dataset_res_y_lon_bed,\n",
    "                       dataset_res_x_lat_ice,dataset_res_x_lon_ice,dataset_res_y_lat_ice,dataset_res_y_lon_ice,\n",
    "                       isf_area_map.to_dataset(name='isf_area'),\n",
    "                       entry_depth_map.to_dataset(name='entry_depth_max')])\n",
    "dataset_res.to_netcdf(inputpath_mask+'nemo_5km_slope_info_bedrock_draft_latlon.nc','w')\n",
    "#bedrock_slope_smooth.to_dataset(name='bedrock_slope').to_netcdf(inputpath_mask+'nemo_5km_bedrock_slope.nc','w')"
   ]
  },
  {
   "cell_type": "code",
   "execution_count": null,
   "id": "de6cfe91-0840-4bf1-8a76-6aab958f7801",
   "metadata": {},
   "outputs": [],
   "source": [
    "dataset_res['slope_bed_x_lat'].where(dataset_res['slope_bed_x_lat']==0).plot()"
   ]
  },
  {
   "cell_type": "code",
   "execution_count": null,
   "id": "f8a82921-b7fa-44de-ba6d-e310ac895d61",
   "metadata": {},
   "outputs": [],
   "source": [
    "# this is the x and y slope only\n",
    "dx = file_isf.x[2] - file_isf.x[1]\n",
    "dy = file_isf.y[2] - file_isf.y[1]\n",
    "\n",
    "x_slope_ice = None\n",
    "y_slope_ice = None\n",
    "x_slope_bed = None\n",
    "y_slope_bed = None\n",
    "\n",
    "for kisf in tqdm(file_isf.Nisf):\n",
    "    #print(kisf.values)\n",
    "    bb_sl_x, bb_sl_y = slope_in_x_and_y_dir(kisf, file_isf, -1*file_bed_goodGL, abs(dx), abs(dy))\n",
    "    ice_sl_x, ice_sl_y = slope_in_x_and_y_dir(kisf, file_isf, -1*file_draft, abs(dx), abs(dy))\n",
    "    if x_slope_bed is None:\n",
    "        x_slope_bed = bb_sl_x\n",
    "        y_slope_bed = bb_sl_y\n",
    "        x_slope_ice = ice_sl_x\n",
    "        y_slope_ice = ice_sl_y\n",
    "    else:\n",
    "        x_slope_bed = x_slope_bed.combine_first(bb_sl_x)\n",
    "        y_slope_bed = y_slope_bed.combine_first(bb_sl_y)\n",
    "        x_slope_ice = x_slope_ice.combine_first(ice_sl_x)\n",
    "        y_slope_ice = y_slope_ice.combine_first(ice_sl_y)\n",
    "        \n",
    "x_slope_bed_smooth = x_slope_bed.reindex_like(file_isf)\n",
    "y_slope_bed_smooth = y_slope_bed.reindex_like(file_isf)\n",
    "x_slope_ice_smooth = x_slope_ice.reindex_like(file_isf)\n",
    "y_slope_ice_smooth = y_slope_ice.reindex_like(file_isf)\n",
    "\n",
    "dataset_res_x_bed = x_slope_bed_smooth.to_dataset(name='slope_bed_x')\n",
    "dataset_res_y_bed = y_slope_bed_smooth.to_dataset(name='slope_bed_y')\n",
    "dataset_res_x_ice = x_slope_ice_smooth.to_dataset(name='slope_ice_x')\n",
    "dataset_res_y_ice = y_slope_ice_smooth.to_dataset(name='slope_ice_y')\n",
    "dataset_res = xr.merge([dataset_res_x_bed,dataset_res_y_bed,dataset_res_x_ice,dataset_res_y_ice])\n",
    "#dataset_res.to_netcdf(inputpath_mask+'nemo_5km_slope_info_bedrock_draft.nc','w')\n",
    "#bedrock_slope_smooth.to_dataset(name='bedrock_slope').to_netcdf(inputpath_mask+'nemo_5km_bedrock_slope.nc','w')"
   ]
  },
  {
   "cell_type": "code",
   "execution_count": null,
   "id": "dc236bdd-ad27-4038-8861-4b8d7c129399",
   "metadata": {},
   "outputs": [],
   "source": [
    "dataset_res = xr.open_dataset(inputpath_mask+'nemo_5km_slope_info_bedrock_draft.nc')\n",
    "\n",
    "dr = np.pi/180.\n",
    "#deltaphi = 90. - GEddxx !Geddxx= 90° in my config\n",
    "deltaphi = 0\n",
    "\n",
    "phi = (-1.) * (file_isf.longitude+deltaphi)*dr\n",
    "cphi = np.cos( -phi )\n",
    "sphi = np.sin( -phi )\n",
    "ux = cphi*dataset_res['slope_bed_x'].values - sphi*dataset_res['slope_bed_y'].values\n",
    "vy = sphi*dataset_res['slope_bed_x'].values + cphi*dataset_res['slope_bed_y'].values\n",
    "u_lonlat = xr.DataArray(ux, coords=dataset_res.coords).transpose('y','x')\n",
    "#u_lonlat = u_lonlat.set_coords(dataset_res.coords)\n",
    "v_lonlat = xr.DataArray(vy, coords=dataset_res.coords).transpose('y','x')"
   ]
  },
  {
   "cell_type": "code",
   "execution_count": null,
   "id": "170d5183-4860-4873-b5bf-082f60cfd716",
   "metadata": {},
   "outputs": [],
   "source": [
    "dataset_res['slope_bed_x'].plot()"
   ]
  },
  {
   "cell_type": "code",
   "execution_count": null,
   "id": "8a85fef0-9541-404e-8f60-2e2977f1f75d",
   "metadata": {},
   "outputs": [],
   "source": [
    "u_lonlat.plot()"
   ]
  },
  {
   "cell_type": "code",
   "execution_count": null,
   "id": "3b5f1c97-bcd1-4ef7-a349-7fdbaf653a79",
   "metadata": {},
   "outputs": [],
   "source": [
    "u_lonlat.where(file_isf['ISF_mask'] == 66, drop=True).isel(x=range(12,15),y=range(12,15))#.plot()"
   ]
  },
  {
   "cell_type": "code",
   "execution_count": null,
   "id": "bfc0e1bb-537e-4f66-82c9-83e62ebfe919",
   "metadata": {},
   "outputs": [],
   "source": [
    "dataset_res"
   ]
  },
  {
   "cell_type": "code",
   "execution_count": null,
   "id": "c390941d-d0a2-49ec-911b-46794a11a9a5",
   "metadata": {},
   "outputs": [],
   "source": [
    "dataset_res['slope_bed_x'].where(file_isf['ISF_mask'] == 66, drop=True).isel(x=range(12,15),y=range(12,15))#.plot()"
   ]
  },
  {
   "cell_type": "code",
   "execution_count": null,
   "id": "a896fc73-a645-4986-8e9b-42b245c283d1",
   "metadata": {},
   "outputs": [],
   "source": [
    "file_bed_goodGL.where(file_isf['ISF_mask'] == 66, drop=True).isel(x=range(12,15),y=range(12,15))#.plot()"
   ]
  },
  {
   "cell_type": "code",
   "execution_count": null,
   "id": "1ba94c1a-4b5b-4df2-9d27-3e0a2d8faf5a",
   "metadata": {},
   "outputs": [],
   "source": [
    "file_bed_goodGL.where(file_isf['ISF_mask'] == 66, drop=True).isel(x=range(12,15),y=range(12,15))#.plot()"
   ]
  },
  {
   "cell_type": "code",
   "execution_count": null,
   "id": "226dc569-f797-49c5-ab35-1423eed8cde9",
   "metadata": {},
   "outputs": [],
   "source": [
    "dataset_res['slope_bed_y_lon'].where(file_isf['ISF_mask'] == 66, drop=True).isel(x=range(12,15),y=range(12,15))#.plot()"
   ]
  },
  {
   "cell_type": "code",
   "execution_count": null,
   "id": "643921c1-0822-464c-8e66-713d7a5ce10f",
   "metadata": {},
   "outputs": [],
   "source": [
    "-5/-0.34"
   ]
  },
  {
   "cell_type": "code",
   "execution_count": null,
   "id": "a5a37088-3e73-464d-aa78-3704d2a9b933",
   "metadata": {},
   "outputs": [],
   "source": [
    "def diff_GL_IF(kisf, mask_file, dimension, direction):\n",
    "    GL_mask = mask_file['GL_mask'].where(mask_file['GL_mask'] == kisf, drop=True)\n",
    "    IF_mask = mask_file['IF_mask'].where(mask_file['IF_mask'] == kisf, drop=True)\n",
    "    if dimension == 'x':\n",
    "        if direction == 'minmax':\n",
    "            diff_GL_IF = GL_mask.x.min() - IF_mask.x.max()\n",
    "        elif direction == 'maxmin':\n",
    "            diff_GL_IF = GL_mask.x.max() - IF_mask.x.min()\n",
    "    elif dimension == 'y':\n",
    "        if direction == 'minmax':\n",
    "            diff_GL_IF = GL_mask.y.min() - IF_mask.y.max()\n",
    "        elif direction == 'maxmin':\n",
    "            diff_GL_IF = GL_mask.y.max() - IF_mask.y.min()\n",
    "    return diff_GL_IF"
   ]
  },
  {
   "cell_type": "code",
   "execution_count": null,
   "id": "d5025e64-6857-41ab-8375-615ce5f4f27b",
   "metadata": {},
   "outputs": [],
   "source": [
    "dx_GL_IF_minmax_map = file_isf['ISF_mask'].where(file_isf['ISF_mask']>1).copy()\n",
    "dx_GL_IF_maxmin_map = file_isf['ISF_mask'].where(file_isf['ISF_mask']>1).copy()\n",
    "dy_GL_IF_minmax_map = file_isf['ISF_mask'].where(file_isf['ISF_mask']>1).copy()\n",
    "dy_GL_IF_maxmin_map = file_isf['ISF_mask'].where(file_isf['ISF_mask']>1).copy()\n",
    "isf_area_map = file_isf['ISF_mask'].where(file_isf['ISF_mask']>1).copy()\n",
    "\n",
    "for kisf in tqdm(file_isf.Nisf):\n",
    "    dx_GL_IF_minmax = diff_GL_IF(kisf, file_isf, 'x', 'minmax')\n",
    "    dx_GL_IF_minmax_map = dx_GL_IF_minmax_map.where(file_isf['ISF_mask']!=kisf, dx_GL_IF_minmax)\n",
    "    \n",
    "    dx_GL_IF_maxmin = diff_GL_IF(kisf, file_isf, 'x', 'maxmin')\n",
    "    dx_GL_IF_maxmin_map = dx_GL_IF_maxmin_map.where(file_isf['ISF_mask']!=kisf, dx_GL_IF_maxmin)\n",
    "                                                    \n",
    "    dy_GL_IF_minmax = diff_GL_IF(kisf, file_isf, 'y', 'minmax')\n",
    "    dy_GL_IF_minmax_map = dy_GL_IF_minmax_map.where(file_isf['ISF_mask']!=kisf, dy_GL_IF_minmax)\n",
    "\n",
    "    dy_GL_IF_maxmin = diff_GL_IF(kisf, file_isf, 'y', 'maxmin')\n",
    "    dy_GL_IF_maxmin_map = dy_GL_IF_maxmin_map.where(file_isf['ISF_mask']!=kisf, dy_GL_IF_maxmin)\n",
    "\n",
    "    isf_area_map = isf_area_map.where(file_isf['ISF_mask']!=kisf, file_isf['isf_area_here'].sel(Nisf=kisf).drop('Nisf'))\n",
    "    \n",
    "dataset_res_dGL_IF = xr.merge([dx_GL_IF_minmax_map.to_dataset(name='dx_GL_IF_minmax'),\n",
    "                        dx_GL_IF_maxmin_map.to_dataset(name='dx_GL_IF_maxmin'),\n",
    "                        dy_GL_IF_minmax_map.to_dataset(name='dy_GL_IF_minmax'),\n",
    "                        dy_GL_IF_maxmin_map.to_dataset(name='dy_GL_IF_maxmin'),\n",
    "                        isf_area_map.to_dataset(name='isf_area')])\n",
    "dataset_res_dGL_IF.to_netcdf(inputpath_mask+'nemo_5km_orientation_info.nc','w')"
   ]
  },
  {
   "cell_type": "code",
   "execution_count": null,
   "id": "e28e34a2-a02b-4223-9ce3-58c916567c81",
   "metadata": {},
   "outputs": [],
   "source": []
  },
  {
   "cell_type": "code",
   "execution_count": null,
   "id": "f3f4f4a8-f3f0-4667-b5ac-0d64c442bd56",
   "metadata": {},
   "outputs": [],
   "source": [
    "slope_in_x_and_y_dir(kisf, plume_var_of_int, ice_draft_neg, dx, dy)"
   ]
  },
  {
   "cell_type": "code",
   "execution_count": null,
   "id": "658aa890-65fc-4faf-bd70-7ef922ebf778",
   "metadata": {},
   "outputs": [],
   "source": [
    "dataset_res_dGL_IF['isf_area'].plot()"
   ]
  },
  {
   "cell_type": "code",
   "execution_count": null,
   "id": "34988420-fb46-4025-a5ff-acfc22b46c66",
   "metadata": {},
   "outputs": [],
   "source": [
    "file_isf['GL_mask'].where(file_isf['ISF_mask']==kisf,drop=True).plot()"
   ]
  },
  {
   "cell_type": "code",
   "execution_count": null,
   "id": "c0f31a13-881b-4cc3-94be-6ba6e6486822",
   "metadata": {},
   "outputs": [],
   "source": [
    "dy_GL_IF_minmax"
   ]
  },
  {
   "cell_type": "code",
   "execution_count": null,
   "id": "a02c0f71-5e44-4f58-a943-58f2db1a5a01",
   "metadata": {},
   "outputs": [],
   "source": [
    "dy_GL_IF_maxmin"
   ]
  },
  {
   "cell_type": "code",
   "execution_count": null,
   "id": "d2c8d8c5-86ae-40e4-80d1-65479f516061",
   "metadata": {},
   "outputs": [],
   "source": [
    "dataset_res"
   ]
  },
  {
   "cell_type": "code",
   "execution_count": null,
   "id": "8b21f7c2-5475-4d34-b49e-221b592ee751",
   "metadata": {},
   "outputs": [],
   "source": [
    "xr.merge([dataset_res_x_bed,dataset_res_y_bed,dataset_res_x_ice,dataset_res_y_ice],)"
   ]
  },
  {
   "cell_type": "code",
   "execution_count": null,
   "id": "5649d1ac-a25f-43e5-9515-716f354b6dc6",
   "metadata": {},
   "outputs": [],
   "source": [
    "x_slope_ice_smooth.where(file_isf['ISF_mask']==66, drop=True).plot(vmin=0, vmax=0.000001)"
   ]
  },
  {
   "cell_type": "code",
   "execution_count": null,
   "id": "a7a5a463-f34c-4fba-85c6-783b20158631",
   "metadata": {},
   "outputs": [],
   "source": [
    "file_bed_orig.where(file_isf['ISF_mask']==66, drop=True).plot()"
   ]
  },
  {
   "cell_type": "code",
   "execution_count": null,
   "id": "b028d870-b9f2-4380-b152-73f2fc0d9b92",
   "metadata": {},
   "outputs": [],
   "source": [
    "file_isf.x[2] - file_isf.x[1]"
   ]
  },
  {
   "cell_type": "code",
   "execution_count": null,
   "id": "a8eed379-b964-4053-9e0d-7d0c7f065ab0",
   "metadata": {},
   "outputs": [],
   "source": [
    "file_isf['dGL'] >= 10000."
   ]
  },
  {
   "cell_type": "code",
   "execution_count": null,
   "id": "0b4ab46f-2e2a-4082-94bd-ba46ad701ae2",
   "metadata": {},
   "outputs": [],
   "source": [
    "file_bed_corr.where(file_isf['ISF_mask']==66, drop=True).plot()"
   ]
  },
  {
   "cell_type": "code",
   "execution_count": null,
   "id": "00005eed-b325-4970-9682-f4cfc44b0d57",
   "metadata": {},
   "outputs": [],
   "source": [
    "test_file_bed.where(file_isf['ISF_mask']==66, drop=True).plot()"
   ]
  },
  {
   "cell_type": "code",
   "execution_count": null,
   "id": "afb39b4f-5735-480e-8551-6a833eea8052",
   "metadata": {},
   "outputs": [],
   "source": [
    "test_file_bed = file_bed_orig.where(file_draft < file_bed_orig,file_bed_corr)\n",
    "test_file_bed.where(file_isf['ISF_mask']==66, drop=True).plot()"
   ]
  },
  {
   "cell_type": "code",
   "execution_count": null,
   "id": "efc6834b-139b-43b7-a063-877a56786dec",
   "metadata": {},
   "outputs": [],
   "source": [
    "test_file_bed = file_bed_orig.where(file_isf['dGL'] >= 10000.,file_bed_corr)\n",
    "test_file_bed.where(file_isf['ISF_mask']==66, drop=True).plot()"
   ]
  },
  {
   "cell_type": "code",
   "execution_count": null,
   "id": "198941d6-00ab-497d-aaca-ec1cb27ac282",
   "metadata": {},
   "outputs": [],
   "source": [
    "(test_file_bed - file_bed_orig).where(file_isf['ISF_mask']==10, drop=True).plot()"
   ]
  },
  {
   "cell_type": "code",
   "execution_count": null,
   "id": "ecba625a-7f24-4b39-8565-b7497bf3a662",
   "metadata": {},
   "outputs": [],
   "source": [
    "test_file_bed.where(((file_isf['dGL'] >= 10000.) & (file_isf['dIF'] >= 10000.)),file_bed_corr).where(file_isf['ISF_mask']==66, drop=True).plot()"
   ]
  },
  {
   "cell_type": "code",
   "execution_count": null,
   "id": "890ea313-5830-482b-954a-6e0367d94069",
   "metadata": {},
   "outputs": [],
   "source": [
    "((file_isf['dGL'] <= 10000.) & (file_isf['dIF'] <= 10000.)).where(file_isf['ISF_mask']==66, drop=True).plot()"
   ]
  },
  {
   "cell_type": "code",
   "execution_count": null,
   "id": "519bd894-cd97-4d03-889b-33747c8171fe",
   "metadata": {},
   "outputs": [],
   "source": [
    "file_isf['dIF'].where(file_isf['ISF_mask']==66, drop=True).plot()"
   ]
  },
  {
   "cell_type": "code",
   "execution_count": null,
   "id": "094204cf-b146-4ebe-be89-e7e598c3bdce",
   "metadata": {},
   "outputs": [],
   "source": [
    "file_bed_orig.where(file_isf['ISF_mask']==66, drop=True).plot()"
   ]
  },
  {
   "cell_type": "code",
   "execution_count": null,
   "id": "da53a380-5d49-4635-bd02-d75f8629e4e1",
   "metadata": {},
   "outputs": [],
   "source": [
    "np.isnan(file_isf['IF_mask']) & (test_file_bed<=2000)"
   ]
  },
  {
   "cell_type": "code",
   "execution_count": null,
   "id": "1816a3c4-61f5-4e41-b32c-79c211205ad8",
   "metadata": {},
   "outputs": [],
   "source": [
    "file_isf_conc.where(file_isf['ISF_mask']==66, drop=True).plot()"
   ]
  },
  {
   "cell_type": "code",
   "execution_count": null,
   "id": "168d3d9e-496f-4d5e-a3f2-95caf58696f4",
   "metadata": {},
   "outputs": [],
   "source": [
    "file_isf['GL_mask'].where(file_isf['ISF_mask']==66, drop=True).plot()"
   ]
  },
  {
   "cell_type": "code",
   "execution_count": null,
   "id": "3cd100e3-f0e2-49e5-960d-3adeed58fe00",
   "metadata": {},
   "outputs": [],
   "source": [
    "file_bed_corr.where(file_isf['ISF_mask']==66, drop=True).plot()"
   ]
  },
  {
   "cell_type": "code",
   "execution_count": null,
   "id": "08af5a05-1b3e-45e6-9e6d-8f87b841bd71",
   "metadata": {},
   "outputs": [],
   "source": []
  }
 ],
 "metadata": {
  "kernelspec": {
   "display_name": "neuralnet",
   "language": "python",
   "name": "neuralnet"
  },
  "language_info": {
   "codemirror_mode": {
    "name": "ipython",
    "version": 3
   },
   "file_extension": ".py",
   "mimetype": "text/x-python",
   "name": "python",
   "nbconvert_exporter": "python",
   "pygments_lexer": "ipython3",
   "version": "3.9.4"
  }
 },
 "nbformat": 4,
 "nbformat_minor": 5
}
