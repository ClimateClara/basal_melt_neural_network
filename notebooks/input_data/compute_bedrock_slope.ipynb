{
 "cells": [
  {
   "cell_type": "code",
   "execution_count": null,
   "id": "032743bc-0a46-41dd-8cf7-c759078fca93",
   "metadata": {},
   "outputs": [],
   "source": [
    "\"\"\"\n",
    "Created on Wed Jun 09 14:36 2021\n",
    "\n",
    "Prepare bedrock slope for use in the neural network\n",
    "\n",
    "Author: @claraburgard\n",
    "\n",
    "\"\"\""
   ]
  },
  {
   "cell_type": "code",
   "execution_count": null,
   "id": "06e1756e-ce85-408f-803d-48b24131e259",
   "metadata": {},
   "outputs": [],
   "source": [
    "import numpy as np\n",
    "import xarray as xr\n",
    "from tqdm.notebook import trange, tqdm\n",
    "import basal_melt_neural_networks.data_formatting as dfmt\n"
   ]
  },
  {
   "cell_type": "markdown",
   "id": "59f4293a-422c-4d9e-a0ee-3c5499179b79",
   "metadata": {},
   "source": [
    "READ IN DATA"
   ]
  },
  {
   "cell_type": "code",
   "execution_count": null,
   "id": "5b79e103-f4c9-4e4c-977b-2e90fbede60c",
   "metadata": {},
   "outputs": [],
   "source": [
    "nemo_run = 'OPM006'\n",
    "inputpath_data='/bettik/burgardc/SCRIPTS/basal_melt_param/data/interim/NEMO_eORCA025.L121_'+nemo_run+'_ANT_STEREO/'\n",
    "inputpath_mask = '/bettik/burgardc/SCRIPTS/basal_melt_param/data/interim/ANTARCTICA_IS_MASKS/nemo_5km_'+nemo_run+'/'"
   ]
  },
  {
   "cell_type": "code",
   "execution_count": null,
   "id": "06ccfa9e-a01f-4266-b96d-b1a928f3909b",
   "metadata": {},
   "outputs": [],
   "source": [
    "file_isf_orig = xr.open_dataset(inputpath_mask+'nemo_5km_isf_masks_and_info_and_distance_new.nc')\n",
    "nonnan_Nisf = file_isf_orig['Nisf'].where(np.isfinite(file_isf_orig['front_bot_depth_max']), drop=True).astype(int)\n",
    "file_isf_nonnan = file_isf_orig.sel(Nisf=nonnan_Nisf)\n",
    "large_isf = file_isf_nonnan['Nisf'].where(file_isf_nonnan['isf_area_here'] >= 2500, drop=True)\n",
    "file_isf = file_isf_nonnan.sel(Nisf=large_isf)"
   ]
  },
  {
   "cell_type": "code",
   "execution_count": null,
   "id": "b51862f3-81ca-4847-8e4a-9a1c38ed2992",
   "metadata": {},
   "outputs": [],
   "source": [
    "map_lim = [-3000000,3000000]\n",
    "file_mask_orig = xr.open_dataset(inputpath_data+'other_mask_vars_Ant_stereo.nc')\n",
    "file_mask_orig_cut = dfmt.cut_domain_stereo(file_mask_orig, map_lim, map_lim)\n",
    "file_other = xr.open_dataset(inputpath_data+'corrected_draft_bathy_isf.nc')#, chunks={'x': chunk_size, 'y': chunk_size})\n",
    "file_other_cut = dfmt.cut_domain_stereo(file_other, map_lim, map_lim)\n",
    "file_conc = xr.open_dataset(inputpath_data+'isfdraft_conc_Ant_stereo.nc')\n",
    "file_conc_cut = dfmt.cut_domain_stereo(file_conc, map_lim, map_lim)"
   ]
  },
  {
   "cell_type": "code",
   "execution_count": null,
   "id": "def40da3-5979-4e61-967d-6d9bc5615dc1",
   "metadata": {},
   "outputs": [],
   "source": [
    "file_bed_corr = file_other_cut['corrected_isf_bathy']\n",
    "file_bed_orig = file_mask_orig_cut['bathy_metry']\n",
    "file_draft = file_other_cut['corrected_isfdraft'] \n",
    "file_isf_conc = file_conc_cut['isfdraft_conc']\n",
    "file_bed_goodGL = file_bed_orig.where(file_draft < file_bed_orig,file_bed_corr)\n"
   ]
  },
  {
   "cell_type": "code",
   "execution_count": null,
   "id": "e9754dba-3e2e-41c6-9b72-3b28905969a7",
   "metadata": {},
   "outputs": [],
   "source": [
    "kisf=66\n",
    "dx = file_isf.x[2] - file_isf.x[1]\n",
    "dy = file_isf.y[2] - file_isf.y[1]\n",
    "lonslope, latslope = slope_zonal_merid(kisf, file_isf, ice_draft_neg, dx, dy)"
   ]
  },
  {
   "cell_type": "code",
   "execution_count": null,
   "id": "70b4157f-b394-4684-86cc-25c254340cd1",
   "metadata": {},
   "outputs": [],
   "source": [
    "bb_merid_slope = None\n",
    "bb_zonal_slope = None\n",
    "\n",
    "ice_merid_slope = None\n",
    "ice_zonal_slope = None\n",
    "\n",
    "dx = file_isf.x[2] - file_isf.x[1]\n",
    "dy = file_isf.y[2] - file_isf.y[1]\n",
    "\n",
    "isf_area_map = file_isf['ISF_mask'].where(file_isf['ISF_mask']>1).copy()\n",
    "entry_depth_map = file_isf['ISF_mask'].where(file_isf['ISF_mask']>1).copy()\n",
    "\n",
    "for kisf in tqdm(file_isf.Nisf):\n",
    "    #print(kisf.values)\n",
    "    bb_lonslope, bb_latslope = dfmt.slope_zonal_merid(kisf, file_isf, -1*file_bed_goodGL, dx, dy)\n",
    "    #print('here1')\n",
    "    ice_lonslope, ice_latslope = dfmt.slope_zonal_merid(kisf, file_isf, -1*file_draft, dx, dy)\n",
    "    #print('here2')\n",
    "    if bb_merid_slope is None:\n",
    "        bb_merid_slope = bb_lonslope\n",
    "        bb_zonal_slope = bb_latslope\n",
    "        ice_merid_slope = ice_lonslope\n",
    "        ice_zonal_slope = ice_latslope\n",
    "    else:\n",
    "        bb_merid_slope = bb_merid_slope.combine_first(bb_lonslope)\n",
    "        bb_zonal_slope = bb_zonal_slope.combine_first(bb_latslope)\n",
    "        ice_merid_slope = ice_merid_slope.combine_first(ice_lonslope)\n",
    "        ice_zonal_slope = ice_zonal_slope.combine_first(ice_latslope)\n",
    "     \n",
    "    #print('here3')\n",
    "    isf_area_map = isf_area_map.where(file_isf['ISF_mask']!=kisf, file_isf['isf_area_here'].sel(Nisf=kisf).drop('Nisf'))\n",
    "    #print('here4')\n",
    "    entry_depth_map = entry_depth_map.where(file_isf['ISF_mask']!=kisf, file_isf['front_bot_depth_max'].sel(Nisf=kisf).drop('Nisf'))\n",
    "    #print('here5')\n",
    "        \n",
    "bb_merid_slope_smooth = bb_merid_slope.reindex_like(file_isf)\n",
    "bb_zonal_slope_smooth = bb_zonal_slope.reindex_like(file_isf)\n",
    "ice_merid_slope_smooth = ice_merid_slope.reindex_like(file_isf)\n",
    "ice_zonal_slope_smooth = ice_zonal_slope.reindex_like(file_isf)\n",
    "\n",
    "\n",
    "dataset_res_merid_bed = bb_merid_slope_smooth.to_dataset(name='slope_bed_lon')\n",
    "dataset_res_zonal_bed = bb_zonal_slope_smooth.to_dataset(name='slope_bed_lat')\n",
    "dataset_res_merid_ice = ice_merid_slope_smooth.to_dataset(name='slope_ice_lon')\n",
    "dataset_res_zonal_ice = ice_zonal_slope_smooth.to_dataset(name='slope_ice_lat')\n",
    "\n",
    "\n",
    "dataset_res = xr.merge([dataset_res_merid_bed,dataset_res_zonal_bed,dataset_res_merid_ice,dataset_res_zonal_ice,\n",
    "                       isf_area_map.to_dataset(name='isf_area'),\n",
    "                       entry_depth_map.to_dataset(name='entry_depth_max')])\n",
    "#dataset_res.to_netcdf(inputpath_mask+'nemo_5km_slope_info_bedrock_draft_latlon.nc','w')"
   ]
  },
  {
   "cell_type": "code",
   "execution_count": null,
   "id": "410d8990-54ae-426a-b251-7dc94359747c",
   "metadata": {},
   "outputs": [],
   "source": [
    "dataset_res.to_netcdf(inputpath_mask+'nemo_5km_slope_info_bedrock_draft_latlon.nc','w')"
   ]
  },
  {
   "cell_type": "markdown",
   "id": "62b24ae2-8b9b-4041-b670-a717eb654e96",
   "metadata": {},
   "source": [
    "######## TRYING OUT THE CONVERSION FORMULA"
   ]
  },
  {
   "cell_type": "code",
   "execution_count": null,
   "id": "57ce3ffb-f09a-49b9-bd7e-104effa1dc94",
   "metadata": {},
   "outputs": [],
   "source": [
    "dataset_res_2 = xr.open_dataset(inputpath_mask+'nemo_5km_slope_info_bedrock_draft.nc')\n",
    "\n",
    "ice_draft_neg = -1*file_bed_goodGL\n",
    "kisf = 31\n",
    "\n",
    "draft_isf = ice_draft_neg.where(file_isf['ISF_mask'] == kisf, drop=True)\n",
    "\n",
    "dr = np.pi/180.\n",
    "#deltaphi = 90. - GEddxx !Geddxx= 90° in my config\n",
    "deltaphi = 0\n",
    "\n",
    "phi = (-1)*(file_isf.longitude+deltaphi)*dr #to turn positively\n",
    "cphi = np.cos( phi )\n",
    "sphi = np.sin( phi )\n",
    "#\n",
    "ux = cphi*dataset_res['slope_bed_x'].values + sphi*(-1)*dataset_res['slope_bed_y'].values #because the y-axis is in the other direction\n",
    "vy = - sphi*dataset_res['slope_bed_x'].values + cphi*(-1)*dataset_res['slope_bed_y'].values #because the y-axis is in the other direction\n",
    "u_lon = xr.DataArray(ux, coords=dataset_res.coords).transpose('y','x').rename('slope_lon')\n",
    "v_lat = xr.DataArray(vy, coords=dataset_res.coords).transpose('y','x').rename('slope_lat')\n",
    "\n",
    "# also, to double-check : https://www.whoi.edu/marine/ndsf/utility/NDSFutility.js"
   ]
  },
  {
   "cell_type": "code",
   "execution_count": null,
   "id": "ffccd9df-4f7b-49b8-be3f-4f183c6c53d5",
   "metadata": {},
   "outputs": [],
   "source": [
    "dataset_res2 = xr.open_dataset(inputpath_mask+'nemo_5km_slope_info_bedrock_draft.nc')\n"
   ]
  },
  {
   "cell_type": "code",
   "execution_count": null,
   "id": "65fdf778-c7ce-437a-952a-ed84f8d53d87",
   "metadata": {},
   "outputs": [],
   "source": [
    "kisf=10\n",
    "keyword='ice'"
   ]
  },
  {
   "cell_type": "code",
   "execution_count": null,
   "id": "b2c7d464-9c9b-4e78-a31c-f6a8ab1f6115",
   "metadata": {},
   "outputs": [],
   "source": [
    "dataset_res['slope_'+keyword+'_lon'].where(file_isf['ISF_mask'] == kisf, drop=True).plot()"
   ]
  },
  {
   "cell_type": "code",
   "execution_count": null,
   "id": "9e19ec82-36fc-4d1f-9be5-d090e9a62418",
   "metadata": {},
   "outputs": [],
   "source": [
    "(-1*dataset_res2['slope_'+keyword+'_y'].where(file_isf['ISF_mask'] == kisf, drop=True)).plot()"
   ]
  },
  {
   "cell_type": "code",
   "execution_count": null,
   "id": "a44336fc-ac6c-4602-b392-b86a92a453e0",
   "metadata": {},
   "outputs": [],
   "source": [
    "dataset_res['slope_'+keyword+'_lat'].where(file_isf['ISF_mask'] == kisf, drop=True).plot()"
   ]
  },
  {
   "cell_type": "code",
   "execution_count": null,
   "id": "b9a9c5e8-9774-437c-b5c1-c4d1207a267e",
   "metadata": {},
   "outputs": [],
   "source": [
    "(dataset_res2['slope_'+keyword+'_x']).where(file_isf['ISF_mask'] == kisf, drop=True).plot()"
   ]
  },
  {
   "cell_type": "code",
   "execution_count": null,
   "id": "db1757a4-9a24-41c4-b389-f887650dda66",
   "metadata": {},
   "outputs": [],
   "source": [
    "dataset_res['slope_bed_y'].where(file_isf['ISF_mask'] == 66, drop=True).isel(x=range(12,15),y=range(12,15))"
   ]
  },
  {
   "cell_type": "code",
   "execution_count": null,
   "id": "3d590e0b-02df-4415-a965-47c093cffa6f",
   "metadata": {},
   "outputs": [],
   "source": [
    "kisf = 39 # Abbot"
   ]
  },
  {
   "cell_type": "code",
   "execution_count": null,
   "id": "da6c12f1-6bb4-4288-ba23-e750426db91d",
   "metadata": {},
   "outputs": [],
   "source": [
    "u_lon.where(file_isf['ISF_mask'] == kisf, drop=True).plot()"
   ]
  },
  {
   "cell_type": "code",
   "execution_count": null,
   "id": "abaa1594-8423-40fb-892f-8ab525655d8e",
   "metadata": {},
   "outputs": [],
   "source": [
    "(-1*dataset_res['slope_bed_y'].where(file_isf['ISF_mask'] == kisf, drop=True)).plot()"
   ]
  },
  {
   "cell_type": "code",
   "execution_count": null,
   "id": "88dab433-0816-4b6d-b19b-5578d6349c21",
   "metadata": {},
   "outputs": [],
   "source": [
    "v_lat.where(file_isf['ISF_mask'] == kisf, drop=True).plot()"
   ]
  },
  {
   "cell_type": "code",
   "execution_count": null,
   "id": "2bf747d6-6d85-4a12-a21e-be7f9981c5fd",
   "metadata": {},
   "outputs": [],
   "source": [
    "(dataset_res['slope_bed_x']).where(file_isf['ISF_mask'] == kisf, drop=True).plot()"
   ]
  },
  {
   "cell_type": "code",
   "execution_count": null,
   "id": "8d964673-f22a-4467-9989-274a4136a7f5",
   "metadata": {},
   "outputs": [],
   "source": [
    "kisf = 44 #Fimbul"
   ]
  },
  {
   "cell_type": "code",
   "execution_count": null,
   "id": "aee1e95a-9bfb-4621-9530-82628e37b875",
   "metadata": {},
   "outputs": [],
   "source": [
    "u_lon.where(file_isf['ISF_mask'] == kisf, drop=True).plot()"
   ]
  },
  {
   "cell_type": "code",
   "execution_count": null,
   "id": "5fed3b55-dc55-4d89-923d-33d760519d0a",
   "metadata": {},
   "outputs": [],
   "source": [
    "(dataset_res['slope_bed_x']).where(file_isf['ISF_mask'] == kisf, drop=True).plot()"
   ]
  },
  {
   "cell_type": "code",
   "execution_count": null,
   "id": "bed74561-6851-4d12-9ec1-d4bb994c8842",
   "metadata": {},
   "outputs": [],
   "source": [
    "v_lat.where(file_isf['ISF_mask'] == kisf, drop=True).plot()"
   ]
  },
  {
   "cell_type": "code",
   "execution_count": null,
   "id": "ce0ba7a0-48a2-4fc6-ad1c-1e804e0d759e",
   "metadata": {},
   "outputs": [],
   "source": [
    "(-1*dataset_res['slope_bed_y'].where(file_isf['ISF_mask'] == kisf, drop=True)).plot()"
   ]
  },
  {
   "cell_type": "code",
   "execution_count": null,
   "id": "a5406145-ceb5-4343-a5b2-3c3095390467",
   "metadata": {},
   "outputs": [],
   "source": [
    "kisf=10"
   ]
  },
  {
   "cell_type": "code",
   "execution_count": null,
   "id": "1aeea245-8022-4801-9363-86e74b453ffa",
   "metadata": {},
   "outputs": [],
   "source": [
    "u_lon.where(file_isf['ISF_mask'] == kisf, drop=True).plot()"
   ]
  },
  {
   "cell_type": "code",
   "execution_count": null,
   "id": "98d048cb-204b-4f84-aed5-4d2026bc7c68",
   "metadata": {},
   "outputs": [],
   "source": [
    "(dataset_res['slope_bed_x']).where(file_isf['ISF_mask'] == kisf, drop=True).plot()"
   ]
  },
  {
   "cell_type": "code",
   "execution_count": null,
   "id": "12029f75-013e-4241-9d42-6e4706b65968",
   "metadata": {},
   "outputs": [],
   "source": [
    "v_lat.where(file_isf['ISF_mask'] == kisf, drop=True).plot()"
   ]
  },
  {
   "cell_type": "code",
   "execution_count": null,
   "id": "efc09595-21ed-4615-81f5-2bf43b44b465",
   "metadata": {},
   "outputs": [],
   "source": [
    "(-1*dataset_res['slope_bed_y'].where(file_isf['ISF_mask'] == kisf, drop=True)).plot()"
   ]
  },
  {
   "cell_type": "code",
   "execution_count": null,
   "id": "02033096-581c-45bf-9ea1-d3a209f16418",
   "metadata": {},
   "outputs": [],
   "source": [
    "# this is the lon, lat stuff in the x and y directions\n",
    "\n",
    "x_slope_bed_lat = None\n",
    "x_slope_bed_lon = None\n",
    "y_slope_bed_lat = None\n",
    "y_slope_bed_lon = None\n",
    "x_slope_ice_lat = None\n",
    "x_slope_ice_lon = None\n",
    "y_slope_ice_lat = None\n",
    "y_slope_ice_lon = None\n",
    "\n",
    "isf_area_map = file_isf['ISF_mask'].where(file_isf['ISF_mask']>1).copy()\n",
    "entry_depth_map = file_isf['ISF_mask'].where(file_isf['ISF_mask']>1).copy()\n",
    "\n",
    "for kisf in tqdm(file_isf.Nisf):\n",
    "    print(kisf.values)\n",
    "    bb_sl_x_lat, bb_sl_x_lon, bb_sl_y_lat, bb_sl_y_lon = dfmt.slope_in_lon_and_lat_dir(kisf, file_isf, -1*file_bed_goodGL, 'bathy_metry')\n",
    "    #print('here1')\n",
    "    ice_sl_x_lat, ice_sl_x_lon, ice_sl_y_lat, ice_sl_y_lon = dfmt.slope_in_lon_and_lat_dir(kisf, file_isf, -1*file_draft, 'corrected_isfdraft')\n",
    "    #print('here2')\n",
    "    if x_slope_bed_lat is None:\n",
    "        x_slope_bed_lat = bb_sl_x_lat\n",
    "        x_slope_bed_lon = bb_sl_x_lon\n",
    "        y_slope_bed_lat = bb_sl_y_lat\n",
    "        y_slope_bed_lon = bb_sl_y_lon\n",
    "        x_slope_ice_lat = ice_sl_x_lat\n",
    "        x_slope_ice_lon = ice_sl_x_lon\n",
    "        y_slope_ice_lat = ice_sl_y_lat\n",
    "        y_slope_ice_lon = ice_sl_y_lon\n",
    "    else:\n",
    "        x_slope_bed_lat = x_slope_bed_lat.combine_first(bb_sl_x_lat)\n",
    "        x_slope_bed_lon = x_slope_bed_lon.combine_first(bb_sl_x_lon)\n",
    "        y_slope_bed_lat = y_slope_bed_lat.combine_first(bb_sl_y_lat)\n",
    "        y_slope_bed_lon = y_slope_bed_lon.combine_first(bb_sl_y_lon)\n",
    "        \n",
    "        x_slope_ice_lat = x_slope_ice_lat.combine_first(ice_sl_x_lat)\n",
    "        x_slope_ice_lon = x_slope_ice_lon.combine_first(ice_sl_x_lon)\n",
    "        y_slope_ice_lat = y_slope_ice_lat.combine_first(ice_sl_y_lat)\n",
    "        y_slope_ice_lon = y_slope_ice_lon.combine_first(ice_sl_y_lon)        \n",
    "    #print('here3')\n",
    "    isf_area_map = isf_area_map.where(file_isf['ISF_mask']!=kisf, file_isf['isf_area_here'].sel(Nisf=kisf).drop('Nisf'))\n",
    "    #print('here4')\n",
    "    entry_depth_map = entry_depth_map.where(file_isf['ISF_mask']!=kisf, file_isf['front_bot_depth_max'].sel(Nisf=kisf).drop('Nisf'))\n",
    "    #print('here5')\n",
    "        \n",
    "x_slope_bed_lat_smooth = x_slope_bed_lat.reindex_like(file_isf)\n",
    "x_slope_bed_lon_smooth = x_slope_bed_lon.reindex_like(file_isf)\n",
    "y_slope_bed_lat_smooth = y_slope_bed_lat.reindex_like(file_isf)\n",
    "y_slope_bed_lon_smooth = y_slope_bed_lon.reindex_like(file_isf)\n",
    "\n",
    "x_slope_ice_lat_smooth = x_slope_ice_lat.reindex_like(file_isf)\n",
    "x_slope_ice_lon_smooth = x_slope_ice_lon.reindex_like(file_isf)\n",
    "y_slope_ice_lat_smooth = y_slope_ice_lat.reindex_like(file_isf)\n",
    "y_slope_ice_lon_smooth = y_slope_ice_lon.reindex_like(file_isf)\n",
    "\n",
    "\n",
    "dataset_res_x_lat_bed = x_slope_bed_lat_smooth.to_dataset(name='slope_bed_x_lat')\n",
    "dataset_res_x_lon_bed = x_slope_bed_lon_smooth.to_dataset(name='slope_bed_x_lon')\n",
    "dataset_res_y_lat_bed = y_slope_bed_lat_smooth.to_dataset(name='slope_bed_y_lat')\n",
    "dataset_res_y_lon_bed = y_slope_bed_lon_smooth.to_dataset(name='slope_bed_y_lon')\n",
    "\n",
    "dataset_res_x_lat_ice = x_slope_ice_lat_smooth.to_dataset(name='slope_ice_x_lat')\n",
    "dataset_res_x_lon_ice = x_slope_ice_lon_smooth.to_dataset(name='slope_ice_x_lon')\n",
    "dataset_res_y_lat_ice = y_slope_ice_lat_smooth.to_dataset(name='slope_ice_y_lat')\n",
    "dataset_res_y_lon_ice = y_slope_ice_lon_smooth.to_dataset(name='slope_ice_y_lon')\n",
    "\n",
    "dataset_res = xr.merge([dataset_res_x_lat_bed,dataset_res_x_lon_bed,dataset_res_y_lat_bed,dataset_res_y_lon_bed,\n",
    "                       dataset_res_x_lat_ice,dataset_res_x_lon_ice,dataset_res_y_lat_ice,dataset_res_y_lon_ice,\n",
    "                       isf_area_map.to_dataset(name='isf_area'),\n",
    "                       entry_depth_map.to_dataset(name='entry_depth_max')])\n",
    "dataset_res.to_netcdf(inputpath_mask+'nemo_5km_slope_info_bedrock_draft_latlon.nc','w')\n",
    "#bedrock_slope_smooth.to_dataset(name='bedrock_slope').to_netcdf(inputpath_mask+'nemo_5km_bedrock_slope.nc','w')"
   ]
  },
  {
   "cell_type": "markdown",
   "id": "485dc96b-042f-4055-abc5-28cbf4d45678",
   "metadata": {},
   "source": [
    "################# OLD SCRIPTS"
   ]
  },
  {
   "cell_type": "code",
   "execution_count": null,
   "id": "cf2033ad-cd7e-4a06-b20e-f123eec84846",
   "metadata": {},
   "outputs": [],
   "source": [
    "# aboslute slope in both directions (like for plume, local slope option)\n",
    "dx = file_isf.x[2] - file_isf.x[1]\n",
    "dy = file_isf.y[2] - file_isf.y[1]\n",
    "\n",
    "bedrock_slope = None\n",
    "for kisf in tqdm(file_isf.Nisf):\n",
    "    #print(kisf.values)\n",
    "    bb_sl = compute_alpha_appenB(kisf, file_isf, -1*file_bed_goodGL, abs(dx), abs(dy))\n",
    "    if bedrock_slope is None:\n",
    "        bedrock_slope = bb_sl\n",
    "    else:\n",
    "        bedrock_slope = bedrock_slope.combine_first(bb_sl)\n",
    "bedrock_slope_smooth = bedrock_slope.reindex_like(file_isf)\n",
    "bedrock_slope_smooth.to_dataset(name='bedrock_slope').to_netcdf(inputpath_mask+'nemo_5km_bedrock_slope.nc','w')"
   ]
  },
  {
   "cell_type": "code",
   "execution_count": null,
   "id": "df2a8138-1549-45c6-a507-8001214aa08f",
   "metadata": {},
   "outputs": [],
   "source": [
    "ice_draft_neg = -1*file_bed_goodGL\n",
    "plume_var_of_int = file_isf\n",
    "kisf=66"
   ]
  },
  {
   "cell_type": "code",
   "execution_count": null,
   "id": "379f8599-f83f-4649-857d-a8a9a1fc27a2",
   "metadata": {},
   "outputs": [],
   "source": [
    "shift_vars = xr.merge([draft_isf.drop('latitude').drop('longitude'),lat,lon])"
   ]
  },
  {
   "cell_type": "code",
   "execution_count": null,
   "id": "ee391ebc-7a16-4323-9f86-24afe8488c0b",
   "metadata": {},
   "outputs": [],
   "source": [
    "draft_isf = ice_draft_neg.where(plume_var_of_int['ISF_mask'] == kisf, drop=True)\n",
    "lat = plume_var_of_int['latitude'].where(plume_var_of_int['ISF_mask'] == kisf, drop=True).drop('latitude').drop('longitude')\n",
    "lon = plume_var_of_int['longitude'].where(plume_var_of_int['ISF_mask'] == kisf, drop=True).drop('latitude').drop('longitude')\n",
    "shift_vars = xr.merge([draft_isf.drop('latitude').drop('longitude'),lat,lon])"
   ]
  },
  {
   "cell_type": "code",
   "execution_count": null,
   "id": "225a4e59-6985-439d-bf98-a816064e007c",
   "metadata": {},
   "outputs": [],
   "source": [
    "shift_vars_x_minus = shift_vars.shift(x=-1)\n",
    "shift_vars_x_plus = shift_vars.shift(x=1)\n",
    "shift_vars_y_minus = shift_vars.shift(y=-1)\n",
    "shift_vars_y_plus = shift_vars.shift(y=1)"
   ]
  },
  {
   "cell_type": "code",
   "execution_count": null,
   "id": "0ba96c45-99bb-4798-a818-bc258900f2e2",
   "metadata": {},
   "outputs": [],
   "source": [
    "shift_vars_test = shift_vars_x_minus - shift_vars\n",
    "shift_vars_test['longitude']"
   ]
  },
  {
   "cell_type": "code",
   "execution_count": null,
   "id": "f8a82921-b7fa-44de-ba6d-e310ac895d61",
   "metadata": {},
   "outputs": [],
   "source": [
    "# this is the x and y slope only\n",
    "dx = file_isf.x[2] - file_isf.x[1]\n",
    "dy = file_isf.y[2] - file_isf.y[1]\n",
    "\n",
    "x_slope_ice = None\n",
    "y_slope_ice = None\n",
    "x_slope_bed = None\n",
    "y_slope_bed = None\n",
    "\n",
    "for kisf in tqdm(file_isf.Nisf):\n",
    "    #print(kisf.values)\n",
    "    bb_sl_x, bb_sl_y = slope_in_x_and_y_dir(kisf, file_isf, -1*file_bed_goodGL, abs(dx), abs(dy))\n",
    "    ice_sl_x, ice_sl_y = slope_in_x_and_y_dir(kisf, file_isf, -1*file_draft, abs(dx), abs(dy))\n",
    "    if x_slope_bed is None:\n",
    "        x_slope_bed = bb_sl_x\n",
    "        y_slope_bed = bb_sl_y\n",
    "        x_slope_ice = ice_sl_x\n",
    "        y_slope_ice = ice_sl_y\n",
    "    else:\n",
    "        x_slope_bed = x_slope_bed.combine_first(bb_sl_x)\n",
    "        y_slope_bed = y_slope_bed.combine_first(bb_sl_y)\n",
    "        x_slope_ice = x_slope_ice.combine_first(ice_sl_x)\n",
    "        y_slope_ice = y_slope_ice.combine_first(ice_sl_y)\n",
    "        \n",
    "x_slope_bed_smooth = x_slope_bed.reindex_like(file_isf)\n",
    "y_slope_bed_smooth = y_slope_bed.reindex_like(file_isf)\n",
    "x_slope_ice_smooth = x_slope_ice.reindex_like(file_isf)\n",
    "y_slope_ice_smooth = y_slope_ice.reindex_like(file_isf)\n",
    "\n",
    "dataset_res_x_bed = x_slope_bed_smooth.to_dataset(name='slope_bed_x')\n",
    "dataset_res_y_bed = y_slope_bed_smooth.to_dataset(name='slope_bed_y')\n",
    "dataset_res_x_ice = x_slope_ice_smooth.to_dataset(name='slope_ice_x')\n",
    "dataset_res_y_ice = y_slope_ice_smooth.to_dataset(name='slope_ice_y')\n",
    "dataset_res = xr.merge([dataset_res_x_bed,dataset_res_y_bed,dataset_res_x_ice,dataset_res_y_ice])\n",
    "#dataset_res.to_netcdf(inputpath_mask+'nemo_5km_slope_info_bedrock_draft.nc','w')\n",
    "#bedrock_slope_smooth.to_dataset(name='bedrock_slope').to_netcdf(inputpath_mask+'nemo_5km_bedrock_slope.nc','w')"
   ]
  },
  {
   "cell_type": "markdown",
   "id": "00015dcc-3273-41fd-b2cc-7ba6cea91cae",
   "metadata": {},
   "source": [
    "######## CHRISTOPH FORMULA - NOT REALLY SURE IF THIS IS RIGHT BUT I COULD TRUST HIM"
   ]
  },
  {
   "cell_type": "code",
   "execution_count": null,
   "id": "dc236bdd-ad27-4038-8861-4b8d7c129399",
   "metadata": {},
   "outputs": [],
   "source": [
    "dataset_res = xr.open_dataset(inputpath_mask+'nemo_5km_slope_info_bedrock_draft.nc')\n",
    "\n",
    "dr = np.pi/180.\n",
    "#deltaphi = 90. - GEddxx !Geddxx= 90° in my config\n",
    "deltaphi = 0\n",
    "\n",
    "phi = (-1.) * (file_isf.longitude+deltaphi)*dr\n",
    "cphi = np.cos( -phi )\n",
    "sphi = np.sin( -phi )\n",
    "ux = cphi*dataset_res['slope_bed_x'].values - sphi*dataset_res['slope_bed_y'].values\n",
    "vy = sphi*dataset_res['slope_bed_x'].values + cphi*dataset_res['slope_bed_y'].values\n",
    "u_lonlat = xr.DataArray(ux, coords=dataset_res.coords).transpose('y','x')\n",
    "#u_lonlat = u_lonlat.set_coords(dataset_res.coords)\n",
    "v_lonlat = xr.DataArray(vy, coords=dataset_res.coords).transpose('y','x')"
   ]
  },
  {
   "cell_type": "code",
   "execution_count": null,
   "id": "3b5f1c97-bcd1-4ef7-a349-7fdbaf653a79",
   "metadata": {},
   "outputs": [],
   "source": [
    "u_lonlat.where(file_isf['ISF_mask'] == 66, drop=True).isel(x=range(12,15),y=range(12,15))#.plot()"
   ]
  },
  {
   "cell_type": "code",
   "execution_count": null,
   "id": "bfc0e1bb-537e-4f66-82c9-83e62ebfe919",
   "metadata": {},
   "outputs": [],
   "source": [
    "dataset_res"
   ]
  },
  {
   "cell_type": "code",
   "execution_count": null,
   "id": "c390941d-d0a2-49ec-911b-46794a11a9a5",
   "metadata": {},
   "outputs": [],
   "source": [
    "dataset_res['slope_bed_x'].where(file_isf['ISF_mask'] == 66, drop=True).isel(x=range(12,15),y=range(12,15))#.plot()"
   ]
  },
  {
   "cell_type": "code",
   "execution_count": null,
   "id": "a896fc73-a645-4986-8e9b-42b245c283d1",
   "metadata": {},
   "outputs": [],
   "source": [
    "file_bed_goodGL.where(file_isf['ISF_mask'] == 66, drop=True).isel(x=range(12,15),y=range(12,15))#.plot()"
   ]
  },
  {
   "cell_type": "code",
   "execution_count": null,
   "id": "1ba94c1a-4b5b-4df2-9d27-3e0a2d8faf5a",
   "metadata": {},
   "outputs": [],
   "source": [
    "file_bed_goodGL.where(file_isf['ISF_mask'] == 66, drop=True).isel(x=range(12,15),y=range(12,15))#.plot()"
   ]
  },
  {
   "cell_type": "code",
   "execution_count": null,
   "id": "226dc569-f797-49c5-ab35-1423eed8cde9",
   "metadata": {},
   "outputs": [],
   "source": [
    "dataset_res['slope_bed_y_lon'].where(file_isf['ISF_mask'] == 66, drop=True).isel(x=range(12,15),y=range(12,15))#.plot()"
   ]
  },
  {
   "cell_type": "code",
   "execution_count": null,
   "id": "643921c1-0822-464c-8e66-713d7a5ce10f",
   "metadata": {},
   "outputs": [],
   "source": [
    "-5/-0.34"
   ]
  },
  {
   "cell_type": "markdown",
   "id": "58d487b7-824a-49b8-8652-46080ea77edf",
   "metadata": {},
   "source": [
    "########### PREPARE WEIRD INPUT TO TELL THE ORIENTATION OF THE ICE SHELF"
   ]
  },
  {
   "cell_type": "code",
   "execution_count": null,
   "id": "a5a37088-3e73-464d-aa78-3704d2a9b933",
   "metadata": {},
   "outputs": [],
   "source": [
    "def diff_GL_IF(kisf, mask_file, dimension, direction):\n",
    "    GL_mask = mask_file['GL_mask'].where(mask_file['GL_mask'] == kisf, drop=True)\n",
    "    IF_mask = mask_file['IF_mask'].where(mask_file['IF_mask'] == kisf, drop=True)\n",
    "    if dimension == 'x':\n",
    "        if direction == 'minmax':\n",
    "            diff_GL_IF = GL_mask.x.min() - IF_mask.x.max()\n",
    "        elif direction == 'maxmin':\n",
    "            diff_GL_IF = GL_mask.x.max() - IF_mask.x.min()\n",
    "    elif dimension == 'y':\n",
    "        if direction == 'minmax':\n",
    "            diff_GL_IF = GL_mask.y.min() - IF_mask.y.max()\n",
    "        elif direction == 'maxmin':\n",
    "            diff_GL_IF = GL_mask.y.max() - IF_mask.y.min()\n",
    "    return diff_GL_IF"
   ]
  },
  {
   "cell_type": "code",
   "execution_count": null,
   "id": "d5025e64-6857-41ab-8375-615ce5f4f27b",
   "metadata": {},
   "outputs": [],
   "source": [
    "dx_GL_IF_minmax_map = file_isf['ISF_mask'].where(file_isf['ISF_mask']>1).copy()\n",
    "dx_GL_IF_maxmin_map = file_isf['ISF_mask'].where(file_isf['ISF_mask']>1).copy()\n",
    "dy_GL_IF_minmax_map = file_isf['ISF_mask'].where(file_isf['ISF_mask']>1).copy()\n",
    "dy_GL_IF_maxmin_map = file_isf['ISF_mask'].where(file_isf['ISF_mask']>1).copy()\n",
    "isf_area_map = file_isf['ISF_mask'].where(file_isf['ISF_mask']>1).copy()\n",
    "\n",
    "for kisf in tqdm(file_isf.Nisf):\n",
    "    dx_GL_IF_minmax = diff_GL_IF(kisf, file_isf, 'x', 'minmax')\n",
    "    dx_GL_IF_minmax_map = dx_GL_IF_minmax_map.where(file_isf['ISF_mask']!=kisf, dx_GL_IF_minmax)\n",
    "    \n",
    "    dx_GL_IF_maxmin = diff_GL_IF(kisf, file_isf, 'x', 'maxmin')\n",
    "    dx_GL_IF_maxmin_map = dx_GL_IF_maxmin_map.where(file_isf['ISF_mask']!=kisf, dx_GL_IF_maxmin)\n",
    "                                                    \n",
    "    dy_GL_IF_minmax = diff_GL_IF(kisf, file_isf, 'y', 'minmax')\n",
    "    dy_GL_IF_minmax_map = dy_GL_IF_minmax_map.where(file_isf['ISF_mask']!=kisf, dy_GL_IF_minmax)\n",
    "\n",
    "    dy_GL_IF_maxmin = diff_GL_IF(kisf, file_isf, 'y', 'maxmin')\n",
    "    dy_GL_IF_maxmin_map = dy_GL_IF_maxmin_map.where(file_isf['ISF_mask']!=kisf, dy_GL_IF_maxmin)\n",
    "\n",
    "    isf_area_map = isf_area_map.where(file_isf['ISF_mask']!=kisf, file_isf['isf_area_here'].sel(Nisf=kisf).drop('Nisf'))\n",
    "    \n",
    "dataset_res_dGL_IF = xr.merge([dx_GL_IF_minmax_map.to_dataset(name='dx_GL_IF_minmax'),\n",
    "                        dx_GL_IF_maxmin_map.to_dataset(name='dx_GL_IF_maxmin'),\n",
    "                        dy_GL_IF_minmax_map.to_dataset(name='dy_GL_IF_minmax'),\n",
    "                        dy_GL_IF_maxmin_map.to_dataset(name='dy_GL_IF_maxmin'),\n",
    "                        isf_area_map.to_dataset(name='isf_area')])\n",
    "dataset_res_dGL_IF.to_netcdf(inputpath_mask+'nemo_5km_orientation_info.nc','w')"
   ]
  },
  {
   "cell_type": "code",
   "execution_count": null,
   "id": "afb39b4f-5735-480e-8551-6a833eea8052",
   "metadata": {},
   "outputs": [],
   "source": [
    "test_file_bed = file_bed_orig.where(file_draft < file_bed_orig,file_bed_corr)\n",
    "test_file_bed.where(file_isf['ISF_mask']==66, drop=True).plot()"
   ]
  },
  {
   "cell_type": "code",
   "execution_count": null,
   "id": "efc6834b-139b-43b7-a063-877a56786dec",
   "metadata": {},
   "outputs": [],
   "source": [
    "test_file_bed = file_bed_orig.where(file_isf['dGL'] >= 10000.,file_bed_corr)\n",
    "test_file_bed.where(file_isf['ISF_mask']==66, drop=True).plot()"
   ]
  },
  {
   "cell_type": "code",
   "execution_count": null,
   "id": "198941d6-00ab-497d-aaca-ec1cb27ac282",
   "metadata": {},
   "outputs": [],
   "source": [
    "(test_file_bed - file_bed_orig).where(file_isf['ISF_mask']==10, drop=True).plot()"
   ]
  },
  {
   "cell_type": "code",
   "execution_count": null,
   "id": "08af5a05-1b3e-45e6-9e6d-8f87b841bd71",
   "metadata": {},
   "outputs": [],
   "source": []
  }
 ],
 "metadata": {
  "kernelspec": {
   "display_name": "neuralnet",
   "language": "python",
   "name": "neuralnet"
  },
  "language_info": {
   "codemirror_mode": {
    "name": "ipython",
    "version": 3
   },
   "file_extension": ".py",
   "mimetype": "text/x-python",
   "name": "python",
   "nbconvert_exporter": "python",
   "pygments_lexer": "ipython3",
   "version": "3.9.4"
  }
 },
 "nbformat": 4,
 "nbformat_minor": 5
}
