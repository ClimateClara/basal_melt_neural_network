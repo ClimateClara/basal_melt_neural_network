{
 "cells": [
  {
   "cell_type": "code",
   "execution_count": null,
   "id": "d3583510-f584-4543-9c95-18a707cd5d4b",
   "metadata": {},
   "outputs": [],
   "source": [
    "\"\"\"\n",
    "Created on Mon Jul 04 14:17 2022\n",
    "\n",
    "Prepare csv for chunks in time \n",
    "\n",
    "Author: @claraburgard\n",
    "\"\"\""
   ]
  },
  {
   "cell_type": "markdown",
   "id": "5f3c0584-3a9a-424e-a0f0-c5630eee10c6",
   "metadata": {},
   "source": [
    "FOR EACH POINT:\n",
    "- T and S extrapolated to ice draft depth\n",
    "- Distance to front\n",
    "- Distance to the grounding line\n",
    "- ice draft zonal and meridional slope in x- and y-direction\n",
    "- bedrock zonal and meridional slope in x- and y-direction\n",
    "- Ice draft depth\n",
    "- Bathymetry\n",
    "- utide\n",
    "- Ice draft concentration\n",
    "- Max bathymetry \n",
    "- Target: melt m ice per yr"
   ]
  },
  {
   "cell_type": "code",
   "execution_count": null,
   "id": "6a60f5de-bf69-4a60-ac95-59a63847b320",
   "metadata": {},
   "outputs": [],
   "source": [
    "import numpy as np\n",
    "import xarray as xr\n",
    "import os.path\n",
    "from tqdm.notebook import trange, tqdm\n",
    "import basal_melt_neural_networks.data_formatting as dfmt"
   ]
  },
  {
   "cell_type": "markdown",
   "id": "f8a9e7d1-c559-448a-8434-3b643030f529",
   "metadata": {},
   "source": [
    "READ IN DATA"
   ]
  },
  {
   "cell_type": "code",
   "execution_count": null,
   "id": "948a373b-c36b-434a-bdc3-fdcb490aff41",
   "metadata": {},
   "outputs": [],
   "source": [
    "nemo_run0 = 'OPM021'\n",
    "\n",
    "if nemo_run0 == 'OPM031-1' or nemo_run0 ==  'OPM031-2':\n",
    "    nemo_run = 'OPM031'\n",
    "else:\n",
    "    nemo_run = nemo_run0"
   ]
  },
  {
   "cell_type": "code",
   "execution_count": null,
   "id": "9002f0ba-ba08-4db0-b072-1307a05030f4",
   "metadata": {},
   "outputs": [],
   "source": [
    "inputpath_data='/bettik/burgardc/SCRIPTS/basal_melt_param/data/interim/NEMO_eORCA025.L121_'+nemo_run+'_ANT_STEREO/'\n",
    "inputpath_mask = '/bettik/burgardc/SCRIPTS/basal_melt_param/data/interim/ANTARCTICA_IS_MASKS/nemo_5km_'+nemo_run+'/'\n",
    "inputpath_profiles = '/bettik/burgardc/SCRIPTS/basal_melt_param/data/interim/T_S_PROF/nemo_5km_'+nemo_run+'/'\n",
    "inputpath_plumes = '/bettik/burgardc/SCRIPTS/basal_melt_param/data/interim/PLUMES/nemo_5km_'+nemo_run+'/'\n",
    "inputpath_boxes = '/bettik/burgardc/SCRIPTS/basal_melt_param/data/interim/BOXES/nemo_5km_'+nemo_run+'/'\n",
    "outputpath_melt = '/bettik/burgardc/SCRIPTS/basal_melt_param/data/processed/MELT_RATE/nemo_5km_'+nemo_run+'/'\n",
    "outputpath_nn = '/bettik/burgardc/DATA/NN_PARAM/interim/INPUT_DATA/EXTRAPOLATED_ISFDRAFT_CHUNKS/'\n",
    "inputpath_tides = '/bettik/burgardc/DATA/BASAL_MELT_PARAM/interim/TIDES/'"
   ]
  },
  {
   "cell_type": "markdown",
   "id": "1415af73-a87c-43e0-9bea-cc2a00620b87",
   "metadata": {},
   "source": [
    "Input variables"
   ]
  },
  {
   "cell_type": "code",
   "execution_count": null,
   "id": "e3d84d6f-6055-4409-9c55-70ee33a98e13",
   "metadata": {},
   "outputs": [],
   "source": [
    "# T and S extrapolated to ice draft depth\n",
    "if nemo_run == 'OPM031-2':\n",
    "    T_S_2D_isfdraft = xr.open_mfdataset(inputpath_profiles+'T_S_2D_fields_isf_draft_oneFRIS.nc').sel(profile_domain=50).isel(time=range(30,70))\n",
    "elif nemo_run == 'OPM031-1':\n",
    "    T_S_2D_isfdraft = xr.open_mfdataset(inputpath_profiles+'T_S_2D_fields_isf_draft_oneFRIS.nc').sel(profile_domain=50).isel(time=range(30))\n",
    "else:\n",
    "    T_S_2D_isfdraft = xr.open_mfdataset(inputpath_profiles+'T_S_2D_fields_isf_draft_oneFRIS.nc').sel(profile_domain=50)"
   ]
  },
  {
   "cell_type": "code",
   "execution_count": null,
   "id": "c770f032-ad7b-4dcd-af51-291720dd8c91",
   "metadata": {},
   "outputs": [],
   "source": [
    "# dIF, dGL\n",
    "file_isf_orig = xr.open_dataset(inputpath_mask+'nemo_5km_isf_masks_and_info_and_distance_new_oneFRIS.nc')\n",
    "nonnan_Nisf = file_isf_orig['Nisf'].where(np.isfinite(file_isf_orig['front_bot_depth_max']), drop=True).astype(int)\n",
    "file_isf_nonnan = file_isf_orig.sel(Nisf=nonnan_Nisf)\n",
    "large_isf = file_isf_nonnan['Nisf'].where(file_isf_nonnan['isf_area_here'] >= 2500, drop=True)\n",
    "file_isf = file_isf_nonnan.sel(Nisf=large_isf)"
   ]
  },
  {
   "cell_type": "code",
   "execution_count": null,
   "id": "fcdbfaec-8cb9-4fd3-bb1d-f6ee9a44bad7",
   "metadata": {},
   "outputs": [],
   "source": [
    "map_lim = [-3000000,3000000]\n",
    "file_mask_orig = xr.open_dataset(inputpath_data+'other_mask_vars_Ant_stereo.nc')\n",
    "file_mask_orig_cut = dfmt.cut_domain_stereo(file_mask_orig, map_lim, map_lim)\n",
    "file_other = xr.open_dataset(inputpath_data+'corrected_draft_bathy_isf.nc')#, chunks={'x': chunk_size, 'y': chunk_size})\n",
    "file_other_cut = dfmt.cut_domain_stereo(file_other, map_lim, map_lim)\n",
    "file_conc = xr.open_dataset(inputpath_data+'isfdraft_conc_Ant_stereo.nc')\n",
    "file_conc_cut = dfmt.cut_domain_stereo(file_conc, map_lim, map_lim)"
   ]
  },
  {
   "cell_type": "code",
   "execution_count": null,
   "id": "1a3dc398-695c-475b-9efa-bd8d75890411",
   "metadata": {},
   "outputs": [],
   "source": [
    "# bathymetry, ice draft, concentration\n",
    "file_bed_orig = file_mask_orig_cut['bathy_metry']\n",
    "file_bed_corr = file_other_cut['corrected_isf_bathy']\n",
    "file_draft = file_other_cut['corrected_isfdraft'] \n",
    "file_bed_goodGL = file_bed_orig.where(file_draft < file_bed_orig,file_bed_corr)\n",
    "file_isf_conc = file_conc_cut['isfdraft_conc']"
   ]
  },
  {
   "cell_type": "code",
   "execution_count": null,
   "id": "c5c6b3a2-e5b2-4e96-b086-cebe0fca4bdf",
   "metadata": {},
   "outputs": [],
   "source": [
    "file_slope = xr.open_dataset(inputpath_mask+'nemo_5km_slope_info_bedrock_draft_latlon_oneFRIS.nc')"
   ]
  },
  {
   "cell_type": "code",
   "execution_count": null,
   "id": "9eef5ce0-a676-4d4e-9755-c2056cd9b381",
   "metadata": {},
   "outputs": [],
   "source": [
    "utide_file = xr.open_dataset(inputpath_tides + 'tidal_velocity_nemo_Ant_stereo.nc').rename({'ttv':'u_tide'})\n",
    "u_tide = dfmt.cut_domain_stereo(utide_file['u_tide'], map_lim, map_lim)"
   ]
  },
  {
   "cell_type": "markdown",
   "id": "5251cfb1-ad3d-4bfe-ba28-5c4ed7e79abb",
   "metadata": {},
   "source": [
    "Target"
   ]
  },
  {
   "cell_type": "code",
   "execution_count": null,
   "id": "b08cccec-0236-4527-bb96-a458177dedae",
   "metadata": {},
   "outputs": [],
   "source": [
    "if nemo_run == 'OPM031-2':\n",
    "    NEMO_melt_rates_2D = xr.open_mfdataset(outputpath_melt+'melt_rates_2D_NEMO.nc').isel(time=range(30,70))\n",
    "elif nemo_run == 'OPM031-1':\n",
    "    NEMO_melt_rates_2D = xr.open_mfdataset(outputpath_melt+'melt_rates_2D_NEMO.nc').isel(time=range(30))\n",
    "else:\n",
    "    NEMO_melt_rates_2D = xr.open_mfdataset(outputpath_melt+'melt_rates_2D_NEMO.nc')\n",
    "\n",
    "melt_rate = NEMO_melt_rates_2D['melt_m_ice_per_y']"
   ]
  },
  {
   "cell_type": "markdown",
   "id": "7e1bba8a-ec02-4f92-a31c-3e710a4b6ea1",
   "metadata": {},
   "source": [
    "PREPARE ONE DATASET WITH EVERYTHING"
   ]
  },
  {
   "cell_type": "code",
   "execution_count": null,
   "id": "2bbadfd9-d656-4586-92ef-6d5ffd0a8056",
   "metadata": {},
   "outputs": [],
   "source": [
    "geometry_2D = file_isf[['dGL', 'dIF']].merge(file_draft).merge(file_bed_goodGL).merge(file_slope).merge(file_isf_conc).merge(u_tide) \n",
    "geometry_2D['dIF'] = geometry_2D['dIF'].where(np.isfinite(geometry_2D['dIF']), np.nan)\n",
    "time_dpdt_in = T_S_2D_isfdraft[['theta_in','salinity_in']].merge(melt_rate)"
   ]
  },
  {
   "cell_type": "code",
   "execution_count": null,
   "id": "ff1b0bc5-37fc-4366-bd2a-0d5ecdac097c",
   "metadata": {},
   "outputs": [],
   "source": [
    "geometry_2D_br, time_dpdt_in_br = xr.broadcast(geometry_2D,time_dpdt_in)"
   ]
  },
  {
   "cell_type": "code",
   "execution_count": null,
   "id": "3bd8b9b6-b629-4afb-bd06-aef795f69f0c",
   "metadata": {},
   "outputs": [],
   "source": [
    "final_input_xr = xr.merge([geometry_2D_br, time_dpdt_in_br]).transpose('y','x','time').drop('profile_domain').drop('Nisf').load()"
   ]
  },
  {
   "cell_type": "code",
   "execution_count": null,
   "id": "5bc311a6-d5e1-44c8-8f85-e58b1ce6f3c6",
   "metadata": {},
   "outputs": [],
   "source": [
    "final_input_xr"
   ]
  },
  {
   "cell_type": "markdown",
   "id": "9fb28ded-0914-4d0b-be3b-49b5f71f2077",
   "metadata": {},
   "source": [
    "PREPARE CLEAN DATAFRAME WITH ALL DATA TO SAVE AND FEED TO THE NN"
   ]
  },
  {
   "cell_type": "code",
   "execution_count": null,
   "id": "d9b7f8d7-3284-4c09-8e38-e58d2e5ee0a5",
   "metadata": {},
   "outputs": [],
   "source": [
    "# CHECK WHERE PREVIOUS CHUNKS STOPPED\n",
    "if os.path.exists(outputpath_nn+'info_chunks.txt'):\n",
    "    with open(outputpath_nn+'info_chunks.txt') as f:\n",
    "        lines = f.readlines()\n",
    "    last_line = lines[-1]\n",
    "    end_chunks = int(last_line.split(',')[0]) \n",
    "else:\n",
    "    end_chunks = 0"
   ]
  },
  {
   "cell_type": "code",
   "execution_count": null,
   "id": "8d66e073-6a06-4f97-a034-1a7483fdecf7",
   "metadata": {},
   "outputs": [],
   "source": [
    "chunk_all = int(np.ceil(len(final_input_xr.time)/10))\n",
    "\n",
    "for chunk_nb in range(chunk_all):\n",
    "    \n",
    "    if chunk_nb == (chunk_all - 1):\n",
    "        end_step = len(final_input_xr.time)\n",
    "    else:\n",
    "        end_step = chunk_nb*10+10\n",
    "        \n",
    "    trange = final_input_xr.time.isel(time=range(chunk_nb*10,end_step))\n",
    "    print(trange.values)\n",
    "    start_yy = trange[0].values\n",
    "    end_yy = trange.max().values\n",
    "    \n",
    "    chunk_nb_new = chunk_nb+end_chunks+1\n",
    "    file_info = open(outputpath_nn+'info_chunks.txt', 'a')\n",
    "    file_info.write(str(chunk_nb_new).zfill(3)+','+nemo_run+','+str(start_yy)+','+str(end_yy)+'\\n')\n",
    "    file_info.close()\n",
    "\n",
    "    for kisf in tqdm(file_isf.Nisf):\n",
    "        ds_kisf = final_input_xr.sel(time=trange).where(file_isf['ISF_mask'] == kisf, drop=True).drop('Nisf')\n",
    "\n",
    "        df_kisf = ds_kisf.drop('longitude').drop('latitude').to_dataframe()\n",
    "        # remove rows where there are nans\n",
    "        clean_df_kisf = df_kisf.dropna()\n",
    "        clean_df_kisf = clean_df_kisf.where(clean_df_kisf['salinity_in']!=0).dropna()\n",
    "        clean_df_kisf.to_csv(outputpath_nn + 'dataframe_input_isf'+str(kisf.values).zfill(3)+'_'+str(chunk_nb_new).zfill(3)+'.csv')"
   ]
  },
  {
   "cell_type": "code",
   "execution_count": null,
   "id": "521f1807-00d3-47d5-b99d-be069b669805",
   "metadata": {},
   "outputs": [],
   "source": [
    "final_input_xr.time.isel(time=range(30,39))"
   ]
  },
  {
   "cell_type": "markdown",
   "id": "ad8cb85e-8dbe-4550-8b52-bb38103272ac",
   "metadata": {},
   "source": [
    "#########################"
   ]
  },
  {
   "cell_type": "markdown",
   "id": "88a02b0f-cebe-4e92-90dc-ce1ec1c3e781",
   "metadata": {},
   "source": [
    "PREPARE LAT AND LON FOR A CHECK"
   ]
  },
  {
   "cell_type": "code",
   "execution_count": null,
   "id": "d37247e8-911d-45bf-ad33-5c12d53aecd2",
   "metadata": {},
   "outputs": [],
   "source": [
    "latlon = file_isf[['latitude', 'longitude']].reset_coords(names=['longitude','latitude'])"
   ]
  },
  {
   "cell_type": "code",
   "execution_count": null,
   "id": "ed676f87-5490-4b4d-9ba9-b743e7ff4cff",
   "metadata": {},
   "outputs": [],
   "source": [
    "latlon_br, salinity_for_nans = xr.broadcast(latlon,T_S_2D_isfdraft['salinity_in'].drop(['longitude','latitude']))\n",
    "latlon_input_xr = xr.merge([latlon_br, salinity_for_nans]).transpose('y','x','time').drop('profile_domain').load()"
   ]
  },
  {
   "cell_type": "code",
   "execution_count": null,
   "id": "e0295529-ead4-409c-a979-8d767d64aa1d",
   "metadata": {},
   "outputs": [],
   "source": [
    "file_info = pd.read_csv(outputpath_nn+'info_chunks.txt', delimiter=',', header=None)\n",
    "file_info = file_info.set_index(file_info[0])"
   ]
  },
  {
   "cell_type": "code",
   "execution_count": null,
   "id": "4a2978e2-53f8-49ae-9419-40da7f816af5",
   "metadata": {},
   "outputs": [],
   "source": [
    "for chunk_nb in file_info[file_info[1]==nemo_run][0].values:\n",
    "    \n",
    "    start_yy = file_info[file_info[1]==nemo_run][2].loc[chunk_nb]\n",
    "    end_yy = file_info[file_info[1]==nemo_run][3].loc[chunk_nb]\n",
    "    print(chunk_nb,start_yy,end_yy)\n",
    "\n",
    "    for kisf in tqdm(file_isf.Nisf):\n",
    "        ds_kisf = latlon_input_xr.sel(time=range(start_yy,end_yy+1)).where(file_isf['ISF_mask'] == kisf, drop=True).drop('Nisf')\n",
    "\n",
    "        df_kisf = ds_kisf.to_dataframe()\n",
    "        # remove rows where there are nans\n",
    "        clean_df_kisf = df_kisf.dropna()\n",
    "        clean_df_kisf = clean_df_kisf.where(clean_df_kisf['salinity_in']!=0).dropna()\n",
    "        clean_df_kisf.to_csv(outputpath_nn + 'dataframe_latlon_isf'+str(kisf.values).zfill(3)+'_'+str(chunk_nb).zfill(3)+'.csv')"
   ]
  },
  {
   "cell_type": "code",
   "execution_count": null,
   "id": "e1a850cc-6820-4dd8-a334-db07b2dfaea2",
   "metadata": {},
   "outputs": [],
   "source": []
  }
 ],
 "metadata": {
  "kernelspec": {
   "display_name": "neuralnet",
   "language": "python",
   "name": "neuralnet"
  },
  "language_info": {
   "codemirror_mode": {
    "name": "ipython",
    "version": 3
   },
   "file_extension": ".py",
   "mimetype": "text/x-python",
   "name": "python",
   "nbconvert_exporter": "python",
   "pygments_lexer": "ipython3",
   "version": "3.9.4"
  }
 },
 "nbformat": 4,
 "nbformat_minor": 5
}
