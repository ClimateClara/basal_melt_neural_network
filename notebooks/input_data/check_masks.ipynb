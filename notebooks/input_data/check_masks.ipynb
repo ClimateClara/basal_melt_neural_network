{
 "cells": [
  {
   "cell_type": "code",
   "execution_count": null,
   "id": "e196e175-e20d-4180-8c5e-37dbb4e18f4c",
   "metadata": {},
   "outputs": [],
   "source": [
    "\"\"\"\n",
    "Created on Wed Feb 01 16:21 2023\n",
    "\n",
    "Check the input masks (grounding line, ice front, ice shelves, ...)\n",
    "\n",
    "@author: Clara Burgard\n",
    "\"\"\""
   ]
  },
  {
   "cell_type": "code",
   "execution_count": null,
   "id": "bdae31f6-fcf7-45c9-a53f-09fd0c8eca05",
   "metadata": {},
   "outputs": [],
   "source": [
    "import xarray as xr\n",
    "import matplotlib.pyplot as plt\n",
    "import basal_melt_param.useful_functions as uf\n",
    "import matplotlib as mpl\n",
    "from tqdm.notebook import tqdm\n",
    "import basal_melt_param.plume_functions as pf\n",
    "from scipy.interpolate import griddata\n",
    "import basal_melt_param.create_isf_mask_functions as isfmf\n"
   ]
  },
  {
   "cell_type": "code",
   "execution_count": null,
   "id": "d5bd0a0d-85da-457d-898b-616df8d521aa",
   "metadata": {},
   "outputs": [],
   "source": [
    "%matplotlib qt5"
   ]
  },
  {
   "cell_type": "markdown",
   "id": "0262958f-49ba-462e-9c5e-0488e66f0080",
   "metadata": {},
   "source": [
    "READ IN DATA"
   ]
  },
  {
   "cell_type": "code",
   "execution_count": null,
   "id": "a2a095b8-9740-4e3f-9cb3-311894ca5011",
   "metadata": {},
   "outputs": [],
   "source": [
    "nemo_run = 'bi646'\n",
    "map_lim = [-3000000,3000000]\n"
   ]
  },
  {
   "cell_type": "code",
   "execution_count": null,
   "id": "e8763943-ce19-4da9-af3b-09989fdecebb",
   "metadata": {},
   "outputs": [],
   "source": [
    "outputpath_mask='/bettik/burgardc/DATA/NN_PARAM/interim/ANTARCTICA_IS_MASKS/SMITH_'+nemo_run+'/'\n",
    "inputpath_data='/bettik/burgardc/DATA/NN_PARAM/interim/SMITH_'+nemo_run+'/'\n",
    "inputpath_data2='/bettik/burgardc/DATA/BASAL_MELT_PARAM/interim/NEMO_eORCA025.L121_OPM016_ANT_STEREO/'\n",
    "\n",
    "outputpath_boxes = '/bettik/burgardc/DATA/NN_PARAM/interim/BOXES/SMITH_'+nemo_run+'/'\n",
    "inputpath_raw = '/bettik/burgardc/DATA/NN_PARAM/raw/'"
   ]
  },
  {
   "cell_type": "code",
   "execution_count": null,
   "id": "7941f83a-b2e3-4290-bc21-8e0554c2202a",
   "metadata": {},
   "outputs": [],
   "source": [
    "file_isf = xr.open_dataset(outputpath_mask + 'nemo_5km_isf_masks_and_info_and_distance_oneFRIS_yy54.nc')\n",
    "\n",
    "file_mask = xr.open_dataset(inputpath_data+'custom_lsmask_Ant_stereo_clean.nc')#, chunks={'x': chunk_size, 'y': chunk_size})\n",
    "file_mask_cut = uf.cut_domain_stereo(file_mask, map_lim, map_lim)\n",
    "\n",
    "file_TS_orig = xr.open_dataset(inputpath_data + '3D_variables_of_interest_allyy_Ant_stereo_2000.nc')\n",
    "file_TS_cut = uf.cut_domain_stereo(file_TS_orig, map_lim, map_lim)"
   ]
  },
  {
   "cell_type": "code",
   "execution_count": null,
   "id": "8992c915-7cbf-4c3b-bdca-2fbd8ba5826c",
   "metadata": {},
   "outputs": [],
   "source": [
    "file_conc = xr.open_dataset(inputpath_data+'isfdraft_conc_Ant_stereo.nc')\n",
    "file_conc_cut = uf.cut_domain_stereo(file_conc, map_lim, map_lim)"
   ]
  },
  {
   "cell_type": "code",
   "execution_count": null,
   "id": "cfc6bb03-7730-4b33-8a85-aa9ca57f27c9",
   "metadata": {},
   "outputs": [],
   "source": [
    "def def_isf_mask(arr_def_ismask, file_msk, lon, lat, add_fac, FRIS_one=True, mouginot_basins=False):\n",
    "    \n",
    "    \"\"\"\n",
    "    Define a mask for the individual ice shelves. \n",
    "    \n",
    "    This function defines a mask for the individual ice shelves. I think it works for both stereographic and latlon grids but I have not tried the latter.\n",
    "    \n",
    "    Parameters\n",
    "    ----------\n",
    "    arr_def_ismask : np.array\n",
    "        Array containing minlon,maxlon,minlat,maxlat,is_nb or a dataarray containing masks of the basins.\n",
    "    file_msk : xr.DataArray\n",
    "        Mask separating ocean (0), ice shelves (between 0 and 2, excluding 0 and 2), grounded ice (2) \n",
    "    lon : xr.DataArray\n",
    "        Longitude (depends on x,y for stereographic)\n",
    "    lat : xr.DataArray\n",
    "        Latitude (depends on x,y for stereographic)\n",
    "\n",
    "    Returns\n",
    "    -------\n",
    "    new_mask : xr.DataArray\n",
    "        Array showing the coverage of each ice shelf with the respective ID, open ocean is 1, land is 0\n",
    "    \"\"\"    \n",
    "    \n",
    "    if mouginot_basins:\n",
    "        \n",
    "        isf_only_mask = file_msk.where((file_msk > 0) & (file_msk < 2))\n",
    "        isf_mask_all = arr_def_ismask.where(np.isfinite(isf_only_mask))\n",
    "        \n",
    "        # fine-tuning corrections of ice shelves that belong together\n",
    "        isf_mask_merged = isf_mask_all.where(\n",
    "            isf_mask_all != 58, 57).where(\n",
    "            isf_mask_all != 104, 103).where(\n",
    "            isf_mask_all != 82, 83).where(\n",
    "            isf_mask_all != 157, 89).where(\n",
    "            isf_mask_all != 156, 89).where(\n",
    "            isf_mask_all != 149, 89).where(\n",
    "            isf_mask_all != 147, 89).where(\n",
    "            isf_mask_all != 148, 84).where(\n",
    "            isf_mask_all != 127, 84).where(\n",
    "            isf_mask_all != 146, 85).where(\n",
    "            isf_mask_all != 153, 72)\n",
    "        \n",
    "        #isf_mask_withRossmerged = isf_mask_all.where(isf_mask_all != 58, 57)\n",
    "        #isf_mask_withRossFRISmerged = isf_mask_withRossmerged.where(isf_mask_withRossmerged != 104, 103)\n",
    "        #isf_mask_withRossFRISStangemerged = isf_mask_withRossFRISmerged.where(isf_mask_withRossFRISmerged != 82, 83)\n",
    "        #isf_mask_merged1 = isf_mask_withRossFRISStangemerged.where(isf_mask_withRossFRISStangemerged != 157, 89)\n",
    "        #isf_mask_merged2 = isf_mask_merged1.where(isf_mask_merged1 != 156, 89)\n",
    "        #isf_mask_merged1 = isf_mask_merged2.where(isf_mask_merged2 != 149, 89)\n",
    "        #isf_mask_merged2 = isf_mask_merged1.where(isf_mask_merged1 != 147, 89)\n",
    "        #isf_mask_merged1 = isf_mask_merged2.where(isf_mask_merged2 != 148, 84)\n",
    "        #isf_mask_merged2 = isf_mask_merged1.where(isf_mask_merged1 != 127, 84)\n",
    "        #isf_mask_merged1 = isf_mask_merged2.where(isf_mask_merged2 != 146, 85)\n",
    "        #isf_mask_merged2 = isf_mask_merged1.where(isf_mask_merged1 != 153, 72)\n",
    "        #isf_mask_merged = isf_mask_merged2\n",
    "        \n",
    "        # seeding through some ice shelves that are scattered to keep the main part\n",
    "        isf_mask = isf_mask_merged.copy()\n",
    "\n",
    "        for kisf in [83,89,84,85,73,72]:\n",
    "            \n",
    "            isf_domain = isf_mask.where(isf_mask == kisf, drop=True)\n",
    "\n",
    "            meshx_gnd, meshy_gnd = np.meshgrid(isf_domain.x,isf_domain.y)\n",
    "            meshx_gnd_da = isf_domain.copy(data=np.broadcast_to(meshx_gnd, isf_domain.shape))\n",
    "            meshy_gnd_da = isf_domain.copy(data=np.broadcast_to(meshy_gnd, isf_domain.shape))\n",
    "\n",
    "            max_len_xy = max(len(meshx_gnd_da.x),len(meshx_gnd_da.y))\n",
    "            half_range = round(max_len_xy/2)\n",
    "\n",
    "            dx = abs(meshx_gnd_da.x[1] - meshx_gnd_da.x[0])\n",
    "            dy = abs(meshx_gnd_da.y[1] - meshx_gnd_da.y[0])\n",
    "\n",
    "            if kisf == 83: # Stange\n",
    "                seed_lon = -76.722\n",
    "                seed_lat = -73.200\n",
    "            elif kisf == 89: # Wilkins\n",
    "                seed_lon = -73.001\n",
    "                seed_lat = -70.721\n",
    "            elif kisf == 84: # George VI\n",
    "                seed_lon = -70.041\n",
    "                seed_lat = -72.764\n",
    "            elif kisf == 85: # Bach\n",
    "                seed_lon = -72.505\n",
    "                seed_lat = -72.151\n",
    "            elif kisf == 73: #Thwaites\n",
    "                seed_lon = -106.744\n",
    "                seed_lat = -75.1\n",
    "            elif kisf == 72: #Crosson\n",
    "                seed_lon = -110.204\n",
    "                seed_lat = -75.141\n",
    "\n",
    "            center_x,center_y = uf.change_coord_latlon_to_stereo(seed_lon,seed_lat)\n",
    "\n",
    "            seed_mask = isf_only_mask.where(meshx_gnd_da, drop=True)\n",
    "            seed_mask = seed_mask.where(seed_mask > 0) * 0 + 1\n",
    "            seed_mask = seed_mask.where(np.isfinite(seed_mask),0)\n",
    "            \n",
    "            mask_core = seed_mask.where(~((uf.in_range(meshx_gnd_da, [-1*dx + center_x,center_x + 1*dx]) # assuming that the South Pole is in the center of the projection\n",
    "                                  & uf.in_range(meshy_gnd_da, [-1*dy + center_y,center_y +1*dy]))), 5)\n",
    "\n",
    "            # filter that checks the point around\n",
    "            weights_filter = np.zeros((3,3))\n",
    "            weights_filter[0,1] = 1\n",
    "            weights_filter[1,0] = 1\n",
    "            weights_filter[1,2] = 1\n",
    "            weights_filter[2,1] = 1\n",
    "\n",
    "            weights_da = xr.DataArray(data=weights_filter,dims=['y0','x0'])\n",
    "\n",
    "            iter_mask = mask_core.copy()\n",
    "            for n in range(half_range+2+add_fac):\n",
    "                corr = pf.xr_nd_corr_v2(iter_mask, weights_filter)\n",
    "                iter_mask = iter_mask.where(~((corr >= 5) & (mask_core == 1)),5)\n",
    "\n",
    "            iter_mask = iter_mask.where(iter_mask == 5)\n",
    "            iter_mask = iter_mask * 0 + kisf\n",
    "\n",
    "            kisf_reg_grid = iter_mask.reindex_like(isf_mask) \n",
    "            isf_mask = isf_mask.where(isf_mask != kisf, kisf_reg_grid)    \n",
    "        \n",
    "        isf_mask = isf_mask + 1 # to allow land to be 1\n",
    "    \n",
    "    else:\n",
    "    \n",
    "        arr_def_general = arr_def_ismask[arr_def_ismask[:, 3] == -50]\n",
    "        arr_def_detail = arr_def_ismask[arr_def_ismask[:, 3] != -50]\n",
    "\n",
    "        isf_yes = (file_msk > 0) & (file_msk < 2)\n",
    "        isf_mask = file_msk.copy()\n",
    "        # is_mask0.plot()\n",
    "        for i, mm in enumerate(arr_def_general):\n",
    "            #print('general ' + str(i))\n",
    "            isf_mask = isf_mask.where(~(uf.in_range(lon, mm[0:2]) & uf.in_range(lat, mm[2:4])), int(mm[4]))\n",
    "        for i, mm in enumerate(arr_def_detail):\n",
    "            #print('detail ' + str(i))\n",
    "            isf_mask = isf_mask.where(~(uf.in_range(lon, mm[0:2]) & uf.in_range(lat, mm[2:4])), int(mm[4]))\n",
    "        isf_mask = isf_mask.where(isf_yes)\n",
    "\n",
    "        if FRIS_one:\n",
    "            isf_mask = isf_mask.where(isf_mask != 21, 11) # Filchner (21) and Ronne (11) are combined\n",
    "\n",
    "    new_mask = isf_mask.where(file_msk != 0, 1).where(file_msk != 2, 0)\n",
    "    \n",
    "    return new_mask\n",
    "    #return isf_mask"
   ]
  },
  {
   "cell_type": "code",
   "execution_count": null,
   "id": "a73cad21-721a-49d8-be4a-967bacaccb07",
   "metadata": {},
   "outputs": [],
   "source": [
    "seed_mask = isf_only_mask.where(meshx_gnd_da, drop=True)"
   ]
  },
  {
   "cell_type": "code",
   "execution_count": null,
   "id": "a0a3ac28-a308-430f-ad91-5b91152a737e",
   "metadata": {},
   "outputs": [],
   "source": [
    "seed_mask = seed_mask.where(seed_mask > 0) * 0 + 1\n",
    "seed_mask = seed_mask.where(np.isfinite(seed_mask),0)"
   ]
  },
  {
   "cell_type": "code",
   "execution_count": null,
   "id": "df6f7bd0-d66f-490c-b512-cb34a9806b26",
   "metadata": {},
   "outputs": [],
   "source": [
    "seed_mask.plot()"
   ]
  },
  {
   "cell_type": "code",
   "execution_count": null,
   "id": "8f66ce55-6f74-497c-8887-71391523664f",
   "metadata": {},
   "outputs": [],
   "source": [
    "isf_mask_all = summary_mask_basins['ID_isf'].where(np.isfinite(isf_only_mask))"
   ]
  },
  {
   "cell_type": "code",
   "execution_count": null,
   "id": "73112a4e-3895-407f-ab71-8532e366e7b7",
   "metadata": {},
   "outputs": [],
   "source": [
    "new_mask = def_isf_mask(summary_mask_basins['ID_isf'], file_msk.isel(time=0), file_isf.longitude, file_isf.latitude, 100, FRIS_one=True, mouginot_basins=True)"
   ]
  },
  {
   "cell_type": "code",
   "execution_count": null,
   "id": "da7865ae-0608-48e1-b90b-25e66f38f68b",
   "metadata": {},
   "outputs": [],
   "source": []
  },
  {
   "cell_type": "code",
   "execution_count": null,
   "id": "12fefefc-0fb3-4d05-aaa1-7c17419a38e6",
   "metadata": {},
   "outputs": [],
   "source": [
    "new_mask.plot(vmin=71,vmax=74)"
   ]
  },
  {
   "cell_type": "code",
   "execution_count": null,
   "id": "4720550c-bf1e-4d36-9340-21033e2e4622",
   "metadata": {},
   "outputs": [],
   "source": [
    "isf_mask_all.where(isf_mask_all != 153, 72).plot()"
   ]
  },
  {
   "cell_type": "code",
   "execution_count": null,
   "id": "7230cbb4-f2ea-460f-b023-817a75416e41",
   "metadata": {},
   "outputs": [],
   "source": [
    "isf_mask_all.plot(vmin=151,vmax=154)"
   ]
  },
  {
   "cell_type": "code",
   "execution_count": null,
   "id": "3c83fba2-7267-4adc-9cf1-b1ab39205d12",
   "metadata": {},
   "outputs": [],
   "source": [
    "summary_mask_basins['Nisf'] = summary_mask_basins['Nisf']+1"
   ]
  },
  {
   "cell_type": "code",
   "execution_count": null,
   "id": "a703540d-42e3-4622-a9fe-390a97e739de",
   "metadata": {},
   "outputs": [],
   "source": [
    "summary_mask_basins['Nisf']"
   ]
  },
  {
   "cell_type": "code",
   "execution_count": null,
   "id": "21bbf1e8-72d8-4bfa-aa35-83fad33b27eb",
   "metadata": {},
   "outputs": [],
   "source": [
    "file_conc_cut['isfdraft_conc'].isel(time=0).where(new_mask<2).plot()"
   ]
  },
  {
   "cell_type": "code",
   "execution_count": null,
   "id": "7925e859-65bd-46d1-bf4d-629b13215e1d",
   "metadata": {},
   "outputs": [],
   "source": [
    "summary_mask_basins = xr.open_dataset('/bettik/burgardc/DATA/NN_PARAM/interim/basins_mask_extrap_50km.nc')\n",
    "file_msk = file_mask_cut['ls_mask012']"
   ]
  },
  {
   "cell_type": "code",
   "execution_count": null,
   "id": "a51d0722-5a5c-4829-bc2c-f684e7543240",
   "metadata": {},
   "outputs": [],
   "source": [
    "file_msk = file_mask_cut['ls_mask012']\n",
    "isf_only_mask = file_msk.where((file_msk > 0) & (file_msk < 2))\n",
    "isf_mask_all = summary_mask_basins['ID_isf'].where(np.isfinite(isf_only_mask))"
   ]
  },
  {
   "cell_type": "code",
   "execution_count": null,
   "id": "b90a7de0-76da-4a1a-ba5b-5bfdd5dc9eea",
   "metadata": {},
   "outputs": [],
   "source": [
    "new_ground_mask = isfmf.def_ground_mask(file_msk.isel(time=0), 40, 120)"
   ]
  },
  {
   "cell_type": "code",
   "execution_count": null,
   "id": "653087a9-cde9-41bb-8dcb-5deadc13a098",
   "metadata": {},
   "outputs": [],
   "source": [
    "new_ground_mask2 = isfmf.def_ground_mask(file_msk, 40, 120)"
   ]
  },
  {
   "cell_type": "code",
   "execution_count": null,
   "id": "291b1ab1-fcb7-4fbf-b09d-fe72f1636b08",
   "metadata": {},
   "outputs": [],
   "source": [
    "isf_mask_tt = isf_mask_all.isel(time=0)"
   ]
  },
  {
   "cell_type": "code",
   "execution_count": null,
   "id": "71fda147-cfd3-485f-9542-178cf0e9768a",
   "metadata": {},
   "outputs": [],
   "source": [
    "plt.contour(new_ground_mask.x,new_ground_mask.y,new_ground_mask,levels=[0,1],linewidths=0.5,colors='black',zorder=10)\n",
    "file_conc_cut['isfdraft_conc'].isel(time=0).where(file_conc_cut['isfdraft_conc'].isel(time=0)>0).plot()"
   ]
  },
  {
   "cell_type": "code",
   "execution_count": null,
   "id": "23266d48-831c-42ba-b4dc-f012ab7a5dd2",
   "metadata": {},
   "outputs": [],
   "source": [
    "plt.contour(new_ground_mask2.x,new_ground_mask2.y,new_ground_mask2,levels=[0,1],linewidths=0.5,colors='black',zorder=10)\n",
    "file_conc_cut['isfdraft_conc'].where(file_conc_cut['isfdraft_conc']>0).plot()"
   ]
  },
  {
   "cell_type": "markdown",
   "id": "bf4d89e4-40f9-4db8-bc25-8c23f8e03ef9",
   "metadata": {},
   "source": [
    "MERGING RELEVANT CONTENT"
   ]
  },
  {
   "cell_type": "code",
   "execution_count": null,
   "id": "c0dfc85b-c930-41ca-b306-2c51b56d2b3a",
   "metadata": {},
   "outputs": [],
   "source": [
    "isf_mask_tt_withRossmerged = isf_mask_tt.where(isf_mask_tt != 58, 57)\n",
    "isf_mask_tt_withRossFRISmerged = isf_mask_tt_withRossmerged.where(isf_mask_tt_withRossmerged != 104, 103)\n",
    "isf_mask_tt_withRossFRISStangemerged = isf_mask_tt_withRossFRISmerged.where(isf_mask_tt_withRossFRISmerged != 82, 83)\n",
    "isf_mask_tt_merged1 = isf_mask_tt_withRossFRISStangemerged.where(isf_mask_tt_withRossFRISStangemerged != 157, 89)\n",
    "isf_mask_tt_merged2 = isf_mask_tt_merged1.where(isf_mask_tt_merged1 != 156, 89)\n",
    "isf_mask_tt_merged1 = isf_mask_tt_merged2.where(isf_mask_tt_merged2 != 149, 89)\n",
    "isf_mask_tt_merged2 = isf_mask_tt_merged1.where(isf_mask_tt_merged1 != 147, 89)\n",
    "isf_mask_tt_merged1 = isf_mask_tt_merged2.where(isf_mask_tt_merged2 != 148, 84)\n",
    "isf_mask_tt_merged2 = isf_mask_tt_merged1.where(isf_mask_tt_merged1 != 127, 84)\n",
    "isf_mask_tt_merged1 = isf_mask_tt_merged2.where(isf_mask_tt_merged2 != 146, 85)\n",
    "isf_mask_tt_merged1 = isf_mask_tt_merged2.where(isf_mask_tt_merged2 != 153, 72)"
   ]
  },
  {
   "cell_type": "code",
   "execution_count": null,
   "id": "76bb6614-66ca-468c-b46f-0cb891588c16",
   "metadata": {},
   "outputs": [],
   "source": [
    "summary_mask_basins['name_isf'].loc[{'Nisf': 57}] = 'Ross'\n",
    "summary_mask_basins['name_isf'].loc[{'Nisf': 58}] = np.nan\n",
    "summary_mask_basins['name_isf'].loc[{'Nisf': 103}] = 'Filchner-Ronne'\n",
    "summary_mask_basins['name_isf'].loc[{'Nisf': 104}] = np.nan\n",
    "summary_mask_basins['name_isf'] = summary_mask_basins['name_isf'].dropna('Nisf')"
   ]
  },
  {
   "cell_type": "code",
   "execution_count": null,
   "id": "56a97ac4-b300-45b6-8ba8-0f3b3cd8dc8e",
   "metadata": {},
   "outputs": [],
   "source": [
    "plt.figure()\n",
    "file_conc_cut['isfdraft_conc'].isel(time=0).where(wilkins, drop=True).plot()"
   ]
  },
  {
   "cell_type": "code",
   "execution_count": null,
   "id": "788b4963-a3e1-4df3-b32f-1d8b7e782aa7",
   "metadata": {},
   "outputs": [],
   "source": [
    "isf_mask_tt_merged2.plot()"
   ]
  },
  {
   "cell_type": "code",
   "execution_count": null,
   "id": "c5675de5-eabb-4642-bbb9-e29185ccfb9d",
   "metadata": {},
   "outputs": [],
   "source": [
    "kisf = 72 \n",
    "plt.figure()\n",
    "plt.contour(new_ground_mask.x,new_ground_mask.y,new_ground_mask,levels=[0,1],linewidths=0.5,colors='black',zorder=10)\n",
    "#isf_mask_tt.where(isf_mask_tt==kisf).plot()\n",
    "isf_mask.where(isf_mask==kisf).plot()\n",
    "plt.title(summary_mask_basins['name_isf'].sel(Nisf=kisf).values)\n",
    "\n",
    "# 12: a few ice shelves in the Northeastern Peninsula\n",
    "# 15: a few ice shelves south of Wilma\n",
    "# 18: no idea, but must be South of Publications\n",
    "# 80: could be renamed Ferrigno\n",
    "\n",
    "# 72: Crosson - problem\n",
    "# 74: Pine Island, could be larger - but probably ok like this also\n",
    "# 83: Stange has a small appendix on an island where it should not \n",
    "# 89: Wilkins same as above\n",
    "# 84: George VI also missing a tip\n",
    "# 85: Bach missing the tip\n",
    "\n",
    "# MERGE \n",
    "# 82 and 83\n",
    "# 57 and 58\n",
    "# 103 and 104\n",
    "# 89, 157, 156, 149, 147, 148, 128\n",
    "# "
   ]
  },
  {
   "cell_type": "code",
   "execution_count": null,
   "id": "1ad7b8fe-4de4-4a39-ae5e-affd3a1d3071",
   "metadata": {},
   "outputs": [],
   "source": [
    "file_msk = file_msk.isel(time=0)\n"
   ]
  },
  {
   "cell_type": "code",
   "execution_count": null,
   "id": "7eb8f1f5-e7ed-4d43-92e5-3badccb9b70f",
   "metadata": {},
   "outputs": [],
   "source": [
    "#### THIS WORKS =D \n",
    "add_fac = 100\n",
    "        \n",
    "isf_only_mask = file_msk.where((file_msk > 0) & (file_msk < 2))\n",
    "isf_mask_all = summary_mask_basins['ID_isf'].where(np.isfinite(isf_only_mask))\n",
    "\n",
    "# fine-tuning corrections of ice shelves that belong together\n",
    "isf_mask_merged = isf_mask_all.where(\n",
    "    isf_mask_all != 58, 57).where(\n",
    "    isf_mask_all != 104, 103).where(\n",
    "    isf_mask_all != 82, 83).where(\n",
    "    isf_mask_all != 157, 89).where(\n",
    "    isf_mask_all != 156, 89).where(\n",
    "    isf_mask_all != 149, 89).where(\n",
    "    isf_mask_all != 147, 89).where(\n",
    "    isf_mask_all != 148, 84).where(\n",
    "    isf_mask_all != 127, 84).where(\n",
    "    isf_mask_all != 146, 85).where(\n",
    "    isf_mask_all != 153, 72)\n",
    "\n",
    "\n",
    "# seeding through some ice shelves that are scattered to keep the main part\n",
    "isf_mask = isf_mask_merged.copy()\n",
    "\n",
    "for kisf in [83,89,84,85,73,72]:\n",
    "    \n",
    "\n",
    "    isf_domain = isf_mask.where(isf_mask == kisf, drop=True)\n",
    "\n",
    "    meshx_gnd, meshy_gnd = np.meshgrid(isf_domain.x,isf_domain.y)\n",
    "    meshx_gnd_da = isf_domain.copy(data=np.broadcast_to(meshx_gnd, isf_domain.shape))\n",
    "    meshy_gnd_da = isf_domain.copy(data=np.broadcast_to(meshy_gnd, isf_domain.shape))\n",
    "\n",
    "    max_len_xy = max(len(meshx_gnd_da.x),len(meshx_gnd_da.y))\n",
    "    half_range = round(max_len_xy/2)\n",
    "\n",
    "    dx = abs(meshx_gnd_da.x[1] - meshx_gnd_da.x[0])\n",
    "    dy = abs(meshx_gnd_da.y[1] - meshx_gnd_da.y[0])\n",
    "\n",
    "    if kisf == 83: # Stange\n",
    "        seed_lon = -76.722\n",
    "        seed_lat = -73.200\n",
    "    elif kisf == 89: # Wilkins\n",
    "        seed_lon = -73.001\n",
    "        seed_lat = -70.721\n",
    "    elif kisf == 84: # George VI\n",
    "        seed_lon = -70.041\n",
    "        seed_lat = -72.764\n",
    "    elif kisf == 85: # Bach\n",
    "        seed_lon = -72.505\n",
    "        seed_lat = -72.151\n",
    "    elif kisf == 73: #Thwaites\n",
    "        seed_lon = -106.744\n",
    "        seed_lat = -75.1\n",
    "    elif kisf == 72: #Crosson\n",
    "        seed_lon = -110.204\n",
    "        seed_lat = -75.141\n",
    "\n",
    "    center_x,center_y = uf.change_coord_latlon_to_stereo(seed_lon,seed_lat)\n",
    "\n",
    "    seed_mask = isf_mask.where(isf_domain, drop=True)\n",
    "    seed_mask = seed_mask.where(seed_mask > 0) * 0 + 1\n",
    "    seed_mask = seed_mask.where(np.isfinite(seed_mask),0)\n",
    "\n",
    "    mask_core = seed_mask.where(~((uf.in_range(meshx_gnd_da, [-1*dx + center_x,center_x + 1*dx]) # assuming that the South Pole is in the center of the projection\n",
    "                          & uf.in_range(meshy_gnd_da, [-1*dy + center_y,center_y +1*dy]))), 5)\n",
    "\n",
    "    # filter that checks the point around\n",
    "    weights_filter = np.zeros((3,3))\n",
    "    weights_filter[0,1] = 1\n",
    "    weights_filter[1,0] = 1\n",
    "    weights_filter[1,2] = 1\n",
    "    weights_filter[2,1] = 1\n",
    "\n",
    "    weights_da = xr.DataArray(data=weights_filter,dims=['y0','x0'])\n",
    "\n",
    "    iter_mask = mask_core.copy()\n",
    "    for n in range(half_range+2+add_fac):\n",
    "        corr = pf.xr_nd_corr_v2(iter_mask, weights_filter)\n",
    "        iter_mask = iter_mask.where(~((corr >= 5) & (mask_core == 1)),5)\n",
    "\n",
    "    iter_mask = iter_mask.where(iter_mask == 5)\n",
    "    iter_mask = iter_mask * 0 + kisf\n",
    "\n",
    "    kisf_reg_grid = iter_mask.reindex_like(isf_mask) \n",
    "    isf_mask = isf_mask.where(isf_mask != kisf, kisf_reg_grid)   "
   ]
  },
  {
   "cell_type": "code",
   "execution_count": null,
   "id": "20d18b8a-183e-4c05-862b-f2bc0fb93310",
   "metadata": {},
   "outputs": [],
   "source": []
  },
  {
   "cell_type": "code",
   "execution_count": null,
   "id": "72538f57-4076-4775-bd71-7f9f4d51be63",
   "metadata": {},
   "outputs": [],
   "source": [
    "plt.figure()\n",
    "iter_mask.plot()"
   ]
  },
  {
   "cell_type": "code",
   "execution_count": null,
   "id": "7eac129c-3799-4a8e-969f-57518643efad",
   "metadata": {},
   "outputs": [],
   "source": [
    "isf_mask.plot(vmin=70,vmax=74)"
   ]
  },
  {
   "cell_type": "code",
   "execution_count": null,
   "id": "27c34827-84a7-4c31-a18b-e6b179e24e60",
   "metadata": {},
   "outputs": [],
   "source": [
    "file_conc_cut['isfdraft_conc'].isel(time=0).where(isf_mask<1).plot()"
   ]
  },
  {
   "cell_type": "code",
   "execution_count": null,
   "id": "dbb118a8-20eb-4456-b679-155ee2871c1b",
   "metadata": {},
   "outputs": [],
   "source": [
    "isf_mask_tt_merged2.where(meshx_gnd_da).max()"
   ]
  },
  {
   "cell_type": "code",
   "execution_count": null,
   "id": "aefe58c0-b15c-4e2b-9891-45f2364f6a0d",
   "metadata": {},
   "outputs": [],
   "source": [
    "plt.contour(new_ground_mask.x,new_ground_mask.y,new_ground_mask,levels=[0,1],linewidths=0.5,colors='black',zorder=10)\n",
    "kisf_reg_grid.plot()"
   ]
  },
  {
   "cell_type": "code",
   "execution_count": null,
   "id": "030b67ed-bb9d-44cb-b77b-15a0bf242a72",
   "metadata": {},
   "outputs": [],
   "source": [
    "isf_mask_tt_withRossFRISStangemerged.plot()\n",
    "plt.scatter(center_x,center_y,c=None,edgecolors='k')"
   ]
  },
  {
   "cell_type": "code",
   "execution_count": null,
   "id": "63c1e568-ae09-4cd9-9838-18f89a142301",
   "metadata": {},
   "outputs": [],
   "source": [
    "mask_core_range.plot()"
   ]
  },
  {
   "cell_type": "code",
   "execution_count": null,
   "id": "0f3afd13-f49f-4eef-989e-378eaf9b8ca1",
   "metadata": {},
   "outputs": [],
   "source": [
    "x"
   ]
  },
  {
   "cell_type": "code",
   "execution_count": null,
   "id": "40c991a3-c83f-4a74-a1c2-61fcea247623",
   "metadata": {},
   "outputs": [],
   "source": [
    "file_isf.longitude.sel(x=x_min,y=y_min)"
   ]
  },
  {
   "cell_type": "code",
   "execution_count": null,
   "id": "b2bc8d81-6f14-4b02-8e90-d8b00a607e5d",
   "metadata": {},
   "outputs": [],
   "source": [
    "seeds_pierre = pd.read_csv('/bettik/mathiotp/NEMO/INPUT_FILE/ICB/eORCA1_calving_b0.2_v0.0/eORCA025_mskisf_c3.0_v0.0.txtlatlon',header=None, sep=r'\\s{2,}')"
   ]
  },
  {
   "cell_type": "code",
   "execution_count": null,
   "id": "264466a1-1cf1-4a92-a473-c33b5e9ed851",
   "metadata": {},
   "outputs": [],
   "source": [
    "seeds_pierre "
   ]
  },
  {
   "cell_type": "markdown",
   "id": "eb524fcf-4c91-4e6f-aa45-c513da566ca3",
   "metadata": {},
   "source": [
    "ABOVE, I SHOULD NOW GROUP INTERESTING ICE SHELVES TOGETHER"
   ]
  },
  {
   "cell_type": "code",
   "execution_count": null,
   "id": "3ccadaa6-bdda-44ca-9233-6a3f9e651a19",
   "metadata": {},
   "outputs": [],
   "source": [
    "summary_mask_basins"
   ]
  },
  {
   "cell_type": "markdown",
   "id": "a69b7659-d3e3-48c6-bf93-ed380d3445b0",
   "metadata": {},
   "source": [
    "FROM HERE, IT WAS ONLY TEST WITH SEEDING"
   ]
  },
  {
   "cell_type": "code",
   "execution_count": null,
   "id": "b68738da-1b63-4ec0-ae18-d973a476c2e2",
   "metadata": {},
   "outputs": [],
   "source": [
    "file_conc_cut['isfdraft_conc'].isel(time=30).where((file_TS_cut['so'].max('deptht') > 0), 0).plot()"
   ]
  },
  {
   "cell_type": "code",
   "execution_count": null,
   "id": "6143e1dd-d607-4ef4-b76c-594f6b23eacf",
   "metadata": {},
   "outputs": [],
   "source": [
    "file_mask_cut['ls_mask012'].isel(time=30).plot()"
   ]
  },
  {
   "cell_type": "code",
   "execution_count": null,
   "id": "0e97afe2-bc1f-4d0b-ac36-2f50c9550277",
   "metadata": {},
   "outputs": [],
   "source": [
    "file_mask_cut['ls_mask012'].isel(time=30).where((file_TS_cut['so'].max('deptht') > 0), 2).plot() # there are a few ice shelf patches inland"
   ]
  },
  {
   "cell_type": "code",
   "execution_count": null,
   "id": "7ec9bb11-ff7e-4c12-a939-14c2a6cd3de0",
   "metadata": {},
   "outputs": [],
   "source": [
    "file_TS_orig = xr.open_dataset(inputpath_data + '3D_variables_of_interest_allyy_Ant_stereo_2000.nc')"
   ]
  },
  {
   "cell_type": "code",
   "execution_count": null,
   "id": "60f5c917-b874-4827-8c70-57fa93910fd5",
   "metadata": {},
   "outputs": [],
   "source": [
    "file_TS_orig['so'].max('deptht').plot(cmap=mpl.cm.Reds_r)"
   ]
  },
  {
   "cell_type": "code",
   "execution_count": null,
   "id": "4c72373b-3ec1-42ff-9d6d-db7b862fc1d5",
   "metadata": {},
   "outputs": [],
   "source": [
    "file_isf = xr.open_dataset(outputpath_mask + 'nemo_5km_isf_masks_and_info_and_distance_oneFRIS_yy54.nc')"
   ]
  },
  {
   "cell_type": "code",
   "execution_count": null,
   "id": "2e7bb3c5-9611-435f-b0e7-dc1d355bb92c",
   "metadata": {},
   "outputs": [],
   "source": [
    "file_isf['ground_mask'].plot()"
   ]
  },
  {
   "cell_type": "code",
   "execution_count": null,
   "id": "374ba3a5-18f8-4d2a-a231-caa778be2868",
   "metadata": {},
   "outputs": [],
   "source": [
    "file_isf['ISF_mask'].plot(vmin=0,vmax=10)"
   ]
  },
  {
   "cell_type": "code",
   "execution_count": null,
   "id": "0ab9dc11-d4e0-4ce6-8363-8fd9f899bb5f",
   "metadata": {},
   "outputs": [],
   "source": [
    "file_isf['IF_mask'].plot(vmax=10)"
   ]
  },
  {
   "cell_type": "code",
   "execution_count": null,
   "id": "8385f24f-514b-4309-bfa3-a65d831e4f50",
   "metadata": {},
   "outputs": [],
   "source": [
    "#file_isf['GL_mask'].where(file_isf['GL_mask'] == 66, drop=True).plot()\n",
    "file_isf['IF_mask'].where(file_isf['IF_mask'] == 66, drop=True).plot()"
   ]
  },
  {
   "cell_type": "code",
   "execution_count": null,
   "id": "dbdb18ad-64c3-46b7-85c3-099ce740a615",
   "metadata": {},
   "outputs": [],
   "source": [
    "file_isf['dIF'].plot(vmax=100000)"
   ]
  },
  {
   "cell_type": "code",
   "execution_count": null,
   "id": "0e3e8264-c776-42a8-8995-93dc743d9ca0",
   "metadata": {},
   "outputs": [],
   "source": [
    "box_2D = xr.open_dataset(outputpath_boxes + 'nemo_5km_boxes_2D_oneFRIS_yy35.nc')"
   ]
  },
  {
   "cell_type": "code",
   "execution_count": null,
   "id": "3433b813-c506-4ac1-a788-084e56d15b51",
   "metadata": {},
   "outputs": [],
   "source": [
    "box_2D['box_location'].sel(box_nb_tot=5).plot()"
   ]
  },
  {
   "cell_type": "code",
   "execution_count": null,
   "id": "43b3b1a6-98ac-4deb-897d-1477012671ca",
   "metadata": {},
   "outputs": [],
   "source": [
    "file_isf_00 = xr.open_dataset(outputpath_mask + 'nemo_5km_isf_masks_and_info_and_distance_oneFRIS_yy00.nc')"
   ]
  },
  {
   "cell_type": "code",
   "execution_count": null,
   "id": "4833ed90-f1f8-4ce8-a1f0-97bcfb58e7fa",
   "metadata": {},
   "outputs": [],
   "source": [
    "file_mask_54 = file_mask_cut.isel(time=54)"
   ]
  },
  {
   "cell_type": "code",
   "execution_count": null,
   "id": "f199007d-3ff8-41ed-aa85-64be21e07921",
   "metadata": {},
   "outputs": [],
   "source": [
    "isf_mask_default = file_mask_54['ls_mask012'].where(file_isf_00['ISF_mask'] < 3).combine_first(file_isf_00['ISF_mask']).plot(vmax=3)"
   ]
  },
  {
   "cell_type": "code",
   "execution_count": null,
   "id": "110f9512-e5a0-4d1f-ba4a-7b5d165a9ff7",
   "metadata": {
    "tags": []
   },
   "outputs": [],
   "source": [
    "def def_ground_mask(file_msk, dist, add_fac):\n",
    "\n",
    "    \"\"\"\n",
    "    Define a mask for the Antarctic continent as such (not the islands). \n",
    "    \n",
    "    This function defines the points that are part of the Antarctic continent as such (not the islands). \n",
    "    \n",
    "    Parameters\n",
    "    ----------\n",
    "    file_msk : xr.DataArray\n",
    "        Mask separating ocean (0), ice shelves (between 0 and 2, excluding 0 and 2), grounded ice (2)\n",
    "    dist : int\n",
    "        Defines the size of the starting square - should be small if the resolution is coarse and high if the resolution is fine. Default is currently 150 but you can play around. A good indicator to see if it is too high is if you see the small upper tail of the Ross ice shelf or if it is masked as ground.\n",
    "    add_fac : int\n",
    "       Defines additional iterations. Was introduced to get to the end of the Antarctic Peninsula, sometimes it would not get there otherwise. Current default is 100 but you are welcome to play around with it.\n",
    "    Returns\n",
    "    -------\n",
    "    mask_ground : xr.DataArray\n",
    "        Array showing the coverage of the Antarctic continent (0 for islands, 1 for ocean and ice shelves, 2 for mainland)\n",
    "    \"\"\"  \n",
    "    \n",
    "    mask_10 = file_msk.where(file_msk == 2, 0).where(file_msk != 2,1) #set all ice shelves and open ocean to 0, set all grounded ice to 1\n",
    "\n",
    "    mask_gnd = mask_10.where(mask_10>0, drop=True)\n",
    "    mask_gnd = mask_gnd.where(mask_gnd>0,0)\n",
    "    \n",
    "    meshx_gnd, meshy_gnd = np.meshgrid(mask_gnd.x,mask_gnd.y)\n",
    "    meshx_gnd_da = mask_gnd.copy(data=np.broadcast_to(meshx_gnd, mask_gnd.shape))\n",
    "    meshy_gnd_da = mask_gnd.copy(data=np.broadcast_to(meshy_gnd, mask_gnd.shape))\n",
    "    \n",
    "    dx = abs(meshx_gnd_da.x[2] - meshx_gnd_da.x[1])\n",
    "    dy = abs(meshx_gnd_da.y[2] - meshx_gnd_da.y[1])\n",
    "    \n",
    "    max_len_xy = max(len(meshx_gnd_da.x),len(meshx_gnd_da.y))\n",
    "    half_range = round(max_len_xy/2)\n",
    "    \n",
    "    mask_core = mask_gnd.where(~((uf.in_range(meshx_gnd_da, [-2*dist*dx,2*dist*dx]) # assuming that the South Pole is in the center of the projection\n",
    "                          & uf.in_range(meshy_gnd_da, [-2*dist*dy,2*dist*dy]))), 5)\n",
    "    \n",
    "    # filter that checks the point around\n",
    "    weights_filter = np.zeros((3,3))\n",
    "    weights_filter[0,1] = 1\n",
    "    weights_filter[1,0] = 1\n",
    "    weights_filter[1,2] = 1\n",
    "    weights_filter[2,1] = 1\n",
    "    \n",
    "    weights_da = xr.DataArray(data=weights_filter,dims=['y0','x0'])\n",
    "    \n",
    "    if 'time' in mask_gnd.dims:\n",
    "\n",
    "        iter_list = []\n",
    "        for tt,timet in enumerate(tqdm(mask_gnd.time)):\n",
    "\n",
    "            mask_core_tt = mask_core.isel(time=tt)\n",
    "            iter_mask = mask_core_tt.copy()\n",
    "            for n in range(half_range+2*dist+add_fac):\n",
    "                corr = pf.xr_nd_corr_v2(iter_mask, weights_filter)\n",
    "                iter_mask = iter_mask.where(~((corr >= 5) & (mask_core_tt == 1)),5)\n",
    "\n",
    "            iter_list.append(iter_mask)\n",
    "\n",
    "        iter_mask_all = xr.concat(iter_list,dim='time')\n",
    "        iter_mask_all = iter_mask_all.assign_coords({'time': mask_gnd.time})\n",
    "\n",
    "        mask_ground = iter_mask_all.where(iter_mask_all !=5, 2).reindex_like(mask_10)\n",
    "    \n",
    "    else:\n",
    "        \n",
    "        iter_mask = mask_core.copy()\n",
    "        for n in tqdm(range(half_range+2*dist+add_fac)):\n",
    "            corr = pf.xr_nd_corr_v2(iter_mask, weights_filter)\n",
    "            iter_mask = iter_mask.where(~((corr >= 5) & (mask_core == 1)),5)\n",
    "\n",
    "        mask_ground = iter_mask.where(iter_mask !=5, 2).reindex_like(mask_10)\n",
    "        \n",
    "    mask_ground = mask_ground.where(mask_ground>0,0)\n",
    "    \n",
    "    return mask_ground"
   ]
  },
  {
   "cell_type": "code",
   "execution_count": null,
   "id": "f91192cd-f9ce-4774-b6c8-2507a140fce7",
   "metadata": {},
   "outputs": [],
   "source": [
    "file_isf_00['ISF_mask'].plot()"
   ]
  },
  {
   "cell_type": "code",
   "execution_count": null,
   "id": "d170f660-7969-494b-acf7-a7e4c5f50e05",
   "metadata": {},
   "outputs": [],
   "source": [
    "FRIS_00 = file_conc_cut['isfdraft_conc'].isel(time=0).where(file_isf_00['ISF_mask'] == 11, drop=True)\n",
    "FRIS_00_test = file_conc_cut['isfdraft_conc'].isel(time=0).where(file_isf_00['ISF_mask'] == 11, drop=True) * 0 + 1\n",
    "FRIS_00_test = FRIS_00_test.where(np.isfinite(FRIS_00_test),0)"
   ]
  },
  {
   "cell_type": "code",
   "execution_count": null,
   "id": "3814ebad-1e61-48f9-9cd8-2ce03af9a006",
   "metadata": {},
   "outputs": [],
   "source": [
    "FRIS_00_test.plot()"
   ]
  },
  {
   "cell_type": "code",
   "execution_count": null,
   "id": "20d80445-74ee-4f2c-b27e-3ae03689b4d8",
   "metadata": {},
   "outputs": [],
   "source": [
    "### THIS IS THE ROUTINE THAT NEEDS TO BE IMPLEMENTED IN MASK SCRIPTS => WORKS WELL\n",
    "dist = 1\n",
    "dist_2 = 4\n",
    "add_fac = 100\n",
    "tt = 0\n",
    "\n",
    "file_isf = xr.open_dataset(outputpath_mask + 'nemo_5km_isf_masks_and_info_and_distance_oneFRIS_yy'+str(tt).zfill(2)+'.nc').drop('time')\n",
    "isf_conc_tt = file_conc_cut['isfdraft_conc'].sel(time=tt)\n",
    "isf_mask = file_isf['ISF_mask']\n",
    "ground_mask = file_isf['ground_mask']\n",
    "seeded_isf_mask = isf_mask.copy() * np.nan\n",
    "\n",
    "for kisf in tqdm(file_isf.Nisf.where(file_isf.Nisf >= 10, drop=True)):\n",
    "    \n",
    "    seed_mask = isf_conc_tt.where(isf_mask == kisf, drop=True) * 0 + 1\n",
    "    seed_mask = seed_mask.where(np.isfinite(seed_mask),0)\n",
    "    \n",
    "    meshx_gnd, meshy_gnd = np.meshgrid(seed_mask.x,seed_mask.y)\n",
    "    meshx_gnd_da = seed_mask.copy(data=np.broadcast_to(meshx_gnd, seed_mask.shape))\n",
    "    meshy_gnd_da = seed_mask.copy(data=np.broadcast_to(meshy_gnd, seed_mask.shape))\n",
    "    \n",
    "    if ((len(meshx_gnd_da.x) > 3) and (len(meshx_gnd_da.y) > 3)) :\n",
    "        dx = abs(meshx_gnd_da.x[1] - meshx_gnd_da.x[0])\n",
    "        dy = abs(meshx_gnd_da.y[1] - meshx_gnd_da.y[0])\n",
    "\n",
    "        center_x = (meshx_gnd_da.x.max() + meshx_gnd_da.x.min())/2\n",
    "        center_y = (meshx_gnd_da.y.max() + meshx_gnd_da.y.min())/2\n",
    "\n",
    "        max_len_xy = max(len(meshx_gnd_da.x),len(meshx_gnd_da.y))\n",
    "        half_range = round(max_len_xy/2)\n",
    "\n",
    "        mask_core_range = ((uf.in_range(meshx_gnd_da, [-1*dist*dx + center_x,center_x + 1*dist*dx]) \n",
    "                              & uf.in_range(meshy_gnd_da, [-1*dist*dy + center_y,center_y +1*dist*dy])))\n",
    "\n",
    "        if seed_mask.where(mask_core_range).max() < 1: # if the ice shelf is not in the middle of the cell\n",
    "            n = 0\n",
    "            while seed_mask.where(mask_core_range).max() < 1:\n",
    "                #print(seed_mask.where(mask_core_range).max().values)\n",
    "                center_x = meshx_gnd_da.x.min() + n*dx\n",
    "                mask_core_range = ((uf.in_range(meshx_gnd_da, [-1*dist*dx + center_x,center_x + 1*dist*dx]) \n",
    "                        & uf.in_range(meshy_gnd_da, [-1*dist*dy + center_y,center_y +1*dist*dy])))\n",
    "                n = n+1\n",
    "\n",
    "\n",
    "        mask_core = seed_mask.where(~((uf.in_range(meshx_gnd_da, [-1*dist*dx + center_x,center_x + 1*dist*dx]) # assuming that the South Pole is in the center of the projection\n",
    "                              & uf.in_range(meshy_gnd_da, [-1*dist*dy + center_y,center_y +1*dist*dy]))), 5)\n",
    "\n",
    "        # filter that checks the point around\n",
    "        weights_filter = np.zeros((3,3))\n",
    "        weights_filter[0,1] = 1\n",
    "        weights_filter[1,0] = 1\n",
    "        weights_filter[1,2] = 1\n",
    "        weights_filter[2,1] = 1\n",
    "\n",
    "        weights_da = xr.DataArray(data=weights_filter,dims=['y0','x0'])\n",
    "\n",
    "        iter_mask = mask_core.copy()\n",
    "        for n in range(half_range+2*dist+add_fac):\n",
    "            corr = pf.xr_nd_corr_v2(iter_mask, weights_filter)\n",
    "            iter_mask = iter_mask.where(~((corr >= 5) & (mask_core == 1)),5)\n",
    "\n",
    "        iter_mask = iter_mask.where(iter_mask == 5)\n",
    "        iter_mask = iter_mask * 0 + kisf\n",
    "\n",
    "        kisf_reg_grid = iter_mask.reindex_like(isf_mask)    \n",
    "        seeded_isf_mask = seeded_isf_mask.combine_first(kisf_reg_grid)\n",
    "\n",
    "new_isf_mask = seeded_isf_mask.combine_first(isf_mask.where(isf_mask == 0))\n",
    "new_isf_mask = new_isf_mask.where(new_isf_mask > 0,0)\n",
    "#mask_ground = iter_mask.where(iter_mask !=5, 2).reindex_like(mask_10)\n",
    "\n",
    "#mask_ground = mask_ground.where(mask_ground>0,0)"
   ]
  },
  {
   "cell_type": "code",
   "execution_count": null,
   "id": "9f4a6ce8-e0da-432c-9564-6cc9292500b7",
   "metadata": {},
   "outputs": [],
   "source": [
    " meshx_gnd\n",
    "    \n",
    "    \n",
    "    "
   ]
  },
  {
   "cell_type": "code",
   "execution_count": null,
   "id": "cb773ebb-afe5-4b8b-bf87-e502212c4097",
   "metadata": {},
   "outputs": [],
   "source": [
    "mask_33 = new_isf_mask.copy()"
   ]
  },
  {
   "cell_type": "code",
   "execution_count": null,
   "id": "893f6a3e-312e-40d4-afb2-0d34a36904b3",
   "metadata": {},
   "outputs": [],
   "source": [
    "isf_conc_tt.where(new_isf_mask < 2).plot()"
   ]
  },
  {
   "cell_type": "code",
   "execution_count": null,
   "id": "e5c38195-93df-4ce2-8269-3132413e0e06",
   "metadata": {},
   "outputs": [],
   "source": [
    "mask_33.plot()"
   ]
  },
  {
   "cell_type": "code",
   "execution_count": null,
   "id": "0cf406eb-175e-418f-b6cb-993b842c7551",
   "metadata": {},
   "outputs": [],
   "source": [
    "### THIS IS THE ROUTINE THAT NEEDS TO BE IMPLEMENTED IN MASK SCRIPTS => WORKS WELL\n",
    "dist = 1\n",
    "dist2 = 10\n",
    "add_fac = 100\n",
    "tt = 34\n",
    "kisf = 23\n",
    "\n",
    "file_isf = xr.open_dataset(outputpath_mask + 'nemo_5km_isf_masks_and_info_and_distance_oneFRIS_yy'+str(tt).zfill(2)+'.nc').drop('time')\n",
    "isf_conc_tt = file_conc_cut['isfdraft_conc'].sel(time=tt)\n",
    "isf_mask_prev = mask_33\n",
    "isf_mask = file_isf['ISF_mask']\n",
    "ground_mask = file_isf['ground_mask']\n",
    "seeded_isf_mask = isf_mask.copy() * np.nan\n",
    "\n",
    "for kisf in tqdm(file_isf.Nisf.where(file_isf.Nisf >= 10, drop=True)):\n",
    "    \n",
    "\n",
    "    if (isf_mask_prev == kisf).sum() > 1:\n",
    "        isf_domain = isf_conc_tt.where(isf_mask_prev == kisf, drop=True) * 0 + 1\n",
    "    elif (isf_mask == kisf).sum() > 1:\n",
    "        isf_domain = isf_conc_tt.where(isf_mask == kisf, drop=True) * 0 + 1\n",
    "    isf_domain = isf_domain.where(np.isfinite(isf_domain),0)\n",
    "\n",
    "    if kisf in [26,42,55]:\n",
    "\n",
    "        seeded_isf_mask = seeded_isf_mask.combine_first(isf_mask.where(isf_mask == kisf))\n",
    "\n",
    "    elif ((len(isf_domain.x) > 3) and (len(isf_domain.y) > 3)):\n",
    "\n",
    "        dx = abs(isf_domain.x[1] - isf_domain.x[0])\n",
    "        dy = abs(isf_domain.y[1] - isf_domain.y[0])\n",
    "\n",
    "        meshx_restric, meshy_restric = np.meshgrid(isf_domain.x,isf_domain.y)\n",
    "        meshx_restric_da = isf_domain.copy(data=np.broadcast_to(meshx_restric, isf_domain.shape))\n",
    "        meshy_restric_da = isf_domain.copy(data=np.broadcast_to(meshy_restric, isf_domain.shape))\n",
    "\n",
    "        center_x = (meshx_restric_da.x.max() + meshx_restric_da.x.min())/2\n",
    "        center_y = (meshy_restric_da.y.max() + meshy_restric_da.y.min())/2\n",
    "\n",
    "        max_len_xy = max(len(meshx_restric_da.x),len(meshy_restric_da.y))\n",
    "        half_range = round(max_len_xy/2)\n",
    "\n",
    "        mask_core_range = ((uf.in_range(meshx_restric_da, [-1*dist*dx + center_x,center_x + 1*dist*dx]) \n",
    "                              & uf.in_range(meshy_restric_da, [-1*dist*dy + center_y,center_y +1*dist*dy])))\n",
    "\n",
    "        if kisf == 53:\n",
    "            center_y = isf_domain.y.max()\n",
    "\n",
    "        elif isf_domain.where(mask_core_range).max() < 1: # if the ice shelf is not in the middle of the cell\n",
    "            n = 0\n",
    "            while isf_domain.where(mask_core_range).max() < 1:\n",
    "                #print(center_x)\n",
    "                #print(seed_mask.where(mask_core_range).max().values)\n",
    "                center_x = isf_domain.x.min() + n*dx\n",
    "                mask_core_range = ((uf.in_range(meshx_restric_da, [-1*dist*dx + center_x,center_x + 1*dist*dx]) \n",
    "                        & uf.in_range(meshy_restric_da, [-1*dist*dy + center_y,center_y +1*dist*dy])))\n",
    "                n = n+1\n",
    "\n",
    "        # enlarge the domain\n",
    "        if isf_domain.x[0] < isf_domain.x[1]:\n",
    "            xxrange = np.arange(isf_domain.x.min() - dist2*dx, isf_domain.x.max() + dist2*dx,dx)\n",
    "        else:\n",
    "            xxrange = np.arange(isf_domain.x.max() + dist2*dx, isf_domain.x.min() - dist2*dx,-dx)\n",
    "\n",
    "        if isf_domain.y[0] < isf_domain.y[1]:\n",
    "            yyrange = np.arange(isf_domain.y.min() - dist2*dy, isf_domain.y.max() + dist2*dy,dy)\n",
    "        else:\n",
    "            yyrange = np.arange(isf_domain.y.max() + dist2*dy, isf_domain.y.min() - dist2*dy,-dy)\n",
    "\n",
    "        new_domain = isf_conc_tt.sel(x=xxrange,y=yyrange) \n",
    "        seed_mask = isf_conc_tt.where(new_domain, drop=True) * 0 + 1\n",
    "        seed_mask = seed_mask.where(np.isfinite(seed_mask),0)\n",
    "\n",
    "        meshx_gnd, meshy_gnd = np.meshgrid(seed_mask.x,seed_mask.y)\n",
    "        meshx_gnd_da = seed_mask.copy(data=np.broadcast_to(meshx_gnd, seed_mask.shape))\n",
    "        meshy_gnd_da = seed_mask.copy(data=np.broadcast_to(meshy_gnd, seed_mask.shape))\n",
    "\n",
    "\n",
    "        mask_core = seed_mask.where(~((uf.in_range(meshx_gnd_da, [-1*dist*dx + center_x,center_x + 1*dist*dx]) # assuming that the South Pole is in the center of the projection\n",
    "                              & uf.in_range(meshy_gnd_da, [-1*dist*dy + center_y,center_y +1*dist*dy]))), 5)\n",
    "\n",
    "        # filter that checks the point around\n",
    "        weights_filter = np.zeros((3,3))\n",
    "        weights_filter[0,1] = 1\n",
    "        weights_filter[1,0] = 1\n",
    "        weights_filter[1,2] = 1\n",
    "        weights_filter[2,1] = 1\n",
    "\n",
    "        weights_da = xr.DataArray(data=weights_filter,dims=['y0','x0'])\n",
    "\n",
    "        iter_mask = mask_core.copy()\n",
    "        for n in range(half_range+2*dist+add_fac):\n",
    "            corr = pf.xr_nd_corr_v2(iter_mask, weights_filter)\n",
    "            iter_mask = iter_mask.where(~((corr >= 5) & (mask_core == 1)),5)\n",
    "\n",
    "        iter_mask = iter_mask.where(iter_mask == 5)\n",
    "        iter_mask = iter_mask * 0 + kisf\n",
    "\n",
    "        kisf_reg_grid = iter_mask.reindex_like(isf_mask)    \n",
    "        seeded_isf_mask = seeded_isf_mask.combine_first(kisf_reg_grid)\n",
    "\n",
    "new_isf_mask = seeded_isf_mask.combine_first(isf_mask.where(isf_mask == 0))\n",
    "new_isf_mask = new_isf_mask.where(new_isf_mask > 0,0)\n",
    "#mask_ground = iter_mask.where(iter_mask !=5, 2).reindex_like(mask_10)\n",
    "\n",
    "#mask_ground = mask_ground.where(mask_ground>0,0)"
   ]
  },
  {
   "cell_type": "code",
   "execution_count": null,
   "id": "3506872a-60fd-42a0-9061-f40bf3e463f2",
   "metadata": {},
   "outputs": [],
   "source": [
    "new_isf_mask.where(new_isf_mask == 23).plot()"
   ]
  },
  {
   "cell_type": "code",
   "execution_count": null,
   "id": "1095e6a7-80f5-44c4-8cfc-1966654c767a",
   "metadata": {},
   "outputs": [],
   "source": [
    "isf_dim_orig = np.array([10,11,12,13,18,22,23,24,25,30,31,33,38,39,40,42,43,44,45,47,48,51,52,53,54,55,58,61,65,66,69,70,71,73,75])"
   ]
  },
  {
   "cell_type": "code",
   "execution_count": null,
   "id": "6caa0b8f-cabf-4913-bfad-463cd034bc1e",
   "metadata": {},
   "outputs": [],
   "source": [
    "isf_conc_tt.where(new_isf_mask==10).plot()"
   ]
  },
  {
   "cell_type": "code",
   "execution_count": null,
   "id": "d38aa8d2-ca1d-4ed2-a70c-a28dc3ff5647",
   "metadata": {},
   "outputs": [],
   "source": [
    "for kisf in isf_dim_orig[20:40]:\n",
    "    plt.figure()\n",
    "    isf_conc_tt.where(new_isf_mask==kisf).plot()\n",
    "    plt.title(file_isf['isf_name'].sel(Nisf=kisf).values)"
   ]
  },
  {
   "cell_type": "code",
   "execution_count": null,
   "id": "69d6dab4-b986-496f-8a30-315b538efaee",
   "metadata": {},
   "outputs": [],
   "source": [
    "dist = 1\n",
    "dist_2 = 4\n",
    "add_fac = 100\n",
    "tt = 0\n",
    "\n",
    "file_isf = xr.open_dataset(outputpath_mask + 'nemo_5km_isf_masks_and_info_and_distance_oneFRIS_yy'+str(tt).zfill(2)+'.nc').drop('time')\n",
    "isf_conc_tt = file_conc_cut['isfdraft_conc'].sel(time=tt)\n",
    "isf_mask = file_isf['ISF_mask']\n",
    "ground_mask = file_isf['ground_mask']\n",
    "seeded_isf_mask = isf_mask.copy() * np.nan"
   ]
  },
  {
   "cell_type": "code",
   "execution_count": null,
   "id": "9ab6de3b-0e3e-4877-8ce0-1697a71ed4af",
   "metadata": {},
   "outputs": [],
   "source": [
    "isf_mask.plot()"
   ]
  },
  {
   "cell_type": "code",
   "execution_count": null,
   "id": "bd5b0d90-4888-4962-8f0c-3e7f4694603f",
   "metadata": {},
   "outputs": [],
   "source": [
    "file_isf['isf_name'].where(file_isf['isf_name']=='Larsen B',drop=True)"
   ]
  },
  {
   "cell_type": "code",
   "execution_count": null,
   "id": "f17cf92a-855f-4a8f-876c-4e77d3324983",
   "metadata": {},
   "outputs": [],
   "source": [
    "isf_mask.where(isf_mask<2).plot()"
   ]
  },
  {
   "cell_type": "code",
   "execution_count": null,
   "id": "f87d43f8-a711-4134-8d09-8038b1c4a47a",
   "metadata": {},
   "outputs": [],
   "source": [
    "isf_domain = isf_conc_tt.where(isf_mask == kisf, drop=True) * 0 + 1\n",
    "isf_domain = isf_domain.where(np.isfinite(isf_domain),0)\n",
    "\n",
    "if ((len(isf_domain.x) > 3) and (len(isf_domain.y) > 3)) :\n",
    "\n",
    "    dx = abs(isf_domain.x[1] - isf_domain.x[0])\n",
    "    dy = abs(isf_domain.y[1] - isf_domain.y[0])\n",
    "\n",
    "    meshx_restric, meshy_restric = np.meshgrid(isf_domain.x,isf_domain.y)\n",
    "    meshx_restric_da = isf_domain.copy(data=np.broadcast_to(meshx_restric, isf_domain.shape))\n",
    "    meshy_restric_da = isf_domain.copy(data=np.broadcast_to(meshy_restric, isf_domain.shape))\n",
    "\n",
    "    center_x = (meshx_restric_da.x.max() + meshx_restric_da.x.min())/2\n",
    "    center_y = (meshy_restric_da.y.max() + meshy_restric_da.y.min())/2\n",
    "\n",
    "    max_len_xy = max(len(meshx_restric_da.x),len(meshy_restric_da.y))\n",
    "    half_range = round(max_len_xy/2)\n",
    "\n",
    "    mask_core_range = ((uf.in_range(meshx_restric_da, [-1*dist*dx + center_x,center_x + 1*dist*dx]) \n",
    "                          & uf.in_range(meshy_restric_da, [-1*dist*dy + center_y,center_y +1*dist*dy])))\n",
    "    if kisf == 53:\n",
    "        center_y = isf_domain.y.max()\n",
    "        \n",
    "    elif isf_domain.where(mask_core_range).max() < 1: # if the ice shelf is not in the middle of the cell\n",
    "        n = 0\n",
    "        while isf_domain.where(mask_core_range).max() < 1:\n",
    "            #print(center_x)\n",
    "            #print(seed_mask.where(mask_core_range).max().values)\n",
    "            center_x = isf_domain.x.min() + n*dx\n",
    "            mask_core_range = ((uf.in_range(meshx_restric_da, [-1*dist*dx + center_x,center_x + 1*dist*dx]) \n",
    "                    & uf.in_range(meshy_restric_da, [-1*dist*dy + center_y,center_y +1*dist*dy])))\n",
    "            n = n+1\n",
    "\n",
    "    # enlarge the domain\n",
    "    if isf_domain.x[0] < isf_domain.x[1]:\n",
    "        xxrange = np.arange(isf_domain.x.min() - dist2*dx, isf_domain.x.max() + dist2*dx,dx)\n",
    "    else:\n",
    "        xxrange = np.arange(isf_domain.x.max() + dist2*dx, isf_domain.x.min() - dist2*dx,-dx)\n",
    "\n",
    "    if isf_domain.y[0] < isf_domain.y[1]:\n",
    "        yyrange = np.arange(isf_domain.y.min() - dist2*dy, isf_domain.y.max() + dist2*dy,dy)\n",
    "    else:\n",
    "        yyrange = np.arange(isf_domain.y.max() + dist2*dy, isf_domain.y.min() - dist2*dy,-dy)\n",
    "\n",
    "    new_domain = isf_conc_tt.sel(x=xxrange,y=yyrange) \n",
    "    seed_mask = isf_conc_tt.where(new_domain, drop=True) * 0 + 1\n",
    "    seed_mask = seed_mask.where(np.isfinite(seed_mask),0)\n",
    "\n",
    "    meshx_gnd, meshy_gnd = np.meshgrid(seed_mask.x,seed_mask.y)\n",
    "    meshx_gnd_da = seed_mask.copy(data=np.broadcast_to(meshx_gnd, seed_mask.shape))\n",
    "    meshy_gnd_da = seed_mask.copy(data=np.broadcast_to(meshy_gnd, seed_mask.shape))\n",
    "\n",
    "\n",
    "    mask_core = seed_mask.where(~((uf.in_range(meshx_gnd_da, [-1*dist*dx + center_x,center_x + 1*dist*dx]) # assuming that the South Pole is in the center of the projection\n",
    "                          & uf.in_range(meshy_gnd_da, [-1*dist*dy + center_y,center_y +1*dist*dy]))), 5)\n",
    "\n",
    "\n",
    "    \n",
    "\n"
   ]
  },
  {
   "cell_type": "code",
   "execution_count": null,
   "id": "bfa7074a-520e-4538-b8f7-b4eec1a49198",
   "metadata": {},
   "outputs": [],
   "source": [
    "mask_core.plot()"
   ]
  },
  {
   "cell_type": "code",
   "execution_count": null,
   "id": "dfcf48e5-b55d-4fd9-a53f-a93f4f5611aa",
   "metadata": {},
   "outputs": [],
   "source": [
    "mask_33.plot()"
   ]
  },
  {
   "cell_type": "code",
   "execution_count": null,
   "id": "44118c94-4731-4b3d-bc8a-aa5d104c06b9",
   "metadata": {},
   "outputs": [],
   "source": []
  },
  {
   "cell_type": "code",
   "execution_count": null,
   "id": "49011df0-ddb9-46a8-81d7-71aec42ed936",
   "metadata": {},
   "outputs": [],
   "source": [
    "iter_mask.plot()"
   ]
  },
  {
   "cell_type": "code",
   "execution_count": null,
   "id": "d7c03c94-8d50-481f-a76f-f3aabd6c363c",
   "metadata": {},
   "outputs": [],
   "source": [
    "file_isf['isf_name'].sel(Nisf=53)"
   ]
  },
  {
   "cell_type": "code",
   "execution_count": null,
   "id": "7cb49e73-fb97-4622-b5c9-e1c833041f9b",
   "metadata": {},
   "outputs": [],
   "source": [
    "iter_mask.plot()"
   ]
  },
  {
   "cell_type": "code",
   "execution_count": null,
   "id": "b163386e-8681-490a-83e9-0093f25edc51",
   "metadata": {},
   "outputs": [],
   "source": [
    "isf_conc_tt.where(file_isf['ISF_mask']==53).plot()"
   ]
  },
  {
   "cell_type": "code",
   "execution_count": null,
   "id": "d14cb9b1-4aab-4d1c-9217-de1289c0357f",
   "metadata": {},
   "outputs": [],
   "source": [
    "new_isf_mask.plot()#.plot(vmin=25,vmax=27)"
   ]
  },
  {
   "cell_type": "code",
   "execution_count": null,
   "id": "8b90bbf1-4fa0-4b15-a10d-28057400ce45",
   "metadata": {},
   "outputs": [],
   "source": [
    "isf_conc_tt.where(new_isf_mask < 1).plot()"
   ]
  },
  {
   "cell_type": "code",
   "execution_count": null,
   "id": "58dd5429-6a92-4808-97e2-0cdde40f6432",
   "metadata": {},
   "outputs": [],
   "source": []
  },
  {
   "cell_type": "code",
   "execution_count": null,
   "id": "9f641252-da8d-45b8-bbf7-3700106716a0",
   "metadata": {},
   "outputs": [],
   "source": [
    "file_isf['Nisf'].where(file_isf['isf_name'] == 'Cosgrove')"
   ]
  },
  {
   "cell_type": "code",
   "execution_count": null,
   "id": "8ab341e0-c0b1-41d4-bcdd-63b4e8c34f5b",
   "metadata": {},
   "outputs": [],
   "source": [
    "meshy_restric_da.plot()"
   ]
  },
  {
   "cell_type": "code",
   "execution_count": null,
   "id": "e0727d12-9ffb-410f-9d5d-362e1929c29e",
   "metadata": {},
   "outputs": [],
   "source": [
    "iter_mask.plot()"
   ]
  },
  {
   "cell_type": "code",
   "execution_count": null,
   "id": "6c179ef3-108d-4a0e-abc4-6ecfb55a01ec",
   "metadata": {},
   "outputs": [],
   "source": [
    "seed_mask.plot()"
   ]
  },
  {
   "cell_type": "code",
   "execution_count": null,
   "id": "ddb79699-90c3-44ea-84a9-73eaa8693c87",
   "metadata": {},
   "outputs": [],
   "source": [
    "mask_core_range.plot()"
   ]
  },
  {
   "cell_type": "code",
   "execution_count": null,
   "id": "7de79630-c4b3-47d2-97e7-b37b285eb0ba",
   "metadata": {},
   "outputs": [],
   "source": [
    "isf_domain.plot()"
   ]
  },
  {
   "cell_type": "code",
   "execution_count": null,
   "id": "33a483cf-7846-43fe-8b21-cb0b12d6722a",
   "metadata": {},
   "outputs": [],
   "source": [
    "meshx_restric_da.plot()"
   ]
  },
  {
   "cell_type": "code",
   "execution_count": null,
   "id": "cc3a4001-e457-462a-b369-301287350bb7",
   "metadata": {},
   "outputs": [],
   "source": [
    "mask_core.plot()"
   ]
  },
  {
   "cell_type": "code",
   "execution_count": null,
   "id": "4f37e209-9bd0-4269-ba61-d8b3f135a3de",
   "metadata": {},
   "outputs": [],
   "source": [
    "isf_domain.x.min() + n*dx"
   ]
  },
  {
   "cell_type": "code",
   "execution_count": null,
   "id": "8ce9d20d-1fc5-4660-94ac-adc199fa821a",
   "metadata": {},
   "outputs": [],
   "source": [
    "mask_33.plot()"
   ]
  },
  {
   "cell_type": "code",
   "execution_count": null,
   "id": "5e2adc86-3b86-4bb5-9669-2af592596bdd",
   "metadata": {},
   "outputs": [],
   "source": [
    "new_isf_mask.plot(vmin=24,vmax=26)"
   ]
  },
  {
   "cell_type": "code",
   "execution_count": null,
   "id": "06124702-b7eb-42c5-a9d6-f16f56a1447a",
   "metadata": {},
   "outputs": [],
   "source": [
    "file_isf['isf_name'].sel(Nisf=25)"
   ]
  },
  {
   "cell_type": "code",
   "execution_count": null,
   "id": "d785983d-9eda-43bc-a34d-a9866a2e2e4b",
   "metadata": {},
   "outputs": [],
   "source": [
    "isf_conc_tt.where(new_isf_mask==0).plot()"
   ]
  },
  {
   "cell_type": "code",
   "execution_count": null,
   "id": "81463c3b-042d-44c5-8b06-1e177538e371",
   "metadata": {},
   "outputs": [],
   "source": []
  },
  {
   "cell_type": "code",
   "execution_count": null,
   "id": "b4856799-3b0f-47fc-85fe-7bda5b2435ed",
   "metadata": {},
   "outputs": [],
   "source": []
  },
  {
   "cell_type": "code",
   "execution_count": null,
   "id": "cc28d9d2-553f-47a2-a0d8-e8a6b9490ab1",
   "metadata": {},
   "outputs": [],
   "source": [
    "Iceshelf['ID_isf']"
   ]
  },
  {
   "cell_type": "code",
   "execution_count": null,
   "id": "3a09cb6a-4224-4dfa-bca3-5f02c38b5bfd",
   "metadata": {},
   "outputs": [],
   "source": [
    "summary_mask_basins = xr.open_dataset('/bettik/burgardc/DATA/NN_PARAM/interim/basins_mask_extrap_50km.nc')"
   ]
  },
  {
   "cell_type": "code",
   "execution_count": null,
   "id": "0b4cf5d0-67e8-4c83-897f-528abbfd0202",
   "metadata": {},
   "outputs": [],
   "source": [
    "file_msk = file_mask_cut['ls_mask012']\n",
    "isf_only_mask = file_msk.where((file_msk > 0) & (file_msk < 2))\n",
    "isf_mask_all = summary_mask_basins['ID_isf'].where(np.isfinite(isf_only_mask))"
   ]
  },
  {
   "cell_type": "code",
   "execution_count": null,
   "id": "5e2f407f-f28a-4e8c-aee6-214d8918b674",
   "metadata": {},
   "outputs": [],
   "source": [
    "file_mask_cut['ls_mask012'].isel(time=30).plot()"
   ]
  },
  {
   "cell_type": "code",
   "execution_count": null,
   "id": "d3101ecc-1a41-458e-8d18-4d1917f97b1c",
   "metadata": {},
   "outputs": [],
   "source": [
    "file_conc_cut['isfdraft_conc'].where(np.isnan(isf_mask_all)).isel(time=0).plot()"
   ]
  },
  {
   "cell_type": "code",
   "execution_count": null,
   "id": "a71a20f4-9b8d-4930-a7b8-f0f0e5a05e8b",
   "metadata": {},
   "outputs": [],
   "source": [
    "isf_mask_all.isel(time=34).plot()"
   ]
  },
  {
   "cell_type": "code",
   "execution_count": null,
   "id": "4ac92442-09e0-4e0f-80c3-b0829761e23a",
   "metadata": {},
   "outputs": [],
   "source": [
    "isf_only_mask = file_msk.where((file_msk > 0) & (file_msk < 2))"
   ]
  },
  {
   "cell_type": "code",
   "execution_count": null,
   "id": "df86694b-2cd9-4de5-bd56-8aabe7600dea",
   "metadata": {},
   "outputs": [],
   "source": [
    "isf_only_mask.plot()"
   ]
  },
  {
   "cell_type": "code",
   "execution_count": null,
   "id": "b3b2acab-4b3c-4b4c-97ef-ed3856e70f1a",
   "metadata": {},
   "outputs": [],
   "source": []
  },
  {
   "cell_type": "code",
   "execution_count": null,
   "id": "b8214830-c13e-41f6-a9a0-4534ed4e884d",
   "metadata": {},
   "outputs": [],
   "source": [
    "isf_mask_all.plot()"
   ]
  },
  {
   "cell_type": "code",
   "execution_count": null,
   "id": "efeb4ebc-2ca8-425a-a3b2-6a925944b3bc",
   "metadata": {},
   "outputs": [],
   "source": [
    "file_msk_NEMOgrid = xr.open_dataset(inputpath_data+'custom_lsmask_Ant.nc')"
   ]
  },
  {
   "cell_type": "code",
   "execution_count": null,
   "id": "1a4d000a-4c91-40a6-bee2-733c6a2fd9b2",
   "metadata": {},
   "outputs": [],
   "source": [
    "NEMO_msk = file_msk_NEMOgrid['ls_mask012'].isel(time=0)"
   ]
  },
  {
   "cell_type": "code",
   "execution_count": null,
   "id": "ded7e77a-1080-4e5a-8f5c-f89fc634f6f5",
   "metadata": {},
   "outputs": [],
   "source": [
    "NEMO_msk.plot()"
   ]
  },
  {
   "cell_type": "code",
   "execution_count": null,
   "id": "0d973d48-98a8-4268-8ef4-169187e3ee3e",
   "metadata": {},
   "outputs": [],
   "source": [
    "file_msk.plot()"
   ]
  },
  {
   "cell_type": "code",
   "execution_count": null,
   "id": "4dbd8ac8-f5da-45fa-ac82-f83a2a1c3710",
   "metadata": {},
   "outputs": [],
   "source": [
    "isf_mask_all.where(isf_mask_all == np.array([1,2,3]))"
   ]
  },
  {
   "cell_type": "code",
   "execution_count": null,
   "id": "75fbaeb7-0f48-4901-a411-611bdb5697c1",
   "metadata": {},
   "outputs": [],
   "source": [
    "file_TS_cut['so'].max('deptht').plot()"
   ]
  },
  {
   "cell_type": "code",
   "execution_count": null,
   "id": "097d5582-81bc-44fa-9f7f-b7d56c6c5481",
   "metadata": {},
   "outputs": [],
   "source": [
    "summary_mask_basins['name_isf']"
   ]
  },
  {
   "cell_type": "code",
   "execution_count": null,
   "id": "167a2c58-0cc9-409f-a5e5-9a938e0da9f3",
   "metadata": {},
   "outputs": [],
   "source": []
  },
  {
   "cell_type": "code",
   "execution_count": null,
   "id": "e9973ae8-54b5-45ca-ab17-7b37bd4f6a8f",
   "metadata": {},
   "outputs": [],
   "source": [
    "drainage_basins.x[1] - drainage_basins.x[0]"
   ]
  },
  {
   "cell_type": "code",
   "execution_count": null,
   "id": "deca9bbb-05f3-4915-89d4-79ba425c3e09",
   "metadata": {},
   "outputs": [],
   "source": [
    "Iceshelf['ID_isf'].min()"
   ]
  },
  {
   "cell_type": "code",
   "execution_count": null,
   "id": "651797ea-d269-4a76-92bb-fb66e21e7bfd",
   "metadata": {},
   "outputs": [],
   "source": [
    "Iceshelf['ID_isf'].where(isf_conc_tt>0).plot()"
   ]
  },
  {
   "cell_type": "code",
   "execution_count": null,
   "id": "ff6f9235-aeaa-4241-bfaf-db31abcc5328",
   "metadata": {},
   "outputs": [],
   "source": [
    "isf_conc_tt.where(np.isnan(drainage_basins)).plot()"
   ]
  },
  {
   "cell_type": "code",
   "execution_count": null,
   "id": "49219415-85d1-49be-ad1b-2f8727ecb205",
   "metadata": {},
   "outputs": [],
   "source": [
    "isf_domain.x.max()"
   ]
  },
  {
   "cell_type": "code",
   "execution_count": null,
   "id": "503e6e5f-87f1-43d6-9daa-764b1593595b",
   "metadata": {},
   "outputs": [],
   "source": [
    "isf_domain.x.min()"
   ]
  },
  {
   "cell_type": "code",
   "execution_count": null,
   "id": "c9a56b36-2236-4479-a99e-8ab144629f70",
   "metadata": {},
   "outputs": [],
   "source": [
    "xxrange"
   ]
  },
  {
   "cell_type": "code",
   "execution_count": null,
   "id": "00d6eb50-06c1-4817-a180-e894f29c53e2",
   "metadata": {},
   "outputs": [],
   "source": [
    "seed_mask.x"
   ]
  },
  {
   "cell_type": "code",
   "execution_count": null,
   "id": "2dbf8b07-6964-4263-891c-506c5506d7a0",
   "metadata": {},
   "outputs": [],
   "source": [
    "plt.figure()\n",
    "isf_mask_prev.where(isf_mask_prev == 38).plot()"
   ]
  },
  {
   "cell_type": "code",
   "execution_count": null,
   "id": "c40b3163-b0b5-469a-9840-bf8f20f7ed59",
   "metadata": {},
   "outputs": [],
   "source": [
    "seed_mask = isf_conc_tt.sel(x=xxrange,y=yyrange).plot()"
   ]
  },
  {
   "cell_type": "code",
   "execution_count": null,
   "id": "8f1c35b9-2dcb-43ea-a733-4fb8fe4fae22",
   "metadata": {},
   "outputs": [],
   "source": [
    "iter_mask.plot()"
   ]
  },
  {
   "cell_type": "code",
   "execution_count": null,
   "id": "81e663d2-d781-4b84-906f-d631822913e8",
   "metadata": {},
   "outputs": [],
   "source": [
    "seed_mask.plot()"
   ]
  },
  {
   "cell_type": "code",
   "execution_count": null,
   "id": "cca6fbb5-ee27-4f64-907e-92821ac90298",
   "metadata": {},
   "outputs": [],
   "source": [
    "xxrange"
   ]
  },
  {
   "cell_type": "code",
   "execution_count": null,
   "id": "74192cbc-fc53-4299-8d0c-48013f693404",
   "metadata": {},
   "outputs": [],
   "source": [
    "mask_33.plot(vmin=74,vmax=76)"
   ]
  },
  {
   "cell_type": "code",
   "execution_count": null,
   "id": "24a8ec4c-1450-4650-8db1-84dcfd04c6b2",
   "metadata": {},
   "outputs": [],
   "source": [
    "file_isf['ISF_mask'].where(file_isf['ISF_mask']==80).plot()"
   ]
  },
  {
   "cell_type": "code",
   "execution_count": null,
   "id": "ed7c7c10-2395-48f5-bd3e-b1e842293190",
   "metadata": {},
   "outputs": [],
   "source": [
    "mask_33 = new_isf_mask.copy()"
   ]
  },
  {
   "cell_type": "code",
   "execution_count": null,
   "id": "eb44b66f-1d34-47b3-919a-1bb3bad119e6",
   "metadata": {},
   "outputs": [],
   "source": [
    "isf_conc_tt.where(new_isf_mask<2).plot()"
   ]
  },
  {
   "cell_type": "code",
   "execution_count": null,
   "id": "acc1b5eb-200a-4e7f-b836-8f61d80cf149",
   "metadata": {},
   "outputs": [],
   "source": [
    "seed_mask = isf_conc_tt.where(isf_mask == 10, drop=True) * 0 + 1"
   ]
  },
  {
   "cell_type": "code",
   "execution_count": null,
   "id": "e74bfb3f-7f7b-450c-a5bd-d1dae6f871c0",
   "metadata": {},
   "outputs": [],
   "source": [
    "file_isf['ISF_mask'].where(file_isf['ISF_mask']==75).plot()"
   ]
  },
  {
   "cell_type": "code",
   "execution_count": null,
   "id": "cf6a88f1-7be2-40e1-9fb7-e2edaf4bec03",
   "metadata": {},
   "outputs": [],
   "source": [
    "new_isf_mask.plot()"
   ]
  },
  {
   "cell_type": "code",
   "execution_count": null,
   "id": "a0de24ce-8f03-4918-a202-7fe3d4468aeb",
   "metadata": {},
   "outputs": [],
   "source": [
    "plt.figure()\n",
    "new_isf_mask.where(new_isf_mask==10).plot()"
   ]
  },
  {
   "cell_type": "code",
   "execution_count": null,
   "id": "e613c79c-fe8a-43a5-bb48-80fd338cd254",
   "metadata": {},
   "outputs": [],
   "source": [
    "(new_isf_mask - file_isf['ISF_mask']).plot()"
   ]
  },
  {
   "cell_type": "code",
   "execution_count": null,
   "id": "272250d2-2a1a-4219-a91f-dd91f146d48b",
   "metadata": {},
   "outputs": [],
   "source": [
    "plt.figure()\n",
    "file_isf['ISF_mask'].plot()"
   ]
  },
  {
   "cell_type": "code",
   "execution_count": null,
   "id": "8227adf8-ca03-4766-94b7-f948ab3bf9b0",
   "metadata": {},
   "outputs": [],
   "source": [
    "file_isf['isf_name'].sel(Nisf=23)"
   ]
  },
  {
   "cell_type": "code",
   "execution_count": null,
   "id": "c6ee0828-76e9-4d5b-b937-b701523336d6",
   "metadata": {},
   "outputs": [],
   "source": [
    "center_x = (meshx_gnd_da.x.max() + meshx_gnd_da.x.min())/2\n",
    "    \n",
    "mask_core_range = ((uf.in_range(meshx_gnd_da, [-1*dist*dx + center_x,center_x + 1*dist*dx]) \n",
    "                          & uf.in_range(meshy_gnd_da, [-1*dist*dy + center_y,center_y +1*dist*dy])))"
   ]
  },
  {
   "cell_type": "code",
   "execution_count": null,
   "id": "9b8cb114-ac8a-4cf2-86f5-7ce3a14861bc",
   "metadata": {},
   "outputs": [],
   "source": [
    "seed_mask.plot()"
   ]
  },
  {
   "cell_type": "code",
   "execution_count": null,
   "id": "b88d46d4-cdb4-47ea-bf9e-25ad6c8d56f4",
   "metadata": {
    "tags": []
   },
   "outputs": [],
   "source": [
    "### THIS IS TO TEST FOR REMOVING\n",
    "dist = 1\n",
    "add_fac = 100\n",
    "tt = 30\n",
    "\n",
    "file_isf = xr.open_dataset(outputpath_mask + 'nemo_5km_isf_masks_and_info_and_distance_oneFRIS_yy'+str(tt).zfill(2)+'.nc').drop('time')\n",
    "isf_conc_tt = file_conc_cut['isfdraft_conc'].sel(time=tt)\n",
    "isf_mask = file_isf['ISF_mask']\n",
    "ground_mask = file_isf['ground_mask']\n",
    "seeded_isf_mask = isf_mask.copy() * np.nan\n",
    "\n",
    "kisf = 25\n",
    "seed_mask = isf_conc_tt.where(isf_mask == kisf, drop=True) * 0 + 1\n",
    "seed_mask = seed_mask.where(np.isfinite(seed_mask),0)\n",
    "\n",
    "meshx_gnd, meshy_gnd = np.meshgrid(seed_mask.x,seed_mask.y)\n",
    "meshx_gnd_da = seed_mask.copy(data=np.broadcast_to(meshx_gnd, seed_mask.shape))\n",
    "meshy_gnd_da = seed_mask.copy(data=np.broadcast_to(meshy_gnd, seed_mask.shape))\n",
    "\n",
    "if ((len(meshx_gnd_da.x) > 3) and (len(meshx_gnd_da.y) > 3)) :\n",
    "    dx = abs(meshx_gnd_da.x[1] - meshx_gnd_da.x[0])\n",
    "    dy = abs(meshx_gnd_da.y[1] - meshx_gnd_da.y[0])\n",
    "\n",
    "    center_x = (meshx_gnd_da.x.max() + meshx_gnd_da.x.min())/2\n",
    "    center_y = (meshx_gnd_da.y.max() + meshx_gnd_da.y.min())/2\n",
    "\n",
    "    max_len_xy = max(len(meshx_gnd_da.x),len(meshx_gnd_da.y))\n",
    "    half_range = round(max_len_xy/2)\n",
    "\n",
    "#    mask_core = seed_mask.where(~((uf.in_range(meshx_gnd_da, [-1*dist*dx + center_x,center_x + 1*dist*dx]) # assuming that the South Pole is in the center of the projection\n",
    "#                          & uf.in_range(meshy_gnd_da, [-1*dist*dy + center_y,center_y +1*dist*dy]))), 5)\n",
    "    \n",
    "    mask_core_range = ((uf.in_range(meshx_gnd_da, [-1*dist*dx + center_x,center_x + 1*dist*dx]) \n",
    "                          & uf.in_range(meshy_gnd_da, [-1*dist*dy + center_y,center_y +1*dist*dy])))\n",
    "    \n",
    "    if seed_mask.where(mask_core_range).max() < 1: # if the ice shelf is not in the middle of the cell\n",
    "        n = 0\n",
    "        while seed_mask.where(mask_core_range).max() < 1:\n",
    "            print(seed_mask.where(mask_core_range).max().values)\n",
    "            center_x = meshx_gnd_da.x.min() + n*dx\n",
    "            mask_core_range = ((uf.in_range(meshx_gnd_da, [-1*dist*dx + center_x,center_x + 1*dist*dx]) \n",
    "                    & uf.in_range(meshy_gnd_da, [-1*dist*dy + center_y,center_y +1*dist*dy])))\n",
    "            n = n+1\n",
    "\n",
    "        \n",
    "#    if seed_mask.sel(x=center_x,y=center_y) < 2:\n",
    "#        center_x = 0\n",
    "#    while seed_mask.sel(x=center_x+dx,y=center_y+dy) < 2:\n",
    "#          center_x = center_x + 1\n",
    "    mask_core = seed_mask.where(~((uf.in_range(meshx_gnd_da, [-1*dist*dx + center_x,center_x + 1*dist*dx]) # assuming that the South Pole is in the center of the projection\n",
    "                          & uf.in_range(meshy_gnd_da, [-1*dist*dy + center_y,center_y +1*dist*dy]))), 5)\n",
    "\n",
    "    # filter that checks the point around\n",
    "    weights_filter = np.zeros((3,3))\n",
    "    weights_filter[0,1] = 1\n",
    "    weights_filter[1,0] = 1\n",
    "    weights_filter[1,2] = 1\n",
    "    weights_filter[2,1] = 1\n",
    "\n",
    "    weights_da = xr.DataArray(data=weights_filter,dims=['y0','x0'])\n",
    "\n",
    "    iter_mask = mask_core.copy()\n",
    "    for n in range(half_range+2*dist+add_fac):\n",
    "        corr = pf.xr_nd_corr_v2(iter_mask, weights_filter)\n",
    "        iter_mask = iter_mask.where(~((corr >= 5) & (mask_core == 1)),5)\n",
    "\n",
    "    iter_mask = iter_mask.where(iter_mask == 5)\n",
    "    iter_mask = iter_mask * 0 + kisf\n",
    "\n",
    "    #kisf_reg_grid = iter_mask.reindex_like(isf_mask)    \n",
    "    #seeded_isf_mask = seeded_isf_mask.combine_first(kisf_reg_grid)\n",
    "\n",
    "#new_isf_mask = seeded_isf_mask.combine_first(isf_mask.where(isf_mask == 0))\n",
    "#new_isf_mask = new_isf_mask.where(new_isf_mask > 0,0)\n",
    "#mask_ground = iter_mask.where(iter_mask !=5, 2).reindex_like(mask_10)\n",
    "\n",
    "#mask_ground = mask_ground.where(mask_ground>0,0)"
   ]
  },
  {
   "cell_type": "code",
   "execution_count": null,
   "id": "60c2f334-7f9e-4a7b-826c-dce5e6c49db6",
   "metadata": {},
   "outputs": [],
   "source": []
  },
  {
   "cell_type": "code",
   "execution_count": null,
   "id": "f4e13388-eb24-4b72-877d-5aca2556806e",
   "metadata": {},
   "outputs": [],
   "source": [
    "seed_mask.where(((uf.in_range(meshx_gnd_da, [-1*dist*dx + center_x,center_x + 1*dist*dx]) # assuming that the South Pole is in the center of the projection\n",
    "                          & uf.in_range(meshy_gnd_da, [-1*dist*dy + center_y,center_y +1*dist*dy])))).plot()"
   ]
  },
  {
   "cell_type": "code",
   "execution_count": null,
   "id": "0024fe21-de2e-48bb-9c69-e934912445b0",
   "metadata": {},
   "outputs": [],
   "source": [
    "plt.figure()\n",
    "seed_mask.plot()"
   ]
  },
  {
   "cell_type": "code",
   "execution_count": null,
   "id": "e2828690-610b-4973-be92-5cf5a738b76a",
   "metadata": {},
   "outputs": [],
   "source": [
    "plt.figure()\n",
    "mask_core.plot()"
   ]
  },
  {
   "cell_type": "code",
   "execution_count": null,
   "id": "3c894946-2574-4f90-9a0b-8c77bcd26188",
   "metadata": {},
   "outputs": [],
   "source": [
    "iter_mask.plot()"
   ]
  },
  {
   "cell_type": "code",
   "execution_count": null,
   "id": "2189aae0-d0c4-475a-9b2a-d6b91d3ebc2a",
   "metadata": {},
   "outputs": [],
   "source": [
    "ls_mask = file_mask_cut['ls_mask012'].sel(time=tt)"
   ]
  },
  {
   "cell_type": "code",
   "execution_count": null,
   "id": "dc4f1ebd-5336-405c-9b94-abc89fd79806",
   "metadata": {},
   "outputs": [],
   "source": [
    "new_isf_mask = seeded_isf_mask.combine_first(isf_mask.where(isf_mask == 1))\n",
    "new_isf_mask = new_isf_mask.where(new_isf_mask > 0,0)"
   ]
  },
  {
   "cell_type": "code",
   "execution_count": null,
   "id": "9778f4e1-e2ca-4b5d-bd02-d4ab147927c1",
   "metadata": {},
   "outputs": [],
   "source": [
    "new_isf_mask.plot()"
   ]
  },
  {
   "cell_type": "code",
   "execution_count": null,
   "id": "cfdb9b4f-5e15-4823-bb33-447a6a5ccb0a",
   "metadata": {},
   "outputs": [],
   "source": [
    "ls_mask.where(file_TS_cut['so'].max() > 0).plot()"
   ]
  },
  {
   "cell_type": "code",
   "execution_count": null,
   "id": "a33d2a10-d3c0-488e-a911-dcb3cdcd0a39",
   "metadata": {},
   "outputs": [],
   "source": [
    "plt.figure()\n",
    "iter_mask.plot()"
   ]
  },
  {
   "cell_type": "code",
   "execution_count": null,
   "id": "f6915c2d-7e8a-4c0e-af3c-8ff3f36ef0be",
   "metadata": {},
   "outputs": [],
   "source": [
    "iter_mask.plot()"
   ]
  },
  {
   "cell_type": "code",
   "execution_count": null,
   "id": "1fa9af9c-ed03-4d2e-82a4-73a5150ffdf1",
   "metadata": {},
   "outputs": [],
   "source": [
    "plt.figure()\n",
    "FRIS_00_test.plot()"
   ]
  },
  {
   "cell_type": "code",
   "execution_count": null,
   "id": "5f459094-d2d0-4f94-81c1-04afedff5741",
   "metadata": {},
   "outputs": [],
   "source": [
    "FRIS_00.where(np.isfinite(FRIS_00), 0).plot()"
   ]
  },
  {
   "cell_type": "code",
   "execution_count": null,
   "id": "3a03d9a9-91e6-40f8-a97f-ec15d3c50c5b",
   "metadata": {},
   "outputs": [],
   "source": [
    "iter_mask.where(iter_mask == 5).plot()"
   ]
  },
  {
   "cell_type": "code",
   "execution_count": null,
   "id": "ee5128cb-071e-47be-bd81-4127329bd7e2",
   "metadata": {},
   "outputs": [],
   "source": [
    "(((corr >= 5) & (mask_core == 1)) ^ (corr >= 5)).plot()"
   ]
  },
  {
   "cell_type": "code",
   "execution_count": null,
   "id": "187f812b-338a-4044-92bd-60ef9db6a130",
   "metadata": {},
   "outputs": [],
   "source": [
    "iter_mask.where(iter_mask !=5, 2).plot()"
   ]
  },
  {
   "cell_type": "code",
   "execution_count": null,
   "id": "8e0484a3-6392-4c6a-a2c6-fb10ecff5764",
   "metadata": {},
   "outputs": [],
   "source": [
    "corr.plot()"
   ]
  },
  {
   "cell_type": "code",
   "execution_count": null,
   "id": "5df4c74a-89a5-4282-961d-3fc2046fd4bc",
   "metadata": {},
   "outputs": [],
   "source": [
    "iter_mask."
   ]
  },
  {
   "cell_type": "code",
   "execution_count": null,
   "id": "6b969b36-8168-4807-9ae7-8c0d0629f582",
   "metadata": {},
   "outputs": [],
   "source": [
    "iter_mask.where((corr >= 5)).plot()"
   ]
  },
  {
   "cell_type": "code",
   "execution_count": null,
   "id": "855f40dd-162e-49f2-8f43-49c29a5edfed",
   "metadata": {},
   "outputs": [],
   "source": [
    "uf.in_range(meshx_gnd_da, [-2*dist*dx,2*dist*dx]).plot()"
   ]
  },
  {
   "cell_type": "code",
   "execution_count": null,
   "id": "1af4121a-b326-46ea-90a6-c854142f23b7",
   "metadata": {},
   "outputs": [],
   "source": [
    "meshx_gnd_da.plot()"
   ]
  },
  {
   "cell_type": "code",
   "execution_count": null,
   "id": "cada4371-6b95-4c25-8589-94653e861e9a",
   "metadata": {},
   "outputs": [],
   "source": [
    "meshx_gnd_da.plot()"
   ]
  },
  {
   "cell_type": "code",
   "execution_count": null,
   "id": "db963820-b334-47c1-9e26-9504369e32da",
   "metadata": {},
   "outputs": [],
   "source": [
    "uf.in_range(meshx_gnd_da, [-dx,dx]).plot()"
   ]
  },
  {
   "cell_type": "code",
   "execution_count": null,
   "id": "ad807fa7-6183-43c5-aac4-e742936e4ce3",
   "metadata": {},
   "outputs": [],
   "source": [
    "    dx = abs(meshx_gnd_da.x[2] - meshx_gnd_da.x[1])\n",
    "    dy = abs(meshx_gnd_da.y[2] - meshx_gnd_da.y[1])\n",
    "    \n",
    "    max_len_xy = max(len(meshx_gnd_da.x),len(meshx_gnd_da.y))\n",
    "    half_range = round(max_len_xy/2)\n",
    "    \n",
    "    mask_core = mask_gnd.where(~((uf.in_range(meshx_gnd_da, [-2*dist*dx,2*dist*dx]) # assuming that the South Pole is in the center of the projection\n",
    "                          & uf.in_range(meshy_gnd_da, [-2*dist*dy,2*dist*dy]))), 5)"
   ]
  }
 ],
 "metadata": {
  "kernelspec": {
   "display_name": "py38",
   "language": "python",
   "name": "py38"
  },
  "language_info": {
   "codemirror_mode": {
    "name": "ipython",
    "version": 3
   },
   "file_extension": ".py",
   "mimetype": "text/x-python",
   "name": "python",
   "nbconvert_exporter": "python",
   "pygments_lexer": "ipython3",
   "version": "3.8.12"
  }
 },
 "nbformat": 4,
 "nbformat_minor": 5
}
