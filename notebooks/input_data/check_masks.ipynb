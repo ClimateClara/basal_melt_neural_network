{
 "cells": [
  {
   "cell_type": "code",
   "execution_count": null,
   "id": "e196e175-e20d-4180-8c5e-37dbb4e18f4c",
   "metadata": {},
   "outputs": [],
   "source": [
    "\"\"\"\n",
    "Created on Wed Feb 01 16:21 2023\n",
    "\n",
    "Check the input masks (grounding line, ice front, ice shelves, ...)\n",
    "\n",
    "@author: Clara Burgard\n",
    "\"\"\""
   ]
  },
  {
   "cell_type": "code",
   "execution_count": null,
   "id": "bdae31f6-fcf7-45c9-a53f-09fd0c8eca05",
   "metadata": {},
   "outputs": [],
   "source": [
    "import xarray as xr\n",
    "import matplotlib.pyplot as plt\n",
    "import basal_melt_param.useful_functions as uf"
   ]
  },
  {
   "cell_type": "code",
   "execution_count": null,
   "id": "d5bd0a0d-85da-457d-898b-616df8d521aa",
   "metadata": {},
   "outputs": [],
   "source": [
    "%matplotlib qt5"
   ]
  },
  {
   "cell_type": "markdown",
   "id": "0262958f-49ba-462e-9c5e-0488e66f0080",
   "metadata": {},
   "source": [
    "READ IN DATA"
   ]
  },
  {
   "cell_type": "code",
   "execution_count": null,
   "id": "a2a095b8-9740-4e3f-9cb3-311894ca5011",
   "metadata": {},
   "outputs": [],
   "source": [
    "nemo_run = 'bi646'\n",
    "map_lim = [-3000000,3000000]\n"
   ]
  },
  {
   "cell_type": "code",
   "execution_count": null,
   "id": "e8763943-ce19-4da9-af3b-09989fdecebb",
   "metadata": {},
   "outputs": [],
   "source": [
    "outputpath_mask='/bettik/burgardc/DATA/NN_PARAM/interim/ANTARCTICA_IS_MASKS/SMITH_'+nemo_run+'/'\n",
    "inputpath_data='/bettik/burgardc/DATA/NN_PARAM/interim/SMITH_'+nemo_run+'/'\n",
    "outputpath_boxes = '/bettik/burgardc/DATA/NN_PARAM/interim/BOXES/SMITH_'+nemo_run+'/'\n"
   ]
  },
  {
   "cell_type": "code",
   "execution_count": null,
   "id": "7941f83a-b2e3-4290-bc21-8e0554c2202a",
   "metadata": {},
   "outputs": [],
   "source": [
    "file_mask = xr.open_dataset(inputpath_data+'custom_lsmask_Ant_stereo_clean.nc')#, chunks={'x': chunk_size, 'y': chunk_size})\n",
    "file_mask_cut = uf.cut_domain_stereo(file_mask, map_lim, map_lim)\n",
    "file_mask_cut = file_mask_cut.assign_coords({'time': range(len(file_mask.time))})"
   ]
  },
  {
   "cell_type": "code",
   "execution_count": null,
   "id": "0e97afe2-bc1f-4d0b-ac36-2f50c9550277",
   "metadata": {},
   "outputs": [],
   "source": [
    "file_mask_cut['ls_mask012'].isel(time=54).plot() # there are a few ice shelf patches inland"
   ]
  },
  {
   "cell_type": "code",
   "execution_count": null,
   "id": "4c72373b-3ec1-42ff-9d6d-db7b862fc1d5",
   "metadata": {},
   "outputs": [],
   "source": [
    "file_isf = xr.open_dataset(outputpath_mask + 'nemo_5km_isf_masks_and_info_and_distance_oneFRIS_yy54.nc')"
   ]
  },
  {
   "cell_type": "code",
   "execution_count": null,
   "id": "2e7bb3c5-9611-435f-b0e7-dc1d355bb92c",
   "metadata": {},
   "outputs": [],
   "source": [
    "file_isf['ground_mask'].plot()"
   ]
  },
  {
   "cell_type": "code",
   "execution_count": null,
   "id": "374ba3a5-18f8-4d2a-a231-caa778be2868",
   "metadata": {},
   "outputs": [],
   "source": [
    "file_isf['ISF_mask'].plot(vmin=0,vmax=10)"
   ]
  },
  {
   "cell_type": "code",
   "execution_count": null,
   "id": "0ab9dc11-d4e0-4ce6-8363-8fd9f899bb5f",
   "metadata": {},
   "outputs": [],
   "source": [
    "file_isf['IF_mask'].plot(vmax=10)"
   ]
  },
  {
   "cell_type": "code",
   "execution_count": null,
   "id": "8385f24f-514b-4309-bfa3-a65d831e4f50",
   "metadata": {},
   "outputs": [],
   "source": [
    "#file_isf['GL_mask'].where(file_isf['GL_mask'] == 66, drop=True).plot()\n",
    "file_isf['IF_mask'].where(file_isf['IF_mask'] == 66, drop=True).plot()"
   ]
  },
  {
   "cell_type": "code",
   "execution_count": null,
   "id": "dbdb18ad-64c3-46b7-85c3-099ce740a615",
   "metadata": {},
   "outputs": [],
   "source": [
    "file_isf['dIF'].plot(vmax=100000)"
   ]
  },
  {
   "cell_type": "code",
   "execution_count": null,
   "id": "0e3e8264-c776-42a8-8995-93dc743d9ca0",
   "metadata": {},
   "outputs": [],
   "source": [
    "box_2D = xr.open_dataset(outputpath_boxes + 'nemo_5km_boxes_2D_oneFRIS_yy35.nc')"
   ]
  },
  {
   "cell_type": "code",
   "execution_count": null,
   "id": "3433b813-c506-4ac1-a788-084e56d15b51",
   "metadata": {},
   "outputs": [],
   "source": [
    "box_2D['box_location'].sel(box_nb_tot=5).plot()"
   ]
  },
  {
   "cell_type": "code",
   "execution_count": null,
   "id": "43b3b1a6-98ac-4deb-897d-1477012671ca",
   "metadata": {},
   "outputs": [],
   "source": [
    "file_isf_00 = xr.open_dataset(outputpath_mask + 'nemo_5km_isf_masks_and_info_and_distance_oneFRIS_yy00.nc')"
   ]
  },
  {
   "cell_type": "code",
   "execution_count": null,
   "id": "4833ed90-f1f8-4ce8-a1f0-97bcfb58e7fa",
   "metadata": {},
   "outputs": [],
   "source": [
    "file_mask_54 = file_mask_cut.isel(time=54)"
   ]
  },
  {
   "cell_type": "code",
   "execution_count": null,
   "id": "f199007d-3ff8-41ed-aa85-64be21e07921",
   "metadata": {},
   "outputs": [],
   "source": [
    "isf_mask_default = file_mask_54['ls_mask012'].where(file_isf_00['ISF_mask'] < 3).combine_first(file_isf_00['ISF_mask']).plot(vmax=3)"
   ]
  },
  {
   "cell_type": "code",
   "execution_count": null,
   "id": "110f9512-e5a0-4d1f-ba4a-7b5d165a9ff7",
   "metadata": {},
   "outputs": [],
   "source": []
  }
 ],
 "metadata": {
  "kernelspec": {
   "display_name": "py38",
   "language": "python",
   "name": "py38"
  },
  "language_info": {
   "codemirror_mode": {
    "name": "ipython",
    "version": 3
   },
   "file_extension": ".py",
   "mimetype": "text/x-python",
   "name": "python",
   "nbconvert_exporter": "python",
   "pygments_lexer": "ipython3",
   "version": "3.8.12"
  }
 },
 "nbformat": 4,
 "nbformat_minor": 5
}
