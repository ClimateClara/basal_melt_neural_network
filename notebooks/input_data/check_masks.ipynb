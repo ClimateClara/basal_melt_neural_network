{
 "cells": [
  {
   "cell_type": "code",
   "execution_count": null,
   "id": "e196e175-e20d-4180-8c5e-37dbb4e18f4c",
   "metadata": {},
   "outputs": [],
   "source": [
    "\"\"\"\n",
    "Created on Wed Feb 01 16:21 2023\n",
    "\n",
    "Check the input masks (grounding line, ice front, ice shelves, ...)\n",
    "\n",
    "@author: Clara Burgard\n",
    "\"\"\""
   ]
  },
  {
   "cell_type": "code",
   "execution_count": null,
   "id": "bdae31f6-fcf7-45c9-a53f-09fd0c8eca05",
   "metadata": {},
   "outputs": [],
   "source": [
    "import xarray as xr\n",
    "import matplotlib.pyplot as plt\n",
    "import basal_melt_param.useful_functions as uf\n",
    "import matplotlib as mpl\n",
    "from tqdm.notebook import tqdm\n",
    "import basal_melt_param.plume_functions as pf"
   ]
  },
  {
   "cell_type": "code",
   "execution_count": null,
   "id": "d5bd0a0d-85da-457d-898b-616df8d521aa",
   "metadata": {},
   "outputs": [],
   "source": [
    "%matplotlib qt5"
   ]
  },
  {
   "cell_type": "markdown",
   "id": "0262958f-49ba-462e-9c5e-0488e66f0080",
   "metadata": {},
   "source": [
    "READ IN DATA"
   ]
  },
  {
   "cell_type": "code",
   "execution_count": null,
   "id": "a2a095b8-9740-4e3f-9cb3-311894ca5011",
   "metadata": {},
   "outputs": [],
   "source": [
    "nemo_run = 'bi646'\n",
    "map_lim = [-3000000,3000000]\n"
   ]
  },
  {
   "cell_type": "code",
   "execution_count": null,
   "id": "e8763943-ce19-4da9-af3b-09989fdecebb",
   "metadata": {},
   "outputs": [],
   "source": [
    "outputpath_mask='/bettik/burgardc/DATA/NN_PARAM/interim/ANTARCTICA_IS_MASKS/SMITH_'+nemo_run+'/'\n",
    "inputpath_data='/bettik/burgardc/DATA/NN_PARAM/interim/SMITH_'+nemo_run+'/'\n",
    "outputpath_boxes = '/bettik/burgardc/DATA/NN_PARAM/interim/BOXES/SMITH_'+nemo_run+'/'\n",
    "inputpath_raw = '/bettik/burgardc/DATA/NN_PARAM/raw/'"
   ]
  },
  {
   "cell_type": "code",
   "execution_count": null,
   "id": "7941f83a-b2e3-4290-bc21-8e0554c2202a",
   "metadata": {},
   "outputs": [],
   "source": [
    "file_mask = xr.open_dataset(inputpath_data+'custom_lsmask_Ant_stereo_clean.nc')#, chunks={'x': chunk_size, 'y': chunk_size})\n",
    "file_mask_cut = uf.cut_domain_stereo(file_mask, map_lim, map_lim)\n",
    "file_mask_cut = file_mask_cut.assign_coords({'time': range(len(file_mask.time))})\n",
    "\n",
    "file_TS_orig = xr.open_dataset(inputpath_data + '3D_variables_of_interest_allyy_Ant_stereo_2000.nc')\n",
    "file_TS_cut = uf.cut_domain_stereo(file_TS_orig, map_lim, map_lim)"
   ]
  },
  {
   "cell_type": "code",
   "execution_count": null,
   "id": "8992c915-7cbf-4c3b-bdca-2fbd8ba5826c",
   "metadata": {},
   "outputs": [],
   "source": [
    "file_conc = xr.open_dataset(inputpath_data+'isfdraft_conc_Ant_stereo.nc')\n",
    "file_conc_cut = uf.cut_domain_stereo(file_conc, map_lim, map_lim)\n",
    "file_conc_cut = file_conc_cut.assign_coords({'time': file_mask_cut.time})"
   ]
  },
  {
   "cell_type": "code",
   "execution_count": null,
   "id": "b68738da-1b63-4ec0-ae18-d973a476c2e2",
   "metadata": {},
   "outputs": [],
   "source": [
    "file_conc_cut['isfdraft_conc'].isel(time=30).where((file_TS_cut['so'].max('deptht') > 0), 0).plot()"
   ]
  },
  {
   "cell_type": "code",
   "execution_count": null,
   "id": "6143e1dd-d607-4ef4-b76c-594f6b23eacf",
   "metadata": {},
   "outputs": [],
   "source": [
    "file_mask_cut['ls_mask012'].isel(time=30).plot()"
   ]
  },
  {
   "cell_type": "code",
   "execution_count": null,
   "id": "0e97afe2-bc1f-4d0b-ac36-2f50c9550277",
   "metadata": {},
   "outputs": [],
   "source": [
    "file_mask_cut['ls_mask012'].isel(time=30).where((file_TS_cut['so'].max('deptht') > 0), 2).plot() # there are a few ice shelf patches inland"
   ]
  },
  {
   "cell_type": "code",
   "execution_count": null,
   "id": "7ec9bb11-ff7e-4c12-a939-14c2a6cd3de0",
   "metadata": {},
   "outputs": [],
   "source": [
    "file_TS_orig = xr.open_dataset(inputpath_data + '3D_variables_of_interest_allyy_Ant_stereo_2000.nc')"
   ]
  },
  {
   "cell_type": "code",
   "execution_count": null,
   "id": "60f5c917-b874-4827-8c70-57fa93910fd5",
   "metadata": {},
   "outputs": [],
   "source": [
    "file_TS_orig['so'].max('deptht').plot(cmap=mpl.cm.Reds_r)"
   ]
  },
  {
   "cell_type": "code",
   "execution_count": null,
   "id": "4c72373b-3ec1-42ff-9d6d-db7b862fc1d5",
   "metadata": {},
   "outputs": [],
   "source": [
    "file_isf = xr.open_dataset(outputpath_mask + 'nemo_5km_isf_masks_and_info_and_distance_oneFRIS_yy54.nc')"
   ]
  },
  {
   "cell_type": "code",
   "execution_count": null,
   "id": "2e7bb3c5-9611-435f-b0e7-dc1d355bb92c",
   "metadata": {},
   "outputs": [],
   "source": [
    "file_isf['ground_mask'].plot()"
   ]
  },
  {
   "cell_type": "code",
   "execution_count": null,
   "id": "374ba3a5-18f8-4d2a-a231-caa778be2868",
   "metadata": {},
   "outputs": [],
   "source": [
    "file_isf['ISF_mask'].plot(vmin=0,vmax=10)"
   ]
  },
  {
   "cell_type": "code",
   "execution_count": null,
   "id": "0ab9dc11-d4e0-4ce6-8363-8fd9f899bb5f",
   "metadata": {},
   "outputs": [],
   "source": [
    "file_isf['IF_mask'].plot(vmax=10)"
   ]
  },
  {
   "cell_type": "code",
   "execution_count": null,
   "id": "8385f24f-514b-4309-bfa3-a65d831e4f50",
   "metadata": {},
   "outputs": [],
   "source": [
    "#file_isf['GL_mask'].where(file_isf['GL_mask'] == 66, drop=True).plot()\n",
    "file_isf['IF_mask'].where(file_isf['IF_mask'] == 66, drop=True).plot()"
   ]
  },
  {
   "cell_type": "code",
   "execution_count": null,
   "id": "dbdb18ad-64c3-46b7-85c3-099ce740a615",
   "metadata": {},
   "outputs": [],
   "source": [
    "file_isf['dIF'].plot(vmax=100000)"
   ]
  },
  {
   "cell_type": "code",
   "execution_count": null,
   "id": "0e3e8264-c776-42a8-8995-93dc743d9ca0",
   "metadata": {},
   "outputs": [],
   "source": [
    "box_2D = xr.open_dataset(outputpath_boxes + 'nemo_5km_boxes_2D_oneFRIS_yy35.nc')"
   ]
  },
  {
   "cell_type": "code",
   "execution_count": null,
   "id": "3433b813-c506-4ac1-a788-084e56d15b51",
   "metadata": {},
   "outputs": [],
   "source": [
    "box_2D['box_location'].sel(box_nb_tot=5).plot()"
   ]
  },
  {
   "cell_type": "code",
   "execution_count": null,
   "id": "43b3b1a6-98ac-4deb-897d-1477012671ca",
   "metadata": {},
   "outputs": [],
   "source": [
    "file_isf_00 = xr.open_dataset(outputpath_mask + 'nemo_5km_isf_masks_and_info_and_distance_oneFRIS_yy00.nc')"
   ]
  },
  {
   "cell_type": "code",
   "execution_count": null,
   "id": "4833ed90-f1f8-4ce8-a1f0-97bcfb58e7fa",
   "metadata": {},
   "outputs": [],
   "source": [
    "file_mask_54 = file_mask_cut.isel(time=54)"
   ]
  },
  {
   "cell_type": "code",
   "execution_count": null,
   "id": "f199007d-3ff8-41ed-aa85-64be21e07921",
   "metadata": {},
   "outputs": [],
   "source": [
    "isf_mask_default = file_mask_54['ls_mask012'].where(file_isf_00['ISF_mask'] < 3).combine_first(file_isf_00['ISF_mask']).plot(vmax=3)"
   ]
  },
  {
   "cell_type": "code",
   "execution_count": null,
   "id": "110f9512-e5a0-4d1f-ba4a-7b5d165a9ff7",
   "metadata": {
    "tags": []
   },
   "outputs": [],
   "source": [
    "def def_ground_mask(file_msk, dist, add_fac):\n",
    "\n",
    "    \"\"\"\n",
    "    Define a mask for the Antarctic continent as such (not the islands). \n",
    "    \n",
    "    This function defines the points that are part of the Antarctic continent as such (not the islands). \n",
    "    \n",
    "    Parameters\n",
    "    ----------\n",
    "    file_msk : xr.DataArray\n",
    "        Mask separating ocean (0), ice shelves (between 0 and 2, excluding 0 and 2), grounded ice (2)\n",
    "    dist : int\n",
    "        Defines the size of the starting square - should be small if the resolution is coarse and high if the resolution is fine. Default is currently 150 but you can play around. A good indicator to see if it is too high is if you see the small upper tail of the Ross ice shelf or if it is masked as ground.\n",
    "    add_fac : int\n",
    "       Defines additional iterations. Was introduced to get to the end of the Antarctic Peninsula, sometimes it would not get there otherwise. Current default is 100 but you are welcome to play around with it.\n",
    "    Returns\n",
    "    -------\n",
    "    mask_ground : xr.DataArray\n",
    "        Array showing the coverage of the Antarctic continent (0 for islands, 1 for ocean and ice shelves, 2 for mainland)\n",
    "    \"\"\"  \n",
    "    \n",
    "    mask_10 = file_msk.where(file_msk == 2, 0).where(file_msk != 2,1) #set all ice shelves and open ocean to 0, set all grounded ice to 1\n",
    "\n",
    "    mask_gnd = mask_10.where(mask_10>0, drop=True)\n",
    "    mask_gnd = mask_gnd.where(mask_gnd>0,0)\n",
    "    \n",
    "    meshx_gnd, meshy_gnd = np.meshgrid(mask_gnd.x,mask_gnd.y)\n",
    "    meshx_gnd_da = mask_gnd.copy(data=np.broadcast_to(meshx_gnd, mask_gnd.shape))\n",
    "    meshy_gnd_da = mask_gnd.copy(data=np.broadcast_to(meshy_gnd, mask_gnd.shape))\n",
    "    \n",
    "    dx = abs(meshx_gnd_da.x[2] - meshx_gnd_da.x[1])\n",
    "    dy = abs(meshx_gnd_da.y[2] - meshx_gnd_da.y[1])\n",
    "    \n",
    "    max_len_xy = max(len(meshx_gnd_da.x),len(meshx_gnd_da.y))\n",
    "    half_range = round(max_len_xy/2)\n",
    "    \n",
    "    mask_core = mask_gnd.where(~((uf.in_range(meshx_gnd_da, [-2*dist*dx,2*dist*dx]) # assuming that the South Pole is in the center of the projection\n",
    "                          & uf.in_range(meshy_gnd_da, [-2*dist*dy,2*dist*dy]))), 5)\n",
    "    \n",
    "    # filter that checks the point around\n",
    "    weights_filter = np.zeros((3,3))\n",
    "    weights_filter[0,1] = 1\n",
    "    weights_filter[1,0] = 1\n",
    "    weights_filter[1,2] = 1\n",
    "    weights_filter[2,1] = 1\n",
    "    \n",
    "    weights_da = xr.DataArray(data=weights_filter,dims=['y0','x0'])\n",
    "    \n",
    "    if 'time' in mask_gnd.dims:\n",
    "\n",
    "        iter_list = []\n",
    "        for tt,timet in enumerate(tqdm(mask_gnd.time)):\n",
    "\n",
    "            mask_core_tt = mask_core.isel(time=tt)\n",
    "            iter_mask = mask_core_tt.copy()\n",
    "            for n in range(half_range+2*dist+add_fac):\n",
    "                corr = pf.xr_nd_corr_v2(iter_mask, weights_filter)\n",
    "                iter_mask = iter_mask.where(~((corr >= 5) & (mask_core_tt == 1)),5)\n",
    "\n",
    "            iter_list.append(iter_mask)\n",
    "\n",
    "        iter_mask_all = xr.concat(iter_list,dim='time')\n",
    "        iter_mask_all = iter_mask_all.assign_coords({'time': mask_gnd.time})\n",
    "\n",
    "        mask_ground = iter_mask_all.where(iter_mask_all !=5, 2).reindex_like(mask_10)\n",
    "    \n",
    "    else:\n",
    "        \n",
    "        iter_mask = mask_core.copy()\n",
    "        for n in tqdm(range(half_range+2*dist+add_fac)):\n",
    "            corr = pf.xr_nd_corr_v2(iter_mask, weights_filter)\n",
    "            iter_mask = iter_mask.where(~((corr >= 5) & (mask_core == 1)),5)\n",
    "\n",
    "        mask_ground = iter_mask.where(iter_mask !=5, 2).reindex_like(mask_10)\n",
    "        \n",
    "    mask_ground = mask_ground.where(mask_ground>0,0)\n",
    "    \n",
    "    return mask_ground"
   ]
  },
  {
   "cell_type": "code",
   "execution_count": null,
   "id": "f91192cd-f9ce-4774-b6c8-2507a140fce7",
   "metadata": {},
   "outputs": [],
   "source": [
    "file_isf_00['ISF_mask'].plot()"
   ]
  },
  {
   "cell_type": "code",
   "execution_count": null,
   "id": "d170f660-7969-494b-acf7-a7e4c5f50e05",
   "metadata": {},
   "outputs": [],
   "source": [
    "FRIS_00 = file_conc_cut['isfdraft_conc'].isel(time=0).where(file_isf_00['ISF_mask'] == 11, drop=True)\n",
    "FRIS_00_test = file_conc_cut['isfdraft_conc'].isel(time=0).where(file_isf_00['ISF_mask'] == 11, drop=True) * 0 + 1\n",
    "FRIS_00_test = FRIS_00_test.where(np.isfinite(FRIS_00_test),0)"
   ]
  },
  {
   "cell_type": "code",
   "execution_count": null,
   "id": "3814ebad-1e61-48f9-9cd8-2ce03af9a006",
   "metadata": {},
   "outputs": [],
   "source": [
    "FRIS_00_test.plot()"
   ]
  },
  {
   "cell_type": "code",
   "execution_count": null,
   "id": "20d80445-74ee-4f2c-b27e-3ae03689b4d8",
   "metadata": {},
   "outputs": [],
   "source": [
    "### THIS IS THE ROUTINE THAT NEEDS TO BE IMPLEMENTED IN MASK SCRIPTS => WORKS WELL\n",
    "dist = 1\n",
    "dist_2 = 4\n",
    "add_fac = 100\n",
    "tt = 0\n",
    "\n",
    "file_isf = xr.open_dataset(outputpath_mask + 'nemo_5km_isf_masks_and_info_and_distance_oneFRIS_yy'+str(tt).zfill(2)+'.nc').drop('time')\n",
    "isf_conc_tt = file_conc_cut['isfdraft_conc'].sel(time=tt)\n",
    "isf_mask = file_isf['ISF_mask']\n",
    "ground_mask = file_isf['ground_mask']\n",
    "seeded_isf_mask = isf_mask.copy() * np.nan\n",
    "\n",
    "for kisf in tqdm(file_isf.Nisf.where(file_isf.Nisf >= 10, drop=True)):\n",
    "    \n",
    "    seed_mask = isf_conc_tt.where(isf_mask == kisf, drop=True) * 0 + 1\n",
    "    seed_mask = seed_mask.where(np.isfinite(seed_mask),0)\n",
    "    \n",
    "    meshx_gnd, meshy_gnd = np.meshgrid(seed_mask.x,seed_mask.y)\n",
    "    meshx_gnd_da = seed_mask.copy(data=np.broadcast_to(meshx_gnd, seed_mask.shape))\n",
    "    meshy_gnd_da = seed_mask.copy(data=np.broadcast_to(meshy_gnd, seed_mask.shape))\n",
    "    \n",
    "    if ((len(meshx_gnd_da.x) > 3) and (len(meshx_gnd_da.y) > 3)) :\n",
    "        dx = abs(meshx_gnd_da.x[1] - meshx_gnd_da.x[0])\n",
    "        dy = abs(meshx_gnd_da.y[1] - meshx_gnd_da.y[0])\n",
    "\n",
    "        center_x = (meshx_gnd_da.x.max() + meshx_gnd_da.x.min())/2\n",
    "        center_y = (meshx_gnd_da.y.max() + meshx_gnd_da.y.min())/2\n",
    "\n",
    "        max_len_xy = max(len(meshx_gnd_da.x),len(meshx_gnd_da.y))\n",
    "        half_range = round(max_len_xy/2)\n",
    "\n",
    "        mask_core_range = ((uf.in_range(meshx_gnd_da, [-1*dist*dx + center_x,center_x + 1*dist*dx]) \n",
    "                              & uf.in_range(meshy_gnd_da, [-1*dist*dy + center_y,center_y +1*dist*dy])))\n",
    "\n",
    "        if seed_mask.where(mask_core_range).max() < 1: # if the ice shelf is not in the middle of the cell\n",
    "            n = 0\n",
    "            while seed_mask.where(mask_core_range).max() < 1:\n",
    "                #print(seed_mask.where(mask_core_range).max().values)\n",
    "                center_x = meshx_gnd_da.x.min() + n*dx\n",
    "                mask_core_range = ((uf.in_range(meshx_gnd_da, [-1*dist*dx + center_x,center_x + 1*dist*dx]) \n",
    "                        & uf.in_range(meshy_gnd_da, [-1*dist*dy + center_y,center_y +1*dist*dy])))\n",
    "                n = n+1\n",
    "\n",
    "\n",
    "        mask_core = seed_mask.where(~((uf.in_range(meshx_gnd_da, [-1*dist*dx + center_x,center_x + 1*dist*dx]) # assuming that the South Pole is in the center of the projection\n",
    "                              & uf.in_range(meshy_gnd_da, [-1*dist*dy + center_y,center_y +1*dist*dy]))), 5)\n",
    "\n",
    "        # filter that checks the point around\n",
    "        weights_filter = np.zeros((3,3))\n",
    "        weights_filter[0,1] = 1\n",
    "        weights_filter[1,0] = 1\n",
    "        weights_filter[1,2] = 1\n",
    "        weights_filter[2,1] = 1\n",
    "\n",
    "        weights_da = xr.DataArray(data=weights_filter,dims=['y0','x0'])\n",
    "\n",
    "        iter_mask = mask_core.copy()\n",
    "        for n in range(half_range+2*dist+add_fac):\n",
    "            corr = pf.xr_nd_corr_v2(iter_mask, weights_filter)\n",
    "            iter_mask = iter_mask.where(~((corr >= 5) & (mask_core == 1)),5)\n",
    "\n",
    "        iter_mask = iter_mask.where(iter_mask == 5)\n",
    "        iter_mask = iter_mask * 0 + kisf\n",
    "\n",
    "        kisf_reg_grid = iter_mask.reindex_like(isf_mask)    \n",
    "        seeded_isf_mask = seeded_isf_mask.combine_first(kisf_reg_grid)\n",
    "\n",
    "new_isf_mask = seeded_isf_mask.combine_first(isf_mask.where(isf_mask == 0))\n",
    "new_isf_mask = new_isf_mask.where(new_isf_mask > 0,0)\n",
    "#mask_ground = iter_mask.where(iter_mask !=5, 2).reindex_like(mask_10)\n",
    "\n",
    "#mask_ground = mask_ground.where(mask_ground>0,0)"
   ]
  },
  {
   "cell_type": "code",
   "execution_count": null,
   "id": "cb773ebb-afe5-4b8b-bf87-e502212c4097",
   "metadata": {},
   "outputs": [],
   "source": [
    "mask_33 = new_isf_mask.copy()"
   ]
  },
  {
   "cell_type": "code",
   "execution_count": null,
   "id": "e5c38195-93df-4ce2-8269-3132413e0e06",
   "metadata": {},
   "outputs": [],
   "source": [
    "mask_33.plot()"
   ]
  },
  {
   "cell_type": "code",
   "execution_count": null,
   "id": "0cf406eb-175e-418f-b6cb-993b842c7551",
   "metadata": {},
   "outputs": [],
   "source": [
    "### THIS IS THE ROUTINE THAT NEEDS TO BE IMPLEMENTED IN MASK SCRIPTS => WORKS WELL\n",
    "dist = 1\n",
    "dist2 = 10\n",
    "add_fac = 100\n",
    "tt = 34\n",
    "kisf = 53\n",
    "\n",
    "file_isf = xr.open_dataset(outputpath_mask + 'nemo_5km_isf_masks_and_info_and_distance_oneFRIS_yy'+str(tt).zfill(2)+'.nc').drop('time')\n",
    "isf_conc_tt = file_conc_cut['isfdraft_conc'].sel(time=tt)\n",
    "isf_mask_prev = mask_33\n",
    "isf_mask = file_isf['ISF_mask']\n",
    "ground_mask = file_isf['ground_mask']\n",
    "seeded_isf_mask = isf_mask.copy() * np.nan\n",
    "\n",
    "#for kisf in tqdm(file_isf.Nisf.where(file_isf.Nisf >= 10, drop=True)):\n",
    "\n",
    "if kisf == 53:\n",
    "    dist2 = 100\n",
    "\n",
    "if (isf_mask_prev == kisf).sum() > 1:\n",
    "    isf_domain = isf_conc_tt.where(isf_mask_prev == kisf, drop=True) * 0 + 1\n",
    "elif (isf_mask == kisf).sum() > 1:\n",
    "    isf_domain = isf_conc_tt.where(isf_mask == kisf, drop=True) * 0 + 1\n",
    "isf_domain = isf_domain.where(np.isfinite(isf_domain),0)\n",
    "\n",
    "\n",
    "if ((len(isf_domain.x) > 3) and (len(isf_domain.y) > 3)) :\n",
    "\n",
    "    dx = abs(isf_domain.x[1] - isf_domain.x[0])\n",
    "    dy = abs(isf_domain.y[1] - isf_domain.y[0])\n",
    "\n",
    "    meshx_restric, meshy_restric = np.meshgrid(isf_domain.x,isf_domain.y)\n",
    "    meshx_restric_da = isf_domain.copy(data=np.broadcast_to(meshx_restric, isf_domain.shape))\n",
    "    meshy_restric_da = isf_domain.copy(data=np.broadcast_to(meshy_restric, isf_domain.shape))\n",
    "\n",
    "    center_x = (meshx_restric_da.x.max() + meshx_restric_da.x.min())/2\n",
    "    center_y = (meshy_restric_da.y.max() + meshy_restric_da.y.min())/2\n",
    "\n",
    "    max_len_xy = max(len(meshx_restric_da.x),len(meshy_restric_da.y))\n",
    "    half_range = round(max_len_xy/2)\n",
    "\n",
    "    mask_core_range = ((uf.in_range(meshx_restric_da, [-1*dist*dx + center_x,center_x + 1*dist*dx]) \n",
    "                          & uf.in_range(meshy_restric_da, [-1*dist*dy + center_y,center_y +1*dist*dy])))\n",
    "\n",
    "    if isf_domain.where(mask_core_range).max() < 1: # if the ice shelf is not in the middle of the cell\n",
    "        n = 0\n",
    "        while isf_domain.where(mask_core_range).max() < 1:\n",
    "            #print(center_x)\n",
    "            #print(seed_mask.where(mask_core_range).max().values)\n",
    "            center_x = isf_domain.x.min() + n*dx\n",
    "            mask_core_range = ((uf.in_range(meshx_restric_da, [-1*dist*dx + center_x,center_x + 1*dist*dx]) \n",
    "                    & uf.in_range(meshy_restric_da, [-1*dist*dy + center_y,center_y +1*dist*dy])))\n",
    "            n = n+1\n",
    "\n",
    "    # enlarge the domain\n",
    "    if isf_domain.x[0] < isf_domain.x[1]:\n",
    "        xxrange = np.arange(isf_domain.x.min() - dist2*dx, isf_domain.x.max() + dist2*dx,dx)\n",
    "    else:\n",
    "        xxrange = np.arange(isf_domain.x.max() + dist2*dx, isf_domain.x.min() - dist2*dx,-dx)\n",
    "\n",
    "    if isf_domain.y[0] < isf_domain.y[1]:\n",
    "        yyrange = np.arange(isf_domain.y.min() - dist2*dy, isf_domain.y.max() + dist2*dy,dy)\n",
    "    else:\n",
    "        yyrange = np.arange(isf_domain.y.max() + dist2*dy, isf_domain.y.min() - dist2*dy,-dy)\n",
    "\n",
    "    new_domain = isf_conc_tt.sel(x=xxrange,y=yyrange) \n",
    "    seed_mask = isf_conc_tt.where(new_domain, drop=True) * 0 + 1\n",
    "    seed_mask = seed_mask.where(np.isfinite(seed_mask),0)\n",
    "\n",
    "    meshx_gnd, meshy_gnd = np.meshgrid(seed_mask.x,seed_mask.y)\n",
    "    meshx_gnd_da = seed_mask.copy(data=np.broadcast_to(meshx_gnd, seed_mask.shape))\n",
    "    meshy_gnd_da = seed_mask.copy(data=np.broadcast_to(meshy_gnd, seed_mask.shape))\n",
    "\n",
    "\n",
    "    mask_core = seed_mask.where(~((uf.in_range(meshx_gnd_da, [-1*dist*dx + center_x,center_x + 1*dist*dx]) # assuming that the South Pole is in the center of the projection\n",
    "                          & uf.in_range(meshy_gnd_da, [-1*dist*dy + center_y,center_y +1*dist*dy]))), 5)\n",
    "\n",
    "    # filter that checks the point around\n",
    "    weights_filter = np.zeros((3,3))\n",
    "    weights_filter[0,1] = 1\n",
    "    weights_filter[1,0] = 1\n",
    "    weights_filter[1,2] = 1\n",
    "    weights_filter[2,1] = 1\n",
    "\n",
    "    weights_da = xr.DataArray(data=weights_filter,dims=['y0','x0'])\n",
    "\n",
    "    iter_mask = mask_core.copy()\n",
    "    for n in range(half_range+2*dist+add_fac):\n",
    "        corr = pf.xr_nd_corr_v2(iter_mask, weights_filter)\n",
    "        iter_mask = iter_mask.where(~((corr >= 5) & (mask_core == 1)),5)\n",
    "\n",
    "    iter_mask = iter_mask.where(iter_mask == 5)\n",
    "    iter_mask = iter_mask * 0 + kisf\n",
    "\n",
    "    kisf_reg_grid = iter_mask.reindex_like(isf_mask)    \n",
    "    seeded_isf_mask = seeded_isf_mask.combine_first(kisf_reg_grid)\n",
    "\n",
    "new_isf_mask = seeded_isf_mask.combine_first(isf_mask.where(isf_mask == 0))\n",
    "new_isf_mask = new_isf_mask.where(new_isf_mask > 0,0)\n",
    "#mask_ground = iter_mask.where(iter_mask !=5, 2).reindex_like(mask_10)\n",
    "\n",
    "#mask_ground = mask_ground.where(mask_ground>0,0)"
   ]
  },
  {
   "cell_type": "code",
   "execution_count": null,
   "id": "7cb49e73-fb97-4622-b5c9-e1c833041f9b",
   "metadata": {},
   "outputs": [],
   "source": [
    "iter_mask.plot()"
   ]
  },
  {
   "cell_type": "code",
   "execution_count": null,
   "id": "b163386e-8681-490a-83e9-0093f25edc51",
   "metadata": {},
   "outputs": [],
   "source": [
    "isf_conc_tt.where(file_isf['ISF_mask']==53).plot()"
   ]
  },
  {
   "cell_type": "code",
   "execution_count": null,
   "id": "d14cb9b1-4aab-4d1c-9217-de1289c0357f",
   "metadata": {},
   "outputs": [],
   "source": [
    "new_isf_mask.plot()#.plot(vmin=25,vmax=27)"
   ]
  },
  {
   "cell_type": "code",
   "execution_count": null,
   "id": "8b90bbf1-4fa0-4b15-a10d-28057400ce45",
   "metadata": {},
   "outputs": [],
   "source": [
    "isf_conc_tt.where(new_isf_mask < 1).plot()"
   ]
  },
  {
   "cell_type": "code",
   "execution_count": null,
   "id": "58dd5429-6a92-4808-97e2-0cdde40f6432",
   "metadata": {},
   "outputs": [],
   "source": []
  },
  {
   "cell_type": "code",
   "execution_count": null,
   "id": "9f641252-da8d-45b8-bbf7-3700106716a0",
   "metadata": {},
   "outputs": [],
   "source": [
    "file_isf['Nisf'].where(file_isf['isf_name'] == 'Cosgrove')"
   ]
  },
  {
   "cell_type": "code",
   "execution_count": null,
   "id": "8ab341e0-c0b1-41d4-bcdd-63b4e8c34f5b",
   "metadata": {},
   "outputs": [],
   "source": [
    "meshy_restric_da.plot()"
   ]
  },
  {
   "cell_type": "code",
   "execution_count": null,
   "id": "e0727d12-9ffb-410f-9d5d-362e1929c29e",
   "metadata": {},
   "outputs": [],
   "source": [
    "iter_mask.plot()"
   ]
  },
  {
   "cell_type": "code",
   "execution_count": null,
   "id": "6c179ef3-108d-4a0e-abc4-6ecfb55a01ec",
   "metadata": {},
   "outputs": [],
   "source": [
    "seed_mask.plot()"
   ]
  },
  {
   "cell_type": "code",
   "execution_count": null,
   "id": "ddb79699-90c3-44ea-84a9-73eaa8693c87",
   "metadata": {},
   "outputs": [],
   "source": [
    "mask_core_range.plot()"
   ]
  },
  {
   "cell_type": "code",
   "execution_count": null,
   "id": "7de79630-c4b3-47d2-97e7-b37b285eb0ba",
   "metadata": {},
   "outputs": [],
   "source": [
    "isf_domain.plot()"
   ]
  },
  {
   "cell_type": "code",
   "execution_count": null,
   "id": "33a483cf-7846-43fe-8b21-cb0b12d6722a",
   "metadata": {},
   "outputs": [],
   "source": [
    "meshx_restric_da.plot()"
   ]
  },
  {
   "cell_type": "code",
   "execution_count": null,
   "id": "cc3a4001-e457-462a-b369-301287350bb7",
   "metadata": {},
   "outputs": [],
   "source": [
    "mask_core.plot()"
   ]
  },
  {
   "cell_type": "code",
   "execution_count": null,
   "id": "4f37e209-9bd0-4269-ba61-d8b3f135a3de",
   "metadata": {},
   "outputs": [],
   "source": [
    "isf_domain.x.min() + n*dx"
   ]
  },
  {
   "cell_type": "code",
   "execution_count": null,
   "id": "8ce9d20d-1fc5-4660-94ac-adc199fa821a",
   "metadata": {},
   "outputs": [],
   "source": [
    "mask_33.plot()"
   ]
  },
  {
   "cell_type": "code",
   "execution_count": null,
   "id": "5e2adc86-3b86-4bb5-9669-2af592596bdd",
   "metadata": {},
   "outputs": [],
   "source": [
    "new_isf_mask.plot(vmin=24,vmax=26)"
   ]
  },
  {
   "cell_type": "code",
   "execution_count": null,
   "id": "06124702-b7eb-42c5-a9d6-f16f56a1447a",
   "metadata": {},
   "outputs": [],
   "source": [
    "file_isf['isf_name'].sel(Nisf=25)"
   ]
  },
  {
   "cell_type": "code",
   "execution_count": null,
   "id": "d785983d-9eda-43bc-a34d-a9866a2e2e4b",
   "metadata": {},
   "outputs": [],
   "source": [
    "isf_conc_tt.where(new_isf_mask==0).plot()"
   ]
  },
  {
   "cell_type": "code",
   "execution_count": null,
   "id": "81463c3b-042d-44c5-8b06-1e177538e371",
   "metadata": {},
   "outputs": [],
   "source": [
    "drainage_basins_file = xr.open_dataset(inputpath_raw + 'IceBoundaries_Y2015-2017_Antarctica_v2.2.1.nc')\n",
    "drainage_basins = drainage_basins_file['Ice_Shelf_Basins_ID'].sel(x=isf_conc_tt.x,y=isf_conc_tt.y)"
   ]
  },
  {
   "cell_type": "code",
   "execution_count": null,
   "id": "651797ea-d269-4a76-92bb-fb66e21e7bfd",
   "metadata": {},
   "outputs": [],
   "source": [
    "drainage_basins.where(isf_conc_tt>0).plot()"
   ]
  },
  {
   "cell_type": "code",
   "execution_count": null,
   "id": "ff6f9235-aeaa-4241-bfaf-db31abcc5328",
   "metadata": {},
   "outputs": [],
   "source": [
    "isf_conc_tt.where(np.isnan(drainage_basins)).plot()"
   ]
  },
  {
   "cell_type": "code",
   "execution_count": null,
   "id": "49219415-85d1-49be-ad1b-2f8727ecb205",
   "metadata": {},
   "outputs": [],
   "source": [
    "isf_domain.x.max()"
   ]
  },
  {
   "cell_type": "code",
   "execution_count": null,
   "id": "503e6e5f-87f1-43d6-9daa-764b1593595b",
   "metadata": {},
   "outputs": [],
   "source": [
    "isf_domain.x.min()"
   ]
  },
  {
   "cell_type": "code",
   "execution_count": null,
   "id": "c9a56b36-2236-4479-a99e-8ab144629f70",
   "metadata": {},
   "outputs": [],
   "source": [
    "xxrange"
   ]
  },
  {
   "cell_type": "code",
   "execution_count": null,
   "id": "00d6eb50-06c1-4817-a180-e894f29c53e2",
   "metadata": {},
   "outputs": [],
   "source": [
    "seed_mask.x"
   ]
  },
  {
   "cell_type": "code",
   "execution_count": null,
   "id": "2dbf8b07-6964-4263-891c-506c5506d7a0",
   "metadata": {},
   "outputs": [],
   "source": [
    "plt.figure()\n",
    "isf_mask_prev.where(isf_mask_prev == 38).plot()"
   ]
  },
  {
   "cell_type": "code",
   "execution_count": null,
   "id": "c40b3163-b0b5-469a-9840-bf8f20f7ed59",
   "metadata": {},
   "outputs": [],
   "source": [
    "seed_mask = isf_conc_tt.sel(x=xxrange,y=yyrange).plot()"
   ]
  },
  {
   "cell_type": "code",
   "execution_count": null,
   "id": "8f1c35b9-2dcb-43ea-a733-4fb8fe4fae22",
   "metadata": {},
   "outputs": [],
   "source": [
    "iter_mask.plot()"
   ]
  },
  {
   "cell_type": "code",
   "execution_count": null,
   "id": "81e663d2-d781-4b84-906f-d631822913e8",
   "metadata": {},
   "outputs": [],
   "source": [
    "seed_mask.plot()"
   ]
  },
  {
   "cell_type": "code",
   "execution_count": null,
   "id": "cca6fbb5-ee27-4f64-907e-92821ac90298",
   "metadata": {},
   "outputs": [],
   "source": [
    "xxrange"
   ]
  },
  {
   "cell_type": "code",
   "execution_count": null,
   "id": "74192cbc-fc53-4299-8d0c-48013f693404",
   "metadata": {},
   "outputs": [],
   "source": [
    "mask_33.plot(vmin=74,vmax=76)"
   ]
  },
  {
   "cell_type": "code",
   "execution_count": null,
   "id": "24a8ec4c-1450-4650-8db1-84dcfd04c6b2",
   "metadata": {},
   "outputs": [],
   "source": [
    "file_isf['ISF_mask'].where(file_isf['ISF_mask']==80).plot()"
   ]
  },
  {
   "cell_type": "code",
   "execution_count": null,
   "id": "ed7c7c10-2395-48f5-bd3e-b1e842293190",
   "metadata": {},
   "outputs": [],
   "source": [
    "mask_33 = new_isf_mask.copy()"
   ]
  },
  {
   "cell_type": "code",
   "execution_count": null,
   "id": "eb44b66f-1d34-47b3-919a-1bb3bad119e6",
   "metadata": {},
   "outputs": [],
   "source": [
    "isf_conc_tt.where(new_isf_mask<2).plot()"
   ]
  },
  {
   "cell_type": "code",
   "execution_count": null,
   "id": "acc1b5eb-200a-4e7f-b836-8f61d80cf149",
   "metadata": {},
   "outputs": [],
   "source": [
    "seed_mask = isf_conc_tt.where(isf_mask == 10, drop=True) * 0 + 1"
   ]
  },
  {
   "cell_type": "code",
   "execution_count": null,
   "id": "e74bfb3f-7f7b-450c-a5bd-d1dae6f871c0",
   "metadata": {},
   "outputs": [],
   "source": [
    "file_isf['ISF_mask'].where(file_isf['ISF_mask']==75).plot()"
   ]
  },
  {
   "cell_type": "code",
   "execution_count": null,
   "id": "cf6a88f1-7be2-40e1-9fb7-e2edaf4bec03",
   "metadata": {},
   "outputs": [],
   "source": [
    "new_isf_mask.plot()"
   ]
  },
  {
   "cell_type": "code",
   "execution_count": null,
   "id": "a0de24ce-8f03-4918-a202-7fe3d4468aeb",
   "metadata": {},
   "outputs": [],
   "source": [
    "plt.figure()\n",
    "new_isf_mask.where(new_isf_mask==10).plot()"
   ]
  },
  {
   "cell_type": "code",
   "execution_count": null,
   "id": "e613c79c-fe8a-43a5-bb48-80fd338cd254",
   "metadata": {},
   "outputs": [],
   "source": [
    "(new_isf_mask - file_isf['ISF_mask']).plot()"
   ]
  },
  {
   "cell_type": "code",
   "execution_count": null,
   "id": "272250d2-2a1a-4219-a91f-dd91f146d48b",
   "metadata": {},
   "outputs": [],
   "source": [
    "plt.figure()\n",
    "file_isf['ISF_mask'].plot()"
   ]
  },
  {
   "cell_type": "code",
   "execution_count": null,
   "id": "8227adf8-ca03-4766-94b7-f948ab3bf9b0",
   "metadata": {},
   "outputs": [],
   "source": [
    "file_isf['isf_name'].sel(Nisf=23)"
   ]
  },
  {
   "cell_type": "code",
   "execution_count": null,
   "id": "c6ee0828-76e9-4d5b-b937-b701523336d6",
   "metadata": {},
   "outputs": [],
   "source": [
    "center_x = (meshx_gnd_da.x.max() + meshx_gnd_da.x.min())/2\n",
    "    \n",
    "mask_core_range = ((uf.in_range(meshx_gnd_da, [-1*dist*dx + center_x,center_x + 1*dist*dx]) \n",
    "                          & uf.in_range(meshy_gnd_da, [-1*dist*dy + center_y,center_y +1*dist*dy])))"
   ]
  },
  {
   "cell_type": "code",
   "execution_count": null,
   "id": "9b8cb114-ac8a-4cf2-86f5-7ce3a14861bc",
   "metadata": {},
   "outputs": [],
   "source": [
    "seed_mask.plot()"
   ]
  },
  {
   "cell_type": "code",
   "execution_count": null,
   "id": "b88d46d4-cdb4-47ea-bf9e-25ad6c8d56f4",
   "metadata": {
    "tags": []
   },
   "outputs": [],
   "source": [
    "### THIS IS TO TEST FOR REMOVING\n",
    "dist = 1\n",
    "add_fac = 100\n",
    "tt = 30\n",
    "\n",
    "file_isf = xr.open_dataset(outputpath_mask + 'nemo_5km_isf_masks_and_info_and_distance_oneFRIS_yy'+str(tt).zfill(2)+'.nc').drop('time')\n",
    "isf_conc_tt = file_conc_cut['isfdraft_conc'].sel(time=tt)\n",
    "isf_mask = file_isf['ISF_mask']\n",
    "ground_mask = file_isf['ground_mask']\n",
    "seeded_isf_mask = isf_mask.copy() * np.nan\n",
    "\n",
    "kisf = 25\n",
    "seed_mask = isf_conc_tt.where(isf_mask == kisf, drop=True) * 0 + 1\n",
    "seed_mask = seed_mask.where(np.isfinite(seed_mask),0)\n",
    "\n",
    "meshx_gnd, meshy_gnd = np.meshgrid(seed_mask.x,seed_mask.y)\n",
    "meshx_gnd_da = seed_mask.copy(data=np.broadcast_to(meshx_gnd, seed_mask.shape))\n",
    "meshy_gnd_da = seed_mask.copy(data=np.broadcast_to(meshy_gnd, seed_mask.shape))\n",
    "\n",
    "if ((len(meshx_gnd_da.x) > 3) and (len(meshx_gnd_da.y) > 3)) :\n",
    "    dx = abs(meshx_gnd_da.x[1] - meshx_gnd_da.x[0])\n",
    "    dy = abs(meshx_gnd_da.y[1] - meshx_gnd_da.y[0])\n",
    "\n",
    "    center_x = (meshx_gnd_da.x.max() + meshx_gnd_da.x.min())/2\n",
    "    center_y = (meshx_gnd_da.y.max() + meshx_gnd_da.y.min())/2\n",
    "\n",
    "    max_len_xy = max(len(meshx_gnd_da.x),len(meshx_gnd_da.y))\n",
    "    half_range = round(max_len_xy/2)\n",
    "\n",
    "#    mask_core = seed_mask.where(~((uf.in_range(meshx_gnd_da, [-1*dist*dx + center_x,center_x + 1*dist*dx]) # assuming that the South Pole is in the center of the projection\n",
    "#                          & uf.in_range(meshy_gnd_da, [-1*dist*dy + center_y,center_y +1*dist*dy]))), 5)\n",
    "    \n",
    "    mask_core_range = ((uf.in_range(meshx_gnd_da, [-1*dist*dx + center_x,center_x + 1*dist*dx]) \n",
    "                          & uf.in_range(meshy_gnd_da, [-1*dist*dy + center_y,center_y +1*dist*dy])))\n",
    "    \n",
    "    if seed_mask.where(mask_core_range).max() < 1: # if the ice shelf is not in the middle of the cell\n",
    "        n = 0\n",
    "        while seed_mask.where(mask_core_range).max() < 1:\n",
    "            print(seed_mask.where(mask_core_range).max().values)\n",
    "            center_x = meshx_gnd_da.x.min() + n*dx\n",
    "            mask_core_range = ((uf.in_range(meshx_gnd_da, [-1*dist*dx + center_x,center_x + 1*dist*dx]) \n",
    "                    & uf.in_range(meshy_gnd_da, [-1*dist*dy + center_y,center_y +1*dist*dy])))\n",
    "            n = n+1\n",
    "\n",
    "        \n",
    "#    if seed_mask.sel(x=center_x,y=center_y) < 2:\n",
    "#        center_x = 0\n",
    "#    while seed_mask.sel(x=center_x+dx,y=center_y+dy) < 2:\n",
    "#          center_x = center_x + 1\n",
    "    mask_core = seed_mask.where(~((uf.in_range(meshx_gnd_da, [-1*dist*dx + center_x,center_x + 1*dist*dx]) # assuming that the South Pole is in the center of the projection\n",
    "                          & uf.in_range(meshy_gnd_da, [-1*dist*dy + center_y,center_y +1*dist*dy]))), 5)\n",
    "\n",
    "    # filter that checks the point around\n",
    "    weights_filter = np.zeros((3,3))\n",
    "    weights_filter[0,1] = 1\n",
    "    weights_filter[1,0] = 1\n",
    "    weights_filter[1,2] = 1\n",
    "    weights_filter[2,1] = 1\n",
    "\n",
    "    weights_da = xr.DataArray(data=weights_filter,dims=['y0','x0'])\n",
    "\n",
    "    iter_mask = mask_core.copy()\n",
    "    for n in range(half_range+2*dist+add_fac):\n",
    "        corr = pf.xr_nd_corr_v2(iter_mask, weights_filter)\n",
    "        iter_mask = iter_mask.where(~((corr >= 5) & (mask_core == 1)),5)\n",
    "\n",
    "    iter_mask = iter_mask.where(iter_mask == 5)\n",
    "    iter_mask = iter_mask * 0 + kisf\n",
    "\n",
    "    #kisf_reg_grid = iter_mask.reindex_like(isf_mask)    \n",
    "    #seeded_isf_mask = seeded_isf_mask.combine_first(kisf_reg_grid)\n",
    "\n",
    "#new_isf_mask = seeded_isf_mask.combine_first(isf_mask.where(isf_mask == 0))\n",
    "#new_isf_mask = new_isf_mask.where(new_isf_mask > 0,0)\n",
    "#mask_ground = iter_mask.where(iter_mask !=5, 2).reindex_like(mask_10)\n",
    "\n",
    "#mask_ground = mask_ground.where(mask_ground>0,0)"
   ]
  },
  {
   "cell_type": "code",
   "execution_count": null,
   "id": "60c2f334-7f9e-4a7b-826c-dce5e6c49db6",
   "metadata": {},
   "outputs": [],
   "source": []
  },
  {
   "cell_type": "code",
   "execution_count": null,
   "id": "f4e13388-eb24-4b72-877d-5aca2556806e",
   "metadata": {},
   "outputs": [],
   "source": [
    "seed_mask.where(((uf.in_range(meshx_gnd_da, [-1*dist*dx + center_x,center_x + 1*dist*dx]) # assuming that the South Pole is in the center of the projection\n",
    "                          & uf.in_range(meshy_gnd_da, [-1*dist*dy + center_y,center_y +1*dist*dy])))).plot()"
   ]
  },
  {
   "cell_type": "code",
   "execution_count": null,
   "id": "0024fe21-de2e-48bb-9c69-e934912445b0",
   "metadata": {},
   "outputs": [],
   "source": [
    "plt.figure()\n",
    "seed_mask.plot()"
   ]
  },
  {
   "cell_type": "code",
   "execution_count": null,
   "id": "e2828690-610b-4973-be92-5cf5a738b76a",
   "metadata": {},
   "outputs": [],
   "source": [
    "plt.figure()\n",
    "mask_core.plot()"
   ]
  },
  {
   "cell_type": "code",
   "execution_count": null,
   "id": "3c894946-2574-4f90-9a0b-8c77bcd26188",
   "metadata": {},
   "outputs": [],
   "source": [
    "iter_mask.plot()"
   ]
  },
  {
   "cell_type": "code",
   "execution_count": null,
   "id": "2189aae0-d0c4-475a-9b2a-d6b91d3ebc2a",
   "metadata": {},
   "outputs": [],
   "source": [
    "ls_mask = file_mask_cut['ls_mask012'].sel(time=tt)"
   ]
  },
  {
   "cell_type": "code",
   "execution_count": null,
   "id": "dc4f1ebd-5336-405c-9b94-abc89fd79806",
   "metadata": {},
   "outputs": [],
   "source": [
    "new_isf_mask = seeded_isf_mask.combine_first(isf_mask.where(isf_mask == 1))\n",
    "new_isf_mask = new_isf_mask.where(new_isf_mask > 0,0)"
   ]
  },
  {
   "cell_type": "code",
   "execution_count": null,
   "id": "9778f4e1-e2ca-4b5d-bd02-d4ab147927c1",
   "metadata": {},
   "outputs": [],
   "source": [
    "new_isf_mask.plot()"
   ]
  },
  {
   "cell_type": "code",
   "execution_count": null,
   "id": "cfdb9b4f-5e15-4823-bb33-447a6a5ccb0a",
   "metadata": {},
   "outputs": [],
   "source": [
    "ls_mask.where(file_TS_cut['so'].max() > 0).plot()"
   ]
  },
  {
   "cell_type": "code",
   "execution_count": null,
   "id": "a33d2a10-d3c0-488e-a911-dcb3cdcd0a39",
   "metadata": {},
   "outputs": [],
   "source": [
    "plt.figure()\n",
    "iter_mask.plot()"
   ]
  },
  {
   "cell_type": "code",
   "execution_count": null,
   "id": "f6915c2d-7e8a-4c0e-af3c-8ff3f36ef0be",
   "metadata": {},
   "outputs": [],
   "source": [
    "iter_mask.plot()"
   ]
  },
  {
   "cell_type": "code",
   "execution_count": null,
   "id": "1fa9af9c-ed03-4d2e-82a4-73a5150ffdf1",
   "metadata": {},
   "outputs": [],
   "source": [
    "plt.figure()\n",
    "FRIS_00_test.plot()"
   ]
  },
  {
   "cell_type": "code",
   "execution_count": null,
   "id": "5f459094-d2d0-4f94-81c1-04afedff5741",
   "metadata": {},
   "outputs": [],
   "source": [
    "FRIS_00.where(np.isfinite(FRIS_00), 0).plot()"
   ]
  },
  {
   "cell_type": "code",
   "execution_count": null,
   "id": "3a03d9a9-91e6-40f8-a97f-ec15d3c50c5b",
   "metadata": {},
   "outputs": [],
   "source": [
    "iter_mask.where(iter_mask == 5).plot()"
   ]
  },
  {
   "cell_type": "code",
   "execution_count": null,
   "id": "ee5128cb-071e-47be-bd81-4127329bd7e2",
   "metadata": {},
   "outputs": [],
   "source": [
    "(((corr >= 5) & (mask_core == 1)) ^ (corr >= 5)).plot()"
   ]
  },
  {
   "cell_type": "code",
   "execution_count": null,
   "id": "187f812b-338a-4044-92bd-60ef9db6a130",
   "metadata": {},
   "outputs": [],
   "source": [
    "iter_mask.where(iter_mask !=5, 2).plot()"
   ]
  },
  {
   "cell_type": "code",
   "execution_count": null,
   "id": "8e0484a3-6392-4c6a-a2c6-fb10ecff5764",
   "metadata": {},
   "outputs": [],
   "source": [
    "corr.plot()"
   ]
  },
  {
   "cell_type": "code",
   "execution_count": null,
   "id": "5df4c74a-89a5-4282-961d-3fc2046fd4bc",
   "metadata": {},
   "outputs": [],
   "source": [
    "iter_mask."
   ]
  },
  {
   "cell_type": "code",
   "execution_count": null,
   "id": "6b969b36-8168-4807-9ae7-8c0d0629f582",
   "metadata": {},
   "outputs": [],
   "source": [
    "iter_mask.where((corr >= 5)).plot()"
   ]
  },
  {
   "cell_type": "code",
   "execution_count": null,
   "id": "855f40dd-162e-49f2-8f43-49c29a5edfed",
   "metadata": {},
   "outputs": [],
   "source": [
    "uf.in_range(meshx_gnd_da, [-2*dist*dx,2*dist*dx]).plot()"
   ]
  },
  {
   "cell_type": "code",
   "execution_count": null,
   "id": "1af4121a-b326-46ea-90a6-c854142f23b7",
   "metadata": {},
   "outputs": [],
   "source": [
    "meshx_gnd_da.plot()"
   ]
  },
  {
   "cell_type": "code",
   "execution_count": null,
   "id": "cada4371-6b95-4c25-8589-94653e861e9a",
   "metadata": {},
   "outputs": [],
   "source": [
    "meshx_gnd_da.plot()"
   ]
  },
  {
   "cell_type": "code",
   "execution_count": null,
   "id": "db963820-b334-47c1-9e26-9504369e32da",
   "metadata": {},
   "outputs": [],
   "source": [
    "uf.in_range(meshx_gnd_da, [-dx,dx]).plot()"
   ]
  },
  {
   "cell_type": "code",
   "execution_count": null,
   "id": "ad807fa7-6183-43c5-aac4-e742936e4ce3",
   "metadata": {},
   "outputs": [],
   "source": [
    "    dx = abs(meshx_gnd_da.x[2] - meshx_gnd_da.x[1])\n",
    "    dy = abs(meshx_gnd_da.y[2] - meshx_gnd_da.y[1])\n",
    "    \n",
    "    max_len_xy = max(len(meshx_gnd_da.x),len(meshx_gnd_da.y))\n",
    "    half_range = round(max_len_xy/2)\n",
    "    \n",
    "    mask_core = mask_gnd.where(~((uf.in_range(meshx_gnd_da, [-2*dist*dx,2*dist*dx]) # assuming that the South Pole is in the center of the projection\n",
    "                          & uf.in_range(meshy_gnd_da, [-2*dist*dy,2*dist*dy]))), 5)"
   ]
  }
 ],
 "metadata": {
  "kernelspec": {
   "display_name": "py38",
   "language": "python",
   "name": "py38"
  },
  "language_info": {
   "codemirror_mode": {
    "name": "ipython",
    "version": 3
   },
   "file_extension": ".py",
   "mimetype": "text/x-python",
   "name": "python",
   "nbconvert_exporter": "python",
   "pygments_lexer": "ipython3",
   "version": "3.8.12"
  }
 },
 "nbformat": 4,
 "nbformat_minor": 5
}
