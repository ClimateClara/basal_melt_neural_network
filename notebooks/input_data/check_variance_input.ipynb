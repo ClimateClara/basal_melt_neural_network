{
 "cells": [
  {
   "cell_type": "code",
   "execution_count": null,
   "id": "4fa0001c-637b-455d-b00b-3ab6cc26d951",
   "metadata": {},
   "outputs": [],
   "source": [
    "\"\"\"\n",
    "Created on Wed Oct 11 09:44 2023\n",
    "\n",
    "Check distribution of input variables\n",
    "\n",
    "@author: Clara Burgard\n",
    "\"\"\""
   ]
  },
  {
   "cell_type": "code",
   "execution_count": null,
   "id": "ef0eadd1-5335-467c-bde7-5898f840f483",
   "metadata": {},
   "outputs": [],
   "source": [
    "import xarray as xr\n",
    "import numpy as np\n",
    "import seaborn as sns\n",
    "from tqdm.notebook import tqdm"
   ]
  },
  {
   "cell_type": "code",
   "execution_count": null,
   "id": "a36199e1-751d-436d-8320-07f524016324",
   "metadata": {},
   "outputs": [],
   "source": [
    "%matplotlib qt5"
   ]
  },
  {
   "cell_type": "code",
   "execution_count": null,
   "id": "30c267f0-6885-4295-92bc-6287d9c5a8ae",
   "metadata": {},
   "outputs": [],
   "source": [
    "plot_path = '/bettik/burgardc/PLOTS/NN_plots/input_vars/'"
   ]
  },
  {
   "cell_type": "code",
   "execution_count": null,
   "id": "f80c7229-7b54-4006-bad7-9b9ffe791ebc",
   "metadata": {},
   "outputs": [],
   "source": [
    "inputpath_data = '/bettik/burgardc/DATA/NN_PARAM/interim/INPUT_DATA/' \n",
    "outputpath_CVinput = inputpath_data+'EXTRAPOLATED_ISFDRAFT_CHUNKS/'\n",
    "norm_metrics_file = xr.open_dataset(outputpath_CVinput + 'metrics_norm_wholedataset.nc')\n",
    "norm_metrics = norm_metrics_file.sel(norm_method='std').drop('norm_method')#.to_dataframe()"
   ]
  },
  {
   "cell_type": "code",
   "execution_count": null,
   "id": "8171b1c6-bb73-488b-9e62-deb62affba5c",
   "metadata": {},
   "outputs": [],
   "source": [
    "outputpath_nn = '/bettik/burgardc/DATA/NN_PARAM/interim/INPUT_DATA/EXTRAPOLATED_ISFDRAFT_CHUNKS/'\n",
    "tblock_dim = range(1,14)\n",
    "isf_dim = [10,11,12,13,18,22,23,24,25,30,31,33,38,39,40,42,43,44,45,47,48,51,52,53,54,55,58,61,65,66,69,70,71,73,75]\n",
    "\n",
    "li = []\n",
    "n = 0\n",
    "for tblock in tqdm(tblock_dim):\n",
    "    if tblock in [5,8,11]:\n",
    "        n=n+1\n",
    "        \n",
    "    for kisf in isf_dim:\n",
    "        \n",
    "        df = pd.read_csv(outputpath_nn + 'dataframe_input_isf'+str(kisf).zfill(3)+'_'+str(tblock).zfill(3)+'.csv',index_col=[0,1])\n",
    "        df['time'] = df['time'] + n*100\n",
    "        df = df.set_index('time',append=True)\n",
    "        li.append(df)\n",
    "\n",
    "concat_all = pd.concat(li)"
   ]
  },
  {
   "cell_type": "code",
   "execution_count": null,
   "id": "c5b72338-13b7-4279-b9b9-0ef36bda3bf3",
   "metadata": {},
   "outputs": [],
   "source": [
    "concat_ds = concat_all.to_xarray()"
   ]
  },
  {
   "cell_type": "code",
   "execution_count": null,
   "id": "0a898ce0-9e6b-445a-a025-e9f43fa6871a",
   "metadata": {},
   "outputs": [],
   "source": [
    "input_list = ['dGL','dIF','corrected_isfdraft','bathy_metry','slope_bed_lon','slope_bed_lat','slope_ice_lon','slope_ice_lat','theta_in','salinity_in','T_mean', 'S_mean', 'T_std', 'S_std','melt_m_ice_per_y']\n",
    "label_list = ['Distance GL [m]','Distance IF [m]',\n",
    "              'Ice draft depth \\n [m below sea-level]','Bathymetry \\n [m below sea-level]',\n",
    "              'Slope bed lon [rad]','Slope bed lat [rad]','Slope ice lon [rad]','Slope ice lat [rad]',\n",
    "              'Temperature \\n [degrees C]','Salinity [psu]','Temperature mean \\n [degrees C]', 'Salinity mean [psu]', 'Temperature std \\n [degrees C]', 'Salinity std [psu]',\n",
    "              'Melt [m ice per y]']"
   ]
  },
  {
   "cell_type": "code",
   "execution_count": null,
   "id": "161ac94c-ba96-4ef6-8092-58c258e0899a",
   "metadata": {},
   "outputs": [],
   "source": [
    "concat_ds_of_int = concat_ds[input_list]"
   ]
  },
  {
   "cell_type": "code",
   "execution_count": null,
   "id": "e4c9243b-a398-4813-9f54-42c75d840357",
   "metadata": {},
   "outputs": [],
   "source": [
    "concat_ds_of_int_normed = (concat_ds_of_int - norm_metrics[input_list].sel(metric='mean_vars')) / norm_metrics[input_list].sel(metric='range_vars')"
   ]
  },
  {
   "cell_type": "code",
   "execution_count": null,
   "id": "a5fd93ae-cdc8-4297-a1f0-7e927637321d",
   "metadata": {},
   "outputs": [],
   "source": [
    "var_tot_normed = concat_ds_of_int_normed.var()\n",
    "var_time_normed = concat_ds_of_int_normed.var('time').mean()\n",
    "var_loc_normed = concat_ds_of_int_normed.var(['x','y']).mean()\n"
   ]
  },
  {
   "cell_type": "code",
   "execution_count": null,
   "id": "48e568f8-f28a-4ef9-a0d7-15005c5970f4",
   "metadata": {},
   "outputs": [],
   "source": [
    "var_time_normed + var_loc_normed"
   ]
  },
  {
   "cell_type": "code",
   "execution_count": null,
   "id": "321732da-ee56-477c-bc74-46890dc0fa6a",
   "metadata": {},
   "outputs": [],
   "source": [
    "var_tot = concat_ds_of_int.var()\n",
    "var_time = concat_ds_of_int.var('time').mean()\n",
    "var_loc = concat_ds_of_int.var(['x','y']).mean()"
   ]
  },
  {
   "cell_type": "code",
   "execution_count": null,
   "id": "63e161b4-4590-459c-97be-ca04c56dae5c",
   "metadata": {},
   "outputs": [],
   "source": [
    "prop_var_time = var_time/var_tot\n",
    "prop_var_loc = var_loc/var_tot\n"
   ]
  },
  {
   "cell_type": "code",
   "execution_count": null,
   "id": "dc1027d9-f231-4cdd-ab41-cb7c8f64e450",
   "metadata": {},
   "outputs": [],
   "source": [
    "concat_ds_of_int_normed.var('time').mean()"
   ]
  },
  {
   "cell_type": "code",
   "execution_count": null,
   "id": "74788f1e-593d-4a47-947d-9ec232c740b2",
   "metadata": {},
   "outputs": [],
   "source": [
    "concat_ds_of_int_normed.var(['x','y']).mean()"
   ]
  },
  {
   "cell_type": "code",
   "execution_count": null,
   "id": "34f3a4eb-c138-43d1-ba26-64d160010d38",
   "metadata": {},
   "outputs": [],
   "source": [
    "concat_ds_of_int_normed['salinity_in'].mean('time').plot()"
   ]
  }
 ],
 "metadata": {
  "kernelspec": {
   "display_name": "py38",
   "language": "python",
   "name": "py38"
  },
  "language_info": {
   "codemirror_mode": {
    "name": "ipython",
    "version": 3
   },
   "file_extension": ".py",
   "mimetype": "text/x-python",
   "name": "python",
   "nbconvert_exporter": "python",
   "pygments_lexer": "ipython3",
   "version": "3.8.12"
  }
 },
 "nbformat": 4,
 "nbformat_minor": 5
}
