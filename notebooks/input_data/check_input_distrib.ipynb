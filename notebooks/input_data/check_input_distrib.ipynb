{
 "cells": [
  {
   "cell_type": "code",
   "execution_count": null,
   "id": "4fa0001c-637b-455d-b00b-3ab6cc26d951",
   "metadata": {},
   "outputs": [],
   "source": [
    "\"\"\"\n",
    "Created on Wed Apr 05 13:52 2023\n",
    "\n",
    "Check distribution of input variables\n",
    "\n",
    "@author: Clara Burgard\n",
    "\"\"\""
   ]
  },
  {
   "cell_type": "code",
   "execution_count": null,
   "id": "ef0eadd1-5335-467c-bde7-5898f840f483",
   "metadata": {},
   "outputs": [],
   "source": [
    "import xarray as xr\n",
    "import numpy as np\n",
    "import seaborn as sns"
   ]
  },
  {
   "cell_type": "code",
   "execution_count": null,
   "id": "a36199e1-751d-436d-8320-07f524016324",
   "metadata": {},
   "outputs": [],
   "source": [
    "%matplotlib qt5"
   ]
  },
  {
   "cell_type": "code",
   "execution_count": null,
   "id": "30c267f0-6885-4295-92bc-6287d9c5a8ae",
   "metadata": {},
   "outputs": [],
   "source": [
    "plot_path = '/bettik/burgardc/PLOTS/NN_plots/input_vars/'"
   ]
  },
  {
   "cell_type": "code",
   "execution_count": null,
   "id": "f80c7229-7b54-4006-bad7-9b9ffe791ebc",
   "metadata": {},
   "outputs": [],
   "source": [
    "inputpath_data = '/bettik/burgardc/DATA/NN_PARAM/interim/INPUT_DATA/' \n",
    "outputpath_CVinput = inputpath_data+'EXTRAPOLATED_ISFDRAFT_CHUNKS/'\n",
    "train_data = xr.open_dataset(outputpath_CVinput + 'val_data_wholedataset.nc').sel(norm_method='std')\n",
    "norm_metrics_file = xr.open_dataset(outputpath_CVinput + 'metrics_norm_wholedataset.nc')\n",
    "norm_metrics = norm_metrics_file.sel(norm_method='std').drop('norm_method').to_dataframe()"
   ]
  },
  {
   "cell_type": "code",
   "execution_count": null,
   "id": "a5a6aed3-2389-48af-8cfa-c1ff26e0e508",
   "metadata": {},
   "outputs": [],
   "source": [
    "train_data_notnormed = (train_data * norm_metrics.loc['range_vars']) + norm_metrics.loc['mean_vars']\n",
    " "
   ]
  },
  {
   "cell_type": "code",
   "execution_count": null,
   "id": "af3d6e51-f252-44b5-8af6-97d54a9e0cf5",
   "metadata": {},
   "outputs": [],
   "source": [
    "inputpath_data = '/bettik/burgardc/DATA/NN_PARAM/interim/INPUT_DATA/SMITH_bf663_EXTRAPDRAFT_CHUNKS/'\n",
    "indata_df_bf663 = pd.read_csv(inputpath_data + 'dataframe_shuffledinput_allisf_1980-2040_bf663.csv')\n",
    "\n",
    "inputpath_data = '/bettik/burgardc/DATA/NN_PARAM/interim/INPUT_DATA/SMITH_bi646_EXTRAPDRAFT_CHUNKS/'\n",
    "indata_df_bi646 = pd.read_csv(inputpath_data + 'dataframe_shuffledinput_allisf_1980-2040_bi646.csv')"
   ]
  },
  {
   "cell_type": "code",
   "execution_count": null,
   "id": "0a898ce0-9e6b-445a-a025-e9f43fa6871a",
   "metadata": {},
   "outputs": [],
   "source": [
    "input_list = ['dGL','dIF','corrected_isfdraft','bathy_metry','slope_bed_lon','slope_bed_lat','slope_ice_lon','slope_ice_lat','theta_in','salinity_in','T_mean', 'S_mean', 'T_std', 'S_std','melt_m_ice_per_y']"
   ]
  },
  {
   "cell_type": "code",
   "execution_count": null,
   "id": "1d6eeca7-5bff-40b9-a12b-347239b26561",
   "metadata": {},
   "outputs": [],
   "source": [
    "#for vv in input_list:\n",
    "n_bins = 50\n",
    "for vv in input_list:\n",
    "    min_all =  min([train_data_notnormed[vv].min().values,indata_df_bf663[vv].min(),indata_df_bi646[vv].min()])\n",
    "    max_all =  max([train_data_notnormed[vv].max().values,indata_df_bf663[vv].max(),indata_df_bi646[vv].max()])\n",
    "\n",
    "    plt.figure()\n",
    "    plt.hist(train_data_notnormed[vv], range=(min_all,max_all), bins=n_bins, alpha = 0.25, color='grey', density=True)\n",
    "    plt.hist(indata_df_bf663[vv], range=(min_all,max_all), bins=n_bins, alpha = 0.25, color='orange', density=True)\n",
    "    plt.hist(indata_df_bi646[vv], range=(min_all,max_all), bins=n_bins, alpha = 0.25, color='red', density=True)\n",
    "    plt.title(vv)\n",
    "    plt.savefig(plot_path+'distrib_input_'+vv+'.pdf')"
   ]
  },
  {
   "cell_type": "code",
   "execution_count": null,
   "id": "d71e1afb-bead-4e30-9e86-63cfd802ec90",
   "metadata": {},
   "outputs": [],
   "source": [
    "train_data_notnormed[vv]"
   ]
  },
  {
   "cell_type": "code",
   "execution_count": null,
   "id": "450a1764-8956-4295-a0ba-d502154b87c1",
   "metadata": {},
   "outputs": [],
   "source": []
  }
 ],
 "metadata": {
  "kernelspec": {
   "display_name": "py38",
   "language": "python",
   "name": "py38"
  },
  "language_info": {
   "codemirror_mode": {
    "name": "ipython",
    "version": 3
   },
   "file_extension": ".py",
   "mimetype": "text/x-python",
   "name": "python",
   "nbconvert_exporter": "python",
   "pygments_lexer": "ipython3",
   "version": "3.8.12"
  }
 },
 "nbformat": 4,
 "nbformat_minor": 5
}
