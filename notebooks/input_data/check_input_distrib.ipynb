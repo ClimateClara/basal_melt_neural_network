{
 "cells": [
  {
   "cell_type": "code",
   "execution_count": null,
   "id": "4fa0001c-637b-455d-b00b-3ab6cc26d951",
   "metadata": {},
   "outputs": [],
   "source": [
    "\"\"\"\n",
    "Created on Wed Apr 05 13:52 2023\n",
    "\n",
    "Check distribution of input variables\n",
    "\n",
    "@author: Clara Burgard\n",
    "\"\"\""
   ]
  },
  {
   "cell_type": "code",
   "execution_count": null,
   "id": "ef0eadd1-5335-467c-bde7-5898f840f483",
   "metadata": {},
   "outputs": [],
   "source": [
    "import xarray as xr\n",
    "import numpy as np\n",
    "import seaborn as sns"
   ]
  },
  {
   "cell_type": "code",
   "execution_count": null,
   "id": "eef10a73-277d-4dbc-9f96-67488db23010",
   "metadata": {},
   "outputs": [],
   "source": [
    "inputpath_data = '/bettik/burgardc/DATA/NN_PARAM/interim/INPUT_DATA/' \n",
    "outputpath_CVinput = inputpath_data+'EXTRAPOLATED_ISFDRAFT_CHUNKS/'\n",
    "train_data = xr.open_dataset(outputpath_CVinput + 'val_data_wholedataset.nc')    "
   ]
  },
  {
   "cell_type": "code",
   "execution_count": null,
   "id": "af3d6e51-f252-44b5-8af6-97d54a9e0cf5",
   "metadata": {},
   "outputs": [],
   "source": [
    "for nemo_run in ['bf663','bi646']:\n",
    "    inputpath_data = '/bettik/burgardc/DATA/NN_PARAM/interim/INPUT_DATA/SMITH_'+nemo_run+'_EXTRAPDRAFT_CHUNKS'\n",
    "    indata_df = pd.read_csv(inputpath_data + 'dataframe_shuffledinput_allisf_1980-2040_'+nemo_run+'.csv')"
   ]
  }
 ],
 "metadata": {
  "kernelspec": {
   "display_name": "py38",
   "language": "python",
   "name": "py38"
  },
  "language_info": {
   "codemirror_mode": {
    "name": "ipython",
    "version": 3
   },
   "file_extension": ".py",
   "mimetype": "text/x-python",
   "name": "python",
   "nbconvert_exporter": "python",
   "pygments_lexer": "ipython3",
   "version": "3.8.12"
  }
 },
 "nbformat": 4,
 "nbformat_minor": 5
}
