{
 "cells": [
  {
   "cell_type": "code",
   "execution_count": null,
   "id": "184128c9-a587-465a-9067-1e7d5c16ff28",
   "metadata": {},
   "outputs": [],
   "source": [
    "\"\"\"\n",
    "Created on Fri Oct 25 14:27 2022\n",
    "\n",
    "Plot distributions of input variables\n",
    "\n",
    "Author: Clara Burgard\n",
    "\"\"\""
   ]
  },
  {
   "cell_type": "code",
   "execution_count": null,
   "id": "abde30bb-17d4-4440-b78d-7ba56643f1f8",
   "metadata": {},
   "outputs": [],
   "source": [
    "import xarray as xr\n",
    "import matplotlib.pyplot as plt"
   ]
  },
  {
   "cell_type": "code",
   "execution_count": null,
   "id": "7adf798d-f51d-4c53-b89e-e8775cb49390",
   "metadata": {},
   "outputs": [],
   "source": [
    "%matplotlib qt5"
   ]
  },
  {
   "cell_type": "markdown",
   "id": "5165683a-ad60-4027-94fb-ae1552648b98",
   "metadata": {},
   "source": [
    "READ IN DATA"
   ]
  },
  {
   "cell_type": "code",
   "execution_count": null,
   "id": "4a722b13-76da-49c2-a8ac-3dcb8312be3f",
   "metadata": {},
   "outputs": [],
   "source": [
    "nemo_run = 'OPM021'"
   ]
  },
  {
   "cell_type": "code",
   "execution_count": null,
   "id": "b61b7ec1-dc22-4f0d-8372-82c0bdf02022",
   "metadata": {},
   "outputs": [],
   "source": [
    "TS_opt = 'extrap'\n",
    "kisf = 66\n",
    "tblock = 1"
   ]
  },
  {
   "cell_type": "code",
   "execution_count": null,
   "id": "a271aab5-7182-430c-9ae0-e256d457c465",
   "metadata": {},
   "outputs": [],
   "source": [
    "inputpath_mask = '/bettik/burgardc/SCRIPTS/basal_melt_param/data/interim/ANTARCTICA_IS_MASKS/nemo_5km_'+nemo_run+'/'\n",
    "inputpath_data_nn = '/bettik/burgardc/DATA/NN_PARAM/interim/INPUT_DATA/'\n"
   ]
  },
  {
   "cell_type": "code",
   "execution_count": null,
   "id": "a0cedbdb-347d-4e0f-a81b-82c3962f9eea",
   "metadata": {},
   "outputs": [],
   "source": [
    "if TS_opt == 'extrap':\n",
    "    inputpath_CVinput = inputpath_data_nn+'EXTRAPOLATED_ISFDRAFT_CHUNKS_CV/'\n",
    "    path_orig_data = inputpath_data_nn+'EXTRAPOLATED_ISFDRAFT_CHUNKS/'\n",
    "elif TS_opt == 'whole':\n",
    "    inputpath_CVinput = inputpath_data_nn+'WHOLE_PROF_CHUNKS_CV/'\n",
    "    path_orig_data = inputpath_data_nn+'WHOLE_PROF_CHUNKS/'\n",
    "elif TS_opt == 'thermocline':\n",
    "    inputpath_CVinput = inputpath_data_nn+'THERMOCLINE_CHUNKS_CV/'"
   ]
  },
  {
   "cell_type": "code",
   "execution_count": null,
   "id": "6669c02c-4c5e-48c8-ab8c-a47dc6adecc5",
   "metadata": {},
   "outputs": [],
   "source": [
    "file_isf_orig = xr.open_dataset(inputpath_mask+'nemo_5km_isf_masks_and_info_and_distance_new_oneFRIS.nc')\n",
    "nonnan_Nisf = file_isf_orig['Nisf'].where(np.isfinite(file_isf_orig['front_bot_depth_max']), drop=True).astype(int)\n",
    "file_isf_nonnan = file_isf_orig.sel(Nisf=nonnan_Nisf)\n",
    "large_isf = file_isf_nonnan['Nisf'].where(file_isf_nonnan['isf_area_here'] >= 2500, drop=True)\n",
    "file_isf = file_isf_nonnan.sel(Nisf=large_isf)\n",
    "\n",
    "df_nrun = pd.read_csv(path_orig_data + 'dataframe_input_isf'+str(kisf).zfill(3)+'_'+str(tblock).zfill(3)+'.csv',index_col=[0,1,2])"
   ]
  },
  {
   "cell_type": "code",
   "execution_count": null,
   "id": "46643c06-45cc-4e7e-8e6b-a86c53cba6da",
   "metadata": {},
   "outputs": [],
   "source": [
    "kwargs = dict(alpha=0.5, bins=10)\n",
    "for vv in df_nrun.columns:\n",
    "\n",
    "    fig, ax = plt.subplots(6,6,sharex=True)\n",
    "    fig.set_size_inches(8.25*1.2, 8.25*1.2)\n",
    "\n",
    "    i=0\n",
    "    j=0\n",
    "    for kk,kisf in enumerate(file_isf.Nisf):\n",
    "\n",
    "        if kk in [6,12,18,24,30]:\n",
    "\n",
    "            i = i + 1\n",
    "            j = 0 \n",
    "\n",
    "        #print(kk,i,j)\n",
    "        for tblock in range(1,2):\n",
    "            df_nrun = pd.read_csv(path_orig_data + 'dataframe_input_isf'+str(kisf.values).zfill(3)+'_'+str(tblock).zfill(3)+'.csv',index_col=[0,1,2])\n",
    "\n",
    "            ax[i,j].hist(df_nrun[vv], **kwargs, label=tblock)\n",
    "            ax[i,j].set_title(file_isf['isf_name'].sel(Nisf=kisf).values)\n",
    "            j = j + 1\n",
    "\n",
    "\n",
    "    fig.suptitle(vv)\n",
    "    sns.despine()\n",
    "    \n",
    "    "
   ]
  },
  {
   "cell_type": "code",
   "execution_count": null,
   "id": "99d8aac0-2bd4-40a3-ba3d-1094a49f3dab",
   "metadata": {},
   "outputs": [],
   "source": [
    "kwargs = dict(alpha=0.1, bins=10)\n",
    "for vv in df_nrun.columns:\n",
    "    \n",
    "    plt.figure()\n",
    "\n",
    "    for kk,kisf in enumerate(file_isf.Nisf):\n",
    "\n",
    "        #print(kk,i,j)\n",
    "        for tblock in range(1,2):\n",
    "            df_nrun = pd.read_csv(path_orig_data + 'dataframe_input_isf'+str(kisf.values).zfill(3)+'_'+str(tblock).zfill(3)+'.csv',index_col=[0,1,2])\n",
    "\n",
    "            plt.hist(df_nrun[vv], **kwargs, label=file_isf['isf_name'].sel(Nisf=kisf).values)\n",
    "            j = j + 1\n",
    "\n",
    "    plt.ylim(0,5000)\n",
    "    plt.title(vv)\n",
    "    plt.legend()\n",
    "    sns.despine()\n",
    "    "
   ]
  },
  {
   "cell_type": "code",
   "execution_count": null,
   "id": "832a4910-e7f7-4339-840b-565d7aaa1fb7",
   "metadata": {},
   "outputs": [],
   "source": []
  }
 ],
 "metadata": {
  "kernelspec": {
   "display_name": "py38",
   "language": "python",
   "name": "py38"
  },
  "language_info": {
   "codemirror_mode": {
    "name": "ipython",
    "version": 3
   },
   "file_extension": ".py",
   "mimetype": "text/x-python",
   "name": "python",
   "nbconvert_exporter": "python",
   "pygments_lexer": "ipython3",
   "version": "3.8.12"
  }
 },
 "nbformat": 4,
 "nbformat_minor": 5
}
