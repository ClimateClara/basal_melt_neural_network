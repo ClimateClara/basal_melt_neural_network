{
 "cells": [
  {
   "cell_type": "code",
   "execution_count": null,
   "id": "9e5df143-241b-4343-9993-7116c4b3e51c",
   "metadata": {},
   "outputs": [],
   "source": [
    "\"\"\"\n",
    "Created on Thu Apr 21 14:17 2022\n",
    "\n",
    "Combine all info per ice shelf and make small panda dataframes\n",
    "\n",
    "Author: @claraburgard\n",
    "\"\"\""
   ]
  },
  {
   "cell_type": "code",
   "execution_count": null,
   "id": "f28260b2-455d-4ec2-8e24-8de645fc42ea",
   "metadata": {},
   "outputs": [],
   "source": [
    "import numpy as np\n",
    "import xarray as xr\n",
    "from tqdm.notebook import trange, tqdm\n",
    "import basal_melt_neural_networks.data_formatting as dfmt"
   ]
  },
  {
   "cell_type": "code",
   "execution_count": null,
   "id": "8b688ed3-9b67-4123-b5be-12af96e8de53",
   "metadata": {},
   "outputs": [],
   "source": [
    "nemo_run = 'OPM006'"
   ]
  },
  {
   "cell_type": "code",
   "execution_count": null,
   "id": "af69a700-8d27-4046-b705-1609ff56f65a",
   "metadata": {},
   "outputs": [],
   "source": [
    "inputpath_data='/bettik/burgardc/SCRIPTS/basal_melt_param/data/interim/NEMO_eORCA025.L121_'+nemo_run+'_ANT_STEREO/'\n",
    "inputpath_mask = '/bettik/burgardc/SCRIPTS/basal_melt_param/data/interim/ANTARCTICA_IS_MASKS/nemo_5km_'+nemo_run+'/'\n",
    "inputpath_profiles = '/bettik/burgardc/SCRIPTS/basal_melt_param/data/interim/T_S_PROF/nemo_5km_'+nemo_run+'/'\n",
    "inputpath_plumes = '/bettik/burgardc/SCRIPTS/basal_melt_param/data/interim/PLUMES/nemo_5km_'+nemo_run+'/'\n",
    "inputpath_boxes = '/bettik/burgardc/SCRIPTS/basal_melt_param/data/interim/BOXES/nemo_5km_'+nemo_run+'/'\n",
    "outputpath_melt = '/bettik/burgardc/SCRIPTS/basal_melt_param/data/processed/MELT_RATE/nemo_5km_'+nemo_run+'/'\n",
    "outputpath_nn = '/bettik/burgardc/DATA/NN_PARAM/interim/INPUT_DATA/'\n",
    "inputpath_tides = '/bettik/burgardc/DATA/BASAL_MELT_PARAM/interim/TIDES/'"
   ]
  },
  {
   "cell_type": "code",
   "execution_count": null,
   "id": "5c8d26af-83af-40f3-9dff-5ef22280e41a",
   "metadata": {},
   "outputs": [],
   "source": [
    "# dIF, dGL\n",
    "file_isf_orig = xr.open_dataset(inputpath_mask+'nemo_5km_isf_masks_and_info_and_distance_new.nc')\n",
    "nonnan_Nisf = file_isf_orig['Nisf'].where(np.isfinite(file_isf_orig['front_bot_depth_max']), drop=True).astype(int)\n",
    "file_isf_nonnan = file_isf_orig.sel(Nisf=nonnan_Nisf)\n",
    "large_isf = file_isf_nonnan['Nisf'].where(file_isf_nonnan['isf_area_here'] >= 2500, drop=True)\n",
    "file_isf = file_isf_nonnan.sel(Nisf=large_isf)"
   ]
  },
  {
   "cell_type": "code",
   "execution_count": null,
   "id": "fa26477a-3d64-40f3-b2c1-e681ba0b4c82",
   "metadata": {},
   "outputs": [],
   "source": [
    "map_lim = [-3000000,3000000]\n",
    "file_mask_orig = xr.open_dataset(inputpath_data+'other_mask_vars_Ant_stereo.nc')\n",
    "file_mask_orig_cut = dfmt.cut_domain_stereo(file_mask_orig, map_lim, map_lim)\n",
    "file_other = xr.open_dataset(inputpath_data+'corrected_draft_bathy_isf.nc')#, chunks={'x': chunk_size, 'y': chunk_size})\n",
    "file_other_cut = dfmt.cut_domain_stereo(file_other, map_lim, map_lim)\n",
    "file_conc = xr.open_dataset(inputpath_data+'isfdraft_conc_Ant_stereo.nc')\n",
    "file_conc_cut = dfmt.cut_domain_stereo(file_conc, map_lim, map_lim)"
   ]
  },
  {
   "cell_type": "code",
   "execution_count": null,
   "id": "75ac990c-39e9-4c92-aab3-b612410e1c1c",
   "metadata": {},
   "outputs": [],
   "source": [
    "# bathymetry, ice draft, concentration\n",
    "file_bed_orig = file_mask_orig_cut['bathy_metry']\n",
    "file_bed_corr = file_other_cut['corrected_isf_bathy']\n",
    "file_draft = file_other_cut['corrected_isfdraft'] \n",
    "file_bed_goodGL = file_bed_orig.where(file_draft < file_bed_orig,file_bed_corr)\n",
    "file_isf_conc = file_conc_cut['isfdraft_conc']"
   ]
  },
  {
   "cell_type": "code",
   "execution_count": null,
   "id": "50c7ac8e-f57a-4e52-8d6a-6899ae833089",
   "metadata": {},
   "outputs": [],
   "source": [
    "file_slope = xr.open_dataset(inputpath_mask+'nemo_5km_slope_info_bedrock_draft_latlon.nc')"
   ]
  },
  {
   "cell_type": "code",
   "execution_count": null,
   "id": "9082c12c-5025-4aba-beff-a1b585164470",
   "metadata": {},
   "outputs": [],
   "source": [
    "utide_file = xr.open_dataset(inputpath_tides + 'tidal_velocity_nemo_Ant_stereo.nc').rename({'ttv':'u_tide'})\n",
    "u_tide = dfmt.cut_domain_stereo(utide_file['u_tide'], map_lim, map_lim)"
   ]
  },
  {
   "cell_type": "code",
   "execution_count": null,
   "id": "3bbe9a4c-b0f9-44df-ae50-ab9f55b92c6d",
   "metadata": {},
   "outputs": [],
   "source": [
    "if nemo_run == 'OPM031':\n",
    "    NEMO_melt_rates_2D = xr.open_mfdataset(outputpath_melt+'melt_rates_2D_NEMO.nc').isel(time=range(30,70))\n",
    "else:\n",
    "    NEMO_melt_rates_2D = xr.open_mfdataset(outputpath_melt+'melt_rates_2D_NEMO.nc')\n",
    "\n",
    "melt_rate = NEMO_melt_rates_2D['melt_m_ice_per_y']"
   ]
  },
  {
   "cell_type": "code",
   "execution_count": null,
   "id": "630d0f48-cfc1-404e-a389-9778bff7919d",
   "metadata": {},
   "outputs": [],
   "source": [
    "geometry_2D = file_isf[['dGL', 'dIF']].merge(file_draft).merge(file_bed_goodGL).merge(file_slope).merge(file_isf_conc).merge(u_tide) \n",
    "geometry_2D['dIF'] = geometry_2D['dIF'].where(np.isfinite(geometry_2D['dIF']), np.nan)\n",
    "time_dpdt_in = melt_rate"
   ]
  },
  {
   "cell_type": "code",
   "execution_count": null,
   "id": "fa22a0d8-c9d6-4526-b155-79cf657e6cdd",
   "metadata": {},
   "outputs": [],
   "source": [
    "final_input_xr_isf"
   ]
  },
  {
   "cell_type": "code",
   "execution_count": null,
   "id": "28596c5f-f477-44d0-b319-aeeb080c9ccb",
   "metadata": {},
   "outputs": [],
   "source": [
    "merged_df = None\n",
    "for kisf in tqdm(file_isf.Nisf.sel(Nisf=[23,66])):\n",
    "    geometry_2D_isf = geometry_2D.where(file_isf['ISF_mask']==kisf,drop=True).drop('longitude').drop('latitude')\n",
    "    melt_rate_isf = melt_rate.where(file_isf['ISF_mask']==kisf,drop=True)\n",
    "    T_S_2D_isf = xr.open_dataset(inputpath_profiles+'flattened_T_S_profiles_isf'+str(kisf.values).zfill(3)+'.nc').squeeze().transpose('time','y','x').drop('longitude').drop('latitude')\n",
    "    \n",
    "    time_dpdt_in = T_S_2D_isf.merge(melt_rate_isf).drop('longitude').drop('latitude')\n",
    "    geometry_2D_br_isf, time_dpdt_in_br = xr.broadcast(geometry_2D_isf,time_dpdt_in)\n",
    "    final_input_xr_isf = xr.merge([geometry_2D_br_isf, time_dpdt_in_br]).transpose('y','x','time').drop('Nisf')\n",
    "    ds_kisf = final_input_xr_isf\n",
    "\n",
    "    df_kisf = ds_kisf.to_dataframe()\n",
    "    clean_df_kisf = df_kisf.dropna()\n",
    "    clean_df_kisf = clean_df_kisf.where(clean_df_kisf['S_003']!=0).dropna()\n",
    "\n",
    "    if merged_df is None:\n",
    "        merged_df = clean_df_kisf.copy()\n",
    "    else:\n",
    "        merged_df = merged_df.append(clean_df_kisf)"
   ]
  },
  {
   "cell_type": "code",
   "execution_count": null,
   "id": "1f456cae-a79a-47fb-944d-59cf56dcf19d",
   "metadata": {},
   "outputs": [],
   "source": [
    "merged_df"
   ]
  },
  {
   "cell_type": "code",
   "execution_count": null,
   "id": "98aaec00-76c9-441e-b131-ac629c191bb6",
   "metadata": {},
   "outputs": [],
   "source": [
    "    geometry_2D_br, time_dpdt_in_br = xr.broadcast(geometry_2D,time_dpdt_in)\n",
    "    ds_kisf = final_input_xr.where(file_isf['ISF_mask']==kisf,drop=True).drop('longitude').drop('latitude').drop('Nisf')\n",
    "    df_kisf = ds_kisf.to_dataframe()\n",
    "    clean_df_kisf = df_kisf.dropna()\n",
    "    clean_df_kisf = clean_df_kisf.where(clean_df_kisf['S_003']!=0).dropna()\n",
    "    if df_all is None:\n",
    "        df_all = clean_df_kisf.copy()\n",
    "    else:\n",
    "        df_all = df_all.append(clean_df_kisf)\n",
    "    \n",
    "merged_df = df_all"
   ]
  }
 ],
 "metadata": {
  "kernelspec": {
   "display_name": "neuralnet",
   "language": "python",
   "name": "neuralnet"
  },
  "language_info": {
   "codemirror_mode": {
    "name": "ipython",
    "version": 3
   },
   "file_extension": ".py",
   "mimetype": "text/x-python",
   "name": "python",
   "nbconvert_exporter": "python",
   "pygments_lexer": "ipython3",
   "version": "3.9.4"
  }
 },
 "nbformat": 4,
 "nbformat_minor": 5
}
