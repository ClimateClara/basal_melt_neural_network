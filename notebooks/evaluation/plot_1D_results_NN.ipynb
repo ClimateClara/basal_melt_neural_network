{
 "cells": [
  {
   "cell_type": "code",
   "execution_count": null,
   "id": "f1b95329-d588-4368-b9cc-de19521d1d08",
   "metadata": {},
   "outputs": [],
   "source": [
    "\"\"\"\n",
    "Created on Wed Apr 20 10:58 2022\n",
    "\n",
    "Evaluating results computed with NN model (1D)\n",
    "\n",
    "Author: @claraburgard\n",
    "\n",
    "\"\"\""
   ]
  },
  {
   "cell_type": "code",
   "execution_count": null,
   "id": "09ca3c7d-54ca-40b6-a085-eb2d395872ff",
   "metadata": {},
   "outputs": [],
   "source": [
    "import xarray as xr\n",
    "import numpy as np\n",
    "import pandas as pd\n",
    "from tqdm.notebook import tqdm\n",
    "import matplotlib.pyplot as plt"
   ]
  },
  {
   "cell_type": "markdown",
   "id": "7e7bf766-786e-4996-a97d-47956135ce78",
   "metadata": {},
   "source": [
    "READ IN DATA"
   ]
  },
  {
   "cell_type": "code",
   "execution_count": null,
   "id": "3cc784a2-b809-4387-9f26-9e930b270a89",
   "metadata": {},
   "outputs": [],
   "source": [
    "home_path = '/bettik/burgardc/'"
   ]
  },
  {
   "cell_type": "code",
   "execution_count": null,
   "id": "3201d2f7-a13f-4314-a2cc-4e6fc258075e",
   "metadata": {},
   "outputs": [],
   "source": [
    "inputpath_mask = '/bettik/burgardc/SCRIPTS/basal_melt_param/data/interim/ANTARCTICA_IS_MASKS/nemo_5km_OPM006/'\n",
    "file_isf_orig = xr.open_dataset(inputpath_mask+'nemo_5km_isf_masks_and_info_and_distance_new.nc')\n",
    "nonnan_Nisf = file_isf_orig['Nisf'].where(np.isfinite(file_isf_orig['front_bot_depth_max']), drop=True).astype(int)\n",
    "file_isf_nonnan = file_isf_orig.sel(Nisf=nonnan_Nisf)\n",
    "large_isf = file_isf_nonnan['Nisf'].where(file_isf_nonnan['isf_area_here'] >= 2500, drop=True)\n",
    "file_isf = file_isf_nonnan.sel(Nisf=large_isf)\n",
    "file_isf['isf_name'] = file_isf['isf_name'].where(file_isf['isf_name'] != 'Ekstrom', np.array('Ekström', dtype=object))\n",
    "isf_names = file_isf['isf_name']"
   ]
  },
  {
   "cell_type": "code",
   "execution_count": null,
   "id": "beb47598-0f83-46de-ab33-f1cb63fa1301",
   "metadata": {},
   "outputs": [],
   "source": [
    "region_list = []\n",
    "for kisf in file_isf.Nisf:\n",
    "    if file_isf['isf_name'].sel(Nisf=kisf).values in ['Ross','Nickerson','Sulzberger', 'Cook']:\n",
    "        region_list.append('East and West Ross')\n",
    "    elif file_isf['isf_name'].sel(Nisf=kisf).values in ['Filchner','Ronne']:\n",
    "        region_list.append('Weddell')        \n",
    "    elif file_isf['isf_name'].sel(Nisf=kisf).values in ['Ekström','Nivl','Prince Harald','Riiser-Larsen','Fimbul','Roi Baudouin','Lazarev','Stancomb Brunt','Jelbart','Borchgrevink']:\n",
    "        region_list.append('Dronning Maud Land')\n",
    "    elif file_isf['isf_name'].sel(Nisf=kisf).values in ['Getz','Thwaites','Crosson','Dotson','Cosgrove','Pine Island']:\n",
    "        region_list.append('Amundsen')\n",
    "    elif file_isf['isf_name'].sel(Nisf=kisf).values in ['Venable','George VI','Abbot','Stange','Larsen C','Bach','Larsen D','Wilkins']:\n",
    "        region_list.append('Peninsula and Bellinghausen')\n",
    "    elif file_isf['isf_name'].sel(Nisf=kisf).values in ['Amery','Moscow Univ.','Tracy Tremenchus','Totten','West','Shackleton']:\n",
    "        region_list.append('East Antarctica')\n",
    "    else:\n",
    "        print('Argh, help me, '+file_isf['isf_name'].sel(Nisf=kisf).values+' has no region assigned!')\n",
    "# 6 regions\n",
    "# regions = ['East and West Ross','Weddell','Dronning Maud Land','Amundsen','Peninsula and Bellinghausen','East Antarctica']\n",
    "file_isf['region'] = xr.DataArray(data=region_list,dims='Nisf')\n",
    "\n",
    "regions = ['Weddell','Peninsula and Bellinghausen','Amundsen','East and West Ross','East Antarctica','Dronning Maud Land']"
   ]
  },
  {
   "cell_type": "code",
   "execution_count": null,
   "id": "13480935-e203-489b-87b0-6c4d584aae31",
   "metadata": {},
   "outputs": [],
   "source": [
    "nisf_by_reg_list = []\n",
    "for rr, reg in enumerate(regions):\n",
    "    subset_isf = file_isf.Nisf.where(file_isf['region']==reg,drop=True)\n",
    "    nisf_by_reg_list.append(subset_isf.values)\n",
    "nisf_by_reg_list = np.concatenate(nisf_by_reg_list)"
   ]
  },
  {
   "cell_type": "code",
   "execution_count": null,
   "id": "eb553a92-7e7e-4714-8970-f13bb7eca005",
   "metadata": {},
   "outputs": [],
   "source": [
    "#run_list = ['OPM006','OPM016','OPM018','OPM021','OPM026','OPM027','OPM031']\n",
    "run_list = ['OPM006','OPM016','OPM018','OPM021','OPM026','OPM027','OPM031-2'] #'OPM031-1',\n",
    "#run_list = ['OPM031'] \n",
    "timetag_list = ['20220427-0957','20220427-1002',\n",
    "                '20220427-1052','20220427-1021',\n",
    "                '20220427-1058','20220427-1042',\n",
    "                '20220427-1059','20220427-1051']\n",
    "\n",
    "diff_Gt_list = []\n",
    "diff_box1_list = []\n",
    "\n",
    "ref_Gt_list = []\n",
    "ref_box1_list = []\n",
    "\n",
    "\n",
    "    \n",
    "for n,nemo_run0 in enumerate(run_list):\n",
    "\n",
    "    if nemo_run0 in ['OPM031-1','OPM031-2']:\n",
    "        nemo_run = 'OPM031'\n",
    "    else:\n",
    "        nemo_run = nemo_run0\n",
    "\n",
    "    outputpath_melt = home_path+'DATA/BASAL_MELT_PARAM/processed/MELT_RATE/nemo_5km_'+nemo_run+'/'\n",
    "\n",
    "    ### READ IN THE REFERENCE\n",
    "    NEMO_melt_rates_1D = xr.open_dataset(outputpath_melt+'melt_rates_1D_NEMO.nc')\n",
    "    ref_Gt = NEMO_melt_rates_1D['melt_Gt_per_y_tot']\n",
    "    ref_Gt_list.append(ref_Gt)\n",
    "    NEMO_box1_myr = xr.open_dataset(outputpath_melt+'melt_rates_box1_NEMO.nc')\n",
    "    ref_box1 = NEMO_box1_myr['mean_melt_box1_myr']\n",
    "    ref_box1_list.append(ref_box1)\n",
    "\n",
    "    ### READ IN THE PARAM FILES - NON BOOTSTRAP\n",
    "\n",
    "    # Param files\n",
    "    \n",
    "\n",
    "    diff_Gt_sub_list = []\n",
    "    diff_box1_sub_list = []\n",
    "\n",
    "    for timetag in timetag_list:\n",
    "\n",
    "        outputpath_melt_nn = '/bettik/burgardc/DATA/NN_PARAM/processed/MELT_RATE/'\n",
    "        new_path_output = outputpath_melt_nn+timetag+'/'\n",
    "\n",
    "        ds_melt_param = xr.open_dataset(new_path_output+'eval_metrics_'+nemo_run0+'.nc')\n",
    "\n",
    "        diff_Gt = ds_melt_param['melt_1D_Gt_per_y'] - ref_Gt\n",
    "        diff_Gt_sub_list.append(diff_Gt)\n",
    "\n",
    "        diff_box1 = ds_melt_param['melt_1D_mean_myr_box1'].mean('time') - ref_box1.mean('time')\n",
    "        diff_box1_sub_list.append(diff_box1)    \n",
    "\n",
    "    \n",
    "    diff_Gt_sub = xr.concat(diff_Gt_sub_list, dim='nn_model')\n",
    "    diff_Gt_sub = diff_Gt_sub.assign_coords(nn_model=timetag_list)\n",
    "    diff_box1_sub = xr.concat(diff_box1_sub_list, dim='nn_model') \n",
    "    diff_box1_sub = diff_box1_sub.assign_coords(nn_model=timetag_list)\n",
    "    \n",
    "    diff_Gt_list.append(diff_Gt_sub)    \n",
    "    diff_box1_list.append(diff_box1_sub)\n",
    "    \n",
    "diff_Gt_all = xr.concat(diff_Gt_list, dim='nemo_run')\n",
    "diff_Gt_all = diff_Gt_all.assign_coords(nemo_run=run_list)\n",
    "diff_box1_all = xr.concat(diff_box1_list, dim='nemo_run') \n",
    "diff_box1_all = diff_box1_all.assign_coords(nemo_run=run_list)\n",
    "ref_Gt_all = xr.concat(ref_Gt_list, dim='nemo_run')\n",
    "ref_Gt_all = ref_Gt_all.assign_coords(nemo_run=run_list)\n",
    "ref_box1_all = xr.concat(ref_box1_list, dim='nemo_run')\n",
    "ref_box1_all = ref_box1_all.assign_coords(nemo_run=run_list)"
   ]
  },
  {
   "cell_type": "code",
   "execution_count": null,
   "id": "07808549-24e9-408e-9a5c-758f6aa9643a",
   "metadata": {},
   "outputs": [],
   "source": [
    "RMSE_Gt_all = np.sqrt((diff_Gt_all**2).mean(['time','Nisf']))\n",
    "RMSE_box1_all = np.sqrt((diff_box1_all**2).mean(['Nisf']))"
   ]
  },
  {
   "cell_type": "code",
   "execution_count": null,
   "id": "2f3c887b-ff06-4230-ae99-7de67fff1ec2",
   "metadata": {},
   "outputs": [],
   "source": [
    "mean_Gt = ref_Gt_all.mean(['time','Nisf'])\n",
    "mean_box1 = ref_box1_all.mean(['time','Nisf'])"
   ]
  },
  {
   "cell_type": "markdown",
   "id": "380d976e-c86f-4dee-8647-72171ac6a468",
   "metadata": {},
   "source": [
    "FIGURE: SCATTER OF ALL RUNS UNDER ONE GIVEN MODEL"
   ]
  },
  {
   "cell_type": "code",
   "execution_count": null,
   "id": "687d1f3b-e51c-403a-843e-bff8a094c72f",
   "metadata": {},
   "outputs": [],
   "source": [
    "fig, axs = plt.subplots(1, 2,figsize=(8.24*1.25/1.5,8.24*1.25/2),sharey=True)\n",
    "#plt.figure()\n",
    "\n",
    "for mparam in timetag_list[::-1]:\n",
    "    \n",
    "    for nrun in run_list:\n",
    "\n",
    "        if nrun == 'OPM006':\n",
    "            ccolor= 'magenta'\n",
    "        elif nrun == 'OPM016':\n",
    "            ccolor= 'orange'\n",
    "        elif nrun == 'OPM018':\n",
    "            ccolor= 'brown'\n",
    "        elif nrun == 'OPM021':\n",
    "            ccolor = 'red'\n",
    "        elif nrun == 'OPM026':\n",
    "            ccolor = 'yellowgreen'\n",
    "        elif nrun == 'OPM027':\n",
    "            ccolor = 'deepskyblue'\n",
    "        elif nrun == 'OPM031-1':\n",
    "            ccolor = 'blue'\n",
    "        elif nrun == 'OPM031-2':\n",
    "            ccolor = 'purple'\n",
    "\n",
    "        if 'profile_domain' in RMSE_Gt_all.coords:\n",
    "            axs[0].scatter(RMSE_Gt_all.sel(profile_domain=50, nemo_run=nrun),mparam,marker='o',c=ccolor)\n",
    "            axs[1].scatter(RMSE_box1_all.sel(profile_domain=50, nemo_run=nrun),mparam,marker='o',c=ccolor)\n",
    "        else:\n",
    "            axs[0].scatter(RMSE_Gt_all.sel(nn_model=mparam,nemo_run=nrun),mparam,marker='o',c=ccolor)\n",
    "            axs[1].scatter(RMSE_box1_all.sel(nn_model=mparam,nemo_run=nrun),mparam,marker='o',c=ccolor)\n",
    "\n",
    "axs[0].set_xlim(0,20)\n",
    "sns.despine()\n"
   ]
  },
  {
   "cell_type": "markdown",
   "id": "8148d83c-8c29-4197-8ee3-14170d8b862e",
   "metadata": {},
   "source": [
    "FIGURE: SCATTER COMPARE RMSE FOR TRAINING DATASET AND NON-TRAINING"
   ]
  },
  {
   "cell_type": "code",
   "execution_count": null,
   "id": "7aca0079-eb20-481f-859c-774e33470765",
   "metadata": {},
   "outputs": [],
   "source": [
    "training_runs = ['OPM006', 'OPM016', 'OPM018', 'OPM031-2']\n",
    "RMSE_Gt_all_train = np.sqrt((diff_Gt_all**2).sel(nemo_run=training_runs).mean(['time','Nisf','nemo_run']))\n",
    "RMSE_box1_all_train = np.sqrt((diff_box1_all**2).sel(nemo_run=training_runs).mean(['Nisf','nemo_run']))\n",
    "other_runs = ['OPM021', 'OPM026', 'OPM027'] #,'OPM031-1'\n",
    "RMSE_Gt_all_other = np.sqrt((diff_Gt_all**2).sel(nemo_run=other_runs).mean(['time','Nisf','nemo_run']))\n",
    "RMSE_box1_all_other = np.sqrt((diff_box1_all**2).sel(nemo_run=other_runs).mean(['Nisf','nemo_run']))"
   ]
  },
  {
   "cell_type": "code",
   "execution_count": null,
   "id": "effa6468-16d9-4b46-bc75-ea0419b82a81",
   "metadata": {},
   "outputs": [],
   "source": [
    "RMSE_Gt_all_train"
   ]
  },
  {
   "cell_type": "code",
   "execution_count": null,
   "id": "00dc7872-98dc-4a66-b304-facc9879229b",
   "metadata": {},
   "outputs": [],
   "source": [
    "RMSE_Gt_all_other"
   ]
  },
  {
   "cell_type": "code",
   "execution_count": null,
   "id": "f52b1ceb-feab-4cb6-9706-5dc5a84dd2b2",
   "metadata": {},
   "outputs": [],
   "source": [
    "fig, axs = plt.subplots(1, 2,figsize=(8.24*1.25/1.5,8.24*1.25/2),sharey=True)\n",
    "#plt.figure()\n",
    "\n",
    "for mparam in timetag_list[::-1]:\n",
    "\n",
    "        axs[0].scatter(RMSE_Gt_all_train.sel(nn_model=mparam),mparam,marker='o',c='orange')\n",
    "        axs[1].scatter(RMSE_box1_all_train.sel(nn_model=mparam),mparam,marker='o',c='orange')\n",
    "        \n",
    "        \n",
    "        axs[0].scatter(RMSE_Gt_all_other.sel(nn_model=mparam),mparam,marker='o',c='deepskyblue')\n",
    "        axs[1].scatter(RMSE_box1_all_other.sel(nn_model=mparam),mparam,marker='o',c='deepskyblue')\n",
    "                \n",
    "axs[0].set_xlim(0,80)\n",
    "sns.despine()"
   ]
  },
  {
   "cell_type": "markdown",
   "id": "9b649546-5ae0-4bd3-ba44-1440fbc898b7",
   "metadata": {},
   "source": [
    "Heatmap"
   ]
  },
  {
   "cell_type": "code",
   "execution_count": null,
   "id": "4a95557d-ef31-439c-a790-66e4cead2517",
   "metadata": {},
   "outputs": [],
   "source": [
    "RMSE_Gt_all_isf = np.sqrt((diff_Gt_all**2).sel(nemo_run=other_runs).mean(['time','nemo_run']))\n",
    "RMSE_box1_all_isf = np.sqrt((diff_box1_all**2).sel(nemo_run=other_runs).mean(['nemo_run']))"
   ]
  },
  {
   "cell_type": "code",
   "execution_count": null,
   "id": "6271a364-2420-484d-afef-c48f60183f66",
   "metadata": {},
   "outputs": [],
   "source": [
    "plotted_var = RMSE_Gt_all_isf.sel(nn_model=timetag_list,Nisf=nisf_by_reg_list)\n",
    "\n",
    "\n",
    "x = np.arange(len(plotted_var.nn_model))\n",
    "y = np.arange(len(plotted_var.Nisf))\n",
    "\n",
    "fig, axs = plt.subplots(1, 1,figsize=(8.25,8.25))\n",
    "ax0 = axs.imshow(plotted_var.values, cmap=plt.cm.Reds, vmin=0, vmax=100)\n",
    "axs.set_yticklabels(labels=np.round(RMSE_Gt_all_other.sel(nn_model=timetag_list).values,2))\n",
    "\n",
    "for j, dom in enumerate([50]):\n",
    "    axs.yaxis.tick_right()\n",
    "    axs.set_yticks(x)\n",
    "    axs.yaxis.tick_right()\n",
    "\n",
    "    axs.xaxis.tick_top()    \n",
    "    axs.set_xticks(y)\n",
    "    axs.set_xticklabels(labels=isf_names.sel(Nisf=plotted_var.Nisf).values, rotation=90)\n",
    "\n",
    "\n",
    "cb_ax = fig.add_axes([0.15, 0.35, 0.7, 0.02])\n",
    "#cb_ax = fig.add_axes([0.01, 0.2, 0.02, 0.7])\n",
    "cbar = fig.colorbar(ax0, cax=cb_ax, extend='max',orientation='horizontal')\n",
    "plt.tight_layout()\n"
   ]
  },
  {
   "cell_type": "code",
   "execution_count": null,
   "id": "30a2e0d6-176e-4937-aa35-0489f5548e96",
   "metadata": {},
   "outputs": [],
   "source": [
    "timetag_list"
   ]
  },
  {
   "cell_type": "code",
   "execution_count": null,
   "id": "3d6ba58f-f117-4c00-a027-759c4560e2a8",
   "metadata": {},
   "outputs": [],
   "source": [
    "training_runs"
   ]
  },
  {
   "cell_type": "code",
   "execution_count": null,
   "id": "bb29d5f6-4de4-4df1-b19e-8a6a0e1fefc7",
   "metadata": {},
   "outputs": [],
   "source": [
    "other_runs"
   ]
  },
  {
   "cell_type": "code",
   "execution_count": null,
   "id": "64360962-8d2b-4383-82ce-6553692ad809",
   "metadata": {},
   "outputs": [],
   "source": []
  }
 ],
 "metadata": {
  "kernelspec": {
   "display_name": "neuralnet",
   "language": "python",
   "name": "neuralnet"
  },
  "language_info": {
   "codemirror_mode": {
    "name": "ipython",
    "version": 3
   },
   "file_extension": ".py",
   "mimetype": "text/x-python",
   "name": "python",
   "nbconvert_exporter": "python",
   "pygments_lexer": "ipython3",
   "version": "3.9.4"
  }
 },
 "nbformat": 4,
 "nbformat_minor": 5
}
