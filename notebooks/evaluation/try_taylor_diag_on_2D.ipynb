{
 "cells": [
  {
   "cell_type": "code",
   "execution_count": null,
   "id": "13e5d49c-5bc2-4682-aa4e-9b0132086602",
   "metadata": {},
   "outputs": [],
   "source": [
    "import xarray as xr\n",
    "import numpy as np\n",
    "import pandas as pd\n",
    "from tqdm.notebook import tqdm\n",
    "import matplotlib.pyplot as plt\n",
    "import seaborn as sns\n",
    "from matplotlib import cm\n",
    "import cartopy\n",
    "import cartopy.crs as ccrs\n",
    "from cartopy.util import add_cyclic_point\n",
    "import matplotlib as mpl\n",
    "import cmocean\n",
    "import glob\n",
    "from matplotlib.colors import ListedColormap, LinearSegmentedColormap\n",
    "from matplotlib.ticker import LogFormatterSciNotation\n",
    "import matplotlib.colors as colors\n",
    "\n",
    "import basal_melt_param.map_plot_functions as mapfunc\n",
    "\n",
    "from matplotlib.projections import PolarAxes\n",
    "import mpl_toolkits.axisartist.floating_axes as fa\n",
    "import mpl_toolkits.axisartist.grid_finder as gf"
   ]
  },
  {
   "cell_type": "code",
   "execution_count": null,
   "id": "5bc14c4f-d0fa-4d8a-b3d6-cf3ebc9abc84",
   "metadata": {},
   "outputs": [],
   "source": [
    "# make the domain a little smaller to make the computation even more efficient - file isf has already been made smaller at its creation\n",
    "map_lim = [-3000000,3000000]"
   ]
  },
  {
   "cell_type": "code",
   "execution_count": null,
   "id": "5a844ccc-ae80-4820-8506-aa6194775cb9",
   "metadata": {},
   "outputs": [],
   "source": [
    "nemo_run0 = 'OPM021'\n",
    "if nemo_run0 in ['OPM031-1','OPM031-2']:\n",
    "    nemo_run = 'OPM031'\n",
    "else:\n",
    "    nemo_run = nemo_run0"
   ]
  },
  {
   "cell_type": "code",
   "execution_count": null,
   "id": "74fbcb99-b72a-44cf-ab33-a5acd2a99ef1",
   "metadata": {},
   "outputs": [],
   "source": [
    "inputpath_mask = '/bettik/burgardc/SCRIPTS/basal_melt_param/data/interim/ANTARCTICA_IS_MASKS/nemo_5km_'+nemo_run+'/'\n",
    "outputpath_melt = '/bettik/burgardc/SCRIPTS/basal_melt_param/data/processed/MELT_RATE/nemo_5km_'+nemo_run+'/'\n",
    "plot_path = '/bettik/burgardc/PLOTS/NN_plots/2D_patterns/'\n",
    "inputpath_boxes = '/bettik/burgardc/SCRIPTS/basal_melt_param/data/interim/BOXES/nemo_5km_'+nemo_run+'/'\n",
    "outputpath_melt_nn = '/bettik/burgardc/DATA/NN_PARAM/processed/MELT_RATE/'"
   ]
  },
  {
   "cell_type": "code",
   "execution_count": null,
   "id": "ff442ec9-29a9-4594-a6a0-b1fa0ced6d29",
   "metadata": {},
   "outputs": [],
   "source": [
    "melt_rate_2D_NEMO = xr.open_dataset(outputpath_melt+'melt_rates_2D_NEMO_timmean.nc')\n",
    "box_charac_all_2D = xr.open_dataset(inputpath_boxes + 'nemo_5km_boxes_2D_oneFRIS.nc')\n",
    "box_charac_all_1D = xr.open_dataset(inputpath_boxes + 'nemo_5km_boxes_1D_oneFRIS.nc')"
   ]
  },
  {
   "cell_type": "code",
   "execution_count": null,
   "id": "13468449-dd86-43df-95c7-0da93605835b",
   "metadata": {},
   "outputs": [],
   "source": [
    "file_isf_orig = xr.open_dataset(inputpath_mask+'nemo_5km_isf_masks_and_info_and_distance_new_oneFRIS.nc')\n",
    "nonnan_Nisf = file_isf_orig['Nisf'].where(np.isfinite(file_isf_orig['front_bot_depth_max']), drop=True).astype(int)\n",
    "file_isf_nonnan = file_isf_orig.sel(Nisf=nonnan_Nisf)\n",
    "large_isf = file_isf_nonnan['Nisf'].where(file_isf_nonnan['isf_area_here'] >= 2500, drop=True)\n",
    "file_isf = file_isf_nonnan.sel(Nisf=large_isf)\n",
    "file_isf_mask = file_isf['ISF_mask'].where(file_isf['ISF_mask']==file_isf.Nisf).sum('Nisf')"
   ]
  },
  {
   "cell_type": "code",
   "execution_count": null,
   "id": "f6448386-08f3-4f7d-9c06-30fd6e8474f9",
   "metadata": {},
   "outputs": [],
   "source": [
    "#mod_size_list = ['medium_onlyTSisfdraft','medium_onlyTSdraftandslope','extra_large_onlyTSdraftandslope','medium_TSdraftbotandiceddandwcd','medium_TSdraftslopereldGL','extra_large_TSdraftslopereldGL']#['mini', 'small', 'medium', 'large'] #, 'extra_large'\n",
    "mod_size_list = ['xsmall96_newbasic2','small_newbasic2','large_newbasic2'] #,#['mini', 'small', 'medium', 'large'] #, 'extra_large'\n",
    "\n",
    "norm_method = 'std'\n",
    "TS_opt = 'extrap' #'whole' #'extrap'\n",
    "\n",
    "melt_2D_param_CVtime_list = []\n",
    "melt_2D_param_CVisf_list = []\n",
    "    \n",
    "for mod_size in mod_size_list:\n",
    "    print(mod_size)\n",
    "\n",
    "    outputpath_melt_nn = '/bettik/burgardc/DATA/NN_PARAM/processed/MELT_RATE/'\n",
    "\n",
    "    new_path_output = outputpath_melt_nn+'CV_TBLOCKS/'\n",
    "    melt_rate_2D_nn = xr.open_dataset(new_path_output+'evalmetrics_2D_CV_'+mod_size+'_'+TS_opt+'_norm'+norm_method+'_'+nemo_run+'.nc')\n",
    "    melt_rate_2D_nn_timmean = melt_rate_2D_nn['predicted_melt'].mean('time').reindex_like(file_isf['ISF_mask'])\n",
    "    melt_2D_param_CVtime_list.append(melt_rate_2D_nn_timmean.assign_coords({'crossval': 'time'}))\n",
    "    \n",
    "    new_path_output = outputpath_melt_nn+'CV_ISF/'\n",
    "    melt_rate_2D_nn = xr.open_dataset(new_path_output+'evalmetrics_2D_CV_'+mod_size+'_'+TS_opt+'_norm'+norm_method+'_'+nemo_run+'.nc')\n",
    "    melt_rate_2D_nn_timmean = melt_rate_2D_nn['predicted_melt'].mean('time').reindex_like(file_isf['ISF_mask'])\n",
    "    melt_2D_param_CVisf_list.append(melt_rate_2D_nn_timmean.assign_coords({'crossval': 'isf'}))\n",
    "\n",
    "melt_2D_CVtime_all = xr.concat(melt_2D_param_CVtime_list, dim='nn_model')\n",
    "melt_2D_CVisf_all = xr.concat(melt_2D_param_CVisf_list, dim='nn_model')\n",
    "melt_2D_all = xr.concat([melt_2D_CVtime_all, melt_2D_CVisf_all], dim='crossval')\n",
    "melt_2D_all = melt_2D_all.assign_coords(nn_model=mod_size_list)"
   ]
  },
  {
   "cell_type": "code",
   "execution_count": null,
   "id": "8be84563-1c0a-44f8-8ec1-cd46b33483fa",
   "metadata": {},
   "outputs": [],
   "source": [
    "ref_melt_2D = melt_rate_2D_nn['reference_melt'].where(file_isf_mask).mean('time')"
   ]
  },
  {
   "cell_type": "code",
   "execution_count": null,
   "id": "9a401b02-93d3-4244-9a22-df158ea999f1",
   "metadata": {},
   "outputs": [],
   "source": [
    "grounded_msk03 = file_isf['ground_mask'].where(file_isf['ground_mask']==0,3)\n",
    "grounded_msk = (grounded_msk03.where(grounded_msk03!=3,1)-1)*-1"
   ]
  },
  {
   "cell_type": "code",
   "execution_count": null,
   "id": "7f6a119f-01f0-4736-a6bf-572ac492c17c",
   "metadata": {},
   "outputs": [],
   "source": [
    "icesheet_msk_0inf = file_isf_mask.where(file_isf_mask!=1,0)\n",
    "icesheet_msk = icesheet_msk_0inf.where(icesheet_msk_0inf < 1, 1)"
   ]
  },
  {
   "cell_type": "code",
   "execution_count": null,
   "id": "acb7b08e-b6b9-4c6a-a718-9f6a2770543c",
   "metadata": {},
   "outputs": [],
   "source": [
    "box_loc_config2 = box_charac_all_2D['box_location'].sel(box_nb_tot=box_charac_all_1D['nD_config'].sel(config=2))\n",
    "box1 = box_loc_config2.where(box_loc_config2==1).isel(Nisf=0).drop('Nisf')\n",
    "box1_msk = box1.where(box1==1,0)"
   ]
  },
  {
   "cell_type": "markdown",
   "id": "413c8efe-b031-4208-b6d6-932b4384e2b3",
   "metadata": {},
   "source": [
    "TRY TAYLOR DIAGRAM FOR ONE PARAM AND ONE ICE SHELF"
   ]
  },
  {
   "cell_type": "code",
   "execution_count": null,
   "id": "809a68df-da96-4a33-8bd9-464f89b67e6e",
   "metadata": {},
   "outputs": [],
   "source": [
    "def taylor_diagram(refstd, stddev, corrcoef, fig=None, levels=5, extend=False):\n",
    "    \n",
    "    ccolors = ['blue','green','magenta']\n",
    "    srange = [0,2] # in units of refstd\n",
    "\n",
    "    tr = PolarAxes.PolarTransform()\n",
    "    \n",
    "    # Correlation labels\n",
    "    rlocs = np.array([0, 0.2, 0.4, 0.6, 0.7, 0.8, 0.9, 0.95, 0.99, 1])\n",
    "    if extend:\n",
    "        # Diagram extended to negative correlations\n",
    "        ccoef_max = np.pi\n",
    "        rlocs = NP.concatenate((-rlocs[:0:-1], rlocs))\n",
    "    else:\n",
    "        # Diagram limited to positive correlations\n",
    "        ccoef_max = np.pi/2\n",
    "    tlocs = np.arccos(rlocs)        # Conversion to polar angles\n",
    "    gl1 = gf.FixedLocator(tlocs)    # Positions\n",
    "    tf1 = gf.DictFormatter(dict(zip(tlocs, map(str, rlocs))))\n",
    "\n",
    "    # Standard deviation axis extent (in units of reference stddev)\n",
    "    stdmin = srange[0] * refstd\n",
    "    stdmax = srange[1] * refstd\n",
    "\n",
    "    ghelper = fa.GridHelperCurveLinear(\n",
    "        tr,\n",
    "        extremes=(0, ccoef_max, stdmin, stdmax),\n",
    "        grid_locator1=gl1, tick_formatter1=tf1)\n",
    "    \n",
    "    if fig == None:\n",
    "        fig = plt.figure()\n",
    "    \n",
    "    ax = fa.FloatingSubplot(fig, 122, grid_helper=ghelper)\n",
    "    fig.add_subplot(ax)\n",
    "\n",
    "    # Adjust axes\n",
    "    ax.axis[\"top\"].set_axis_direction(\"bottom\")   # \"Angle axis\"\n",
    "    ax.axis[\"top\"].toggle(ticklabels=True, label=True)\n",
    "    ax.axis[\"top\"].major_ticklabels.set_axis_direction(\"top\")\n",
    "    ax.axis[\"top\"].label.set_axis_direction(\"top\")\n",
    "    ax.axis[\"top\"].label.set_text(\"Correlation\")\n",
    "\n",
    "    ax.axis[\"left\"].set_axis_direction(\"bottom\")  # \"X axis\"\n",
    "    ax.axis[\"left\"].label.set_text(\"Standard deviation\")\n",
    "\n",
    "    ax.axis[\"right\"].set_axis_direction(\"top\")    # \"Y-axis\"\n",
    "    ax.axis[\"right\"].toggle(ticklabels=True)\n",
    "    ax.axis[\"right\"].major_ticklabels.set_axis_direction(\n",
    "        \"bottom\" if extend else \"left\")\n",
    "\n",
    "    if stdmin:\n",
    "        ax.axis[\"bottom\"].toggle(ticklabels=False, label=False)\n",
    "    else:\n",
    "        ax.axis[\"bottom\"].set_visible(False)          # Unused\n",
    "\n",
    "    ax0 = ax.get_aux_axes(tr)   # Polar coordinates\n",
    "\n",
    "    # Add reference point and stddev contour\n",
    "    l, = ax0.plot([0], refstd, 'k*',\n",
    "                      ls='', ms=10, label='Reference')\n",
    "    t = np.linspace(0, ccoef_max)\n",
    "    r = np.zeros_like(t) + refstd\n",
    "    ax0.plot(t, r, 'k--', label='_')\n",
    "\n",
    "    # Collect sample points for latter use (e.g. legend)\n",
    "    samplePoints = [l]\n",
    "\n",
    "    ### NOW FEED THE DATA\n",
    "    \n",
    "    for i,cc in enumerate(corrcoef):\n",
    "        if i > 2:\n",
    "            ccol = ccolors[i-3]\n",
    "        else:\n",
    "            ccol = ccolors[i]\n",
    "        l, = ax0.plot(np.arccos(corrcoef[i]), stddev[i], color=ccol, marker='o')  # (theta, radius)\n",
    "    samplePoints.append(l)\n",
    "\n",
    "    ax.grid()\n",
    "    \n",
    "    rs, ts = np.meshgrid(np.linspace(stdmin, stdmax),\n",
    "                         np.linspace(0, ccoef_max))\n",
    "    # Compute centered RMS difference\n",
    "    rms = np.sqrt(refstd**2 + rs**2 - 2*refstd*rs*np.cos(ts))\n",
    "\n",
    "    contours = ax0.contour(ts, rs, rms, levels, linestyle='--')\n",
    "        \n",
    "    return fig"
   ]
  },
  {
   "cell_type": "code",
   "execution_count": null,
   "id": "3ae5a401-8c90-42fa-b734-1566b06c7288",
   "metadata": {},
   "outputs": [],
   "source": [
    "kisf = 31\n",
    "if kisf == 11:\n",
    "    kisf_mask = (file_isf_mask==11) | (file_isf_mask==21)\n",
    "else:\n",
    "    kisf_mask = file_isf_mask==kisf\n",
    "\n",
    "ref_melt_isf = ref_melt_2D.where(kisf_mask,drop=True)\n",
    "param_melt_isf = melt_2D_all.where(kisf_mask,drop=True)\n"
   ]
  },
  {
   "cell_type": "code",
   "execution_count": null,
   "id": "12b5b4ff-7fd3-49c6-a429-e05515f3a890",
   "metadata": {},
   "outputs": [],
   "source": [
    "ref_std = ref_melt_isf.std().values.flatten()[0]\n",
    "stddev = param_melt_isf.std(['x','y']).values.flatten() \n",
    "ccoeff = xr.corr(ref_melt_isf,param_melt_isf,dim=['x','y']).values.flatten()"
   ]
  },
  {
   "cell_type": "code",
   "execution_count": null,
   "id": "b4fa6800-4e90-40a3-a9d4-06eb0abd7af5",
   "metadata": {},
   "outputs": [],
   "source": [
    "ref_std[0]"
   ]
  },
  {
   "cell_type": "code",
   "execution_count": null,
   "id": "1456d327-bd9d-47ce-9067-2979dfb226e1",
   "metadata": {},
   "outputs": [],
   "source": [
    "stddev"
   ]
  },
  {
   "cell_type": "code",
   "execution_count": null,
   "id": "20e2c672-0823-4318-b811-6dcb888754d5",
   "metadata": {},
   "outputs": [],
   "source": [
    "fig = taylor_diagram(ref_std, stddev, ccoeff ,fig=None,extend=False)"
   ]
  },
  {
   "cell_type": "code",
   "execution_count": null,
   "id": "3c4c467a-1a87-486d-b0bd-47ea0e2b20d0",
   "metadata": {},
   "outputs": [],
   "source": [
    "fig_66 = taylor_diagram(ref_std, stddev, ccoeff ,fig=fig_66,extend=False)"
   ]
  }
 ],
 "metadata": {
  "kernelspec": {
   "display_name": "py38",
   "language": "python",
   "name": "py38"
  },
  "language_info": {
   "codemirror_mode": {
    "name": "ipython",
    "version": 3
   },
   "file_extension": ".py",
   "mimetype": "text/x-python",
   "name": "python",
   "nbconvert_exporter": "python",
   "pygments_lexer": "ipython3",
   "version": "3.8.12"
  }
 },
 "nbformat": 4,
 "nbformat_minor": 5
}
