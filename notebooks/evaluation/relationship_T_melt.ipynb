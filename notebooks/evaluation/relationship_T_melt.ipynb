{
 "cells": [
  {
   "cell_type": "code",
   "execution_count": null,
   "id": "9c8515f4-ae57-407e-a448-894435b1fa37",
   "metadata": {},
   "outputs": [],
   "source": [
    "\"\"\"\n",
    "Created on Wed Oct 11 12:29 2023\n",
    "\n",
    "Look at relationship between input T and predicted melt\n",
    "\n",
    "Author: @claraburgard\n",
    "\n",
    "\"\"\""
   ]
  },
  {
   "cell_type": "code",
   "execution_count": null,
   "id": "c739d791-1b7f-4792-bb7c-59a9fd0e3967",
   "metadata": {},
   "outputs": [],
   "source": [
    "import xarray as xr\n",
    "import matplotlib.pyplot as plt\n",
    "from tqdm.notebook import tqdm\n",
    "\n",
    "import multimelt.melt_functions as meltf\n",
    "import basal_melt_neural_networks.data_formatting as dfmt\n",
    "from scipy.stats import kde"
   ]
  },
  {
   "cell_type": "code",
   "execution_count": null,
   "id": "b326eefa-c2bc-4bd9-915e-148216de8fda",
   "metadata": {},
   "outputs": [],
   "source": [
    "%matplotlib qt5"
   ]
  },
  {
   "cell_type": "code",
   "execution_count": null,
   "id": "fd551725-be23-441b-800c-632338e820fc",
   "metadata": {},
   "outputs": [],
   "source": [
    "nemo_run = 'bf663'"
   ]
  },
  {
   "cell_type": "code",
   "execution_count": null,
   "id": "873875fc-f111-4d03-8e9f-247d994ed596",
   "metadata": {},
   "outputs": [],
   "source": [
    "inputpath_data='/bettik/burgardc/DATA/NN_PARAM/interim/SMITH_'+nemo_run+'/'\n",
    "inputpath_mask='/bettik/burgardc/DATA/NN_PARAM/interim/ANTARCTICA_IS_MASKS/SMITH_'+nemo_run+'/'\n",
    "inputpath_profiles='/bettik/burgardc/DATA/NN_PARAM/interim/T_S_PROF/SMITH_'+nemo_run+'/'\n",
    "inputpath_plumes='/bettik/burgardc/DATA/NN_PARAM/interim/PLUMES/SMITH_'+nemo_run+'/'\n",
    "inputpath_boxes='/bettik/burgardc/DATA/NN_PARAM/interim/BOXES/SMITH_'+nemo_run+'/'\n",
    "\n",
    "\n",
    "outputpath_melt = '/bettik/burgardc/DATA/NN_PARAM/interim/SMITH_'+nemo_run+'/'\n",
    "outputpath_nn = '/bettik/burgardc/DATA/NN_PARAM/interim/INPUT_DATA/SMITH_'+nemo_run+'_EXTRAPDRAFT_CHUNKS/'\n",
    "inputpath_tides = '/bettik/burgardc/DATA/BASAL_MELT_PARAM/interim/TIDES/'\n",
    "\n",
    "outputpath_melt_nn = '/bettik/burgardc/DATA/NN_PARAM/processed/MELT_RATE/SMITH_'+nemo_run+'/'\n"
   ]
  },
  {
   "cell_type": "code",
   "execution_count": null,
   "id": "e2b8a14b-dcc7-4fbd-84e6-8c22ab337944",
   "metadata": {},
   "outputs": [],
   "source": [
    "mod_size = 'small' #'mini', 'small', 'medium', 'large', 'extra_large'\n",
    "TS_opt = 'extrap' # extrap, whole, thermocline\n",
    "norm_method =  'std' # std, interquart, minmax\n",
    "exp_name = 'newbasic2' #'allbutconstants' #'onlyTSdraftandslope' #'TSdraftbotandiceddandwcd' #'onlyTSisfdraft' #'TSdraftbotandiceddandwcdreldGL' #TSdraftslopereldGL"
   ]
  },
  {
   "cell_type": "code",
   "execution_count": null,
   "id": "4010568f-559a-4a1a-b39b-caa01302f544",
   "metadata": {},
   "outputs": [],
   "source": [
    "map_lim = [-3000000,3000000]\n",
    "file_other = xr.open_dataset(inputpath_data+'corrected_draft_bathy_isf.nc')#, chunks={'x': chunk_size, 'y': chunk_size})\n",
    "file_other_cut = dfmt.cut_domain_stereo(file_other, map_lim, map_lim)"
   ]
  },
  {
   "cell_type": "code",
   "execution_count": null,
   "id": "3d169d7f-60af-4cd2-bb8f-131d8abb3080",
   "metadata": {},
   "outputs": [],
   "source": [
    "melt_2D"
   ]
  },
  {
   "cell_type": "code",
   "execution_count": null,
   "id": "37254da9-2a90-41d2-91b8-f6a5f96f0ab9",
   "metadata": {},
   "outputs": [],
   "source": [
    "box_charac_2D"
   ]
  },
  {
   "cell_type": "code",
   "execution_count": null,
   "id": "759998de-7a32-4e5e-9aa9-cf3722cc4668",
   "metadata": {},
   "outputs": [],
   "source": [
    "plt.figure()\n",
    "\n",
    "for tt in tqdm(range(1980,1980 + 60)):\n",
    "    \n",
    "    # Thermal forcing\n",
    "    T_S_2D_isfdraft = xr.open_dataset(inputpath_profiles+'T_S_2D_fields_isf_draft_oneFRIS_'+str(tt)+'.nc').squeeze().drop('time')\n",
    "    \n",
    "    thermal_forcing = T_S_2D_isfdraft['theta_in'] - meltf.freezing_temperature(T_S_2D_isfdraft['salinity_in'],-file_other_cut['corrected_isfdraft'].sel(time=tt))\n",
    "    \n",
    "    # File isf\n",
    "    file_isf_orig = xr.open_dataset(inputpath_mask+'nemo_5km_isf_masks_and_info_and_distance_oneFRIS_'+str(tt)+'.nc')\n",
    "    nonnan_Nisf = file_isf_orig['Nisf'].where(np.isfinite(file_isf_orig['front_bot_depth_max']), drop=True).astype(int)\n",
    "    file_isf_nonnan = file_isf_orig.sel(Nisf=nonnan_Nisf)\n",
    "    large_isf = file_isf_nonnan['Nisf'].where(file_isf_nonnan['isf_area_here'] >= 2500, drop=True)\n",
    "    file_isf = file_isf_nonnan.sel(Nisf=large_isf)\n",
    "    \n",
    "    box_charac_2D = xr.open_dataset(inputpath_boxes + 'nemo_5km_boxes_2D_oneFRIS_'+str(tt)+'_merged75.nc')\n",
    "    box_charac_1D = xr.open_dataset(inputpath_boxes + 'nemo_5km_boxes_1D_oneFRIS_'+str(tt)+'_merged75.nc')\n",
    "\n",
    "    if box_charac_2D and box_charac_1D:\n",
    "        box_loc_config2 = box_charac_2D['box_location'].sel(box_nb_tot=box_charac_1D['nD_config'].sel(config=2))\n",
    "        box1 = box_loc_config2.where(box_loc_config2==1).isel(Nisf=1).drop('Nisf')\n",
    "    \n",
    "    ## Ref melt\n",
    "    #NEMO_melt_rates_2D = xr.open_dataset(outputpath_melt+'melt_rates_2D_NEMO_'+str(tt)+'.nc')\n",
    "    #melt_rate = NEMO_melt_rates_2D['melt_m_ice_per_y']\n",
    "    \n",
    "    # NN_melt\n",
    "    melt_2D = xr.open_dataset(outputpath_melt_nn + 'evalmetrics_2D_'+mod_size+'_'+exp_name+'_ensmean_'+TS_opt+'_norm'+norm_method+'_'+str(tt)+'_'+nemo_run+'.nc')\n",
    "    melt_GL = melt_2D.where(np.isfinite(box1))\n",
    "\n",
    "    plt.scatter(thermal_forcing.where(np.isfinite(box1)),melt_GL['reference_melt'],alpha=0.005,edgecolors=None,color='grey',s=5)\n",
    "\n",
    "plt.title('REFERENCE')\n",
    "    \n",
    "plt.xlim(0,1.1)\n",
    "plt.ylim(-2,3)"
   ]
  },
  {
   "cell_type": "code",
   "execution_count": null,
   "id": "f7c29b3d-9130-4525-9059-bc21576d6c80",
   "metadata": {
    "tags": []
   },
   "outputs": [],
   "source": [
    "plt.figure()\n",
    "\n",
    "for tt in tqdm(range(1980,1980 + 60)):\n",
    "    \n",
    "    # Thermal forcing\n",
    "    T_S_2D_isfdraft = xr.open_dataset(inputpath_profiles+'T_S_2D_fields_isf_draft_oneFRIS_'+str(tt)+'.nc').squeeze().drop('time')\n",
    "    \n",
    "    thermal_forcing = T_S_2D_isfdraft['theta_in'] - meltf.freezing_temperature(T_S_2D_isfdraft['salinity_in'],-file_other_cut['corrected_isfdraft'].sel(time=tt))\n",
    "    \n",
    "    # File isf\n",
    "    file_isf_orig = xr.open_dataset(inputpath_mask+'nemo_5km_isf_masks_and_info_and_distance_oneFRIS_'+str(tt)+'.nc')\n",
    "    nonnan_Nisf = file_isf_orig['Nisf'].where(np.isfinite(file_isf_orig['front_bot_depth_max']), drop=True).astype(int)\n",
    "    file_isf_nonnan = file_isf_orig.sel(Nisf=nonnan_Nisf)\n",
    "    large_isf = file_isf_nonnan['Nisf'].where(file_isf_nonnan['isf_area_here'] >= 2500, drop=True)\n",
    "    file_isf = file_isf_nonnan.sel(Nisf=large_isf)\n",
    "    \n",
    "    box_charac_2D = xr.open_dataset(inputpath_boxes + 'nemo_5km_boxes_2D_oneFRIS_'+str(tt)+'_merged75.nc')\n",
    "    box_charac_1D = xr.open_dataset(inputpath_boxes + 'nemo_5km_boxes_1D_oneFRIS_'+str(tt)+'_merged75.nc')\n",
    "\n",
    "    if box_charac_2D and box_charac_1D:\n",
    "        box_loc_config2 = box_charac_2D['box_location'].sel(box_nb_tot=box_charac_1D['nD_config'].sel(config=2))\n",
    "        box1 = box_loc_config2.where(box_loc_config2==1).isel(Nisf=1).drop('Nisf')\n",
    "    \n",
    "    ## Ref melt\n",
    "    #NEMO_melt_rates_2D = xr.open_dataset(outputpath_melt+'melt_rates_2D_NEMO_'+str(tt)+'.nc')\n",
    "    #melt_rate = NEMO_melt_rates_2D['melt_m_ice_per_y']\n",
    "    \n",
    "    # NN_melt\n",
    "    melt_2D = xr.open_dataset(outputpath_melt_nn + 'evalmetrics_2D_'+mod_size+'_'+exp_name+'_ensmean_'+TS_opt+'_norm'+norm_method+'_'+str(tt)+'_'+nemo_run+'.nc')\n",
    "    \n",
    "    melt_GL = melt_2D.where(np.isfinite(box1))\n",
    "\n",
    "    plt.scatter(thermal_forcing.where(np.isfinite(box1)),melt_GL['predicted_melt'],alpha=0.002,edgecolors=None,color='k',s=5)\n",
    "\n",
    "plt.title('PREDICTED')\n",
    "\n",
    "plt.xlim(0,1.1)\n",
    "plt.ylim(-2,3)"
   ]
  },
  {
   "cell_type": "markdown",
   "id": "56c471a5-1f9e-4be6-b499-29dc5a9bd548",
   "metadata": {},
   "source": [
    "ALL (NOT ONLY GL)"
   ]
  },
  {
   "cell_type": "code",
   "execution_count": null,
   "id": "336b188e-22fc-4c1f-90e9-348ae0fe5d87",
   "metadata": {},
   "outputs": [],
   "source": [
    "plt.figure()\n",
    "\n",
    "for tt in tqdm(range(1980,1980 + 60)):\n",
    "    \n",
    "    # Thermal forcing\n",
    "    T_S_2D_isfdraft = xr.open_dataset(inputpath_profiles+'T_S_2D_fields_isf_draft_oneFRIS_'+str(tt)+'.nc').squeeze().drop('time')\n",
    "    \n",
    "    thermal_forcing = T_S_2D_isfdraft['theta_in'] - meltf.freezing_temperature(T_S_2D_isfdraft['salinity_in'],-file_other_cut['corrected_isfdraft'].sel(time=tt))\n",
    "    \n",
    "    # File isf\n",
    "    file_isf_orig = xr.open_dataset(inputpath_mask+'nemo_5km_isf_masks_and_info_and_distance_oneFRIS_'+str(tt)+'.nc')\n",
    "    nonnan_Nisf = file_isf_orig['Nisf'].where(np.isfinite(file_isf_orig['front_bot_depth_max']), drop=True).astype(int)\n",
    "    file_isf_nonnan = file_isf_orig.sel(Nisf=nonnan_Nisf)\n",
    "    large_isf = file_isf_nonnan['Nisf'].where(file_isf_nonnan['isf_area_here'] >= 2500, drop=True)\n",
    "    file_isf = file_isf_nonnan.sel(Nisf=large_isf)\n",
    "    \n",
    "    \n",
    "    ## Ref melt\n",
    "    #NEMO_melt_rates_2D = xr.open_dataset(outputpath_melt+'melt_rates_2D_NEMO_'+str(tt)+'.nc')\n",
    "    #melt_rate = NEMO_melt_rates_2D['melt_m_ice_per_y']\n",
    "    \n",
    "    # NN_melt\n",
    "    melt_2D = xr.open_dataset(outputpath_melt_nn + 'evalmetrics_2D_'+mod_size+'_'+exp_name+'_ensmean_'+TS_opt+'_norm'+norm_method+'_'+str(tt)+'_'+nemo_run+'.nc')\n",
    "\n",
    "    plt.scatter(thermal_forcing,melt_2D['reference_melt'],alpha=0.005,edgecolors=None,color='grey',s=5)\n",
    "\n",
    "plt.title('REFERENCE (ALL POINTS)')\n",
    "    \n",
    "plt.xlim(0,1.1)\n",
    "plt.ylim(-2,3)"
   ]
  },
  {
   "cell_type": "markdown",
   "id": "36e85381-41ce-472a-ac21-51652c66377d",
   "metadata": {},
   "source": [
    "LOOK AT DELTAS"
   ]
  },
  {
   "cell_type": "code",
   "execution_count": null,
   "id": "6e756923-c72d-4144-98b0-199cb61a1252",
   "metadata": {},
   "outputs": [],
   "source": [
    "thermal_forcing_list = []\n",
    "melt2D_list = []\n",
    "for tt in tqdm(range(1980,1980 + 10)):\n",
    "    \n",
    "    # Thermal forcing\n",
    "    T_S_2D_isfdraft = xr.open_dataset(inputpath_profiles+'T_S_2D_fields_isf_draft_oneFRIS_'+str(tt)+'.nc').squeeze().drop('time')\n",
    "    \n",
    "    thermal_forcing = T_S_2D_isfdraft['theta_in'] - meltf.freezing_temperature(T_S_2D_isfdraft['salinity_in'],-file_other_cut['corrected_isfdraft'].sel(time=tt))\n",
    "    \n",
    "    # File isf\n",
    "    file_isf_orig = xr.open_dataset(inputpath_mask+'nemo_5km_isf_masks_and_info_and_distance_oneFRIS_'+str(tt)+'.nc')\n",
    "    nonnan_Nisf = file_isf_orig['Nisf'].where(np.isfinite(file_isf_orig['front_bot_depth_max']), drop=True).astype(int)\n",
    "    file_isf_nonnan = file_isf_orig.sel(Nisf=nonnan_Nisf)\n",
    "    large_isf = file_isf_nonnan['Nisf'].where(file_isf_nonnan['isf_area_here'] >= 2500, drop=True)\n",
    "    file_isf = file_isf_nonnan.sel(Nisf=large_isf)\n",
    "    \n",
    "    \n",
    "    ## Ref melt\n",
    "    #NEMO_melt_rates_2D = xr.open_dataset(outputpath_melt+'melt_rates_2D_NEMO_'+str(tt)+'.nc')\n",
    "    #melt_rate = NEMO_melt_rates_2D['melt_m_ice_per_y']\n",
    "    \n",
    "    # NN_melt\n",
    "    melt_2D = xr.open_dataset(outputpath_melt_nn + 'evalmetrics_2D_'+mod_size+'_'+exp_name+'_ensmean_'+TS_opt+'_norm'+norm_method+'_'+str(tt)+'_'+nemo_run+'.nc')\n",
    "    \n",
    "    thermal_forcing_list.append(thermal_forcing.assign_coords({'time': tt}))\n",
    "    melt2D_list.append(melt_2D.assign_coords({'time': tt}))\n",
    "    \n",
    "    tf_early = xr.concat(thermal_forcing_list, dim='time')\n",
    "    melt2D_early = xr.concat(melt2D_list, dim='time')\n"
   ]
  },
  {
   "cell_type": "code",
   "execution_count": null,
   "id": "27643def-64b2-4f1b-84a9-562a28c4ac34",
   "metadata": {},
   "outputs": [],
   "source": [
    "thermal_forcing_list = []\n",
    "melt2D_list = []\n",
    "for tt in tqdm(range(2030,2030 + 10)):\n",
    "    \n",
    "    # Thermal forcing\n",
    "    T_S_2D_isfdraft = xr.open_dataset(inputpath_profiles+'T_S_2D_fields_isf_draft_oneFRIS_'+str(tt)+'.nc').squeeze().drop('time')\n",
    "    \n",
    "    thermal_forcing = T_S_2D_isfdraft['theta_in'] - meltf.freezing_temperature(T_S_2D_isfdraft['salinity_in'],-file_other_cut['corrected_isfdraft'].sel(time=tt))\n",
    "    \n",
    "    # File isf\n",
    "    file_isf_orig = xr.open_dataset(inputpath_mask+'nemo_5km_isf_masks_and_info_and_distance_oneFRIS_'+str(tt)+'.nc')\n",
    "    nonnan_Nisf = file_isf_orig['Nisf'].where(np.isfinite(file_isf_orig['front_bot_depth_max']), drop=True).astype(int)\n",
    "    file_isf_nonnan = file_isf_orig.sel(Nisf=nonnan_Nisf)\n",
    "    large_isf = file_isf_nonnan['Nisf'].where(file_isf_nonnan['isf_area_here'] >= 2500, drop=True)\n",
    "    file_isf = file_isf_nonnan.sel(Nisf=large_isf)\n",
    "    \n",
    "    \n",
    "    ## Ref melt\n",
    "    #NEMO_melt_rates_2D = xr.open_dataset(outputpath_melt+'melt_rates_2D_NEMO_'+str(tt)+'.nc')\n",
    "    #melt_rate = NEMO_melt_rates_2D['melt_m_ice_per_y']\n",
    "    \n",
    "    # NN_melt\n",
    "    melt_2D = xr.open_dataset(outputpath_melt_nn + 'evalmetrics_2D_'+mod_size+'_'+exp_name+'_ensmean_'+TS_opt+'_norm'+norm_method+'_'+str(tt)+'_'+nemo_run+'.nc')\n",
    "    \n",
    "    thermal_forcing_list.append(thermal_forcing.assign_coords({'time': tt}))\n",
    "    melt2D_list.append(melt_2D.assign_coords({'time': tt}))\n",
    "    \n",
    "    tf_late = xr.concat(thermal_forcing_list, dim='time')\n",
    "    melt2D_late = xr.concat(melt2D_list, dim='time')\n"
   ]
  },
  {
   "cell_type": "code",
   "execution_count": null,
   "id": "74e0ac6d-9bce-4d4b-86e5-407a1346ed03",
   "metadata": {},
   "outputs": [],
   "source": [
    "delta_melt"
   ]
  },
  {
   "cell_type": "code",
   "execution_count": null,
   "id": "8e43e439-4920-4de1-9da6-06541425be50",
   "metadata": {},
   "outputs": [],
   "source": [
    "delta_tf = tf_late.mean('time') - tf_early.mean('time')\n",
    "delta_melt = melt2D_late.mean('time') - melt2D_early.mean('time')"
   ]
  },
  {
   "cell_type": "code",
   "execution_count": null,
   "id": "4eaa562e-72a9-49c8-bd04-180589138613",
   "metadata": {},
   "outputs": [],
   "source": [
    "plt.figure()\n",
    "plt.scatter(delta_tf,delta_melt['predicted_melt'],alpha=0.01,c='k',s=20)\n",
    "plt.scatter(delta_tf,delta_melt['reference_melt'],alpha=0.01,c='grey',s=20)"
   ]
  },
  {
   "cell_type": "code",
   "execution_count": null,
   "id": "fad66052-5944-465e-a80f-3b51e36d56ab",
   "metadata": {},
   "outputs": [],
   "source": []
  },
  {
   "cell_type": "code",
   "execution_count": null,
   "id": "2cdf307a-2f85-470f-b08e-f7011f50f5cc",
   "metadata": {},
   "outputs": [],
   "source": [
    "plt.figure()\n",
    "\n",
    "for tt in tqdm(range(1980,1980 + 60)):\n",
    "    \n",
    "    # Thermal forcing\n",
    "    T_S_2D_isfdraft = xr.open_dataset(inputpath_profiles+'T_S_2D_fields_isf_draft_oneFRIS_'+str(tt)+'.nc').squeeze().drop('time')\n",
    "    \n",
    "    thermal_forcing = T_S_2D_isfdraft['theta_in'] - meltf.freezing_temperature(T_S_2D_isfdraft['salinity_in'],-file_other_cut['corrected_isfdraft'].sel(time=tt))\n",
    "    \n",
    "    # File isf\n",
    "    file_isf_orig = xr.open_dataset(inputpath_mask+'nemo_5km_isf_masks_and_info_and_distance_oneFRIS_'+str(tt)+'.nc')\n",
    "    nonnan_Nisf = file_isf_orig['Nisf'].where(np.isfinite(file_isf_orig['front_bot_depth_max']), drop=True).astype(int)\n",
    "    file_isf_nonnan = file_isf_orig.sel(Nisf=nonnan_Nisf)\n",
    "    large_isf = file_isf_nonnan['Nisf'].where(file_isf_nonnan['isf_area_here'] >= 2500, drop=True)\n",
    "    file_isf = file_isf_nonnan.sel(Nisf=large_isf)\n",
    "    \n",
    "    ## Ref melt\n",
    "    #NEMO_melt_rates_2D = xr.open_dataset(outputpath_melt+'melt_rates_2D_NEMO_'+str(tt)+'.nc')\n",
    "    #melt_rate = NEMO_melt_rates_2D['melt_m_ice_per_y']\n",
    "    \n",
    "    # NN_melt\n",
    "    melt_2D = xr.open_dataset(outputpath_melt_nn + 'evalmetrics_2D_'+mod_size+'_'+exp_name+'_ensmean_'+TS_opt+'_norm'+norm_method+'_'+str(tt)+'_'+nemo_run+'.nc')\n",
    "    \n",
    "    plt.scatter(thermal_forcing,melt_2D['predicted_melt'],alpha=0.002,edgecolors=None,color='k',s=5)\n",
    "\n",
    "plt.title('PREDICTED (ALL POINTS)')\n",
    "\n",
    "plt.xlim(0,1.1)\n",
    "plt.ylim(-2,3)"
   ]
  },
  {
   "cell_type": "code",
   "execution_count": null,
   "id": "e1dab0a4-9deb-44b4-9152-738baea7ab9d",
   "metadata": {},
   "outputs": [],
   "source": [
    "melt_GL['predicted_melt'].plot()"
   ]
  },
  {
   "cell_type": "markdown",
   "id": "06aa213a-bc61-479d-b2df-448aff1dc41a",
   "metadata": {},
   "source": [
    "Try KDE density plot"
   ]
  },
  {
   "cell_type": "code",
   "execution_count": null,
   "id": "cfd2099f-7e08-4c80-882e-a1585f49f82a",
   "metadata": {},
   "outputs": [],
   "source": [
    "x.flatten()"
   ]
  },
  {
   "cell_type": "code",
   "execution_count": null,
   "id": "86bcbe89-1749-4046-83a4-790a1f7ed131",
   "metadata": {},
   "outputs": [],
   "source": [
    "x0 = thermal_forcing.values.flatten()\n",
    "y0 = melt_2D['reference_melt'].values.flatten()\n",
    "\n",
    "x1 = x0[~np.isnan(x0) & ~np.isnan(y0)]\n",
    "y1 = y0[~np.isnan(x0) & ~np.isnan(y0)]\n",
    "\n",
    "x = x1[(x1<=1) & (y1<=5)]\n",
    "y = y1[(x1<=1) & (y1<=5)]\n",
    "\n",
    "nbins=300\n",
    "k = kde.gaussian_kde([x,y])\n",
    "xi, yi = np.mgrid[x.min():x.max():nbins*1j, y.min():y.max():nbins*1j]\n",
    "zi = k(np.vstack([xi.flatten(), yi.flatten()]))\n",
    " \n",
    "# Make the plot\n",
    "plt.pcolormesh(xi, yi, zi.reshape(xi.shape), shading='auto', cmap=plt.cm.Greens_r)"
   ]
  },
  {
   "cell_type": "code",
   "execution_count": null,
   "id": "a445e5fd-bffc-4dcf-a374-8f7be1573fa7",
   "metadata": {},
   "outputs": [],
   "source": [
    "T_S_2D_isfdraft = xr.open_mfdataset(inputpath_profiles+'T_S_2D_fields_isf_draft_oneFRIS.nc').sel(profile_domain=50)\n",
    "\n",
    "file_other = xr.open_dataset(inputpath_data+'corrected_draft_bathy_isf.nc')#, chunks={'x': chunk_size, 'y': chunk_size})\n",
    "file_other_cut = file_other.sel(x=T_S_2D_isfdraft.x,y=T_S_2D_isfdraft.y)"
   ]
  },
  {
   "cell_type": "code",
   "execution_count": null,
   "id": "3f30378d-99b5-4bbc-9821-df733271755f",
   "metadata": {},
   "outputs": [],
   "source": [
    "file_other_cut"
   ]
  },
  {
   "cell_type": "code",
   "execution_count": null,
   "id": "8b9c2f44-f6e6-406a-b49f-689e1621a725",
   "metadata": {},
   "outputs": [],
   "source": [
    "T_S_2D_isfdraft['salinity_in']"
   ]
  },
  {
   "cell_type": "code",
   "execution_count": null,
   "id": "448d89c0-64ac-41a4-a62a-1f56df85c117",
   "metadata": {},
   "outputs": [],
   "source": [
    "thermal_forcing = T_S_2D_isfdraft['theta_in'] - meltf.freezing_temperature(T_S_2D_isfdraft['salinity_in'],-file_other_cut['corrected_isfdraft'])"
   ]
  },
  {
   "cell_type": "code",
   "execution_count": null,
   "id": "9033cfbb-c5b8-42e7-bbcb-b92e8db7ebba",
   "metadata": {},
   "outputs": [],
   "source": [
    "plt."
   ]
  },
  {
   "cell_type": "code",
   "execution_count": null,
   "id": "92c75b0e-d48b-4801-973a-bd6d5c396497",
   "metadata": {},
   "outputs": [],
   "source": []
  }
 ],
 "metadata": {
  "kernelspec": {
   "display_name": "neuralnet",
   "language": "python",
   "name": "neuralnet"
  },
  "language_info": {
   "codemirror_mode": {
    "name": "ipython",
    "version": 3
   },
   "file_extension": ".py",
   "mimetype": "text/x-python",
   "name": "python",
   "nbconvert_exporter": "python",
   "pygments_lexer": "ipython3",
   "version": "3.9.16"
  }
 },
 "nbformat": 4,
 "nbformat_minor": 5
}
