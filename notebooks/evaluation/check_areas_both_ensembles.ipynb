{
 "cells": [
  {
   "cell_type": "code",
   "execution_count": null,
   "id": "ca8bd17d-4448-4351-8ce7-0a5c627ba338",
   "metadata": {},
   "outputs": [],
   "source": [
    "\"\"\"\n",
    "Created on Mon Mar 06 17:05 2023\n",
    "\n",
    "This script is to have a look at the area of the largest ice shelves in both ensembles\n",
    "\n",
    "@author: Clara Burgard\n",
    "\"\"\""
   ]
  },
  {
   "cell_type": "code",
   "execution_count": null,
   "id": "80f43a71-b931-4d24-932c-1e25994697e3",
   "metadata": {},
   "outputs": [],
   "source": [
    "import xarray as xr\n",
    "import numpy as np\n",
    "import pandas as pd\n",
    "from tqdm.notebook import tqdm\n",
    "import matplotlib.pyplot as plt\n",
    "import basal_melt_param.useful_functions as uf\n",
    "import basal_melt_param.melt_functions as meltf\n",
    "from basal_melt_param.constants import *\n",
    "import basal_melt_param.T_S_profile_functions as tspf\n",
    "import seaborn as sns\n",
    "from matplotlib import cm\n",
    "import cartopy\n",
    "import cartopy.crs as ccrs\n",
    "import matplotlib as mpl\n",
    "import cmocean\n",
    "import glob"
   ]
  },
  {
   "cell_type": "code",
   "execution_count": null,
   "id": "ae03a848-73d9-4058-8e69-779f3d3a0d9a",
   "metadata": {},
   "outputs": [],
   "source": [
    "%matplotlib qt5"
   ]
  },
  {
   "cell_type": "markdown",
   "id": "ef4430f3-b80e-4b0b-9bf9-a2634cb8e660",
   "metadata": {},
   "source": [
    "FIXED MASK FILE FOR OPM016"
   ]
  },
  {
   "cell_type": "code",
   "execution_count": null,
   "id": "91be6e6f-a4aa-46c3-ae33-0acafed3b9a5",
   "metadata": {},
   "outputs": [],
   "source": [
    "inputpath_mask = '/bettik/burgardc/SCRIPTS/basal_melt_param/data/interim/ANTARCTICA_IS_MASKS/nemo_5km_OPM016/'\n",
    "file_isf_mathiot_orig = xr.open_dataset(inputpath_mask+'nemo_5km_isf_masks_and_info_and_distance_new_oneFRIS.nc')\n",
    "#file_isf = file_isf_orig.sel(Nisf=isf_list)\n",
    "nonnan_Nisf = file_isf_mathiot_orig['Nisf'].where(np.isfinite(file_isf_mathiot_orig['front_bot_depth_max']), drop=True).astype(int)\n",
    "file_isf_nonnan = file_isf_mathiot_orig.sel(Nisf=nonnan_Nisf)\n",
    "large_isf = file_isf_nonnan['Nisf'].where(file_isf_nonnan['isf_area_here'] >= 2500, drop=True)\n",
    "file_isf_mathiot = file_isf_nonnan.sel(Nisf=large_isf)\n",
    "area_mathiot = file_isf_mathiot['isf_area_here']"
   ]
  },
  {
   "cell_type": "code",
   "execution_count": null,
   "id": "e2d56495-d1fd-4721-bd75-eefa5a7a412c",
   "metadata": {},
   "outputs": [],
   "source": [
    "nemo_run = 'bi646'\n",
    "inputpath_mask='/bettik/burgardc/DATA/NN_PARAM/interim/ANTARCTICA_IS_MASKS/SMITH_'+nemo_run+'/'\n",
    "file_isf_1970 = xr.open_dataset(inputpath_mask+'nemo_5km_isf_masks_and_info_and_distance_oneFRIS_2041.nc').drop('time')"
   ]
  },
  {
   "cell_type": "code",
   "execution_count": null,
   "id": "a16c1e9e-7d63-4bc9-8a09-6b3aa54e2d76",
   "metadata": {},
   "outputs": [],
   "source": [
    "file_isf_1970['dIF'].plot()"
   ]
  },
  {
   "cell_type": "code",
   "execution_count": null,
   "id": "dc2db754-e962-4ebd-ae85-7fcd8b4583d0",
   "metadata": {},
   "outputs": [],
   "source": [
    "new_kisf_list = []\n",
    "for kisf in file_isf_mathiot.Nisf:\n",
    "    if file_isf_mathiot['isf_name'].sel(Nisf=kisf).values in file_isf_1970['isf_name'].values:\n",
    "        new_kisf = file_isf_1970.Nisf.where(file_isf_1970['isf_name'] == file_isf_mathiot['isf_name'].sel(Nisf=kisf), drop=True).values\n",
    "    elif file_isf_mathiot['isf_name'].sel(Nisf=kisf).values == 'Ekstrom':\n",
    "        new_kisf = np.array([110])\n",
    "    elif file_isf_mathiot['isf_name'].sel(Nisf=kisf).values == 'Tracy Tremenchus':\n",
    "        new_kisf = np.array([23])\n",
    "    else:\n",
    "        print(file_isf_mathiot['isf_name'].sel(Nisf=kisf).values)\n",
    "    new_kisf_list.append(new_kisf)\n",
    "        \n",
    "new_kisf_array = np.concatenate(new_kisf_list, axis=0)"
   ]
  },
  {
   "cell_type": "code",
   "execution_count": null,
   "id": "c849d933-0aa6-491d-beb4-43de0056ff05",
   "metadata": {},
   "outputs": [],
   "source": [
    "area_mathiot['Nisf'] = new_kisf_array.astype(int)"
   ]
  },
  {
   "cell_type": "code",
   "execution_count": null,
   "id": "f23ffcf5-1feb-4a56-b281-4ac1585b5cd0",
   "metadata": {},
   "outputs": [],
   "source": [
    "nemo_run = 'bi646'\n",
    "inputpath_mask='/bettik/burgardc/DATA/NN_PARAM/interim/ANTARCTICA_IS_MASKS/SMITH_'+nemo_run+'/'\n",
    "\n",
    "area_list = []\n",
    "for tt in range(1970, 1970 + 72):\n",
    "    file_isf_orig = xr.open_dataset(inputpath_mask+'nemo_5km_isf_masks_and_info_and_distance_oneFRIS_'+str(tt)+'.nc').drop('time')\n",
    "    file_isf = file_isf_orig\n",
    "    #nonnan_Nisf = file_isf_orig['Nisf'].where(np.isfinite(file_isf_orig['front_bot_depth_max']), drop=True).astype(int)\n",
    "    #file_isf_nonnan = file_isf_orig.sel(Nisf=nonnan_Nisf)\n",
    "    #file_isf = file_isf_nonnan.sel(Nisf=nonnan_Nisf)\n",
    "    #large_isf = file_isf_nonnan['Nisf'].where(file_isf_nonnan['isf_area_here'] >= 2500, drop=True)\n",
    "    #file_isf = file_isf_nonnan.sel(Nisf=large_isf)\n",
    "    if 'labels' in file_isf.coords.keys():\n",
    "        file_isf = file_isf.drop('labels')\n",
    "    area_list.append(file_isf['isf_area_here'])\n",
    "    \n",
    "areas_bi646 = xr.concat(area_list, dim='time')"
   ]
  },
  {
   "cell_type": "code",
   "execution_count": null,
   "id": "53a72179-55c5-4f2e-9ff5-06f82e894c8d",
   "metadata": {},
   "outputs": [],
   "source": [
    "nemo_run = 'bf663'\n",
    "inputpath_mask='/bettik/burgardc/DATA/NN_PARAM/interim/ANTARCTICA_IS_MASKS/SMITH_'+nemo_run+'/'\n",
    "\n",
    "area_list = []\n",
    "for tt in range(1970, 2051):\n",
    "    file_isf_orig = xr.open_dataset(inputpath_mask+'nemo_5km_isf_masks_and_info_and_distance_oneFRIS_'+str(tt)+'.nc').drop('time')\n",
    "    file_isf = file_isf_orig\n",
    "    #nonnan_Nisf = file_isf_orig['Nisf'].where(np.isfinite(file_isf_orig['front_bot_depth_max']), drop=True).astype(int)\n",
    "    #file_isf_nonnan = file_isf_orig.sel(Nisf=nonnan_Nisf)\n",
    "    #file_isf = file_isf_orig.sel(Nisf=nonnan_Nisf)\n",
    "    #large_isf = file_isf_nonnan['Nisf'].where(file_isf_nonnan['isf_area_here'] >= 2500, drop=True)\n",
    "    #file_isf = file_isf_nonnan.sel(Nisf=large_isf)\n",
    "    if 'labels' in file_isf.coords.keys():\n",
    "        file_isf = file_isf.drop('labels')\n",
    "    area_list.append(file_isf['isf_area_here'])\n",
    "    \n",
    "areas_bf663 = xr.concat(area_list, dim='time')"
   ]
  },
  {
   "cell_type": "code",
   "execution_count": null,
   "id": "eff80359-05eb-40d2-af8c-46240c88cbea",
   "metadata": {},
   "outputs": [],
   "source": [
    "regions = ['Weddell','Bellingshausen','Amundsen','Ross','East 1','East 2','Dronning Maud Land']\n",
    "colors = ['red','orange','brown','magenta','yellow','cyan','blue','magenta']\n",
    "\n",
    "f = plt.figure()\n",
    "f.set_size_inches(8.25*1.5, 8.25*1.5)\n",
    "\n",
    "ax={}\n",
    "\n",
    "leg_hdl = []\n",
    "\n",
    "i = 0\n",
    "\n",
    "sorted_isf_all = [11,69,43,12,70,44,29,13,58,71,45,30,31,61,73,47,32,48,33,17,62,49,34,18,10,65,51,22,38,52,23,66,53,39,24,40,54,75,25,26,42,55]\n",
    "\n",
    "for kisf in tqdm(sorted_isf_all):\n",
    "    \n",
    "        \n",
    "    ax[i] = f.add_subplot(7,7,i+1)\n",
    "\n",
    "    if kisf in areas_bi646.Nisf.values:\n",
    "\n",
    "        ax[i].plot(areas_bi646.time,areas_bi646.sel(Nisf=kisf), color='red')\n",
    "\n",
    "    if kisf in areas_bf663.Nisf.values:\n",
    "\n",
    "        ax[i].plot(areas_bf663.time,areas_bf663.sel(Nisf=kisf), color='blue')\n",
    "\n",
    "    if kisf in area_mathiot.Nisf.values:\n",
    "\n",
    "        ax[i].axhline(xmin=0, xmax=80, y=area_mathiot.sel(Nisf=kisf), color='k', linewidth=2)\n",
    "\n",
    "\n",
    "    #if kisf == 23:\n",
    "    #    ax[i].set_title('Tracy Tremenchus')\n",
    "    #elif kisf == 24:\n",
    "    #    ax[i].set_title('Conger/Glenzer')\n",
    "    #elif kisf == 110:\n",
    "    #    ax[i].set_title('Ekström')\n",
    "    #else:\n",
    "    ax[i].set_title(str(file_isf_1970['isf_name'].sel(Nisf=kisf).values))\n",
    "    #ax[i].set_xlim(-2.2,2.5)\n",
    "\n",
    "    i = i+1\n",
    "\n",
    "\n",
    "f.subplots_adjust(bottom=0.05, wspace=0.1)\n",
    "\n",
    "f.tight_layout()\n",
    "sns.despine()"
   ]
  },
  {
   "cell_type": "code",
   "execution_count": null,
   "id": "3df07a9f-576f-4042-8422-031c77893489",
   "metadata": {},
   "outputs": [],
   "source": [
    "str(file_isf_1970['isf_name'].sel(Nisf=kisf).values)"
   ]
  },
  {
   "cell_type": "code",
   "execution_count": null,
   "id": "d7c45dde-49f6-44bf-8bab-e337e74b47b7",
   "metadata": {},
   "outputs": [],
   "source": [
    "areas_bf663.Nisf.values"
   ]
  },
  {
   "cell_type": "code",
   "execution_count": null,
   "id": "d21bc6a9-c76e-49ca-b711-e4f2ed9c6488",
   "metadata": {},
   "outputs": [],
   "source": []
  }
 ],
 "metadata": {
  "kernelspec": {
   "display_name": "py38",
   "language": "python",
   "name": "py38"
  },
  "language_info": {
   "codemirror_mode": {
    "name": "ipython",
    "version": 3
   },
   "file_extension": ".py",
   "mimetype": "text/x-python",
   "name": "python",
   "nbconvert_exporter": "python",
   "pygments_lexer": "ipython3",
   "version": "3.8.12"
  }
 },
 "nbformat": 4,
 "nbformat_minor": 5
}
