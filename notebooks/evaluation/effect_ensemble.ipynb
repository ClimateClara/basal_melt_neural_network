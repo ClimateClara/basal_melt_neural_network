{
 "cells": [
  {
   "cell_type": "code",
   "execution_count": null,
   "id": "fc15cb0e-9fe9-4674-be85-1647990e1023",
   "metadata": {},
   "outputs": [],
   "source": [
    "\"\"\"\n",
    "Created on Wed Oct 11 11:59 2023\n",
    "\n",
    "Explore the effect of the ensemble of NNs\n",
    "\n",
    "Author: @claraburgard\n",
    "\n",
    "\"\"\""
   ]
  },
  {
   "cell_type": "code",
   "execution_count": null,
   "id": "cf6bf85d-7906-4297-82b2-fe83b143a097",
   "metadata": {},
   "outputs": [],
   "source": [
    "import xarray as xr\n",
    "import matplotlib as mpl\n",
    "from tqdm.notebook import tqdm\n",
    "import numpy as np"
   ]
  },
  {
   "cell_type": "code",
   "execution_count": null,
   "id": "04ad10ee-1ec7-495a-a3d5-13639416bcc7",
   "metadata": {},
   "outputs": [],
   "source": [
    "%matplotlib qt5"
   ]
  },
  {
   "cell_type": "code",
   "execution_count": null,
   "id": "9817a18f-54fe-494a-83e3-19d69ba88960",
   "metadata": {},
   "outputs": [],
   "source": [
    "mod_size =  'small' #'mini', 'small', 'medium', 'large', 'extra_large'\n",
    "TS_opt = 'extrap' # extrap, whole, thermocline\n",
    "norm_method =  'std' # std, interquart, minmax\n",
    "exp_name = 'newbasic2'#'allbutconstants' #'onlyTSdraftandslope' #'TSdraftbotandiceddandwcd' #'onlyTSisfdraft' #'TSdraftbotandiceddandwcdreldGL' #TSdraftslopereldGL"
   ]
  },
  {
   "cell_type": "code",
   "execution_count": null,
   "id": "81cc9498-d3a3-4ac9-9ec5-de37b7661f20",
   "metadata": {},
   "outputs": [],
   "source": [
    "nemo_run = 'bf663'#'bi646' #bf663"
   ]
  },
  {
   "cell_type": "code",
   "execution_count": null,
   "id": "1a081888-481c-41a2-afce-90330271b9a0",
   "metadata": {},
   "outputs": [],
   "source": [
    "outputpath_melt_nn = '/bettik/burgardc/DATA/NN_PARAM/processed/MELT_RATE/SMITH_'+nemo_run+'/'\n",
    "inputpath_data='/bettik/burgardc/DATA/NN_PARAM/interim/SMITH_'+nemo_run+'/'\n"
   ]
  },
  {
   "cell_type": "code",
   "execution_count": null,
   "id": "665462d9-4557-4c53-a397-1b5d040307cd",
   "metadata": {},
   "outputs": [],
   "source": [
    "res_2D_list = []\n",
    "for tt in range(1980,1980+60):\n",
    "    res_2D = xr.open_dataset(outputpath_melt_nn + 'evalmetrics_2D_'+mod_size+'_'+exp_name+'_ensstd_'+TS_opt+'_norm'+norm_method+'_'+str(tt)+'_'+nemo_run+'.nc')\n",
    "    res_2D_list.append(res_2D.assign_coords({'time': tt}))\n",
    "res_2D_allyy = xr.concat(res_2D_list, dim='time')"
   ]
  },
  {
   "cell_type": "code",
   "execution_count": null,
   "id": "5b12a718-44cb-4ac5-aa2e-5a0ac7e6f291",
   "metadata": {},
   "outputs": [],
   "source": [
    "res_2D_allyy['predicted_melt'].mean('time').plot(vmax=20,cmap=mpl.cm.Reds)"
   ]
  },
  {
   "cell_type": "code",
   "execution_count": null,
   "id": "ea9d4405-df8a-4c06-ae37-6057cbf4446b",
   "metadata": {},
   "outputs": [],
   "source": [
    "res_2D_allyy['predicted_melt'].mean('time').mean()"
   ]
  },
  {
   "cell_type": "code",
   "execution_count": null,
   "id": "aa4186c4-db2c-4ae5-b4f5-10cb897671f0",
   "metadata": {},
   "outputs": [],
   "source": [
    "res_1D_list = []\n",
    "target_1D_list = []\n",
    "\n",
    "for tt in range(1980,1980+60):\n",
    "    res_1D = xr.open_dataset(outputpath_melt_nn + 'evalmetrics_1D_'+mod_size+'_'+exp_name+'_allmembers_'+TS_opt+'_norm'+norm_method+'_'+str(tt)+'_'+nemo_run+'.nc')\n",
    "    res_1D_list.append(res_1D)\n",
    "    \n",
    "    NEMO_melt_rates_1D = xr.open_dataset(inputpath_data+'melt_rates_1D_NEMO_oneFRIS_'+str(tt)+'.nc')\n",
    "    target_melt_Gt_yr = NEMO_melt_rates_1D['melt_Gt_per_y_tot']\n",
    "    target_1D_list.append(target_melt_Gt_yr)\n",
    "    \n",
    "res_1D_allyy = xr.concat(res_1D_list, dim='time')    \n",
    "target_1D_allyy = xr.concat(target_1D_list, dim='time')"
   ]
  },
  {
   "cell_type": "code",
   "execution_count": null,
   "id": "2b1da9b4-5273-4580-887f-53225b615856",
   "metadata": {},
   "outputs": [],
   "source": [
    "# File isf\n",
    "inputpath_mask='/bettik/burgardc/DATA/NN_PARAM/interim/ANTARCTICA_IS_MASKS/SMITH_'+nemo_run+'/'\n",
    "file_isf_orig = xr.open_dataset(inputpath_mask+'nemo_5km_isf_masks_and_info_and_distance_oneFRIS_1980.nc')\n",
    "nonnan_Nisf = file_isf_orig['Nisf'].where(np.isfinite(file_isf_orig['front_bot_depth_max']), drop=True).astype(int)\n",
    "file_isf_nonnan = file_isf_orig.sel(Nisf=nonnan_Nisf)\n",
    "large_isf = file_isf_nonnan['Nisf'].where(file_isf_nonnan['isf_area_here'] >= 2500, drop=True)\n",
    "file_isf = file_isf_nonnan.sel(Nisf=large_isf)"
   ]
  },
  {
   "cell_type": "code",
   "execution_count": null,
   "id": "716e9b7c-8f4f-4aad-84fa-7c962f86e725",
   "metadata": {},
   "outputs": [],
   "source": [
    "regions = ['Weddell','Bellingshausen','Amundsen','Ross','East 1','East 2','Dronning Maud Land']\n",
    "\n",
    "f = plt.figure()\n",
    "f.set_size_inches(8.25*1.5, 8.25*1.5)\n",
    "\n",
    "ax={}\n",
    "\n",
    "leg_hdl = []\n",
    "\n",
    "i = 0\n",
    "\n",
    "#sorted_isf_all = [11,69,43,12,70,44,29,13,58,71,45,30,31,61,73,47,32,48,33,17,49,34,18,10,65,51,22,38,52,23,66,53,39,24,40,54,75,25,26,42,55] #62\n",
    "\n",
    "for kisf in tqdm(file_isf.Nisf.drop_sel(Nisf=4).values):\n",
    "    \n",
    "        \n",
    "    ax[i] = f.add_subplot(7,7,i+1)\n",
    "    \n",
    "    for sn in res_1D_allyy.seed_nb:\n",
    "        \n",
    "        ax[i].plot(res_1D_allyy.time, res_1D_allyy['predicted_melt'].sel(seed_nb=sn, Nisf=kisf,metrics='Gt'), color='k', alpha=0.1)\n",
    "    \n",
    "    ax[i].plot(res_1D_allyy.time, res_1D_allyy['predicted_melt'].mean('seed_nb').sel(Nisf=kisf,metrics='Gt'), color='k', linewidth=2)\n",
    "\n",
    "    #if kisf == 23:\n",
    "    #    ax[i].set_title('Tracy Tremenchus')\n",
    "    #elif kisf == 24:\n",
    "    #    ax[i].set_title('Conger/Glenzer')\n",
    "    #elif kisf == 110:\n",
    "    #    ax[i].set_title('Ekström')\n",
    "    #else:\n",
    "    ax[i].set_title(str(file_isf_orig['isf_name'].sel(Nisf=kisf).values))\n",
    "    #ax[i].set_xlim(0,60)\n",
    "    #ax[i].axvline(x=30, c='k', linestyle='--')\n",
    "\n",
    "    i = i+1\n",
    "\n",
    "\n",
    "f.subplots_adjust(bottom=0.05, wspace=0.1)\n",
    "\n",
    "f.tight_layout()\n",
    "sns.despine()\n",
    "#plt.savefig(plot_path+'timeseries_ensembles_smallNN.pdf')"
   ]
  },
  {
   "cell_type": "code",
   "execution_count": null,
   "id": "800aa68d-1f9e-4f9f-b3cc-e912f0a37879",
   "metadata": {},
   "outputs": [],
   "source": [
    "diff_ens = res_1D_allyy['predicted_melt'].sel(metrics='Gt') - target_1D_allyy\n",
    "diff_ensmean = res_1D_allyy['predicted_melt'].sel(metrics='Gt').mean('seed_nb') - target_1D_allyy"
   ]
  },
  {
   "cell_type": "code",
   "execution_count": null,
   "id": "25984e78-5824-4833-b589-b9d367bb7b2d",
   "metadata": {},
   "outputs": [],
   "source": [
    "rmse = np.sqrt((diff_ens**2).mean(['Nisf','time']))\n",
    "rmse_ensmean = np.sqrt((diff_ensmean**2).mean(['Nisf','time']))"
   ]
  },
  {
   "cell_type": "code",
   "execution_count": null,
   "id": "97f9adf3-273c-4ab6-a2e6-f0495f5a0677",
   "metadata": {},
   "outputs": [],
   "source": [
    "rmse.max()"
   ]
  },
  {
   "cell_type": "code",
   "execution_count": null,
   "id": "f3b0887c-ac8d-4fe7-afd6-1edaf277f6d3",
   "metadata": {},
   "outputs": [],
   "source": [
    "rmse.min()"
   ]
  },
  {
   "cell_type": "code",
   "execution_count": null,
   "id": "1ede0cd1-2efa-4176-8c55-ecdd2983e8e1",
   "metadata": {},
   "outputs": [],
   "source": [
    "rmse_ensmean"
   ]
  },
  {
   "cell_type": "code",
   "execution_count": null,
   "id": "4dfefc6f-88bb-4338-980e-86abf5b85ab7",
   "metadata": {},
   "outputs": [],
   "source": [
    "res_1D_allyy['predicted_melt'].sel(seed_nb=sn, Nisf=kisf)#,metrics='Gt')"
   ]
  },
  {
   "cell_type": "code",
   "execution_count": null,
   "id": "b805bd6a-24a8-4903-b5ae-48a8c9fec237",
   "metadata": {},
   "outputs": [],
   "source": [
    "for seed_nb\n",
    "res_1D_allyy['predicted_melt'].sel(metrics='Gt',Nisf=66)"
   ]
  },
  {
   "cell_type": "code",
   "execution_count": null,
   "id": "707bb34c-e3ec-47b4-a122-9fdf19c4075c",
   "metadata": {},
   "outputs": [],
   "source": [
    "res_1D_test1980['predicted_melt'].isel(time=0).isel(seed_nb=9).load()"
   ]
  },
  {
   "cell_type": "code",
   "execution_count": null,
   "id": "f7a379ca-3a0a-4fda-9150-75b3ebc6ed9a",
   "metadata": {},
   "outputs": [],
   "source": [
    "res_1D_allyy['predicted_melt'].sel(seed_nb=1,metrics='Gt').isel(time=range(10))"
   ]
  },
  {
   "cell_type": "code",
   "execution_count": null,
   "id": "65fdbf52-c6e2-4c41-8b26-2e49fefb24b0",
   "metadata": {},
   "outputs": [],
   "source": []
  }
 ],
 "metadata": {
  "kernelspec": {
   "display_name": "py38",
   "language": "python",
   "name": "py38"
  },
  "language_info": {
   "codemirror_mode": {
    "name": "ipython",
    "version": 3
   },
   "file_extension": ".py",
   "mimetype": "text/x-python",
   "name": "python",
   "nbconvert_exporter": "python",
   "pygments_lexer": "ipython3",
   "version": "3.8.12"
  }
 },
 "nbformat": 4,
 "nbformat_minor": 5
}
