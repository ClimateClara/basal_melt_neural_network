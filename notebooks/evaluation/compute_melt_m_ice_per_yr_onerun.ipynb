{
 "cells": [
  {
   "cell_type": "code",
   "execution_count": null,
   "id": "3a2da078-92be-4065-80e4-706de1f9698b",
   "metadata": {},
   "outputs": [],
   "source": [
    "\"\"\"\n",
    "Created on Wed Apr 15 09:53 2022\n",
    "\n",
    "Apply model coming from train_DNN_with_prepared_input.ipynb on one other run\n",
    "\n",
    "Author: @claraburgard\n",
    "\n",
    "\"\"\""
   ]
  },
  {
   "cell_type": "code",
   "execution_count": null,
   "id": "475db9f2-93ee-45d2-b132-fb9128757f29",
   "metadata": {},
   "outputs": [],
   "source": [
    "import numpy as np\n",
    "import xarray as xr\n",
    "from tqdm.notebook import trange, tqdm\n",
    "import glob\n",
    "import matplotlib as mpl\n",
    "import seaborn as sns\n",
    "import datetime\n",
    "import time\n",
    "import os,sys\n",
    "\n",
    "import tensorflow as tf\n",
    "from tensorflow import keras\n",
    "from contextlib import redirect_stdout\n",
    "\n",
    "from basal_melt_neural_networks.constants import *\n",
    "import basal_melt_neural_networks.diagnostic_functions as diag\n",
    "import basal_melt_neural_networks.data_formatting as dfmt"
   ]
  },
  {
   "cell_type": "code",
   "execution_count": null,
   "id": "4765180b-7ec2-47c5-ac1f-ca64fd69159e",
   "metadata": {},
   "outputs": [],
   "source": [
    "%matplotlib qt5"
   ]
  },
  {
   "cell_type": "markdown",
   "id": "8912d910-10dc-4041-85ad-58a51157d27d",
   "metadata": {},
   "source": [
    "READ IN DATA"
   ]
  },
  {
   "cell_type": "code",
   "execution_count": null,
   "id": "7e629462-b3d5-452f-8b30-b3ef4c313920",
   "metadata": {},
   "outputs": [],
   "source": [
    "outputpath_nn_models = '/bettik/burgardc/DATA/NN_PARAM/interim/NN_MODELS/'\n",
    "outputpath_doc = '/bettik/burgardc/SCRIPTS/basal_melt_neural_networks/custom_doc/'\n",
    "outputpath_melt_nn = '/bettik/burgardc/DATA/NN_PARAM/processed/MELT_RATE/'\n",
    "inputpath_data = '/bettik/burgardc/DATA/NN_PARAM/interim/INPUT_DATA/'"
   ]
  },
  {
   "cell_type": "code",
   "execution_count": null,
   "id": "5ead6bd6-845c-4344-99ae-f342fe692f64",
   "metadata": {},
   "outputs": [],
   "source": [
    "timetag = '20220422-1055'\n",
    "new_path_output = outputpath_melt_nn+timetag+'/'\n",
    "if not os.path.isdir(new_path_output):\n",
    "    print(\"I did not find this folder \"+timetag+\") so I created a new one, I hope that's ok!\")\n",
    "    os.mkdir(new_path_output)\n",
    "else:\n",
    "    print(\"This folder (\"+timetag+\") exists already!\")"
   ]
  },
  {
   "cell_type": "code",
   "execution_count": null,
   "id": "0ec2a89e-92b8-4763-9d50-97741f661059",
   "metadata": {},
   "outputs": [],
   "source": [
    "nemo_run = 'OPM031'\n",
    "new_path_model = outputpath_nn_models+timetag+'/'\n",
    "df_nrun = pd.read_csv( inputpath_data + 'dataframe_input_'+nemo_run+'.csv',index_col=[0,1,2])\n",
    "all_input_df = df_nrun.copy()\n",
    "all_input_df.reset_index(drop=True, inplace=True)"
   ]
  },
  {
   "cell_type": "markdown",
   "id": "008c804f-933a-484e-b18e-cc01b7aa38e6",
   "metadata": {},
   "source": [
    "PREPARE DATA"
   ]
  },
  {
   "cell_type": "code",
   "execution_count": null,
   "id": "54da0b62-415f-439a-8265-8be5282d1281",
   "metadata": {},
   "outputs": [],
   "source": [
    "normalisation_coeff = pd.read_csv(new_path_model+ 'dataframe_norm_training_data_'+timetag+'.csv').set_index('Unnamed: 0')#.drop('Unnamed: 0', 1)\n",
    "normalisation_coeff.index.name = None\n",
    "normalisation_coeff_input = normalisation_coeff.drop(['melt_m_ice_per_y'], axis=1)"
   ]
  },
  {
   "cell_type": "code",
   "execution_count": null,
   "id": "a79555ee-ee3c-4726-ae3f-4e16aa6e2d05",
   "metadata": {},
   "outputs": [],
   "source": [
    "input_var = all_input_df.drop(['melt_m_ice_per_y'], axis=1)\n",
    "ref_melt = all_input_df['melt_m_ice_per_y']"
   ]
  },
  {
   "cell_type": "code",
   "execution_count": null,
   "id": "103debf2-c277-4008-a8c3-af6eea0d66a7",
   "metadata": {},
   "outputs": [],
   "source": [
    "normalised_input_var = (input_var - normalisation_coeff_input.loc['x_mean'])/normalisation_coeff_input.loc['x_range']"
   ]
  },
  {
   "cell_type": "code",
   "execution_count": null,
   "id": "f6b8a868-7710-4b7c-a1c4-6cc6fe18f2de",
   "metadata": {},
   "outputs": [],
   "source": [
    "x_val_arr = np.array(normalised_input_var)\n",
    "y_val_arr = np.array(ref_melt)"
   ]
  },
  {
   "cell_type": "markdown",
   "id": "9f8bffdf-3ec4-4fad-bee4-aac5384cd26b",
   "metadata": {},
   "source": [
    "CHOOSE THE RIGHT MODEL"
   ]
  },
  {
   "cell_type": "code",
   "execution_count": null,
   "id": "ac99b139-dca9-4758-aee4-b11436af3129",
   "metadata": {},
   "outputs": [],
   "source": [
    "model = keras.models.load_model(new_path_model + 'model_nn_'+timetag+'.h5')"
   ]
  },
  {
   "cell_type": "code",
   "execution_count": null,
   "id": "7a36b84d-8306-43bb-9e96-60f12a9c8858",
   "metadata": {},
   "outputs": [],
   "source": [
    "y_out_norm = model.predict(x_val_arr)"
   ]
  },
  {
   "cell_type": "code",
   "execution_count": null,
   "id": "3da994bf-5287-4cea-8803-75bce472a64d",
   "metadata": {},
   "outputs": [],
   "source": [
    "y_out = (y_out_norm * normalisation_coeff['melt_m_ice_per_y'].loc['x_range']) + normalisation_coeff['melt_m_ice_per_y'].loc['x_mean']"
   ]
  },
  {
   "cell_type": "code",
   "execution_count": null,
   "id": "49873e94-b47e-43b1-a179-c99cbb519936",
   "metadata": {},
   "outputs": [],
   "source": [
    "y_out_pd_s = pd.Series(y_out[:,0],index=df_nrun.index,name='predicted_melt') \n",
    "y_target_pd_s = pd.Series(y_val_arr,index=df_nrun.index,name='reference_melt') "
   ]
  },
  {
   "cell_type": "code",
   "execution_count": null,
   "id": "5638bcf8-14fc-4bb5-b221-6138eb9822e5",
   "metadata": {},
   "outputs": [],
   "source": [
    "y_out_xr = y_out_pd_s.to_xarray()\n",
    "y_target_xr = y_target_pd_s.to_xarray()\n",
    "y_to_compare = xr.merge([y_out_xr.T, y_target_xr.T]).sortby('y')"
   ]
  },
  {
   "cell_type": "code",
   "execution_count": null,
   "id": "17866959-e512-4d5e-aff4-d53089641ca7",
   "metadata": {},
   "outputs": [],
   "source": [
    "y_to_compare.to_netcdf(new_path_output+'NN_melt_predicted_reference_m_ice_per_yr_'+nemo_run+'.nc')"
   ]
  },
  {
   "cell_type": "code",
   "execution_count": null,
   "id": "a7ee326c-3856-40ce-ad32-6d7a6130cbfa",
   "metadata": {},
   "outputs": [],
   "source": []
  },
  {
   "cell_type": "code",
   "execution_count": null,
   "id": "1216876b-8e59-4ac3-a0bc-206a3cd81d21",
   "metadata": {},
   "outputs": [],
   "source": []
  }
 ],
 "metadata": {
  "kernelspec": {
   "display_name": "neuralnet",
   "language": "python",
   "name": "neuralnet"
  },
  "language_info": {
   "codemirror_mode": {
    "name": "ipython",
    "version": 3
   },
   "file_extension": ".py",
   "mimetype": "text/x-python",
   "name": "python",
   "nbconvert_exporter": "python",
   "pygments_lexer": "ipython3",
   "version": "3.9.4"
  }
 },
 "nbformat": 4,
 "nbformat_minor": 5
}
