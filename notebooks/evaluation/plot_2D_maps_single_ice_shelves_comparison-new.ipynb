{
 "cells": [
  {
   "cell_type": "code",
   "execution_count": null,
   "id": "365c29ca-1e68-4f86-9b51-90e7451c63cc",
   "metadata": {},
   "outputs": [],
   "source": [
    "\"\"\"\n",
    "Created on Thu Sep 15 15:27 2022\n",
    "\n",
    "This is a script to compare 2D single ice shelves between different NN models\n",
    "\n",
    "@author: Clara Burgard\n",
    "\"\"\""
   ]
  },
  {
   "cell_type": "code",
   "execution_count": null,
   "id": "9829323a-48fb-4726-a9b5-8aad9e9c4a6e",
   "metadata": {},
   "outputs": [],
   "source": [
    "import xarray as xr\n",
    "import numpy as np\n",
    "import pandas as pd\n",
    "from tqdm.notebook import tqdm\n",
    "import matplotlib.pyplot as plt\n",
    "import seaborn as sns\n",
    "from matplotlib import cm\n",
    "import cartopy\n",
    "import cartopy.crs as ccrs\n",
    "from cartopy.util import add_cyclic_point\n",
    "import matplotlib as mpl\n",
    "import cmocean\n",
    "import glob\n",
    "from matplotlib.colors import ListedColormap, LinearSegmentedColormap\n",
    "from matplotlib.ticker import LogFormatterSciNotation\n",
    "import matplotlib.colors as colors\n",
    "\n",
    "import basal_melt_param.map_plot_functions as mapfunc"
   ]
  },
  {
   "cell_type": "code",
   "execution_count": null,
   "id": "153e1633-cfac-4bd7-b2ce-e427a9c729a2",
   "metadata": {},
   "outputs": [],
   "source": [
    "sns.set_context('paper')"
   ]
  },
  {
   "cell_type": "code",
   "execution_count": null,
   "id": "1b7f817f-0678-4eb4-bd9f-8205aaab815b",
   "metadata": {},
   "outputs": [],
   "source": [
    "%matplotlib qt5"
   ]
  },
  {
   "cell_type": "markdown",
   "id": "d55ef23b-1000-42dc-82d3-600ae5c90d65",
   "metadata": {},
   "source": [
    "READ IN DATA"
   ]
  },
  {
   "cell_type": "code",
   "execution_count": null,
   "id": "fcf46a5b-4a39-44d7-9e24-c40211fe5bc4",
   "metadata": {},
   "outputs": [],
   "source": [
    "# make the domain a little smaller to make the computation even more efficient - file isf has already been made smaller at its creation\n",
    "map_lim = [-3000000,3000000]"
   ]
  },
  {
   "cell_type": "code",
   "execution_count": null,
   "id": "86917ef1-3970-47cb-ac95-cb62db76e0d8",
   "metadata": {},
   "outputs": [],
   "source": [
    "nemo_run0 = 'OPM021'\n",
    "if nemo_run0 in ['OPM031-1','OPM031-2']:\n",
    "    nemo_run = 'OPM031'\n",
    "else:\n",
    "    nemo_run = nemo_run0"
   ]
  },
  {
   "cell_type": "code",
   "execution_count": null,
   "id": "6ea196b8-e2b1-40be-a01d-82275a7e5730",
   "metadata": {},
   "outputs": [],
   "source": [
    "inputpath_mask = '/bettik/burgardc/SCRIPTS/basal_melt_param/data/interim/ANTARCTICA_IS_MASKS/nemo_5km_'+nemo_run+'/'\n",
    "outputpath_melt = '/bettik/burgardc/SCRIPTS/basal_melt_param/data/processed/MELT_RATE/nemo_5km_'+nemo_run+'/'\n",
    "plot_path = '/bettik/burgardc/PLOTS/NN_plots/2D_patterns/'\n",
    "inputpath_boxes = '/bettik/burgardc/SCRIPTS/basal_melt_param/data/interim/BOXES/nemo_5km_'+nemo_run+'/'\n",
    "outputpath_melt_nn = '/bettik/burgardc/DATA/NN_PARAM/processed/MELT_RATE/'"
   ]
  },
  {
   "cell_type": "code",
   "execution_count": null,
   "id": "22bd5514-0b95-49d6-8d4f-58d7e2d6e9a0",
   "metadata": {},
   "outputs": [],
   "source": [
    "melt_rate_2D_NEMO = xr.open_dataset(outputpath_melt+'melt_rates_2D_NEMO_timmean.nc')\n",
    "box_charac_all_2D = xr.open_dataset(inputpath_boxes + 'nemo_5km_boxes_2D_oneFRIS.nc')\n",
    "box_charac_all_1D = xr.open_dataset(inputpath_boxes + 'nemo_5km_boxes_1D_oneFRIS.nc')"
   ]
  },
  {
   "cell_type": "code",
   "execution_count": null,
   "id": "c0b1d97b-e502-4cd6-a710-54a2c63ad336",
   "metadata": {},
   "outputs": [],
   "source": [
    "file_isf_orig = xr.open_dataset(inputpath_mask+'nemo_5km_isf_masks_and_info_and_distance_new_oneFRIS.nc')\n",
    "nonnan_Nisf = file_isf_orig['Nisf'].where(np.isfinite(file_isf_orig['front_bot_depth_max']), drop=True).astype(int)\n",
    "file_isf_nonnan = file_isf_orig.sel(Nisf=nonnan_Nisf)\n",
    "large_isf = file_isf_nonnan['Nisf'].where(file_isf_nonnan['isf_area_here'] >= 2500, drop=True)\n",
    "file_isf = file_isf_nonnan.sel(Nisf=large_isf)\n",
    "file_isf_mask = file_isf['ISF_mask'].where(file_isf['ISF_mask']==file_isf.Nisf).sum('Nisf')"
   ]
  },
  {
   "cell_type": "code",
   "execution_count": null,
   "id": "42c87095-7501-43ae-b079-1ac3ce037daf",
   "metadata": {},
   "outputs": [],
   "source": [
    "mod_size_list = ['medium_onlyTSisfdraft','medium_onlyTSdraftandslope','medium_TSdraftbotandiceddandwcd','medium_TSdraftslopereldGL','extra_large_TSdraftslopereldGL']#['mini', 'small', 'medium', 'large'] #, 'extra_large'\n",
    "norm_method = 'std'\n",
    "TS_opt = 'extrap' #'whole' #'extrap'\n",
    "\n",
    "melt_2D_param_list = []\n",
    "    \n",
    "for mod_size in mod_size_list:\n",
    "    print(mod_size)\n",
    "\n",
    "    outputpath_melt_nn = '/bettik/burgardc/DATA/NN_PARAM/processed/MELT_RATE/'\n",
    "    #new_path_output = outputpath_melt_nn+'CV_ISF/'\n",
    "    new_path_output = outputpath_melt_nn+'CV_TBLOCKS/'\n",
    "\n",
    "    #melt_rate_2D_nn = xr.open_dataset(new_path_output+'melt_2D_'+mod_size+'_TS'+TS_opt+'_norm'+norm_method+'_'+nemo_run+'.nc')\n",
    "    melt_rate_2D_nn = xr.open_dataset(new_path_output+'evalmetrics_2D_CV_'+mod_size+'_'+TS_opt+'_norm'+norm_method+'_'+nemo_run+'.nc')\n",
    "    melt_rate_2D_nn_timmean = melt_rate_2D_nn['predicted_melt'].mean('time').reindex_like(file_isf['ISF_mask'])\n",
    "    melt_2D_param_list.append(melt_rate_2D_nn_timmean)\n",
    "\n",
    "melt_2D_all = xr.concat(melt_2D_param_list, dim='nn_model')\n",
    "melt_2D_all = melt_2D_all.assign_coords(nn_model=mod_size_list)"
   ]
  },
  {
   "cell_type": "code",
   "execution_count": null,
   "id": "d54e845e-9c51-4ee0-aa21-c6ad55e104f9",
   "metadata": {},
   "outputs": [],
   "source": [
    "ref_melt_2D = melt_rate_2D_nn['reference_melt'].where(file_isf_mask).mean('time')"
   ]
  },
  {
   "cell_type": "code",
   "execution_count": null,
   "id": "830207df-fbd3-4a86-a872-a207852c37e7",
   "metadata": {},
   "outputs": [],
   "source": [
    "grounded_msk03 = file_isf['ground_mask'].where(file_isf['ground_mask']==0,3)\n",
    "grounded_msk = (grounded_msk03.where(grounded_msk03!=3,1)-1)*-1"
   ]
  },
  {
   "cell_type": "code",
   "execution_count": null,
   "id": "d8ae575a-0dd9-4df6-bfff-ca5af32074c8",
   "metadata": {},
   "outputs": [],
   "source": [
    "icesheet_msk_0inf = file_isf_mask.where(file_isf_mask!=1,0)\n",
    "icesheet_msk = icesheet_msk_0inf.where(icesheet_msk_0inf < 1, 1)"
   ]
  },
  {
   "cell_type": "code",
   "execution_count": null,
   "id": "d1f1d480-4434-4158-b6e6-df8e60108fa9",
   "metadata": {},
   "outputs": [],
   "source": [
    "box_loc_config2 = box_charac_all_2D['box_location'].sel(box_nb_tot=box_charac_all_1D['nD_config'].sel(config=2))\n",
    "box1 = box_loc_config2.where(box_loc_config2==1).isel(Nisf=0).drop('Nisf')\n",
    "box1_msk = box1.where(box1==1,0)"
   ]
  },
  {
   "cell_type": "markdown",
   "id": "627ed15f-0c4c-431b-bb4b-f53eea9ac5c8",
   "metadata": {},
   "source": [
    "SINGLE ICE SHELVES COMPARISON BETWEEN NN MODELS"
   ]
  },
  {
   "cell_type": "code",
   "execution_count": null,
   "id": "1000c420-e3fc-4262-8317-02c345e5b9d5",
   "metadata": {},
   "outputs": [],
   "source": [
    "kisf = 10\n",
    "if kisf == 11:\n",
    "    kisf_mask = (file_isf_mask==11) | (file_isf_mask==21)\n",
    "else:\n",
    "    kisf_mask = file_isf_mask==kisf\n",
    "\n",
    "ref_melt_isf = ref_melt_2D.where(kisf_mask,drop=True)\n",
    "print('x size',ref_melt_isf.x.max() - ref_melt_isf.x.min())\n",
    "print('y size',ref_melt_isf.y.max() - ref_melt_isf.y.min())\n"
   ]
  },
  {
   "cell_type": "code",
   "execution_count": null,
   "id": "1f06aaa8-a791-42e2-bc2c-d0fc9ec13b98",
   "metadata": {},
   "outputs": [],
   "source": [
    "kisf = 48\n",
    "if kisf == 11:\n",
    "    kisf_mask = (file_isf_mask==11) | (file_isf_mask==21)\n",
    "else:\n",
    "    kisf_mask = file_isf_mask==kisf\n",
    "\n",
    "ref_melt_isf = ref_melt_2D.where(kisf_mask,drop=True)\n",
    "print('y max =',ref_melt_isf.y.max())\n",
    "print('x min =',ref_melt_isf.x.min())"
   ]
  },
  {
   "cell_type": "markdown",
   "id": "384c6c00-8ef9-4e7c-9088-35ecbe7eed26",
   "metadata": {},
   "source": [
    "try other colorbar"
   ]
  },
  {
   "cell_type": "code",
   "execution_count": null,
   "id": "7876f302-c259-435e-a8e0-c1eab7ffa7df",
   "metadata": {},
   "outputs": [],
   "source": [
    "def myround(x, base=5):\n",
    "    return (base * np.ceil(x/base)).astype(int)"
   ]
  },
  {
   "cell_type": "code",
   "execution_count": null,
   "id": "355f7be4-1ba5-4401-97aa-93698a27c001",
   "metadata": {},
   "outputs": [],
   "source": [
    "myround(11.5)"
   ]
  },
  {
   "cell_type": "code",
   "execution_count": null,
   "id": "962e27c2-4ef4-471c-92ab-fbab108ed2d3",
   "metadata": {},
   "outputs": [],
   "source": [
    "melt_2D_all.nn_model"
   ]
  },
  {
   "cell_type": "code",
   "execution_count": null,
   "id": "92ed6b68-606a-4fc4-bd4d-1a44e19348f7",
   "metadata": {},
   "outputs": [],
   "source": [
    "ref_melt_2D"
   ]
  },
  {
   "cell_type": "code",
   "execution_count": null,
   "id": "f8a08022-3280-4252-a69e-c9044e3e7783",
   "metadata": {},
   "outputs": [],
   "source": [
    "\n",
    "#George VI 25\n",
    "#Getz 22\n",
    "\n",
    "kisf = 66\n",
    "if kisf == 11:\n",
    "    kisf_mask = (file_isf_mask==11) | (file_isf_mask==21)\n",
    "else:\n",
    "    kisf_mask = file_isf_mask==kisf\n",
    "\n",
    "ref_melt_isf = ref_melt_2D.where(kisf_mask,drop=True)\n",
    "cmaph = mpl.cm.coolwarm\n",
    "    \n",
    "if kisf == 11:\n",
    "    ymax = ref_melt_isf.y.min() - 80000\n",
    "    xmin = ref_melt_isf.x.min() + 10000\n",
    "elif kisf == 10:\n",
    "    ymax = ref_melt_isf.y.min() - 80000\n",
    "    xmin = ref_melt_isf.x.min() + 5000\n",
    "elif kisf == 31:\n",
    "    ymax = ref_melt_isf.y.min() - 20000\n",
    "    xmin = ref_melt_isf.x.min() + 3000 \n",
    "elif kisf == 44:\n",
    "    ymax = ref_melt_isf.y.min() - 30000\n",
    "    xmin = ref_melt_isf.x.min() + 3000 \n",
    "elif kisf == 48:\n",
    "    ymax = ref_melt_isf.y.min() - 15000\n",
    "    xmin = ref_melt_isf.x.min() + 3000   \n",
    "elif kisf == 66:\n",
    "    ymax = ref_melt_isf.y.min() - 15000\n",
    "    xmin = ref_melt_isf.x.min() + 1000   \n",
    "elif kisf == 22: \n",
    "    ymax = ref_melt_isf.y.min() - 40000\n",
    "    xmin = ref_melt_isf.x.min() + 1000   \n",
    "elif kisf == 25: \n",
    "    ymax = ref_melt_isf.y.min() - 30000\n",
    "    xmin = ref_melt_isf.x.min() + 1000      \n",
    "    \n",
    "param_melt_isf = melt_2D_all.where(kisf_mask,drop=True)\n",
    "\n",
    "if (kisf == 11) or (kisf==10):\n",
    "    min_maxval = 5\n",
    "elif kisf == 44:\n",
    "    min_maxval = 5\n",
    "elif kisf == 31:\n",
    "    min_maxval = 10\n",
    "else:\n",
    "    min_maxval = myround(abs(ref_melt_isf).max().values)\n",
    "\n",
    "levs_neg = np.linspace(-min_maxval,0,min_maxval+1)\n",
    "levs_pos = np.linspace(0,min_maxval,min_maxval+1)\n",
    "levs = np.concatenate([levs_neg,levs_pos[1::]])\n",
    "round_lev = np.round(levs,0)\n",
    "\n",
    "\n",
    "max_list = []\n",
    "\n",
    "fig, ax = plt.subplots(1,6,sharex=True,sharey=True)\n",
    "fig.set_size_inches(8.25*1.4, 8.25/4.5)\n",
    "\n",
    "\n",
    "cbar_ax2 = ref_melt_isf.plot.contourf(ax=ax[0],cmap=cmaph, zorder=0, levels=levs, vmin=-min_maxval, vmax=min_maxval, add_colorbar=False)  #levels=levs\n",
    "ax[0].text(xmin,ymax,'Max melt = '+str(np.round(ref_melt_isf.max().values,1)))\n",
    "ax[0].contour(ref_melt_isf.x,ref_melt_isf.y,grounded_msk.where(ref_melt_isf),levels=[0,1],linewidths=0.5,colors='black',zorder=10)\n",
    "ax[0].contour(ref_melt_isf.x,ref_melt_isf.y,box1_msk.where(ref_melt_isf),levels=[0,1],linewidths=0.5,colors='blue',zorder=10)\n",
    "ax[0].set_xticks([])\n",
    "ax[0].set_yticks([])\n",
    "ax[0].set_xlabel('')\n",
    "ax[0].set_ylabel('')\n",
    "ax[0].set_title('')\n",
    "\n",
    "\n",
    "\n",
    "for i,mparam in enumerate(melt_2D_all.nn_model):\n",
    "    print(mparam.values)\n",
    "    \n",
    "    if i == len(melt_2D_all.nn_model) - 1:\n",
    "        param_melt_isf.sel(nn_model=mparam).plot.contourf(ax=ax[i+1],cmap=cmaph, levels=levs, vmin=-min_maxval, vmax=min_maxval, zorder=0, add_colorbar=False) \n",
    "    else:\n",
    "        param_melt_isf.sel(nn_model=mparam).plot.contourf(ax=ax[i+1],cmap=cmaph, levels=levs, vmin=-min_maxval, vmax=min_maxval, zorder=0, add_colorbar=False) \n",
    "    max_melt_i = param_melt_isf.sel(nn_model=mparam).max().values\n",
    "    ax[i+1].text(xmin,ymax,'Max melt = '+str(np.round(max_melt_i,1)))\n",
    "\n",
    "    ax[i+1].contour(ref_melt_isf.x,ref_melt_isf.y,grounded_msk.where(ref_melt_isf),levels=[0,1],linewidths=0.5,colors='black',zorder=10)\n",
    "    ax[i+1].contour(ref_melt_isf.x,ref_melt_isf.y,box1_msk.where(ref_melt_isf),levels=[0,1],linewidths=0.5,colors='blue',zorder=10)\n",
    "    ax[i+1].set_xticks([])\n",
    "    ax[i+1].set_yticks([])\n",
    "    ax[i+1].set_xlabel('')\n",
    "    ax[i+1].set_ylabel('')\n",
    "    ax[i+1].set_title(mparam.values)\n",
    "\n",
    "      \n",
    "    #ax[i].contour(ref_melt_isf.x,ref_melt_isf.y,icesheet_msk.where(ref_melt_isf),levels=[0,1],linewidths=0.5,colors='black',zorder=15)\n",
    "\n",
    "        \n",
    "if kisf in [48]:\n",
    "    cbar = fig.colorbar(cbar_ax2, ticks=round_lev[::3])\n",
    "elif kisf in [10, 11]:\n",
    "    cbar = fig.colorbar(cbar_ax2, ticks=round_lev[::2])\n",
    "elif kisf in [66, 25, 22]:\n",
    "    cbar = fig.colorbar(cbar_ax2, ticks=round_lev[::20])\n",
    "#elif kisf in [31]:\n",
    "#    cbar = fig.colorbar(cbar_ax2, ticks=round_lev[::5])\n",
    "elif kisf in [44, 31]:\n",
    "    cbar = fig.colorbar(cbar_ax2, ticks=round_lev[::2])\n",
    "\n",
    "plt.tight_layout()\n",
    "fig.savefig(plot_path+'comparison_spatial_patterns_isf'+str(kisf).zfill(3)+'_comparison_with_colorbar_CVtime.png', dpi=300)"
   ]
  },
  {
   "cell_type": "markdown",
   "id": "0f122f8a-7f95-46ca-8e72-fa2564832180",
   "metadata": {},
   "source": [
    "WITHOUT COLORBAR"
   ]
  },
  {
   "cell_type": "code",
   "execution_count": null,
   "id": "86102e15-f415-41c8-ac21-6714ce6f03a1",
   "metadata": {},
   "outputs": [],
   "source": [
    "dom = 50\n",
    "\n",
    "#George VI 25\n",
    "#Getz 22\n",
    "\n",
    "kisf = 66\n",
    "if kisf == 11:\n",
    "    kisf_mask = (file_isf_mask==11) | (file_isf_mask==21)\n",
    "else:\n",
    "    kisf_mask = file_isf_mask==kisf\n",
    "\n",
    "ref_melt_isf = ref_melt_2D.where(kisf_mask,drop=True)\n",
    "cmaph = mpl.cm.coolwarm\n",
    "    \n",
    "if kisf == 11:\n",
    "    ymax = ref_melt_isf.y.min() - 80000\n",
    "    xmin = ref_melt_isf.x.min() + 10000\n",
    "elif kisf == 10:\n",
    "    ymax = ref_melt_isf.y.min() - 80000\n",
    "    xmin = ref_melt_isf.x.min() + 5000\n",
    "elif kisf == 31:\n",
    "    ymax = ref_melt_isf.y.min() - 20000\n",
    "    xmin = ref_melt_isf.x.min() + 3000 \n",
    "elif kisf == 44:\n",
    "    ymax = ref_melt_isf.y.min() - 30000\n",
    "    xmin = ref_melt_isf.x.min() + 3000 \n",
    "elif kisf == 48:\n",
    "    ymax = ref_melt_isf.y.min() - 15000\n",
    "    xmin = ref_melt_isf.x.min() + 3000   \n",
    "elif kisf == 66:\n",
    "    ymax = ref_melt_isf.y.min() - 15000\n",
    "    xmin = ref_melt_isf.x.min() + 1000   \n",
    "elif kisf == 22: \n",
    "    ymax = ref_melt_isf.y.min() - 40000\n",
    "    xmin = ref_melt_isf.x.min() + 1000   \n",
    "elif kisf == 25: \n",
    "    ymax = ref_melt_isf.y.min() - 30000\n",
    "    xmin = ref_melt_isf.x.min() + 1000      \n",
    "    \n",
    "param_melt_isf = melt_2D_all.where(kisf_mask,drop=True)\n",
    "\n",
    "if (kisf == 11) or (kisf==10):\n",
    "    min_maxval = 5\n",
    "elif kisf == 44:\n",
    "    min_maxval = 5\n",
    "elif kisf == 31:\n",
    "    min_maxval = 10\n",
    "else:\n",
    "    min_maxval = myround(abs(ref_melt_isf).max().values)\n",
    "\n",
    "levs_neg = np.linspace(-min_maxval,0,min_maxval+1)\n",
    "levs_pos = np.linspace(0,min_maxval,min_maxval+1)\n",
    "levs = np.concatenate([levs_neg,levs_pos[1::]])\n",
    "round_lev = np.round(levs,0)\n",
    "\n",
    "\n",
    "max_list = []\n",
    "\n",
    "fig, ax = plt.subplots(1,6,sharex=True,sharey=True)\n",
    "fig.set_size_inches(8.25*1.4, 8.25/4.5)\n",
    "\n",
    "\n",
    "cbar_ax2 = ref_melt_isf.plot.contourf(ax=ax[0],cmap=cmaph, zorder=0, levels=levs, vmin=-min_maxval, vmax=min_maxval, add_colorbar=False)  #levels=levs\n",
    "ax[0].text(xmin,ymax,'Max melt = '+str(np.round(ref_melt_isf.max().values,1)))\n",
    "ax[0].contour(ref_melt_isf.x,ref_melt_isf.y,grounded_msk.where(ref_melt_isf),levels=[0,1],linewidths=0.5,colors='black',zorder=10)\n",
    "ax[0].contour(ref_melt_isf.x,ref_melt_isf.y,box1_msk.where(ref_melt_isf),levels=[0,1],linewidths=0.5,colors='blue',zorder=10)\n",
    "ax[0].set_xticks([])\n",
    "ax[0].set_yticks([])\n",
    "ax[0].set_xlabel('')\n",
    "ax[0].set_ylabel('')\n",
    "ax[0].set_title('')\n",
    "\n",
    "\n",
    "\n",
    "for i,mparam in enumerate(melt_2D_all.nn_model):\n",
    "    print(mparam.values)\n",
    "    \n",
    "    if i == len(melt_2D_all.nn_model) - 1:\n",
    "        param_melt_isf.sel(nn_model=mparam).plot.contourf(ax=ax[i+1],cmap=cmaph, levels=levs, vmin=-min_maxval, vmax=min_maxval, zorder=0, add_colorbar=False) \n",
    "    else:\n",
    "        param_melt_isf.sel(nn_model=mparam).plot.contourf(ax=ax[i+1],cmap=cmaph, levels=levs, vmin=-min_maxval, vmax=min_maxval, zorder=0, add_colorbar=False) \n",
    "    max_melt_i = param_melt_isf.sel(nn_model=mparam).max().values\n",
    "    ax[i+1].text(xmin,ymax,'Max melt = '+str(np.round(max_melt_i,1)))\n",
    "\n",
    "    ax[i+1].contour(ref_melt_isf.x,ref_melt_isf.y,grounded_msk.where(ref_melt_isf),levels=[0,1],linewidths=0.5,colors='black',zorder=10)\n",
    "    ax[i+1].contour(ref_melt_isf.x,ref_melt_isf.y,box1_msk.where(ref_melt_isf),levels=[0,1],linewidths=0.5,colors='blue',zorder=10)\n",
    "    ax[i+1].set_xticks([])\n",
    "    ax[i+1].set_yticks([])\n",
    "    ax[i+1].set_xlabel('')\n",
    "    ax[i+1].set_ylabel('')\n",
    "    ax[i+1].set_title('')\n",
    "\n",
    "      \n",
    "    #ax[i].contour(ref_melt_isf.x,ref_melt_isf.y,icesheet_msk.where(ref_melt_isf),levels=[0,1],linewidths=0.5,colors='black',zorder=15)\n",
    "\n",
    "plt.tight_layout()\n",
    "fig.savefig(plot_path+'comparison_spatial_patterns_isf'+str(kisf).zfill(3)+'_comparison_without_colorbar_CVisf.png', dpi=300)"
   ]
  },
  {
   "cell_type": "markdown",
   "id": "1740e054-0f43-443f-b363-2668981fd8b8",
   "metadata": {},
   "source": [
    "COMPARISON OF DIFFERENT NN VARIATIONS"
   ]
  },
  {
   "cell_type": "code",
   "execution_count": null,
   "id": "2c488dac-90f1-4d8a-9fe0-ae55cf18d07e",
   "metadata": {},
   "outputs": [],
   "source": [
    "ref_melt_isf = ref_melt_2D.where(kisf_mask,drop=True)\n",
    "cmaph = mpl.cm.coolwarm\n",
    "norm = colors.TwoSlopeNorm(vmin=-10, vcenter=0, vmax=70)\n",
    "ref_melt_isf.plot.contourf(cmap=cmaph,norm=norm)"
   ]
  },
  {
   "cell_type": "code",
   "execution_count": null,
   "id": "36698eab-3076-464e-9732-c5d45bae2d5e",
   "metadata": {},
   "outputs": [],
   "source": [
    "np.round(levs,0).astype(int)"
   ]
  },
  {
   "cell_type": "code",
   "execution_count": null,
   "id": "417fb51a-8be6-4b0a-a6da-3e13ba5938f8",
   "metadata": {},
   "outputs": [],
   "source": [
    "np.concatenate([levs_neg,levs_pos[1::]])"
   ]
  },
  {
   "cell_type": "code",
   "execution_count": null,
   "id": "80eda160-e913-42f9-ad2f-cfe27e3ddf64",
   "metadata": {},
   "outputs": [],
   "source": [
    "melt_rate_2D_boxes['melt_m_ice_per_y'].sel(param='boxes_2_pismno_picopno_tuned_clara', profile_domain=50).plot()"
   ]
  },
  {
   "cell_type": "code",
   "execution_count": null,
   "id": "29e05c69-ba56-4e6e-b869-9e9c1edf445e",
   "metadata": {},
   "outputs": [],
   "source": [
    "np.round(grounded_msk.where(ref_melt_isf)).plot()"
   ]
  },
  {
   "cell_type": "code",
   "execution_count": null,
   "id": "3e7b64fa-c812-47b2-ae5a-4619b60e769d",
   "metadata": {},
   "outputs": [],
   "source": [
    "icesheet_msk.where(file_isf_mask==66,drop=True).plot()"
   ]
  },
  {
   "cell_type": "code",
   "execution_count": null,
   "id": "adefd8da-e0c3-4b66-b33b-980f665a6205",
   "metadata": {},
   "outputs": [],
   "source": [
    "plt.contour(ref_melt_isf.x,ref_melt_isf.y,grounded_msk.where(ref_melt_isf),levels=[-1,2])"
   ]
  },
  {
   "cell_type": "code",
   "execution_count": null,
   "id": "b976ec95-29bb-4188-87fb-8bb6c2ae5e01",
   "metadata": {},
   "outputs": [],
   "source": [
    "grounded_msk.min()"
   ]
  },
  {
   "cell_type": "code",
   "execution_count": null,
   "id": "96ea989c-707e-487b-afb6-2f1951b629b4",
   "metadata": {},
   "outputs": [],
   "source": [
    "min_maxval"
   ]
  },
  {
   "cell_type": "code",
   "execution_count": null,
   "id": "4f08a135-5856-4bc7-8c6e-a6222b3d7cad",
   "metadata": {},
   "outputs": [],
   "source": []
  }
 ],
 "metadata": {
  "kernelspec": {
   "display_name": "py38",
   "language": "python",
   "name": "py38"
  },
  "language_info": {
   "codemirror_mode": {
    "name": "ipython",
    "version": 3
   },
   "file_extension": ".py",
   "mimetype": "text/x-python",
   "name": "python",
   "nbconvert_exporter": "python",
   "pygments_lexer": "ipython3",
   "version": "3.8.12"
  }
 },
 "nbformat": 4,
 "nbformat_minor": 5
}
