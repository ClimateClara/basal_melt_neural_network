{
 "cells": [
  {
   "cell_type": "code",
   "execution_count": null,
   "id": "365c29ca-1e68-4f86-9b51-90e7451c63cc",
   "metadata": {},
   "outputs": [],
   "source": [
    "\"\"\"\n",
    "Created on Wed Sep 22 15:27 2021\n",
    "\n",
    "This is a script to create subplots of different regions (in 2D)\n",
    "\n",
    "@author: Clara Burgard\n",
    "\"\"\""
   ]
  },
  {
   "cell_type": "code",
   "execution_count": null,
   "id": "9829323a-48fb-4726-a9b5-8aad9e9c4a6e",
   "metadata": {},
   "outputs": [],
   "source": [
    "import xarray as xr\n",
    "import numpy as np\n",
    "import pandas as pd\n",
    "from tqdm.notebook import tqdm\n",
    "import matplotlib.pyplot as plt\n",
    "import seaborn as sns\n",
    "from matplotlib import cm\n",
    "import cartopy\n",
    "import cartopy.crs as ccrs\n",
    "from cartopy.util import add_cyclic_point\n",
    "import matplotlib as mpl\n",
    "import cmocean\n",
    "import glob\n",
    "from matplotlib.colors import ListedColormap, LinearSegmentedColormap\n",
    "from matplotlib.ticker import LogFormatterSciNotation\n",
    "import matplotlib.colors as colors"
   ]
  },
  {
   "cell_type": "code",
   "execution_count": null,
   "id": "153e1633-cfac-4bd7-b2ce-e427a9c729a2",
   "metadata": {},
   "outputs": [],
   "source": [
    "sns.set_context('paper')"
   ]
  },
  {
   "cell_type": "code",
   "execution_count": null,
   "id": "1b7f817f-0678-4eb4-bd9f-8205aaab815b",
   "metadata": {},
   "outputs": [],
   "source": [
    "%matplotlib qt5"
   ]
  },
  {
   "cell_type": "markdown",
   "id": "d55ef23b-1000-42dc-82d3-600ae5c90d65",
   "metadata": {},
   "source": [
    "READ IN DATA"
   ]
  },
  {
   "cell_type": "code",
   "execution_count": null,
   "id": "fcf46a5b-4a39-44d7-9e24-c40211fe5bc4",
   "metadata": {},
   "outputs": [],
   "source": [
    "# make the domain a little smaller to make the computation even more efficient - file isf has already been made smaller at its creation\n",
    "map_lim = [-3000000,3000000]"
   ]
  },
  {
   "cell_type": "code",
   "execution_count": null,
   "id": "86917ef1-3970-47cb-ac95-cb62db76e0d8",
   "metadata": {},
   "outputs": [],
   "source": [
    "nemo_run = 'OPM026'"
   ]
  },
  {
   "cell_type": "code",
   "execution_count": null,
   "id": "6ea196b8-e2b1-40be-a01d-82275a7e5730",
   "metadata": {},
   "outputs": [],
   "source": [
    "inputpath_mask = '/bettik/burgardc/SCRIPTS/basal_melt_param/data/interim/ANTARCTICA_IS_MASKS/nemo_5km_'+nemo_run+'/'\n",
    "inputpath_colorbar = '/bettik/burgardc/SCRIPTS/basal_melt_param/data/raw/MASK_METADATA/'\n",
    "outputpath_melt = '/bettik/burgardc/SCRIPTS/basal_melt_param/data/processed/MELT_RATE/nemo_5km_'+nemo_run+'/'\n",
    "plot_path = '/bettik/burgardc/PLOTS/NN_plots/'\n",
    "inputpath_boxes = '/bettik/burgardc/SCRIPTS/basal_melt_param/data/interim/BOXES/nemo_5km_'+nemo_run+'/'\n",
    "outputpath_melt_nn = '/bettik/burgardc/DATA/NN_PARAM/processed/MELT_RATE/'"
   ]
  },
  {
   "cell_type": "code",
   "execution_count": null,
   "id": "6821d35a-850e-46b2-9724-0d06cc02f3d5",
   "metadata": {},
   "outputs": [],
   "source": [
    "timetag = '20220414-1706'\n",
    "new_path_output = outputpath_melt_nn+timetag+'/'"
   ]
  },
  {
   "cell_type": "code",
   "execution_count": null,
   "id": "22bd5514-0b95-49d6-8d4f-58d7e2d6e9a0",
   "metadata": {},
   "outputs": [],
   "source": [
    "melt_rate_2D_NEMO = xr.open_dataset(outputpath_melt+'melt_rates_2D_NEMO_timmean.nc')\n",
    "box_charac_all_2D = xr.open_dataset(inputpath_boxes + 'nemo_5km_boxes_2D.nc')\n",
    "box_charac_all_1D = xr.open_dataset(inputpath_boxes + 'nemo_5km_boxes_1D.nc')"
   ]
  },
  {
   "cell_type": "code",
   "execution_count": null,
   "id": "7781a244-fff0-49bf-8baf-dcf9d67d0fe6",
   "metadata": {},
   "outputs": [],
   "source": [
    "melt_rate_2D_nn = xr.open_dataset(new_path_output+'NN_melt_predicted_reference_m_ice_per_yr_'+nemo_run+'.nc')\n",
    "melt_rate_2D_nn_timmean = melt_rate_2D_nn['predicted_melt'].mean('time')"
   ]
  },
  {
   "cell_type": "code",
   "execution_count": null,
   "id": "c0b1d97b-e502-4cd6-a710-54a2c63ad336",
   "metadata": {},
   "outputs": [],
   "source": [
    "file_isf_orig = xr.open_dataset(inputpath_mask+'nemo_5km_isf_masks_and_info_and_distance_new.nc')\n",
    "nonnan_Nisf = file_isf_orig['Nisf'].where(np.isfinite(file_isf_orig['front_bot_depth_max']), drop=True).astype(int)\n",
    "file_isf_nonnan = file_isf_orig.sel(Nisf=nonnan_Nisf)\n",
    "large_isf = file_isf_nonnan['Nisf'].where(file_isf_nonnan['isf_area_here'] >= 2500, drop=True)\n",
    "file_isf = file_isf_nonnan.sel(Nisf=large_isf)\n",
    "file_isf_mask = file_isf['ISF_mask'].where(file_isf['ISF_mask']==file_isf.Nisf).sum('Nisf')"
   ]
  },
  {
   "cell_type": "code",
   "execution_count": null,
   "id": "d54e845e-9c51-4ee0-aa21-c6ad55e104f9",
   "metadata": {},
   "outputs": [],
   "source": [
    "ref_melt_2D = melt_rate_2D_NEMO['melt_m_ice_per_y'].where(file_isf_mask)"
   ]
  },
  {
   "cell_type": "code",
   "execution_count": null,
   "id": "830207df-fbd3-4a86-a872-a207852c37e7",
   "metadata": {},
   "outputs": [],
   "source": [
    "grounded_msk03 = file_isf['ground_mask'].where(file_isf['ground_mask']==0,3)\n",
    "grounded_msk = (grounded_msk03.where(grounded_msk03!=3,1)-1)*-1"
   ]
  },
  {
   "cell_type": "code",
   "execution_count": null,
   "id": "d8ae575a-0dd9-4df6-bfff-ca5af32074c8",
   "metadata": {},
   "outputs": [],
   "source": [
    "icesheet_msk_0inf = file_isf_mask.where(file_isf_mask!=1,0)\n",
    "icesheet_msk = icesheet_msk_0inf.where(icesheet_msk_0inf < 1, 1)"
   ]
  },
  {
   "cell_type": "code",
   "execution_count": null,
   "id": "d1f1d480-4434-4158-b6e6-df8e60108fa9",
   "metadata": {},
   "outputs": [],
   "source": [
    "box_loc_config2 = box_charac_all_2D['box_location'].sel(box_nb_tot=box_charac_all_1D['nD_config'].sel(config=2))\n",
    "box1 = box_loc_config2.where(box_loc_config2==1).isel(Nisf=0).drop('Nisf')\n",
    "box1_msk = box1.where(box1==1,0)"
   ]
  },
  {
   "cell_type": "code",
   "execution_count": null,
   "id": "ed23b637-d8d1-4f2f-bb2b-c28f2ff7b12a",
   "metadata": {},
   "outputs": [],
   "source": [
    "def sigdigit(a,n):\n",
    "    \"\"\"round a to n significant digits\n",
    "\n",
    "      Examples:\n",
    "        nico.sigdigit([0.,1.111111,0.],2)          -> array([0. , 1.1, 0. ])\n",
    "        nico.sigdigit([999.9,1.111111,-323.684],2) -> array([1000. , 1.1, -320. ])\n",
    "        nico.sigdigit(2.2222222222,3)              -> array([2.22])\n",
    "        nico.sigdigit(0.,3)                        -> array([0.])\n",
    "        nico.sigdigit([0.,0.,0.],3)                -> array([0., 0., 0.])\n",
    "\n",
    "   \"\"\"\n",
    "    \n",
    "    aa=np.array(a)\n",
    "    masked = aa==0\n",
    "    bb=np.ones(np.size(aa))\n",
    "    if np.size(bb[~masked]) != 0:\n",
    "        bb[~masked]=np.power(10,np.floor(np.log10(np.abs(aa[~masked]))))\n",
    "        return np.rint(10**(n-1)*aa/bb)*10**(1-n)*bb\n",
    "    else:\n",
    "        return bb*0.e0\n",
    "\n",
    "\n",
    "def smooth(x,window_len=11,window='hanning'):\n",
    "    \"\"\"smooth the data using a window with requested size.\n",
    "    \n",
    "    This method is based on the convolution of a scaled window with the signal.\n",
    "    The signal is prepared by introducing reflected copies of the signal \n",
    "    (with the window size) in both ends so that transient parts are minimized\n",
    "    in the begining and end part of the output signal.\n",
    "    \n",
    "    input:\n",
    "        x: the input signal \n",
    "        window_len: the dimension of the smoothing window; should be an odd integer\n",
    "        window: the type of window from 'flat', 'hanning', 'hamming', 'bartlett', 'blackman'\n",
    "            flat window will produce a moving average smoothing.\n",
    "\n",
    "    output:\n",
    "        the smoothed signal\n",
    "        \n",
    "    example:\n",
    "\n",
    "    t=linspace(-2,2,0.1)\n",
    "    x=sin(t)+randn(len(t))*0.1\n",
    "    y=smooth(x)\n",
    "    \n",
    "    see also: \n",
    "    \n",
    "    np.hanning, np.hamming, np.bartlett, np.blackman, np.convolve\n",
    "    scipy.signal.lfilter\n",
    " \n",
    "    TODO: the window parameter could be the window itself if an array instead of a string\n",
    "    NOTE: length(output) != length(input), to correct this: return y[(window_len/2-1):-(window_len/2)] instead of just y.\n",
    "    \"\"\"\n",
    "\n",
    "    if x.ndim != 1:\n",
    "        raise(ValueError, \"smooth only accepts 1 dimension arrays.\")\n",
    "\n",
    "    if x.size < window_len:\n",
    "        raise(ValueError, \"Input vector needs to be bigger than window size.\")\n",
    "\n",
    "    if window_len<3:\n",
    "        return x\n",
    "\n",
    "    if not window in ['flat', 'hanning', 'hamming', 'bartlett', 'blackman']:\n",
    "        raise(ValueError, \"Window is on of 'flat', 'hanning', 'hamming', 'bartlett', 'blackman'\")\n",
    "\n",
    "\n",
    "    sx = np.size(x)\n",
    "    s=np.r_[x[window_len-1:0:-1],x,x[-2:-window_len-1:-1]]\n",
    "    if window == 'flat': #moving average\n",
    "        w=np.ones(window_len,'d')\n",
    "    else:\n",
    "        w=eval('np.'+window+'(window_len)')\n",
    "\n",
    "    #y=np.convolve(w/w.sum(),s,mode='valid')\n",
    "    y=np.convolve(w/w.sum(),s,mode='same')\n",
    "    return y[np.size(x[window_len-1:0:-1]):np.size(x[window_len-1:0:-1])+sx]"
   ]
  },
  {
   "cell_type": "code",
   "execution_count": null,
   "id": "7eb1c99f-252b-4e90-a104-fdb4cf0765e4",
   "metadata": {},
   "outputs": [],
   "source": [
    "#===========================================================================\n",
    "# Local functions to handle symmetric-log color bars:\n",
    "\n",
    "def symlog_transform(linthresh,linscale, a):\n",
    "    \"\"\"Inplace transformation.\"\"\"\n",
    "    linscale_adj = (linscale / (1.0 - np.e ** -1))\n",
    "    with np.errstate(invalid=\"ignore\"):\n",
    "      masked = np.abs(a) > linthresh\n",
    "    sign = np.sign(a[masked])\n",
    "    log = (linscale_adj + np.log(np.abs(a[masked]) / linthresh))\n",
    "    log *= sign * linthresh\n",
    "    a[masked] = log\n",
    "    a[~masked] *= linscale_adj\n",
    "    return a\n",
    "\n",
    "def symlog_inv_transform(linthresh,linscale, a):\n",
    "    \"\"\"Inverse inplace Transformation.\"\"\"\n",
    "    linscale_adj = (linscale / (1.0 - np.e ** -1))\n",
    "    masked = np.abs(a) > (linthresh * linscale_adj)\n",
    "    sign = np.sign(a[masked])\n",
    "    exp = np.exp(sign * a[masked] / linthresh - linscale_adj)\n",
    "    exp *= sign * linthresh\n",
    "    a[masked] = exp\n",
    "    a[~masked] /= linscale_adj\n",
    "    return a"
   ]
  },
  {
   "cell_type": "code",
   "execution_count": null,
   "id": "f248985e-47ef-4609-9a2a-70b36dee1add",
   "metadata": {},
   "outputs": [],
   "source": [
    "def map_with_contourf_coolwarm(melt_2D, grounded_msk, icesheet_msk, mparam):\n",
    "    fig, ax = plt.subplots()\n",
    "    fig.set_size_inches(8.25/1.3, 8.25/1.5/1.25)\n",
    "\n",
    "    # Customize colormap :\n",
    "    # NB: modify the Ncool to Nwarm ratio (total=256) to place zero as desired.\n",
    "    Ncool=86\n",
    "    Nwarm=256-Ncool\n",
    "    #------------------------------------------\n",
    "    # Defining IPCC colormap:\n",
    "    #LinL = np.loadtxt('IPCC_cryo_div.txt')\n",
    "    LinL = np.loadtxt(inputpath_colorbar+'IPCC_cryo_div.txt')\n",
    "    LinL = LinL*0.01\n",
    "    #\n",
    "    b3=LinL[:,2] # value of blue at sample n\n",
    "    b2=LinL[:,2] # value of blue at sample n\n",
    "    b1=np.linspace(0,1,len(b2)) # position of sample n - ranges from 0 to 1\n",
    "    # setting up columns for list\n",
    "    g3=LinL[:,1]\n",
    "    g2=LinL[:,1]\n",
    "    g1=np.linspace(0,1,len(g2))\n",
    "    r3=LinL[:,0]\n",
    "    r2=LinL[:,0]\n",
    "    r1=np.linspace(0,1,len(r2))\n",
    "    # creating list\n",
    "    R=zip(r1,r2,r3)\n",
    "    G=zip(g1,g2,g3)\n",
    "    B=zip(b1,b2,b3)\n",
    "    # transposing list\n",
    "    RGB=zip(R,B,G)\n",
    "    rgb=zip(*RGB)\n",
    "    # print rgb\n",
    "    # creating dictionary\n",
    "    k=['red', 'green', 'blue']\n",
    "    LinearL=dict(zip(k,rgb)) # makes a dictionary from 2 lists\n",
    "    ipcc_cmap=mpl.colors.LinearSegmentedColormap('ipcc',LinearL,256)\n",
    "    #---------------------------------\n",
    "    # moving the zero of colorbar\n",
    "    cool = cm.get_cmap(cm.coolwarm_r, Ncool)\n",
    "    tmp1 = cool(np.linspace(0.5, 0.85, Ncool)) # decrease 0.70 to have more white in the middle light-blue colors\n",
    "    print(tmp1.shape)\n",
    "    warm = cm.get_cmap(cm.coolwarm_r, Nwarm)\n",
    "    tmp2 = warm(np.linspace(0, 0.5, Nwarm)) # increase 0.20 to have more white in the middle light-yellow colors\n",
    "    print(tmp2.shape)\n",
    "    newcolors = np.append(tmp1[::-1,:],tmp2[::-1,:],axis=0)\n",
    "    newcmp = ListedColormap(newcolors)\n",
    "\n",
    "    # extreme color range values and corresponding tick levels of the symmetric-log contourf levels:\n",
    "    minval=-5.0\n",
    "    maxval=135.0\n",
    "    lin_threshold=1.0\n",
    "    lin_scale=1.0\n",
    "    [min_exp,max_exp]=symlog_transform(lin_threshold,lin_scale,np.array([minval,maxval]))\n",
    "    lev_exp = np.arange( np.floor(min_exp),  np.ceil(max_exp)+1 )\n",
    "    levs = symlog_inv_transform(lin_threshold,lin_scale,lev_exp)\n",
    "    levs = sigdigit(levs,2)\n",
    "\n",
    "    cax=ax.contourf(ref_melt_2D.x,ref_melt_2D.y,melt_2D,levs,cmap=newcmp,norm=mpl.colors.SymLogNorm(linthresh=lin_threshold, linscale=lin_scale,vmin=minval, vmax=maxval),zorder=0)\n",
    "    #ax.contour(ref_melt_2D.x,ref_melt_2D.y,basnb,np.linspace(0.5,20.5,21),linewidths=0.5,colors='gray',zorder=5)\n",
    "    ax.contour(ref_melt_2D.x,ref_melt_2D.y,grounded_msk,linewidths=0.5,colors='black',zorder=10)\n",
    "    ax.contour(ref_melt_2D.x,ref_melt_2D.y,icesheet_msk,linewidths=0.5,colors='black',zorder=15)\n",
    "    #ax.contour(ref_melt_2D.x,ref_melt_2D.y,box_msk,linewidths=0.5,colors='blue',zorder=10)\n",
    "\n",
    "    # Zoom on Amundsen:\n",
    "    zoomfac=2.85\n",
    "    xll_ori = -2000e3\n",
    "    yll_ori =  -900e3\n",
    "    xur_ori = -1450e3\n",
    "    yur_ori =  -150e3\n",
    "    xll_des =   -50e3\n",
    "    yll_des =  -500e3\n",
    "    xur_des = xll_des + zoomfac * (xur_ori-xll_ori)\n",
    "    yur_des = yll_des + zoomfac * (yur_ori-yll_ori)\n",
    "    ax.plot([xll_ori, xur_ori, xur_ori, xll_ori, xll_ori],[yll_ori, yll_ori, yur_ori, yur_ori, yll_ori],'k',linewidth=0.6,zorder=20)\n",
    "    ax.fill([xll_des, xur_des, xur_des, xll_des, xll_des],[yll_des, yll_des, yur_des, yur_des, yll_des],'w',edgecolor='k',zorder=25)\n",
    "\n",
    "    i1=np.argmin(np.abs(ref_melt_2D.x.values-xll_ori))\n",
    "    i2=np.argmin(np.abs(ref_melt_2D.x.values-xur_ori))+1\n",
    "    j1=np.argmin(np.abs(ref_melt_2D.y.values-yll_ori))\n",
    "    j2=np.argmin(np.abs(ref_melt_2D.y.values-yur_ori))+1\n",
    "    xzoom= xll_des + zoomfac * (ref_melt_2D.x-xll_ori)\n",
    "    yzoom= yll_des + zoomfac * (ref_melt_2D.y-yll_ori)\n",
    "\n",
    "    print(i1, i2, j1, j2)\n",
    "    print(np.shape(ref_melt_2D.values), np.shape(xzoom.values))\n",
    "    ax.contourf(xzoom.isel(x=range(i1,i2)),yzoom.isel(y=range(j2,j1)),melt_2D.isel(x=range(i1,i2),y=range(j2,j1)),levs,cmap=newcmp,norm=mpl.colors.SymLogNorm(linthresh=lin_threshold, linscale=lin_scale,vmin=minval, vmax=maxval),zorder=30)\n",
    "    ax.contour(xzoom.isel(x=range(i1,i2)),yzoom.isel(y=range(j2,j1)),grounded_msk.isel(x=range(i1,i2),y=range(j2,j1)),linewidths=0.5,colors='black',zorder=30)\n",
    "    ax.contour(xzoom.isel(x=range(i1,i2)),yzoom.isel(y=range(j2,j1)),icesheet_msk.isel(x=range(i1,i2),y=range(j2,j1)),linewidths=0.5,colors='black',zorder=40)\n",
    "    #ax.contour(xzoom.isel(x=range(i1,i2)),yzoom.isel(y=range(j2,j1)),box_msk.isel(x=range(i1,i2),y=range(j2,j1)),linewidths=0.15,colors='blue',zorder=35)\n",
    "    ax.plot([xll_des, xur_des, xur_des, xll_des, xll_des],[yll_des, yll_des, yur_des, yur_des, yll_des],'k',linewidth=1.0,zorder=45)\n",
    "\n",
    "    #-----\n",
    "\n",
    "    ratio=1.00\n",
    "    ax.set_aspect(1.0/ax.get_data_ratio()*ratio)\n",
    "\n",
    "    # colorbar :\n",
    "    formatter = LogFormatterSciNotation(10, labelOnlyBase=False, minor_thresholds=(np.inf, np.inf)) # \"(np.inf, np.inf)\" so that all ticks will be labeled \n",
    "    cbar = fig.colorbar(cax, format=formatter, fraction=0.035, pad=0.02, ticks=levs)\n",
    "    cbar.ax.set_title('m ice/yr') #,size=8\n",
    "    cbar.outline.set_linewidth(0.3)\n",
    "    cbar.ax.tick_params(which='both') #labelsize=6,\n",
    "\n",
    "    #-----\n",
    "\n",
    "    ax.set_xlim(-2800e3,2800e3)\n",
    "    ax.set_ylim(-2300e3,2300e3)\n",
    "    ax.set_title(mparam)\n",
    "    \n",
    "    plt.tight_layout()\n",
    "    return fig"
   ]
  },
  {
   "cell_type": "code",
   "execution_count": null,
   "id": "1000c420-e3fc-4262-8317-02c345e5b9d5",
   "metadata": {},
   "outputs": [],
   "source": [
    "kisf = 10\n",
    "if kisf == 11:\n",
    "    kisf_mask = (file_isf_mask==11) | (file_isf_mask==21)\n",
    "else:\n",
    "    kisf_mask = file_isf_mask==kisf\n",
    "\n",
    "ref_melt_isf = ref_melt_2D.where(kisf_mask,drop=True)\n",
    "print('x size',ref_melt_isf.x.max() - ref_melt_isf.x.min())\n",
    "print('y size',ref_melt_isf.y.max() - ref_melt_isf.y.min())\n"
   ]
  },
  {
   "cell_type": "code",
   "execution_count": null,
   "id": "1f06aaa8-a791-42e2-bc2c-d0fc9ec13b98",
   "metadata": {},
   "outputs": [],
   "source": [
    "kisf = 48\n",
    "if kisf == 11:\n",
    "    kisf_mask = (file_isf_mask==11) | (file_isf_mask==21)\n",
    "else:\n",
    "    kisf_mask = file_isf_mask==kisf\n",
    "\n",
    "ref_melt_isf = ref_melt_2D.where(kisf_mask,drop=True)\n",
    "print('y max =',ref_melt_isf.y.max())\n",
    "print('x min =',ref_melt_isf.x.min())"
   ]
  },
  {
   "cell_type": "markdown",
   "id": "384c6c00-8ef9-4e7c-9088-35ecbe7eed26",
   "metadata": {},
   "source": [
    "try other colorbar"
   ]
  },
  {
   "cell_type": "code",
   "execution_count": null,
   "id": "7876f302-c259-435e-a8e0-c1eab7ffa7df",
   "metadata": {},
   "outputs": [],
   "source": [
    "def myround(x, base=5):\n",
    "    return (base * np.ceil(x/base)).astype(int)"
   ]
  },
  {
   "cell_type": "code",
   "execution_count": null,
   "id": "355f7be4-1ba5-4401-97aa-93698a27c001",
   "metadata": {},
   "outputs": [],
   "source": [
    "myround(11.5)"
   ]
  },
  {
   "cell_type": "code",
   "execution_count": null,
   "id": "f8a08022-3280-4252-a69e-c9044e3e7783",
   "metadata": {},
   "outputs": [],
   "source": [
    "dom = 50\n",
    "\n",
    "kisf = 66\n",
    "if kisf == 11:\n",
    "    kisf_mask = (file_isf_mask==11) | (file_isf_mask==21)\n",
    "else:\n",
    "    kisf_mask = file_isf_mask==kisf\n",
    "\n",
    "ref_melt_isf = ref_melt_2D.where(kisf_mask,drop=True)\n",
    "cmaph = mpl.cm.coolwarm\n",
    "    \n",
    "if kisf == 11:\n",
    "    ymax = ref_melt_isf.y.min() - 80000\n",
    "    xmin = ref_melt_isf.x.min() + 10000\n",
    "elif kisf == 10:\n",
    "    ymax = ref_melt_isf.y.min() - 80000\n",
    "    xmin = ref_melt_isf.x.min() + 5000\n",
    "elif kisf == 31:\n",
    "    ymax = ref_melt_isf.y.min() - 20000\n",
    "    xmin = ref_melt_isf.x.min() + 3000 \n",
    "elif kisf == 44:\n",
    "    ymax = ref_melt_isf.y.min() - 30000\n",
    "    xmin = ref_melt_isf.x.min() + 3000 \n",
    "elif kisf == 48:\n",
    "    ymax = ref_melt_isf.y.min() - 15000\n",
    "    xmin = ref_melt_isf.x.min() + 3000   \n",
    "elif kisf == 66:\n",
    "    ymax = ref_melt_isf.y.min() - 15000\n",
    "    xmin = ref_melt_isf.x.min() + 1000   \n",
    "    \n",
    "    \n",
    "param_melt_isf = melt_rate_2D_nn_timmean.where(kisf_mask,drop=True)\n",
    "\n",
    "if (kisf == 11) or (kisf==10):\n",
    "    min_maxval = 5\n",
    "elif kisf == 44:\n",
    "    min_maxval = 5\n",
    "elif kisf == 31:\n",
    "    min_maxval = 10\n",
    "else:\n",
    "    min_maxval = myround(abs(ref_melt_isf).max().values)\n",
    "\n",
    "levs_neg = np.linspace(-min_maxval,0,min_maxval+1)\n",
    "levs_pos = np.linspace(0,min_maxval,min_maxval+1)\n",
    "levs = np.concatenate([levs_neg,levs_pos[1::]])\n",
    "round_lev = np.round(levs,0)\n",
    "\n",
    "\n",
    "max_list = []\n",
    "\n",
    "fig, ax = plt.subplots(1,3,sharex=True,sharey=True)\n",
    "fig.set_size_inches(8.25, 8.25/2.5)\n",
    "for i in range(len(ax)):\n",
    "    if i==0:\n",
    "        cbar_ax2 = ref_melt_isf.plot.contourf(ax=ax[i],cmap=cmaph, zorder=0, levels=levs, vmin=-min_maxval, vmax=min_maxval, add_colorbar=False)  #levels=levs\n",
    "        ax[i].text(xmin,ymax,'Max melt = '+str(np.round(ref_melt_isf.max().values,1)))\n",
    "    elif i==1:\n",
    "        param_melt_isf.plot.contourf(ax=ax[i],cmap=cmaph, levels=levs, zorder=0, add_colorbar=False)  \n",
    "        max_quad_Ant = param_melt_isf.max().values\n",
    "        max_list.append(max_quad_Ant)\n",
    "        ax[i].text(xmin,ymax,'Max melt = '+str(np.round(max_quad_Ant,1)))\n",
    "        \n",
    "        #if np.max(max_list) > ref_melt_isf.max().values:\n",
    "        #    cbar = fig.colorbar(cbar_ax2, extend='max',orientation='horizontal')\n",
    "        #else:\n",
    "        #    cbar = fig.colorbar(cbar_ax2,orientation='horizontal')\n",
    "        \n",
    "        \n",
    "    elif i==2:\n",
    "        (param_melt_isf - ref_melt_isf).plot.contourf(ax=ax[i],cmap=cmaph, zorder=0, add_colorbar=True, vmin=-10, vmax=10)  \n",
    "        \n",
    "    ax[i].contour(ref_melt_isf.x,ref_melt_isf.y,grounded_msk.where(ref_melt_isf),levels=[0,1],linewidths=0.5,colors='black',zorder=10)\n",
    "    ax[i].contour(ref_melt_isf.x,ref_melt_isf.y,box1_msk.where(ref_melt_isf),levels=[0,1],linewidths=0.5,colors='blue',zorder=10)\n",
    "    ax[i].set_xticks([])\n",
    "    ax[i].set_yticks([])\n",
    "    ax[i].set_xlabel('')\n",
    "    ax[i].set_ylabel('')\n",
    "    ax[i].set_title('')\n",
    "      \n",
    "    #ax[i].contour(ref_melt_isf.x,ref_melt_isf.y,icesheet_msk.where(ref_melt_isf),levels=[0,1],linewidths=0.5,colors='black',zorder=15)\n",
    "\n",
    "        \n",
    "if kisf in [48]:\n",
    "    cbar = fig.colorbar(cbar_ax2, ticks=round_lev[::3],orientation='horizontal')\n",
    "elif kisf in [10, 11]:\n",
    "    cbar = fig.colorbar(cbar_ax2, ticks=round_lev[::2],orientation='horizontal')\n",
    "elif kisf in [66]:\n",
    "    cbar = fig.colorbar(cbar_ax2, ticks=round_lev[::20],orientation='horizontal')\n",
    "elif kisf in [31]:\n",
    "    cbar = fig.colorbar(cbar_ax2, ticks=round_lev[::5],orientation='horizontal')\n",
    "elif kisf in [44, 31]:\n",
    "    cbar = fig.colorbar(cbar_ax2, ticks=round_lev[::2],orientation='horizontal')\n",
    "else:\n",
    "    cbar = fig.colorbar(cbar_ax2,orientation='horizontal')\n",
    "\n",
    "plt.tight_layout()\n",
    "fig.savefig(plot_path+'comparison_spatial_patterns_isf'+str(kisf).zfill(3)+'_'+str(nemo_run)+'_'+str(timetag)+'_with_colorbar.png', dpi=300)"
   ]
  },
  {
   "cell_type": "code",
   "execution_count": null,
   "id": "2c488dac-90f1-4d8a-9fe0-ae55cf18d07e",
   "metadata": {},
   "outputs": [],
   "source": [
    "ref_melt_isf = ref_melt_2D.where(kisf_mask,drop=True)\n",
    "cmaph = mpl.cm.coolwarm\n",
    "norm = colors.TwoSlopeNorm(vmin=-10, vcenter=0, vmax=70)\n",
    "ref_melt_isf.plot.contourf(cmap=cmaph,norm=norm)"
   ]
  },
  {
   "cell_type": "code",
   "execution_count": null,
   "id": "36698eab-3076-464e-9732-c5d45bae2d5e",
   "metadata": {},
   "outputs": [],
   "source": [
    "np.round(levs,0).astype(int)"
   ]
  },
  {
   "cell_type": "code",
   "execution_count": null,
   "id": "417fb51a-8be6-4b0a-a6da-3e13ba5938f8",
   "metadata": {},
   "outputs": [],
   "source": [
    "np.concatenate([levs_neg,levs_pos[1::]])"
   ]
  },
  {
   "cell_type": "code",
   "execution_count": null,
   "id": "80eda160-e913-42f9-ad2f-cfe27e3ddf64",
   "metadata": {},
   "outputs": [],
   "source": [
    "melt_rate_2D_boxes['melt_m_ice_per_y'].sel(param='boxes_2_pismno_picopno_tuned_clara', profile_domain=50).plot()"
   ]
  },
  {
   "cell_type": "code",
   "execution_count": null,
   "id": "29e05c69-ba56-4e6e-b869-9e9c1edf445e",
   "metadata": {},
   "outputs": [],
   "source": [
    "np.round(grounded_msk.where(ref_melt_isf)).plot()"
   ]
  },
  {
   "cell_type": "code",
   "execution_count": null,
   "id": "3e7b64fa-c812-47b2-ae5a-4619b60e769d",
   "metadata": {},
   "outputs": [],
   "source": [
    "icesheet_msk.where(file_isf_mask==66,drop=True).plot()"
   ]
  },
  {
   "cell_type": "code",
   "execution_count": null,
   "id": "adefd8da-e0c3-4b66-b33b-980f665a6205",
   "metadata": {},
   "outputs": [],
   "source": [
    "plt.contour(ref_melt_isf.x,ref_melt_isf.y,grounded_msk.where(ref_melt_isf),levels=[-1,2])"
   ]
  },
  {
   "cell_type": "code",
   "execution_count": null,
   "id": "b976ec95-29bb-4188-87fb-8bb6c2ae5e01",
   "metadata": {},
   "outputs": [],
   "source": [
    "grounded_msk.min()"
   ]
  },
  {
   "cell_type": "code",
   "execution_count": null,
   "id": "96ea989c-707e-487b-afb6-2f1951b629b4",
   "metadata": {},
   "outputs": [],
   "source": [
    "min_maxval"
   ]
  },
  {
   "cell_type": "code",
   "execution_count": null,
   "id": "4f08a135-5856-4bc7-8c6e-a6222b3d7cad",
   "metadata": {},
   "outputs": [],
   "source": []
  }
 ],
 "metadata": {
  "kernelspec": {
   "display_name": "py38",
   "language": "python",
   "name": "py38"
  },
  "language_info": {
   "codemirror_mode": {
    "name": "ipython",
    "version": 3
   },
   "file_extension": ".py",
   "mimetype": "text/x-python",
   "name": "python",
   "nbconvert_exporter": "python",
   "pygments_lexer": "ipython3",
   "version": "3.8.12"
  }
 },
 "nbformat": 4,
 "nbformat_minor": 5
}
