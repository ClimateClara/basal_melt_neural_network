{
 "cells": [
  {
   "cell_type": "code",
   "execution_count": null,
   "id": "a5c09dcc-a080-4f12-b993-079d2ecb8e40",
   "metadata": {},
   "outputs": [],
   "source": [
    "\"\"\"\n",
    "\n",
    "Script to look at the application of classic parameterisations to Smith future run\n",
    "\n",
    "Author: C. Burgard\n",
    "\"\"\""
   ]
  },
  {
   "cell_type": "code",
   "execution_count": null,
   "id": "54610afc-0984-49da-82c9-060047b27d44",
   "metadata": {},
   "outputs": [],
   "source": [
    "import xarray as xr\n",
    "import numpy as np\n",
    "import pandas as pd\n",
    "from tqdm.notebook import tqdm\n",
    "import matplotlib.pyplot as plt\n",
    "import basal_melt_param.useful_functions as uf\n",
    "import basal_melt_param.melt_functions as meltf\n",
    "from basal_melt_param.constants import *\n",
    "import seaborn as sns\n",
    "from matplotlib import cm\n",
    "import cartopy\n",
    "import cartopy.crs as ccrs\n",
    "import matplotlib as mpl\n",
    "import glob"
   ]
  },
  {
   "cell_type": "code",
   "execution_count": null,
   "id": "69eac858-c185-4ab8-9e48-f2c6663ecb64",
   "metadata": {},
   "outputs": [],
   "source": [
    "%matplotlib qt5"
   ]
  },
  {
   "cell_type": "code",
   "execution_count": null,
   "id": "ed18bfc1-82ce-451f-8683-952ee6c85c04",
   "metadata": {},
   "outputs": [],
   "source": [
    "nemo_run = 'bf663'"
   ]
  },
  {
   "cell_type": "code",
   "execution_count": null,
   "id": "6c15c43e-c0c3-45a9-a078-e8545b43f25c",
   "metadata": {},
   "outputs": [],
   "source": [
    "inputpath_data='/bettik/burgardc/DATA/NN_PARAM/interim/SMITH_'+nemo_run+'/'\n",
    "inputpath_mask = '/bettik/burgardc/DATA/NN_PARAM/interim/ANTARCTICA_IS_MASKS/SMITH_'+nemo_run+'/'\n",
    "inputpath_profiles = '/bettik/burgardc/DATA/NN_PARAM/interim/T_S_PROF/SMITH_'+nemo_run+'/'\n",
    "outputpath_simple_all = '/bettik/burgardc/DATA/BASAL_MELT_PARAM/interim/SIMPLE/nemo_5km_06161821_oneFRIS/'\n",
    "inputpath_plumes = '/bettik/burgardc/DATA/NN_PARAM/interim/PLUMES/SMITH_'+nemo_run+'/'\n",
    "outputpath_plumes = '/bettik/burgardc/DATA/NN_PARAM/interim/PLUMES/SMITH_'+nemo_run+'/'\n",
    "inputpath_boxes = '/bettik/burgardc/DATA/NN_PARAM/interim/BOXES/SMITH_'+nemo_run+'/'\n",
    "outputpath_boxes = '/bettik/burgardc/DATA/NN_PARAM/interim/BOXES/SMITH_'+nemo_run+'/'\n",
    "outputpath_melt = '/bettik/burgardc/DATA/NN_PARAM/processed/MELT_RATE/SMITH_'+nemo_run+'_CLASSIC/'\n",
    "outputpath = '/bettik/burgardc/DATA/NN_PARAM/interim/'"
   ]
  },
  {
   "cell_type": "code",
   "execution_count": null,
   "id": "5e5a46d1-f143-4574-8b8d-11a75da028a0",
   "metadata": {},
   "outputs": [],
   "source": [
    "inputpath_mask = '/bettik/burgardc/DATA/NN_PARAM/interim/ANTARCTICA_IS_MASKS/SMITH_'+nemo_run+'/'\n",
    "file_isf_orig = xr.open_dataset(inputpath_mask+'nemo_5km_isf_masks_and_info_and_distance_oneFRIS_1980.nc').drop('time')\n",
    "nonnan_Nisf = file_isf_orig['Nisf'].where(np.isfinite(file_isf_orig['front_bot_depth_max']), drop=True).astype(int)\n",
    "file_isf_nonnan = file_isf_orig.sel(Nisf=nonnan_Nisf)\n",
    "large_isf = file_isf_nonnan['Nisf'].where(file_isf_nonnan['isf_area_here'] >= 2500, drop=True)\n",
    "file_isf = file_isf_nonnan.sel(Nisf=large_isf)\n",
    "file_isf['isf_name'] = file_isf['isf_name'].where(file_isf['isf_name'] != 'Ekstrom', np.array('Ekström', dtype=object))\n",
    "isf_names = file_isf['isf_name']"
   ]
  },
  {
   "cell_type": "code",
   "execution_count": null,
   "id": "15355246-2acb-4ed4-9eb9-5a8091679d32",
   "metadata": {},
   "outputs": [],
   "source": [
    "isf_dim = large_isf.Nisf.drop_sel(Nisf=4)"
   ]
  },
  {
   "cell_type": "code",
   "execution_count": null,
   "id": "6f59acc3-1a80-4f24-9e4e-f04671a94389",
   "metadata": {},
   "outputs": [],
   "source": [
    "isf_dim"
   ]
  },
  {
   "cell_type": "code",
   "execution_count": null,
   "id": "dd606f96-1ed0-4996-9a72-b170bbad38a2",
   "metadata": {},
   "outputs": [],
   "source": [
    "#run_list = ['OPM031'] \n",
    "file_isf_list = []\n",
    "target_melt_list = []\n",
    "ds_melt_Gt_list = []\n",
    "ds_melt_box1_list = []\n",
    "ref_box1_list = []\n",
    "\n",
    "for yy in tqdm(range(1980,1980 + 60)):\n",
    "    \n",
    "    # Param files\n",
    "    melt_param_files = list(sorted(glob.glob(outputpath_melt+'eval_metrics_1D_*_oneFRIS_'+str(yy)+'.nc')))\n",
    "    \n",
    "    param_list = []\n",
    "    for mfilename in melt_param_files:\n",
    "        #paramname = mfilename[97:157].split('.')[0].split('_')[:-1]\n",
    "        paramname = mfilename[89:157].split('.')[0].split('_')[:-1]\n",
    "        #paramname = mfilename[105:157].split('.')[0].split('_')[:-1]\n",
    "        mparam = '_'.join(paramname)\n",
    "        param_list.append(mparam)\n",
    "    \n",
    "    ds_melt_param  = xr.open_mfdataset(melt_param_files, concat_dim='new_param', combine='nested', coords='minimal',compat='override')#, chunks={'x': chunksize, 'y': chunksize})\n",
    "    if 'option' in ds_melt_param.coords:        \n",
    "        ds_melt_param = ds_melt_param.drop('option')\n",
    "    if 'calib' in ds_melt_param.coords: \n",
    "        ds_melt_param = ds_melt_param.drop('calib')\n",
    "    if 'param' in ds_melt_param.coords: \n",
    "        ds_melt_param = ds_melt_param.drop('param')\n",
    "\n",
    "    ds_melt_param = ds_melt_param.rename({'new_param': 'param'})\n",
    "    ds_melt_param = ds_melt_param.assign_coords(param=param_list, time=yy)\n",
    "    ds_melt_param_Gt = ds_melt_param['melt_1D_Gt_per_y'].sel(Nisf=ds_melt_param.Nisf)\n",
    "    ds_melt_Gt_list.append(ds_melt_param_Gt)\n",
    "    ds_melt_param_box1 = ds_melt_param['melt_1D_mean_myr_box1'].sel(Nisf=ds_melt_param.Nisf)\n",
    "    ds_melt_box1_list.append(ds_melt_param_box1)\n",
    "    \n",
    "    # File for target\n",
    "    NEMO_melt_rates_1D = xr.open_dataset(inputpath_data+'melt_rates_1D_NEMO_oneFRIS_'+str(yy)+'.nc')\n",
    "    target_melt_Gt_yr = NEMO_melt_rates_1D['melt_Gt_per_y_tot'].sel(Nisf=ds_melt_param.Nisf)\n",
    "    target_melt_list.append(target_melt_Gt_yr)\n",
    "    NEMO_box1_myr = xr.open_dataset(inputpath_data+'melt_rates_box1_NEMO_oneFRIS_'+str(yy)+'.nc')\n",
    "    ref_box1 = NEMO_box1_myr['mean_melt_box1_myr']\n",
    "    ref_box1_list.append(ref_box1)\n",
    "    \n",
    "target_melt_all = xr.concat(target_melt_list, dim='time')\n",
    "ref_box1_all = xr.concat(ref_box1_list, dim='time')\n",
    "ds_melt_Gt_all = xr.concat(ds_melt_Gt_list, dim='time')\n",
    "ds_melt_box1_all = xr.concat(ds_melt_box1_list, dim='time')\n"
   ]
  },
  {
   "cell_type": "code",
   "execution_count": null,
   "id": "76e88abb-2e00-4d4b-a009-d0f30eb4062f",
   "metadata": {},
   "outputs": [],
   "source": [
    "np.sqrt(((ds_melt_Gt_all - target_melt_all)**2).mean(['time','Nisf'])).load() #.where(ds_melt_Gt_all.Nisf > 10, drop=True)"
   ]
  },
  {
   "cell_type": "code",
   "execution_count": null,
   "id": "a3c52c06-5c2d-426b-b106-d366bfa4a97e",
   "metadata": {},
   "outputs": [],
   "source": [
    "np.sqrt(((ds_melt_Gt_all - target_melt_all)**2).where(ds_melt_Gt_all.Nisf > 11, drop=True).mean(['time','Nisf'])).load() #.where(ds_melt_Gt_all.Nisf > 10, drop=True)"
   ]
  },
  {
   "cell_type": "code",
   "execution_count": null,
   "id": "f5552fdc-d4a1-4222-bd2b-9b59bd573730",
   "metadata": {},
   "outputs": [],
   "source": [
    "(ds_melt_Gt_all - target_melt_all).isel(param=1).plot()"
   ]
  },
  {
   "cell_type": "code",
   "execution_count": null,
   "id": "1cb2b930-afb4-4958-b9f7-6d840fb59e49",
   "metadata": {},
   "outputs": [],
   "source": [
    "yend = 35\n",
    "\n",
    "mean_10_param_list = []\n",
    "mean_10_ref_list = []\n",
    "\n",
    "for tstart in range(0,yend,10):\n",
    "    mean_param_10yy = ds_melt_box1_all.sel(time=range(1970+tstart,1970+min(tstart+10,yend))).mean('time')\n",
    "    mean_ref_10yy = ref_box1_all.sel(time=range(tstart,min(tstart+10,yend))).mean('time')\n",
    "    \n",
    "    mean_10_param_list.append(mean_param_10yy.assign_coords({'time': tstart}))\n",
    "    mean_10_ref_list.append(mean_ref_10yy.assign_coords({'time': tstart}))\n",
    "\n",
    "mean_10_param_box1 = xr.concat(mean_10_param_list, dim='time')\n",
    "mean_10_ref_box1 = xr.concat(mean_10_ref_list, dim='time')\n"
   ]
  },
  {
   "cell_type": "code",
   "execution_count": null,
   "id": "d18d9acd-23f8-4206-99b5-fe1aef45ec75",
   "metadata": {},
   "outputs": [],
   "source": [
    "np.sqrt(((mean_10_param_box1 - mean_10_ref_box1)**2).mean(['time','Nisf'])).load()"
   ]
  },
  {
   "cell_type": "code",
   "execution_count": null,
   "id": "bdc41188-d1c9-40b6-8cc1-aa87289d5c8f",
   "metadata": {},
   "outputs": [],
   "source": []
  }
 ],
 "metadata": {
  "kernelspec": {
   "display_name": "py38",
   "language": "python",
   "name": "py38"
  },
  "language_info": {
   "codemirror_mode": {
    "name": "ipython",
    "version": 3
   },
   "file_extension": ".py",
   "mimetype": "text/x-python",
   "name": "python",
   "nbconvert_exporter": "python",
   "pygments_lexer": "ipython3",
   "version": "3.8.12"
  }
 },
 "nbformat": 4,
 "nbformat_minor": 5
}
