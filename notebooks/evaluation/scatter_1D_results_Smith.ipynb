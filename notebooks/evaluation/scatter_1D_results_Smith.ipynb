{
 "cells": [
  {
   "cell_type": "code",
   "execution_count": null,
   "id": "cf4be0be-23e7-4c6c-8d8e-9565fe2eb7f8",
   "metadata": {},
   "outputs": [],
   "source": [
    "\"\"\"\n",
    "Created on Fri Jan 27 15:18 2023\n",
    "\n",
    "Look at the results of the test of the NN on Smith data\n",
    "\n",
    "Author: @claraburgard\n",
    "\n",
    "\"\"\""
   ]
  },
  {
   "cell_type": "code",
   "execution_count": null,
   "id": "d57a8f0d-8535-4c22-9b8e-d5e328e3456a",
   "metadata": {},
   "outputs": [],
   "source": [
    "import xarray as xr\n",
    "import matplotlib.pyplot as plt\n",
    "from tqdm.notebook import tqdm"
   ]
  },
  {
   "cell_type": "code",
   "execution_count": null,
   "id": "a8c49db3-d9d5-40b1-b944-45754c098169",
   "metadata": {},
   "outputs": [],
   "source": [
    "%matplotlib qt5"
   ]
  },
  {
   "cell_type": "markdown",
   "id": "cb6af3e7-b835-4c9a-b8b0-e5081426acd9",
   "metadata": {},
   "source": [
    "DEFINE OPTIONS"
   ]
  },
  {
   "cell_type": "code",
   "execution_count": null,
   "id": "6f86d9f7-5c54-4594-a3a5-e849aeca7f38",
   "metadata": {},
   "outputs": [],
   "source": [
    "mod_size =  'large' #'mini', 'small', 'medium', 'large', 'extra_large'\n",
    "TS_opt = 'extrap' # extrap, whole, thermocline\n",
    "norm_method =  'std' # std, interquart, minmax\n",
    "exp_name = 'newbasic2' #'allbutconstants' #'onlyTSdraftandslope' #'TSdraftbotandiceddandwcd' #'onlyTSisfdraft' #'TSdraftbotandiceddandwcdreldGL' #TSdraftslopereldGL"
   ]
  },
  {
   "cell_type": "code",
   "execution_count": null,
   "id": "6d6ef966-f2a1-4061-acf6-33a3c31603ad",
   "metadata": {},
   "outputs": [],
   "source": [
    "#isf_dim = [10,11,12,13,18,22,23,25,30,31,33,39,40,42,43,44,45,47,51,55,58,61,65,66,69,70,71,73,75]"
   ]
  },
  {
   "cell_type": "code",
   "execution_count": null,
   "id": "05a3cceb-9e9b-4255-9cfe-98810382bd4b",
   "metadata": {},
   "outputs": [],
   "source": [
    "inputpath_mask='/bettik/burgardc/DATA/NN_PARAM/interim/ANTARCTICA_IS_MASKS/'\n",
    "outputpath_melt_nn = '/bettik/burgardc/DATA/NN_PARAM/processed/MELT_RATE/'"
   ]
  },
  {
   "cell_type": "markdown",
   "id": "e5aff71f-22fd-44a3-82e1-98fcb23436f0",
   "metadata": {},
   "source": [
    "NN results"
   ]
  },
  {
   "cell_type": "code",
   "execution_count": null,
   "id": "e98922e9-1098-459f-9780-73cc7be3e602",
   "metadata": {},
   "outputs": [],
   "source": [
    "res_1D_mods_list = []\n",
    "for mod_size in ['xsmall96', 'small', 'large']:\n",
    "    res_1D_run_list = []\n",
    "    for nrun in ['bf663','bi646']:\n",
    "        outputpath_melt_nn = '/bettik/burgardc/DATA/NN_PARAM/processed/MELT_RATE/SMITH_'+nrun+'/'\n",
    "        res_1D_all_list = []\n",
    "        for yy in range(1980, 1980 + 60):\n",
    "            res_1D_yy = xr.open_dataset(outputpath_melt_nn + 'evalmetrics_1D_'+mod_size+'_'+exp_name+'_ensmean_'+TS_opt+'_norm'+norm_method+'_'+str(yy)+'_'+nrun+'.nc')\n",
    "            res_1D_all_list.append(res_1D_yy.assign_coords({'time': yy}))\n",
    "        res_1D_all_xr = xr.concat(res_1D_all_list, dim='time')\n",
    "        res_1D_run_list.append(res_1D_all_xr.assign_coords({'nemo_run': nrun}))\n",
    "    res_1D_run_all = xr.concat(res_1D_run_list, dim='nemo_run')\n",
    "    res_1D_mods_list.append(res_1D_run_all.assign_coords({'mod_size': mod_size}))\n",
    "res_1D_mods_all = xr.concat(res_1D_mods_list, dim='mod_size')"
   ]
  },
  {
   "cell_type": "code",
   "execution_count": null,
   "id": "c92344e8-be66-4c86-b8f7-63830412e2cb",
   "metadata": {},
   "outputs": [],
   "source": [
    "diff_Gt = (res_1D_mods_all['predicted_melt'] - res_1D_mods_all['reference_melt']).sel(metrics='Gt').where(res_1D_run_all.Nisf > 9, drop=True)"
   ]
  },
  {
   "cell_type": "code",
   "execution_count": null,
   "id": "4ad1cd5e-116e-4a62-a850-21d47c38f0d4",
   "metadata": {},
   "outputs": [],
   "source": [
    "diff_Gt"
   ]
  },
  {
   "cell_type": "code",
   "execution_count": null,
   "id": "b8b6241b-79d2-45ee-8529-f23a823bb36b",
   "metadata": {},
   "outputs": [],
   "source": [
    "np.sqrt(((diff_Gt)**2).mean(['time','Nisf']))"
   ]
  },
  {
   "cell_type": "code",
   "execution_count": null,
   "id": "389c5446-3eeb-4918-b06d-02eeb08f75ff",
   "metadata": {},
   "outputs": [],
   "source": [
    "np.sqrt((diff_Gt.sel(time=range(1980+30,1980+60))**2).mean(['time','Nisf']))"
   ]
  },
  {
   "cell_type": "code",
   "execution_count": null,
   "id": "ea82ab25-cef7-4eb6-828f-62b961db849d",
   "metadata": {},
   "outputs": [],
   "source": [
    "np.sqrt((diff_Gt.sel(time=range(1980,1980+30))**2).mean(['time','Nisf']))"
   ]
  },
  {
   "cell_type": "markdown",
   "id": "0af07bd5-2bd7-4681-81d1-ecc7636a933e",
   "metadata": {
    "tags": []
   },
   "source": [
    "FIRST IMPRESSION - RMSE"
   ]
  },
  {
   "cell_type": "code",
   "execution_count": null,
   "id": "56fc319b-db95-4492-bf4d-611a7e3ffaaf",
   "metadata": {},
   "outputs": [],
   "source": [
    "np.sqrt((((melt_1D_bi646['predicted_melt'] - melt_1D_bi646['reference_melt']).sel(metrics='Gt').where(melt_1D_bi646.Nisf > 11, drop=True))**2).mean()).values"
   ]
  },
  {
   "cell_type": "code",
   "execution_count": null,
   "id": "7a97dbc1-e652-432a-9241-638da74343f0",
   "metadata": {},
   "outputs": [],
   "source": [
    "(melt_1D_bi646['predicted_melt'] - melt_1D_bi646['reference_melt']).sel(metrics='Gt').plot() #.where(melt_1D_bi646.Nisf > 10, drop=True)"
   ]
  },
  {
   "cell_type": "code",
   "execution_count": null,
   "id": "fd0c0213-5bbd-4029-bec7-92f4ef7f1319",
   "metadata": {},
   "outputs": [],
   "source": [
    "np.sqrt((((melt_1D_bi646['predicted_melt'] - melt_1D_bi646['reference_melt']).sel(metrics='box1'))**2).mean()).values"
   ]
  },
  {
   "cell_type": "code",
   "execution_count": null,
   "id": "ea7617a3-b48e-45a7-b562-4b5c3285cc2e",
   "metadata": {},
   "outputs": [],
   "source": [
    "yend = 35\n",
    "\n",
    "mean_10_list = []\n",
    "for tstart in range(0,yend,10):\n",
    "    mean_10yy = melt_1D_bi646.sel(time=range(tstart,min(tstart+10,yend))).mean('time')\n",
    "    mean_10_list.append(mean_10yy.assign_coords({'time': tstart}))\n",
    "mean_10_ds_bi646 = xr.concat(mean_10_list, dim='time')"
   ]
  },
  {
   "cell_type": "code",
   "execution_count": null,
   "id": "3a9ce77a-6165-48b0-9fd7-f6abbfc7d9e0",
   "metadata": {},
   "outputs": [],
   "source": [
    "np.sqrt((((mean_10_ds_bi646['predicted_melt'] - mean_10_ds_bi646['reference_melt']).sel(metrics='box1'))**2).mean()).values"
   ]
  },
  {
   "cell_type": "code",
   "execution_count": null,
   "id": "61da4601-1755-412b-b56b-c82601efe740",
   "metadata": {},
   "outputs": [],
   "source": [
    "np.sqrt((((melt_1D_bf663['predicted_melt'] - melt_1D_bf663['reference_melt']).sel(metrics='Gt'))**2).mean()).values"
   ]
  },
  {
   "cell_type": "code",
   "execution_count": null,
   "id": "09039e40-98af-4ef1-97e9-09cd277a25d1",
   "metadata": {},
   "outputs": [],
   "source": [
    "(melt_1D_bf663['predicted_melt'] - melt_1D_bf663['reference_melt']).sel(metrics='Gt').plot()"
   ]
  },
  {
   "cell_type": "code",
   "execution_count": null,
   "id": "a4e004d5-d43f-4998-93a5-02dd3e63ef7b",
   "metadata": {},
   "outputs": [],
   "source": [
    "yend = 40\n",
    "\n",
    "mean_10_list = []\n",
    "for tstart in range(0,yend,10):\n",
    "    mean_10yy = melt_1D_bf663.sel(time=range(tstart,min(tstart+10,yend))).mean('time')\n",
    "    mean_10_list.append(mean_10yy.assign_coords({'time': tstart}))\n",
    "mean_10_ds_bf663 = xr.concat(mean_10_list, dim='time')"
   ]
  },
  {
   "cell_type": "code",
   "execution_count": null,
   "id": "d7e6e9a6-725e-4732-afac-cd34ace447b5",
   "metadata": {},
   "outputs": [],
   "source": [
    "np.sqrt((((mean_10_ds_bf663['predicted_melt'] - mean_10_ds_bf663['reference_melt']).sel(metrics='box1'))**2).mean()).values"
   ]
  },
  {
   "cell_type": "code",
   "execution_count": null,
   "id": "c3a05d99-48af-4e7e-b25b-d76eff2cc28e",
   "metadata": {},
   "outputs": [],
   "source": [
    "np.sqrt((((melt_1D_bf663['predicted_melt'] - melt_1D_bf663['reference_melt']).sel(metrics='box1'))**2).mean()).values"
   ]
  },
  {
   "cell_type": "code",
   "execution_count": null,
   "id": "344739c7-fe39-4bf4-a108-018d7e86fe21",
   "metadata": {},
   "outputs": [],
   "source": [
    "abs((melt_1D_bi646['predicted_melt'] - melt_1D_bi646['reference_melt']).sel(metrics='Gt')).mean('time').plot()"
   ]
  },
  {
   "cell_type": "markdown",
   "id": "ce2cb85a-11f5-40e1-881c-f7ef048cfe7e",
   "metadata": {},
   "source": [
    "LOOK INTO MORE DETAILS"
   ]
  },
  {
   "cell_type": "code",
   "execution_count": null,
   "id": "7837f068-144d-437b-a426-743feaf4959f",
   "metadata": {},
   "outputs": [],
   "source": [
    "file_isf_orig = xr.open_dataset(inputpath_mask+'SMITH_bi646/nemo_5km_isf_masks_and_info_and_distance_oneFRIS_1980.nc').drop('time')\n",
    "#file_isf = file_isf_orig.sel(Nisf=isf_dim)"
   ]
  },
  {
   "cell_type": "code",
   "execution_count": null,
   "id": "9d731b3c-9e67-4448-b4bc-35d968a9186b",
   "metadata": {},
   "outputs": [],
   "source": [
    "def plot_scatter_all_isf(param_melt_tuned, target_Gt_yr, file_isf):\n",
    "    \n",
    "    regions = ['Weddell','Bellingshausen','Amundsen','Ross','East 1','East 2','Dronning Maud Land']\n",
    "    colors = ['deepskyblue','brown','red','orange','limegreen','seagreen','magenta']\n",
    "    symbol = ['o','v','>','p','*','s','<','^','X','d']\n",
    "    \n",
    "    f = plt.figure()\n",
    "    f.set_size_inches(8.25*1.5, 8.25*1.5)\n",
    "\n",
    "    ax={}\n",
    "\n",
    "    i = 0\n",
    "    nn=0\n",
    "    ii=0\n",
    "    marker_symbol = np.zeros((len(regions))).astype(int)\n",
    "    for rr,reg in enumerate(regions):\n",
    "        k = 0\n",
    "        subset_isf = file_isf.Nisf.where(file_isf['region']==reg,drop=True)\n",
    "        for kisf in tqdm(subset_isf.Nisf):\n",
    "            \n",
    "            ax[i] = f.add_subplot(6,6,i+1)\n",
    "            \n",
    "            for mm,mmod in enumerate(param_melt_tuned.mod_size):\n",
    "                marker_type = symbol[k]\n",
    "\n",
    "\n",
    "                #print(i)\n",
    "\n",
    "                x_axis = param_melt_tuned.sel(Nisf=kisf, mod_size=mmod)\n",
    "                y_axis = target_Gt_yr.sel(Nisf=kisf, mod_size=mmod)\n",
    "\n",
    "\n",
    "                ax[i].scatter(x_axis, \n",
    "                            y_axis,\n",
    "                            s=10, c=colors[mm], marker=marker_type, edgecolors='None',\n",
    "                            rasterized=True)\n",
    "\n",
    "            \n",
    "            min_xy = min(x_axis.min(),y_axis.min())\n",
    "            max_xy = max(x_axis.max(),y_axis.max())\n",
    "            onetooneline = np.arange(min_xy,max_xy)\n",
    "            ax[i].set_xlim(min_xy-5,max_xy+5)\n",
    "            ax[i].set_ylim(min_xy-5,max_xy+5)\n",
    "            ax[i].plot(onetooneline,onetooneline,'k-')\n",
    "            #if i == 0 or i==3:\n",
    "            #    ax[i].set_ylabel('Target melt [Gt/yr]')\n",
    "            #if i == 3 or i==4:\n",
    "            #    ax[i].set_xlabel('Predicted melt [Gt/yr]')\n",
    "\n",
    "\n",
    "\n",
    "            ax[i].set_title(str(file_isf['isf_name'].sel(Nisf=kisf).values))\n",
    "\n",
    "            i = i+1\n",
    "            k = k+1\n",
    "\n",
    "\n",
    "    f.tight_layout()\n",
    "    sns.despine()\n",
    "\n",
    "    return f"
   ]
  },
  {
   "cell_type": "code",
   "execution_count": null,
   "id": "f18bc5bb-627b-4e82-9a47-ee324b8827ea",
   "metadata": {},
   "outputs": [],
   "source": [
    "plot_scatter_all_isf(melt_1D_bi646['predicted_melt'].sel(metrics='Gt'), melt_1D_bi646['reference_melt'].sel(metrics='Gt'), file_isf)"
   ]
  },
  {
   "cell_type": "code",
   "execution_count": null,
   "id": "9550a0e8-9ca6-40a9-8ded-37386640b14f",
   "metadata": {},
   "outputs": [],
   "source": [
    "Gt_stuff = res_1D_mods_all.sel(metrics='box1',nemo_run='bi646')"
   ]
  },
  {
   "cell_type": "code",
   "execution_count": null,
   "id": "2fd527e6-7bf7-4152-9d6d-3a4668672dd7",
   "metadata": {},
   "outputs": [],
   "source": [
    "plot_scatter_all_isf(Gt_stuff['predicted_melt'], Gt_stuff['reference_melt'], file_isf_orig.sel(Nisf=res_1D_mods_all.Nisf))\n"
   ]
  },
  {
   "cell_type": "code",
   "execution_count": null,
   "id": "3ac038cb-d4cf-455f-9c50-6248c9a3baca",
   "metadata": {},
   "outputs": [],
   "source": []
  }
 ],
 "metadata": {
  "kernelspec": {
   "display_name": "py38",
   "language": "python",
   "name": "py38"
  },
  "language_info": {
   "codemirror_mode": {
    "name": "ipython",
    "version": 3
   },
   "file_extension": ".py",
   "mimetype": "text/x-python",
   "name": "python",
   "nbconvert_exporter": "python",
   "pygments_lexer": "ipython3",
   "version": "3.8.12"
  }
 },
 "nbformat": 4,
 "nbformat_minor": 5
}
