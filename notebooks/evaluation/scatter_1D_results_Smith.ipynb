{
 "cells": [
  {
   "cell_type": "code",
   "execution_count": null,
   "id": "cf4be0be-23e7-4c6c-8d8e-9565fe2eb7f8",
   "metadata": {},
   "outputs": [],
   "source": [
    "\"\"\"\n",
    "Created on Fri Jan 27 15:18 2023\n",
    "\n",
    "Look at the results of the test of the NN on Smith data\n",
    "\n",
    "Author: @claraburgard\n",
    "\n",
    "\"\"\""
   ]
  },
  {
   "cell_type": "code",
   "execution_count": null,
   "id": "d57a8f0d-8535-4c22-9b8e-d5e328e3456a",
   "metadata": {},
   "outputs": [],
   "source": [
    "import xarray as xr\n",
    "import matplotlib.pyplot as plt\n",
    "from tqdm.notebook import tqdm"
   ]
  },
  {
   "cell_type": "code",
   "execution_count": null,
   "id": "a8c49db3-d9d5-40b1-b944-45754c098169",
   "metadata": {},
   "outputs": [],
   "source": [
    "%matplotlib qt5"
   ]
  },
  {
   "cell_type": "markdown",
   "id": "cb6af3e7-b835-4c9a-b8b0-e5081426acd9",
   "metadata": {},
   "source": [
    "DEFINE OPTIONS"
   ]
  },
  {
   "cell_type": "code",
   "execution_count": null,
   "id": "6f86d9f7-5c54-4594-a3a5-e849aeca7f38",
   "metadata": {},
   "outputs": [],
   "source": [
    "mod_size =  'medium' #'mini', 'small', 'medium', 'large', 'extra_large'\n",
    "TS_opt = 'extrap' # extrap, whole, thermocline\n",
    "norm_method =  'std' # std, interquart, minmax\n",
    "exp_name = 'allbutconstants' #'allbutconstants' #'onlyTSdraftandslope' #'TSdraftbotandiceddandwcd' #'onlyTSisfdraft' #'TSdraftbotandiceddandwcdreldGL' #TSdraftslopereldGL"
   ]
  },
  {
   "cell_type": "code",
   "execution_count": null,
   "id": "6d6ef966-f2a1-4061-acf6-33a3c31603ad",
   "metadata": {},
   "outputs": [],
   "source": [
    "isf_dim = [10,11,12,13,18,22,23,25,30,31,33,39,40,42,43,44,45,47,51,55,58,61,65,66,69,70,71,73,75]"
   ]
  },
  {
   "cell_type": "code",
   "execution_count": null,
   "id": "05a3cceb-9e9b-4255-9cfe-98810382bd4b",
   "metadata": {},
   "outputs": [],
   "source": [
    "inputpath_mask='/bettik/burgardc/DATA/NN_PARAM/interim/ANTARCTICA_IS_MASKS/'\n",
    "outputpath_melt_nn = '/bettik/burgardc/DATA/NN_PARAM/processed/MELT_RATE/'"
   ]
  },
  {
   "cell_type": "code",
   "execution_count": null,
   "id": "eea1a456-d59d-4019-b7eb-9bd3cc819c8c",
   "metadata": {},
   "outputs": [],
   "source": [
    "melt_1D_bi646 = xr.open_dataset(outputpath_melt_nn + 'SMITH_bi646/evalmetrics_1D_'+mod_size+'_'+exp_name+'_'+TS_opt+'_norm'+norm_method+'_allyy_bi646.nc')\n",
    "melt_1D_bf663 = xr.open_dataset(outputpath_melt_nn + 'SMITH_bf663/evalmetrics_1D_'+mod_size+'_'+exp_name+'_'+TS_opt+'_norm'+norm_method+'_allyy_bf663.nc')\n"
   ]
  },
  {
   "cell_type": "markdown",
   "id": "e6f84866-75a9-4ef9-ad1a-a58b50e1fae7",
   "metadata": {},
   "source": [
    "FIRST IMPRESSION - RMSE"
   ]
  },
  {
   "cell_type": "code",
   "execution_count": null,
   "id": "56fc319b-db95-4492-bf4d-611a7e3ffaaf",
   "metadata": {},
   "outputs": [],
   "source": [
    "np.sqrt((((melt_1D_bi646['predicted_melt'] - melt_1D_bi646['reference_melt']).sel(metrics='Gt'))**2).mean())"
   ]
  },
  {
   "cell_type": "code",
   "execution_count": null,
   "id": "fd0c0213-5bbd-4029-bec7-92f4ef7f1319",
   "metadata": {},
   "outputs": [],
   "source": [
    "np.sqrt((((melt_1D_bi646['predicted_melt'] - melt_1D_bi646['reference_melt']).sel(metrics='box1'))**2).mean())"
   ]
  },
  {
   "cell_type": "code",
   "execution_count": null,
   "id": "61da4601-1755-412b-b56b-c82601efe740",
   "metadata": {},
   "outputs": [],
   "source": [
    "np.sqrt((((melt_1D_bf663['predicted_melt'] - melt_1D_bf663['reference_melt']).sel(metrics='Gt'))**2).mean())"
   ]
  },
  {
   "cell_type": "code",
   "execution_count": null,
   "id": "c3a05d99-48af-4e7e-b25b-d76eff2cc28e",
   "metadata": {},
   "outputs": [],
   "source": [
    "np.sqrt((((melt_1D_bf663['predicted_melt'] - melt_1D_bf663['reference_melt']).sel(metrics='box1'))**2).mean())"
   ]
  },
  {
   "cell_type": "markdown",
   "id": "ce2cb85a-11f5-40e1-881c-f7ef048cfe7e",
   "metadata": {},
   "source": [
    "LOOK INTO MORE DETAILS"
   ]
  },
  {
   "cell_type": "code",
   "execution_count": null,
   "id": "7837f068-144d-437b-a426-743feaf4959f",
   "metadata": {},
   "outputs": [],
   "source": [
    "file_isf_orig = xr.open_dataset(inputpath_mask+'SMITH_bi646/nemo_5km_isf_masks_and_info_and_distance_oneFRIS_yy01.nc').drop('time')\n",
    "file_isf = file_isf_orig.sel(Nisf=isf_dim)"
   ]
  },
  {
   "cell_type": "code",
   "execution_count": null,
   "id": "9d731b3c-9e67-4448-b4bc-35d968a9186b",
   "metadata": {},
   "outputs": [],
   "source": [
    "def plot_scatter_all_isf(param_melt_tuned, target_Gt_yr, file_isf):\n",
    "    \n",
    "    regions = ['Weddell','Bellingshausen','Amundsen','Ross','East 1','East 2','Dronning Maud Land']\n",
    "    colors = ['deepskyblue','brown','red','orange','limegreen','seagreen','magenta']\n",
    "    symbol = ['o','v','>','p','*','s','<','^','X','d']\n",
    "    \n",
    "    f = plt.figure()\n",
    "    f.set_size_inches(8.25*1.5, 8.25*1.5)\n",
    "\n",
    "    ax={}\n",
    "\n",
    "    i = 0\n",
    "    nn=0\n",
    "    ii=0\n",
    "    marker_symbol = np.zeros((len(regions))).astype(int)\n",
    "    for rr,reg in enumerate(regions):\n",
    "        k = 0\n",
    "        marker_color = colors[rr]\n",
    "        subset_isf = file_isf.Nisf.where(file_isf['region']==reg,drop=True)\n",
    "        for kisf in tqdm(subset_isf.Nisf):\n",
    "            marker_type = symbol[k]\n",
    "\n",
    "        \n",
    "            #print(i)\n",
    "\n",
    "            x_axis = param_melt_tuned.sel(Nisf=kisf)\n",
    "            y_axis = target_Gt_yr.sel(Nisf=kisf)\n",
    "\n",
    "\n",
    "            ax[i] = f.add_subplot(6,6,i+1)\n",
    "\n",
    "            ax[i].scatter(x_axis, \n",
    "                        y_axis,\n",
    "                        s=10, c=marker_color, marker=marker_type, edgecolors='None',\n",
    "                        rasterized=True)\n",
    "            a = 0\n",
    "            a = 0\n",
    "\n",
    "            \n",
    "            min_xy = min(x_axis.min(),y_axis.min())\n",
    "            max_xy = max(x_axis.max(),y_axis.max())\n",
    "            onetooneline = np.arange(min_xy,max_xy)\n",
    "            ax[i].set_xlim(min_xy-5,max_xy+5)\n",
    "            ax[i].set_ylim(min_xy-5,max_xy+5)\n",
    "            ax[i].plot(onetooneline,onetooneline,'k-')\n",
    "            #if i == 0 or i==3:\n",
    "            #    ax[i].set_ylabel('Target melt [Gt/yr]')\n",
    "            #if i == 3 or i==4:\n",
    "            #    ax[i].set_xlabel('Predicted melt [Gt/yr]')\n",
    "\n",
    "\n",
    "\n",
    "            ax[i].set_title(str(file_isf['isf_name'].sel(Nisf=kisf).values))\n",
    "\n",
    "            i = i+1\n",
    "            k = k+1\n",
    "\n",
    "\n",
    "    f.tight_layout()\n",
    "    sns.despine()\n",
    "\n",
    "    return f"
   ]
  },
  {
   "cell_type": "code",
   "execution_count": null,
   "id": "f18bc5bb-627b-4e82-9a47-ee324b8827ea",
   "metadata": {},
   "outputs": [],
   "source": [
    "plot_scatter_all_isf(melt_1D_bi646['predicted_melt'].sel(metrics='Gt'), melt_1D_bi646['reference_melt'].sel(metrics='Gt'), file_isf)"
   ]
  },
  {
   "cell_type": "code",
   "execution_count": null,
   "id": "2fd527e6-7bf7-4152-9d6d-3a4668672dd7",
   "metadata": {},
   "outputs": [],
   "source": [
    "plot_scatter_all_isf(melt_1D_bf663['predicted_melt'].sel(metrics='Gt'), melt_1D_bf663['reference_melt'].sel(metrics='Gt'), file_isf)"
   ]
  },
  {
   "cell_type": "code",
   "execution_count": null,
   "id": "3ac038cb-d4cf-455f-9c50-6248c9a3baca",
   "metadata": {},
   "outputs": [],
   "source": []
  }
 ],
 "metadata": {
  "kernelspec": {
   "display_name": "py38",
   "language": "python",
   "name": "py38"
  },
  "language_info": {
   "codemirror_mode": {
    "name": "ipython",
    "version": 3
   },
   "file_extension": ".py",
   "mimetype": "text/x-python",
   "name": "python",
   "nbconvert_exporter": "python",
   "pygments_lexer": "ipython3",
   "version": "3.8.12"
  }
 },
 "nbformat": 4,
 "nbformat_minor": 5
}
