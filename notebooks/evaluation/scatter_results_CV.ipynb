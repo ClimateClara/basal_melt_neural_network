{
 "cells": [
  {
   "cell_type": "code",
   "execution_count": null,
   "id": "e40dcd3f-2093-4d2e-afb4-0daed5fc9b71",
   "metadata": {},
   "outputs": [],
   "source": [
    "\"\"\"\n",
    "Created on Thu Sep 15 10:55 2022\n",
    "\n",
    "Evaluating results of the cross-validation like the scatter plot in paper\n",
    "\n",
    "Author: @claraburgard\n",
    "\n",
    "\"\"\""
   ]
  },
  {
   "cell_type": "code",
   "execution_count": null,
   "id": "c7da5c98-5de7-4c5b-a0b3-868e34433684",
   "metadata": {},
   "outputs": [],
   "source": [
    "import xarray as xr\n",
    "import numpy as np\n",
    "import pandas as pd\n",
    "from tqdm.notebook import tqdm\n",
    "import matplotlib.pyplot as plt\n",
    "import glob"
   ]
  },
  {
   "cell_type": "markdown",
   "id": "36951f31-0145-487d-986f-873feb0a36ae",
   "metadata": {},
   "source": [
    "READ IN DATA"
   ]
  },
  {
   "cell_type": "code",
   "execution_count": null,
   "id": "df1235d2-78a6-4cd0-b3f4-6d2dcbebb1a9",
   "metadata": {},
   "outputs": [],
   "source": [
    "plot_path = '/bettik/burgardc/PLOTS/NN_plots/1D_eval/'\n"
   ]
  },
  {
   "cell_type": "code",
   "execution_count": null,
   "id": "752f0f39-e991-4930-9dd0-ea9c236f4f3b",
   "metadata": {},
   "outputs": [],
   "source": [
    "inputpath_mask = '/bettik/burgardc/SCRIPTS/basal_melt_param/data/interim/ANTARCTICA_IS_MASKS/nemo_5km_OPM006/'\n",
    "file_isf_orig = xr.open_dataset(inputpath_mask+'nemo_5km_isf_masks_and_info_and_distance_new_oneFRIS.nc')\n",
    "nonnan_Nisf = file_isf_orig['Nisf'].where(np.isfinite(file_isf_orig['front_bot_depth_max']), drop=True).astype(int)\n",
    "file_isf_nonnan = file_isf_orig.sel(Nisf=nonnan_Nisf)\n",
    "large_isf = file_isf_nonnan['Nisf'].where(file_isf_nonnan['isf_area_here'] >= 2500, drop=True)\n",
    "file_isf = file_isf_nonnan.sel(Nisf=large_isf)\n",
    "file_isf['isf_name'] = file_isf['isf_name'].where(file_isf['isf_name'] != 'Ekstrom', np.array('Ekström', dtype=object))\n",
    "isf_names = file_isf['isf_name']"
   ]
  },
  {
   "cell_type": "code",
   "execution_count": null,
   "id": "2c4ef5e2-faf0-4052-a924-19d605b123d9",
   "metadata": {},
   "outputs": [],
   "source": [
    "region_list = []\n",
    "for kisf in file_isf.Nisf:\n",
    "    if file_isf['isf_name'].sel(Nisf=kisf).values in ['Ross','Nickerson','Sulzberger', 'Cook']:\n",
    "        region_list.append('East and West Ross')\n",
    "    elif file_isf['isf_name'].sel(Nisf=kisf).values in ['Filchner','Ronne','Filchner-Ronne']:\n",
    "        region_list.append('Weddell')        \n",
    "    elif file_isf['isf_name'].sel(Nisf=kisf).values in ['Ekström','Nivl','Prince Harald','Riiser-Larsen','Fimbul','Roi Baudouin','Lazarev','Stancomb Brunt','Jelbart','Borchgrevink']:\n",
    "        region_list.append('Dronning Maud Land')\n",
    "    elif file_isf['isf_name'].sel(Nisf=kisf).values in ['Getz','Thwaites','Crosson','Dotson','Cosgrove','Pine Island']:\n",
    "        region_list.append('Amundsen')\n",
    "    elif file_isf['isf_name'].sel(Nisf=kisf).values in ['Venable','George VI','Abbot','Stange','Larsen C','Bach','Larsen D','Wilkins']:\n",
    "        region_list.append('Peninsula and Bellinghausen')\n",
    "    elif file_isf['isf_name'].sel(Nisf=kisf).values in ['Amery','Moscow Univ.','Tracy Tremenchus','Totten','West','Shackleton']:\n",
    "        region_list.append('East Antarctica')\n",
    "    else:\n",
    "        print('Argh, help me, '+file_isf['isf_name'].sel(Nisf=kisf).values+' has no region assigned!')\n",
    "# 6 regions\n",
    "# regions = ['East and West Ross','Weddell','Dronning Maud Land','Amundsen','Peninsula and Bellinghausen','East Antarctica']\n",
    "file_isf['region'] = xr.DataArray(data=region_list,dims='Nisf')"
   ]
  },
  {
   "cell_type": "code",
   "execution_count": null,
   "id": "30f6810c-7305-4589-b732-956cc82fd94a",
   "metadata": {},
   "outputs": [],
   "source": [
    "regions = ['Weddell','Peninsula and Bellinghausen','Amundsen','East and West Ross','East Antarctica','Dronning Maud Land']\n",
    "nisf_by_reg_list = []\n",
    "for rr, reg in enumerate(regions):\n",
    "    subset_isf = file_isf.Nisf.where(file_isf['region']==reg,drop=True)\n",
    "    nisf_by_reg_list.append(subset_isf.values)\n",
    "nisf_by_reg_list = np.concatenate(nisf_by_reg_list)"
   ]
  },
  {
   "cell_type": "code",
   "execution_count": null,
   "id": "d0de908e-d29c-4295-baff-65bf867b178a",
   "metadata": {},
   "outputs": [],
   "source": [
    "run_list = ['OPM006','OPM016','OPM018','OPM021']\n",
    "\n",
    "diff_Gt_CVtime_list = []\n",
    "diff_box1_CVtime_list = []\n",
    "diff_Gt_CVisf_list = []\n",
    "diff_box1_CVisf_list = []\n",
    "\n",
    "ref_Gt_list = []\n",
    "ref_box1_list = []\n",
    "Gt_CVtime_list = []\n",
    "Gt_CVisf_list = []\n",
    "\n",
    "outputpath_melt = '/bettik/burgardc/DATA/NN_PARAM/processed/MELT_RATE/'\n",
    "\n",
    "for n,nemo_run in enumerate(run_list):\n",
    "    \n",
    "    ### CV TIME\n",
    "    melt_param_files_CVtime = list(sorted(glob.glob(outputpath_melt+'CV_TBLOCKS/evalmetrics_1D_*_TSextrap_normstd_'+nemo_run+'.nc')))\n",
    "    \n",
    "    param_list = []\n",
    "    for mfilename in melt_param_files_CVtime:\n",
    "        paramname = mfilename[77:157].split('.')[0].split('_')[:-3]\n",
    "        mparam = '_'.join(paramname)\n",
    "        param_list.append(mparam)\n",
    "        \n",
    "    ds_melt_param_CVtime  = xr.open_mfdataset(melt_param_files_CVtime, concat_dim='param', combine='nested', coords='minimal',compat='override')#, chunks={'x': chunksize, 'y': chunksize})\n",
    "    ds_melt_param_CVtime = ds_melt_param_CVtime.assign_coords(param=param_list)\n",
    "    Gt_CVtime_list.append(ds_melt_param_CVtime['predicted_melt'].sel(metrics='Gt'))\n",
    "    diff_Gt_CVtime = (ds_melt_param_CVtime['predicted_melt'] - ds_melt_param_CVtime['reference_melt']).sel(metrics='Gt')\n",
    "    diff_Gt_CVtime_list.append(diff_Gt_CVtime)\n",
    "    diff_box1_CVtime = (ds_melt_param_CVtime['predicted_melt'].mean('time') - ds_melt_param_CVtime['reference_melt'].mean('time')).sel(metrics='box1')\n",
    "    diff_box1_CVtime_list.append(diff_box1_CVtime)\n",
    "    ref_Gt_list.append(ds_melt_param_CVtime['reference_melt'].isel(param=0).sel(metrics='Gt'))\n",
    "    ref_box1_list.append(ds_melt_param_CVtime['reference_melt'].isel(param=0).sel(metrics='box1'))\n",
    "\n",
    "    ### CV TIME\n",
    "    melt_param_files_CVisf = list(sorted(glob.glob(outputpath_melt+'CV_ISF/evalmetrics_1D_*_TSextrap_normstd_'+nemo_run+'.nc')))\n",
    "    \n",
    "    param_list = []\n",
    "    for mfilename in melt_param_files_CVisf:\n",
    "        paramname = mfilename[73:157].split('.')[0].split('_')[:-3]\n",
    "        mparam = '_'.join(paramname)\n",
    "        param_list.append(mparam)\n",
    "        \n",
    "    ds_melt_param_CVisf  = xr.open_mfdataset(melt_param_files_CVisf, concat_dim='param', combine='nested', coords='minimal',compat='override')#, chunks={'x': chunksize, 'y': chunksize})\n",
    "    ds_melt_param_CVisf = ds_melt_param_CVisf.assign_coords(param=param_list)\n",
    "    Gt_CVisf_list.append(ds_melt_param_CVisf['predicted_melt'].sel(metrics='Gt'))\n",
    "    diff_Gt_CVisf = (ds_melt_param_CVisf['predicted_melt'] - ds_melt_param_CVisf['reference_melt']).sel(metrics='Gt')\n",
    "    diff_Gt_CVisf_list.append(diff_Gt_CVisf)\n",
    "    diff_box1_CVisf = (ds_melt_param_CVisf['predicted_melt'].mean('time') - ds_melt_param_CVisf['reference_melt'].mean('time')).sel(metrics='box1')\n",
    "    diff_box1_CVisf_list.append(diff_box1_CVisf)\n",
    "\n",
    "Gt_all_CVtime = xr.concat(Gt_CVtime_list, dim='nemo_run')\n",
    "Gt_all_CVisf = xr.concat(Gt_CVisf_list, dim='nemo_run')\n",
    "diff_Gt_all_CVtime = xr.concat(diff_Gt_CVtime_list, dim='time')\n",
    "diff_box1_all_CVtime = xr.concat(diff_box1_CVtime_list, dim='nemo_run')   \n",
    "diff_Gt_all_CVisf = xr.concat(diff_Gt_CVisf_list, dim='time')\n",
    "diff_box1_all_CVisf = xr.concat(diff_box1_CVisf_list, dim='nemo_run')   \n",
    "ref_Gt_all = xr.concat(ref_Gt_list, dim='nemo_run')\n",
    "ref_box1_all = xr.concat(ref_box1_list, dim='nemo_run')"
   ]
  },
  {
   "cell_type": "code",
   "execution_count": null,
   "id": "608762f5-414a-449a-889c-ae2a3bfbb567",
   "metadata": {},
   "outputs": [],
   "source": [
    "mean_box1_all = ref_box1_all.mean()\n",
    "mean_box1_all.load()"
   ]
  },
  {
   "cell_type": "code",
   "execution_count": null,
   "id": "7adbd9f2-f872-4079-8d19-5ed4b51b282a",
   "metadata": {},
   "outputs": [],
   "source": [
    "tot_Gt = ref_Gt_all.mean('time').mean('nemo_run').mean('Nisf')\n",
    "tot_Gt.load()"
   ]
  },
  {
   "cell_type": "code",
   "execution_count": null,
   "id": "11454467-757c-4bad-89f5-60de99188922",
   "metadata": {},
   "outputs": [],
   "source": [
    "param_list_of_int = ['mini', 'small', 'medium', 'large', 'extra_large']\n"
   ]
  },
  {
   "cell_type": "code",
   "execution_count": null,
   "id": "db75c2fa-7188-4135-9a10-cc8186dc0aae",
   "metadata": {},
   "outputs": [],
   "source": [
    "RMSE_Gt_all_CVtime = np.sqrt((diff_Gt_all_CVtime**2).mean(['time','Nisf']))\n",
    "RMSE_box1_all_CVtime = np.sqrt((diff_box1_all_CVtime**2).mean(['nemo_run','Nisf']))\n",
    "RMSE_Gt_all_CVisf = np.sqrt((diff_Gt_all_CVisf**2).mean(['time','Nisf']))\n",
    "RMSE_box1_all_CVisf = np.sqrt((diff_box1_all_CVisf**2).mean(['nemo_run','Nisf']))"
   ]
  },
  {
   "cell_type": "code",
   "execution_count": null,
   "id": "b0d60c85-b52e-4190-9e06-0ae51e10e122",
   "metadata": {},
   "outputs": [],
   "source": [
    "RMSE_Gt_all_CVisf.load()"
   ]
  },
  {
   "cell_type": "code",
   "execution_count": null,
   "id": "1936b03e-6c53-4a35-9b1c-deef3b990d9c",
   "metadata": {},
   "outputs": [],
   "source": [
    "fig, axs = plt.subplots(1, 2,figsize=(8.24*1.25/1.5,8.24/2),sharey=True)\n",
    "\n",
    "ccolors = ['aqua', 'aquamarine', 'deepskyblue', 'blue', 'darkblue']\n",
    "\n",
    "#plt.figure()\n",
    "for k,mparam in enumerate(param_list_of_int[::-1]):\n",
    "    \n",
    "    ccolor = ccolors[k]\n",
    "        \n",
    "    axs[0].scatter(RMSE_Gt_all_CVtime.sel(param=mparam),mparam,marker='x',c='k', s=50)\n",
    "    axs[1].scatter(RMSE_box1_all_CVtime.sel(param=mparam),mparam,marker='x',c='k', s=50)\n",
    "    axs[0].scatter(RMSE_Gt_all_CVtime.sel(param=mparam),mparam,marker='o',c=ccolor, s=20)\n",
    "    axs[1].scatter(RMSE_box1_all_CVtime.sel(param=mparam),mparam,marker='o',c=ccolor, s=20)\n",
    "\n",
    "    axs[0].scatter(RMSE_Gt_all_CVisf.sel(param=mparam),mparam,marker='+',c='k', s=120)\n",
    "    axs[1].scatter(RMSE_box1_all_CVisf.sel(param=mparam),mparam,marker='+',c='k', s=120)\n",
    "    axs[0].scatter(RMSE_Gt_all_CVisf.sel(param=mparam),mparam,marker='o',c=ccolor, s=20)\n",
    "    axs[1].scatter(RMSE_box1_all_CVisf.sel(param=mparam),mparam,marker='o',c=ccolor, s=20)\n",
    "\n",
    "axs[0].set_xlim(0,105)\n",
    "axs[1].set_xlim(0,1)\n",
    "\n",
    "sns.despine()\n",
    "plt.savefig(plot_path+'RMSE_scatter_box1_CV_NN.pdf')"
   ]
  },
  {
   "cell_type": "code",
   "execution_count": null,
   "id": "9f0f344b-b3c0-4ad7-8438-7495a59ef34a",
   "metadata": {},
   "outputs": [],
   "source": [
    "mean_diff_Gt_CVisf = diff_Gt_all_CVisf.mean(['time'])"
   ]
  },
  {
   "cell_type": "code",
   "execution_count": null,
   "id": "1ea7f2d1-2fee-4761-ab41-6c959ea5f85f",
   "metadata": {},
   "outputs": [],
   "source": [
    "plotted_var = mean_diff_Gt_CVisf.sel(param=param_list_of_int,Nisf=nisf_by_reg_list)\n",
    "\n",
    "\n",
    "x = np.arange(len(plotted_var.param))\n",
    "y = np.arange(len(plotted_var.Nisf))\n",
    "\n",
    "fig, axs = plt.subplots(1, 1,figsize=((len(y)+1)/4,(len(x)+2)/2.75))\n",
    "ax0 = axs.imshow(plotted_var.values, cmap=plt.cm.coolwarm, vmin=-20, vmax=20)\n",
    "axs.set_yticklabels(labels=np.round(RMSE_Gt_all_CVisf.sel(param=param_list_of_int).values,2))\n",
    "\n",
    "for j, dom in enumerate([50]):\n",
    "    axs.yaxis.tick_right()\n",
    "    axs.set_yticks(x)\n",
    "    axs.yaxis.tick_right()\n",
    "\n",
    "    axs.xaxis.tick_top()    \n",
    "    axs.set_xticks(y)\n",
    "    axs.set_xticklabels(labels=isf_names.sel(Nisf=plotted_var.Nisf).values, rotation=90)\n",
    "\n",
    "\n",
    "cb_ax = fig.add_axes([0.15, 0.08, 0.7, 0.02])\n",
    "#cb_ax = fig.add_axes([0.01, 0.2, 0.02, 0.7])\n",
    "cbar = fig.colorbar(ax0, cax=cb_ax, extend='both',orientation='horizontal')\n",
    "plt.tight_layout()\n",
    "#fig.savefig(plot_path+'heatmap_RMSE_box1_CVisf_allruns.pdf')"
   ]
  },
  {
   "cell_type": "code",
   "execution_count": null,
   "id": "c69479f1-9347-4d50-ae44-75be96671b55",
   "metadata": {},
   "outputs": [],
   "source": []
  }
 ],
 "metadata": {
  "kernelspec": {
   "display_name": "py38",
   "language": "python",
   "name": "py38"
  },
  "language_info": {
   "codemirror_mode": {
    "name": "ipython",
    "version": 3
   },
   "file_extension": ".py",
   "mimetype": "text/x-python",
   "name": "python",
   "nbconvert_exporter": "python",
   "pygments_lexer": "ipython3",
   "version": "3.8.12"
  }
 },
 "nbformat": 4,
 "nbformat_minor": 5
}
