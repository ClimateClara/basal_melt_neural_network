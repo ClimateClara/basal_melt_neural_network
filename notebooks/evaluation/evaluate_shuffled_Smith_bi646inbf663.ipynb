{
 "cells": [
  {
   "cell_type": "code",
   "execution_count": null,
   "id": "f37ce8d2-9567-43c9-b52c-61fbff266e0f",
   "metadata": {},
   "outputs": [],
   "source": [
    "\"\"\"\n",
    "Created on Wed Apr 20 10:58 2022\n",
    "\n",
    "Make a matrix with importance of the different variables after shuffling when applying on Smith\n",
    "\n",
    "Author: @claraburgard\n",
    "\n",
    "\"\"\""
   ]
  },
  {
   "cell_type": "code",
   "execution_count": null,
   "id": "e7f61d18-f356-4038-a4e3-af4441cc59e2",
   "metadata": {},
   "outputs": [],
   "source": [
    "import xarray as xr\n",
    "import numpy as np\n",
    "import pandas as pd\n",
    "from tqdm.notebook import tqdm\n",
    "import matplotlib.pyplot as plt\n",
    "import seaborn as sns\n",
    "import matplotlib as mpl"
   ]
  },
  {
   "cell_type": "code",
   "execution_count": null,
   "id": "131c7346-92a3-4246-9f3b-6eef937835c0",
   "metadata": {},
   "outputs": [],
   "source": [
    "%matplotlib qt5"
   ]
  },
  {
   "cell_type": "markdown",
   "id": "0e0d2fb9-e1f4-478b-a534-91a224116aee",
   "metadata": {},
   "source": [
    "READ IN DATA"
   ]
  },
  {
   "cell_type": "code",
   "execution_count": null,
   "id": "0be7b1d3-10b6-4299-97b1-830cd4573cb4",
   "metadata": {},
   "outputs": [],
   "source": [
    "nemo_run =  'bf663' #'mini', 'small', 'medium', 'large', 'extra_large'\n",
    "TS_opt = 'extrap_shuffboth' # extrap, whole, thermocline\n",
    "norm_method =  'std' # std, interquart, minmax\n",
    "exp_name = 'newbasic2'#'onlyTSdraftandslope' #'onlyTSdraftandslope' #'TSdraftbotandiceddandwcd' #'onlyTSisfdraft' #'TSdraftbotandiceddandwcdreldGL' #TSdraftslopereldGL"
   ]
  },
  {
   "cell_type": "code",
   "execution_count": null,
   "id": "02127659-07be-4511-b91b-a045f6dee57b",
   "metadata": {},
   "outputs": [],
   "source": [
    "home_path = '/bettik/burgardc/'\n",
    "plot_path = '/bettik/burgardc/PLOTS/NN_plots/input_vars/'\n"
   ]
  },
  {
   "cell_type": "code",
   "execution_count": null,
   "id": "2c61f5e5-6da4-43ff-a8d0-becf7a2470c8",
   "metadata": {},
   "outputs": [],
   "source": [
    "inputpath_mask = '/bettik/burgardc/DATA/NN_PARAM/interim/ANTARCTICA_IS_MASKS/SMITH_bf663/'\n",
    "file_isf_orig = xr.open_dataset(inputpath_mask+'nemo_5km_isf_masks_and_info_and_distance_oneFRIS_1980.nc').drop('time')\n",
    "nonnan_Nisf = file_isf_orig['Nisf'].where(np.isfinite(file_isf_orig['front_bot_depth_max']), drop=True).astype(int)\n",
    "file_isf_nonnan = file_isf_orig.sel(Nisf=nonnan_Nisf)\n",
    "large_isf = file_isf_nonnan['Nisf'].where(file_isf_nonnan['isf_area_here'] >= 2500, drop=True)\n",
    "file_isf = file_isf_nonnan.sel(Nisf=large_isf)\n",
    "file_isf['isf_name'] = file_isf['isf_name'].where(file_isf['isf_name'] != 'Ekstrom', np.array('Ekström', dtype=object))\n",
    "isf_names = file_isf['isf_name']"
   ]
  },
  {
   "cell_type": "code",
   "execution_count": null,
   "id": "eb1c4548-1055-44be-9385-eb127f479870",
   "metadata": {},
   "outputs": [],
   "source": [
    "var_list = ['dGL','dIF','corrected_isfdraft','bathy_metry','slope_bed_lon','slope_bed_lat','slope_ice_lon','slope_ice_lat',\n",
    "                'theta_in','salinity_in','T_mean', 'S_mean', 'T_std', 'S_std','watercolumn','position','slopesbed','slopesice','Tinfo','Sinfo']"
   ]
  },
  {
   "cell_type": "code",
   "execution_count": null,
   "id": "0b095714-4b10-45a6-a26c-56549a9e6225",
   "metadata": {},
   "outputs": [],
   "source": [
    "\n",
    "shuffle_Gt_list = []\n",
    "shuffle_box1_list = []\n",
    "res_1D_mods_list = []\n",
    "\n",
    "shuffle_allvars_list = []\n",
    "\n",
    "for mod_size in ['xsmall96','large']: #, 'bi646''small',\n",
    "    outputpath_melt_nn = '/bettik/burgardc/DATA/NN_PARAM/processed/MELT_RATE/SMITH_'+nemo_run+'/'\n",
    "    \n",
    "    res_1D_all_list = []\n",
    "    for yy in range(1980, 1980 + 60):\n",
    "            res_1D_yy = xr.open_dataset(outputpath_melt_nn + 'evalmetrics_1D_'+mod_size+'_'+exp_name+'_ensmean_extrap_norm'+norm_method+'_'+str(yy)+'_'+nemo_run+'.nc')\n",
    "            res_1D_all_list.append(res_1D_yy.assign_coords({'time': yy}))    \n",
    "    res_1D_all_xr = xr.concat(res_1D_all_list, dim='time')    \n",
    "    res_1D_mods_list.append(res_1D_all_xr.assign_coords({'param':mod_size}))\n",
    "    \n",
    "    shuffle_list = []\n",
    "    for vv in var_list:\n",
    "        res_1D_allyy = xr.open_dataset(outputpath_melt_nn + 'evalmetrics_shuffled'+vv+'_1D_'+mod_size+'_'+exp_name+'_ensmean_'+TS_opt+'_norm'+norm_method+'_allyy_'+nemo_run+'.nc')\n",
    "        shuffle_list.append(res_1D_allyy.assign_coords({'shuffled_var': vv}))\n",
    "\n",
    "    shuffle_allvars = xr.concat(shuffle_list, dim='shuffled_var').assign_coords({'param':mod_size})\n",
    "    shuffle_allvars_list.append(shuffle_allvars)\n",
    "    \n",
    "shuffle_all = xr.concat(shuffle_allvars_list, dim='param')\n",
    "orig_all =  xr.concat(res_1D_mods_list, dim='param')       \n",
    "        \n",
    "#shuffle_box1_list.append(res_1D_allyy.sel(metrics='box1').assign_coords({'shuffled_var': vv}))\n"
   ]
  },
  {
   "cell_type": "code",
   "execution_count": null,
   "id": "61e43b54-63c7-40e5-b33e-c2c506888fa6",
   "metadata": {},
   "outputs": [],
   "source": [
    "diff_Gt_orig = orig_all['predicted_melt'].sel(metrics='Gt') - orig_all['reference_melt'].sel(metrics='Gt')\n",
    "diff_box1_orig = orig_all['predicted_melt'].sel(metrics='box1').mean('time') - orig_all['reference_melt'].sel(metrics='box1').mean('time')"
   ]
  },
  {
   "cell_type": "code",
   "execution_count": null,
   "id": "8baed7dc-e990-4646-8299-a41b6b4cc25b",
   "metadata": {},
   "outputs": [],
   "source": [
    "diff_Gt_all = shuffle_all['predicted_melt'].sel(metrics='Gt') - shuffle_all['reference_melt'].sel(metrics='Gt')\n",
    "diff_box1_all = shuffle_all['predicted_melt'].sel(metrics='box1').mean('time') - shuffle_all['reference_melt'].sel(metrics='box1').mean('time')"
   ]
  },
  {
   "cell_type": "code",
   "execution_count": null,
   "id": "8029f82c-849c-4172-8c90-6bfc8d1887e6",
   "metadata": {},
   "outputs": [],
   "source": [
    "RMSE_Gt_all = np.sqrt((diff_Gt_all**2).drop_sel(Nisf=[4]).mean(['time','Nisf']))\n",
    "RMSE_box1_all = np.sqrt((diff_box1_all**2).drop_sel(Nisf=[4]).mean(['Nisf']))"
   ]
  },
  {
   "cell_type": "code",
   "execution_count": null,
   "id": "a8611e41-310a-4c5d-8a65-86923a441138",
   "metadata": {},
   "outputs": [],
   "source": [
    "RMSE_Gt_orig = np.sqrt((diff_Gt_orig**2).drop_sel(Nisf=[4]).mean(['time','Nisf']))\n",
    "RMSE_box1_orig = np.sqrt((diff_box1_orig**2).drop_sel(Nisf=[4]).mean(['Nisf']))"
   ]
  },
  {
   "cell_type": "code",
   "execution_count": null,
   "id": "2bf43ee1-f0c3-4d3d-a97a-a7e286ef3189",
   "metadata": {},
   "outputs": [],
   "source": [
    "diff_RMSE_Gt = RMSE_Gt_all - RMSE_Gt_orig\n",
    "diff_RMSE_box1 = RMSE_box1_all - RMSE_box1_orig"
   ]
  },
  {
   "cell_type": "code",
   "execution_count": null,
   "id": "c1477503-4585-42bf-887e-4982d62ce08c",
   "metadata": {},
   "outputs": [],
   "source": [
    "RMSE_box1_orig"
   ]
  },
  {
   "cell_type": "code",
   "execution_count": null,
   "id": "d47df857-ccfc-446a-80b0-84d6fea03435",
   "metadata": {},
   "outputs": [],
   "source": [
    "\n",
    "\n",
    "fig, axs = plt.subplots(1, 2,figsize=(8.24*1.25/1.5,8.24*1.25/2),sharey=True)\n",
    "#plt.figure()\n",
    "\n",
    "for param in ['xsmall96','large']:\n",
    "    \n",
    "    if nemo_run == 'xsmall_96':\n",
    "        ccolor = 'orange'\n",
    "    elif nemo_run == 'large':\n",
    "        ccolor = 'red'\n",
    "    \n",
    "    for vv in var_list[::-1]:\n",
    "\n",
    "        axs[0].scatter(diff_RMSE_Gt.sel(shuffled_var=vv, param=param),vv,marker='o',color=ccolor)\n",
    "        axs[1].scatter(diff_RMSE_box1.sel(shuffled_var=vv, param=param),vv,marker='o',color=ccolor)\n",
    "\n",
    "    #axs[0].set_xlim(0,20)\n",
    "    sns.despine()\n"
   ]
  },
  {
   "cell_type": "code",
   "execution_count": null,
   "id": "9e39fa98-5171-43a5-a8c1-c0562f0e899a",
   "metadata": {},
   "outputs": [],
   "source": [
    "sub_varlist = ['dGL','dIF','corrected_isfdraft','bathy_metry','slope_bed_lon','slope_bed_lat','slope_ice_lon','slope_ice_lat',\n",
    "                'theta_in','salinity_in','T_mean', 'S_mean', 'T_std', 'S_std']"
   ]
  },
  {
   "cell_type": "code",
   "execution_count": null,
   "id": "0d8f3b24-e052-4ac7-be03-9666de553e0b",
   "metadata": {},
   "outputs": [],
   "source": [
    "len(sub_varlist)"
   ]
  },
  {
   "cell_type": "code",
   "execution_count": null,
   "id": "c14b555e-aa27-47f1-8d98-a6676d75edc2",
   "metadata": {},
   "outputs": [],
   "source": [
    "diff_RMSE_Gt_okvar = diff_RMSE_Gt.sel(shuffled_var=var_list)\n",
    "diff_RMSE_Gt_norm = (diff_RMSE_Gt_okvar) / (abs(diff_RMSE_Gt_okvar).max('shuffled_var'))"
   ]
  },
  {
   "cell_type": "code",
   "execution_count": null,
   "id": "9dacc52f-ac90-489f-af17-b1cde00717be",
   "metadata": {},
   "outputs": [],
   "source": [
    "diff_RMSE_box1_okvar = diff_RMSE_box1.sel(shuffled_var=var_list)\n",
    "diff_RMSE_box1_norm = (diff_RMSE_box1_okvar) / (abs(diff_RMSE_box1_okvar).max('shuffled_var'))"
   ]
  },
  {
   "cell_type": "code",
   "execution_count": null,
   "id": "af496efa-be82-4d9c-8c56-bf9f07f3b271",
   "metadata": {},
   "outputs": [],
   "source": [
    "plt.figure(figsize=(8.24/1.5,8.24/1.25))\n",
    "sns.heatmap(diff_RMSE_Gt.sel(shuffled_var=var_list).round(1).T, annot=True, fmt=\"g\", yticklabels=var_list, center=0, cmap=mpl.cm.coolwarm) #, cmap=mpl.cm.Reds\n",
    "plt.savefig(plot_path+'mixedpermutation_importance_Gt_bothmodels_'+exp_name+'.pdf')"
   ]
  },
  {
   "cell_type": "code",
   "execution_count": null,
   "id": "72cc8819-85ac-43e9-8954-ea29c4314e19",
   "metadata": {},
   "outputs": [],
   "source": [
    "plt.figure(figsize=(8.24/1.5,8.24/1.25))\n",
    "sns.heatmap(diff_RMSE_box1.sel(shuffled_var=var_list).round(2).T, annot=True, fmt=\"g\", yticklabels=var_list, center=0, cmap=mpl.cm.coolwarm) #, cmap=mpl.cm.Reds\n",
    "plt.savefig(plot_path+'mixedpermutation_importance_box1_bothmodels_'+exp_name+'.pdf')"
   ]
  },
  {
   "cell_type": "code",
   "execution_count": null,
   "id": "8cb3ca1f-4d41-4999-878a-02eebbd12509",
   "metadata": {},
   "outputs": [],
   "source": [
    "plt.figure()\n",
    "sns.heatmap(diff_RMSE_Gt.sel(shuffled_var=sub_varlist).round(2).T, annot=True, fmt='d', yticklabels=sub_varlist, center=0, cmap=mpl.cm.coolwarm) #, cmap=mpl.cm.Reds\n",
    "plt.savefig(plot_path+'mixedpermutation_importance_Gt_bothmodels_subvar_'+exp_name+'.png')"
   ]
  },
  {
   "cell_type": "code",
   "execution_count": null,
   "id": "c25f1e75-65ef-4ab9-af90-076d32340146",
   "metadata": {},
   "outputs": [],
   "source": [
    "plt.figure()\n",
    "sns.heatmap(diff_RMSE_box1.sel(shuffled_var=sub_varlist).round(2).T, annot=True, fmt='d', yticklabels=sub_varlist, center=0, cmap=mpl.cm.coolwarm) #, cmap=mpl.cm.Reds\n",
    "plt.savefig(plot_path+'mixedpermutation_importance_box1_bothmodels_subvar_'+exp_name+'.png')"
   ]
  },
  {
   "cell_type": "code",
   "execution_count": null,
   "id": "7181cb9b-dcdb-4760-964f-9aa3a9dc7c92",
   "metadata": {},
   "outputs": [],
   "source": [
    "plt.figure()\n",
    "sns.heatmap(diff_RMSE_Gt_norm.sel(shuffled_var=var_list).round(2).T, annot=True, fmt='d', yticklabels=var_list, center=0, cmap=mpl.cm.coolwarm) #, cmap=mpl.cm.Reds\n",
    "plt.savefig(plot_path+'mixedpermutation_importance_Gt_norm_'+mod_size+'_'+exp_name+'.png')"
   ]
  },
  {
   "cell_type": "code",
   "execution_count": null,
   "id": "6a1cc812-5bc3-4a22-91a4-5ad9f208246f",
   "metadata": {},
   "outputs": [],
   "source": [
    "plt.figure()\n",
    "sns.heatmap(diff_RMSE_box1_norm.sel(shuffled_var=var_list).round(2).T, annot=True, fmt='d', yticklabels=var_list, center=0, cmap=mpl.cm.coolwarm) #, cmap=mpl.cm.Reds\n",
    "plt.savefig(plot_path+'mixedpermutation_importance_box1_norm_'+mod_size+'_'+exp_name+'.png')"
   ]
  },
  {
   "cell_type": "markdown",
   "id": "3514b5ec-10a7-444d-b1f5-286e10d44cab",
   "metadata": {},
   "source": [
    "REMOVE LARGE ONES"
   ]
  },
  {
   "cell_type": "code",
   "execution_count": null,
   "id": "cda03bb0-bec8-4587-9216-1c733a019988",
   "metadata": {},
   "outputs": [],
   "source": [
    "RMSE_Gt_all = np.sqrt((diff_Gt_all**2).drop_sel(Nisf=[4,10,11]).mean(['time','Nisf']))\n",
    "RMSE_box1_all = np.sqrt((diff_box1_all**2).drop_sel(Nisf=[4,10,11]).mean(['Nisf']))"
   ]
  },
  {
   "cell_type": "code",
   "execution_count": null,
   "id": "21abc0a7-b542-42ab-8abe-6f7d9d2069e4",
   "metadata": {},
   "outputs": [],
   "source": [
    "RMSE_Gt_orig = np.sqrt((diff_Gt_orig**2).drop_sel(Nisf=[4,10,11]).mean(['time','Nisf']))\n",
    "RMSE_box1_orig = np.sqrt((diff_box1_orig**2).drop_sel(Nisf=[4,10,11]).mean(['Nisf']))"
   ]
  },
  {
   "cell_type": "code",
   "execution_count": null,
   "id": "3f7fc0f8-d1cb-4d16-a2ce-ecd323f1c1cd",
   "metadata": {},
   "outputs": [],
   "source": [
    "diff_RMSE_Gt = RMSE_Gt_all - RMSE_Gt_orig\n",
    "diff_RMSE_box1 = RMSE_box1_all - RMSE_box1_orig"
   ]
  },
  {
   "cell_type": "code",
   "execution_count": null,
   "id": "eb0d7da5-5e7a-42f3-8466-eab8b07d2655",
   "metadata": {},
   "outputs": [],
   "source": [
    "diff_RMSE_Gt_okvar = diff_RMSE_Gt.sel(shuffled_var=var_list)\n",
    "diff_RMSE_Gt_norm = (diff_RMSE_Gt_okvar) / (abs(diff_RMSE_Gt_okvar).max('shuffled_var'))"
   ]
  },
  {
   "cell_type": "code",
   "execution_count": null,
   "id": "7ea018ad-c1e3-4568-aa3a-04918d105d44",
   "metadata": {},
   "outputs": [],
   "source": [
    "diff_RMSE_box1_okvar = diff_RMSE_box1.sel(shuffled_var=var_list)\n",
    "diff_RMSE_box1_norm = (diff_RMSE_box1_okvar) / (abs(diff_RMSE_box1_okvar).max('shuffled_var'))"
   ]
  },
  {
   "cell_type": "code",
   "execution_count": null,
   "id": "a9c12b82-b57f-4d68-aa0a-b2376f22dc12",
   "metadata": {},
   "outputs": [],
   "source": [
    "plt.figure()\n",
    "sns.heatmap(diff_RMSE_Gt.sel(shuffled_var=var_list).round(2).T, annot=True, yticklabels=var_list, center=0, cmap=mpl.cm.coolwarm) #, cmap=mpl.cm.Reds\n",
    "plt.savefig(plot_path+'permutation_importance_Gt_'+mod_size+'_'+exp_name+'_wolargeones.png')"
   ]
  },
  {
   "cell_type": "code",
   "execution_count": null,
   "id": "944c868b-440d-49ef-bf6e-c853da084a34",
   "metadata": {},
   "outputs": [],
   "source": [
    "plt.figure()\n",
    "sns.heatmap(diff_RMSE_box1.sel(shuffled_var=var_list).round(2).T, annot=True, yticklabels=var_list, center=0, cmap=mpl.cm.coolwarm) #, cmap=mpl.cm.Reds\n",
    "plt.savefig(plot_path+'permutation_importance_box1_'+mod_size+'_'+exp_name+'_wolargeones.png')"
   ]
  },
  {
   "cell_type": "code",
   "execution_count": null,
   "id": "277b0e23-9ae4-4d20-919b-c97844463c4a",
   "metadata": {},
   "outputs": [],
   "source": [
    "plt.figure()\n",
    "sns.heatmap(diff_RMSE_Gt_norm.sel(shuffled_var=var_list).round(2).T, annot=True, yticklabels=var_list, center=0, cmap=mpl.cm.coolwarm) #, cmap=mpl.cm.Reds\n",
    "plt.savefig(plot_path+'permutation_importance_Gt_norm_'+mod_size+'_'+exp_name+'_wolargeones.png')"
   ]
  },
  {
   "cell_type": "code",
   "execution_count": null,
   "id": "67bcc21f-9182-4486-bc9e-2865f8500903",
   "metadata": {},
   "outputs": [],
   "source": [
    "plt.figure()\n",
    "sns.heatmap(diff_RMSE_box1_norm.sel(shuffled_var=var_list).round(2).T, annot=True, yticklabels=var_list, center=0, cmap=mpl.cm.coolwarm) #, cmap=mpl.cm.Reds\n",
    "plt.savefig(plot_path+'permutation_importance_box1_norm_'+mod_size+'_'+exp_name+'_wolargeones.png')"
   ]
  },
  {
   "cell_type": "code",
   "execution_count": null,
   "id": "3d84f5d5-11dd-4dcf-9016-56067128a11c",
   "metadata": {
    "tags": []
   },
   "outputs": [],
   "source": [
    "\n",
    "plt.figure()\n",
    "sns.heatmap(abs(diff_RMSE_Gt.sel(shuffled_var=var_list).round(2).T), annot=True, center=0, yticklabels=var_list) #, cmap=mpl.cm.Reds\n"
   ]
  },
  {
   "cell_type": "code",
   "execution_count": null,
   "id": "f1c3d5fc-ccd4-4bbe-bebd-47593728441b",
   "metadata": {},
   "outputs": [],
   "source": [
    "\n",
    "plt.figure()\n",
    "#sns.heatmap(abs(diff_RMSE_box1.sel(shuffled_var=var_list).round(2).expand_dims(dim={\"dim1\": 1}).T), annot=True, center=0, yticklabels=var_list, cmap=mpl.cm.Reds) #\n",
    "sns.heatmap(abs(diff_RMSE_box1.sel(shuffled_var=var_list).round(2).T), annot=True, center=0, yticklabels=var_list) #cmap=\"YlOrBr\"\n"
   ]
  },
  {
   "cell_type": "code",
   "execution_count": null,
   "id": "afbb14a2-a8d1-4724-a82d-e04b14090978",
   "metadata": {},
   "outputs": [],
   "source": [
    "\n",
    "plt.figure()\n",
    "sns.heatmap(diff_RMSE_box1.isel(nn_model=0).sel(shuffled_var=sub_varlist).round(2).rename('diff_RMSE'), annot=True, center=0, cmap=mpl.cm.Reds, yticklabels=sub_varlist)\n"
   ]
  },
  {
   "cell_type": "code",
   "execution_count": null,
   "id": "57788ec1-599a-4af6-9ee7-b29ad75cb76b",
   "metadata": {},
   "outputs": [],
   "source": [
    "plt.figure()\n",
    "sns.heatmap(diff_RMSE_Gt.isel(nn_model=0).sel(shuffled_var=var_list).round(2).rename('diff_RMSE'), annot=True, center=0, cmap=mpl.cm.Reds, yticklabels=var_list, xticklabels=run_list)\n",
    "plt.savefig(plot_path+'permutation_importance_Gt_yr_'+timetag+'.png')"
   ]
  },
  {
   "cell_type": "code",
   "execution_count": null,
   "id": "0ca02c14-5a39-4c6c-b102-f74bf670647e",
   "metadata": {},
   "outputs": [],
   "source": [
    "plt.figure()\n",
    "sns.heatmap(diff_RMSE_box1.isel(nn_model=0).sel(shuffled_var=var_list).round(2).rename('diff_RMSE'), annot=True, center=0, cmap=mpl.cm.Reds, yticklabels=var_list, xticklabels=run_list)\n",
    "plt.savefig(plot_path+'permutation_importance_box1_'+timetag+'.png')"
   ]
  },
  {
   "cell_type": "code",
   "execution_count": null,
   "id": "a9c111f6-219a-4e00-916e-5dfbf9dc13f2",
   "metadata": {},
   "outputs": [],
   "source": [
    "diff_RMSE_Gt.sel(shuffled_var='T_profiles')"
   ]
  },
  {
   "cell_type": "code",
   "execution_count": null,
   "id": "88d263bb-ddac-4d12-a8c7-b7263b8baf53",
   "metadata": {},
   "outputs": [],
   "source": [
    "plot_path"
   ]
  },
  {
   "cell_type": "code",
   "execution_count": null,
   "id": "11b4ad5f-f0e8-4a81-b8f5-cc30b73bfc34",
   "metadata": {},
   "outputs": [],
   "source": []
  }
 ],
 "metadata": {
  "kernelspec": {
   "display_name": "neuralnet",
   "language": "python",
   "name": "neuralnet"
  },
  "language_info": {
   "codemirror_mode": {
    "name": "ipython",
    "version": 3
   },
   "file_extension": ".py",
   "mimetype": "text/x-python",
   "name": "python",
   "nbconvert_exporter": "python",
   "pygments_lexer": "ipython3",
   "version": "3.9.16"
  }
 },
 "nbformat": 4,
 "nbformat_minor": 5
}
