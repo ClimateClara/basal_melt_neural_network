{
 "cells": [
  {
   "cell_type": "code",
   "execution_count": null,
   "id": "d8f7a568-aff1-4ae1-81d8-379dd3c9ead3",
   "metadata": {},
   "outputs": [],
   "source": [
    "\"\"\"\n",
    "Created on Mon Mar 13 17:28 2023\n",
    "\n",
    "Look at history and model files\n",
    "\n",
    "@author: Clara Burgard\n",
    "\"\"\""
   ]
  },
  {
   "cell_type": "code",
   "execution_count": null,
   "id": "9686c14c-1f10-442d-afff-ad137e2bca07",
   "metadata": {},
   "outputs": [],
   "source": [
    "import xarray as xr\n",
    "import pandas as pd\n",
    "import glob"
   ]
  },
  {
   "cell_type": "markdown",
   "id": "f7cd1656-e5d8-4dd4-8942-2c772a81b266",
   "metadata": {},
   "source": [
    "READ IN DATA"
   ]
  },
  {
   "cell_type": "code",
   "execution_count": null,
   "id": "e2b7794a-d820-438f-9709-4263acd08ab9",
   "metadata": {},
   "outputs": [],
   "source": [
    "inputpath_models = '/bettik/burgardc/DATA/NN_PARAM/interim/NN_MODELS/experiments/'\n",
    "outputpath_mask='/bettik/burgardc/DATA/NN_PARAM/interim/ANTARCTICA_IS_MASKS/SMITH_bi646/'\n"
   ]
  },
  {
   "cell_type": "code",
   "execution_count": null,
   "id": "864538bb-0f67-4987-ba51-392d567f7e15",
   "metadata": {},
   "outputs": [],
   "source": [
    "mod_test = xr.open_dataset(inputpath_models + 'WHOLE/model_nn_medium_newbasic_wholedataset_TSextrap_normstd.h5', engine = 'h5netcdf')"
   ]
  },
  {
   "cell_type": "code",
   "execution_count": null,
   "id": "fe498a49-a6f8-480f-87cd-897d7aef3989",
   "metadata": {},
   "outputs": [],
   "source": [
    "mod_test"
   ]
  },
  {
   "cell_type": "code",
   "execution_count": null,
   "id": "7004a88f-87a4-43c9-992c-d76e72e1e8cc",
   "metadata": {},
   "outputs": [],
   "source": [
    "hist_test = pd.read_csv(inputpath_models + 'WHOLE/history_medium_newbasic_wholedataset_TSextrap_normstd.csv')"
   ]
  },
  {
   "cell_type": "code",
   "execution_count": null,
   "id": "bfb537b5-d0d4-490e-a29c-ef0ea14e2a5f",
   "metadata": {},
   "outputs": [],
   "source": [
    "hist_test['val_loss'].min()"
   ]
  },
  {
   "cell_type": "code",
   "execution_count": null,
   "id": "e69c3c71-5fb2-4e5f-b291-5ebde9a0e184",
   "metadata": {},
   "outputs": [],
   "source": [
    "da_list = []\n",
    "for mod_size in ['mini','small','medium','large','extra_large']:\n",
    "    min_list = []\n",
    "    nisf_list = []\n",
    "    file_list = glob.glob(inputpath_models + 'CV_ISF/history_'+mod_size+'_newbasic_noisf*_notblock*_TSextrap_normstd.csv')\n",
    "    for ff in file_list:\n",
    "        hist_test = pd.read_csv(ff)\n",
    "        min_loss = hist_test['val_loss'].min()\n",
    "        kisf = int(ff.split('/')[-1].split('.')[0].split('isf')[1].split('_')[0])\n",
    "        nisf_list.append(kisf)\n",
    "        min_list.append(min_loss)\n",
    "\n",
    "    min_da = xr.DataArray(data=np.array(min_list), dims=['Nisf']).assign_coords({'mod_size':mod_size,'Nisf': nisf_list})\n",
    "    da_list.append(min_da)\n",
    "\n",
    "all_rmse = xr.concat(da_list, dim='mod_size')"
   ]
  },
  {
   "cell_type": "code",
   "execution_count": null,
   "id": "671567aa-49da-4a13-9d64-3e2c4a45e410",
   "metadata": {},
   "outputs": [],
   "source": [
    "int(ff.split('/')[-1].split('.')[0].split('isf')[1].split('_')[0])"
   ]
  },
  {
   "cell_type": "code",
   "execution_count": null,
   "id": "66516de4-9327-45e5-b049-2c34089a8934",
   "metadata": {},
   "outputs": [],
   "source": [
    "for mod_size in ['mini','small','medium','large','extra_large']:\n",
    "    for kisf in all_rmse.Nisf:\n",
    "        plt.scatter(all_rmse.sel(Nisf=kisf,mod_size=mod_size), mod_size, color='grey', alpha=0.2)\n",
    "        #plt.text(all_rmse.sel(Nisf=kisf,mod_size=mod_size), mod_size, str(all_rmse.Nisf.sel(Nisf=kisf).values), color=\"red\", fontsize=12)\n",
    "plt.xlim(0,5)"
   ]
  },
  {
   "cell_type": "code",
   "execution_count": null,
   "id": "995bc11f-88dc-46f1-9bbf-ff72bfda435b",
   "metadata": {},
   "outputs": [],
   "source": [
    "file_isf['isf_name'].sel(Nisf=52)"
   ]
  },
  {
   "cell_type": "code",
   "execution_count": null,
   "id": "3a204299-0b33-4fed-8b3b-030a7b8ffca3",
   "metadata": {},
   "outputs": [],
   "source": [
    "file_isf = xr.open_dataset(outputpath_mask + 'nemo_5km_isf_masks_and_info_and_distance_oneFRIS_1970.nc')"
   ]
  },
  {
   "cell_type": "code",
   "execution_count": null,
   "id": "5471bc84-15a5-45f1-a842-cb09bbc9ef88",
   "metadata": {},
   "outputs": [],
   "source": [
    "file_isf['isf_name'].sel(Nisf=38)"
   ]
  },
  {
   "cell_type": "code",
   "execution_count": null,
   "id": "14c23c22-0dde-4ab9-9f2b-d67967025d03",
   "metadata": {},
   "outputs": [],
   "source": [
    "isf_names = file_isf['isf_name']"
   ]
  },
  {
   "cell_type": "code",
   "execution_count": null,
   "id": "5a0069b1-7c8c-4bcc-8b82-6fa0f3d251ed",
   "metadata": {},
   "outputs": [],
   "source": [
    "plotted_var = all_rmse\n",
    "\n",
    "x = np.arange(len(plotted_var.mod_size))\n",
    "y = np.arange(len(plotted_var.Nisf))\n",
    "\n",
    "fig, axs = plt.subplots(1, 1,figsize=((len(y)+1)/4,(len(x)+2)/2.75))\n",
    "ax0 = axs.imshow(plotted_var.values, cmap=plt.cm.coolwarm, vmin=-100, vmax=100)\n",
    "\n",
    "for j, dom in enumerate([50]):\n",
    "    axs.yaxis.tick_right()\n",
    "    axs.set_yticks(x)\n",
    "    axs.yaxis.tick_right()\n",
    "\n",
    "    axs.xaxis.tick_top()    \n",
    "    axs.set_xticks(y)\n",
    "    axs.set_xticklabels(labels=isf_names.sel(Nisf=plotted_var.Nisf).values, rotation=90)\n",
    "    \n"
   ]
  },
  {
   "cell_type": "code",
   "execution_count": null,
   "id": "9cd1592c-89dd-4f47-9dbc-64d44b0979b6",
   "metadata": {},
   "outputs": [],
   "source": []
  }
 ],
 "metadata": {
  "kernelspec": {
   "display_name": "py38",
   "language": "python",
   "name": "py38"
  },
  "language_info": {
   "codemirror_mode": {
    "name": "ipython",
    "version": 3
   },
   "file_extension": ".py",
   "mimetype": "text/x-python",
   "name": "python",
   "nbconvert_exporter": "python",
   "pygments_lexer": "ipython3",
   "version": "3.8.12"
  }
 },
 "nbformat": 4,
 "nbformat_minor": 5
}
