{
 "cells": [
  {
   "cell_type": "code",
   "execution_count": null,
   "id": "6d792f94-54f8-485f-bde3-9a2698bc82f4",
   "metadata": {},
   "outputs": [],
   "source": [
    "\"\"\"\n",
    "Created on Thu Apr 28 11:25 2022\n",
    "\n",
    "This script is to compare param and ref melt (scatter and timeseries)\n",
    "\n",
    "@author: Clara Burgard\n",
    "\"\"\""
   ]
  },
  {
   "cell_type": "code",
   "execution_count": null,
   "id": "d4aa2209-83a8-4d17-b6e2-0086219c36e3",
   "metadata": {},
   "outputs": [],
   "source": [
    "import xarray as xr\n",
    "import numpy as np\n",
    "import pandas as pd\n",
    "from tqdm.notebook import tqdm\n",
    "import matplotlib.pyplot as plt\n",
    "from basal_melt_param.constants import *\n",
    "import seaborn as sns\n",
    "from matplotlib import cm\n",
    "import cartopy\n",
    "import cartopy.crs as ccrs\n",
    "import matplotlib as mpl\n",
    "import glob"
   ]
  },
  {
   "cell_type": "markdown",
   "id": "ae76c3e2-ba76-4e60-b7a2-25e31650cfaf",
   "metadata": {},
   "source": [
    "READ IN DATA"
   ]
  },
  {
   "cell_type": "code",
   "execution_count": null,
   "id": "bb36466e-79ba-4701-b553-3cb4e95d0cd6",
   "metadata": {},
   "outputs": [],
   "source": [
    "#home_path = '/Users/claraburgard/bettik_clara'\n",
    "home_path='/bettik/burgardc/'\n",
    "plot_path = home_path+'/PLOTS/NN_plots/1D_eval/'"
   ]
  },
  {
   "cell_type": "code",
   "execution_count": null,
   "id": "582acd15-64c7-4f22-bba0-6058c37dfa36",
   "metadata": {},
   "outputs": [],
   "source": [
    "nemo_run0 = 'OPM026' #['OPM006','OPM016','OPM018','OPM021','OPM026','OPM027','OPM031-1','OPM031-2']\n",
    "\n",
    "if nemo_run0 in ['OPM031-1','OPM031-2']:\n",
    "    nemo_run = 'OPM031'\n",
    "else:\n",
    "    nemo_run = nemo_run0\n",
    "    "
   ]
  },
  {
   "cell_type": "code",
   "execution_count": null,
   "id": "0e22c51a-23e8-47f5-90f1-7011143edf9f",
   "metadata": {},
   "outputs": [],
   "source": [
    "inputpath_mask = home_path+'DATA/BASAL_MELT_PARAM/interim/ANTARCTICA_IS_MASKS/nemo_5km_'+nemo_run+'/'\n",
    "file_isf_orig = xr.open_dataset(inputpath_mask+'nemo_5km_isf_masks_and_info_and_distance_new.nc')\n",
    "nonnan_Nisf = file_isf_orig['Nisf'].where(np.isfinite(file_isf_orig['front_bot_depth_max']), drop=True).astype(int)\n",
    "file_isf_nonnan = file_isf_orig.sel(Nisf=nonnan_Nisf)\n",
    "large_isf = file_isf_nonnan['Nisf'].where(file_isf_nonnan['isf_area_here'] >= 2500, drop=True)\n",
    "file_isf = file_isf_nonnan.sel(Nisf=large_isf)\n"
   ]
  },
  {
   "cell_type": "code",
   "execution_count": null,
   "id": "fdf7555b-f64e-49da-9865-7e55f72e1212",
   "metadata": {},
   "outputs": [],
   "source": [
    "### READ IN THE REFERENCE\n",
    "outputpath_melt = home_path+'DATA/BASAL_MELT_PARAM/processed/MELT_RATE/nemo_5km_'+nemo_run+'/'\n",
    "NEMO_melt_rates_1D = xr.open_dataset(outputpath_melt+'melt_rates_1D_NEMO.nc')\n",
    "if nemo_run0 == 'OPM031-1':\n",
    "    ref_Gt = NEMO_melt_rates_1D['melt_Gt_per_y_tot'].isel(time=range(30))\n",
    "elif nemo_run0 == 'OPM031-2':\n",
    "    ref_Gt = NEMO_melt_rates_1D['melt_Gt_per_y_tot'].isel(time=range(30,70))\n",
    "else:\n",
    "    ref_Gt = NEMO_melt_rates_1D['melt_Gt_per_y_tot']\n",
    "NEMO_box1_myr = xr.open_dataset(outputpath_melt+'melt_rates_box1_NEMO.nc')\n",
    "ref_box1 = NEMO_box1_myr['mean_melt_box1_myr']\n"
   ]
  },
  {
   "cell_type": "code",
   "execution_count": null,
   "id": "0f5c9ac9-2648-4413-84e0-9ff62ce60f04",
   "metadata": {},
   "outputs": [],
   "source": [
    "outputpath_melt_nn = '/bettik/burgardc/DATA/NN_PARAM/processed/MELT_RATE/'\n",
    "timetag_list = ['20220427-1059','20220427-1051']"
   ]
  },
  {
   "cell_type": "code",
   "execution_count": null,
   "id": "587fa614-6595-4b18-ae88-58d47423e2c1",
   "metadata": {},
   "outputs": [],
   "source": [
    "diff_Gt_list = []\n",
    "diff_box1_list = []\n",
    "diff_Gt_anom_list = []\n",
    "diff_box1_anom_list = []\n",
    "\n",
    "ref_Gt_list = []\n",
    "ref_box1_list = []\n",
    "\n",
    "param_Gt_list = []\n",
    "param_box1_list = []\n",
    "\n",
    "file_isf_list = []\n",
    "\n",
    "\n",
    "\n",
    "for tt,timetag in enumerate(timetag_list):\n",
    "    \n",
    "    new_path_output = outputpath_melt_nn+timetag+'/'\n",
    "    \n",
    "    ### READ IN THE PARAM FILES\n",
    "    \n",
    "    # Param files\n",
    "\n",
    "    ds_melt_param = xr.open_dataset(new_path_output+'eval_metrics_'+nemo_run0+'.nc')\n",
    "    \n",
    "    param_Gt = ds_melt_param['melt_1D_Gt_per_y']\n",
    "    diff_Gt = ds_melt_param['melt_1D_Gt_per_y'] - ref_Gt\n",
    "    diff_Gt_anom = (ds_melt_param['melt_1D_Gt_per_y'] - ds_melt_param['melt_1D_Gt_per_y'].mean('time'))  - (ref_Gt - ref_Gt.mean('time'))\n",
    "    #diff_Gt = diff_Gt.assign_coords({'time': np.arange(1,len(diff_Gt.time)+1)+n*50})\n",
    "    diff_Gt_list.append(diff_Gt)\n",
    "    diff_Gt_anom_list.append(diff_Gt_anom)\n",
    "    param_Gt_list.append(param_Gt)\n",
    "    \n",
    "    param_box1 = ds_melt_param['melt_1D_mean_myr_box1'].mean('time')\n",
    "    diff_box1 = ds_melt_param['melt_1D_mean_myr_box1'].mean('time') - ref_box1.mean('time')\n",
    "    diff_box1_list.append(diff_box1)  \n",
    "    param_box1_list.append(param_box1)\n",
    "    \n",
    "    \n",
    "diff_Gt_all = xr.concat(diff_Gt_list, dim='nn_model')\n",
    "diff_Gt_all = diff_Gt_all.assign_coords(nn_model=timetag_list)\n",
    "diff_Gt_anom_all = xr.concat(diff_Gt_anom_list, dim='nn_model')\n",
    "diff_Gt_anom_all = diff_Gt_anom_all.assign_coords(nn_model=timetag_list)\n",
    "diff_box1_all = xr.concat(diff_box1_list, dim='nn_model') \n",
    "diff_box1_all = diff_box1_all.assign_coords(nn_model=timetag_list)\n",
    "\n",
    "param_box1_all = xr.concat(param_box1_list, dim='nn_model')\n",
    "param_box1_all = param_box1_all.assign_coords(nn_model=timetag_list)\n",
    "\n",
    "param_Gt_all = xr.concat(param_Gt_list, dim='nn_model')\n",
    "param_Gt_all = param_Gt_all.assign_coords(nn_model=timetag_list)\n",
    "\n"
   ]
  },
  {
   "cell_type": "code",
   "execution_count": null,
   "id": "e60a6d51-e5c9-440f-9709-19736e96b9c2",
   "metadata": {},
   "outputs": [],
   "source": [
    "param_melt_Gt_yr = param_Gt_all\n",
    "target_melt_Gt_yr = ref_Gt"
   ]
  },
  {
   "cell_type": "code",
   "execution_count": null,
   "id": "899854d1-5955-4236-81c6-414b6a1f273c",
   "metadata": {},
   "outputs": [],
   "source": [
    "region_list = []\n",
    "for kisf in file_isf.Nisf:\n",
    "    if file_isf['isf_name'].sel(Nisf=kisf).values in ['Ross','Nickerson','Sulzberger', 'Cook']:\n",
    "        region_list.append('East and West Ross')\n",
    "    elif file_isf['isf_name'].sel(Nisf=kisf).values in ['Filchner','Ronne']:\n",
    "        region_list.append('Weddell')        \n",
    "    elif file_isf['isf_name'].sel(Nisf=kisf).values in ['Ekstrom','Nivl','Prince Harald','Riiser-Larsen','Fimbul','Roi Baudouin','Lazarev','Stancomb Brunt','Jelbart','Borchgrevink']:\n",
    "        region_list.append('Dronning Maud Land')\n",
    "    elif file_isf['isf_name'].sel(Nisf=kisf).values in ['Getz','Thwaites','Crosson','Dotson','Cosgrove','Pine Island']:\n",
    "        region_list.append('Amundsen')\n",
    "    elif file_isf['isf_name'].sel(Nisf=kisf).values in ['Venable','George VI','Abbot','Stange','Larsen C','Bach','Larsen D','Wilkins']:\n",
    "        region_list.append('Peninsula and Bellinghausen')\n",
    "    elif file_isf['isf_name'].sel(Nisf=kisf).values in ['Amery','Moscow Univ.','Tracy Tremenchus','Totten','West','Shackleton']:\n",
    "        region_list.append('East Antarctica')\n",
    "    else:\n",
    "        print('Argh, help me, '+file_isf['isf_name'].sel(Nisf=kisf).values+' has no region assigned!')\n",
    "# 6 regions\n",
    "# regions = ['East and West Ross','Weddell','Dronning Maud Land','Amundsen','Peninsula and Bellinghausen','East Antarctica']\n",
    "file_isf['region'] = xr.DataArray(data=region_list,dims='Nisf')"
   ]
  },
  {
   "cell_type": "code",
   "execution_count": null,
   "id": "651c1908-a6f1-4290-8313-336de32573e9",
   "metadata": {},
   "outputs": [],
   "source": [
    "def plot_melt_timeseries_all_isf(param_melt_tuned, target_Gt_yr, file_isf, nemo_run):\n",
    "    \n",
    "    regions = ['Weddell','Peninsula and Bellinghausen','Amundsen','East and West Ross','East Antarctica','Dronning Maud Land']\n",
    "    colors = ['deepskyblue','brown','red','orange','limegreen','seagreen']\n",
    "    symbol = ['o','v','>','p','*','s','<','^','X','d']\n",
    "    \n",
    "    f = plt.figure()\n",
    "    f.set_size_inches(8.25*1.5, 8.25*1.5)\n",
    "\n",
    "    ax={}\n",
    "\n",
    "    i = 0\n",
    "    nn=0\n",
    "    ii=0\n",
    "    marker_symbol = np.zeros((len(regions))).astype(int)\n",
    "    for rr,reg in enumerate(regions):\n",
    "        k = 0\n",
    "        marker_color = colors[rr]\n",
    "        subset_isf = file_isf.Nisf.where(file_isf['region']==reg,drop=True)\n",
    "        #print(subset_isf)\n",
    "        for kisf in tqdm(subset_isf.Nisf):\n",
    "            \n",
    "            if i > 0:\n",
    "                ax[i] = f.add_subplot(6,6,i+1, sharex=ax[0])\n",
    "            else:\n",
    "                ax[i] = f.add_subplot(6,6,i+1)          \n",
    "\n",
    "            target = target_Gt_yr.sel(Nisf=kisf)\n",
    "            target.plot(ax=ax[i], c='blue')\n",
    "            \n",
    "            for tt,timetag in enumerate(param_melt_tuned.nn_model):\n",
    "                \n",
    "                if timetag in ['20220427-1021','20220427-1042','20220427-1051']:\n",
    "                    ls = '--'\n",
    "                elif timetag in ['20220427-1052','20220427-1059']:\n",
    "                    ls = '-'\n",
    "                parameterised = param_melt_tuned.sel(Nisf=kisf).sel(nn_model=timetag)\n",
    "                parameterised.plot(ax=ax[i], c=colors[tt],linestyle=ls)\n",
    "\n",
    "\n",
    "            ax[i].set_title(str(file_isf['isf_name'].sel(Nisf=kisf).values))\n",
    "            f.suptitle(nemo_run)\n",
    "\n",
    "            i = i+1\n",
    "            k = k+1\n",
    "\n",
    "\n",
    "    f.tight_layout()\n",
    "    sns.despine()\n",
    "\n",
    "    return f"
   ]
  },
  {
   "cell_type": "code",
   "execution_count": null,
   "id": "9d466046-8764-4efa-b003-4b9e7a64bad9",
   "metadata": {},
   "outputs": [],
   "source": [
    "nemo_run"
   ]
  },
  {
   "cell_type": "code",
   "execution_count": null,
   "id": "f96dc19d-2b94-4dde-8092-fe76208649f5",
   "metadata": {},
   "outputs": [],
   "source": [
    "f = plot_melt_timeseries_all_isf(param_melt_Gt_yr, target_melt_Gt_yr, file_isf, nemo_run0)\n",
    "f.savefig(plot_path+'timeseries_melt_'+nemo_run0+'_comparelargemodels.png')"
   ]
  },
  {
   "cell_type": "code",
   "execution_count": null,
   "id": "c5e140d5-052a-4c18-96ff-840fb81ff3ec",
   "metadata": {},
   "outputs": [],
   "source": []
  }
 ],
 "metadata": {
  "kernelspec": {
   "display_name": "neuralnet",
   "language": "python",
   "name": "neuralnet"
  },
  "language_info": {
   "codemirror_mode": {
    "name": "ipython",
    "version": 3
   },
   "file_extension": ".py",
   "mimetype": "text/x-python",
   "name": "python",
   "nbconvert_exporter": "python",
   "pygments_lexer": "ipython3",
   "version": "3.9.4"
  }
 },
 "nbformat": 4,
 "nbformat_minor": 5
}
