{
 "cells": [
  {
   "cell_type": "code",
   "execution_count": null,
   "id": "365c29ca-1e68-4f86-9b51-90e7451c63cc",
   "metadata": {},
   "outputs": [],
   "source": [
    "\"\"\"\n",
    "Created on Wed Sep 22 15:27 2021\n",
    "\n",
    "This is a script to create subplots of different regions (in 2D)\n",
    "\n",
    "@author: Clara Burgard\n",
    "\"\"\""
   ]
  },
  {
   "cell_type": "code",
   "execution_count": null,
   "id": "9829323a-48fb-4726-a9b5-8aad9e9c4a6e",
   "metadata": {},
   "outputs": [],
   "source": [
    "import xarray as xr\n",
    "import numpy as np\n",
    "import pandas as pd\n",
    "from tqdm.notebook import tqdm\n",
    "import matplotlib.pyplot as plt\n",
    "import seaborn as sns\n",
    "from matplotlib import cm\n",
    "import cartopy\n",
    "import cartopy.crs as ccrs\n",
    "from cartopy.util import add_cyclic_point\n",
    "import matplotlib as mpl\n",
    "import cmocean\n",
    "import glob\n",
    "from matplotlib.colors import ListedColormap, LinearSegmentedColormap\n",
    "from matplotlib.ticker import LogFormatterSciNotation\n",
    "import matplotlib.colors as colors\n",
    "\n",
    "import basal_melt_param.map_plot_functions as mapfunc"
   ]
  },
  {
   "cell_type": "code",
   "execution_count": null,
   "id": "153e1633-cfac-4bd7-b2ce-e427a9c729a2",
   "metadata": {},
   "outputs": [],
   "source": [
    "sns.set_context('paper')"
   ]
  },
  {
   "cell_type": "code",
   "execution_count": null,
   "id": "1b7f817f-0678-4eb4-bd9f-8205aaab815b",
   "metadata": {},
   "outputs": [],
   "source": [
    "%matplotlib qt5"
   ]
  },
  {
   "cell_type": "markdown",
   "id": "d55ef23b-1000-42dc-82d3-600ae5c90d65",
   "metadata": {},
   "source": [
    "READ IN DATA"
   ]
  },
  {
   "cell_type": "code",
   "execution_count": null,
   "id": "fcf46a5b-4a39-44d7-9e24-c40211fe5bc4",
   "metadata": {},
   "outputs": [],
   "source": [
    "# make the domain a little smaller to make the computation even more efficient - file isf has already been made smaller at its creation\n",
    "map_lim = [-3000000,3000000]"
   ]
  },
  {
   "cell_type": "code",
   "execution_count": null,
   "id": "86917ef1-3970-47cb-ac95-cb62db76e0d8",
   "metadata": {},
   "outputs": [],
   "source": [
    "nemo_run = 'OPM027'"
   ]
  },
  {
   "cell_type": "code",
   "execution_count": null,
   "id": "6ea196b8-e2b1-40be-a01d-82275a7e5730",
   "metadata": {},
   "outputs": [],
   "source": [
    "inputpath_mask = '/bettik/burgardc/SCRIPTS/basal_melt_param/data/interim/ANTARCTICA_IS_MASKS/nemo_5km_'+nemo_run+'/'\n",
    "outputpath_melt = '/bettik/burgardc/SCRIPTS/basal_melt_param/data/processed/MELT_RATE/nemo_5km_'+nemo_run+'/'\n",
    "plot_path = '/bettik/burgardc/PLOTS/NN_plots/'\n",
    "inputpath_boxes = '/bettik/burgardc/SCRIPTS/basal_melt_param/data/interim/BOXES/nemo_5km_'+nemo_run+'/'\n",
    "outputpath_melt_nn = '/bettik/burgardc/DATA/NN_PARAM/processed/MELT_RATE/'"
   ]
  },
  {
   "cell_type": "code",
   "execution_count": null,
   "id": "6821d35a-850e-46b2-9724-0d06cc02f3d5",
   "metadata": {},
   "outputs": [],
   "source": [
    "timetag = '20220414-1706'\n",
    "new_path_output = outputpath_melt_nn+timetag+'/'"
   ]
  },
  {
   "cell_type": "code",
   "execution_count": null,
   "id": "22bd5514-0b95-49d6-8d4f-58d7e2d6e9a0",
   "metadata": {},
   "outputs": [],
   "source": [
    "melt_rate_2D_NEMO = xr.open_dataset(outputpath_melt+'melt_rates_2D_NEMO_timmean.nc')\n",
    "box_charac_all_2D = xr.open_dataset(inputpath_boxes + 'nemo_5km_boxes_2D.nc')\n",
    "box_charac_all_1D = xr.open_dataset(inputpath_boxes + 'nemo_5km_boxes_1D.nc')"
   ]
  },
  {
   "cell_type": "code",
   "execution_count": null,
   "id": "7781a244-fff0-49bf-8baf-dcf9d67d0fe6",
   "metadata": {},
   "outputs": [],
   "source": [
    "melt_rate_2D_nn = xr.open_dataset(new_path_output+'NN_melt_predicted_reference_m_ice_per_yr_'+nemo_run+'.nc')\n",
    "melt_rate_2D_nn_timmean = melt_rate_2D_nn['predicted_melt'].mean('time').reindex_like(file_isf['ISF_mask'])"
   ]
  },
  {
   "cell_type": "code",
   "execution_count": null,
   "id": "c0b1d97b-e502-4cd6-a710-54a2c63ad336",
   "metadata": {},
   "outputs": [],
   "source": [
    "file_isf_orig = xr.open_dataset(inputpath_mask+'nemo_5km_isf_masks_and_info_and_distance_new.nc')\n",
    "nonnan_Nisf = file_isf_orig['Nisf'].where(np.isfinite(file_isf_orig['front_bot_depth_max']), drop=True).astype(int)\n",
    "file_isf_nonnan = file_isf_orig.sel(Nisf=nonnan_Nisf)\n",
    "large_isf = file_isf_nonnan['Nisf'].where(file_isf_nonnan['isf_area_here'] >= 2500, drop=True)\n",
    "file_isf = file_isf_nonnan.sel(Nisf=large_isf)\n",
    "file_isf_mask = file_isf['ISF_mask'].where(file_isf['ISF_mask']==file_isf.Nisf).sum('Nisf')"
   ]
  },
  {
   "cell_type": "code",
   "execution_count": null,
   "id": "4f77bd1e-ef77-432f-a9d6-81ce35ebea3c",
   "metadata": {},
   "outputs": [],
   "source": [
    "file_isf_orig"
   ]
  },
  {
   "cell_type": "code",
   "execution_count": null,
   "id": "d54e845e-9c51-4ee0-aa21-c6ad55e104f9",
   "metadata": {},
   "outputs": [],
   "source": [
    "ref_melt_2D = melt_rate_2D_NEMO['melt_m_ice_per_y'].where(file_isf_mask)"
   ]
  },
  {
   "cell_type": "code",
   "execution_count": null,
   "id": "830207df-fbd3-4a86-a872-a207852c37e7",
   "metadata": {},
   "outputs": [],
   "source": [
    "grounded_msk03 = file_isf['ground_mask'].where(file_isf['ground_mask']==0,3)\n",
    "grounded_msk = (grounded_msk03.where(grounded_msk03!=3,1)-1)*-1"
   ]
  },
  {
   "cell_type": "code",
   "execution_count": null,
   "id": "d8ae575a-0dd9-4df6-bfff-ca5af32074c8",
   "metadata": {},
   "outputs": [],
   "source": [
    "icesheet_msk_0inf = file_isf_mask.where(file_isf_mask!=1,0)\n",
    "icesheet_msk = icesheet_msk_0inf.where(icesheet_msk_0inf < 1, 1)"
   ]
  },
  {
   "cell_type": "code",
   "execution_count": null,
   "id": "d1f1d480-4434-4158-b6e6-df8e60108fa9",
   "metadata": {},
   "outputs": [],
   "source": [
    "box_loc_config2 = box_charac_all_2D['box_location'].sel(box_nb_tot=box_charac_all_1D['nD_config'].sel(config=2))\n",
    "box1 = box_loc_config2.where(box_loc_config2==1).isel(Nisf=0).drop('Nisf')\n",
    "box1_msk = box1.where(box1==1,0)"
   ]
  },
  {
   "cell_type": "markdown",
   "id": "b9ab6270-246f-4096-b16d-59c8df01384d",
   "metadata": {},
   "source": [
    "PLOT WHOLE ANTARCTICA"
   ]
  },
  {
   "cell_type": "code",
   "execution_count": null,
   "id": "d48c531f-5325-409b-9020-ac838e2df749",
   "metadata": {},
   "outputs": [],
   "source": [
    "f = mapfunc.map_with_contourf_coolwarm(ref_melt_2D, grounded_msk, icesheet_msk, 'Reference (NEMO)')\n",
    "#f.savefig(plot_path+'spatial_NEMO_ref_'+nemo_run+'.png',dpi=300)"
   ]
  },
  {
   "cell_type": "code",
   "execution_count": null,
   "id": "e9ed3dbc-c4b2-4336-81fa-3d87941bfe9c",
   "metadata": {},
   "outputs": [],
   "source": [
    "f = mapfunc.map_with_contourf_coolwarm(melt_rate_2D_nn_timmean, grounded_msk, icesheet_msk, 'NN '+timetag)"
   ]
  },
  {
   "cell_type": "markdown",
   "id": "627ed15f-0c4c-431b-bb4b-f53eea9ac5c8",
   "metadata": {},
   "source": [
    "SINGLE ICE SHELVES"
   ]
  },
  {
   "cell_type": "code",
   "execution_count": null,
   "id": "1000c420-e3fc-4262-8317-02c345e5b9d5",
   "metadata": {},
   "outputs": [],
   "source": [
    "kisf = 10\n",
    "if kisf == 11:\n",
    "    kisf_mask = (file_isf_mask==11) | (file_isf_mask==21)\n",
    "else:\n",
    "    kisf_mask = file_isf_mask==kisf\n",
    "\n",
    "ref_melt_isf = ref_melt_2D.where(kisf_mask,drop=True)\n",
    "print('x size',ref_melt_isf.x.max() - ref_melt_isf.x.min())\n",
    "print('y size',ref_melt_isf.y.max() - ref_melt_isf.y.min())\n"
   ]
  },
  {
   "cell_type": "code",
   "execution_count": null,
   "id": "1f06aaa8-a791-42e2-bc2c-d0fc9ec13b98",
   "metadata": {},
   "outputs": [],
   "source": [
    "kisf = 48\n",
    "if kisf == 11:\n",
    "    kisf_mask = (file_isf_mask==11) | (file_isf_mask==21)\n",
    "else:\n",
    "    kisf_mask = file_isf_mask==kisf\n",
    "\n",
    "ref_melt_isf = ref_melt_2D.where(kisf_mask,drop=True)\n",
    "print('y max =',ref_melt_isf.y.max())\n",
    "print('x min =',ref_melt_isf.x.min())"
   ]
  },
  {
   "cell_type": "markdown",
   "id": "384c6c00-8ef9-4e7c-9088-35ecbe7eed26",
   "metadata": {},
   "source": [
    "try other colorbar"
   ]
  },
  {
   "cell_type": "code",
   "execution_count": null,
   "id": "7876f302-c259-435e-a8e0-c1eab7ffa7df",
   "metadata": {},
   "outputs": [],
   "source": [
    "def myround(x, base=5):\n",
    "    return (base * np.ceil(x/base)).astype(int)"
   ]
  },
  {
   "cell_type": "code",
   "execution_count": null,
   "id": "355f7be4-1ba5-4401-97aa-93698a27c001",
   "metadata": {},
   "outputs": [],
   "source": [
    "myround(11.5)"
   ]
  },
  {
   "cell_type": "code",
   "execution_count": null,
   "id": "f8a08022-3280-4252-a69e-c9044e3e7783",
   "metadata": {},
   "outputs": [],
   "source": [
    "dom = 50\n",
    "\n",
    "kisf = 66\n",
    "if kisf == 11:\n",
    "    kisf_mask = (file_isf_mask==11) | (file_isf_mask==21)\n",
    "else:\n",
    "    kisf_mask = file_isf_mask==kisf\n",
    "\n",
    "ref_melt_isf = ref_melt_2D.where(kisf_mask,drop=True)\n",
    "cmaph = mpl.cm.coolwarm\n",
    "    \n",
    "if kisf == 11:\n",
    "    ymax = ref_melt_isf.y.min() - 80000\n",
    "    xmin = ref_melt_isf.x.min() + 10000\n",
    "elif kisf == 10:\n",
    "    ymax = ref_melt_isf.y.min() - 80000\n",
    "    xmin = ref_melt_isf.x.min() + 5000\n",
    "elif kisf == 31:\n",
    "    ymax = ref_melt_isf.y.min() - 20000\n",
    "    xmin = ref_melt_isf.x.min() + 3000 \n",
    "elif kisf == 44:\n",
    "    ymax = ref_melt_isf.y.min() - 30000\n",
    "    xmin = ref_melt_isf.x.min() + 3000 \n",
    "elif kisf == 48:\n",
    "    ymax = ref_melt_isf.y.min() - 15000\n",
    "    xmin = ref_melt_isf.x.min() + 3000   \n",
    "elif kisf == 66:\n",
    "    ymax = ref_melt_isf.y.min() - 15000\n",
    "    xmin = ref_melt_isf.x.min() + 1000   \n",
    "    \n",
    "    \n",
    "param_melt_isf = melt_rate_2D_nn_timmean.where(kisf_mask,drop=True)\n",
    "\n",
    "if (kisf == 11) or (kisf==10):\n",
    "    min_maxval = 5\n",
    "elif kisf == 44:\n",
    "    min_maxval = 5\n",
    "elif kisf == 31:\n",
    "    min_maxval = 10\n",
    "else:\n",
    "    min_maxval = myround(abs(ref_melt_isf).max().values)\n",
    "\n",
    "levs_neg = np.linspace(-min_maxval,0,min_maxval+1)\n",
    "levs_pos = np.linspace(0,min_maxval,min_maxval+1)\n",
    "levs = np.concatenate([levs_neg,levs_pos[1::]])\n",
    "round_lev = np.round(levs,0)\n",
    "\n",
    "\n",
    "max_list = []\n",
    "\n",
    "fig, ax = plt.subplots(1,3,sharex=True,sharey=True)\n",
    "fig.set_size_inches(8.25, 8.25/2.5)\n",
    "for i in range(len(ax)):\n",
    "    if i==0:\n",
    "        cbar_ax2 = ref_melt_isf.plot.contourf(ax=ax[i],cmap=cmaph, zorder=0, levels=levs, vmin=-min_maxval, vmax=min_maxval, add_colorbar=False)  #levels=levs\n",
    "        ax[i].text(xmin,ymax,'Max melt = '+str(np.round(ref_melt_isf.max().values,1)))\n",
    "    elif i==1:\n",
    "        param_melt_isf.plot.contourf(ax=ax[i],cmap=cmaph, levels=levs, zorder=0, add_colorbar=False)  \n",
    "        max_quad_Ant = param_melt_isf.max().values\n",
    "        max_list.append(max_quad_Ant)\n",
    "        ax[i].text(xmin,ymax,'Max melt = '+str(np.round(max_quad_Ant,1)))\n",
    "        \n",
    "        #if np.max(max_list) > ref_melt_isf.max().values:\n",
    "        #    cbar = fig.colorbar(cbar_ax2, extend='max',orientation='horizontal')\n",
    "        #else:\n",
    "        #    cbar = fig.colorbar(cbar_ax2,orientation='horizontal')\n",
    "        \n",
    "        \n",
    "    elif i==2:\n",
    "        (param_melt_isf - ref_melt_isf).plot.contourf(ax=ax[i],cmap=cmaph, zorder=0, add_colorbar=True, vmin=-10, vmax=10)  \n",
    "        \n",
    "    ax[i].contour(ref_melt_isf.x,ref_melt_isf.y,grounded_msk.where(ref_melt_isf),levels=[0,1],linewidths=0.5,colors='black',zorder=10)\n",
    "    ax[i].contour(ref_melt_isf.x,ref_melt_isf.y,box1_msk.where(ref_melt_isf),levels=[0,1],linewidths=0.5,colors='blue',zorder=10)\n",
    "    ax[i].set_xticks([])\n",
    "    ax[i].set_yticks([])\n",
    "    ax[i].set_xlabel('')\n",
    "    ax[i].set_ylabel('')\n",
    "    ax[i].set_title('')\n",
    "      \n",
    "    #ax[i].contour(ref_melt_isf.x,ref_melt_isf.y,icesheet_msk.where(ref_melt_isf),levels=[0,1],linewidths=0.5,colors='black',zorder=15)\n",
    "\n",
    "        \n",
    "if kisf in [48]:\n",
    "    cbar = fig.colorbar(cbar_ax2, ticks=round_lev[::3],orientation='horizontal')\n",
    "elif kisf in [10, 11]:\n",
    "    cbar = fig.colorbar(cbar_ax2, ticks=round_lev[::2],orientation='horizontal')\n",
    "elif kisf in [66]:\n",
    "    cbar = fig.colorbar(cbar_ax2, ticks=round_lev[::20],orientation='horizontal')\n",
    "elif kisf in [31]:\n",
    "    cbar = fig.colorbar(cbar_ax2, ticks=round_lev[::5],orientation='horizontal')\n",
    "elif kisf in [44, 31]:\n",
    "    cbar = fig.colorbar(cbar_ax2, ticks=round_lev[::2],orientation='horizontal')\n",
    "else:\n",
    "    cbar = fig.colorbar(cbar_ax2,orientation='horizontal')\n",
    "\n",
    "plt.tight_layout()\n",
    "fig.savefig(plot_path+'comparison_spatial_patterns_isf'+str(kisf).zfill(3)+'_'+str(nemo_run)+'_'+str(timetag)+'_with_colorbar.png', dpi=300)"
   ]
  },
  {
   "cell_type": "code",
   "execution_count": null,
   "id": "2c488dac-90f1-4d8a-9fe0-ae55cf18d07e",
   "metadata": {},
   "outputs": [],
   "source": [
    "ref_melt_isf = ref_melt_2D.where(kisf_mask,drop=True)\n",
    "cmaph = mpl.cm.coolwarm\n",
    "norm = colors.TwoSlopeNorm(vmin=-10, vcenter=0, vmax=70)\n",
    "ref_melt_isf.plot.contourf(cmap=cmaph,norm=norm)"
   ]
  },
  {
   "cell_type": "code",
   "execution_count": null,
   "id": "36698eab-3076-464e-9732-c5d45bae2d5e",
   "metadata": {},
   "outputs": [],
   "source": [
    "np.round(levs,0).astype(int)"
   ]
  },
  {
   "cell_type": "code",
   "execution_count": null,
   "id": "417fb51a-8be6-4b0a-a6da-3e13ba5938f8",
   "metadata": {},
   "outputs": [],
   "source": [
    "np.concatenate([levs_neg,levs_pos[1::]])"
   ]
  },
  {
   "cell_type": "code",
   "execution_count": null,
   "id": "80eda160-e913-42f9-ad2f-cfe27e3ddf64",
   "metadata": {},
   "outputs": [],
   "source": [
    "melt_rate_2D_boxes['melt_m_ice_per_y'].sel(param='boxes_2_pismno_picopno_tuned_clara', profile_domain=50).plot()"
   ]
  },
  {
   "cell_type": "code",
   "execution_count": null,
   "id": "29e05c69-ba56-4e6e-b869-9e9c1edf445e",
   "metadata": {},
   "outputs": [],
   "source": [
    "np.round(grounded_msk.where(ref_melt_isf)).plot()"
   ]
  },
  {
   "cell_type": "code",
   "execution_count": null,
   "id": "3e7b64fa-c812-47b2-ae5a-4619b60e769d",
   "metadata": {},
   "outputs": [],
   "source": [
    "icesheet_msk.where(file_isf_mask==66,drop=True).plot()"
   ]
  },
  {
   "cell_type": "code",
   "execution_count": null,
   "id": "adefd8da-e0c3-4b66-b33b-980f665a6205",
   "metadata": {},
   "outputs": [],
   "source": [
    "plt.contour(ref_melt_isf.x,ref_melt_isf.y,grounded_msk.where(ref_melt_isf),levels=[-1,2])"
   ]
  },
  {
   "cell_type": "code",
   "execution_count": null,
   "id": "b976ec95-29bb-4188-87fb-8bb6c2ae5e01",
   "metadata": {},
   "outputs": [],
   "source": [
    "grounded_msk.min()"
   ]
  },
  {
   "cell_type": "code",
   "execution_count": null,
   "id": "96ea989c-707e-487b-afb6-2f1951b629b4",
   "metadata": {},
   "outputs": [],
   "source": [
    "min_maxval"
   ]
  },
  {
   "cell_type": "code",
   "execution_count": null,
   "id": "4f08a135-5856-4bc7-8c6e-a6222b3d7cad",
   "metadata": {},
   "outputs": [],
   "source": []
  }
 ],
 "metadata": {
  "kernelspec": {
   "display_name": "py38",
   "language": "python",
   "name": "py38"
  },
  "language_info": {
   "codemirror_mode": {
    "name": "ipython",
    "version": 3
   },
   "file_extension": ".py",
   "mimetype": "text/x-python",
   "name": "python",
   "nbconvert_exporter": "python",
   "pygments_lexer": "ipython3",
   "version": "3.8.12"
  }
 },
 "nbformat": 4,
 "nbformat_minor": 5
}
