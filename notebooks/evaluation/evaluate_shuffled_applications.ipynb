{
 "cells": [
  {
   "cell_type": "code",
   "execution_count": null,
   "id": "f37ce8d2-9567-43c9-b52c-61fbff266e0f",
   "metadata": {},
   "outputs": [],
   "source": [
    "\"\"\"\n",
    "Created on Wed Apr 20 10:58 2022\n",
    "\n",
    "Make a matrix with importance of the different variables after shuffling\n",
    "\n",
    "Author: @claraburgard\n",
    "\n",
    "\"\"\""
   ]
  },
  {
   "cell_type": "code",
   "execution_count": null,
   "id": "e7f61d18-f356-4038-a4e3-af4441cc59e2",
   "metadata": {},
   "outputs": [],
   "source": [
    "import xarray as xr\n",
    "import numpy as np\n",
    "import pandas as pd\n",
    "from tqdm.notebook import tqdm\n",
    "import matplotlib.pyplot as plt\n",
    "import seaborn as sns\n",
    "import matplotlib as mpl"
   ]
  },
  {
   "cell_type": "code",
   "execution_count": null,
   "id": "131c7346-92a3-4246-9f3b-6eef937835c0",
   "metadata": {},
   "outputs": [],
   "source": [
    "%matplotlib qt5"
   ]
  },
  {
   "cell_type": "markdown",
   "id": "0e0d2fb9-e1f4-478b-a534-91a224116aee",
   "metadata": {},
   "source": [
    "READ IN DATA"
   ]
  },
  {
   "cell_type": "code",
   "execution_count": null,
   "id": "02127659-07be-4511-b91b-a045f6dee57b",
   "metadata": {},
   "outputs": [],
   "source": [
    "home_path = '/bettik/burgardc/'\n",
    "plot_path = '/bettik/burgardc/PLOTS/NN_plots/input_vars/'"
   ]
  },
  {
   "cell_type": "code",
   "execution_count": null,
   "id": "2c61f5e5-6da4-43ff-a8d0-becf7a2470c8",
   "metadata": {},
   "outputs": [],
   "source": [
    "inputpath_mask = '/bettik/burgardc/SCRIPTS/basal_melt_param/data/interim/ANTARCTICA_IS_MASKS/nemo_5km_OPM006/'\n",
    "file_isf_orig = xr.open_dataset(inputpath_mask+'nemo_5km_isf_masks_and_info_and_distance_new.nc')\n",
    "nonnan_Nisf = file_isf_orig['Nisf'].where(np.isfinite(file_isf_orig['front_bot_depth_max']), drop=True).astype(int)\n",
    "file_isf_nonnan = file_isf_orig.sel(Nisf=nonnan_Nisf)\n",
    "large_isf = file_isf_nonnan['Nisf'].where(file_isf_nonnan['isf_area_here'] >= 2500, drop=True)\n",
    "file_isf = file_isf_nonnan.sel(Nisf=large_isf)\n",
    "file_isf['isf_name'] = file_isf['isf_name'].where(file_isf['isf_name'] != 'Ekstrom', np.array('Ekström', dtype=object))\n",
    "isf_names = file_isf['isf_name']"
   ]
  },
  {
   "cell_type": "code",
   "execution_count": null,
   "id": "eba1469c-ddec-4896-9645-87b5bb3c285e",
   "metadata": {},
   "outputs": [],
   "source": [
    "region_list = []\n",
    "for kisf in file_isf.Nisf:\n",
    "    if file_isf['isf_name'].sel(Nisf=kisf).values in ['Ross','Nickerson','Sulzberger', 'Cook']:\n",
    "        region_list.append('East and West Ross')\n",
    "    elif file_isf['isf_name'].sel(Nisf=kisf).values in ['Filchner','Ronne']:\n",
    "        region_list.append('Weddell')        \n",
    "    elif file_isf['isf_name'].sel(Nisf=kisf).values in ['Ekström','Nivl','Prince Harald','Riiser-Larsen','Fimbul','Roi Baudouin','Lazarev','Stancomb Brunt','Jelbart','Borchgrevink']:\n",
    "        region_list.append('Dronning Maud Land')\n",
    "    elif file_isf['isf_name'].sel(Nisf=kisf).values in ['Getz','Thwaites','Crosson','Dotson','Cosgrove','Pine Island']:\n",
    "        region_list.append('Amundsen')\n",
    "    elif file_isf['isf_name'].sel(Nisf=kisf).values in ['Venable','George VI','Abbot','Stange','Larsen C','Bach','Larsen D','Wilkins']:\n",
    "        region_list.append('Peninsula and Bellinghausen')\n",
    "    elif file_isf['isf_name'].sel(Nisf=kisf).values in ['Amery','Moscow Univ.','Tracy Tremenchus','Totten','West','Shackleton']:\n",
    "        region_list.append('East Antarctica')\n",
    "    else:\n",
    "        print('Argh, help me, '+file_isf['isf_name'].sel(Nisf=kisf).values+' has no region assigned!')\n",
    "# 6 regions\n",
    "# regions = ['East and West Ross','Weddell','Dronning Maud Land','Amundsen','Peninsula and Bellinghausen','East Antarctica']\n",
    "file_isf['region'] = xr.DataArray(data=region_list,dims='Nisf')\n",
    "\n",
    "regions = ['Weddell','Peninsula and Bellinghausen','Amundsen','East and West Ross','East Antarctica','Dronning Maud Land']"
   ]
  },
  {
   "cell_type": "code",
   "execution_count": null,
   "id": "dd426fb1-f69c-41d4-9dd0-e02de0adabd4",
   "metadata": {},
   "outputs": [],
   "source": [
    "nisf_by_reg_list = []\n",
    "for rr, reg in enumerate(regions):\n",
    "    subset_isf = file_isf.Nisf.where(file_isf['region']==reg,drop=True)\n",
    "    nisf_by_reg_list.append(subset_isf.values)\n",
    "nisf_by_reg_list = np.concatenate(nisf_by_reg_list)"
   ]
  },
  {
   "cell_type": "code",
   "execution_count": null,
   "id": "d70b99e9-6f77-4acf-8b79-1aa959fde62c",
   "metadata": {},
   "outputs": [],
   "source": [
    "var_list = ['dGL', 'dIF', 'corrected_isfdraft', 'bathy_metry', 'slope_bed_lon',\n",
    "       'slope_bed_lat', 'slope_ice_lon', 'slope_ice_lat', 'isf_area',\n",
    "       'entry_depth_max', 'isfdraft_conc', 'u_tide', 'T_001', 'T_002',\n",
    "       'T_003', 'T_004', 'T_005', 'T_006', 'T_007', 'T_008', 'T_009',\n",
    "       'T_010', 'T_011', 'T_012', 'T_013', 'T_014', 'T_015', 'T_016',\n",
    "       'T_017', 'T_018', 'T_019', 'T_020', 'T_021', 'T_022', 'T_023',\n",
    "       'T_024', 'T_025', 'T_026', 'T_027', 'T_028', 'T_029', 'T_030',\n",
    "       'T_031', 'T_032', 'T_033', 'T_034', 'T_035', 'T_036', 'T_037',\n",
    "       'T_038', 'T_039', 'T_040', 'T_041', 'T_042', 'T_043', 'T_044',\n",
    "       'T_045', 'T_046', 'T_047', 'T_048', 'T_049', 'T_050', 'T_051',\n",
    "       'T_052', 'T_053', 'T_054', 'T_055', 'T_056', 'T_057', 'T_058',\n",
    "       'T_059', 'T_060', 'T_061', 'T_062', 'T_063', 'T_064', 'T_065',\n",
    "       'T_066', 'T_067', 'T_068', 'S_001', 'S_002', 'S_003', 'S_004',\n",
    "       'S_005', 'S_006', 'S_007', 'S_008', 'S_009', 'S_010', 'S_011',\n",
    "       'S_012', 'S_013', 'S_014', 'S_015', 'S_016', 'S_017', 'S_018',\n",
    "       'S_019', 'S_020', 'S_021', 'S_022', 'S_023', 'S_024', 'S_025',\n",
    "       'S_026', 'S_027', 'S_028', 'S_029', 'S_030', 'S_031', 'S_032',\n",
    "       'S_033', 'S_034', 'S_035', 'S_036', 'S_037', 'S_038', 'S_039',\n",
    "       'S_040', 'S_041', 'S_042', 'S_043', 'S_044', 'S_045', 'S_046',\n",
    "       'S_047', 'S_048', 'S_049', 'S_050', 'S_051', 'S_052', 'S_053',\n",
    "       'S_054', 'S_055', 'S_056', 'S_057', 'S_058', 'S_059', 'S_060',\n",
    "       'S_061', 'S_062', 'S_063', 'S_064', 'S_065', 'S_066', 'S_067',\n",
    "       'S_068', 'water_column']"
   ]
  },
  {
   "cell_type": "code",
   "execution_count": null,
   "id": "160123fe-15ee-47cd-a5ab-a0dc2897104a",
   "metadata": {},
   "outputs": [],
   "source": [
    "var_list = ['dGL', 'dIF', 'corrected_isfdraft', 'bathy_metry', 'slope_bed_lon',\n",
    "       'slope_bed_lat', 'slope_ice_lon', 'slope_ice_lat', 'isf_area',\n",
    "       'entry_depth_max', 'isfdraft_conc', 'u_tide', 'water_column', 'T_profiles', 'S_profiles']"
   ]
  },
  {
   "cell_type": "code",
   "execution_count": null,
   "id": "fc5bc23f-6167-43ce-87b2-ae27d179fe71",
   "metadata": {},
   "outputs": [],
   "source": [
    "var_list = ['corrected_isfdraft', 'bathy_metry', 'slope_bed_lon',\n",
    "           'slope_bed_lat', 'slope_ice_lon', 'slope_ice_lat', 'isf_area',\n",
    "           'entry_depth_max', 'isfdraft_conc', 'u_tide', 'theta_in', 'salinity_in', 'water_column']"
   ]
  },
  {
   "cell_type": "code",
   "execution_count": null,
   "id": "cc75d72f-9cf7-4f7c-a116-f745380f08ac",
   "metadata": {},
   "outputs": [],
   "source": [
    "#run_list = ['OPM006','OPM016','OPM018','OPM021','OPM026','OPM027','OPM031']\n",
    "#run_list = ['OPM006','OPM016','OPM018','OPM021','OPM026','OPM027','OPM031-2'] #'OPM031-1',\n",
    "run_list = ['OPM021','OPM027']  #\n",
    "#timetag_list = ['20220427-0957','20220427-1002',\n",
    "#                '20220427-1052','20220427-1021',\n",
    "#                '20220427-1058','20220427-1042',\n",
    "#                '20220427-1059','20220427-1051']\n",
    "timetag_list = ['20220427-1051'] #'20220427-1051' '20220427-1059'\n",
    "\n",
    "diff_Gt_list = []\n",
    "diff_box1_list = []\n",
    "\n",
    "diff_Gt_orig_list = []\n",
    "diff_box1_orig_list = []\n",
    "\n",
    "ref_Gt_list = []\n",
    "ref_box1_list = []\n",
    "\n",
    "\n",
    "for sv, shuff_var in enumerate(var_list):\n",
    "    print(shuff_var)\n",
    "    \n",
    "    diff_Gt_nrun_list = []\n",
    "    diff_box1_nrun_list = []\n",
    "\n",
    "    for n,nemo_run0 in enumerate(run_list):\n",
    "\n",
    "        if nemo_run0 in ['OPM031-1','OPM031-2']:\n",
    "            nemo_run = 'OPM031'\n",
    "        else:\n",
    "            nemo_run = nemo_run0\n",
    "        \n",
    "            \n",
    "        #print(nemo_run0)\n",
    "        outputpath_melt = home_path+'DATA/BASAL_MELT_PARAM/processed/MELT_RATE/nemo_5km_'+nemo_run+'/'\n",
    "\n",
    "        ### READ IN THE REFERENCE\n",
    "        NEMO_melt_rates_1D = xr.open_dataset(outputpath_melt+'melt_rates_1D_NEMO.nc')\n",
    "        ref_Gt = NEMO_melt_rates_1D['melt_Gt_per_y_tot']\n",
    "\n",
    "        NEMO_box1_myr = xr.open_dataset(outputpath_melt+'melt_rates_box1_NEMO.nc')\n",
    "        ref_box1 = NEMO_box1_myr['mean_melt_box1_myr']\n",
    "    \n",
    "        if sv == 0:\n",
    "            ref_Gt_list.append(ref_Gt)\n",
    "            ref_box1_list.append(ref_box1)\n",
    "\n",
    "        ### READ IN THE PARAM FILES - NON BOOTSTRAP\n",
    "\n",
    "        # Param files\n",
    "\n",
    "\n",
    "        diff_Gt_sub_list = []\n",
    "        diff_box1_sub_list = []\n",
    "\n",
    "        for timetag in timetag_list:\n",
    "\n",
    "            outputpath_melt_nn = '/bettik/burgardc/DATA/NN_PARAM/processed/MELT_RATE/'\n",
    "            new_path_output = outputpath_melt_nn+timetag+'/'\n",
    "            \n",
    "            #print(nemo_run0)\n",
    "            ds_melt_param = xr.open_dataset(new_path_output+'eval_metrics_'+nemo_run0+'.nc')\n",
    "\n",
    "            diff_Gt = ds_melt_param['melt_1D_Gt_per_y'] - ref_Gt\n",
    "            diff_box1 = ds_melt_param['melt_1D_mean_myr_box1'].mean('time') - ref_box1.mean('time')\n",
    "\n",
    "            if sv == 0:\n",
    "                diff_Gt_orig_list.append(diff_Gt)\n",
    "                diff_box1_orig_list.append(diff_box1)    \n",
    "            \n",
    "            ds_melt_param = xr.open_dataset(new_path_output+'eval_metrics_'+nemo_run0+'_shuffled'+shuff_var+'.nc')\n",
    "\n",
    "            diff_Gt = ds_melt_param['melt_1D_Gt_per_y'] - ref_Gt\n",
    "            diff_Gt_sub_list.append(diff_Gt)\n",
    "\n",
    "            diff_box1 = ds_melt_param['melt_1D_mean_myr_box1'].mean('time') - ref_box1.mean('time')\n",
    "            diff_box1_sub_list.append(diff_box1)    \n",
    "\n",
    "        diff_Gt_sub = xr.concat(diff_Gt_sub_list, dim='nn_model')\n",
    "        diff_Gt_sub = diff_Gt_sub.assign_coords(nn_model=timetag_list)\n",
    "        diff_box1_sub = xr.concat(diff_box1_sub_list, dim='nn_model') \n",
    "        diff_box1_sub = diff_box1_sub.assign_coords(nn_model=timetag_list)\n",
    "        \n",
    "        diff_Gt_nrun_list.append(diff_Gt_sub) \n",
    "        diff_box1_nrun_list.append(diff_box1_sub) \n",
    "\n",
    "    diff_Gt_nrun = xr.concat(diff_Gt_nrun_list, dim='nemo_run')   \n",
    "    diff_Gt_nrun = diff_Gt_nrun.assign_coords(nemo_run=run_list)\n",
    "    diff_box1_nrun = xr.concat(diff_box1_nrun_list, dim='nemo_run')   \n",
    "    diff_box1_nrun = diff_box1_nrun.assign_coords(nemo_run=run_list)\n",
    "        \n",
    "    diff_Gt_list.append(diff_Gt_nrun)    \n",
    "    diff_box1_list.append(diff_box1_nrun)\n",
    "\n",
    "diff_Gt_all = xr.concat(diff_Gt_list, dim='shuffled_var')   \n",
    "diff_Gt_all = diff_Gt_all.assign_coords(shuffled_var=var_list)\n",
    "diff_box1_all = xr.concat(diff_box1_list, dim='shuffled_var')   \n",
    "diff_box1_all = diff_box1_all.assign_coords(shuffled_var=var_list)\n",
    "\n",
    "ref_Gt_all = xr.concat(ref_Gt_list, dim='nemo_run')\n",
    "ref_Gt_all = ref_Gt_all.assign_coords(nemo_run=run_list)\n",
    "ref_box1_all = xr.concat(ref_box1_list, dim='nemo_run')\n",
    "ref_box1_all = ref_box1_all.assign_coords(nemo_run=run_list)\n",
    "\n",
    "diff_Gt_orig = xr.concat(diff_Gt_orig_list, dim='nemo_run')\n",
    "diff_Gt_orig = diff_Gt_orig.assign_coords(nemo_run=run_list)\n",
    "diff_box1_orig = xr.concat(diff_box1_orig_list, dim='nemo_run')\n",
    "diff_box1_orig = diff_box1_orig.assign_coords(nemo_run=run_list)"
   ]
  },
  {
   "cell_type": "code",
   "execution_count": null,
   "id": "8029f82c-849c-4172-8c90-6bfc8d1887e6",
   "metadata": {},
   "outputs": [],
   "source": [
    "RMSE_Gt_all = np.sqrt((diff_Gt_all**2).mean(['time','Nisf']))\n",
    "RMSE_box1_all = np.sqrt((diff_box1_all**2).mean(['Nisf']))"
   ]
  },
  {
   "cell_type": "code",
   "execution_count": null,
   "id": "a8611e41-310a-4c5d-8a65-86923a441138",
   "metadata": {},
   "outputs": [],
   "source": [
    "RMSE_Gt_orig = np.sqrt((diff_Gt_orig**2).mean(['time','Nisf']))\n",
    "RMSE_box1_orig = np.sqrt((diff_box1_orig**2).mean(['Nisf']))"
   ]
  },
  {
   "cell_type": "code",
   "execution_count": null,
   "id": "2c97ff48-cc3e-428f-9455-383d5b2c8719",
   "metadata": {},
   "outputs": [],
   "source": [
    "RMSE_Gt_orig"
   ]
  },
  {
   "cell_type": "code",
   "execution_count": null,
   "id": "2cdb97de-08da-473d-ab82-283f032f2f80",
   "metadata": {},
   "outputs": [],
   "source": [
    "RMSE_Gt_all.sel(shuffled_var='u_tide')"
   ]
  },
  {
   "cell_type": "code",
   "execution_count": null,
   "id": "f7a81edd-bb69-44fe-b0bc-17941816725c",
   "metadata": {},
   "outputs": [],
   "source": [
    "RMSE_Gt_orig"
   ]
  },
  {
   "cell_type": "code",
   "execution_count": null,
   "id": "d47df857-ccfc-446a-80b0-84d6fea03435",
   "metadata": {},
   "outputs": [],
   "source": [
    "diff_RMSE_Gt = RMSE_Gt_all - RMSE_Gt_orig\n",
    "diff_RMSE_box1 = RMSE_box1_all - RMSE_box1_orig\n",
    "\n",
    "\n",
    "\n",
    "fig, axs = plt.subplots(1, 2,figsize=(8.24*1.25/1.5,8.24*1.25/2),sharey=True)\n",
    "#plt.figure()\n",
    "\n",
    "for var in var_list[::-1]:\n",
    "    \n",
    "    for nrun in run_list:\n",
    "\n",
    "        if nrun == 'OPM006':\n",
    "            ccolor= 'magenta'\n",
    "        elif nrun == 'OPM016':\n",
    "            ccolor= 'orange'\n",
    "        elif nrun == 'OPM018':\n",
    "            ccolor= 'brown'\n",
    "        elif nrun == 'OPM021':\n",
    "            ccolor = 'red'\n",
    "        elif nrun == 'OPM026':\n",
    "            ccolor = 'yellowgreen'\n",
    "        elif nrun == 'OPM027':\n",
    "            ccolor = 'deepskyblue'\n",
    "        elif nrun == 'OPM031-1':\n",
    "            ccolor = 'blue'\n",
    "        elif nrun == 'OPM031-2':\n",
    "            ccolor = 'purple'\n",
    "\n",
    "        axs[0].scatter(diff_RMSE_Gt.isel(nn_model=0).sel(shuffled_var=var,nemo_run=nrun),var,marker='o',c=ccolor)\n",
    "        axs[1].scatter(diff_RMSE_box1.isel(nn_model=0).sel(shuffled_var=var,nemo_run=nrun),var,marker='o',c=ccolor)\n",
    "\n",
    "#axs[0].set_xlim(0,20)\n",
    "sns.despine()\n"
   ]
  },
  {
   "cell_type": "code",
   "execution_count": null,
   "id": "9e39fa98-5171-43a5-a8c1-c0562f0e899a",
   "metadata": {},
   "outputs": [],
   "source": [
    "sub_varlist = ['dGL', 'dIF', 'corrected_isfdraft', 'bathy_metry', 'slope_bed_lon',\n",
    "       'slope_bed_lat', 'slope_ice_lon', 'slope_ice_lat', 'isf_area',\n",
    "       'entry_depth_max', 'isfdraft_conc', 'u_tide','water_column']"
   ]
  },
  {
   "cell_type": "code",
   "execution_count": null,
   "id": "0d8f3b24-e052-4ac7-be03-9666de553e0b",
   "metadata": {},
   "outputs": [],
   "source": [
    "len(sub_varlist)"
   ]
  },
  {
   "cell_type": "code",
   "execution_count": null,
   "id": "cd54c983-0721-4d6b-9406-975a22f75490",
   "metadata": {},
   "outputs": [],
   "source": [
    "diff_RMSE_Gt.isel(nn_model=0,nemo_run=0).sel(shuffled_var=sub_varlist).round(2).values.shape"
   ]
  },
  {
   "cell_type": "code",
   "execution_count": null,
   "id": "3d84f5d5-11dd-4dcf-9016-56067128a11c",
   "metadata": {},
   "outputs": [],
   "source": [
    "\n",
    "plt.figure()\n",
    "sns.heatmap(diff_RMSE_Gt.isel(nn_model=0).sel(shuffled_var=sub_varlist).round(2).rename('diff_RMSE'), annot=True, center=0, cmap=mpl.cm.Reds, yticklabels=sub_varlist)\n"
   ]
  },
  {
   "cell_type": "code",
   "execution_count": null,
   "id": "afbb14a2-a8d1-4724-a82d-e04b14090978",
   "metadata": {},
   "outputs": [],
   "source": [
    "\n",
    "plt.figure()\n",
    "sns.heatmap(diff_RMSE_box1.isel(nn_model=0).sel(shuffled_var=sub_varlist).round(2).rename('diff_RMSE'), annot=True, center=0, cmap=mpl.cm.Reds, yticklabels=sub_varlist)\n"
   ]
  },
  {
   "cell_type": "code",
   "execution_count": null,
   "id": "57788ec1-599a-4af6-9ee7-b29ad75cb76b",
   "metadata": {},
   "outputs": [],
   "source": [
    "plt.figure()\n",
    "sns.heatmap(diff_RMSE_Gt.isel(nn_model=0).sel(shuffled_var=var_list).round(2).rename('diff_RMSE'), annot=True, center=0, cmap=mpl.cm.Reds, yticklabels=var_list, xticklabels=run_list)\n",
    "plt.savefig(plot_path+'permutation_importance_Gt_yr_'+timetag+'.png')"
   ]
  },
  {
   "cell_type": "code",
   "execution_count": null,
   "id": "0ca02c14-5a39-4c6c-b102-f74bf670647e",
   "metadata": {},
   "outputs": [],
   "source": [
    "plt.figure()\n",
    "sns.heatmap(diff_RMSE_box1.isel(nn_model=0).sel(shuffled_var=var_list).round(2).rename('diff_RMSE'), annot=True, center=0, cmap=mpl.cm.Reds, yticklabels=var_list, xticklabels=run_list)\n",
    "plt.savefig(plot_path+'permutation_importance_box1_'+timetag+'.png')"
   ]
  },
  {
   "cell_type": "code",
   "execution_count": null,
   "id": "a9c111f6-219a-4e00-916e-5dfbf9dc13f2",
   "metadata": {},
   "outputs": [],
   "source": [
    "diff_RMSE_Gt.sel(shuffled_var='T_profiles')"
   ]
  },
  {
   "cell_type": "code",
   "execution_count": null,
   "id": "88d263bb-ddac-4d12-a8c7-b7263b8baf53",
   "metadata": {},
   "outputs": [],
   "source": [
    "plot_path"
   ]
  },
  {
   "cell_type": "code",
   "execution_count": null,
   "id": "11b4ad5f-f0e8-4a81-b8f5-cc30b73bfc34",
   "metadata": {},
   "outputs": [],
   "source": []
  }
 ],
 "metadata": {
  "kernelspec": {
   "display_name": "neuralnet",
   "language": "python",
   "name": "neuralnet"
  },
  "language_info": {
   "codemirror_mode": {
    "name": "ipython",
    "version": 3
   },
   "file_extension": ".py",
   "mimetype": "text/x-python",
   "name": "python",
   "nbconvert_exporter": "python",
   "pygments_lexer": "ipython3",
   "version": "3.9.4"
  }
 },
 "nbformat": 4,
 "nbformat_minor": 5
}
