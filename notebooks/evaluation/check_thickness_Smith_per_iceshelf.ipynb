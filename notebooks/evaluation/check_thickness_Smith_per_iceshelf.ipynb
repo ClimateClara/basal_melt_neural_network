{
 "cells": [
  {
   "cell_type": "code",
   "execution_count": null,
   "id": "ca8bd17d-4448-4351-8ce7-0a5c627ba338",
   "metadata": {},
   "outputs": [],
   "source": [
    "\"\"\"\n",
    "Created on Thu Mar 30 11:42 2023\n",
    "\n",
    "This script is to check the reference melt for all ice shelves\n",
    "\n",
    "@author: Clara Burgard\n",
    "\"\"\""
   ]
  },
  {
   "cell_type": "code",
   "execution_count": null,
   "id": "80f43a71-b931-4d24-932c-1e25994697e3",
   "metadata": {},
   "outputs": [],
   "source": [
    "import xarray as xr\n",
    "import numpy as np\n",
    "import pandas as pd\n",
    "from tqdm.notebook import tqdm\n",
    "import matplotlib.pyplot as plt\n",
    "import basal_melt_param.useful_functions as uf\n",
    "import basal_melt_param.melt_functions as meltf\n",
    "from basal_melt_param.constants import *\n",
    "import basal_melt_param.T_S_profile_functions as tspf\n",
    "import seaborn as sns\n",
    "from matplotlib import cm\n",
    "import cartopy\n",
    "import cartopy.crs as ccrs\n",
    "import matplotlib as mpl\n",
    "import cmocean\n",
    "import glob"
   ]
  },
  {
   "cell_type": "code",
   "execution_count": null,
   "id": "ae03a848-73d9-4058-8e69-779f3d3a0d9a",
   "metadata": {},
   "outputs": [],
   "source": [
    "%matplotlib qt5"
   ]
  },
  {
   "cell_type": "markdown",
   "id": "ef4430f3-b80e-4b0b-9bf9-a2634cb8e660",
   "metadata": {},
   "source": [
    "FIXED MASK FILE FOR OPM016"
   ]
  },
  {
   "cell_type": "code",
   "execution_count": null,
   "id": "e0fd25ee-6c4f-4e03-99db-5376238ce0cb",
   "metadata": {},
   "outputs": [],
   "source": [
    "# make the domain a little smaller to make the computation even more efficient - file isf has already been made smaller at its creation\n",
    "map_lim = [-3000000,3000000]"
   ]
  },
  {
   "cell_type": "code",
   "execution_count": null,
   "id": "91be6e6f-a4aa-46c3-ae33-0acafed3b9a5",
   "metadata": {},
   "outputs": [],
   "source": [
    "inputpath_mask = '/bettik/burgardc/SCRIPTS/basal_melt_param/data/interim/ANTARCTICA_IS_MASKS/nemo_5km_OPM016/'\n",
    "file_isf_orig = xr.open_dataset(inputpath_mask+'nemo_5km_isf_masks_and_info_and_distance_new_oneFRIS.nc')\n",
    "home_path = '/bettik/burgardc/'\n",
    "plot_path='/bettik/burgardc/PLOTS/NN_plots/input_vars/'"
   ]
  },
  {
   "cell_type": "markdown",
   "id": "81961660-446b-4222-82de-86473eef5581",
   "metadata": {},
   "source": [
    "RUN ONCE"
   ]
  },
  {
   "cell_type": "code",
   "execution_count": null,
   "id": "b25f85f9-d1d8-427e-a54b-142d5fbef90f",
   "metadata": {},
   "outputs": [],
   "source": [
    "all_kisf_allruns_list = []\n",
    "\n",
    "for nemo_run in ['bf663','bi646']:\n",
    "    ref_Gt_time_list = []\n",
    "    ref_box1_time_list = []\n",
    "    \n",
    "    inputpath_data='/bettik/burgardc/DATA/NN_PARAM/interim/SMITH_'+nemo_run+'/'\n",
    "    file_other = xr.open_dataset(inputpath_data+'corrected_draft_bathy_isf.nc')\n",
    "    file_other_cut = uf.cut_domain_stereo(file_other, map_lim, map_lim)#.chunk(chunks={'x': chunk_size, 'y': chunk_size})\n",
    "\n",
    "    file_conc = xr.open_dataset(inputpath_data+'isfdraft_conc_Ant_stereo.nc')\n",
    "    file_conc_cut = uf.cut_domain_stereo(file_conc, map_lim, map_lim)\n",
    "\n",
    "    inputpath_mask='/bettik/burgardc/DATA/NN_PARAM/interim/ANTARCTICA_IS_MASKS/SMITH_'+nemo_run+'/'\n",
    "\n",
    "    all_kisf_allyy_list = []\n",
    "    #for yy in tqdm(range(1980, 1982)):\n",
    "    for yy in tqdm(range(1980, 1980 + 60)):\n",
    "        \n",
    "        \n",
    "        file_isf_orig = xr.open_mfdataset(inputpath_mask+'nemo_5km_isf_masks_and_info_and_distance_oneFRIS_'+str(yy)+'.nc').drop('time')\n",
    "        nonnan_Nisf = file_isf_orig['Nisf'].where(np.isfinite(file_isf_orig['front_bot_depth_max']), drop=True).astype(int)\n",
    "        file_isf_nonnan = file_isf_orig.sel(Nisf=nonnan_Nisf)\n",
    "        large_isf = file_isf_nonnan['Nisf'].where(file_isf_nonnan['isf_area_here'] >= 2500, drop=True)\n",
    "        file_isf = file_isf_nonnan.sel(Nisf=large_isf)\n",
    "        \n",
    "        ice_draft_pos = file_other_cut['corrected_isfdraft'].sel(time=yy).drop('time')\n",
    "        file_isf_conc = file_conc_cut['isfdraft_conc'].sel(time=yy).drop('time')\n",
    "\n",
    "        isf_stack_mask = uf.create_stacked_mask(file_isf['ISF_mask'], file_isf.Nisf, ['y','x'], 'mask_coord')\n",
    "        \n",
    "        kisf_list = []\n",
    "        for kisf in file_isf.Nisf:\n",
    "            \n",
    "            ice_draft_kisf = uf.choose_isf(ice_draft_pos,isf_stack_mask, kisf)\n",
    "            isf_conc_kisf = uf.choose_isf(file_isf_conc,isf_stack_mask, kisf)\n",
    "\n",
    "            ice_draft_kisf_mean = ice_draft_kisf.mean('mask_coord').assign_coords({'Nisf': kisf})\n",
    "            ice_draft_kisf_weighted_mean = uf.weighted_mean(ice_draft_kisf, ['mask_coord'], isf_conc_kisf)\n",
    "            kisf_list.append(xr.merge([ice_draft_kisf_mean,ice_draft_kisf_weighted_mean.to_dataset(name='weighted_isf_draft_mean')]))\n",
    "                            \n",
    "        all_kisf = xr.concat(kisf_list, dim='Nisf')    \n",
    "        all_kisf_allyy_list.append(all_kisf.assign_coords({'time': yy}))\n",
    "\n",
    "    \n",
    "    all_kisf_allyy = xr.concat(all_kisf_allyy_list, dim='time')\n",
    "    all_kisf_allyy.to_netcdf(inputpath_mask + 'mean_ice_shelf_draft_per_isf_'+nemo_run+'.nc')\n"
   ]
  },
  {
   "cell_type": "code",
   "execution_count": null,
   "id": "299bd29d-c5ed-4bc6-9650-c37e503e7be2",
   "metadata": {},
   "outputs": [],
   "source": [
    "all_kisf_allyy_bi646 = xr.open_dataset('/bettik/burgardc/DATA/NN_PARAM/interim/ANTARCTICA_IS_MASKS/SMITH_bi646/mean_ice_shelf_draft_per_isf_bi646.nc').assign_coords({'nemo_run':'bi646'})\n",
    "all_kisf_allyy_bf663 = xr.open_dataset('/bettik/burgardc/DATA/NN_PARAM/interim/ANTARCTICA_IS_MASKS/SMITH_bf663/mean_ice_shelf_draft_per_isf_bf663.nc').assign_coords({'nemo_run':'bf663'})"
   ]
  },
  {
   "cell_type": "code",
   "execution_count": null,
   "id": "06145838-b742-4efe-b207-835a9f1572ca",
   "metadata": {},
   "outputs": [],
   "source": [
    "ice_draft_kisf_weighted_mean.load()"
   ]
  },
  {
   "cell_type": "code",
   "execution_count": null,
   "id": "1dbfd97b-0d8d-4399-9ae2-72970d8fedbd",
   "metadata": {},
   "outputs": [],
   "source": [
    "all_kisf_list = []\n",
    "\n",
    "\n",
    "for nemo_run in ['OPM006','OPM016','OPM018','OPM021']:\n",
    "    ref_Gt_time_list = []\n",
    "    ref_box1_time_list = []\n",
    "    \n",
    "    inputpath_data='/bettik/burgardc/SCRIPTS/basal_melt_param/data/interim/NEMO_eORCA025.L121_'+nemo_run+'_ANT_STEREO/'\n",
    "    file_other = xr.open_dataset(inputpath_data+'corrected_draft_bathy_isf.nc')\n",
    "    file_other_cut = uf.cut_domain_stereo(file_other, map_lim, map_lim)#.chunk(chunks={'x': chunk_size, 'y': chunk_size})\n",
    "\n",
    "    file_conc = xr.open_dataset(inputpath_data+'isfdraft_conc_Ant_stereo.nc')\n",
    "    file_conc_cut = uf.cut_domain_stereo(file_conc, map_lim, map_lim)\n",
    "\n",
    "    inputpath_mask='/bettik/burgardc/SCRIPTS/basal_melt_param/data/interim/ANTARCTICA_IS_MASKS/nemo_5km_'+nemo_run+'/'\n",
    "    file_isf_orig = xr.open_mfdataset(inputpath_mask+'nemo_5km_isf_masks_and_info_and_distance_new_oneFRIS.nc')\n",
    "    nonnan_Nisf = file_isf_orig['Nisf'].where(np.isfinite(file_isf_orig['front_bot_depth_max']), drop=True).astype(int)\n",
    "    file_isf_nonnan = file_isf_orig.sel(Nisf=nonnan_Nisf)\n",
    "    large_isf = file_isf_nonnan['Nisf'].where(file_isf_nonnan['isf_area_here'] >= 2500, drop=True)\n",
    "    file_isf = file_isf_nonnan.sel(Nisf=large_isf)\n",
    "\n",
    "    ice_draft_pos = file_other_cut['corrected_isfdraft']\n",
    "    file_isf_conc = file_conc_cut['isfdraft_conc']\n",
    "\n",
    "    isf_stack_mask = uf.create_stacked_mask(file_isf['ISF_mask'], file_isf.Nisf, ['y','x'], 'mask_coord')\n",
    "\n",
    "    kisf_list = []\n",
    "    for kisf in file_isf.Nisf:\n",
    "\n",
    "        ice_draft_kisf = uf.choose_isf(ice_draft_pos,isf_stack_mask, kisf)\n",
    "        isf_conc_kisf = uf.choose_isf(file_isf_conc,isf_stack_mask, kisf)\n",
    "\n",
    "        ice_draft_kisf_mean = ice_draft_kisf.mean('mask_coord').assign_coords({'Nisf': kisf})\n",
    "        ice_draft_kisf_weighted_mean = uf.weighted_mean(ice_draft_kisf, ['mask_coord'], isf_conc_kisf)\n",
    "        kisf_list.append(xr.merge([ice_draft_kisf_mean,ice_draft_kisf_weighted_mean.to_dataset(name='weighted_isf_draft_mean')]))\n",
    "\n",
    "    all_kisf = xr.concat(kisf_list, dim='Nisf')    \n",
    "    all_kisf_list.append(all_kisf.assign_coords({'nemo_run': nemo_run}))\n",
    "\n",
    "all_kisf_allruns = xr.concat(all_kisf_list, dim='nemo_run')\n",
    "        "
   ]
  },
  {
   "cell_type": "code",
   "execution_count": null,
   "id": "bd0a5633-09f1-4bf1-9cd5-8b4386a21056",
   "metadata": {},
   "outputs": [],
   "source": [
    "all_kisf_allruns.to_netcdf(inputpath_mask + 'mean_ice_shelf_draft_per_isf_Mathiot.nc')"
   ]
  },
  {
   "cell_type": "code",
   "execution_count": null,
   "id": "68401e5e-3a9d-4924-908f-46c7069a997c",
   "metadata": {},
   "outputs": [],
   "source": [
    "all_kisf_allruns_MandS = xr.concat([all_kisf_allruns,all_kisf_allyy_bf663,all_kisf_allyy_bi646],dim='nemo_run')"
   ]
  },
  {
   "cell_type": "code",
   "execution_count": null,
   "id": "dd3487be-43da-4eca-8cda-1c2684602dcc",
   "metadata": {},
   "outputs": [],
   "source": [
    "all_kisf_allruns_MandS"
   ]
  },
  {
   "cell_type": "code",
   "execution_count": null,
   "id": "402dd174-1045-40ec-b941-436285538d74",
   "metadata": {},
   "outputs": [],
   "source": [
    "ref_Gt_all = xr.concat(ref_Gt_list, dim='nemo_run')\n",
    "ref_box1_all = xr.concat(ref_box1_list, dim='nemo_run')"
   ]
  },
  {
   "cell_type": "code",
   "execution_count": null,
   "id": "2684358e-fbfe-4ad9-9e0d-195e96b2580f",
   "metadata": {},
   "outputs": [],
   "source": [
    "ref_Gt_all = ref_Gt_all.assign_coords({'time': range(1,len(ref_Gt_all.time)+1)})\n",
    "ref_box1_all = ref_box1_all.assign_coords({'time': range(1,len(ref_box1_all.time)+1)})"
   ]
  },
  {
   "cell_type": "code",
   "execution_count": null,
   "id": "eff80359-05eb-40d2-af8c-46240c88cbea",
   "metadata": {},
   "outputs": [],
   "source": [
    "regions = ['Weddell','Bellingshausen','Amundsen','Ross','East 1','East 2','Dronning Maud Land']\n",
    "\n",
    "f = plt.figure()\n",
    "f.set_size_inches(8.25*1.5, 8.25*1.5)\n",
    "\n",
    "ax={}\n",
    "\n",
    "leg_hdl = []\n",
    "\n",
    "i = 0\n",
    "\n",
    "sorted_isf_all = [11,69,43,12,70,44,29,13,58,71,45,30,31,61,73,47,32,48,33,17,49,34,18,10,65,51,22,38,52,23,66,53,39,24,40,54,75,25,26,42,55] #62\n",
    "\n",
    "\n",
    "for kisf in tqdm(sorted_isf_all):\n",
    "        \n",
    "    ax[i] = f.add_subplot(7,7,i+1)\n",
    "    \n",
    "    for n,nrun in enumerate(all_kisf_allruns_MandS.nemo_run):\n",
    "        \n",
    "        if nrun == 'bf663':\n",
    "            ccolor = 'orange'\n",
    "        elif nrun == 'bi646':\n",
    "            ccolor = 'red'\n",
    "        else:\n",
    "            ccolor = 'grey'\n",
    "            \n",
    "        #if nrun in ['bf663','bi646']:\n",
    "        \n",
    "        ax[i].plot(all_kisf_allruns_MandS.time, all_kisf_allruns_MandS['corrected_isfdraft'].sel(nemo_run=nrun, Nisf=kisf), color=ccolor)\n",
    "        ax[i].plot(all_kisf_allruns_MandS.time, all_kisf_allruns_MandS['weighted_isf_draft_mean'].sel(nemo_run=nrun, Nisf=kisf), color=ccolor, linestyle='--')\n",
    "\n",
    "            \n",
    "        #else:\n",
    "        #    ax[i].axhline(y=all_kisf_allruns_MandS['corrected_isfdraft'].sel(nemo_run=nrun, Nisf=kisf).values, color=ccolor)\n",
    "        #    ax[i].axhline(y=all_kisf_allruns_MandS['weighted_isf_draft_mean'].sel(nemo_run=nrun, Nisf=kisf).values, color=ccolor, linestyle='--')\n",
    "\n",
    "    #if kisf == 23:\n",
    "    #    ax[i].set_title('Tracy Tremenchus')\n",
    "    #elif kisf == 24:\n",
    "    #    ax[i].set_title('Conger/Glenzer')\n",
    "    #elif kisf == 110:\n",
    "    #    ax[i].set_title('Ekström')\n",
    "    #else:\n",
    "    ax[i].set_title(str(file_isf_orig['isf_name'].sel(Nisf=kisf).values))\n",
    "    #ax[i].set_xlim(0,60)\n",
    "\n",
    "    i = i+1\n",
    "\n",
    "\n",
    "f.subplots_adjust(bottom=0.05, wspace=0.1)\n",
    "\n",
    "f.tight_layout()\n",
    "sns.despine()\n",
    "plt.savefig(plot_path+'timeseries_thickness_all.pdf')"
   ]
  },
  {
   "cell_type": "code",
   "execution_count": null,
   "id": "90ab108a-6fd6-4638-a25d-040e0a1be238",
   "metadata": {},
   "outputs": [],
   "source": [
    "all_kisf_allruns_MandS['corrected_isfdraft'].sel(Nisf=kisf)"
   ]
  },
  {
   "cell_type": "code",
   "execution_count": null,
   "id": "3df07a9f-576f-4042-8422-031c77893489",
   "metadata": {},
   "outputs": [],
   "source": [
    "str(file_isf_1970['isf_name'].sel(Nisf=kisf).values)"
   ]
  },
  {
   "cell_type": "code",
   "execution_count": null,
   "id": "d7c45dde-49f6-44bf-8bab-e337e74b47b7",
   "metadata": {},
   "outputs": [],
   "source": [
    "areas_bf663.Nisf.values"
   ]
  },
  {
   "cell_type": "code",
   "execution_count": null,
   "id": "d21bc6a9-c76e-49ca-b711-e4f2ed9c6488",
   "metadata": {},
   "outputs": [],
   "source": []
  }
 ],
 "metadata": {
  "kernelspec": {
   "display_name": "py38",
   "language": "python",
   "name": "py38"
  },
  "language_info": {
   "codemirror_mode": {
    "name": "ipython",
    "version": 3
   },
   "file_extension": ".py",
   "mimetype": "text/x-python",
   "name": "python",
   "nbconvert_exporter": "python",
   "pygments_lexer": "ipython3",
   "version": "3.8.12"
  }
 },
 "nbformat": 4,
 "nbformat_minor": 5
}
