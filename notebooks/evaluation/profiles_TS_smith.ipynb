{
 "cells": [
  {
   "cell_type": "code",
   "execution_count": null,
   "id": "20dd54b7-0fa4-4fe9-9836-1c8064693aae",
   "metadata": {},
   "outputs": [],
   "source": [
    "\"\"\"\n",
    "Created on Fri Jan 27 16:14 2023\n",
    "\n",
    "This script is to check the input T and S profiles from Smith\n",
    "\n",
    "@author: Clara Burgard\n",
    "\"\"\""
   ]
  },
  {
   "cell_type": "code",
   "execution_count": null,
   "id": "2aeb91b8-c747-4274-986b-9555aa59dd2e",
   "metadata": {},
   "outputs": [],
   "source": [
    "import xarray as xr\n",
    "import numpy as np\n",
    "import pandas as pd\n",
    "from tqdm.notebook import tqdm\n",
    "import matplotlib.pyplot as plt\n",
    "import basal_melt_param.useful_functions as uf\n",
    "import basal_melt_param.melt_functions as meltf\n",
    "from basal_melt_param.constants import *\n",
    "import basal_melt_param.T_S_profile_functions as tspf\n",
    "import seaborn as sns\n",
    "from matplotlib import cm\n",
    "import cartopy\n",
    "import cartopy.crs as ccrs\n",
    "import matplotlib as mpl\n",
    "import cmocean\n",
    "import glob"
   ]
  },
  {
   "cell_type": "code",
   "execution_count": null,
   "id": "e048c6bd-e002-4ddd-8b28-19da698a49ad",
   "metadata": {},
   "outputs": [],
   "source": [
    "%matplotlib qt5"
   ]
  },
  {
   "cell_type": "markdown",
   "id": "5e591a55-902e-4d0a-b831-ae6d0c4aac61",
   "metadata": {},
   "source": [
    "READ DATA"
   ]
  },
  {
   "cell_type": "code",
   "execution_count": null,
   "id": "8d63856c-28ae-4d89-b859-5422e9f94f0a",
   "metadata": {},
   "outputs": [],
   "source": [
    "plot_path = '/bettik/burgardc/PLOTS/NN_plots/input_vars/'\n",
    "outputpath_simple_all = '/bettik/burgardc/SCRIPTS/basal_melt_param/data/interim/SIMPLE/nemo_5km_06161821/'\n"
   ]
  },
  {
   "cell_type": "code",
   "execution_count": null,
   "id": "ce65f19b-961b-4bc8-af9a-f7de8bd6875d",
   "metadata": {},
   "outputs": [],
   "source": [
    "isf_dim = [10,11,12,13,18,22,23,25,30,31,33,39,40,42,43,44,45,47,51,55,58,61,65,66,69,70,71,73,75]"
   ]
  },
  {
   "cell_type": "code",
   "execution_count": null,
   "id": "e3535d45-500c-490b-a878-788c945dacf5",
   "metadata": {},
   "outputs": [],
   "source": [
    "inputpath_profiles = '/bettik/burgardc/DATA/NN_PARAM/interim/T_S_PROF/SMITH_bi646/'\n",
    "yy_list = range(1970,1970+35)\n",
    "prof_list = []\n",
    "for yy in yy_list:\n",
    "    file_TS_yy = xr.open_dataset(inputpath_profiles+'T_S_mean_prof_corrected_km_contshelf_'+str(yy)+'.nc')\n",
    "    prof_list.append(file_TS_yy)\n",
    "    \n",
    "file_TS = xr.concat(prof_list, dim='time').assign_coords({'nemo_run': 'bi646'})\n",
    "file_TS_mean_bi646 = file_TS.mean('time')\n",
    "file_TS_std_bi646 = file_TS.std('time')"
   ]
  },
  {
   "cell_type": "code",
   "execution_count": null,
   "id": "8a54854f-e8d6-4e1f-b1ae-84206d8af28d",
   "metadata": {},
   "outputs": [],
   "source": [
    "inputpath_profiles = '/bettik/burgardc/DATA/NN_PARAM/interim/T_S_PROF/SMITH_bf663/'\n",
    "yy_list = range(1970,1970+40)\n",
    "prof_list = []\n",
    "for yy in yy_list:\n",
    "    file_TS_yy = xr.open_dataset(inputpath_profiles+'T_S_mean_prof_corrected_km_contshelf_'+str(yy)+'.nc')\n",
    "    prof_list.append(file_TS_yy)\n",
    "    \n",
    "file_TS = xr.concat(prof_list, dim='time').assign_coords({'nemo_run': 'bf663'})\n",
    "file_TS_mean_bf663 = file_TS.mean('time')\n",
    "file_TS_std_bf663 = file_TS.std('time')"
   ]
  },
  {
   "cell_type": "code",
   "execution_count": null,
   "id": "eb72abb3-c871-4ba9-96fe-866dca805517",
   "metadata": {},
   "outputs": [],
   "source": [
    "inputpath_mask = '/bettik/burgardc/DATA/NN_PARAM/interim/ANTARCTICA_IS_MASKS/SMITH_bf663/'\n",
    "file_isf_orig = xr.open_dataset(inputpath_mask+'nemo_5km_isf_masks_and_info_and_distance_oneFRIS_yy54.nc')\n",
    "file_isf = file_isf_orig.sel(Nisf = isf_dim).squeeze().drop('time')"
   ]
  },
  {
   "cell_type": "code",
   "execution_count": null,
   "id": "a1e206b3-604f-4f74-8716-f868c10fff57",
   "metadata": {},
   "outputs": [],
   "source": [
    "file_TS_mean_all = xr.concat([file_TS_mean_bf663, file_TS_mean_bi646], dim='nemo_run')\n",
    "file_TS_std_all = xr.concat([file_TS_std_bf663, file_TS_std_bi646], dim='nemo_run')"
   ]
  },
  {
   "cell_type": "code",
   "execution_count": null,
   "id": "49750c62-7fa4-4395-b585-bd98d5ab512b",
   "metadata": {},
   "outputs": [],
   "source": [
    "regions = ['Weddell','Bellingshausen','Amundsen','Ross','East 1','East 2','Dronning Maud Land']\n",
    "colors = ['red','orange','brown','magenta','yellow','cyan','blue','magenta']\n",
    "\n",
    "f = plt.figure()\n",
    "f.set_size_inches(8.25*1.5, 8.25*1.5)\n",
    "\n",
    "ax={}\n",
    "\n",
    "leg_hdl = []\n",
    "\n",
    "i = 0\n",
    "for rr,reg in enumerate(regions):\n",
    "    \n",
    "    subset_isf = file_isf.Nisf.where(file_isf['region']==reg,drop=True)\n",
    "    \n",
    "    for kisf in tqdm(subset_isf.Nisf):\n",
    "\n",
    "        mean_data = file_TS_mean_all['theta_ocean'].sel(Nisf=kisf)\n",
    "        std_data = file_TS_std_all['theta_ocean'].sel(Nisf=kisf)\n",
    "        \n",
    "        ax[i] = f.add_subplot(6,6,i+1)\n",
    "        \n",
    "        for n, nrun in enumerate(mean_data.nemo_run):\n",
    "            \n",
    "            mean_run = mean_data.sel(nemo_run=nrun)\n",
    "            std_run = std_data.sel(nemo_run=nrun)\n",
    "            \n",
    "            leg, = plt.plot(mean_run,-1*file_TS_mean_all.depth, color=colors[n], linewidth=3)\n",
    "            plt.fill_betweenx(-1*file_TS_mean_all.depth, mean_run - std_run, mean_run + std_run, -1*file_TS_mean_all.depth, alpha=0.2, color=colors[n])\n",
    "            leg_hdl.append(leg)\n",
    "            \n",
    "        \n",
    "        ax[i].set_title(str(file_isf['isf_name'].sel(Nisf=kisf).values))\n",
    "        ax[i].set_xlim(-2.2,2.5)\n",
    "        \n",
    "        i = i+1\n",
    "        \n",
    "\n",
    "f.subplots_adjust(bottom=0.05, wspace=0.1)\n",
    "\n",
    "f.tight_layout()\n",
    "sns.despine()"
   ]
  },
  {
   "cell_type": "code",
   "execution_count": null,
   "id": "3f228845-1b66-41ac-9d0e-197ecce4d7f8",
   "metadata": {},
   "outputs": [],
   "source": [
    "regions = ['Weddell','Bellingshausen','Amundsen','Ross','East 1','East 2','Dronning Maud Land']\n",
    "colors = ['red','orange','brown','magenta','yellow','cyan','blue','magenta']\n",
    "\n",
    "f = plt.figure()\n",
    "f.set_size_inches(8.25*1.5, 8.25*1.5)\n",
    "\n",
    "ax={}\n",
    "\n",
    "leg_hdl = []\n",
    "\n",
    "i = 0\n",
    "for rr,reg in enumerate(regions):\n",
    "    \n",
    "    subset_isf = file_isf.Nisf.where(file_isf['region']==reg,drop=True)\n",
    "    \n",
    "    for kisf in tqdm(subset_isf.Nisf):\n",
    "\n",
    "        mean_data = file_TS_mean_all['salinity_ocean'].sel(Nisf=kisf)\n",
    "        std_data = file_TS_std_all['salinity_ocean'].sel(Nisf=kisf)\n",
    "        \n",
    "        ax[i] = f.add_subplot(6,6,i+1)\n",
    "        \n",
    "        for n, nrun in enumerate(mean_data.nemo_run):\n",
    "            \n",
    "            mean_run = mean_data.sel(nemo_run=nrun)\n",
    "            std_run = std_data.sel(nemo_run=nrun)\n",
    "            \n",
    "            leg, = plt.plot(mean_run,-1*file_TS_mean_all.depth, color=colors[n], linewidth=3)\n",
    "            plt.fill_betweenx(-1*file_TS_mean_all.depth, mean_run - std_run, mean_run + std_run, -1*file_TS_mean_all.depth, alpha=0.2, color=colors[n])\n",
    "            leg_hdl.append(leg)\n",
    "            \n",
    "        \n",
    "        ax[i].set_title(str(file_isf['isf_name'].sel(Nisf=kisf).values))\n",
    "        ax[i].set_xlim(31,35)\n",
    "        \n",
    "        i = i+1\n",
    "        \n",
    "\n",
    "f.subplots_adjust(bottom=0.05, wspace=0.1)\n",
    "\n",
    "f.tight_layout()\n",
    "sns.despine()"
   ]
  },
  {
   "cell_type": "code",
   "execution_count": null,
   "id": "8e90d58a-e0b3-435d-8a8a-cff52e72a820",
   "metadata": {},
   "outputs": [],
   "source": []
  }
 ],
 "metadata": {
  "kernelspec": {
   "display_name": "py38",
   "language": "python",
   "name": "py38"
  },
  "language_info": {
   "codemirror_mode": {
    "name": "ipython",
    "version": 3
   },
   "file_extension": ".py",
   "mimetype": "text/x-python",
   "name": "python",
   "nbconvert_exporter": "python",
   "pygments_lexer": "ipython3",
   "version": "3.8.12"
  }
 },
 "nbformat": 4,
 "nbformat_minor": 5
}
