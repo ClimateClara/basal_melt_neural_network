{
 "cells": [
  {
   "cell_type": "code",
   "execution_count": null,
   "id": "3a2da078-92be-4065-80e4-706de1f9698b",
   "metadata": {},
   "outputs": [],
   "source": [
    "\"\"\"\n",
    "Created on Wed Apr 06 13:54 2022\n",
    "\n",
    "Evaluate model coming out of 17 inputs on one other run\n",
    "\n",
    "Author: @claraburgard\n",
    "\n",
    "\"\"\""
   ]
  },
  {
   "cell_type": "code",
   "execution_count": null,
   "id": "475db9f2-93ee-45d2-b132-fb9128757f29",
   "metadata": {},
   "outputs": [],
   "source": [
    "import numpy as np\n",
    "import xarray as xr\n",
    "from tqdm.notebook import trange, tqdm\n",
    "import glob\n",
    "import matplotlib as mpl\n",
    "import seaborn as sns\n",
    "import time\n",
    "\n",
    "import tensorflow as tf\n",
    "from tensorflow import keras\n",
    "\n",
    "from basal_melt_neural_networks.constants import *\n",
    "import basal_melt_neural_networks.diagnostic_functions as diag\n",
    "import basal_melt_neural_networks.data_formatting as dfmt\n",
    "\n",
    "import cartopy\n",
    "import cartopy.crs as ccrs"
   ]
  },
  {
   "cell_type": "code",
   "execution_count": null,
   "id": "4765180b-7ec2-47c5-ac1f-ca64fd69159e",
   "metadata": {},
   "outputs": [],
   "source": [
    "%matplotlib qt5"
   ]
  },
  {
   "cell_type": "markdown",
   "id": "8912d910-10dc-4041-85ad-58a51157d27d",
   "metadata": {},
   "source": [
    "READ IN DATA"
   ]
  },
  {
   "cell_type": "code",
   "execution_count": null,
   "id": "7e629462-b3d5-452f-8b30-b3ef4c313920",
   "metadata": {},
   "outputs": [],
   "source": [
    "nemo_run = 'OPM021'\n",
    "inputpath_data='/bettik/burgardc/SCRIPTS/basal_melt_param/data/interim/NEMO_eORCA025.L121_'+nemo_run+'_ANT_STEREO/'\n",
    "inputpath_mask = '/bettik/burgardc/SCRIPTS/basal_melt_param/data/interim/ANTARCTICA_IS_MASKS/nemo_5km_'+nemo_run+'/'\n",
    "inputpath_profiles = '/bettik/burgardc/SCRIPTS/basal_melt_param/data/interim/T_S_PROF/nemo_5km_'+nemo_run+'/'\n",
    "inputpath_plumes = '/bettik/burgardc/SCRIPTS/basal_melt_param/data/interim/PLUMES/nemo_5km_'+nemo_run+'/'\n",
    "inputpath_boxes = '/bettik/burgardc/SCRIPTS/basal_melt_param/data/interim/BOXES/nemo_5km_'+nemo_run+'/'\n",
    "outputpath_melt = '/bettik/burgardc/SCRIPTS/basal_melt_param/data/processed/MELT_RATE/nemo_5km_'+nemo_run+'/'\n",
    "outputpath_nn = '/bettik/burgardc/SCRIPTS/basal_melt_neural_networks/data/interim/'\n",
    "outputpath_doc = '/bettik/burgardc/SCRIPTS/basal_melt_neural_networks/custom_doc/'\n",
    "inputpath_tides = '/bettik/burgardc/DATA/BASAL_MELT_PARAM/interim/TIDES/'"
   ]
  },
  {
   "cell_type": "code",
   "execution_count": null,
   "id": "97f08bef-88d4-4eda-a32f-c5c40955677f",
   "metadata": {},
   "outputs": [],
   "source": [
    "T_S_2D_isfdraft = xr.open_mfdataset(inputpath_profiles+'T_S_2D_fields_isf_draft.nc').sel(profile_domain=50)"
   ]
  },
  {
   "cell_type": "code",
   "execution_count": null,
   "id": "edf5c7ca-8a9f-4e4e-b4fc-a50f8ea4a166",
   "metadata": {},
   "outputs": [],
   "source": [
    "# dIF, dGL, longitude, latitude\n",
    "file_isf_orig = xr.open_dataset(inputpath_mask+'nemo_5km_isf_masks_and_info_and_distance_new.nc')\n",
    "nonnan_Nisf = file_isf_orig['Nisf'].where(np.isfinite(file_isf_orig['front_bot_depth_max']), drop=True).astype(int)\n",
    "file_isf_nonnan = file_isf_orig.sel(Nisf=nonnan_Nisf)\n",
    "large_isf = file_isf_nonnan['Nisf'].where(file_isf_nonnan['isf_area_here'] >= 2500, drop=True)\n",
    "file_isf = file_isf_nonnan.sel(Nisf=large_isf)"
   ]
  },
  {
   "cell_type": "code",
   "execution_count": null,
   "id": "0a070702-083e-40f2-a14f-c7a812353a42",
   "metadata": {},
   "outputs": [],
   "source": [
    "# T and S profiles\n",
    "file_TS_orig = xr.open_dataset(inputpath_profiles+'T_S_mean_prof_corrected_km_contshelf_and_offshore_1980-2018.nc')\n",
    "file_TS = file_TS_orig.sel(Nisf=file_isf.Nisf)\n",
    "file_TS_dom = file_TS.sel(profile_domain=50)"
   ]
  },
  {
   "cell_type": "code",
   "execution_count": null,
   "id": "5070c1b8-faf5-4d41-a27f-9b4360602acc",
   "metadata": {},
   "outputs": [],
   "source": [
    "plume_charac = xr.open_dataset(inputpath_plumes+'nemo_5km_plume_characteristics.nc')"
   ]
  },
  {
   "cell_type": "code",
   "execution_count": null,
   "id": "eb048ad0-119c-462e-99c7-4c146cb37b57",
   "metadata": {},
   "outputs": [],
   "source": [
    "map_lim = [-3000000,3000000]\n",
    "file_mask_orig = xr.open_dataset(inputpath_data+'other_mask_vars_Ant_stereo.nc')\n",
    "file_mask_orig_cut = dfmt.cut_domain_stereo(file_mask_orig, map_lim, map_lim)\n",
    "file_other = xr.open_dataset(inputpath_data+'corrected_draft_bathy_isf.nc')#, chunks={'x': chunk_size, 'y': chunk_size})\n",
    "file_other_cut = dfmt.cut_domain_stereo(file_other, map_lim, map_lim)\n",
    "file_conc = xr.open_dataset(inputpath_data+'isfdraft_conc_Ant_stereo.nc')\n",
    "file_conc_cut = dfmt.cut_domain_stereo(file_conc, map_lim, map_lim)"
   ]
  },
  {
   "cell_type": "code",
   "execution_count": null,
   "id": "1c84b390-053d-4c43-adc9-3e7fdb15995d",
   "metadata": {},
   "outputs": [],
   "source": [
    "# bathymetry, ice draft, concentration\n",
    "file_bed_orig = file_mask_orig_cut['bathy_metry']\n",
    "file_draft = file_other_cut['corrected_isfdraft'] \n",
    "file_isf_conc = file_conc_cut['isfdraft_conc']"
   ]
  },
  {
   "cell_type": "code",
   "execution_count": null,
   "id": "3d59a209-0522-4253-8918-3ac430317fad",
   "metadata": {},
   "outputs": [],
   "source": [
    "file_slope = xr.open_dataset(inputpath_mask+'nemo_5km_slope_info_bedrock_draft.nc')\n",
    "file_orientation = xr.open_dataset(inputpath_mask+'nemo_5km_orientation_info.nc')"
   ]
  },
  {
   "cell_type": "code",
   "execution_count": null,
   "id": "c71f8add-ae42-4b18-af87-2f60b15eca2e",
   "metadata": {},
   "outputs": [],
   "source": [
    "utide_file = xr.open_dataset(inputpath_tides + 'tidal_velocity_nemo_Ant_stereo.nc')\n",
    "u_tide = dfmt.cut_domain_stereo(utide_file['ttv'], map_lim, map_lim)"
   ]
  },
  {
   "cell_type": "code",
   "execution_count": null,
   "id": "6688b097-139b-4beb-b236-76fb4a96135a",
   "metadata": {},
   "outputs": [],
   "source": [
    "NEMO_melt_rates_2D = xr.open_mfdataset(outputpath_melt+'melt_rates_2D_NEMO.nc')\n",
    "melt_rate = NEMO_melt_rates_2D['melt_m_ice_per_y']"
   ]
  },
  {
   "cell_type": "markdown",
   "id": "09790af9-1d11-487f-8c35-516e60424dd9",
   "metadata": {},
   "source": [
    "MERGE ALL INFO"
   ]
  },
  {
   "cell_type": "code",
   "execution_count": null,
   "id": "41e60132-100a-4d8d-9527-0a644b5bf194",
   "metadata": {},
   "outputs": [],
   "source": [
    "geometry_2D = file_isf[['dGL', 'dIF']].merge(file_draft).merge(file_bed_orig).merge(file_slope).merge(file_orientation).merge(u_tide)\n",
    "geometry_2D['dIF'] = geometry_2D['dIF'].where(np.isfinite(geometry_2D['dIF']), np.nan)\n",
    "time_dpdt_in = T_S_2D_isfdraft[['theta_in','salinity_in']].merge(melt_rate)"
   ]
  },
  {
   "cell_type": "code",
   "execution_count": null,
   "id": "0887ed11-76d5-4323-a46b-59bfbd1f6231",
   "metadata": {},
   "outputs": [],
   "source": [
    "geometry_2D_br, time_dpdt_in_br = xr.broadcast(geometry_2D,time_dpdt_in)"
   ]
  },
  {
   "cell_type": "code",
   "execution_count": null,
   "id": "16403b06-89ca-478d-b2f7-14f104af63be",
   "metadata": {},
   "outputs": [],
   "source": [
    "final_input_xr = xr.merge([geometry_2D_br, time_dpdt_in_br]).transpose('y','x','time').drop('profile_domain')"
   ]
  },
  {
   "cell_type": "code",
   "execution_count": null,
   "id": "7f208403-ee05-4ffa-a0c4-bb506b9259b0",
   "metadata": {},
   "outputs": [],
   "source": [
    "final_input_xr"
   ]
  },
  {
   "cell_type": "code",
   "execution_count": null,
   "id": "4e3c6bfe-65b8-4f21-97c1-9806e5ecb444",
   "metadata": {},
   "outputs": [],
   "source": [
    "merged_df = final_input_xr.drop('longitude').drop('latitude').to_dataframe()"
   ]
  },
  {
   "cell_type": "code",
   "execution_count": null,
   "id": "43d8607f-7647-4393-8370-67198503d0fc",
   "metadata": {},
   "outputs": [],
   "source": [
    "# remove rows where there are nans\n",
    "clean_df_yy = merged_df.dropna()"
   ]
  },
  {
   "cell_type": "code",
   "execution_count": null,
   "id": "733b07c7-8b69-4fba-85bf-5e25e29459b7",
   "metadata": {},
   "outputs": [],
   "source": [
    "clean_df_yy.shape"
   ]
  },
  {
   "cell_type": "code",
   "execution_count": null,
   "id": "5313c069-99a7-4f04-9998-6699ddd3bdd6",
   "metadata": {},
   "outputs": [],
   "source": [
    "timetag = '20220407-1601'\n",
    "normalisation_coeff = pd.read_csv(outputpath_nn + 'dataframe_norm_training_data_'+timetag+'.csv').set_index('Unnamed: 0')#.drop('Unnamed: 0', 1)\n",
    "normalisation_coeff.index.name = None\n",
    "normalisation_coeff_input = normalisation_coeff.drop(['melt_m_ice_per_y'], axis=1)"
   ]
  },
  {
   "cell_type": "code",
   "execution_count": null,
   "id": "6307f637-1cdf-4ade-8b02-7bf7f593bd17",
   "metadata": {},
   "outputs": [],
   "source": [
    "input_var = clean_df_yy.drop(['melt_m_ice_per_y'], axis=1)\n",
    "ref_melt = clean_df_yy['melt_m_ice_per_y']"
   ]
  },
  {
   "cell_type": "code",
   "execution_count": null,
   "id": "7a26a23b-fc4f-4fa7-b9df-08c0089b26e6",
   "metadata": {},
   "outputs": [],
   "source": [
    "normalisation_coeff_input.loc['x_mean']"
   ]
  },
  {
   "cell_type": "code",
   "execution_count": null,
   "id": "103debf2-c277-4008-a8c3-af6eea0d66a7",
   "metadata": {},
   "outputs": [],
   "source": [
    "normalised_input_var = (input_var - normalisation_coeff_input.loc['x_mean'])/normalisation_coeff_input.loc['x_range']"
   ]
  },
  {
   "cell_type": "code",
   "execution_count": null,
   "id": "f6b8a868-7710-4b7c-a1c4-6cc6fe18f2de",
   "metadata": {},
   "outputs": [],
   "source": [
    "x_val_arr = np.array(normalised_input_var)\n",
    "y_val_arr = np.array(ref_melt)"
   ]
  },
  {
   "cell_type": "code",
   "execution_count": null,
   "id": "ac99b139-dca9-4758-aee4-b11436af3129",
   "metadata": {},
   "outputs": [],
   "source": [
    "model = keras.models.load_model(outputpath_nn + 'model_nn_'+timetag+'.h5')"
   ]
  },
  {
   "cell_type": "code",
   "execution_count": null,
   "id": "7a36b84d-8306-43bb-9e96-60f12a9c8858",
   "metadata": {},
   "outputs": [],
   "source": [
    "y_out_norm = model.predict(x_val_arr)"
   ]
  },
  {
   "cell_type": "code",
   "execution_count": null,
   "id": "3da994bf-5287-4cea-8803-75bce472a64d",
   "metadata": {},
   "outputs": [],
   "source": [
    "y_out = (y_out_norm * normalisation_coeff['melt_m_ice_per_y'].loc['x_range']) + normalisation_coeff['melt_m_ice_per_y'].loc['x_mean']"
   ]
  },
  {
   "cell_type": "code",
   "execution_count": null,
   "id": "49873e94-b47e-43b1-a179-c99cbb519936",
   "metadata": {},
   "outputs": [],
   "source": [
    "y_out_pd_s = pd.Series(y_out[:,0],index=clean_df_yy.index,name='predicted_melt') \n",
    "y_target_pd_s = pd.Series(y_val_arr,index=clean_df_yy.index,name='reference_melt') "
   ]
  },
  {
   "cell_type": "code",
   "execution_count": null,
   "id": "5638bcf8-14fc-4bb5-b221-6138eb9822e5",
   "metadata": {},
   "outputs": [],
   "source": [
    "y_out_xr = y_out_pd_s.to_xarray()\n",
    "y_target_xr = y_target_pd_s.to_xarray()\n",
    "y_to_compare = xr.merge([y_out_xr.T, y_target_xr.T]).sortby('y')"
   ]
  },
  {
   "cell_type": "code",
   "execution_count": null,
   "id": "b0cd2565-920e-4aa1-9d9a-c70019a96e74",
   "metadata": {},
   "outputs": [],
   "source": [
    "xx = range(0,80)\n",
    "plt.figure()\n",
    "plt.scatter(y_to_compare['predicted_melt'].values.flatten(),y_to_compare['reference_melt'].values.flatten(), s=10, edgecolors='None',alpha=0.01)\n",
    "plt.plot(xx,xx,'k')"
   ]
  },
  {
   "cell_type": "code",
   "execution_count": null,
   "id": "55f219d7-5e08-4039-a524-191c9ee0a188",
   "metadata": {},
   "outputs": [],
   "source": [
    "computed_melt = y_to_compare['predicted_melt']#.isel(time=0)\n",
    "ref_melt = y_to_compare['reference_melt']#.isel(time=0)"
   ]
  },
  {
   "cell_type": "code",
   "execution_count": null,
   "id": "ad12a020-a385-4667-92fd-42a94c2f0058",
   "metadata": {},
   "outputs": [],
   "source": [
    "min_m = min(computed_melt.min(), ref_melt.min())\n",
    "max_m = max(computed_melt.max(), ref_melt.max())\n",
    "lim = max(abs(min_m),abs(max_m))\n",
    "\n",
    "if min_m < 0:\n",
    "    cmap = mpl.cm.coolwarm\n",
    "    minlim = -lim\n",
    "else:\n",
    "    cmap = mpl.cm.viridis\n",
    "    minlim = 0\n",
    "\n",
    "f = plt.figure(figsize=(15, 5))\n",
    "\n",
    "ax1 = plt.subplot(1, 3, 1)\n",
    "computed_melt.plot(ax=ax1, vmin=minlim,vmax=lim, cmap=cmap)\n",
    "ax1.set_title('Neural Network [m ice/y]')\n",
    "\n",
    "ax2 = plt.subplot(1, 3, 2, sharex = ax1, sharey = ax1)\n",
    "ref_melt.plot(ax=ax2, vmin=minlim,vmax=lim, cmap=cmap)\n",
    "ax2.set_title('Reference [m ice/y]')\n",
    "\n",
    "ax3 = plt.subplot(1, 3, 3, sharex = ax1, sharey = ax1)\n",
    "(computed_melt - ref_melt).plot(ax=ax3)\n",
    "ax3.set_xticklabels('')\n",
    "ax3.set_yticklabels('')\n",
    "ax3.set_title('NN - Ref [m ice/y]')\n",
    "\n",
    "f.tight_layout()"
   ]
  },
  {
   "cell_type": "code",
   "execution_count": null,
   "id": "4cc2afd8-c2c4-448d-8cbf-48ff918b184f",
   "metadata": {},
   "outputs": [],
   "source": [
    "isf_stack_mask = dfmt.create_stacked_mask(file_isf['ISF_mask'], file_isf.Nisf, ['y','x'], 'mask_coord')"
   ]
  },
  {
   "cell_type": "code",
   "execution_count": null,
   "id": "663a1f79-7f11-49d9-963f-20663f61c093",
   "metadata": {},
   "outputs": [],
   "source": [
    "verbose=True\n",
    "nisf_list = file_isf.Nisf\n",
    "\n",
    "xx = file_isf.x\n",
    "yy = file_isf.y\n",
    "dx = (xx[2] - xx[1]).values\n",
    "dy = (yy[2] - yy[1]).values\n",
    "grid_cell_area = abs(dx*dy)  \n",
    "grid_cell_area_weighted = file_isf_conc * grid_cell_area"
   ]
  },
  {
   "cell_type": "code",
   "execution_count": null,
   "id": "8ee0e33a-2fbb-4877-b7d3-a256e16ebed2",
   "metadata": {},
   "outputs": [],
   "source": [
    "def compute_Gt_per_y_from_m_per_y(nisf_list, melt_m_per_y, isf_stack_mask, \n",
    "                                  grid_cell_area_weighted, verbose):\n",
    "    \n",
    "    if verbose:\n",
    "        time_start = time.time()\n",
    "        print('WELCOME! AS YOU WISH, I WILL CONVERT M ICE PER Y TO GT PER Y')\n",
    "\n",
    "    if verbose:\n",
    "        list_loop = tqdm(nisf_list)\n",
    "    else:\n",
    "        list_loop = nisf_list\n",
    "\n",
    "    melt1D_Gt_per_yr_list = []\n",
    "\n",
    "    for kisf in list_loop:\n",
    "        #print(kisf, n)\n",
    "\n",
    "        grid_cell_area_weighted_isf = dfmt.choose_isf(grid_cell_area_weighted,isf_stack_mask, kisf)\n",
    "        melt_rate_2D_isf_m_per_y = dfmt.choose_isf(melt_m_per_y,isf_stack_mask, kisf)\n",
    "        #print('LINE1671', melt_rate_2D_isf_m_per_y.coords)\n",
    "\n",
    "        melt_rate_1D_isf_Gt_per_y = (melt_rate_2D_isf_m_per_y * grid_cell_area_weighted_isf).sum(dim=['mask_coord']) * rho_i / 10**12\n",
    "        melt1D_Gt_per_yr_list.append(melt_rate_1D_isf_Gt_per_y)\n",
    "\n",
    "    melt1D_Gt_per_yr = xr.concat(melt1D_Gt_per_yr_list, dim='Nisf')\n",
    "\n",
    "    melt1D_Gt_per_yr_ds = melt1D_Gt_per_yr.to_dataset(name='melt_1D_Gt_per_y')\n",
    "    out_1D = melt1D_Gt_per_yr_ds\n",
    "\n",
    "    if verbose:\n",
    "        timelength = time.time() - time_start\n",
    "        print(\"I AM DONE! IT TOOK: \"+str(round(timelength,2))+\" seconds.\")\n",
    "    \n",
    "    return out_1D"
   ]
  },
  {
   "cell_type": "code",
   "execution_count": null,
   "id": "e6169b28-d6af-455c-a619-b8b0ab7f669a",
   "metadata": {},
   "outputs": [],
   "source": [
    "computed_melt_Gt_per_y = compute_Gt_per_y_from_m_per_y(nisf_list, computed_melt, isf_stack_mask, \n",
    "                                  grid_cell_area_weighted, verbose)"
   ]
  },
  {
   "cell_type": "code",
   "execution_count": null,
   "id": "ad89d238-a546-42a6-b667-af5228c94711",
   "metadata": {},
   "outputs": [],
   "source": [
    "ref_melt_Gt_per_y = compute_Gt_per_y_from_m_per_y(nisf_list, ref_melt, isf_stack_mask, \n",
    "                                  grid_cell_area_weighted, verbose)"
   ]
  },
  {
   "cell_type": "code",
   "execution_count": null,
   "id": "d0296680-33d2-4fdd-b68a-8b31dd296afe",
   "metadata": {},
   "outputs": [],
   "source": [
    "computed_melt_Gt_per_y['melt_1D_Gt_per_y'].plot()"
   ]
  },
  {
   "cell_type": "code",
   "execution_count": null,
   "id": "0879f2b8-b12e-4f00-94ea-77b72fa2d9b7",
   "metadata": {},
   "outputs": [],
   "source": [
    "ref_melt_Gt_per_y['melt_1D_Gt_per_y'].plot()"
   ]
  },
  {
   "cell_type": "code",
   "execution_count": null,
   "id": "300da2f9-1cdd-4cca-b811-5788488b3653",
   "metadata": {},
   "outputs": [],
   "source": [
    "region_list = []\n",
    "for kisf in file_isf.Nisf:\n",
    "    if file_isf['isf_name'].sel(Nisf=kisf).values in ['Ross','Nickerson','Sulzberger', 'Cook']:\n",
    "        region_list.append('East and West Ross')\n",
    "    elif file_isf['isf_name'].sel(Nisf=kisf).values in ['Filchner','Ronne']:\n",
    "        region_list.append('Weddell')        \n",
    "    elif file_isf['isf_name'].sel(Nisf=kisf).values in ['Ekstrom','Nivl','Prince Harald','Riiser-Larsen','Fimbul','Roi Baudouin','Lazarev','Stancomb Brunt','Jelbart','Borchgrevink']:\n",
    "        region_list.append('Dronning Maud Land')\n",
    "    elif file_isf['isf_name'].sel(Nisf=kisf).values in ['Getz','Thwaites','Crosson','Dotson','Cosgrove','Pine Island']:\n",
    "        region_list.append('Amundsen')\n",
    "    elif file_isf['isf_name'].sel(Nisf=kisf).values in ['Venable','George VI','Abbot','Stange','Larsen C','Bach','Larsen D','Wilkins']:\n",
    "        region_list.append('Peninsula and Bellinghausen')\n",
    "    elif file_isf['isf_name'].sel(Nisf=kisf).values in ['Amery','Moscow Univ.','Tracy Tremenchus','Totten','West','Shackleton']:\n",
    "        region_list.append('East Antarctica')\n",
    "    else:\n",
    "        print('Argh, help me, '+file_isf['isf_name'].sel(Nisf=kisf).values+' has no region assigned!')\n",
    "# 6 regions\n",
    "# regions = ['East and West Ross','Weddell','Dronning Maud Land','Amundsen','Peninsula and Bellinghausen','East Antarctica']\n",
    "file_isf['region'] = xr.DataArray(data=region_list,dims='Nisf')"
   ]
  },
  {
   "cell_type": "code",
   "execution_count": null,
   "id": "a001174a-c83e-46b6-adf5-6e2480250a45",
   "metadata": {},
   "outputs": [],
   "source": [
    "def plot_scatter_all_isf(param_melt_tuned, target_Gt_yr, file_isf):\n",
    "    \n",
    "    regions = ['Weddell','Peninsula and Bellinghausen','Amundsen','East and West Ross','East Antarctica','Dronning Maud Land']\n",
    "    colors = ['deepskyblue','brown','red','orange','limegreen','seagreen']\n",
    "    symbol = ['o','v','>','p','*','s','<','^','X','d']\n",
    "    \n",
    "    f = plt.figure()\n",
    "    f.set_size_inches(8.25*1.5, 8.25*1.5)\n",
    "\n",
    "    ax={}\n",
    "\n",
    "    i = 0\n",
    "    nn=0\n",
    "    ii=0\n",
    "    marker_symbol = np.zeros((len(regions))).astype(int)\n",
    "    for rr,reg in enumerate(regions):\n",
    "        k = 0\n",
    "        marker_color = colors[rr]\n",
    "        subset_isf = file_isf.Nisf.where(file_isf['region']==reg,drop=True)\n",
    "        for kisf in tqdm(subset_isf.Nisf):\n",
    "            marker_type = symbol[k]\n",
    "\n",
    "        \n",
    "            #print(i)\n",
    "\n",
    "            x_axis = param_melt_tuned.sel(Nisf=kisf)\n",
    "            y_axis = target_Gt_yr.sel(Nisf=kisf)\n",
    "\n",
    "\n",
    "            ax[i] = f.add_subplot(6,6,i+1)\n",
    "\n",
    "            #for bb in x_axis_unc.bootstrap:\n",
    "            #    ax[i].scatter(x_axis_unc.sel(bootstrap=bb), \n",
    "            #                y_axis,\n",
    "            #                s=5, c='lightgrey', alpha=0.05, edgecolors='None',\n",
    "            #                rasterized=True)\n",
    "            ax[i].scatter(x_axis, \n",
    "                        y_axis,\n",
    "                        s=10, c=marker_color, marker=marker_type, edgecolors='None',\n",
    "                        rasterized=True)\n",
    "\n",
    "\n",
    "            \n",
    "            min_xy = min(x_axis.min(),y_axis.min())\n",
    "            max_xy = max(x_axis.max(),y_axis.max())\n",
    "            onetooneline = np.arange(min_xy,max_xy)\n",
    "            ax[i].set_xlim(min_xy-5,max_xy+5)\n",
    "            ax[i].set_ylim(min_xy-5,max_xy+5)\n",
    "            ax[i].plot(onetooneline,onetooneline,'k-')\n",
    "            #if i == 0 or i==3:\n",
    "            #    ax[i].set_ylabel('Target melt [Gt/yr]')\n",
    "            #if i == 3 or i==4:\n",
    "            #    ax[i].set_xlabel('Thermal forcing term [(Gt*s)/(m*year)]')\n",
    "\n",
    "\n",
    "\n",
    "            ax[i].set_title(str(file_isf['isf_name'].sel(Nisf=kisf).values))\n",
    "\n",
    "            i = i+1\n",
    "            k = k+1\n",
    "\n",
    "\n",
    "    f.tight_layout()\n",
    "    sns.despine()\n",
    "\n",
    "    return f"
   ]
  },
  {
   "cell_type": "code",
   "execution_count": null,
   "id": "b7968a01-bac9-4416-b575-2890f783b4e5",
   "metadata": {},
   "outputs": [],
   "source": [
    "plot_scatter_all_isf(computed_melt_Gt_per_y['melt_1D_Gt_per_y'], ref_melt_Gt_per_y['melt_1D_Gt_per_y'], file_isf)"
   ]
  },
  {
   "cell_type": "code",
   "execution_count": null,
   "id": "8f1cff68-3826-4384-b157-84820244a879",
   "metadata": {},
   "outputs": [],
   "source": []
  }
 ],
 "metadata": {
  "kernelspec": {
   "display_name": "neuralnet",
   "language": "python",
   "name": "neuralnet"
  },
  "language_info": {
   "codemirror_mode": {
    "name": "ipython",
    "version": 3
   },
   "file_extension": ".py",
   "mimetype": "text/x-python",
   "name": "python",
   "nbconvert_exporter": "python",
   "pygments_lexer": "ipython3",
   "version": "3.9.4"
  }
 },
 "nbformat": 4,
 "nbformat_minor": 5
}
