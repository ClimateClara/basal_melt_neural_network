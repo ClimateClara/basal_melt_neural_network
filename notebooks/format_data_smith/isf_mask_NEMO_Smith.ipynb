{
 "cells": [
  {
   "cell_type": "code",
   "execution_count": null,
   "id": "round-comparative",
   "metadata": {},
   "outputs": [],
   "source": [
    "\"\"\"\n",
    "Created on Fri Feb 15 11:43 2021\n",
    "\n",
    "use script to identify ice shelves in NEMO data from Pierre\n",
    "=> updated to use the corrected ice shelf draft and the ice shelf concentration\n",
    "# to be used from now on! (at least for non-huge data)\n",
    "\n",
    "@author: Clara Burgard\n",
    "\"\"\""
   ]
  },
  {
   "cell_type": "code",
   "execution_count": null,
   "id": "noble-yorkshire",
   "metadata": {},
   "outputs": [],
   "source": [
    "import xarray as xr\n",
    "import numpy as np\n",
    "#import matplotlib.pyplot as plt\n",
    "from pyproj import Transformer\n",
    "#from matplotlib import cm\n",
    "#import cartopy\n",
    "#import cartopy.crs as ccrs\n",
    "#import matplotlib as mpl\n",
    "import pandas as pd\n",
    "from tqdm.notebook import trange, tqdm\n",
    "#from tqdm import tqdm\n",
    "import basal_melt_param.plume_functions as pf\n",
    "import basal_melt_param.box_functions as bf\n",
    "import basal_melt_param.useful_functions as uf\n",
    "import basal_melt_param.create_isf_mask_functions as isfmf\n",
    "\n",
    "from IPython.display import clear_output"
   ]
  },
  {
   "cell_type": "code",
   "execution_count": null,
   "id": "involved-pearl",
   "metadata": {},
   "outputs": [],
   "source": [
    "%matplotlib qt5"
   ]
  },
  {
   "cell_type": "code",
   "execution_count": null,
   "id": "naked-expense",
   "metadata": {},
   "outputs": [],
   "source": [
    "map_lim = [-3000000,3000000]\n",
    "\n",
    "#chunk_size = 700\n",
    "chunk_size = False"
   ]
  },
  {
   "cell_type": "code",
   "execution_count": null,
   "id": "648b12b8-3089-42cf-9d35-0487c31e43dd",
   "metadata": {},
   "outputs": [],
   "source": [
    "nemo_run = 'bf663' # 'bf663','bi646'"
   ]
  },
  {
   "cell_type": "code",
   "execution_count": null,
   "id": "foster-beauty",
   "metadata": {},
   "outputs": [],
   "source": [
    "######\n",
    "###### READ IN DATA\n",
    "######\n",
    "\n",
    "\n",
    "#if run on luke\n",
    "inputpath_data='/bettik/burgardc/DATA/NN_PARAM/interim/SMITH_'+nemo_run+'/'\n",
    "inputpath_metadata='/bettik/burgardc/SCRIPTS/basal_melt_param/data/raw/MASK_METADATA/'\n",
    "outputpath_mask='/bettik/burgardc/DATA/NN_PARAM/interim/ANTARCTICA_IS_MASKS/SMITH_'+nemo_run+'/'\n",
    "outputpath_boxes = '/bettik/burgardc/DATA/NN_PARAM/interim/BOXES/SMITH_'+nemo_run+'/'\n",
    "outputpath_plumes = '/bettik/burgardc/DATA/NN_PARAM/interim/PLUMES/SMITH_'+nemo_run+'/'\n",
    "\n",
    "file_mask_orig = xr.open_dataset(inputpath_data+'other_mask_vars_Ant_stereo.nc')\n",
    "file_mask_orig_cut = uf.cut_domain_stereo(file_mask_orig, map_lim, map_lim)\n",
    "#file_mask_orig_cut = file_mask_orig_cut.assign_coords({'time': range(len(file_mask_orig.time))})\n",
    "\n",
    "file_mask = xr.open_dataset(inputpath_data+'custom_lsmask_Ant_stereo_clean.nc')#, chunks={'x': chunk_size, 'y': chunk_size})\n",
    "file_mask_cut = uf.cut_domain_stereo(file_mask, map_lim, map_lim)\n",
    "#file_mask_cut = file_mask_cut.assign_coords({'time': file_mask_orig_cut.time})\n",
    "\n",
    "file_other = xr.open_dataset(inputpath_data+'corrected_draft_bathy_isf.nc')#, chunks={'x': chunk_size, 'y': chunk_size})\n",
    "file_other_cut = uf.cut_domain_stereo(file_other, map_lim, map_lim)\n",
    "#file_other_cut = file_other_cut.assign_coords({'time': file_mask_orig_cut.time})\n",
    "\n",
    "file_conc = xr.open_dataset(inputpath_data+'isfdraft_conc_Ant_stereo.nc')\n",
    "file_conc_cut = uf.cut_domain_stereo(file_conc, map_lim, map_lim)\n",
    "#file_conc_cut = file_conc_cut.assign_coords({'time': file_mask_orig_cut.time})\n",
    "\n",
    "#ds_nemo = xr.open_dataset(outputpath_mask_orig+'nemo_5km_isf_masks_and_info_and_distance.nc')"
   ]
  },
  {
   "cell_type": "markdown",
   "id": "sublime-davis",
   "metadata": {},
   "source": [
    "Create the masks for ice shelves/ground/pinning points/grounding line"
   ]
  },
  {
   "cell_type": "code",
   "execution_count": null,
   "id": "43d2bc76-f17d-464e-9595-00f4892af9c6",
   "metadata": {},
   "outputs": [],
   "source": [
    "timet = 10\n",
    "#print('Timestep :'+str(timet.values).zfill(2))\n",
    "\n",
    "file_TS_orig = xr.open_dataset(inputpath_data + '3D_variables_of_interest_allyy_Ant_stereo_'+str(1970 + timet)+'.nc').isel(time=0).drop('time')\n",
    "file_TS_cut = uf.cut_domain_stereo(file_TS_orig, map_lim, map_lim)\n",
    "\n",
    "file_bed_orig = file_mask_orig_cut['bathy_metry'].sel(time=timet).drop('time')\n",
    "file_draft = file_other_cut['corrected_isfdraft'].sel(time=timet).drop('time')\n",
    "file_msk = file_mask_cut['ls_mask012'].sel(time=timet).where((file_TS_cut['so'].max('deptht') > 0), 2).drop('time') #0 = ocean, 1 = ice shelves, 2 = grounded ice\n",
    "file_isf_conc = file_conc_cut['isfdraft_conc'].sel(time=timet).drop('time')\n",
    "\n",
    "xx = file_mask_cut['x']\n",
    "yy = file_mask_cut['y']"
   ]
  },
  {
   "cell_type": "code",
   "execution_count": null,
   "id": "b70a578e-6c65-461f-8d75-8bf7d44e15f2",
   "metadata": {},
   "outputs": [],
   "source": [
    "whole_ds_tt = isfmf.create_mask_and_metadata_isf(file_msk, -1*file_bed_orig, file_msk, -1*file_draft, file_isf_conc, False, \n",
    "                                          '/bettik/burgardc/DATA/NN_PARAM/interim/basins_mask_extrap_50km.nc', outputpath_mask, \n",
    "                                          inputpath_metadata + 'iceshelves_metadata_Nico.txt', \n",
    "                                          inputpath_metadata+'GL_flux_rignot13.csv', mouginot_basins=True,\n",
    "                                          write_ismask = 'yes', write_groundmask = 'yes', write_outfile='yes',\n",
    "                                          ground_point ='no',dist=40, add_fac=120, connectivity=4, threshold=4,\n",
    "                                          write_metadata='yes')"
   ]
  },
  {
   "cell_type": "code",
   "execution_count": null,
   "id": "b7d80dda-f776-447b-a17f-3adfaef26236",
   "metadata": {},
   "outputs": [],
   "source": [
    "whole_ds_tt.Nisf.where(whole_ds_tt['isf_name'] == 'Wilkins', drop=True).values[0]"
   ]
  },
  {
   "cell_type": "code",
   "execution_count": null,
   "id": "c93726a9-f0ba-42ea-8989-339fbc856630",
   "metadata": {},
   "outputs": [],
   "source": [
    "file_mask_cut['ls_mask012'].isel(time=0).plot()"
   ]
  },
  {
   "cell_type": "code",
   "execution_count": null,
   "id": "49b6243a-3967-423e-9804-b1102f96f1e1",
   "metadata": {},
   "outputs": [],
   "source": [
    "for tt,timet in enumerate(file_mask_orig_cut.time):\n",
    "    \n",
    "    clear_output(wait=True)\n",
    "    \n",
    "    print('Timestep :'+str(timet.values).zfill(2))\n",
    "\n",
    "    file_TS_orig = xr.open_dataset(inputpath_data + '3D_variables_of_interest_allyy_Ant_stereo_'+str(timet.values.astype(int))+'.nc').isel(time=0).drop('time')\n",
    "    file_TS_cut = uf.cut_domain_stereo(file_TS_orig, map_lim, map_lim)\n",
    "\n",
    "    file_bed_orig = file_mask_orig_cut['bathy_metry'].sel(time=timet).drop('time')\n",
    "    file_draft = file_other_cut['corrected_isfdraft'].sel(time=timet).drop('time')\n",
    "    file_msk = file_mask_cut['ls_mask012'].sel(time=timet)#.where((file_TS_cut['so'].max('deptht') > 0), 2).drop('time') #0 = ocean, 1 = ice shelves, 2 = grounded ice\n",
    "    file_isf_conc = file_conc_cut['isfdraft_conc'].sel(time=timet).drop('time')\n",
    "    \n",
    "    xx = file_mask_cut['x']\n",
    "    yy = file_mask_cut['y']\n",
    "    \n",
    "    whole_ds_tt = isfmf.create_mask_and_metadata_isf(file_msk, -1*file_bed_orig, file_msk, -1*file_draft, file_isf_conc, False, \n",
    "                                              '/bettik/burgardc/DATA/NN_PARAM/interim/basins_mask_extrap_50km.nc', outputpath_mask, \n",
    "                                              inputpath_metadata + 'iceshelves_metadata_Nico.txt', \n",
    "                                              inputpath_metadata+'GL_flux_rignot13.csv', mouginot_basins=True,\n",
    "                                              write_ismask = 'yes', write_groundmask = 'yes', write_outfile='yes',\n",
    "                                              ground_point ='no',dist=40, add_fac=120, connectivity=4, threshold=4,\n",
    "                                              write_metadata='yes')\n",
    "\n",
    "    print('------- WRITE TO NETCDF -----------')\n",
    "    whole_ds_tt.to_netcdf(outputpath_mask + 'nemo_5km_isf_masks_and_info_and_distance_oneFRIS_'+str(timet.values.astype(int))+'.nc','w')"
   ]
  },
  {
   "cell_type": "markdown",
   "id": "friendly-annual",
   "metadata": {},
   "source": [
    "Prepare the box characteristics (writes the output directly to files)"
   ]
  },
  {
   "cell_type": "code",
   "execution_count": null,
   "id": "dense-empty",
   "metadata": {},
   "outputs": [],
   "source": [
    "\n",
    "for tt,timet in enumerate(file_mask_orig_cut.time.sel(time=range(2034,1970+103))): # continue at 68\n",
    "\n",
    "    clear_output(wait=True)\n",
    "    \n",
    "    print('Timestep :'+str(timet.values).zfill(2))\n",
    "    file_bed_orig = file_mask_orig_cut['bathy_metry'].sel(time=timet).drop('time')\n",
    "    file_draft = file_other_cut['corrected_isfdraft'].sel(time=timet).drop('time')\n",
    "    file_msk = file_mask_cut['ls_mask012'].sel(time=timet)#.where((file_TS_cut['so'].max('deptht') > 0), 2).drop('time') #0 = ocean, 1 = ice shelves, 2 = grounded ice\n",
    "    file_isf_conc = file_conc_cut['isfdraft_conc'].sel(time=timet).drop('time')\n",
    "\n",
    "    xx = file_mask_cut['x']\n",
    "    yy = file_mask_cut['y']\n",
    "\n",
    "    whole_ds_tt = xr.open_dataset(outputpath_mask + 'nemo_5km_isf_masks_and_info_and_distance_oneFRIS_'+str(timet.values.astype(int))+'.nc')\n",
    "\n",
    "    nonnan_Nisf = whole_ds_tt['Nisf'].where(np.isfinite(whole_ds_tt['front_bot_depth_max']), drop=True).astype(int)\n",
    "    file_isf_nonnan = whole_ds_tt.sel(Nisf=nonnan_Nisf)\n",
    "    large_isf = file_isf_nonnan['Nisf'].where(file_isf_nonnan['isf_area_here'] >= 2500, drop=True)\n",
    "    file_isf = file_isf_nonnan.sel(Nisf=large_isf)\n",
    "\n",
    "    isf_var_of_int = whole_ds_tt[['ISF_mask', 'GL_mask', 'dGL', 'dIF', 'latitude', 'longitude', 'isf_name']]\n",
    "    out_2D, out_1D = bf.box_charac_file(file_isf['Nisf'],isf_var_of_int, -1*file_draft, file_isf_conc, outputpath_boxes, max_nb_box=10)\n",
    "    out_2D.to_netcdf(outputpath_boxes + 'nemo_5km_boxes_2D_oneFRIS_'+str(timet.values.astype(int))+'.nc')\n",
    "    out_1D.to_netcdf(outputpath_boxes + 'nemo_5km_boxes_1D_oneFRIS_'+str(timet.values.astype(int))+'.nc')\n",
    "    \n",
    "    "
   ]
  },
  {
   "cell_type": "code",
   "execution_count": null,
   "id": "8f9d9138-f82f-4ef7-8bb3-eeae895b8d6a",
   "metadata": {},
   "outputs": [],
   "source": []
  },
  {
   "cell_type": "code",
   "execution_count": null,
   "id": "90c43c46-bee8-451a-a7d9-ba0730198e49",
   "metadata": {},
   "outputs": [],
   "source": [
    "\n",
    "box_1D = xr.open_dataset(outputpath_boxes + 'nemo_5km_boxes_1D_oneFRIS_1970.nc')\n",
    "box_2D = xr.open_dataset(outputpath_boxes + 'nemo_5km_boxes_2D_oneFRIS_1970.nc')"
   ]
  },
  {
   "cell_type": "code",
   "execution_count": null,
   "id": "d4ea0543-f4fb-4967-8021-3fd7cecb6336",
   "metadata": {},
   "outputs": [],
   "source": [
    "box_2D['box_location'].sel(box_nb_tot=5).plot()"
   ]
  },
  {
   "cell_type": "code",
   "execution_count": null,
   "id": "64d662d1-c82c-4ebb-b213-bd96166fa385",
   "metadata": {},
   "outputs": [],
   "source": [
    "file_isf['ISF_mask'].where((file_isf['ISF_mask'] == 75) | (file_isf['ISF_mask'] == 9)).plot()"
   ]
  },
  {
   "cell_type": "code",
   "execution_count": null,
   "id": "786a76e3-2687-4133-89f8-e1929d66aca0",
   "metadata": {},
   "outputs": [],
   "source": [
    "56*56"
   ]
  },
  {
   "cell_type": "code",
   "execution_count": null,
   "id": "e389a00f-c5d4-4372-9f1b-5bab89121b67",
   "metadata": {},
   "outputs": [],
   "source": [
    "file_isf['isf_name'].sel(Nisf=file_isf.Nisf)"
   ]
  },
  {
   "cell_type": "code",
   "execution_count": null,
   "id": "ca39b9c1-b54c-4c6c-9cd1-6500cc7c206e",
   "metadata": {},
   "outputs": [],
   "source": [
    "file_isf['isf_area_rignot'].sel(Nisf=22)"
   ]
  },
  {
   "cell_type": "code",
   "execution_count": null,
   "id": "d3c338ce-2458-4db8-9b8e-02037c28ecdf",
   "metadata": {},
   "outputs": [],
   "source": [
    "file_isf['isf_name'].sel(Nisf=file_isf.Nisf)"
   ]
  },
  {
   "cell_type": "code",
   "execution_count": null,
   "id": "ceramic-feature",
   "metadata": {},
   "outputs": [],
   "source": [
    "isf_var_of_int = whole_ds[['ISF_mask', 'GL_mask', 'dGL', 'dIF', 'latitude', 'longitude', 'isf_name']]\n",
    "out_2D, out_1D = bf.box_charac_file(file_isf['Nisf'],isf_var_of_int, -1*file_draft, file_isf_conc, outputpath_boxes, max_nb_box=10)\n",
    "#out_2D.to_netcdf(outputpath_boxes + 'nemo_5km_boxes_2D.nc') # separated Filchner and Ronne (before review)\n",
    "#out_1D.to_netcdf(outputpath_boxes + 'nemo_5km_boxes_1D.nc') # separated Filchner and Ronne (before review)\n",
    "out_2D.to_netcdf(outputpath_boxes + 'nemo_5km_boxes_2D_oneFRIS.nc')\n",
    "out_1D.to_netcdf(outputpath_boxes + 'nemo_5km_boxes_1D_oneFRIS.nc')"
   ]
  },
  {
   "cell_type": "markdown",
   "id": "unique-ukraine",
   "metadata": {},
   "source": [
    "Prepare the plume characteristics"
   ]
  },
  {
   "cell_type": "code",
   "execution_count": null,
   "id": "authorized-grocery",
   "metadata": {},
   "outputs": [],
   "source": [
    "plume_param_options = ['simple','lazero', 'appenB']\n",
    "\n",
    "\n",
    "for tt,timet in enumerate(file_mask_orig_cut.time.sel(time=range(2031,1970+72))): # continue at 2030 and 2031 (for bi646)\n",
    "\n",
    "    clear_output(wait=True)\n",
    "    \n",
    "    print('Timestep :'+str(timet.values).zfill(2))\n",
    "    file_draft = file_other_cut['corrected_isfdraft'].sel(time=timet).drop('time')\n",
    "\n",
    "    xx = file_mask_cut['x']\n",
    "    yy = file_mask_cut['y']\n",
    "\n",
    "    whole_ds_tt = xr.open_dataset(outputpath_mask + 'nemo_5km_isf_masks_and_info_and_distance_oneFRIS_'+str(timet.values.astype(int))+'.nc')\n",
    "\n",
    "    nonnan_Nisf = whole_ds_tt['Nisf'].where(np.isfinite(whole_ds_tt['front_bot_depth_max']), drop=True).astype(int)\n",
    "    file_isf_nonnan = whole_ds_tt.sel(Nisf=nonnan_Nisf)\n",
    "    large_isf = file_isf_nonnan['Nisf'].where(file_isf_nonnan['isf_area_here'] >= 2500, drop=True)\n",
    "    file_isf = file_isf_nonnan.sel(Nisf=large_isf)\n",
    "\n",
    "    plume_var_of_int = file_isf[['ISF_mask', 'GL_mask', 'IF_mask', 'dIF', 'dGL_dIF', 'latitude', 'longitude', 'front_ice_depth_avg']]\n",
    "\n",
    "    # Compute the ice draft\n",
    "    ice_draft_pos = file_draft\n",
    "    # Be careful with ice shelf 178 and 195 - they have a negative ice draft\n",
    "    # I don't know how to fix it at the moment so I put it to nan\n",
    "    #ice_draft_pos = ice_draft_pos.where(plume_var_of_int['ISF_mask'] != 178, np.nan)\n",
    "    #ice_draft_pos = ice_draft_pos.where(plume_var_of_int['ISF_mask'] != 195, np.nan)\n",
    "\n",
    "    ice_draft_neg = -1*ice_draft_pos\n",
    "\n",
    "\n",
    "    plume_charac = pf.prepare_plume_charac(plume_param_options, ice_draft_pos, plume_var_of_int)\n",
    "    print('------ WRITE TO NETCDF -------')\n",
    "    #plume_charac.to_netcdf(outputpath_plumes+'nemo_5km_plume_characteristics.nc')\n",
    "    plume_charac.to_netcdf(outputpath_plumes+'nemo_5km_plume_characteristics_oneFRIS_'+str(timet.values.astype(int))+'.nc')"
   ]
  },
  {
   "cell_type": "markdown",
   "id": "072309c7-4cec-4c5f-9904-12c4eb355b17",
   "metadata": {},
   "source": [
    "Prepare correct bathymetry (accounting for ice shelf concentration but also if we are at ice front or grounding line)"
   ]
  },
  {
   "cell_type": "code",
   "execution_count": null,
   "id": "21efc61c-7f27-4177-9793-54288e2dbfcf",
   "metadata": {},
   "outputs": [],
   "source": [
    "whole_ds = xr.open_dataset(outputpath_mask + 'nemo_5km_isf_masks_and_info_and_distance_new_oneFRIS.nc')\n",
    "\n",
    "file_bed_orig = file_mask_orig_cut['bathy_metry']\n",
    "file_bed_corr = file_other_cut['corrected_isf_bathy']\n",
    "file_draft = file_other_cut['corrected_isfdraft'] \n",
    "\n",
    "file_bed_goodGL = file_bed_orig.where(file_draft < file_bed_orig,file_bed_corr)\n",
    "file_bed_goodGL_with_ocean =  file_bed_goodGL.where(whole_ds['ISF_mask'] > 1, file_bed_orig)\n",
    "file_bed_goodGL_with_ocean.to_dataset(name='bathymetry').to_netcdf(outputpath_mask + 'processed_bathymetry.nc')"
   ]
  },
  {
   "cell_type": "markdown",
   "id": "distinct-watershed",
   "metadata": {},
   "source": [
    "CHECK RESULTS"
   ]
  },
  {
   "cell_type": "code",
   "execution_count": null,
   "id": "1f9ab545-3834-4c89-b28c-ec92a476c3ed",
   "metadata": {},
   "outputs": [],
   "source": []
  },
  {
   "cell_type": "code",
   "execution_count": null,
   "id": "1dab85c2-744d-4b54-9eac-33a268307396",
   "metadata": {},
   "outputs": [],
   "source": [
    "whole_ds = xr.open_dataset(outputpath_mask + 'nemo_5km_isf_masks_and_info_and_distance_new_oneFRIS.nc')\n"
   ]
  },
  {
   "cell_type": "code",
   "execution_count": null,
   "id": "b5b2f63f-9dfa-4eb4-a7a9-88e34fb68905",
   "metadata": {},
   "outputs": [],
   "source": [
    "nonnan_Nisf = whole_ds['Nisf'].where(np.isfinite(whole_ds['front_bot_depth_max']), drop=True).astype(int)\n",
    "file_isf_nonnan = whole_ds.sel(Nisf=nonnan_Nisf)\n",
    "large_isf = file_isf_nonnan['Nisf'].where(file_isf_nonnan['isf_area_here'] >= 2500, drop=True)\n",
    "file_isf = file_isf_nonnan.sel(Nisf=large_isf)"
   ]
  },
  {
   "cell_type": "code",
   "execution_count": null,
   "id": "14723d99-bbce-4aa2-9b0f-7412df6f3117",
   "metadata": {},
   "outputs": [],
   "source": [
    "isf_mask = file_isf['ISF_mask'].where(file_isf['ISF_mask'] == file_isf.Nisf).sum('Nisf')\n",
    "isf_mask = isf_mask.where(isf_mask)"
   ]
  },
  {
   "cell_type": "code",
   "execution_count": null,
   "id": "962c4d54-0b17-4864-ab2e-45c118367935",
   "metadata": {},
   "outputs": [],
   "source": [
    "GL_flux = file_isf['GL_flux']"
   ]
  },
  {
   "cell_type": "code",
   "execution_count": null,
   "id": "19c47a59-ce93-45bc-8bb3-450011e4d85c",
   "metadata": {},
   "outputs": [],
   "source": [
    "GL_flux_new = GL_flux.where(isf_mask==file_isf.Nisf).sum('Nisf')\n",
    "GL_flux_new = GL_flux_new.where(GL_flux_new)"
   ]
  },
  {
   "cell_type": "code",
   "execution_count": null,
   "id": "d25db733-6227-430a-afda-ce27e19c54d6",
   "metadata": {},
   "outputs": [],
   "source": [
    "GL_flux_new.plot()"
   ]
  },
  {
   "cell_type": "code",
   "execution_count": null,
   "id": "128f55ef-74b3-434b-bbf8-0091102bfebb",
   "metadata": {},
   "outputs": [],
   "source": [
    "nisf_list = whole_ds.Nisf.values.tolist()\n",
    "nisf_list.remove(11)\n",
    "nisf_list.remove(10)"
   ]
  },
  {
   "cell_type": "code",
   "execution_count": null,
   "id": "0ec3a6f8-8b4f-4272-90a3-e17952d55e80",
   "metadata": {},
   "outputs": [],
   "source": [
    "nisf_list"
   ]
  },
  {
   "cell_type": "code",
   "execution_count": null,
   "id": "distinct-turkey",
   "metadata": {},
   "outputs": [],
   "source": [
    "whole_ds = xr.open_dataset(outputpath_mask + 'nemo_5km_isf_masks_and_info_and_distance_new.nc')\n",
    "plume_charac = xr.open_dataset(outputpath_plumes+'nemo_5km_plume_characteristics.nc')"
   ]
  },
  {
   "cell_type": "code",
   "execution_count": null,
   "id": "expressed-multimedia",
   "metadata": {},
   "outputs": [],
   "source": [
    "plume_charac['alpha'].sel(option='simple').where(whole_ds['ISF_mask']==75,drop=True).min()"
   ]
  },
  {
   "cell_type": "code",
   "execution_count": null,
   "id": "lucky-feature",
   "metadata": {},
   "outputs": [],
   "source": [
    "ice_draft_pos.where(whole_ds['ISF_mask']==75, drop=True).plot()"
   ]
  },
  {
   "cell_type": "code",
   "execution_count": null,
   "id": "duplicate-rabbit",
   "metadata": {},
   "outputs": [],
   "source": [
    "plume_var_of_int['GL_mask'].plot()"
   ]
  },
  {
   "cell_type": "code",
   "execution_count": null,
   "id": "protected-tonight",
   "metadata": {},
   "outputs": [],
   "source": [
    "plume_var_of_int['GL_mask'].where(plume_var_of_int['GL_mask']==75, drop=True).plot()"
   ]
  },
  {
   "cell_type": "code",
   "execution_count": null,
   "id": "abandoned-concern",
   "metadata": {},
   "outputs": [],
   "source": [
    "whole_ds['ISF_mask'].where(whole_ds['ISF_mask']==0).plot()"
   ]
  },
  {
   "cell_type": "code",
   "execution_count": null,
   "id": "collectible-switch",
   "metadata": {},
   "outputs": [],
   "source": [
    "dx = region_isf.x[1] - region_isf.x[0]\n",
    "dy = region_isf.y[1] - region_isf.y[0]"
   ]
  },
  {
   "cell_type": "code",
   "execution_count": null,
   "id": "exciting-elite",
   "metadata": {},
   "outputs": [],
   "source": [
    "region_isf = whole_ds['ISF_mask'].where(whole_ds['ISF_mask']==75, drop=True)\n",
    "region_x = np.arange(region_isf.x.min() - 2*dx, region_isf.x.max() + 2.5*dx, dx)\n",
    "region_y = np.arange(region_isf.y.max() - 2*dy, region_isf.y.min() + 2.5*dy, dy)\n"
   ]
  },
  {
   "cell_type": "code",
   "execution_count": null,
   "id": "progressive-beijing",
   "metadata": {},
   "outputs": [],
   "source": [
    "region_to_look_at = whole_ds['ISF_mask'].sel(x=region_x,y=region_y)\n",
    "mask_ground = region_to_look_at.where(region_to_look_at != 0, 2)"
   ]
  },
  {
   "cell_type": "code",
   "execution_count": null,
   "id": "rocky-jenny",
   "metadata": {},
   "outputs": [],
   "source": [
    "mask_10 = mask_ground.where(mask_ground==2, 0) * 0.5"
   ]
  },
  {
   "cell_type": "code",
   "execution_count": null,
   "id": "previous-pastor",
   "metadata": {},
   "outputs": [],
   "source": [
    "mask_10.plot()"
   ]
  },
  {
   "cell_type": "code",
   "execution_count": null,
   "id": "stunning-brother",
   "metadata": {},
   "outputs": [],
   "source": [
    "weights_neighbors = np.array(([0, 1, 0], [1, 1, 1], [0, 1, 0]))\n",
    "xr_weights = xr.DataArray(data=weights_neighbors, dims=['y', 'x'])\n",
    "\n",
    "xr_corr_neighbors = mask_10.copy(data=pf.nd_corr(mask_10,xr_weights))\n",
    "\n",
    "cut_gline = xr_corr_neighbors.where((region_to_look_at>1) & (xr_corr_neighbors>0))\n",
    "mask_gline = region_to_look_at.where(cut_gline>0)"
   ]
  },
  {
   "cell_type": "code",
   "execution_count": null,
   "id": "adapted-luxury",
   "metadata": {},
   "outputs": [],
   "source": [
    "mask_gline.plot()"
   ]
  },
  {
   "cell_type": "code",
   "execution_count": null,
   "id": "junior-comedy",
   "metadata": {},
   "outputs": [],
   "source": [
    "import matplotlib.pyplot as plt\n",
    "plt.figure()\n",
    "region_to_look_at.plot()"
   ]
  },
  {
   "cell_type": "code",
   "execution_count": null,
   "id": "touched-editing",
   "metadata": {},
   "outputs": [],
   "source": [
    "whole_ds['ISF_mask'].y"
   ]
  },
  {
   "cell_type": "code",
   "execution_count": null,
   "id": "therapeutic-encoding",
   "metadata": {},
   "outputs": [],
   "source": [
    "plt.figure()\n",
    "whole_ds['ISF_mask'].sel(x=np.arange(-2998000.,0.5,dx),y=np.arange(2998000.,0,dy)).plot(vmax=2)"
   ]
  },
  {
   "cell_type": "code",
   "execution_count": null,
   "id": "constant-combat",
   "metadata": {},
   "outputs": [],
   "source": [
    "add_fac=150"
   ]
  },
  {
   "cell_type": "code",
   "execution_count": null,
   "id": "considerable-stack",
   "metadata": {},
   "outputs": [],
   "source": [
    "mask_gline_orig = whole_ds['GL_mask']\n",
    "\n",
    "###################\n",
    "\n",
    "larger_region = whole_ds['ISF_mask'].sel(x=np.arange(-2998000.,0.5,dx),y=np.arange(2998000.,0,dy))\n",
    "mask_10_first = larger_region.where(larger_region == 0, 5).where(larger_region != 0, 1)\n",
    "mask_gnd = mask_10_first.where(mask_10_first == 1, 0) #set all ice shelves and open ocean to 0, set all grounded ice to 1\n",
    "\n",
    "meshx_gnd, meshy_gnd = np.meshgrid(mask_gnd.x,mask_gnd.y)\n",
    "meshx_gnd_da = mask_gnd.copy(data=meshx_gnd)\n",
    "meshy_gnd_da = mask_gnd.copy(data=meshy_gnd)\n",
    "\n",
    "core = mask_gnd.sel(x=np.arange(-1938000.,-1900000., dx),y=np.arange(718000.,680000., dy)).reindex_like(mask_gnd)\n",
    "mask_core = mask_gnd.where(np.isnan(core),5)\n",
    "\n",
    "# filter that checks the point around\n",
    "weights_filter = np.zeros((3,3))\n",
    "weights_filter[0,1] = 1\n",
    "weights_filter[1,0] = 1\n",
    "weights_filter[1,2] = 1\n",
    "weights_filter[2,1] = 1\n",
    "\n",
    "weights_da = xr.DataArray(data=weights_filter,dims=['y0','x0'])\n",
    "\n",
    "iter_mask = mask_core.copy()\n",
    "for n in tqdm(range(add_fac)):\n",
    "    corr = pf.xr_nd_corr_v2(iter_mask, weights_filter)\n",
    "    iter_mask = iter_mask.where(~((corr >= 5) & (mask_core == 1)),5)\n",
    "\n",
    "mask_ground = iter_mask.where(iter_mask !=5, 2)#.reindex_like(la)\n",
    "mask_ground = mask_ground.where(mask_ground>0,0)\n",
    "\n",
    "##########################################\n",
    "\n",
    "mask_10 = mask_ground.where(mask_ground==2, 0) * 0.5\n",
    "weights_neighbors = np.array(([0, 1, 0], [1, 1, 1], [0, 1, 0]))\n",
    "xr_weights = xr.DataArray(data=weights_neighbors, dims=['y', 'x'])\n",
    "\n",
    "xr_corr_neighbors = mask_10.copy(data=pf.nd_corr(mask_10,xr_weights))\n",
    "\n",
    "cut_gline = xr_corr_neighbors.where((larger_region>1) & (xr_corr_neighbors>0))\n",
    "mask_gline = larger_region.where(cut_gline>0).reindex_like(mask_gline_orig)\n",
    "\n",
    "mask_gline_final = mask_gline_orig.where(mask_gline != 9, mask_gline)\n",
    "mask_gline_final = mask_gline_final.where(mask_gline != 54, mask_gline)\n",
    "mask_gline_final = mask_gline_final.where(mask_gline != 75, mask_gline)\n",
    "mask_gline_final = mask_gline_final.where(mask_gline != 98, mask_gline)\n",
    "mask_gline_final = mask_gline_final.where(mask_gline != 99, mask_gline)\n",
    "mask_gline_final = mask_gline_final.where(mask_gline != 100, mask_gline)"
   ]
  },
  {
   "cell_type": "code",
   "execution_count": null,
   "id": "single-active",
   "metadata": {},
   "outputs": [],
   "source": [
    "whole_ds['isf_name'].sel(Nisf=9)"
   ]
  },
  {
   "cell_type": "code",
   "execution_count": null,
   "id": "caroline-thing",
   "metadata": {},
   "outputs": [],
   "source": [
    "mask_gline_final.plot()"
   ]
  },
  {
   "cell_type": "code",
   "execution_count": null,
   "id": "forbidden-biology",
   "metadata": {},
   "outputs": [],
   "source": [
    "whole_ds['ISF_mask'].y.sel(y=720000, method='nearest')"
   ]
  },
  {
   "cell_type": "code",
   "execution_count": null,
   "id": "arranged-messaging",
   "metadata": {},
   "outputs": [],
   "source": [
    "mask_10 = file_msk.where(file_msk == 2, 0).where(file_msk != 2,1) #set all ice shelves and open ocean to 0, set all grounded ice to 1\n",
    "\n",
    "mask_gnd = mask_10.where(mask_10>0, drop=True)\n",
    "mask_gnd = mask_gnd.where(mask_gnd>0,0)\n",
    "\n",
    "meshx_gnd, meshy_gnd = np.meshgrid(mask_gnd.x,mask_gnd.y)\n",
    "meshx_gnd_da = mask_gnd.copy(data=meshx_gnd)\n",
    "meshy_gnd_da = mask_gnd.copy(data=meshy_gnd)\n",
    "\n",
    "\n",
    "max_len_xy = max(len(meshx_gnd_da.x),len(meshx_gnd_da.y))\n",
    "half_range = round(max_len_xy/2)\n",
    "\n",
    "mask_core = mask_gnd.where(~((uf.in_range(meshx_gnd_da, [-2*dist*dx,2*dist*dx]) # assuming that the South Pole is in the center of the projection\n",
    "                      & uf.in_range(meshy_gnd_da, [-2*dist*dy,2*dist*dy]))), 5)\n",
    "\n",
    "# filter that checks the point around\n",
    "weights_filter = np.zeros((3,3))\n",
    "weights_filter[0,1] = 1\n",
    "weights_filter[1,0] = 1\n",
    "weights_filter[1,2] = 1\n",
    "weights_filter[2,1] = 1\n",
    "\n",
    "weights_da = xr.DataArray(data=weights_filter,dims=['y0','x0'])\n",
    "\n",
    "iter_mask = mask_core.copy()\n",
    "for n in tqdm(range(half_range+2*dist+add_fac)):\n",
    "    corr = pf.xr_nd_corr_v2(iter_mask, weights_filter)\n",
    "    iter_mask = iter_mask.where(~((corr >= 5) & (mask_core == 1)),5)\n",
    "\n",
    "mask_ground = iter_mask.where(iter_mask !=5, 2).reindex_like(mask_10)\n",
    "mask_ground = mask_ground.where(mask_ground>0,0)"
   ]
  }
 ],
 "metadata": {
  "kernelspec": {
   "display_name": "py38",
   "language": "python",
   "name": "py38"
  },
  "language_info": {
   "codemirror_mode": {
    "name": "ipython",
    "version": 3
   },
   "file_extension": ".py",
   "mimetype": "text/x-python",
   "name": "python",
   "nbconvert_exporter": "python",
   "pygments_lexer": "ipython3",
   "version": "3.8.12"
  }
 },
 "nbformat": 4,
 "nbformat_minor": 5
}
