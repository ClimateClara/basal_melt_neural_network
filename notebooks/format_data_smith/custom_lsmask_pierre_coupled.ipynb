{
 "cells": [
  {
   "cell_type": "code",
   "execution_count": null,
   "id": "wooden-singles",
   "metadata": {},
   "outputs": [],
   "source": [
    "\"\"\"\n",
    "Created on Tue Mar 16 10:57 2021\n",
    "\n",
    "reformat basic mask to give 0-1-2 and floats \n",
    "to be used after \"prepare_data_NEMO.sh\"\n",
    "\n",
    "@author: Clara Burgard\n",
    "\"\"\""
   ]
  },
  {
   "cell_type": "code",
   "execution_count": null,
   "id": "hungry-share",
   "metadata": {},
   "outputs": [],
   "source": [
    "import xarray as xr\n",
    "import numpy as np\n",
    "import matplotlib.pyplot as plt\n",
    "from cdo import Cdo\n",
    "import time"
   ]
  },
  {
   "cell_type": "code",
   "execution_count": null,
   "id": "greatest-chamber",
   "metadata": {},
   "outputs": [],
   "source": [
    "%matplotlib qt5"
   ]
  },
  {
   "cell_type": "code",
   "execution_count": null,
   "id": "substantial-charm",
   "metadata": {},
   "outputs": [],
   "source": [
    "cdo = Cdo()\n",
    "print('this is CDO version %s'%(cdo.version()))"
   ]
  },
  {
   "cell_type": "code",
   "execution_count": null,
   "id": "c9fc4baa-4b50-456f-be43-17b905984f64",
   "metadata": {},
   "outputs": [],
   "source": [
    "nemo_run = 'EPM026' # 'EPM026','EPM031', 'EPM034'\n",
    "if nemo_run in ['EPM026','EPM031']:\n",
    "    ystart = 2049\n",
    "    yend = 2058\n",
    "elif nemo_run == 'EPM034':\n",
    "    ystart = 2119\n",
    "    yend = 2128   "
   ]
  },
  {
   "cell_type": "code",
   "execution_count": null,
   "id": "single-viking",
   "metadata": {},
   "outputs": [],
   "source": [
    "inputpath_data='/bettik/burgardc/DATA/NN_PARAM/interim/NEMO_eORCA025.L121_'+nemo_run+'_ANT_STEREO/'"
   ]
  },
  {
   "cell_type": "markdown",
   "id": "metropolitan-trademark",
   "metadata": {},
   "source": [
    "PREPARE THE FLOAT MASK (0 = ocean, 1 = ice shelf, 2 = ground)"
   ]
  },
  {
   "cell_type": "code",
   "execution_count": null,
   "id": "67521230-8f3f-423f-b099-ad505a381b37",
   "metadata": {},
   "outputs": [],
   "source": [
    "for yy in range(ystart,yend+1):\n",
    "    mask_file = xr.open_dataset(inputpath_data+'lsmask_0-1-2_Ant_'+str(yy)+'.nc')\n",
    "    file_map_orig = xr.open_dataset(inputpath_data+'mask_variables_of_interest_Ant_'+str(yy)+'.nc')\n",
    "    ls_mask012 = mask_file['tmask'].squeeze().astype('float')\n",
    "    ls_mask012.to_dataset(name='ls_mask012').to_netcdf(inputpath_data+'custom_lsmask_Ant_'+str(yy)+'.nc')"
   ]
  },
  {
   "cell_type": "markdown",
   "id": "warming-honolulu",
   "metadata": {},
   "source": [
    "SEPARATE OTHER VARIABLES"
   ]
  },
  {
   "cell_type": "code",
   "execution_count": null,
   "id": "insured-converter",
   "metadata": {},
   "outputs": [],
   "source": [
    "for yy in range(ystart,yend+1):\n",
    "    print(yy)\n",
    "    file_map_orig = xr.open_dataset(inputpath_data+'mask_variables_of_interest_Ant_'+str(yy)+'.nc')\n",
    "    isfdraft = file_map_orig['isf_draft'].squeeze().drop('time')\n",
    "    isfdraft.to_dataset().to_netcdf(inputpath_data+'isfdraft_Ant_'+str(yy)+'.nc')\n",
    "\n",
    "    T_levs = file_map_orig['e3w_0'].squeeze()\n",
    "    T_levs_cumsum = T_levs.cumsum(dim='nav_lev') - (T_levs.isel(nav_lev=0)/2)\n",
    "    gdept_0 = T_levs.copy(data=T_levs_cumsum).rename('gdept_0')\n",
    "    \n",
    "    bathy_metry = file_map_orig[['bathy_metry']].squeeze().drop('time')\n",
    "    other_mask_vars = xr.merge([gdept_0,bathy_metry])\n",
    "    other_mask_vars.to_netcdf(inputpath_data+'other_mask_vars_Ant_'+str(yy)+'.nc')"
   ]
  },
  {
   "cell_type": "markdown",
   "id": "biblical-surge",
   "metadata": {},
   "source": [
    "INTERPOLATE TO STEREOGRAPHIC GRID"
   ]
  },
  {
   "cell_type": "code",
   "execution_count": null,
   "id": "distinguished-awareness",
   "metadata": {},
   "outputs": [],
   "source": [
    "for yy in range(ystart,yend+1):\n",
    "    print('interpolate float mask '+str(yy))\n",
    "    time_start = time.time()\n",
    "    cdo.remapbil(inputpath_data+'stereo_grid.nc', input = inputpath_data+'custom_lsmask_Ant_'+str(yy)+'.nc', output = inputpath_data+'custom_lsmask_Ant_stereo_'+str(yy)+'.nc')\n",
    "    timelength = time.time() - time_start\n",
    "    print(timelength)"
   ]
  },
  {
   "cell_type": "code",
   "execution_count": null,
   "id": "patient-experience",
   "metadata": {},
   "outputs": [],
   "source": [
    "for yy in range(ystart,yend+1):\n",
    "    print('interpolate isfdraft '+str(yy))\n",
    "    time_start = time.time()\n",
    "    cdo.remapbil(inputpath_data+'stereo_grid.nc', input = inputpath_data+'isfdraft_Ant_'+str(yy)+'.nc', output = inputpath_data+'isfdraft_Ant_stereo_'+str(yy)+'.nc')\n",
    "    timelength = time.time() - time_start\n",
    "    print(timelength)"
   ]
  },
  {
   "cell_type": "markdown",
   "id": "9906533e-3a0d-4b0d-b11a-d9b3333e1967",
   "metadata": {},
   "source": [
    "Other variables of interest"
   ]
  },
  {
   "cell_type": "code",
   "execution_count": null,
   "id": "2c1d245a-a360-411c-8853-b7d9d36db009",
   "metadata": {},
   "outputs": [],
   "source": [
    "for yy in range(ystart,yend+1):\n",
    "    print('computing mask '+str(yy))\n",
    "    time_start = time.time()\n",
    "    cdo.remapbil(inputpath_data+'stereo_grid.nc', input = inputpath_data+'other_mask_vars_Ant_'+str(yy)+'.nc', output = inputpath_data+'other_mask_vars_Ant_stereo_'+str(yy)+'.nc')\n",
    "    timelength = time.time() - time_start\n",
    "    print(timelength)"
   ]
  },
  {
   "cell_type": "code",
   "execution_count": null,
   "id": "0c2eed21-0ac7-4cd2-a207-06af16bc7aec",
   "metadata": {},
   "outputs": [],
   "source": [
    "for yy in range(ystart,yend+1):\n",
    "    print('creating mean depth coordinate '+str(yy))\n",
    "    time_start = time.time()\n",
    "    cdo.fldmean(input=' -selvar,gdept_0 '+inputpath_data+'other_mask_vars_Ant_stereo_'+str(yy)+'.nc', \n",
    "              output = inputpath_data+'mask_depth_coord_Ant_stereo_'+str(yy)+'.nc') \n",
    "    timelength = time.time() - time_start\n",
    "    print(timelength)"
   ]
  },
  {
   "cell_type": "markdown",
   "id": "6beb6292-5ab1-461c-9c14-67189347b46c",
   "metadata": {},
   "source": [
    "PREPARE AN ICE SHELF CONCENTRATION"
   ]
  },
  {
   "cell_type": "code",
   "execution_count": null,
   "id": "renewable-stick",
   "metadata": {},
   "outputs": [],
   "source": [
    "for yy in range(ystart,yend+1):\n",
    "    print('prepare an ice shelf concentration '+str(yy))\n",
    "    float_ls_mask = xr.open_dataset(inputpath_data+'custom_lsmask_Ant_stereo_'+str(yy)+'.nc')\n",
    "\n",
    "    lsmask_012_withcenter = float_ls_mask['ls_mask012'].where(np.isfinite(float_ls_mask['ls_mask012']),2)\n",
    "    should_not_be_ground = (float_ls_mask['ls_mask012']==0) | (isfdraft['isfdraft']>0)\n",
    "    lsmask_below2 = float_ls_mask['ls_mask012'].where(should_not_be_ground,2)\n",
    "\n",
    "    lsmask_below2.to_dataset(name='ls_mask012').to_netcdf(inputpath_data+'custom_lsmask_Ant_stereo_clean_'+str(yy)+'.nc')\n",
    "\n",
    "    first_isfdraft_mask = float_ls_mask['ls_mask012'].where(isfdraft['isfdraft']>0,0) # ignore the points of transition between ocean and land\n",
    "    isfdraft_conc = first_isfdraft_mask.where(first_isfdraft_mask <= 1,(2 - first_isfdraft_mask))\n",
    "    isfdraft_conc.to_dataset(name='isfdraft_conc').to_netcdf(inputpath_data+'isfdraft_conc_Ant_stereo_'+str(yy)+'.nc')\n",
    "\n",
    "    corrected_isfdraft_raw = isfdraft['isfdraft']/isfdraft_conc\n",
    "    corrected_isfdraft = corrected_isfdraft_raw.where(corrected_isfdraft_raw<=3000,3000).where(corrected_isfdraft_raw>0) # cut unrealistically high drafts\n",
    "    corrections = corrected_isfdraft.to_dataset(name='corrected_isfdraft')\n",
    "\n",
    "    mask_vars = xr.open_dataset(inputpath_data+'other_mask_vars_Ant_stereo_'+str(yy)+'.nc')\n",
    "    corrected_bathy_raw = mask_vars['bathy_metry']/isfdraft_conc # not realistically cuttable because bathymetry is set to 0 on land...\n",
    "    corrected_bathy = corrected_bathy_raw.where(corrected_bathy_raw<=3000,3000).where(corrected_bathy_raw>0)\n",
    "\n",
    "    corrections['corrected_isf_bathy'] = corrected_bathy\n",
    "\n",
    "    corrections.to_netcdf(inputpath_data+'corrected_draft_bathy_isf_'+str(yy)+'.nc')"
   ]
  },
  {
   "cell_type": "markdown",
   "id": "3521fd22-033e-43db-a522-0ef5cc6c6016",
   "metadata": {},
   "source": [
    "FINISHED? THEN MOVE TO \"regridding_vars_cdo.ipynb\""
   ]
  }
 ],
 "metadata": {
  "kernelspec": {
   "display_name": "py38",
   "language": "python",
   "name": "py38"
  },
  "language_info": {
   "codemirror_mode": {
    "name": "ipython",
    "version": 3
   },
   "file_extension": ".py",
   "mimetype": "text/x-python",
   "name": "python",
   "nbconvert_exporter": "python",
   "pygments_lexer": "ipython3",
   "version": "3.8.12"
  }
 },
 "nbformat": 4,
 "nbformat_minor": 5
}
