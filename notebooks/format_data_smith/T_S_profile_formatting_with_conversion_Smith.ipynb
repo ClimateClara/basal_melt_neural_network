{
 "cells": [
  {
   "cell_type": "code",
   "execution_count": null,
   "id": "terminal-playback",
   "metadata": {},
   "outputs": [],
   "source": [
    "\"\"\"\n",
    "Created on Fri Jun 4 15:50 2020\n",
    "\n",
    "This is a script to convert the NEMO temperature and salinity to potential temperature and practical salinity\n",
    "\n",
    "@author: Clara Burgard\n",
    "\"\"\""
   ]
  },
  {
   "cell_type": "code",
   "execution_count": null,
   "id": "ongoing-qualification",
   "metadata": {},
   "outputs": [],
   "source": [
    "import xarray as xr\n",
    "import numpy as np\n",
    "import pandas as pd\n",
    "from tqdm.notebook import tqdm\n",
    "import gsw\n",
    "import matplotlib.pyplot as plt\n",
    "import basal_melt_param.useful_functions as uf\n",
    "import basal_melt_param.T_S_profile_functions as tspf\n",
    "import basal_melt_param.melt_functions as meltf\n",
    "\n",
    "import itertools\n",
    "\n",
    "import distributed\n",
    "import glob"
   ]
  },
  {
   "cell_type": "code",
   "execution_count": null,
   "id": "early-appliance",
   "metadata": {},
   "outputs": [],
   "source": [
    "client = distributed.Client(n_workers=4, dashboard_address=':8795', local_directory='/tmp', memory_limit='6GB')"
   ]
  },
  {
   "cell_type": "code",
   "execution_count": null,
   "id": "greatest-whole",
   "metadata": {},
   "outputs": [],
   "source": [
    "client"
   ]
  },
  {
   "cell_type": "code",
   "execution_count": null,
   "id": "legal-builder",
   "metadata": {},
   "outputs": [],
   "source": [
    "%matplotlib qt5"
   ]
  },
  {
   "cell_type": "markdown",
   "id": "moral-median",
   "metadata": {},
   "source": [
    "READ IN DATA"
   ]
  },
  {
   "cell_type": "code",
   "execution_count": null,
   "id": "b6b2c5aa-01a5-4198-973d-545929b687bd",
   "metadata": {},
   "outputs": [],
   "source": [
    "nemo_run = 'bf663' # 'bf663','bi646' "
   ]
  },
  {
   "cell_type": "code",
   "execution_count": null,
   "id": "favorite-denial",
   "metadata": {},
   "outputs": [],
   "source": [
    "inputpath_data='/bettik/burgardc/DATA/NN_PARAM/interim/SMITH_'+nemo_run+'/'\n",
    "inputpath_profiles='/bettik/burgardc/DATA/NN_PARAM/interim/T_S_PROF/SMITH_'+nemo_run+'/'\n",
    "inputpath_isf='/bettik/burgardc/DATA/NN_PARAM/interim/ANTARCTICA_IS_MASKS/SMITH_'+nemo_run+'/'\n",
    "\n",
    "# make the domain a little smaller to make the computation even more efficient - file isf has already been made smaller at its creation\n",
    "map_lim = [-3000000,3000000]"
   ]
  },
  {
   "cell_type": "code",
   "execution_count": null,
   "id": "6c2bc7df-0a6c-4ae1-9287-5ddd5e1426ba",
   "metadata": {},
   "outputs": [],
   "source": [
    "file_mask = xr.open_dataset(inputpath_data+'mask_variables_of_interest_allyy_Ant_stereo.nc')#, chunks={'x': 600, 'y': 600})\n",
    "file_mask = file_mask.assign_coords({'time': range(len(file_mask.time))})#.chunk({'time': 1})\n",
    "file_mask_71 = file_mask.sel(time=range(72))\n",
    "file_mask2 = xr.open_dataset(inputpath_data+'mask_depth_coord_Ant_stereo.nc')\n"
   ]
  },
  {
   "cell_type": "code",
   "execution_count": null,
   "id": "6dfea878-8a87-4111-b59a-d517c2e34f85",
   "metadata": {},
   "outputs": [],
   "source": [
    "isf_files = list(sorted(glob.glob(inputpath_isf+'nemo_5km_isf_masks_and_info_and_distance_oneFRIS_yy*.nc')))\n",
    "file_isf_allyy = xr.open_mfdataset(isf_files, concat_dim='time', combine='nested', chunks={'x': 533, 'y': 533})\n",
    "file_isf_allyy = file_isf_allyy.assign_coords({'time': range(len(file_mask_71.time))}).chunk({'time': 1})"
   ]
  },
  {
   "cell_type": "code",
   "execution_count": null,
   "id": "f820743f-9979-4ba9-9430-e0c871983fa0",
   "metadata": {},
   "outputs": [],
   "source": [
    "file_isf_allyy = file_isf_allyy.assign_coords({'time': range(len(file_mask_71.time))}).chunk({'time': 1})"
   ]
  },
  {
   "cell_type": "code",
   "execution_count": null,
   "id": "44dd23f4-3278-4de5-95de-98de184f668f",
   "metadata": {},
   "outputs": [],
   "source": [
    "file_mask_cutted = uf.cut_domain_stereo(file_mask_71, map_lim, map_lim)#.squeeze().drop('time')\n",
    "file_isf_cutted = uf.cut_domain_stereo(file_isf_allyy, map_lim, map_lim)#.squeeze().drop('time')\n",
    "\n",
    "#file_TS_orig  = xr.open_mfdataset(inputpath_data+'variables_of_interest_2000_Ant_stereo.nc', chunks={'x': 600, 'y': 600})\n",
    "#file_TS_orig_cutted = uf.cut_domain_stereo(file_TS_orig, map_lim, map_lim).squeeze().drop('time')"
   ]
  },
  {
   "cell_type": "code",
   "execution_count": null,
   "id": "secure-dancing",
   "metadata": {},
   "outputs": [],
   "source": [
    "lon = file_isf_cutted['longitude']\n",
    "lat = file_isf_cutted['latitude']"
   ]
  },
  {
   "cell_type": "code",
   "execution_count": null,
   "id": "nearby-forum",
   "metadata": {},
   "outputs": [],
   "source": [
    "ds_ts  = xr.open_dataset(inputpath_data + '3D_variables_of_interest_allyy_Ant_stereo.nc') #, chunks={'x': 600, 'y': 600})\n",
    "ds_ts = ds_ts.assign_coords({'time': range(len(ds_ts.time))}).chunk({'time': 1})\n",
    "ds_ts_71 = ds_ts.sel(time=range(72))\n",
    "ds_ts_71 = ds_ts_71[['thetao', 'so']]\n",
    "ds_ts_cutted = uf.cut_domain_stereo(ds_ts, map_lim, map_lim)"
   ]
  },
  {
   "cell_type": "markdown",
   "id": "respiratory-replica",
   "metadata": {},
   "source": [
    "Prepare the depth axis"
   ]
  },
  {
   "cell_type": "code",
   "execution_count": null,
   "id": "thorough-deposit",
   "metadata": {},
   "outputs": [],
   "source": [
    "nemo_depth = np.round(file_mask2['gdept_0'].squeeze(dim=['lon','lat']), 3) # round to mm scale - should be enough"
   ]
  },
  {
   "cell_type": "markdown",
   "id": "binding-thread",
   "metadata": {},
   "source": [
    "Cut out the temperature and salinity and assign the new depth axis"
   ]
  },
  {
   "cell_type": "code",
   "execution_count": null,
   "id": "handled-imaging",
   "metadata": {},
   "outputs": [],
   "source": [
    "ds_temp_saline_input = ds_ts_cutted[['thetao', 'so']]\n",
    "ds_temp_saline_input = ds_temp_saline_input.rename({'thetao': 'temperature', 'so': 'salinity'})\n",
    "ds_temp_saline_input = ds_temp_saline_input.rename({'deptht': 'depth'})\n",
    "ds_temp_saline_input['depth'] = np.round(ds_temp_saline_input.depth, 3)\n",
    "ds_temp_saline_input = ds_temp_saline_input.assign_coords(depth=nemo_depth.values)\n"
   ]
  },
  {
   "cell_type": "code",
   "execution_count": null,
   "id": "immediate-mainland",
   "metadata": {},
   "outputs": [],
   "source": [
    "## only points where there is no bedrock - I think not needed for NEMO data\n",
    "#vert_mask = file_in_T['z_bnds'][:,1] > interp_bed['bed'] \n",
    "# only points of open ocean\n",
    "mask_ocean = file_isf_cutted['ISF_mask'] == 1  #ocean without ice shelf cavity"
   ]
  },
  {
   "cell_type": "markdown",
   "id": "purple-wednesday",
   "metadata": {},
   "source": [
    "CONVERT CONSERVATIVE TEMPERATURE FOR OPEN OCEAN REGIONS TO POTENTIAL TEMPERATURE \n",
    "AND ABSOLUTE SALIINITY TO PRACTICAL SALINITY"
   ]
  },
  {
   "cell_type": "code",
   "execution_count": null,
   "id": "9391a323-4f24-4a1e-aa46-2d9e007605d7",
   "metadata": {},
   "outputs": [],
   "source": [
    "ds_ts_cutted.time"
   ]
  },
  {
   "cell_type": "code",
   "execution_count": null,
   "id": "8a2c3c5b-eb81-4b12-b952-4ea8abc464e6",
   "metadata": {},
   "outputs": [],
   "source": [
    "for tt,timet in enumerate(ds_ts_cutted.time.sel(time=range(34,41))):\n",
    "    ds_temp_saline_input_yy = ds_temp_saline_input.sel(time=timet).load()\n",
    "    mask_ocean_yy = mask_ocean.sel(time=timet).load()\n",
    "    ds_temp_saline_input_yy['theta_ocean'] = ds_temp_saline_input_yy['temperature'].where(mask_ocean_yy)\n",
    "    ds_temp_saline_input_yy['salinity_ocean'] = xr.apply_ufunc(gsw.SP_from_SA, ds_temp_saline_input_yy['salinity'].where(mask_ocean_yy), ds_temp_saline_input_yy['depth'], lon, lat, dask = 'allowed')\n",
    "    ds_temp_saline_output = ds_temp_saline_input_yy[['theta_ocean', 'salinity_ocean']]\n",
    "    ds_temp_saline_output.to_netcdf(inputpath_profiles + 'T_S_theta_ocean_corrected_yy'+str(timet.values).zfill(2)+'.nc')"
   ]
  },
  {
   "cell_type": "markdown",
   "id": "trying-efficiency",
   "metadata": {},
   "source": [
    "Write the results to multiple files (1 per year)"
   ]
  },
  {
   "cell_type": "code",
   "execution_count": null,
   "id": "approximate-failure",
   "metadata": {},
   "outputs": [],
   "source": [
    "yearly_datasets = list(tspf.split_by_chunks(ds_temp_saline_output.unify_chunks(),'time'))\n",
    "paths = [tspf.create_filepath(ds, 'T_S_theta_ocean_corrected', inputpath_profiles, ds.time[0].values) for ds in yearly_datasets]"
   ]
  },
  {
   "cell_type": "markdown",
   "id": "seven-genius",
   "metadata": {},
   "source": [
    "this takes approximately 1 min per year"
   ]
  },
  {
   "cell_type": "code",
   "execution_count": null,
   "id": "technological-arthritis",
   "metadata": {},
   "outputs": [],
   "source": [
    "xr.save_mfdataset(datasets=yearly_datasets, paths=paths)"
   ]
  },
  {
   "cell_type": "code",
   "execution_count": null,
   "id": "a5006d19-e8da-438a-b304-9058f4c393ae",
   "metadata": {},
   "outputs": [],
   "source": []
  }
 ],
 "metadata": {
  "kernelspec": {
   "display_name": "py38",
   "language": "python",
   "name": "py38"
  },
  "language_info": {
   "codemirror_mode": {
    "name": "ipython",
    "version": 3
   },
   "file_extension": ".py",
   "mimetype": "text/x-python",
   "name": "python",
   "nbconvert_exporter": "python",
   "pygments_lexer": "ipython3",
   "version": "3.8.12"
  }
 },
 "nbformat": 4,
 "nbformat_minor": 5
}
