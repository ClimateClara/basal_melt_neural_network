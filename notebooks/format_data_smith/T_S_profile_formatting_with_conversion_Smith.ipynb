{
 "cells": [
  {
   "cell_type": "code",
   "execution_count": null,
   "id": "terminal-playback",
   "metadata": {},
   "outputs": [],
   "source": [
    "\"\"\"\n",
    "Created on Fri Jun 4 15:50 2020\n",
    "\n",
    "This is a script to convert the NEMO temperature and salinity to potential temperature and practical salinity\n",
    "\n",
    "@author: Clara Burgard\n",
    "\"\"\""
   ]
  },
  {
   "cell_type": "code",
   "execution_count": null,
   "id": "ongoing-qualification",
   "metadata": {},
   "outputs": [],
   "source": [
    "import xarray as xr\n",
    "import numpy as np\n",
    "import pandas as pd\n",
    "from tqdm.notebook import tqdm\n",
    "import gsw\n",
    "import matplotlib.pyplot as plt\n",
    "import basal_melt_param.useful_functions as uf\n",
    "import basal_melt_param.T_S_profile_functions as tspf\n",
    "import basal_melt_param.melt_functions as meltf\n",
    "\n",
    "import itertools\n",
    "\n",
    "import distributed\n",
    "import glob"
   ]
  },
  {
   "cell_type": "code",
   "execution_count": null,
   "id": "early-appliance",
   "metadata": {},
   "outputs": [],
   "source": [
    "client = distributed.Client(n_workers=4, dashboard_address=':8795', local_directory='/tmp', memory_limit='6GB')"
   ]
  },
  {
   "cell_type": "code",
   "execution_count": null,
   "id": "greatest-whole",
   "metadata": {},
   "outputs": [],
   "source": [
    "client"
   ]
  },
  {
   "cell_type": "code",
   "execution_count": null,
   "id": "legal-builder",
   "metadata": {},
   "outputs": [],
   "source": [
    "%matplotlib qt5"
   ]
  },
  {
   "cell_type": "markdown",
   "id": "moral-median",
   "metadata": {},
   "source": [
    "READ IN DATA"
   ]
  },
  {
   "cell_type": "code",
   "execution_count": null,
   "id": "b6b2c5aa-01a5-4198-973d-545929b687bd",
   "metadata": {},
   "outputs": [],
   "source": [
    "nemo_run = 'bf663' # 'bf663','bi646' "
   ]
  },
  {
   "cell_type": "code",
   "execution_count": null,
   "id": "favorite-denial",
   "metadata": {},
   "outputs": [],
   "source": [
    "inputpath_data='/bettik/burgardc/DATA/NN_PARAM/interim/SMITH_'+nemo_run+'/'\n",
    "inputpath_profiles='/bettik/burgardc/DATA/NN_PARAM/interim/T_S_PROF/SMITH_'+nemo_run+'/'\n",
    "inputpath_isf='/bettik/burgardc/DATA/NN_PARAM/interim/ANTARCTICA_IS_MASKS/SMITH_'+nemo_run+'/'\n",
    "\n",
    "# make the domain a little smaller to make the computation even more efficient - file isf has already been made smaller at its creation\n",
    "map_lim = [-3000000,3000000]"
   ]
  },
  {
   "cell_type": "code",
   "execution_count": null,
   "id": "6c2bc7df-0a6c-4ae1-9287-5ddd5e1426ba",
   "metadata": {},
   "outputs": [],
   "source": [
    "file_mask = xr.open_dataset(inputpath_data+'mask_variables_of_interest_allyy_Ant_stereo.nc')#, chunks={'x': 600, 'y': 600})\n",
    "file_mask = file_mask.assign_coords({'time': range(1970,1970+len(file_mask.time))})#.chunk({'time': 1})\n",
    "file_mask_71 = file_mask.isel(time=range(72))\n",
    "file_mask2 = xr.open_dataset(inputpath_data+'mask_depth_coord_Ant_stereo.nc')\n"
   ]
  },
  {
   "cell_type": "code",
   "execution_count": null,
   "id": "44dd23f4-3278-4de5-95de-98de184f668f",
   "metadata": {},
   "outputs": [],
   "source": [
    "file_isf_1970 = xr.open_dataset(inputpath_isf+'nemo_5km_isf_masks_and_info_and_distance_oneFRIS_yy00.nc')\n",
    "file_isf_1970_cutted = uf.cut_domain_stereo(file_isf_1970, map_lim, map_lim)#.squeeze().drop('time')\n",
    "\n",
    "file_mask_cutted = uf.cut_domain_stereo(file_mask_71, map_lim, map_lim)#.squeeze().drop('time')\n",
    "\n",
    "#file_TS_orig  = xr.open_mfdataset(inputpath_data+'variables_of_interest_2000_Ant_stereo.nc', chunks={'x': 600, 'y': 600})\n",
    "#file_TS_orig_cutted = uf.cut_domain_stereo(file_TS_orig, map_lim, map_lim).squeeze().drop('time')"
   ]
  },
  {
   "cell_type": "code",
   "execution_count": null,
   "id": "secure-dancing",
   "metadata": {},
   "outputs": [],
   "source": [
    "lon = file_isf_1970_cutted['longitude']\n",
    "lat = file_isf_1970_cutted['latitude']"
   ]
  },
  {
   "cell_type": "markdown",
   "id": "respiratory-replica",
   "metadata": {},
   "source": [
    "Prepare the depth axis"
   ]
  },
  {
   "cell_type": "code",
   "execution_count": null,
   "id": "thorough-deposit",
   "metadata": {},
   "outputs": [],
   "source": [
    "nemo_depth = np.round(file_mask2['gdept_0'].squeeze(dim=['lon','lat']), 3) # round to mm scale - should be enough"
   ]
  },
  {
   "cell_type": "markdown",
   "id": "binding-thread",
   "metadata": {},
   "source": [
    "Cut out the temperature and salinity and assign the new depth axis"
   ]
  },
  {
   "cell_type": "markdown",
   "id": "purple-wednesday",
   "metadata": {},
   "source": [
    "CONVERT CONSERVATIVE TEMPERATURE FOR OPEN OCEAN REGIONS TO POTENTIAL TEMPERATURE \n",
    "AND ABSOLUTE SALIINITY TO PRACTICAL SALINITY"
   ]
  },
  {
   "cell_type": "code",
   "execution_count": null,
   "id": "4747ef22-5c12-48dc-81c1-65fea4d6514d",
   "metadata": {},
   "outputs": [],
   "source": [
    "for tt,timet in enumerate(range(1970, 2012)): \n",
    "    print(timet)\n",
    "    \n",
    "    ds_ts  = xr.open_dataset(inputpath_data + '3D_variables_of_interest_allyy_Ant_stereo_'+str(timet)+'.nc') #, chunks={'x': 600, 'y': 600})\n",
    "    ds_ts_cutted = uf.cut_domain_stereo(ds_ts, map_lim, map_lim)\n",
    "    ds_temp_saline_input = ds_ts_cutted[['thetao', 'so']]\n",
    "    ds_temp_saline_input = ds_temp_saline_input.rename({'thetao': 'temperature', 'so': 'salinity'})\n",
    "    ds_temp_saline_input = ds_temp_saline_input.rename({'deptht': 'depth'})\n",
    "    ds_temp_saline_input['depth'] = np.round(ds_temp_saline_input.depth, 3)\n",
    "    ds_temp_saline_input = ds_temp_saline_input.assign_coords(depth=nemo_depth.values)\n",
    "    \n",
    "    file_isf = xr.open_dataset(inputpath_isf+'nemo_5km_isf_masks_and_info_and_distance_oneFRIS_yy'+str(timet-1970).zfill(2)+'.nc')\n",
    "    file_isf_cutted = uf.cut_domain_stereo(file_isf, map_lim, map_lim)#.squeeze().drop('time')\n",
    "    mask_ocean = file_isf_cutted['ISF_mask'] == 1  #ocean without ice shelf cavity\n",
    "    \n",
    "    ds_temp_saline_input['theta_ocean'] = ds_temp_saline_input['temperature'].where(mask_ocean) \n",
    "    ds_temp_saline_input['salinity_ocean'] = xr.apply_ufunc(gsw.SP_from_SA, ds_temp_saline_input['salinity'].where(mask_ocean), ds_temp_saline_input['depth'], lon, lat, dask = 'allowed')\n",
    "    ds_temp_saline_output = ds_temp_saline_input[['theta_ocean', 'salinity_ocean']]\n",
    "    ds_temp_saline_output.to_netcdf(inputpath_profiles + 'T_S_theta_ocean_corrected_'+str(timet)+'.nc')"
   ]
  },
  {
   "cell_type": "code",
   "execution_count": null,
   "id": "83be0d1a-dc6d-48e3-b451-013572399b9e",
   "metadata": {},
   "outputs": [],
   "source": [
    "ds_temp_saline_input['salinity_ocean'].isel(depth=40).plot()"
   ]
  },
  {
   "cell_type": "markdown",
   "id": "29634943-133e-436f-8846-270a4f2ba28c",
   "metadata": {},
   "source": [
    "IF I USE THE OCEAN CONC TO CORRECT T AND S (BUT THE RESULT IS NOT REALLY SATISFYING)"
   ]
  },
  {
   "cell_type": "code",
   "execution_count": null,
   "id": "8a2c3c5b-eb81-4b12-b952-4ea8abc464e6",
   "metadata": {},
   "outputs": [],
   "source": [
    "ds_ts  = xr.open_dataset(inputpath_data + '3D_variables_of_interest_allyy_Ant_stereo.nc') #, chunks={'x': 600, 'y': 600})\n",
    "ds_ts_cutted = uf.cut_domain_stereo(ds_ts, map_lim, map_lim)\n",
    "ds_ts_cutted = ds_ts_cutted.assign_coords({'time': range(1970,1970+len(ds_ts_cutted.time))})#.chunk({'time': 1})\n",
    "\n",
    "float_oi_mask = xr.open_dataset(inputpath_data+'custom_ocean_ice_mask_Ant_stereo.nc')\n",
    "oi_mask_cutted = uf.cut_domain_stereo(float_oi_mask['oi_mask01'], map_lim, map_lim)\n",
    "oi_mask_cutted = oi_mask_cutted.assign_coords({'time': range(1970,1970+len(oi_mask_cutted.time))})#.chunk({'time': 1})\n",
    "\n",
    "\n",
    "for tt,timet in enumerate(range(1970, 1974)): \n",
    "    print(timet)\n",
    "    \n",
    "    ocean_conc = oi_mask_cutted.sel(time=timet)\n",
    "    ocean_conc_clean = ocean_conc.where(ocean_conc < 0.999)\n",
    "    ds_temp_saline_input = ds_ts_cutted[['thetao', 'so']].sel(time=timet) / (1 - ocean_conc_clean)\n",
    "    ds_temp_saline_input = ds_temp_saline_input.rename({'thetao': 'temperature', 'so': 'salinity'})\n",
    "    ds_temp_saline_input = ds_temp_saline_input.rename({'deptht': 'depth'})\n",
    "    ds_temp_saline_input['depth'] = np.round(ds_temp_saline_input.depth, 3)\n",
    "    ds_temp_saline_input = ds_temp_saline_input.assign_coords(depth=nemo_depth.values)\n",
    "    \n",
    "    file_isf = xr.open_dataset(inputpath_isf+'nemo_5km_isf_masks_and_info_and_distance_oneFRIS_yy'+str(timet-1970).zfill(2)+'.nc')\n",
    "    file_isf_cutted = uf.cut_domain_stereo(file_isf, map_lim, map_lim)#.squeeze().drop('time')\n",
    "    mask_ocean = file_isf_cutted['ISF_mask'] == 1  #ocean without ice shelf cavity\n",
    "    \n",
    "    ds_temp_saline_input['theta_ocean'] = ds_temp_saline_input['temperature'].where(mask_ocean) \n",
    "    ds_temp_saline_input['salinity_ocean'] = xr.apply_ufunc(gsw.SP_from_SA, ds_temp_saline_input['salinity'].where(mask_ocean), ds_temp_saline_input['depth'], lon, lat, dask = 'allowed')\n",
    "    ds_temp_saline_output = ds_temp_saline_input[['theta_ocean', 'salinity_ocean']]\n",
    "    ds_temp_saline_output.to_netcdf(inputpath_profiles + 'T_S_theta_ocean_corrected_withconc_'+str(timet)+'.nc')"
   ]
  },
  {
   "cell_type": "code",
   "execution_count": null,
   "id": "2a2cb414-745e-46c3-a57e-e2c217d16ea1",
   "metadata": {},
   "outputs": [],
   "source": []
  },
  {
   "cell_type": "code",
   "execution_count": null,
   "id": "21aabe36-09db-49cd-b759-7d0eb017cef3",
   "metadata": {},
   "outputs": [],
   "source": [
    "ds_ts  = xr.open_dataset(inputpath_data + '3D_variables_of_interest_allyy_Ant_stereo_1973.nc') #, chunks={'x': 600, 'y': 600})\n",
    "ds_ts['thetao'].max()"
   ]
  },
  {
   "cell_type": "code",
   "execution_count": null,
   "id": "f63f925b-ebcd-4805-a1fd-00ac27abb6f5",
   "metadata": {},
   "outputs": [],
   "source": [
    "    ocean_conc = oi_mask_cutted.sel(time=timet)\n",
    "    ocean_conc_clean = ocean_conc.where(ocean_conc < 0.999)\n",
    "    ds_temp_saline_input = ds_ts_cutted[['thetao', 'so']].sel(time=timet) / (1 - ocean_conc_clean)"
   ]
  },
  {
   "cell_type": "code",
   "execution_count": null,
   "id": "5125db80-a3e9-4a70-8bff-aac9e5361324",
   "metadata": {},
   "outputs": [],
   "source": [
    "ds_temp_saline_input['theta_ocean'].isel(depth=20).where(ds_temp_saline_input['theta_ocean'].isel(depth=20) < -5).count()"
   ]
  },
  {
   "cell_type": "code",
   "execution_count": null,
   "id": "c3520f88-059d-44ea-8913-9009cd9723f3",
   "metadata": {},
   "outputs": [],
   "source": [
    "    ocean_conc = oi_mask_cutted.sel(time=timet)\n",
    "    ocean_conc_clean = ocean_conc.where(ocean_conc < 0.999)\n",
    "    ds_temp_saline_input = ds_ts_cutted[['thetao', 'so']].sel(time=timet) / (1 - ocean_conc_clean)\n",
    "    ds_temp_saline_input = ds_temp_saline_input.rename({'thetao': 'temperature', 'so': 'salinity'})\n",
    "    ds_temp_saline_input = ds_temp_saline_input.rename({'deptht': 'depth'})\n",
    "    ds_temp_saline_input['depth'] = np.round(ds_temp_saline_input.depth, 3)\n",
    "    ds_temp_saline_input = ds_temp_saline_input.assign_coords(depth=nemo_depth.values)"
   ]
  },
  {
   "cell_type": "code",
   "execution_count": null,
   "id": "0bb1b01c-f2a6-4da5-aa65-e244acaea624",
   "metadata": {},
   "outputs": [],
   "source": [
    "test = ds_temp_saline_input['salinity'].where(mask_ocean)"
   ]
  },
  {
   "cell_type": "code",
   "execution_count": null,
   "id": "ac8442b5-0184-4dfb-87ed-5949af93535b",
   "metadata": {},
   "outputs": [],
   "source": [
    "ds_ts['so'].isel(deptht=40).plot(vmin=33)"
   ]
  },
  {
   "cell_type": "code",
   "execution_count": null,
   "id": "b691ff46-6fe1-497e-bf29-1dca72d7f2ef",
   "metadata": {},
   "outputs": [],
   "source": [
    "ds_temp_saline_input['salinity'].isel(depth=40).plot(vmin=33,vmax=35)"
   ]
  },
  {
   "cell_type": "code",
   "execution_count": null,
   "id": "41fb5677-3cb6-4c79-a8c6-80b8c6204f1d",
   "metadata": {},
   "outputs": [],
   "source": [
    "test.isel(depth=40).where(test.isel(depth=40) > 5).plot()"
   ]
  },
  {
   "cell_type": "code",
   "execution_count": null,
   "id": "644a4f85-1e69-4b9d-8143-6ca4403a9a59",
   "metadata": {},
   "outputs": [],
   "source": [
    "ds_temp_saline_output['salinity_ocean'].isel(depth=40).plot()"
   ]
  },
  {
   "cell_type": "code",
   "execution_count": null,
   "id": "b0ebb547-6aaf-4d0b-abeb-7c8a06f1f80a",
   "metadata": {},
   "outputs": [],
   "source": [
    "ds_temp_saline_input['thetao'].isel(deptht=20).where(ds_temp_saline_input['so'].isel(deptht=20) > 1000, drop=True).plot()"
   ]
  },
  {
   "cell_type": "code",
   "execution_count": null,
   "id": "43379c89-4852-424d-b0cf-93d01ac85adf",
   "metadata": {},
   "outputs": [],
   "source": [
    "ocean_conc.where(ocean_conc < 0.999).plot()"
   ]
  },
  {
   "cell_type": "code",
   "execution_count": null,
   "id": "d8cc95b2-a9ab-4bb4-b83b-32f4d247ca0a",
   "metadata": {},
   "outputs": [],
   "source": [
    "ds_ts_cutted['thetao'].sel(time=timet).isel(deptht=0)"
   ]
  },
  {
   "cell_type": "code",
   "execution_count": null,
   "id": "5eb0dee8-eb34-48fa-a124-80b00f0d6a3c",
   "metadata": {},
   "outputs": [],
   "source": [
    "ds_temp_saline_output['salinity_ocean'].isel(depth=10).plot()"
   ]
  },
  {
   "cell_type": "markdown",
   "id": "trying-efficiency",
   "metadata": {},
   "source": [
    "Write the results to multiple files (1 per year)"
   ]
  },
  {
   "cell_type": "code",
   "execution_count": null,
   "id": "approximate-failure",
   "metadata": {},
   "outputs": [],
   "source": [
    "yearly_datasets = list(tspf.split_by_chunks(ds_temp_saline_output.unify_chunks(),'time'))\n",
    "paths = [tspf.create_filepath(ds, 'T_S_theta_ocean_corrected', inputpath_profiles, ds.time[0].values) for ds in yearly_datasets]"
   ]
  },
  {
   "cell_type": "markdown",
   "id": "seven-genius",
   "metadata": {},
   "source": [
    "this takes approximately 1 min per year"
   ]
  },
  {
   "cell_type": "code",
   "execution_count": null,
   "id": "technological-arthritis",
   "metadata": {},
   "outputs": [],
   "source": [
    "xr.save_mfdataset(datasets=yearly_datasets, paths=paths)"
   ]
  },
  {
   "cell_type": "code",
   "execution_count": null,
   "id": "a5006d19-e8da-438a-b304-9058f4c393ae",
   "metadata": {},
   "outputs": [],
   "source": []
  }
 ],
 "metadata": {
  "kernelspec": {
   "display_name": "py38",
   "language": "python",
   "name": "py38"
  },
  "language_info": {
   "codemirror_mode": {
    "name": "ipython",
    "version": 3
   },
   "file_extension": ".py",
   "mimetype": "text/x-python",
   "name": "python",
   "nbconvert_exporter": "python",
   "pygments_lexer": "ipython3",
   "version": "3.8.12"
  }
 },
 "nbformat": 4,
 "nbformat_minor": 5
}
