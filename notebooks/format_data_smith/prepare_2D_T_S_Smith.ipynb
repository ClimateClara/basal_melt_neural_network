{
 "cells": [
  {
   "cell_type": "code",
   "execution_count": null,
   "id": "hindu-cleaning",
   "metadata": {},
   "outputs": [],
   "source": [
    "\"\"\"\n",
    "Created on Fri Jul 09 09:39 2021\n",
    "\n",
    "This script is to transform the mean profiles to 2D fields to accelerate the tuning process\n",
    "\n",
    "@author: Clara Burgard\n",
    "\"\"\""
   ]
  },
  {
   "cell_type": "code",
   "execution_count": null,
   "id": "green-stopping",
   "metadata": {},
   "outputs": [],
   "source": [
    "import xarray as xr\n",
    "import numpy as np\n",
    "import pandas as pd\n",
    "from tqdm.notebook import tqdm\n",
    "import matplotlib.pyplot as plt\n",
    "import basal_melt_param.useful_functions as uf\n",
    "import basal_melt_param.melt_functions as meltf\n",
    "from basal_melt_param.constants import *\n",
    "import basal_melt_param.T_S_profile_functions as tspf\n",
    "from scipy import stats\n",
    "from dask import delayed\n",
    "\n",
    "import distributed\n",
    "import glob"
   ]
  },
  {
   "cell_type": "code",
   "execution_count": null,
   "id": "residential-beast",
   "metadata": {},
   "outputs": [],
   "source": [
    "%matplotlib qt5"
   ]
  },
  {
   "cell_type": "code",
   "execution_count": null,
   "id": "threaded-understanding",
   "metadata": {},
   "outputs": [],
   "source": [
    "client = distributed.Client(n_workers=4,dashboard_address=':8795', local_directory='/tmp', memory_limit='6GB')"
   ]
  },
  {
   "cell_type": "code",
   "execution_count": null,
   "id": "composite-elephant",
   "metadata": {},
   "outputs": [],
   "source": [
    "client"
   ]
  },
  {
   "cell_type": "markdown",
   "id": "incomplete-bookmark",
   "metadata": {},
   "source": [
    "READ IN DATA"
   ]
  },
  {
   "cell_type": "code",
   "execution_count": null,
   "id": "1c87efda-2933-4a07-aff3-8410aba39919",
   "metadata": {},
   "outputs": [],
   "source": [
    "nemo_run = 'bf663' # 'bf663','bi646' "
   ]
  },
  {
   "cell_type": "code",
   "execution_count": null,
   "id": "frequent-asian",
   "metadata": {},
   "outputs": [],
   "source": [
    "inputpath_data='/bettik/burgardc/DATA/NN_PARAM/interim/SMITH_'+nemo_run+'/'\n",
    "inputpath_profiles='/bettik/burgardc/DATA/NN_PARAM/interim/T_S_PROF/SMITH_'+nemo_run+'/'\n",
    "inputpath_mask='/bettik/burgardc/DATA/NN_PARAM/interim/ANTARCTICA_IS_MASKS/SMITH_'+nemo_run+'/'\n",
    "\n",
    "#outputpath_simple = '/bettik/burgardc/SCRIPTS/basal_melt_param/data/interim/SIMPLE/nemo_5km_'+nemo_run+'/'\n",
    "#inputpath_plumes = '/bettik/burgardc/SCRIPTS/basal_melt_param/data/interim/PLUMES/nemo_5km_'+nemo_run+'/'\n",
    "plot_path = '/bettik/burgardc/PLOTS/NN_plots/Smith_formatting/'\n",
    "\n"
   ]
  },
  {
   "cell_type": "code",
   "execution_count": null,
   "id": "veterinary-beads",
   "metadata": {},
   "outputs": [],
   "source": [
    "# make the domain a little smaller to make the computation even more efficient - file isf has already been made smaller at its creation\n",
    "map_lim = [-3000000,3000000]\n",
    "\n",
    "chunk_size = 700"
   ]
  },
  {
   "cell_type": "markdown",
   "id": "macro-cookie",
   "metadata": {},
   "source": [
    "Files for param"
   ]
  },
  {
   "cell_type": "code",
   "execution_count": null,
   "id": "forty-screening",
   "metadata": {},
   "outputs": [],
   "source": [
    "file_other = xr.open_mfdataset(inputpath_data+'corrected_draft_bathy_isf.nc')\n",
    "file_other_cut = uf.cut_domain_stereo(file_other, map_lim, map_lim).chunk(chunks={'x': chunk_size, 'y': chunk_size})\n",
    "#file_other_cut = file_other_cut.assign_coords({'time': range(1970, 1970 + len(file_other_cut.time))})\n",
    "#file_conc = xr.open_mfdataset(inputpath_data+'isfdraft_conc_Ant_stereo.nc')\n",
    "#file_conc_cut = uf.cut_domain_stereo(file_conc, map_lim, map_lim).chunk(chunks={'x': chunk_size, 'y': chunk_size})\n",
    "#file_isf_conc = file_conc_cut['isfdraft_conc']\n"
   ]
  },
  {
   "cell_type": "code",
   "execution_count": null,
   "id": "d32dee74-fa99-4526-9650-d753a5afdf66",
   "metadata": {},
   "outputs": [],
   "source": [
    "tt"
   ]
  },
  {
   "cell_type": "code",
   "execution_count": null,
   "id": "2ae527f5-0647-4c7d-8696-b7b270a41c78",
   "metadata": {},
   "outputs": [],
   "source": [
    "for tt in tqdm(range(1979, 2051)): #1970 + 35\n",
    "    \n",
    "    file_isf_orig = xr.open_mfdataset(inputpath_mask+'nemo_5km_isf_masks_and_info_and_distance_oneFRIS_'+str(tt)+'.nc').drop('time')\n",
    "    nonnan_Nisf = file_isf_orig['Nisf'].where(np.isfinite(file_isf_orig['front_bot_depth_max']), drop=True).astype(int)\n",
    "    file_isf_nonnan = file_isf_orig.sel(Nisf=nonnan_Nisf)\n",
    "    large_isf = file_isf_nonnan['Nisf'].where(file_isf_nonnan['isf_area_here'] >= 2500, drop=True)\n",
    "    file_isf = file_isf_nonnan.sel(Nisf=large_isf).chunk(chunks={'x': chunk_size, 'y': chunk_size})\n",
    "\n",
    "    ice_draft_pos = file_other_cut['corrected_isfdraft'].sel(time=tt).drop('time')\n",
    "    ice_draft_isf = ice_draft_pos.where(file_isf['ISF_mask'] == file_isf.Nisf)\n",
    "\n",
    "    depth_of_int = ice_draft_isf.where(ice_draft_isf<file_isf['front_bot_depth_max'], \n",
    "                                       file_isf['front_bot_depth_max']).chunk(chunks={'Nisf':1})  \n",
    "    \n",
    "    file_TS_orig = xr.open_mfdataset(inputpath_profiles+'T_S_mean_prof_corrected_km_contshelf_'+str(tt)+'.nc', chunks={'Nisf': 1})\n",
    "    file_TS = file_TS_orig.sel(Nisf=large_isf).chunk(chunks={'depth': 20})\n",
    "    \n",
    "    filled_TS = file_TS.ffill(dim='depth')\n",
    "    \n",
    "    T_isf = filled_TS['theta_ocean'].interp({'depth': depth_of_int}).drop('depth')\n",
    "    \n",
    "    #print('here1')\n",
    "    T_isf = T_isf.where(file_isf['ISF_mask']==file_isf.Nisf).sum('Nisf')#.where(depth_of_int>0)\n",
    "    T_isf = T_isf.to_dataset(name='theta_in')\n",
    "    #print('here2')\n",
    "    T_isf['salinity_in'] = filled_TS['salinity_ocean'].interp({'depth': depth_of_int}).drop('depth')\n",
    "    T_isf['salinity_in'] = T_isf['salinity_in'].where(file_isf['ISF_mask']==file_isf.Nisf).sum('Nisf')#.where(depth_of_int>0)\n",
    "    #print('here3')\n",
    "    depth_of_int = depth_of_int.where(file_isf['ISF_mask'] == file_isf.Nisf)\n",
    "    depth_of_int = depth_of_int.where(file_isf['ISF_mask'] > 1).sum('Nisf')\n",
    "    depth_of_int = depth_of_int.where(depth_of_int>0)\n",
    "    T_isf['freezing_T'] = meltf.freezing_temperature(T_isf['salinity_in'], -1*depth_of_int)\n",
    "    #print('here4')\n",
    "    T_isf['thermal_forcing'] = T_isf['theta_in'] - T_isf['freezing_T']\n",
    "    T_isf['depth_of_int'] = depth_of_int\n",
    "    T_isf = T_isf.where(T_isf['salinity_in']>0)\n",
    "    \n",
    "    \n",
    "    T_isf.to_netcdf(inputpath_profiles+'T_S_2D_fields_isf_draft_oneFRIS_'+str(tt)+'.nc','w')\n",
    "    del T_isf\n",
    "    del depth_of_int"
   ]
  },
  {
   "cell_type": "code",
   "execution_count": null,
   "id": "a6e992c2-7d8f-4ae6-aa5e-7b4b4ec01571",
   "metadata": {},
   "outputs": [],
   "source": [
    "tt"
   ]
  },
  {
   "cell_type": "code",
   "execution_count": null,
   "id": "d867e848-e5fd-419a-a358-d29b2670db82",
   "metadata": {},
   "outputs": [],
   "source": [
    "depth_of_int.plot()"
   ]
  },
  {
   "cell_type": "code",
   "execution_count": null,
   "id": "f300186c-244c-49ce-b8e8-bc2383ee8087",
   "metadata": {},
   "outputs": [],
   "source": [
    "    depth_of_int = ice_draft_isf.where(ice_draft_isf<file_isf['front_bot_depth_max'], \n",
    "                                       file_isf['front_bot_depth_max']).chunk(chunks={'Nisf':1})  \n",
    "    depth_of_int = depth_of_int.where(file_isf['ISF_mask'] == file_isf.Nisf)\n",
    "    depth_of_int = depth_of_int.where(file_isf['ISF_mask'] > 1).sum('Nisf')\n",
    "    depth_of_int = depth_of_int.where(depth_of_int>0)"
   ]
  },
  {
   "cell_type": "code",
   "execution_count": null,
   "id": "6dace297-4548-469a-b97c-fe08e01c6232",
   "metadata": {},
   "outputs": [],
   "source": [
    "depth_of_int.plot()"
   ]
  },
  {
   "cell_type": "code",
   "execution_count": null,
   "id": "3608bb10-e7fb-48b4-b674-c10d877f3e47",
   "metadata": {},
   "outputs": [],
   "source": [
    "    depth_of_int = depth_of_int.where(file_isf['ISF_mask'] > 1).sum('Nisf')\n",
    "    depth_of_int = depth_of_int.where(depth_of_int>0)"
   ]
  },
  {
   "cell_type": "code",
   "execution_count": null,
   "id": "1f03f43c-a51a-4c4a-a55a-af323446647c",
   "metadata": {},
   "outputs": [],
   "source": [
    "    depth_of_int = depth_of_int.where(file_isf['ISF_mask'] == file_isf.Nisf)\n",
    "    depth_of_int = depth_of_int.where(file_isf['ISF_mask'] > 1).sum('Nisf')"
   ]
  },
  {
   "cell_type": "code",
   "execution_count": null,
   "id": "fe8a1826-adc3-4595-8d05-7741a7bb1339",
   "metadata": {},
   "outputs": [],
   "source": [
    "depth_of_int.plot()"
   ]
  },
  {
   "cell_type": "code",
   "execution_count": null,
   "id": "55adf51b-7eae-45de-b8e5-2e0964634016",
   "metadata": {},
   "outputs": [],
   "source": [
    "depth_of_int.sel(Nisf=66).plot()#.where(file_isf['ISF_mask']).plot()"
   ]
  },
  {
   "cell_type": "code",
   "execution_count": null,
   "id": "6ca1d580-de96-475e-bb34-4896fd2f3082",
   "metadata": {},
   "outputs": [],
   "source": [
    "file_TS['salinity_ocean'].min().load()"
   ]
  },
  {
   "cell_type": "code",
   "execution_count": null,
   "id": "595feae4-58fe-4041-a009-c8a14c14646b",
   "metadata": {},
   "outputs": [],
   "source": [
    "test = xr.open_dataset(inputpath_profiles+'T_S_2D_fields_isf_draft_oneFRIS_'+str(tt)+'.nc')"
   ]
  },
  {
   "cell_type": "code",
   "execution_count": null,
   "id": "1d2b8f11-cd20-4636-bfd8-0bb61317dd77",
   "metadata": {},
   "outputs": [],
   "source": [
    "T_isf = xr.open_dataset(inputpath_profiles+'T_S_2D_fields_isf_draft_oneFRIS_'+str(tt)+'.nc')"
   ]
  },
  {
   "cell_type": "code",
   "execution_count": null,
   "id": "df0230ab-3c85-43bc-a686-7026e86e9ee9",
   "metadata": {},
   "outputs": [],
   "source": [
    "file_isf.Nisf"
   ]
  },
  {
   "cell_type": "code",
   "execution_count": null,
   "id": "74218c63-2220-4e8d-b3b5-3ce8f050ba3c",
   "metadata": {},
   "outputs": [],
   "source": [
    "depth_of_int = ice_draft_isf.where(ice_draft_isf<file_isf['front_bot_depth_max'], \n",
    "                                   file_isf['front_bot_depth_max']).chunk(chunks={'Nisf':1}) "
   ]
  },
  {
   "cell_type": "code",
   "execution_count": null,
   "id": "0a583832-6aa7-4b1e-b41a-0cf663b2c3c1",
   "metadata": {},
   "outputs": [],
   "source": [
    "T_isf2['salinity_in'].where(T_isf2['salinity_in'] > 0).plot()"
   ]
  },
  {
   "cell_type": "code",
   "execution_count": null,
   "id": "9c4267fb-44bf-4795-801a-82f9a6975705",
   "metadata": {},
   "outputs": [],
   "source": [
    "T_isf['salinity_in'].where(T_isf['salinity_in'] > 0).plot()"
   ]
  },
  {
   "cell_type": "code",
   "execution_count": null,
   "id": "2c592522-6881-4c76-b3f0-783988d96f5c",
   "metadata": {},
   "outputs": [],
   "source": [
    "T_isf2 = T_isf.where(file_isf['ISF_mask'] > 1)\n",
    "T_isf2['salinity_in'].plot()"
   ]
  },
  {
   "cell_type": "code",
   "execution_count": null,
   "id": "01556568-d3c0-4f1f-a63a-2b0b81754b23",
   "metadata": {},
   "outputs": [],
   "source": [
    "depth_of_int = depth_of_int.where(file_isf['ISF_mask'] == file_isf.Nisf, 0).chunk({'Nisf': 1})\n"
   ]
  },
  {
   "cell_type": "code",
   "execution_count": null,
   "id": "7103892e-42a4-4685-b960-66a9a3f3bdab",
   "metadata": {},
   "outputs": [],
   "source": [
    "file_TS_orig = xr.open_mfdataset(inputpath_profiles+'T_S_mean_prof_corrected_km_contshelf_yy'+str(tt).zfill(2)+'.nc', chunks={'Nisf': 1})\n",
    "file_TS = file_TS_orig.sel(Nisf=large_isf).chunk(chunks={'depth': 20})\n",
    "filled_TS = file_TS.ffill(dim='depth')\n",
    "T_isf = filled_TS['theta_ocean'].interp({'depth': depth_of_int}).drop('depth')"
   ]
  },
  {
   "cell_type": "code",
   "execution_count": null,
   "id": "10bc9aa9-8b97-4d41-bcda-dccc2a1e6442",
   "metadata": {},
   "outputs": [],
   "source": [
    "T_isf = T_isf.to_dataset(name='theta_in')\n",
    "print('here2')\n",
    "T_isf['salinity_in'] = filled_TS['salinity_ocean'].interp({'depth': depth_of_int}).drop('depth')\n",
    "T_isf['salinity_in'] = T_isf['salinity_in'].where(file_isf['ISF_mask']==file_isf.Nisf).sum('Nisf')#.where(depth_of_int>0)\n",
    "print('here3')\n",
    "depth_of_int = depth_of_int.where(file_isf['ISF_mask'] > 1).sum('Nisf')\n",
    "depth_of_int = depth_of_int.where(depth_of_int>0)\n",
    "T_isf['freezing_T'] = meltf.freezing_temperature(T_isf['salinity_in'], -1*depth_of_int)\n",
    "print('here4')\n",
    "T_isf['thermal_forcing'] = T_isf['theta_in'] - T_isf['freezing_T']\n",
    "T_isf['depth_of_int'] = depth_of_int\n"
   ]
  },
  {
   "cell_type": "code",
   "execution_count": null,
   "id": "096f82bc-485b-489f-bceb-94a5db9b0a37",
   "metadata": {},
   "outputs": [],
   "source": [
    "ref = 'isf_draft'"
   ]
  },
  {
   "cell_type": "code",
   "execution_count": null,
   "id": "92d32d07-9700-41e9-b6e6-376c36dce6ad",
   "metadata": {},
   "outputs": [],
   "source": [
    "T_isf.to_netcdf(inputpath_profiles+'T_S_2D_fields_'+ref+'_oneFRIS_yy'+str(tt).zfill(2)+'.nc','w')"
   ]
  },
  {
   "cell_type": "code",
   "execution_count": null,
   "id": "fe156100-1962-4cec-ada9-dec7d37426f2",
   "metadata": {},
   "outputs": [],
   "source": [
    "tt = 0\n",
    "ice_draft_pos = file_other_cut['corrected_isfdraft'].sel(time=tt)\n",
    "ice_draft_pos.load()"
   ]
  },
  {
   "cell_type": "code",
   "execution_count": null,
   "id": "f4280138-58e2-46ce-843c-edd542c1b2b5",
   "metadata": {},
   "outputs": [],
   "source": [
    "filled_TS['theta_ocean']"
   ]
  },
  {
   "cell_type": "code",
   "execution_count": null,
   "id": "6c95ed6c-e7fd-4c54-bad0-a7df607043a1",
   "metadata": {},
   "outputs": [],
   "source": [
    "        print('here1')\n",
    "        T_isf = filled_TS['theta_ocean'].interp({'depth': depth_of_int}).drop('depth')"
   ]
  },
  {
   "cell_type": "code",
   "execution_count": null,
   "id": "607cb545-f2db-4ae9-9162-72a69e296b5d",
   "metadata": {},
   "outputs": [],
   "source": []
  },
  {
   "cell_type": "code",
   "execution_count": null,
   "id": "98ae166e-24d5-4751-b222-a26b8cfea2d2",
   "metadata": {},
   "outputs": [],
   "source": [
    "depth_of_int"
   ]
  },
  {
   "cell_type": "code",
   "execution_count": null,
   "id": "018aba55-3844-44c3-b543-754e88c7ce25",
   "metadata": {},
   "outputs": [],
   "source": [
    "filled_TS['theta_ocean']"
   ]
  },
  {
   "cell_type": "code",
   "execution_count": null,
   "id": "18ebd374-41f3-4698-9e74-58503ae9e516",
   "metadata": {},
   "outputs": [],
   "source": [
    "        T_isf = T_isf.where(file_isf['ISF_mask']==file_isf.Nisf).sum('Nisf')#.where(depth_of_int>0)"
   ]
  },
  {
   "cell_type": "code",
   "execution_count": null,
   "id": "6a558a6b-0e78-4e15-9732-286325da2262",
   "metadata": {},
   "outputs": [],
   "source": [
    "        T_isf = T_isf.to_dataset(name='theta_in')\n",
    "        print('here2')\n",
    "        T_isf['salinity_in'] = filled_TS['salinity_ocean'].interp({'depth': depth_of_int}).drop('depth')\n",
    "        T_isf['salinity_in'] = T_isf['salinity_in'].where(file_isf['ISF_mask']==file_isf.Nisf).sum('Nisf')#.where(depth_of_int>0)\n",
    "        print('here3')\n",
    "        depth_of_int = depth_of_int.where(file_isf['ISF_mask'] > 1).sum('Nisf')\n",
    "        depth_of_int = depth_of_int.where(depth_of_int>0)\n",
    "        T_isf['freezing_T'] = meltf.freezing_temperature(T_isf['salinity_in'], -1*depth_of_int)\n",
    "        print('here4')\n",
    "        T_isf['thermal_forcing'] = T_isf['theta_in'] - T_isf['freezing_T']\n",
    "        T_isf['depth_of_int'] = depth_of_int\n",
    "\n",
    "        # project it on 2D\n",
    "        #T_isf = T_isf.sum('Nisf')\n",
    "        T_isf.to_netcdf(inputpath_profiles+'T_S_2D_fields_'+ref+'_oneFRIS_yy'+str(tt).zfill(2)+'.nc','w')\n",
    "        #del T_isf\n",
    "        #del depth_of_int"
   ]
  },
  {
   "cell_type": "markdown",
   "id": "indian-trade",
   "metadata": {},
   "source": [
    "First 2D fields of thermal forcing"
   ]
  },
  {
   "cell_type": "code",
   "execution_count": null,
   "id": "functional-isolation",
   "metadata": {},
   "outputs": [],
   "source": [
    "ice_draft_isf = ice_draft_pos.where(param_var_of_int['ISF_mask'] == file_isf.Nisf).chunk(chunks={'Nisf': 1})\n",
    "#plume_isf = plume_charac.where(param_var_of_int['ISF_mask'] == file_isf.Nisf).chunk(chunks={'Nisf': 1})"
   ]
  },
  {
   "cell_type": "code",
   "execution_count": null,
   "id": "20775ddc-be59-4031-937c-cca71b16a53b",
   "metadata": {},
   "outputs": [],
   "source": [
    "filled_TS = file_TS.ffill(dim='depth')#chunk({'x': chunk_size, 'y': chunk_size, 'time': 5, 'profile_domain': 1})\n",
    "\n",
    "#for ref in ['isf_draft', 'GL_depth_cavity', 'GL_depth_lazero']:#,'bottom_front']:\n",
    "#for ref in ['GL_depth_cavity', 'GL_depth_lazero']:#,'bottom_front']:\n",
    "for ref in ['isf_draft']:#,'bottom_front']:\n",
    "    \n",
    "    print(ref)\n",
    "    # DOES NOT WORK YET\n",
    "    if ref == 'bottom_front':\n",
    "        # Entering temperature and salinity profiles\n",
    "        n = 0\n",
    "        for kisf in file_isf.Nisf:\n",
    "            depth_of_int_kisf = param_var_of_int['front_bot_depth_max'].sel(Nisf=kisf).where(file_isf['ISF_mask']==kisf)\n",
    "            if n == 0:\n",
    "                depth_of_int = depth_of_int_kisf.squeeze().drop('Nisf')\n",
    "            else:\n",
    "                depth_of_int = depth_of_int.combine_first(depth_of_int_kisf).squeeze().drop('Nisf')\n",
    "            n = n+1\n",
    "            \n",
    "    elif ref == 'isf_draft':\n",
    "        # ice draft depth or deepest entrance depth\n",
    "        depth_of_int = ice_draft_isf.where(ice_draft_isf<param_var_of_int['front_bot_depth_max'], \n",
    "                                           param_var_of_int['front_bot_depth_max']).chunk(chunks={'Nisf':1})\n",
    "        depth_of_int = depth_of_int.where(file_isf['ISF_mask'] == file_isf.Nisf, 0).chunk({'Nisf': 1})\n",
    "        #depth_of_int = depth_of_int.where(file_isf['ISF_mask'] > 1).sum('Nisf')\n",
    "        #depth_of_int = depth_of_int.where(depth_of_int>0)\n",
    "        \n",
    "    elif ref == 'GL_depth_cavity':\n",
    "        # deepest GL point\n",
    "        depth_of_int = -1*plume_charac['zGL'].sel(option='simple').where(file_isf['ISF_mask']==file_isf.Nisf,0).chunk({'Nisf': 1})\n",
    "        #depth_of_int = depth_of_int.where(depth_of_int>0)\n",
    "    elif ref == 'GL_depth_lazero':\n",
    "        # depth from Lazero\n",
    "        depth_of_int = -1*plume_charac['zGL'].sel(option='lazero').where(file_isf['ISF_mask']==file_isf.Nisf,0).chunk({'Nisf': 1})\n",
    "        #depth_of_int = depth_of_int.where(depth_of_int>0)\n",
    "        \n",
    "    print('here1')\n",
    "    T_isf = filled_TS['theta_ocean'].interp({'depth': depth_of_int}).drop('depth')\n",
    "    T_isf = T_isf.where(file_isf['ISF_mask']==file_isf.Nisf).sum('Nisf')#.where(depth_of_int>0)\n",
    "    T_isf = T_isf.to_dataset(name='theta_in')\n",
    "    print('here2')\n",
    "    T_isf['salinity_in'] = filled_TS['salinity_ocean'].interp({'depth': depth_of_int}).drop('depth')\n",
    "    T_isf['salinity_in'] = T_isf['salinity_in'].where(file_isf['ISF_mask']==file_isf.Nisf).sum('Nisf')#.where(depth_of_int>0)\n",
    "    print('here3')\n",
    "    depth_of_int = depth_of_int.where(file_isf['ISF_mask'] > 1).sum('Nisf')\n",
    "    depth_of_int = depth_of_int.where(depth_of_int>0)\n",
    "    T_isf['freezing_T'] = meltf.freezing_temperature(T_isf['salinity_in'], -1*depth_of_int)\n",
    "    print('here4')\n",
    "    T_isf['thermal_forcing'] = T_isf['theta_in'] - T_isf['freezing_T']\n",
    "    T_isf['depth_of_int'] = depth_of_int\n",
    "    \n",
    "    # project it on 2D\n",
    "    #T_isf = T_isf.sum('Nisf')\n",
    "    T_isf.to_netcdf(inputpath_profiles+'T_S_2D_fields_'+ref+'_oneFRIS.nc','w')\n",
    "    del T_isf\n",
    "    del depth_of_int"
   ]
  },
  {
   "cell_type": "code",
   "execution_count": null,
   "id": "18bef17b-5a35-47de-b8a8-3544a4609b08",
   "metadata": {},
   "outputs": [],
   "source": [
    "T_S_2D_isfdraft = xr.open_mfdataset(inputpath_profiles+'T_S_2D_fields_isf_draft.nc', chunks={'x': chunk_size, 'y': chunk_size})"
   ]
  },
  {
   "cell_type": "code",
   "execution_count": null,
   "id": "4207b93c-5c30-4efd-a7de-a55daa60f3e9",
   "metadata": {},
   "outputs": [],
   "source": [
    "T_S_2D_isfdraft"
   ]
  },
  {
   "cell_type": "code",
   "execution_count": null,
   "id": "8ea2de64-63ac-46e8-b937-2ff0b0374ce0",
   "metadata": {},
   "outputs": [],
   "source": [
    "weighted_mean_test = uf.weighted_mean(\n",
    "        T_S_2D_isfdraft['thermal_forcing'].where(file_isf['ISF_mask'] == file_isf.Nisf).chunk({'Nisf': 1}), \n",
    "        ['x', 'y'], \n",
    "        file_isf_conc.where(file_isf['ISF_mask'] == file_isf.Nisf).chunk({'Nisf': 1}))"
   ]
  },
  {
   "cell_type": "code",
   "execution_count": null,
   "id": "8d6a777c-d192-450d-94f7-68e6d92baa4a",
   "metadata": {},
   "outputs": [],
   "source": [
    "# DOES NOT WORK YET!\n",
    "weighted_mean_test.isel(time=0,profile_domain=0).where(file_isf['ISF_mask'] == file_isf.Nisf).chunk({'Nisf': 1}).sum('Nisf').plot()\n",
    "\n"
   ]
  }
 ],
 "metadata": {
  "kernelspec": {
   "display_name": "py38",
   "language": "python",
   "name": "py38"
  },
  "language_info": {
   "codemirror_mode": {
    "name": "ipython",
    "version": 3
   },
   "file_extension": ".py",
   "mimetype": "text/x-python",
   "name": "python",
   "nbconvert_exporter": "python",
   "pygments_lexer": "ipython3",
   "version": "3.8.12"
  }
 },
 "nbformat": 4,
 "nbformat_minor": 5
}
