{
 "cells": [
  {
   "cell_type": "code",
   "execution_count": null,
   "id": "1b78d6cf-f0c6-4692-9097-f116773b4f62",
   "metadata": {},
   "outputs": [],
   "source": [
    "\"\"\"\n",
    "Created on Thu Feb 16 19:54 2023\n",
    "\n",
    "Use Jeremie's basins to define a mask and then fine-tune for a few imprecisions\n",
    "=> this mask can then be used to define the ice shelves in the ice-shelf mask routines\n",
    "\n",
    "@author: Clara Burgard\n",
    "\"\"\""
   ]
  },
  {
   "cell_type": "code",
   "execution_count": null,
   "id": "cff45fc7-9dda-44c1-8c8c-8c27acbff3b6",
   "metadata": {},
   "outputs": [],
   "source": [
    "import xarray as xr\n",
    "import matplotlib.pyplot as plt\n",
    "import basal_melt_param.useful_functions as uf\n",
    "import matplotlib as mpl\n",
    "from tqdm.notebook import tqdm\n",
    "import basal_melt_param.plume_functions as pf\n",
    "from scipy.interpolate import griddata"
   ]
  },
  {
   "cell_type": "code",
   "execution_count": null,
   "id": "0e649675-6adc-456c-b460-103ff639e2a6",
   "metadata": {},
   "outputs": [],
   "source": [
    "inputpath_raw = '/bettik/burgardc/DATA/NN_PARAM/raw/'"
   ]
  },
  {
   "cell_type": "code",
   "execution_count": null,
   "id": "f33d96d9-553a-4b7a-a893-4209d7b9e68b",
   "metadata": {},
   "outputs": [],
   "source": [
    "# needed for the old Nisf numbers and defining the domain\n",
    "inputpath_data='/bettik/burgardc/DATA/BASAL_MELT_PARAM/interim/ANTARCTICA_IS_MASKS/nemo_5km_OPM016/'\n",
    "file_isf = xr.open_dataset(inputpath_data + 'nemo_5km_isf_masks_and_info_and_distance_new_oneFRIS.nc')\n",
    "\n"
   ]
  },
  {
   "cell_type": "markdown",
   "id": "4a7de0ca-e739-449f-b91f-ef6c9d700b70",
   "metadata": {
    "jp-MarkdownHeadingCollapsed": true,
    "tags": []
   },
   "source": [
    "READ THE BASINS AND EXTRAPOLATE A BIT OUT INTO THE OCEAN TO BE SURE TO CATCH THE EDGES"
   ]
  },
  {
   "cell_type": "code",
   "execution_count": null,
   "id": "f7db248f-2ce6-4e35-ac0c-7314938997f0",
   "metadata": {},
   "outputs": [],
   "source": [
    "drainage_basins_file = xr.open_dataset(inputpath_raw + 'IceBoundaries_Y2015-2017_Antarctica_v2.2.1.nc')\n",
    "drainage_basins = drainage_basins_file['Ice_Shelf_Basins_ID'].sel(x=file_isf.x,y=file_isf.y)\n",
    "\n",
    "Iceshelf = drainage_basins\n",
    "# extrapolation of nan data\n",
    "X2d, Y2d = np.meshgrid(Iceshelf['x'], Iceshelf['y'])\n",
    "mxy = Iceshelf['x'].size * Iceshelf['y'].size\n",
    "mask_variable1d = np.reshape(Iceshelf.values, mxy)\n",
    "X1d = np.reshape(X2d, mxy)\n",
    "Y1d = np.reshape(Y2d, mxy)\n",
    "mask_variable1d_nonan = mask_variable1d[ ~np.isnan(mask_variable1d)]\n",
    "X1d_nonan = X1d[ ~np.isnan(mask_variable1d)]\n",
    "Y1d_nonan = Y1d[ ~np.isnan(mask_variable1d)]\n",
    "tx1d = griddata((X1d_nonan,Y1d_nonan), mask_variable1d_nonan, (X1d,Y1d), method='nearest', fill_value=np.nan)\n",
    "mask_variable2d = np.reshape(tx1d,(Iceshelf['y'].size, Iceshelf['x'].size))\n",
    "Iceshelf['ID_isf'] = (('y', 'x'), mask_variable2d)\n",
    "\n",
    "\n",
    "isf_names_file = xr.open_dataset(inputpath_raw + 'Melt_Rignot_Adusumilli_Basins.nc')\n",
    "summary_mask_basins = xr.merge([isf_names_file['name_isf'],isf_names_file['name_reg'],Iceshelf['ID_isf'].rename({'ID_isf': 'Nisf'})])\n",
    "\n",
    "missing_names = xr.DataArray(data=np.array(['East Ant1 small isf','Larsen A']), dims=['Nisf'])\n",
    "missing_names = missing_names.assign_coords({'Nisf': [12, 96]}).rename('name_isf')\n",
    "missing_regs = xr.DataArray(data=np.array(['East 1','Weddell']), dims=['Nisf'])\n",
    "missing_regs = missing_regs.assign_coords({'Nisf': [12, 96]}).rename('name_reg')\n",
    "\n",
    "summary_mask_basins = xr.merge([summary_mask_basins,missing_names,missing_regs])\n",
    "\n",
    "coloc_list = []\n",
    "for ID_basin in summary_mask_basins['Nisf'].values:\n",
    "    for ID_isf in file_isf['Nisf'].values:\n",
    "        if summary_mask_basins['name_isf'].sel(Nisf=ID_basin).values == file_isf['isf_name'].sel(Nisf=ID_isf):\n",
    "            coloc_list.append(xr.DataArray(data=np.array(ID_isf)).rename('Nisf_orig').assign_coords({'Nisf': ID_basin}))\n",
    "            \n",
    "summary_mask_basins['Nisf_orig'] = xr.concat(coloc_list, dim='Nisf')\n",
    "summary_mask_basins.to_netcdf('/bettik/burgardc/DATA/NN_PARAM/interim/basins_mask_extrap_50km.nc')"
   ]
  },
  {
   "cell_type": "code",
   "execution_count": null,
   "id": "87d30a62-e77c-4771-bc82-7363edea8e7c",
   "metadata": {},
   "outputs": [],
   "source": [
    "summary_mask_basins"
   ]
  },
  {
   "cell_type": "markdown",
   "id": "d06f7576-6616-4e5f-a3b3-02bbe8b644d2",
   "metadata": {},
   "source": [
    "MERGING RELEVANT SHELVES"
   ]
  },
  {
   "cell_type": "code",
   "execution_count": null,
   "id": "9df7ef58-ea8e-41f3-b6b3-6e24c4faa123",
   "metadata": {},
   "outputs": [],
   "source": [
    "summary_mask_basins = xr.open_dataset('/bettik/burgardc/DATA/NN_PARAM/interim/basins_mask_extrap_50km.nc')"
   ]
  },
  {
   "cell_type": "code",
   "execution_count": null,
   "id": "9be72794-3671-49f3-8354-f96d6fbe362d",
   "metadata": {},
   "outputs": [],
   "source": [
    "file_msk = file_mask_cut['ls_mask012']\n",
    "isf_only_mask = file_msk.where((file_msk > 0) & (file_msk < 2))\n",
    "isf_mask_all = summary_mask_basins['ID_isf'].where(np.isfinite(isf_only_mask))"
   ]
  },
  {
   "cell_type": "code",
   "execution_count": null,
   "id": "d662981c-49d9-4473-80c2-fd204ffa3e28",
   "metadata": {},
   "outputs": [],
   "source": [
    "isf_mask_withRossmerged = isf_mask_all.where(isf_mask_all != 58, 57)\n",
    "isf_mask_withRossFRISmerged = isf_mask_withRossmerged.where(isf_mask_withRossmerged != 104, 103)\n",
    "isf_mask_withRossFRISStangemerged = isf_mask_tt_withRossFRISmerged.where(isf_mask_withRossFRISmerged != 82, 83)\n",
    "isf_mask_merged1 = isf_mask_withRossFRISStangemerged.where(isf_mask_withRossFRISStangemerged != 157, 89)\n",
    "isf_mask_merged2 = isf_mask_merged1.where(isf_mask_merged1 != 156, 89)\n",
    "isf_mask_merged1 = isf_mask_merged2.where(isf_mask_merged2 != 149, 89)\n",
    "isf_mask_merged2 = isf_mask_merged1.where(isf_mask_merged1 != 147, 89)\n",
    "isf_mask_merged1 = isf_mask_merged2.where(isf_mask_merged2 != 148, 84)\n",
    "isf_mask_merged2 = isf_mask_merged1.where(isf_mask_merged1 != 127, 84)\n",
    "isf_mask_merged1 = isf_mask_merged2.where(isf_mask_merged2 != 146, 85)\n",
    "isf_mask_merged1 = isf_mask_merged2.where(isf_mask_merged2 != 153, 72)"
   ]
  },
  {
   "cell_type": "code",
   "execution_count": null,
   "id": "61eb5511-ceaa-4b52-95c4-1337262a514a",
   "metadata": {},
   "outputs": [],
   "source": []
  }
 ],
 "metadata": {
  "kernelspec": {
   "display_name": "py38",
   "language": "python",
   "name": "py38"
  },
  "language_info": {
   "codemirror_mode": {
    "name": "ipython",
    "version": 3
   },
   "file_extension": ".py",
   "mimetype": "text/x-python",
   "name": "python",
   "nbconvert_exporter": "python",
   "pygments_lexer": "ipython3",
   "version": "3.8.12"
  }
 },
 "nbformat": 4,
 "nbformat_minor": 5
}
