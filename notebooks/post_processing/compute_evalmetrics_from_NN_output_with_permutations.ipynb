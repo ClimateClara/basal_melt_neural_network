{
 "cells": [
  {
   "cell_type": "code",
   "execution_count": null,
   "id": "c0e7da80-7af2-47da-afa0-7275b6546ee6",
   "metadata": {},
   "outputs": [],
   "source": [
    "\"\"\"\n",
    "Created on Fri Apr 15 11:16 2022\n",
    "\n",
    "Convert \"raw output\" from the model to melt Gt per y to compute the RMSE ultimately\n",
    "\n",
    "Author: @claraburgard\n",
    "\n",
    "\"\"\""
   ]
  },
  {
   "cell_type": "code",
   "execution_count": null,
   "id": "dc56b061-6595-432f-9b4e-17f7bfe0ef7b",
   "metadata": {},
   "outputs": [],
   "source": [
    "import numpy as np\n",
    "import xarray as xr\n",
    "from tqdm.notebook import trange, tqdm\n",
    "import glob\n",
    "import matplotlib as mpl\n",
    "import seaborn as sns\n",
    "import datetime\n",
    "import time\n",
    "import os,sys\n",
    "\n",
    "import tensorflow as tf\n",
    "from tensorflow import keras\n",
    "from contextlib import redirect_stdout\n",
    "\n",
    "from basal_melt_neural_networks.constants import *\n",
    "import basal_melt_neural_networks.diagnostic_functions as diag\n",
    "import basal_melt_neural_networks.data_formatting as dfmt\n",
    "from basal_melt_param.constants import *"
   ]
  },
  {
   "cell_type": "markdown",
   "id": "70cf5bf7-de64-474e-aad3-9e5556a50a22",
   "metadata": {},
   "source": [
    "READ IN DATA"
   ]
  },
  {
   "cell_type": "code",
   "execution_count": null,
   "id": "48813e88-99f6-4392-af95-ea51a3380b1c",
   "metadata": {},
   "outputs": [],
   "source": [
    "nemo_run0 = 'OPM021'\n",
    "if nemo_run0 in ['OPM031-1','OPM031-2']:\n",
    "    nemo_run = 'OPM031'\n",
    "else:\n",
    "    nemo_run = nemo_run0"
   ]
  },
  {
   "cell_type": "code",
   "execution_count": null,
   "id": "b61740ac-ba58-4cc1-a4d9-e9d1c123d61e",
   "metadata": {},
   "outputs": [],
   "source": [
    "outputpath_melt_nn = '/bettik/burgardc/DATA/NN_PARAM/processed/MELT_RATE/'\n",
    "inputpath_boxes = '/bettik/burgardc/DATA/BASAL_MELT_PARAM/interim/BOXES/nemo_5km_'+nemo_run+'/'\n",
    "inputpath_mask = '/bettik/burgardc/SCRIPTS/basal_melt_param/data/interim/ANTARCTICA_IS_MASKS/nemo_5km_'+nemo_run+'/'\n",
    "inputpath_data='/bettik/burgardc/DATA/BASAL_MELT_PARAM/interim/NEMO_eORCA025.L121_'+nemo_run+'_ANT_STEREO/'\n",
    "outputpath_melt = '/bettik/burgardc/DATA/BASAL_MELT_PARAM/processed/MELT_RATE/nemo_5km_'+nemo_run+'/'\n"
   ]
  },
  {
   "cell_type": "code",
   "execution_count": null,
   "id": "458261da-746c-4382-83ff-3a513593b576",
   "metadata": {},
   "outputs": [],
   "source": [
    "file_isf_orig = xr.open_dataset(inputpath_mask+'nemo_5km_isf_masks_and_info_and_distance_new.nc')\n",
    "nonnan_Nisf = file_isf_orig['Nisf'].where(np.isfinite(file_isf_orig['front_bot_depth_max']), drop=True).astype(int)\n",
    "file_isf_nonnan = file_isf_orig.sel(Nisf=nonnan_Nisf)\n",
    "large_isf = file_isf_nonnan['Nisf'].where(file_isf_nonnan['isf_area_here'] >= 2500, drop=True)\n",
    "file_isf = file_isf_nonnan.sel(Nisf=large_isf)"
   ]
  },
  {
   "cell_type": "code",
   "execution_count": null,
   "id": "c232522f-16cc-4a97-8208-7936a3d5aadc",
   "metadata": {},
   "outputs": [],
   "source": [
    "# make the domain a little smaller to make the computation even more efficient - file isf has already been made smaller at its creation\n",
    "map_lim = [-3000000,3000000]\n",
    "file_other = xr.open_dataset(inputpath_data+'corrected_draft_bathy_isf.nc')#, chunks={'x': chunk_size, 'y': chunk_size})\n",
    "file_other_cut = dfmt.cut_domain_stereo(file_other, map_lim, map_lim)\n",
    "file_conc = xr.open_dataset(inputpath_data+'isfdraft_conc_Ant_stereo.nc')\n",
    "file_conc_cut = dfmt.cut_domain_stereo(file_conc, map_lim, map_lim)"
   ]
  },
  {
   "cell_type": "code",
   "execution_count": null,
   "id": "777cd6a7-0d49-4f21-917b-9f5d245949ec",
   "metadata": {},
   "outputs": [],
   "source": [
    "ice_draft_pos = file_other_cut['corrected_isfdraft']\n",
    "ice_draft_neg = -ice_draft_pos"
   ]
  },
  {
   "cell_type": "code",
   "execution_count": null,
   "id": "3845bec6-c064-4568-a4fa-2343e18096ee",
   "metadata": {},
   "outputs": [],
   "source": [
    "box_charac_2D = xr.open_dataset(inputpath_boxes + 'nemo_5km_boxes_2D.nc')\n",
    "box_charac_1D = xr.open_dataset(inputpath_boxes + 'nemo_5km_boxes_1D.nc')"
   ]
  },
  {
   "cell_type": "markdown",
   "id": "76551382-36c4-48d6-826b-9fd2319dc501",
   "metadata": {},
   "source": [
    "PREPARE GEOMETRICAL INFO"
   ]
  },
  {
   "cell_type": "code",
   "execution_count": null,
   "id": "505986e5-78f4-48b1-93a9-23618a052650",
   "metadata": {},
   "outputs": [],
   "source": [
    "isf_stack_mask = dfmt.create_stacked_mask(file_isf['ISF_mask'], file_isf.Nisf, ['y','x'], 'mask_coord')"
   ]
  },
  {
   "cell_type": "code",
   "execution_count": null,
   "id": "38417a29-4270-45be-ad9f-74fcd83eca70",
   "metadata": {},
   "outputs": [],
   "source": [
    "verbose=True\n",
    "nisf_list = file_isf.Nisf\n",
    "\n",
    "file_isf_conc = file_conc_cut['isfdraft_conc']\n",
    "\n",
    "xx = file_isf.x\n",
    "yy = file_isf.y\n",
    "dx = (xx[2] - xx[1]).values\n",
    "dy = (yy[2] - yy[1]).values\n",
    "grid_cell_area = abs(dx*dy)  \n",
    "grid_cell_area_weighted = file_isf_conc * grid_cell_area"
   ]
  },
  {
   "cell_type": "code",
   "execution_count": null,
   "id": "dbbee43c-1e16-41e9-b7ba-bde442669f43",
   "metadata": {},
   "outputs": [],
   "source": [
    "geometry_info_2D = xr.merge([ice_draft_pos.rename('ice_draft_pos'),\n",
    "                            grid_cell_area_weighted.rename('grid_cell_area_weighted'),\n",
    "                            file_isf_conc])"
   ]
  },
  {
   "cell_type": "code",
   "execution_count": null,
   "id": "2ca0515a-5e0f-4186-9ccd-a376bb2663f1",
   "metadata": {},
   "outputs": [],
   "source": [
    "var_list = ['T_002',\n",
    "       'T_003', 'T_004', 'T_005', 'T_006', 'T_007', 'T_008', 'T_009',\n",
    "       'T_010', 'T_011', 'T_012', 'T_013', 'T_014', 'T_015', 'T_016',\n",
    "       'T_017', 'T_018', 'T_019', 'T_020', 'T_021', 'T_022', 'T_023',\n",
    "       'T_024', 'T_025', 'T_026', 'T_027', 'T_028', 'T_029', 'T_030',\n",
    "       'T_031', 'T_032', 'T_033', 'T_034', 'T_035', 'T_036', 'T_037',\n",
    "       'T_038', 'T_039', 'T_040', 'T_041', 'T_042', 'T_043', 'T_044',\n",
    "       'T_045', 'T_046', 'T_047', 'T_048', 'T_049', 'T_050', 'T_051',\n",
    "       'T_052', 'T_053', 'T_054', 'T_055', 'T_056', 'T_057', 'T_058',\n",
    "       'T_059', 'T_060', 'T_061', 'T_062', 'T_063', 'T_064', 'T_065',\n",
    "       'T_066', 'T_067', 'T_068', 'S_001', 'S_002', 'S_003', 'S_004',\n",
    "       'S_005', 'S_006', 'S_007', 'S_008', 'S_009']"
   ]
  },
  {
   "cell_type": "code",
   "execution_count": null,
   "id": "33a5be29-ac4f-4185-b5ec-f3cb6e5b8ff2",
   "metadata": {},
   "outputs": [],
   "source": [
    "var_list = ['dGL', 'dIF', 'corrected_isfdraft', 'bathy_metry', 'slope_bed_lon',\n",
    "       'slope_bed_lat', 'slope_ice_lon', 'slope_ice_lat', 'isf_area',\n",
    "       'entry_depth_max', 'isfdraft_conc', 'u_tide', 'T_001', 'T_002',\n",
    "       'T_003', 'T_004', 'T_005', 'T_006', 'T_007', 'T_008', 'T_009',\n",
    "       'T_010', 'T_011', 'T_012', 'T_013', 'T_014', 'T_015', 'T_016',\n",
    "       'T_017', 'T_018', 'T_019', 'T_020', 'T_021', 'T_022', 'T_023',\n",
    "       'T_024', 'T_025', 'T_026', 'T_027', 'T_028', 'T_029', 'T_030',\n",
    "       'T_031', 'T_032', 'T_033', 'T_034', 'T_035', 'T_036', 'T_037',\n",
    "       'T_038', 'T_039', 'T_040', 'T_041', 'T_042', 'T_043', 'T_044',\n",
    "       'T_045', 'T_046', 'T_047', 'T_048', 'T_049', 'T_050', 'T_051',\n",
    "       'T_052', 'T_053', 'T_054', 'T_055', 'T_056', 'T_057', 'T_058',\n",
    "       'T_059', 'T_060', 'T_061', 'T_062', 'T_063', 'T_064', 'T_065',\n",
    "       'T_066', 'T_067', 'T_068', 'S_001', 'S_002', 'S_003', 'S_004',\n",
    "       'S_005', 'S_006', 'S_007', 'S_008', 'S_009', 'S_010', 'S_011',\n",
    "       'S_012', 'S_013', 'S_014', 'S_015', 'S_016', 'S_017', 'S_018',\n",
    "       'S_019', 'S_020', 'S_021', 'S_022', 'S_023', 'S_024', 'S_025',\n",
    "       'S_026', 'S_027', 'S_028', 'S_029', 'S_030', 'S_031', 'S_032',\n",
    "       'S_033', 'S_034', 'S_035', 'S_036', 'S_037', 'S_038', 'S_039',\n",
    "       'S_040', 'S_041', 'S_042', 'S_043', 'S_044', 'S_045', 'S_046',\n",
    "       'S_047', 'S_048', 'S_049', 'S_050', 'S_051', 'S_052', 'S_053',\n",
    "       'S_054', 'S_055', 'S_056', 'S_057', 'S_058', 'S_059', 'S_060',\n",
    "       'S_061', 'S_062', 'S_063', 'S_064', 'S_065', 'S_066', 'S_067',\n",
    "       'S_068', 'water_column']"
   ]
  },
  {
   "cell_type": "code",
   "execution_count": null,
   "id": "74092c5a-0f72-4b7d-8185-5d51a612c7b2",
   "metadata": {},
   "outputs": [],
   "source": [
    "#timetag_list = ['20220427-1051']\n",
    "#timetag_list = ['20220427-1059','20220427-1021','20220427-1042','20220427-1051']\n",
    "#timetag_list = ['20220427-1058','20220427-0957','20220427-1002']\n",
    "\n",
    "for shuff_var in var_list:\n",
    "    print(shuff_var)\n",
    "\n",
    "    for timetag in ['20220427-1051']:\n",
    "\n",
    "        print(timetag)\n",
    "\n",
    "        new_path_output = outputpath_melt_nn+timetag+'/'\n",
    "        nn_output_m_ice_per_y = xr.open_dataset(new_path_output+'NN_melt_predicted_reference_m_ice_per_yr_'+nemo_run0+'_shuffled'+shuff_var+'.nc')\n",
    "\n",
    "\n",
    "        tuning_mode = False\n",
    "        nisf_list = file_isf.Nisf\n",
    "\n",
    "        if verbose:\n",
    "            time_start = time.time()\n",
    "            print('WELCOME! AS YOU WISH, I WILL COMPUTE THE EVALUATION METRICS FOR '+str(len(nisf_list))+' ICE SHELVES')\n",
    "\n",
    "        if verbose:\n",
    "            list_loop = tqdm(nisf_list)\n",
    "        else:\n",
    "            list_loop = nisf_list\n",
    "\n",
    "        if box_charac_2D and box_charac_1D:\n",
    "            box_loc_config2 = box_charac_2D['box_location'].sel(box_nb_tot=box_charac_1D['nD_config'].sel(config=2))\n",
    "            box1 = box_loc_config2.where(box_loc_config2==1).isel(Nisf=0).drop('Nisf')\n",
    "        #elif not box_charac_2D:\n",
    "        #    return print('You have not given me the 2D box characteristics! :( ')\n",
    "        #elif not box_charac_1D:\n",
    "        #    return print('You have not given me the 1D box characteristics! :( ')\n",
    "\n",
    "        melt1D_Gt_per_yr_list = []\n",
    "        if not tuning_mode:\n",
    "            melt1D_myr_box1_list = []\n",
    "\n",
    "        for kisf in list_loop:\n",
    "            #print(kisf, n)\n",
    "            geometry_isf_2D = dfmt.choose_isf(geometry_info_2D,isf_stack_mask, kisf)\n",
    "            melt_rate_2D_isf_m_per_y = dfmt.choose_isf(nn_output_m_ice_per_y['predicted_melt'].reindex_like(file_isf['ISF_mask']),isf_stack_mask, kisf)\n",
    "\n",
    "            melt_rate_1D_isf_Gt_per_y = (melt_rate_2D_isf_m_per_y * geometry_isf_2D['grid_cell_area_weighted']).sum(dim=['mask_coord']) * rho_i / 10**12\n",
    "            melt1D_Gt_per_yr_list.append(melt_rate_1D_isf_Gt_per_y)\n",
    "\n",
    "            if not tuning_mode:\n",
    "                box_loc_config_stacked = dfmt.choose_isf(box1, isf_stack_mask, kisf)\n",
    "                param_melt_2D_box1_isf = melt_rate_2D_isf_m_per_y.where(np.isfinite(box_loc_config_stacked))\n",
    "\n",
    "                melt_rate_1D_isf_myr_box1_mean = dfmt.weighted_mean(param_melt_2D_box1_isf,['mask_coord'], geometry_isf_2D['isfdraft_conc'])     \n",
    "                melt1D_myr_box1_list.append(melt_rate_1D_isf_myr_box1_mean)\n",
    "\n",
    "        melt1D_Gt_per_yr = xr.concat(melt1D_Gt_per_yr_list, dim='Nisf')\n",
    "        if not tuning_mode:\n",
    "            melt1D_myr_box1 = xr.concat(melt1D_myr_box1_list, dim='Nisf')\n",
    "\n",
    "        melt1D_Gt_per_yr_ds = melt1D_Gt_per_yr.to_dataset(name='melt_1D_Gt_per_y')\n",
    "        if not tuning_mode:\n",
    "            melt1D_myr_box1_ds = melt1D_myr_box1.to_dataset(name='melt_1D_mean_myr_box1')\n",
    "            out_1D = xr.merge([melt1D_Gt_per_yr_ds, melt1D_myr_box1_ds])\n",
    "        else:\n",
    "            out_1D = melt1D_Gt_per_yr_ds\n",
    "\n",
    "        if verbose:\n",
    "            timelength = time.time() - time_start\n",
    "            print(\"I AM DONE! IT TOOK: \"+str(round(timelength,2))+\" seconds.\")\n",
    "\n",
    "        out_1D.to_netcdf(new_path_output+'eval_metrics_'+nemo_run0+'_shuffled'+shuff_var+'.nc')"
   ]
  },
  {
   "cell_type": "code",
   "execution_count": null,
   "id": "a5d7b063-bc72-451b-9b4e-f2b99f972c42",
   "metadata": {},
   "outputs": [],
   "source": [
    "out_1D"
   ]
  },
  {
   "cell_type": "code",
   "execution_count": null,
   "id": "0660fded-5ee7-4b8d-96ed-a8922d3a4d7b",
   "metadata": {},
   "outputs": [],
   "source": [
    "(nn_output_m_ice_per_y['predicted_melt'] - nonshuffled['predicted_melt']).min()"
   ]
  },
  {
   "cell_type": "code",
   "execution_count": null,
   "id": "064acc81-3f49-4e58-a024-f2582e2d0e9c",
   "metadata": {},
   "outputs": [],
   "source": [
    "nonshuffled = xr.open_dataset(new_path_output+'NN_melt_predicted_reference_m_ice_per_yr_'+nemo_run0+'.nc')\n"
   ]
  },
  {
   "cell_type": "code",
   "execution_count": null,
   "id": "098e4bda-520a-4068-96d8-6700259fcc08",
   "metadata": {},
   "outputs": [],
   "source": [
    "nonshuffled_melt = xr.open_dataset(new_path_output+'eval_metrics_'+nemo_run0+'.nc')"
   ]
  },
  {
   "cell_type": "code",
   "execution_count": null,
   "id": "81acb9a5-5f7e-4530-a087-e1c54ff47d6e",
   "metadata": {},
   "outputs": [],
   "source": [
    "nonshuffled_melt"
   ]
  },
  {
   "cell_type": "code",
   "execution_count": null,
   "id": "f8fea797-187a-4e49-82e6-4de29a4ff49f",
   "metadata": {},
   "outputs": [],
   "source": [
    "##############################"
   ]
  },
  {
   "cell_type": "code",
   "execution_count": null,
   "id": "884e0f3d-16c1-4f8c-bb34-abe6cc2bd249",
   "metadata": {},
   "outputs": [],
   "source": [
    "np.sqrt(((out_1D['melt_1D_Gt_per_y'] - ref_Gt).mean())**2)"
   ]
  },
  {
   "cell_type": "code",
   "execution_count": null,
   "id": "f232a78d-caca-4b8a-86c1-8e3b14d0a537",
   "metadata": {},
   "outputs": [],
   "source": [
    "out_1D['melt_1D_Gt_per_y']"
   ]
  },
  {
   "cell_type": "code",
   "execution_count": null,
   "id": "14c66e62-15e2-43dd-9c9f-8547971b83c5",
   "metadata": {},
   "outputs": [],
   "source": [
    "ref_Gt.T"
   ]
  },
  {
   "cell_type": "code",
   "execution_count": null,
   "id": "c6d27e7f-b2db-4880-a841-b3e7818a28ad",
   "metadata": {},
   "outputs": [],
   "source": [
    "plt.scatter(ref_Gt.T, out_1D['melt_1D_Gt_per_y'],alpha=0.1)"
   ]
  },
  {
   "cell_type": "code",
   "execution_count": null,
   "id": "2bb8beb9-b40f-4660-ba78-0ba75e8d5ab7",
   "metadata": {},
   "outputs": [],
   "source": [
    "kisf = 10\n",
    "out_1D['melt_1D_Gt_per_y'].sel(Nisf=kisf).plot(label='NN')\n",
    "ref_Gt.sel(Nisf=kisf).plot(label='ref')\n",
    "plt.legend()"
   ]
  },
  {
   "cell_type": "code",
   "execution_count": null,
   "id": "59077dcb-a728-45e2-951e-82af60205927",
   "metadata": {},
   "outputs": [],
   "source": [
    "NEMO_melt_rates_1D = xr.open_dataset(outputpath_melt+'melt_rates_1D_NEMO.nc')\n",
    "ref_Gt = NEMO_melt_rates_1D['melt_Gt_per_y_tot']\n",
    "NEMO_box1_myr = xr.open_dataset(outputpath_melt+'melt_rates_box1_NEMO.nc')\n",
    "ref_box1 = NEMO_box1_myr['mean_melt_box1_myr']\n"
   ]
  },
  {
   "cell_type": "code",
   "execution_count": null,
   "id": "6e05ea41-7fe8-4d99-8b8a-cc895f95d6a9",
   "metadata": {},
   "outputs": [],
   "source": [
    "out_1D['melt_1D_Gt_per_y'].Nisf"
   ]
  },
  {
   "cell_type": "code",
   "execution_count": null,
   "id": "d6fcc8bd-c3ad-45e0-b898-81f213c7ba19",
   "metadata": {},
   "outputs": [],
   "source": []
  },
  {
   "cell_type": "code",
   "execution_count": null,
   "id": "7f9b4adc-e949-4169-9384-267ed62a87c5",
   "metadata": {},
   "outputs": [],
   "source": [
    "(out_1D['melt_1D_Gt_per_y'] - ref_Gt).plot(vmax=40)"
   ]
  },
  {
   "cell_type": "code",
   "execution_count": null,
   "id": "f810f18f-846f-40d1-9d80-8872188b1549",
   "metadata": {},
   "outputs": [],
   "source": [
    "out_1D['melt_1D_Gt_per_y'].sel(Nisf=66).plot()"
   ]
  },
  {
   "cell_type": "code",
   "execution_count": null,
   "id": "e18f6d8b-7b07-48ab-9210-36632a0795fe",
   "metadata": {},
   "outputs": [],
   "source": [
    "nn_output_m_ice_per_y['predicted_melt'].where(file_isf['ISF_mask']==10, drop=True).mean('time').plot()"
   ]
  },
  {
   "cell_type": "code",
   "execution_count": null,
   "id": "a3dc6335-7a40-4fe0-a0b5-537b7f95daff",
   "metadata": {},
   "outputs": [],
   "source": [
    "nn_output_m_ice_per_y['reference_melt'].where(file_isf['ISF_mask']==10, drop=True).mean('time').plot()"
   ]
  },
  {
   "cell_type": "code",
   "execution_count": null,
   "id": "2d0910fd-9576-438b-85a2-10989891cec7",
   "metadata": {},
   "outputs": [],
   "source": []
  }
 ],
 "metadata": {
  "kernelspec": {
   "display_name": "neuralnet",
   "language": "python",
   "name": "neuralnet"
  },
  "language_info": {
   "codemirror_mode": {
    "name": "ipython",
    "version": 3
   },
   "file_extension": ".py",
   "mimetype": "text/x-python",
   "name": "python",
   "nbconvert_exporter": "python",
   "pygments_lexer": "ipython3",
   "version": "3.9.4"
  }
 },
 "nbformat": 4,
 "nbformat_minor": 5
}
