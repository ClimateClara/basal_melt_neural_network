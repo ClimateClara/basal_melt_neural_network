{
 "cells": [
  {
   "cell_type": "code",
   "execution_count": null,
   "id": "3a2da078-92be-4065-80e4-706de1f9698b",
   "metadata": {},
   "outputs": [],
   "source": [
    "\"\"\"\n",
    "Created on Wed Apr 15 09:53 2022\n",
    "\n",
    "Apply model coming from train_DNN_with_prepared_input.ipynb on one other run\n",
    "\n",
    "Author: @claraburgard\n",
    "\n",
    "\"\"\""
   ]
  },
  {
   "cell_type": "code",
   "execution_count": null,
   "id": "475db9f2-93ee-45d2-b132-fb9128757f29",
   "metadata": {},
   "outputs": [],
   "source": [
    "import numpy as np\n",
    "import xarray as xr\n",
    "from tqdm.notebook import trange, tqdm\n",
    "import glob\n",
    "import matplotlib as mpl\n",
    "import seaborn as sns\n",
    "import datetime\n",
    "import time\n",
    "import os,sys\n",
    "\n",
    "import tensorflow as tf\n",
    "from tensorflow import keras\n",
    "from contextlib import redirect_stdout\n",
    "\n",
    "from basal_melt_neural_networks.constants import *\n",
    "import basal_melt_neural_networks.diagnostic_functions as diag\n",
    "import basal_melt_neural_networks.data_formatting as dfmt"
   ]
  },
  {
   "cell_type": "markdown",
   "id": "8912d910-10dc-4041-85ad-58a51157d27d",
   "metadata": {},
   "source": [
    "READ IN DATA"
   ]
  },
  {
   "cell_type": "code",
   "execution_count": null,
   "id": "7e629462-b3d5-452f-8b30-b3ef4c313920",
   "metadata": {},
   "outputs": [],
   "source": [
    "inputpath_data = '/bettik/burgardc/DATA/NN_PARAM/interim/INPUT_DATA/'\n",
    "outputpath_melt_nn = '/bettik/burgardc/DATA/NN_PARAM/processed/MELT_RATE/'\n",
    "outputpath_nn_models = '/bettik/burgardc/DATA/NN_PARAM/interim/NN_MODELS/'\n",
    "outputpath_doc = '/bettik/burgardc/SCRIPTS/basal_melt_neural_networks/custom_doc/'"
   ]
  },
  {
   "cell_type": "code",
   "execution_count": null,
   "id": "076c925f-4114-41d7-8d5f-5d48fad0a8e8",
   "metadata": {},
   "outputs": [],
   "source": [
    "nemo_run0 = 'OPM006' #['OPM006', 'OPM016', 'OPM018', 'OPM021', 'OPM026', 'OPM027', 'OPM031-1', OPM031-2']\n",
    "if nemo_run0 in ['OPM031-1','OPM031-2']:\n",
    "    nemo_run = 'OPM031'\n",
    "else:\n",
    "    nemo_run = nemo_run0\n",
    "    \n",
    "inputpath_mask = '/bettik/burgardc/SCRIPTS/basal_melt_param/data/interim/ANTARCTICA_IS_MASKS/nemo_5km_'+nemo_run+'/'"
   ]
  },
  {
   "cell_type": "code",
   "execution_count": null,
   "id": "f867b63e-803b-4e05-a692-4bea9060736c",
   "metadata": {},
   "outputs": [],
   "source": [
    "file_isf = xr.open_dataset(inputpath_mask+'nemo_5km_isf_masks_and_info_and_distance_new.nc')"
   ]
  },
  {
   "cell_type": "code",
   "execution_count": null,
   "id": "0ce1e018-9baf-458c-bfce-5a8ea86ea1af",
   "metadata": {},
   "outputs": [],
   "source": [
    "isf_list = [10, 11, 12, 13, 18, 21, 22, 23, 24, 25, 30, 31, 33, 38, 39, \n",
    "            40, 42, 43, 44, 45, 47, 48, 51, 52, 53, 54, 55, 58, 61, 65, \n",
    "            66, 69, 70, 71, 73, 75]"
   ]
  },
  {
   "cell_type": "code",
   "execution_count": null,
   "id": "ebcb0bfa-143f-4fe3-9f08-846cb0e8d752",
   "metadata": {},
   "outputs": [],
   "source": [
    "for timetag in ['20220427-1059','20220427-1021','20220427-1042','20220427-1051']:\n",
    "    \n",
    "    \n",
    "    new_path_output = outputpath_melt_nn+timetag+'/'\n",
    "    if not os.path.isdir(new_path_output):\n",
    "        print(\"I did not find this folder \"+timetag+\") so I created a new one, I hope that's ok!\")\n",
    "        os.mkdir(new_path_output)\n",
    "    else:\n",
    "        print(\"This folder (\"+timetag+\") exists already!\")\n",
    "\n",
    "    new_path_model = outputpath_nn_models+timetag+'/'\n",
    "    if not os.path.isdir(new_path_model):\n",
    "        print(\"I did not find this folder (\"+timetag+\") in model folder so I created a new one, I hope that's ok!\")\n",
    "    \n",
    "    print(timetag)\n",
    "    if timetag in ['20220427-0957','20220427-1052','20220427-1058','20220427-1059']:\n",
    "        timetag_data = '20220427-0957'\n",
    "        path_data = inputpath_data+'EXTRAPOLATED_ISFDRAFT/'\n",
    "\n",
    "    elif timetag in ['20220427-1002','20220427-1021','20220427-1042','20220427-1051']:\n",
    "        timetag_data = '20220427-1002'\n",
    "        path_data = inputpath_data+'WHOLE_PROF/'\n",
    "        \n",
    "\n",
    "    norm_data_path = outputpath_nn_models+timetag_data+'/'\n",
    "\n",
    "    normalisation_coeff = xr.open_dataset(norm_data_path+ 'dataset_norm_training_factors_'+timetag_data+'.nc')\n",
    "    model = keras.models.load_model(new_path_model + 'model_nn_'+timetag+'.h5')\n",
    "\n",
    "    y_all_isf = None\n",
    "\n",
    "    for kisf in tqdm(isf_list): \n",
    "\n",
    "        ### READ DATA\n",
    "        df_nrun = pd.read_csv(path_data + 'dataframe_input_isf'+str(kisf).zfill(3)+'_'+nemo_run0+'.csv',index_col=[0,1,2])\n",
    "        clean_df_nrun_kisf = pd.read_csv(path_data + 'dataframe_input_isf'+str(kisf).zfill(3)+'_'+nemo_run0+'.csv',index_col=[0,1,2])\n",
    "        clean_df_nrun_kisf.reset_index(drop=True, inplace=True)\n",
    "        clean_ds_nrun_kisf = clean_df_nrun_kisf.to_xarray()\n",
    "\n",
    "        normalisation_coeff_input = normalisation_coeff.drop_vars(['melt_m_ice_per_y'])\n",
    "        normalised_vars = (clean_ds_nrun_kisf.drop_vars(['melt_m_ice_per_y']) - normalisation_coeff_input.sel(metric='mean_vars'))/normalisation_coeff_input.sel(metric='std_vars')\n",
    "\n",
    "        input_var = normalised_vars.to_array().load()\n",
    "        ref_melt = clean_ds_nrun_kisf['melt_m_ice_per_y'].load()\n",
    "\n",
    "        ### RUN THE MODEL\n",
    "        y_out_norm = model.predict(input_var.T.values)\n",
    "        y_out_norm_xr = xr.DataArray(data=y_out_norm.squeeze()).rename({'dim_0': 'index'})\n",
    "        y_out_norm_xr = y_out_norm_xr.assign_coords({'index': input_var.index})\n",
    "        y_out = (y_out_norm_xr * normalisation_coeff['melt_m_ice_per_y'].sel(metric='std_vars')) + normalisation_coeff['melt_m_ice_per_y'].sel(metric='mean_vars')\n",
    "\n",
    "        y_out_pd_s = pd.Series(y_out.values,index=df_nrun.index,name='predicted_melt') \n",
    "        y_target_pd_s = pd.Series(ref_melt.values,index=df_nrun.index,name='reference_melt') \n",
    "\n",
    "        ### PUT SOME ORDER IN THE FILE\n",
    "        y_out_xr = y_out_pd_s.to_xarray()\n",
    "        y_target_xr = y_target_pd_s.to_xarray()\n",
    "        y_to_compare = xr.merge([y_out_xr.T, y_target_xr.T]).sortby('y')\n",
    "\n",
    "        y_whole_grid = y_to_compare.reindex_like(file_isf['ISF_mask'])\n",
    "        if y_all_isf is None:\n",
    "            y_all_isf = y_whole_grid\n",
    "        else:\n",
    "            y_all_isf = y_all_isf.combine_first(y_whole_grid)\n",
    "\n",
    "    y_all_isf.to_netcdf(new_path_output+'NN_melt_predicted_reference_m_ice_per_yr_'+nemo_run0+'.nc')    "
   ]
  },
  {
   "cell_type": "code",
   "execution_count": null,
   "id": "c99b8bfb-d615-4bac-be9d-005db5d160e2",
   "metadata": {},
   "outputs": [],
   "source": [
    "nemo_run"
   ]
  },
  {
   "cell_type": "code",
   "execution_count": null,
   "id": "130fb4e1-ce1a-409c-8b2a-c343f9f0e969",
   "metadata": {},
   "outputs": [],
   "source": [
    "plt.scatter(y_all_isf['predicted_melt'],y_all_isf['reference_melt'], alpha=0.01)"
   ]
  },
  {
   "cell_type": "code",
   "execution_count": null,
   "id": "436a596f-db1a-498c-b2d1-3dfc0ae4257a",
   "metadata": {},
   "outputs": [],
   "source": [
    "############## OLD STUFF"
   ]
  },
  {
   "cell_type": "markdown",
   "id": "008c804f-933a-484e-b18e-cc01b7aa38e6",
   "metadata": {},
   "source": [
    "PREPARE DATA"
   ]
  },
  {
   "cell_type": "code",
   "execution_count": null,
   "id": "54da0b62-415f-439a-8265-8be5282d1281",
   "metadata": {},
   "outputs": [],
   "source": [
    "normalisation_coeff = xr.open_dataset(new_path_model+ 'dataset_norm_training_factors_'+timetag_data+'.nc')#.set_index('Unnamed: 0')#.drop('Unnamed: 0', 1)\n",
    "#normalisation_coeff.index.name = None\n",
    "normalisation_coeff_input = normalisation_coeff.drop_vars(['melt_m_ice_per_y'])"
   ]
  },
  {
   "cell_type": "code",
   "execution_count": null,
   "id": "7b2d5d70-0ff6-45d0-b524-f08ce3b5dd5d",
   "metadata": {},
   "outputs": [],
   "source": [
    "normalised_vars = (all_input_df.drop_vars(['melt_m_ice_per_y']) - normalisation_coeff_input.sel(metric='mean_vars'))/normalisation_coeff_input.sel(metric='std_vars')"
   ]
  },
  {
   "cell_type": "code",
   "execution_count": null,
   "id": "a79555ee-ee3c-4726-ae3f-4e16aa6e2d05",
   "metadata": {},
   "outputs": [],
   "source": [
    "input_var = normalised_vars.to_array().load()\n",
    "#ref_melt = all_input_df['melt_m_ice_per_y'].load()"
   ]
  },
  {
   "cell_type": "markdown",
   "id": "9f8bffdf-3ec4-4fad-bee4-aac5384cd26b",
   "metadata": {},
   "source": [
    "CHOOSE THE RIGHT MODEL"
   ]
  },
  {
   "cell_type": "code",
   "execution_count": null,
   "id": "ac99b139-dca9-4758-aee4-b11436af3129",
   "metadata": {},
   "outputs": [],
   "source": [
    "model = keras.models.load_model(new_path_model + 'model_nn_'+timetag+'.h5')"
   ]
  },
  {
   "cell_type": "code",
   "execution_count": null,
   "id": "7a36b84d-8306-43bb-9e96-60f12a9c8858",
   "metadata": {},
   "outputs": [],
   "source": [
    "y_out_norm = model.predict(input_var.T.values)"
   ]
  },
  {
   "cell_type": "code",
   "execution_count": null,
   "id": "0f419466-1bc0-4c64-b477-e05cdaeebc9b",
   "metadata": {},
   "outputs": [],
   "source": [
    "y_out_norm_xr = xr.DataArray(data=y_out_norm.squeeze()).rename({'dim_0': 'index'})\n",
    "y_out_norm_xr = y_out_norm_xr.assign_coords({'index': input_var.index})"
   ]
  },
  {
   "cell_type": "code",
   "execution_count": null,
   "id": "3da994bf-5287-4cea-8803-75bce472a64d",
   "metadata": {},
   "outputs": [],
   "source": [
    "y_out = (y_out_norm_xr * normalisation_coeff['melt_m_ice_per_y'].sel(metric='std_vars')) + normalisation_coeff['melt_m_ice_per_y'].sel(metric='mean_vars')"
   ]
  },
  {
   "cell_type": "code",
   "execution_count": null,
   "id": "29d47ff2-8c7d-4fc8-bd6a-c28d761b9a40",
   "metadata": {},
   "outputs": [],
   "source": [
    "y_out.values.shape"
   ]
  },
  {
   "cell_type": "code",
   "execution_count": null,
   "id": "49873e94-b47e-43b1-a179-c99cbb519936",
   "metadata": {},
   "outputs": [],
   "source": [
    "y_out_pd_s = pd.Series(y_out[:,0],index=df_nrun.index,name='predicted_melt') \n",
    "y_target_pd_s = pd.Series(y_val_arr,index=df_nrun.index,name='reference_melt') "
   ]
  },
  {
   "cell_type": "code",
   "execution_count": null,
   "id": "5638bcf8-14fc-4bb5-b221-6138eb9822e5",
   "metadata": {},
   "outputs": [],
   "source": [
    "y_out_xr = y_out_pd_s.to_xarray()\n",
    "y_target_xr = y_target_pd_s.to_xarray()\n",
    "y_to_compare = xr.merge([y_out_xr.T, y_target_xr.T]).sortby('y')"
   ]
  },
  {
   "cell_type": "code",
   "execution_count": null,
   "id": "17866959-e512-4d5e-aff4-d53089641ca7",
   "metadata": {},
   "outputs": [],
   "source": [
    "y_to_compare.to_netcdf(new_path_output+'NN_melt_predicted_reference_m_ice_per_yr_'+nemo_run+'.nc')"
   ]
  },
  {
   "cell_type": "code",
   "execution_count": null,
   "id": "a7ee326c-3856-40ce-ad32-6d7a6130cbfa",
   "metadata": {},
   "outputs": [],
   "source": []
  },
  {
   "cell_type": "code",
   "execution_count": null,
   "id": "1216876b-8e59-4ac3-a0bc-206a3cd81d21",
   "metadata": {},
   "outputs": [],
   "source": []
  }
 ],
 "metadata": {
  "kernelspec": {
   "display_name": "neuralnet",
   "language": "python",
   "name": "neuralnet"
  },
  "language_info": {
   "codemirror_mode": {
    "name": "ipython",
    "version": 3
   },
   "file_extension": ".py",
   "mimetype": "text/x-python",
   "name": "python",
   "nbconvert_exporter": "python",
   "pygments_lexer": "ipython3",
   "version": "3.9.4"
  }
 },
 "nbformat": 4,
 "nbformat_minor": 5
}
