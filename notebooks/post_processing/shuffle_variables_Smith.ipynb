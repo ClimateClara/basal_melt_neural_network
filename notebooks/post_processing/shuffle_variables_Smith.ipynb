{
 "cells": [
  {
   "cell_type": "code",
   "execution_count": null,
   "id": "39f5dfe2-7fa8-458b-a30c-e0a11be8d55f",
   "metadata": {},
   "outputs": [],
   "source": [
    "\"\"\"\n",
    "Created on Wed Feb 01 15:27 2023\n",
    "\n",
    "Try permute and predict with Smith data\n",
    "\n",
    "Author: @claraburgard\n",
    "\n",
    "\"\"\""
   ]
  },
  {
   "cell_type": "code",
   "execution_count": null,
   "id": "c731f235-1948-4d8e-8bca-d6206005bcb4",
   "metadata": {},
   "outputs": [],
   "source": [
    "import numpy as np\n",
    "import xarray as xr\n",
    "import pandas as pd\n",
    "from tqdm.notebook import trange, tqdm\n",
    "import glob\n",
    "import matplotlib as mpl\n",
    "import seaborn as sns\n",
    "import datetime\n",
    "import time\n",
    "import os,sys\n",
    "\n",
    "import tensorflow as tf\n",
    "from tensorflow import keras\n",
    "from contextlib import redirect_stdout\n",
    "\n",
    "from basal_melt_neural_networks.constants import *\n",
    "import basal_melt_neural_networks.diagnostic_functions as diag\n",
    "import basal_melt_neural_networks.data_formatting as dfmt\n",
    "import basal_melt_neural_networks.postprocessing_functions as pp\n",
    "from basal_melt_param.constants import *"
   ]
  },
  {
   "cell_type": "code",
   "execution_count": null,
   "id": "e90f4e29-fb3b-4ccc-bde5-b82d18e40cd2",
   "metadata": {},
   "outputs": [],
   "source": [
    "%matplotlib qt5"
   ]
  },
  {
   "cell_type": "markdown",
   "id": "8e9625ca-6f3d-4c7b-ad41-625d54472bcf",
   "metadata": {},
   "source": [
    "DEFINE OPTIONS"
   ]
  },
  {
   "cell_type": "code",
   "execution_count": null,
   "id": "200ce0dc-b22d-4f8f-b178-3b74e9dd35fa",
   "metadata": {},
   "outputs": [],
   "source": [
    "mod_size =  'large' #'mini', 'small', 'medium', 'large', 'extra_large'\n",
    "TS_opt = 'extrap' # extrap, whole, thermocline\n",
    "norm_method =  'std' # std, interquart, minmax\n",
    "exp_name = 'allbutconstants'#'onlyTSdraftandslope' #'onlyTSdraftandslope' #'TSdraftbotandiceddandwcd' #'onlyTSisfdraft' #'TSdraftbotandiceddandwcdreldGL' #TSdraftslopereldGL"
   ]
  },
  {
   "cell_type": "code",
   "execution_count": null,
   "id": "115f0c23-e5d0-46d9-8768-4c946ef70b4f",
   "metadata": {},
   "outputs": [],
   "source": [
    "input_vars = ['dGL','dIF','corrected_isfdraft','bathy_metry','slope_bed_lon','slope_bed_lat','slope_ice_lon','slope_ice_lat','isfdraft_conc','theta_in','salinity_in','u_tide']"
   ]
  },
  {
   "cell_type": "code",
   "execution_count": null,
   "id": "459f4d74-0233-4f73-b86d-8bb723b40cfd",
   "metadata": {},
   "outputs": [],
   "source": [
    "nemo_run = 'bi646'"
   ]
  },
  {
   "cell_type": "code",
   "execution_count": null,
   "id": "21da86c9-9c12-48b6-9668-b285afa3f3fc",
   "metadata": {},
   "outputs": [],
   "source": [
    "if nemo_run == 'bi646':\n",
    "    tblock_dim = range(1970, 1970 + 35)\n",
    "elif nemo_run == 'bf663':\n",
    "    tblock_dim = range(1970, 1970 + 40)\n",
    "#isf_dim = [10,11,12,13,18,22,23,24,25,30,31,33,38,39,40,42,43,44,45,47,48,51,52,53,54,55,58,61,65,66,69,70,71,73,75]\n",
    "#isf_dim = [10,11,12,13,18,22,23,25,30,31,33,39,40,42,43,44,45,47,51,55,58,61,65,66,69,70,71,73,75] # for bi646\n",
    "isf_dim = [10,11,12,13,18,22,23,25,30,31,33,39,40,42,43,44,45,47,51,55,58,61,65,66,69,70,71,73,75]"
   ]
  },
  {
   "cell_type": "markdown",
   "id": "54666cc3-7f68-4d51-bc27-1bf2acc53e52",
   "metadata": {},
   "source": [
    "READ IN DATA"
   ]
  },
  {
   "cell_type": "code",
   "execution_count": null,
   "id": "ecad98a6-8d8a-4ae9-a160-d3c800d4ab2f",
   "metadata": {},
   "outputs": [],
   "source": [
    "inputpath_data_nn = '/bettik/burgardc/DATA/NN_PARAM/interim/INPUT_DATA/'\n"
   ]
  },
  {
   "cell_type": "code",
   "execution_count": null,
   "id": "773b2ac3-134f-49bf-a409-fe1ad93be78c",
   "metadata": {},
   "outputs": [],
   "source": [
    "if TS_opt == 'extrap':\n",
    "    inputpath_CVinput = inputpath_data_nn+'EXTRAPOLATED_ISFDRAFT_CHUNKS/'\n",
    "    inputpath_csv = inputpath_data_nn+'SMITH_'+nemo_run+'_EXTRAPDRAFT_CHUNKS/'\n",
    "elif TS_opt == 'whole':\n",
    "    inputpath_CVinput = inputpath_data_nn+'WHOLE_PROF_CHUNKS_CV/'\n",
    "    path_orig_data = inputpath_data_nn+'WHOLE_PROF_CHUNKS/'\n",
    "elif TS_opt == 'thermocline':\n",
    "    inputpath_CVinput = inputpath_data_nn+'THERMOCLINE_CHUNKS_CV/'"
   ]
  },
  {
   "cell_type": "code",
   "execution_count": null,
   "id": "b94d4b4e-8205-45fd-b2ff-6deed9631b05",
   "metadata": {},
   "outputs": [],
   "source": [
    "def read_input_evalmetrics_NN_yy(nemo_run, tt, isf_list):\n",
    "    inputpath_boxes = '/bettik/burgardc/DATA/NN_PARAM/interim/BOXES/SMITH_'+nemo_run+'/'\n",
    "    inputpath_data='/bettik/burgardc/DATA/NN_PARAM/interim/SMITH_'+nemo_run+'/'\n",
    "    inputpath_mask='/bettik/burgardc/DATA/NN_PARAM/interim/ANTARCTICA_IS_MASKS/SMITH_'+nemo_run+'/'\n",
    "    \n",
    "    file_isf_orig = xr.open_dataset(inputpath_mask+'nemo_5km_isf_masks_and_info_and_distance_oneFRIS_yy'+str(tt - 1970).zfill(2)+'.nc').drop('time')\n",
    "    file_isf = file_isf_orig.sel(Nisf=isf_list)\n",
    "    \n",
    "    map_lim = [-3000000,3000000]\n",
    "    file_mask_orig = xr.open_dataset(inputpath_data+'other_mask_vars_Ant_stereo.nc')\n",
    "    file_mask_orig_cut = dfmt.cut_domain_stereo(file_mask_orig, map_lim, map_lim)\n",
    "    file_mask_orig_cut = file_mask_orig_cut.assign_coords({'time': range(1970, 1970 + len(file_mask_orig_cut.time))}).sel(time=tt).drop('time')\n",
    "\n",
    "    file_other = xr.open_dataset(inputpath_data+'corrected_draft_bathy_isf.nc')#, chunks={'x': chunk_size, 'y': chunk_size})\n",
    "    file_other_cut = dfmt.cut_domain_stereo(file_other, map_lim, map_lim)\n",
    "    file_other_cut = file_other_cut.assign_coords({'time': range(1970, 1970 + len(file_other_cut.time))}).sel(time=tt).drop('time')\n",
    "\n",
    "    file_conc = xr.open_dataset(inputpath_data+'isfdraft_conc_Ant_stereo.nc')\n",
    "    file_conc_cut = dfmt.cut_domain_stereo(file_conc, map_lim, map_lim)\n",
    "    file_conc_cut = file_conc_cut.assign_coords({'time': range(1970, 1970 + len(file_conc_cut.time))}).sel(time=tt).drop('time')\n",
    "    \n",
    "    ice_draft_pos = file_other_cut['corrected_isfdraft']\n",
    "    ice_draft_neg = -ice_draft_pos\n",
    "    \n",
    "    box_charac_2D = xr.open_dataset(inputpath_boxes + 'nemo_5km_boxes_2D_oneFRIS_yy'+str(tt - 1970).zfill(2)+'.nc')\n",
    "    box_charac_1D = xr.open_dataset(inputpath_boxes + 'nemo_5km_boxes_1D_oneFRIS_yy'+str(tt - 1970).zfill(2)+'.nc')\n",
    "    \n",
    "    isf_stack_mask = dfmt.create_stacked_mask(file_isf['ISF_mask'], file_isf.Nisf, ['y','x'], 'mask_coord')\n",
    "\n",
    "    file_isf_conc = file_conc_cut['isfdraft_conc']\n",
    "\n",
    "    xx = file_isf.x\n",
    "    yy = file_isf.y\n",
    "    dx = (xx[2] - xx[1]).values\n",
    "    dy = (yy[2] - yy[1]).values\n",
    "    grid_cell_area = abs(dx*dy)  \n",
    "    grid_cell_area_weighted = file_isf_conc * grid_cell_area\n",
    "    \n",
    "    geometry_info_2D = xr.merge([ice_draft_pos.rename('ice_draft_pos'),\n",
    "                            grid_cell_area_weighted.rename('grid_cell_area_weighted'),\n",
    "                            file_isf_conc])\n",
    "    \n",
    "    return file_isf, geometry_info_2D, box_charac_2D, box_charac_1D, isf_stack_mask"
   ]
  },
  {
   "cell_type": "markdown",
   "id": "4d53a31c-6c70-4c42-babc-7e9306017cf1",
   "metadata": {},
   "source": [
    "PREPARE FILES WITH EVERYTHING AND SHUFFLE THEN "
   ]
  },
  {
   "cell_type": "code",
   "execution_count": null,
   "id": "7e604e45-9e5b-4a3b-b58c-5b853a6c70b2",
   "metadata": {},
   "outputs": [],
   "source": [
    "#df_list = []\n",
    "n=0\n",
    "for tt in tqdm(tblock_dim):\n",
    "    for kisf in isf_dim:\n",
    "        df_nrun = pd.read_csv(inputpath_csv + 'dataframe_input_isf'+str(kisf).zfill(3)+'_'+str(tt).zfill(2)+'_'+nemo_run+'.csv')#.drop(['x', 'y'])\n",
    "        if n == 0:\n",
    "            print('here')\n",
    "            df_list = df_nrun#.reset_index(drop=True, inplace=True)\n",
    "        else:\n",
    "            df_list = df_list.append(df_nrun) #.drop(['x', 'y'], axis=1, inplace=True))\n",
    "        n = n+1\n",
    "        "
   ]
  },
  {
   "cell_type": "code",
   "execution_count": null,
   "id": "60b33248-fa0e-407b-91fe-e4b00c9dc635",
   "metadata": {},
   "outputs": [],
   "source": [
    "df_list"
   ]
  },
  {
   "cell_type": "code",
   "execution_count": null,
   "id": "d909b967-6c5c-4828-a870-ba9ef478bd24",
   "metadata": {},
   "outputs": [],
   "source": [
    "df_list.to_csv(inputpath_csv + 'dataframe_input_allisf_timeuntil35_'+nemo_run+'.csv')"
   ]
  },
  {
   "cell_type": "code",
   "execution_count": null,
   "id": "e2ca577c-5486-4212-ae07-0a26727f27e8",
   "metadata": {},
   "outputs": [],
   "source": [
    "df_list_orig = pd.read_csv(inputpath_csv + 'dataframe_input_allisf_timeuntil35_'+nemo_run+'.csv')"
   ]
  },
  {
   "cell_type": "code",
   "execution_count": null,
   "id": "1daf8741-cd9d-4e2d-87d9-f14953c1358c",
   "metadata": {},
   "outputs": [],
   "source": [
    "shuffled_df = df_list_orig.sample(frac=1, random_state=1)"
   ]
  },
  {
   "cell_type": "code",
   "execution_count": null,
   "id": "e86a4f43-22c8-4c8e-a854-b1dcc9d647f6",
   "metadata": {},
   "outputs": [],
   "source": [
    "shuffled_df.to_csv(inputpath_csv + 'dataframe_shuffledinput_allisf_timeuntil35_'+nemo_run+'.csv')"
   ]
  },
  {
   "cell_type": "markdown",
   "id": "d18341ff-f9ff-4989-bb6a-88d03f6c0b8f",
   "metadata": {},
   "source": [
    "APPLY MODEL"
   ]
  },
  {
   "cell_type": "code",
   "execution_count": null,
   "id": "b5c26cb3-7424-401d-8bc7-43ce2971af8e",
   "metadata": {},
   "outputs": [],
   "source": [
    "### use any model from CV over time\n",
    "outputpath_melt_nn = '/bettik/burgardc/DATA/NN_PARAM/processed/MELT_RATE/SMITH_'+nemo_run+'/'\n",
    "path_model = '/bettik/burgardc/DATA/NN_PARAM/interim/NN_MODELS/experiments/WHOLE/'\n",
    "\n",
    "#for tt in tqdm(tblock_dim):\n",
    "for tt in tqdm([1970]):\n",
    "    \n",
    "    file_isf, geometry_info_2D, box_charac_2D, box_charac_1D, isf_stack_mask = read_input_evalmetrics_NN_yy(nemo_run, tt, isf_dim)\n",
    "    \n",
    "    res_2D_shuffled = []\n",
    "    for vv in ['dGL','dIF']: #, 'dIF','corrected_isfdraft', 'bathy_metry', 'slope_bed_lon',\n",
    "               #'slope_bed_lat', 'slope_ice_lon', 'slope_ice_lat',\n",
    "               #'entry_depth_max', 'isfdraft_conc', 'u_tide', 'theta_in', 'salinity_in']:\n",
    "        print(vv)\n",
    "        \n",
    "        res_2D_all = None\n",
    "        #for kisf in isf_dim: \n",
    "        for kisf in [66]:\n",
    "            \n",
    "            norm_metrics_file = xr.open_dataset(inputpath_CVinput + 'metrics_norm_wholedataset.nc')\n",
    "            #norm_metrics_file_addvar1 = xr.open_dataset(inputpath_CVinput + 'metrics_norm_addvar1_CV_noisf'+str(isf_out).zfill(3)+'_notblock'+str(tblock_out).zfill(3)+'.nc')\n",
    "            #norm_metrics_file_addvar1 = norm_metrics_file_addvar1.drop('salinity_in')\n",
    "            #norm_metrics_file = xr.merge([norm_metrics_file_orig,norm_metrics_file_addvar1])\n",
    "            norm_metrics = norm_metrics_file.sel(norm_method=norm_method).drop('norm_method').to_dataframe()\n",
    "\n",
    "            df_nrun = pd.read_csv(inputpath_csv + 'dataframe_input_isf'+str(kisf).zfill(3)+'_'+str(tt).zfill(2)+'_'+nemo_run+'.csv',index_col=[0,1])\n",
    "            #df_nrun_addvar1 = pd.read_csv(path_orig_data + 'dataframe_addvar1_isf'+str(kisf).zfill(3)+'_'+str(tblock_out).zfill(3)+'.csv',index_col=[0,1,2])\n",
    "            #df_nrun_addvar1 = df_nrun_addvar1.drop(['salinity_in'], axis=1)\n",
    "            #df_nrun = pd.concat([df_nrun_orig,df_nrun_addvar1],join = 'outer', axis = 1)\n",
    "\n",
    "            model = keras.models.load_model(path_model + 'model_nn_'+mod_size+'_'+exp_name+'_wholedataset_TS'+TS_opt+'_norm'+norm_method+'.h5')\n",
    "            \n",
    "            shuffled_var = df_nrun[vv].copy()\n",
    "            np.random.shuffle(shuffled_var.values)\n",
    "            df_nrun_in_shuffled = df_nrun.drop(vv, axis=1).copy()\n",
    "            df_nrun_in_shuffled[vv] = shuffled_var\n",
    "            #res_2D_shuffled = pp.apply_NN_results_2D_1isf_1tblock(file_isf, norm_metrics, df_nrun_in_shuffled, model, input_vars)\n",
    "            res_2D = pp.apply_NN_results_2D_1isf_1tblock(file_isf, norm_metrics, df_nrun_in_shuffled, model, input_vars)\n",
    "\n",
    "            if res_2D_all is None:\n",
    "                res_2D_all = res_2D\n",
    "            else:\n",
    "                res_2D_all = res_2D_all.combine_first(res_2D)\n",
    "        res_2D_shuffled.append(res_2D_all.assign_coords({'shuffle_dim': vv}))\n",
    "        \n",
    "    res_2D_shuffled_all = xr.concat(res_2D_shuffled, dim='shuffle_dim')        \n",
    "    #res_2D_all.to_netcdf(outputpath_melt_nn + 'evalmetrics_2D_'+mod_size+'_'+exp_name+'_'+TS_opt+'_norm'+norm_method+'_'+str(tt)+'_'+nemo_run+'_shuffled.nc')\n"
   ]
  },
  {
   "cell_type": "code",
   "execution_count": null,
   "id": "c6a0920d-223c-4f92-9df5-7d577c1080ac",
   "metadata": {},
   "outputs": [],
   "source": [
    "#continue with u_tide\n",
    "outputpath_melt_nn = '/bettik/burgardc/DATA/NN_PARAM/processed/MELT_RATE/SMITH_'+nemo_run+'/'\n",
    "path_model = '/bettik/burgardc/DATA/NN_PARAM/interim/NN_MODELS/experiments/WHOLE/'\n",
    "\n",
    "df_shuffled = pd.read_csv(inputpath_csv + 'dataframe_shuffledinput_allisf_timeuntil35_'+nemo_run+'.csv')\n",
    "\n",
    "# continue at theta_in\n",
    "#for vv in ['dGL']: \n",
    "for vv in ['dGL','dIF', 'corrected_isfdraft', 'bathy_metry', 'slope_bed_lon', \n",
    "           'slope_bed_lat', 'slope_ice_lon', 'slope_ice_lat',\n",
    "           'entry_depth_max', 'isfdraft_conc', 'u_tide', 'theta_in', 'salinity_in']: \n",
    "    print(vv)\n",
    "    \n",
    "    res_1D_allyy_list = []\n",
    "    for tt in tqdm(tblock_dim):\n",
    "    #for tt in tqdm([1970]):\n",
    "        isf_out = 0\n",
    "        tblock_out = 5\n",
    "\n",
    "        file_isf, geometry_info_2D, box_charac_2D, box_charac_1D, isf_stack_mask = read_input_evalmetrics_NN_yy(nemo_run, tt, isf_dim)\n",
    "\n",
    "        res_1D_list = []\n",
    "        for kisf in isf_dim:  \n",
    "        #for kisf in [66]:  \n",
    "\n",
    "\n",
    "            norm_metrics_file = xr.open_dataset(inputpath_CVinput + 'metrics_norm_wholedataset.nc')\n",
    "            #norm_metrics_file_addvar1 = xr.open_dataset(inputpath_CVinput + 'metrics_norm_addvar1_CV_noisf'+str(isf_out).zfill(3)+'_notblock'+str(tblock_out).zfill(3)+'.nc')\n",
    "            #norm_metrics_file_addvar1 = norm_metrics_file_addvar1.drop('salinity_in')\n",
    "            #norm_metrics_file = xr.merge([norm_metrics_file_orig,norm_metrics_file_addvar1])\n",
    "            norm_metrics = norm_metrics_file.sel(norm_method=norm_method).drop('norm_method').to_dataframe()\n",
    "\n",
    "            df_nrun = pd.read_csv(inputpath_csv + 'dataframe_input_isf'+str(kisf).zfill(3)+'_'+str(tt)+'_'+nemo_run+'.csv',index_col=[0,1])\n",
    "            #df_nrun_addvar1 = pd.read_csv(path_orig_data + 'dataframe_addvar1_isf'+str(kisf).zfill(3)+'_'+str(tblock_out).zfill(3)+'.csv',index_col=[0,1,2])\n",
    "            #df_nrun_addvar1 = df_nrun_addvar1.drop(['salinity_in'], axis=1)\n",
    "            #df_nrun = pd.concat([df_nrun_orig,df_nrun_addvar1],join = 'outer', axis = 1)\n",
    "\n",
    "            model = keras.models.load_model(path_model + 'model_nn_'+mod_size+'_'+exp_name+'_wholedataset_TS'+TS_opt+'_norm'+norm_method+'.h5')\n",
    "            \n",
    "            nrows = len(df_nrun.index)\n",
    "            shuffled_var = df_shuffled[vv].sample(n=nrows).values\n",
    "            df_nrun_in_shuffled = df_nrun.drop(vv, axis=1).copy()\n",
    "            df_nrun_in_shuffled[vv] = shuffled_var\n",
    "\n",
    "            res_1D = pp.evalmetrics_1D_NN(kisf, norm_metrics, df_nrun_in_shuffled, model, file_isf, geometry_info_2D, box_charac_2D, box_charac_1D, isf_stack_mask, input_vars)    \n",
    "            res_1D_list.append(res_1D)\n",
    "\n",
    "        res_1D_all = xr.concat(res_1D_list, dim='Nisf')\n",
    "        res_1D_allyy_list.append(res_1D_all)\n",
    "\n",
    "    res_1D_allyy = xr.concat(res_1D_allyy_list, dim='time')\n",
    "\n",
    "    res_1D_allyy.to_netcdf(outputpath_melt_nn + 'evalmetrics_shuffled'+vv+'_1D_'+mod_size+'_'+exp_name+'_'+TS_opt+'_norm'+norm_method+'_allyy_'+nemo_run+'.nc')\n",
    "\n"
   ]
  },
  {
   "cell_type": "code",
   "execution_count": null,
   "id": "e0ce3f73-c910-473f-a72d-aef82a962f23",
   "metadata": {},
   "outputs": [],
   "source": [
    "np.sqrt((((res_1D_allyy['predicted_melt'] - res_1D_allyy['reference_melt']).sel(metrics='Gt'))**2).mean())"
   ]
  },
  {
   "cell_type": "code",
   "execution_count": null,
   "id": "56d95013-1f54-4db3-b2fe-b7e73dea2199",
   "metadata": {},
   "outputs": [],
   "source": []
  }
 ],
 "metadata": {
  "kernelspec": {
   "display_name": "neuralnet",
   "language": "python",
   "name": "neuralnet"
  },
  "language_info": {
   "codemirror_mode": {
    "name": "ipython",
    "version": 3
   },
   "file_extension": ".py",
   "mimetype": "text/x-python",
   "name": "python",
   "nbconvert_exporter": "python",
   "pygments_lexer": "ipython3",
   "version": "3.9.4"
  }
 },
 "nbformat": 4,
 "nbformat_minor": 5
}
