{
 "cells": [
  {
   "cell_type": "code",
   "execution_count": null,
   "id": "2f45c141-ec60-4f31-9298-c39fd83e307c",
   "metadata": {},
   "outputs": [],
   "source": [
    "\"\"\"\n",
    "Created on Wed Apr 12 12:00 2023\n",
    "\n",
    "Check if box 1 is right\n",
    "\n",
    "Author: @claraburgard\n",
    "\"\"\""
   ]
  },
  {
   "cell_type": "code",
   "execution_count": null,
   "id": "dd197ef7-3f2c-4de4-b1b3-c80385f908e2",
   "metadata": {},
   "outputs": [],
   "source": [
    "import xarray as xr\n",
    "import basal_melt_neural_networks.data_formatting as dfmt\n",
    "import basal_melt_neural_networks.postprocessing_functions as pp\n"
   ]
  },
  {
   "cell_type": "code",
   "execution_count": null,
   "id": "58aa412d-e3e3-4741-83b4-47b1d72531cb",
   "metadata": {},
   "outputs": [],
   "source": [
    "nemo_run = 'bf663'"
   ]
  },
  {
   "cell_type": "code",
   "execution_count": null,
   "id": "38778b76-fa08-46c1-a6d1-41db5ed2dfb6",
   "metadata": {},
   "outputs": [],
   "source": [
    "map_lim = [-3000000,3000000]\n",
    "inputpath_data='/bettik/burgardc/DATA/NN_PARAM/interim/SMITH_'+nemo_run+'/'\n",
    "file_other = xr.open_dataset(inputpath_data+'corrected_draft_bathy_isf.nc')#, chunks={'x': chunk_size, 'y': chunk_size})\n",
    "file_other_cut = dfmt.cut_domain_stereo(file_other, map_lim, map_lim)\n",
    "file_conc = xr.open_dataset(inputpath_data+'isfdraft_conc_Ant_stereo.nc')\n",
    "file_conc_cut = dfmt.cut_domain_stereo(file_conc, map_lim, map_lim)"
   ]
  },
  {
   "cell_type": "code",
   "execution_count": null,
   "id": "bec0a955-f124-4bab-b3c7-4449dce45374",
   "metadata": {},
   "outputs": [],
   "source": [
    "tt = 1980\n",
    "\n",
    "file_isf, geometry_info_2D, box_charac_2D, box_charac_1D, isf_stack_mask = pp.read_input_evalmetrics_NN_yy(nemo_run, tt, file_conc_cut, file_other_cut)\n"
   ]
  },
  {
   "cell_type": "code",
   "execution_count": null,
   "id": "774da1de-7bac-4f44-9fe4-d585a1d0e25e",
   "metadata": {},
   "outputs": [],
   "source": [
    "box_loc_config2 = box_charac_2D['box_location'].sel(box_nb_tot=box_charac_1D['nD_config'].sel(config=2))\n",
    "box1 = box_loc_config2.where(box_loc_config2==1).isel(Nisf=1).drop('Nisf')"
   ]
  },
  {
   "cell_type": "code",
   "execution_count": null,
   "id": "47db4f74-5b7f-4fca-b41d-5ac1e6101138",
   "metadata": {},
   "outputs": [],
   "source": [
    "box1.plot()"
   ]
  },
  {
   "cell_type": "code",
   "execution_count": null,
   "id": "78af0000-24c4-4fa6-9036-9f94c7cf256a",
   "metadata": {},
   "outputs": [],
   "source": []
  }
 ],
 "metadata": {
  "kernelspec": {
   "display_name": "neuralnet",
   "language": "python",
   "name": "neuralnet"
  },
  "language_info": {
   "codemirror_mode": {
    "name": "ipython",
    "version": 3
   },
   "file_extension": ".py",
   "mimetype": "text/x-python",
   "name": "python",
   "nbconvert_exporter": "python",
   "pygments_lexer": "ipython3",
   "version": "3.9.16"
  }
 },
 "nbformat": 4,
 "nbformat_minor": 5
}
