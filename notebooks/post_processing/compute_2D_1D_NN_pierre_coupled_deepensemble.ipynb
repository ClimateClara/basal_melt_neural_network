{
 "cells": [
  {
   "cell_type": "code",
   "execution_count": null,
   "id": "39f5dfe2-7fa8-458b-a30c-e0a11be8d55f",
   "metadata": {},
   "outputs": [],
   "source": [
    "\"\"\"\n",
    "Created on Mon Mar 27 17:37 2023\n",
    "\n",
    "Apply the ensemble of NN to Smith data and only take ensemble mean\n",
    "\n",
    "Author: @claraburgard\n",
    "\n",
    "\"\"\""
   ]
  },
  {
   "cell_type": "code",
   "execution_count": null,
   "id": "c731f235-1948-4d8e-8bca-d6206005bcb4",
   "metadata": {},
   "outputs": [],
   "source": [
    "import numpy as np\n",
    "import xarray as xr\n",
    "from tqdm.notebook import trange, tqdm\n",
    "#from tqdm import tqdm\n",
    "import glob\n",
    "import matplotlib as mpl\n",
    "import seaborn as sns\n",
    "import datetime\n",
    "import time\n",
    "import os,sys\n",
    "\n",
    "import tensorflow as tf\n",
    "from tensorflow import keras\n",
    "from contextlib import redirect_stdout\n",
    "\n",
    "from basal_melt_neural_networks.constants import *\n",
    "import basal_melt_neural_networks.diagnostic_functions as diag\n",
    "import basal_melt_neural_networks.data_formatting as dfmt\n",
    "import basal_melt_neural_networks.postprocessing_functions as pp\n",
    "from basal_melt_param.constants import *"
   ]
  },
  {
   "cell_type": "markdown",
   "id": "8e9625ca-6f3d-4c7b-ad41-625d54472bcf",
   "metadata": {},
   "source": [
    "DEFINE OPTIONS"
   ]
  },
  {
   "cell_type": "code",
   "execution_count": null,
   "id": "200ce0dc-b22d-4f8f-b178-3b74e9dd35fa",
   "metadata": {},
   "outputs": [],
   "source": [
    "mod_size =  'large' #'mini', 'small', 'medium', 'large', 'extra_large'\n",
    "TS_opt = 'extrap' # extrap, whole, thermocline\n",
    "norm_method =  'std' # std, interquart, minmax\n",
    "exp_name = 'newbasic2'#'allbutconstants' #'onlyTSdraftandslope' #'TSdraftbotandiceddandwcd' #'onlyTSisfdraft' #'TSdraftbotandiceddandwcdreldGL' #TSdraftslopereldGL"
   ]
  },
  {
   "cell_type": "code",
   "execution_count": null,
   "id": "ec315ea7-59f6-41fa-adc2-5f2af24d6ce6",
   "metadata": {},
   "outputs": [],
   "source": [
    "nemo_run = 'EPM034' # 'EPM031', 'EPM034'\n",
    "\n",
    "\n",
    "if nemo_run == 'EPM031' or nemo_run=='EPM026':\n",
    "    yy_start = 2049\n",
    "    yy_end = 2058\n",
    "elif nemo_run == 'EPM034':\n",
    "    yy_start = 2119\n",
    "    yy_end = 2128"
   ]
  },
  {
   "cell_type": "code",
   "execution_count": null,
   "id": "21da86c9-9c12-48b6-9668-b285afa3f3fc",
   "metadata": {},
   "outputs": [],
   "source": [
    "tblock_dim = range(yy_start, yy_end+1)\n",
    "    #isf_dim = [2,3,4,5,6,7,8,9,10,11,12,13,17,18,20,22,23,24,25,26,29,30,31,32,33,34,35,39,40,42,\n",
    "    #           43,44,45,47,49,51,55,58,59,61,62,64,65,66,69,70,71,73,74,75,78,79,84,85,90,98,99,100,104,107,108]\n",
    "#isf_dim = [10,11,12,13,18,22,23,24,25,30,31,33,38,39,40,42,43,44,45,47,48,51,52,53,54,55,58,61,65,66,69,70,71,73,75]\n",
    "#isf_dim = [10,11,12,13,18,22,23,25,30,31,33,39,40,42,43,44,45,47,51,55,58,61,65,66,69,70,71,73,75] # for bi646\n",
    "#isf_dim = [10,11,12,13,18,22,23,25,30,31,33,39,40,42,43,44,45,47,51,55,58,61,65,66,69,70,71,73,75]"
   ]
  },
  {
   "cell_type": "markdown",
   "id": "54666cc3-7f68-4d51-bc27-1bf2acc53e52",
   "metadata": {},
   "source": [
    "READ IN DATA"
   ]
  },
  {
   "cell_type": "code",
   "execution_count": null,
   "id": "ecad98a6-8d8a-4ae9-a160-d3c800d4ab2f",
   "metadata": {},
   "outputs": [],
   "source": [
    "inputpath_data_nn = '/bettik/burgardc/DATA/NN_PARAM/interim/INPUT_DATA/'"
   ]
  },
  {
   "cell_type": "code",
   "execution_count": null,
   "id": "773b2ac3-134f-49bf-a409-fe1ad93be78c",
   "metadata": {},
   "outputs": [],
   "source": [
    "if TS_opt == 'extrap':\n",
    "    inputpath_CVinput = inputpath_data_nn+'EXTRAPOLATED_ISFDRAFT_CHUNKS/'\n",
    "    inputpath_csv = inputpath_data_nn+'PIERRE_'+nemo_run+'_EXTRAPDRAFT_CHUNKS/'"
   ]
  },
  {
   "cell_type": "markdown",
   "id": "d18341ff-f9ff-4989-bb6a-88d03f6c0b8f",
   "metadata": {},
   "source": [
    "APPLY MODEL"
   ]
  },
  {
   "cell_type": "code",
   "execution_count": null,
   "id": "a81faaad-7b19-44c8-b661-10c1f60cb600",
   "metadata": {},
   "outputs": [],
   "source": [
    "#input_vars = ['dGL','dIF','corrected_isfdraft','bathy_metry','slope_bed_lon','slope_bed_lat','slope_ice_lon','slope_ice_lat','isfdraft_conc','theta_in','salinity_in','u_tide']\n",
    "if exp_name == 'onlyTSdraft':\n",
    "    input_vars = ['corrected_isfdraft','theta_in','salinity_in']\n",
    "elif exp_name == 'TSdraftbotandiceddandwcd':\n",
    "    input_vars = ['corrected_isfdraft','theta_in','salinity_in','water_col_depth','theta_bot','salinity_bot']\n",
    "elif exp_name == 'TSdraftbotandiceddandwcdreldGL':\n",
    "    input_vars = ['corrected_isfdraft','theta_in','salinity_in','water_col_depth','theta_bot','salinity_bot','rel_dGL']\n",
    "elif exp_name == 'onlyTSdraftandslope':\n",
    "    input_vars = ['corrected_isfdraft','theta_in','salinity_in','slope_ice_lon','slope_ice_lat']\n",
    "elif exp_name == 'onlyTSdraft2':\n",
    "    input_vars = ['corrected_isfdraft','theta_in','salinity_in']\n",
    "elif exp_name == 'TSTfdGLdIFwcd':\n",
    "    input_vars = ['corrected_isfdraft','theta_in','salinity_in','dGL','dIF','slope_ice_lon','slope_ice_lat','water_col_depth']\n",
    "elif exp_name == 'TSdraftslopereldGL':\n",
    "    input_vars = ['corrected_isfdraft','theta_in','salinity_in','slope_ice_lon','slope_ice_lat','rel_dGL']\n",
    "elif exp_name == 'allbutconstants':\n",
    "    input_vars = ['dGL','dIF','corrected_isfdraft','bathy_metry','slope_bed_lon','slope_bed_lat','slope_ice_lon','slope_ice_lat',\n",
    "                'isfdraft_conc','theta_in','salinity_in','u_tide']\n",
    "elif exp_name == 'newbasic':\n",
    "    input_vars = ['dGL','dIF','corrected_isfdraft','bathy_metry','slope_bed_lon','slope_bed_lat','slope_ice_lon','slope_ice_lat',\n",
    "                'theta_in','salinity_in']\n",
    "elif exp_name == 'newbasic2':\n",
    "    input_vars = ['dGL','dIF','corrected_isfdraft','bathy_metry','slope_bed_lon','slope_bed_lat','slope_ice_lon','slope_ice_lat',\n",
    "                'theta_in','salinity_in','T_mean', 'S_mean', 'T_std', 'S_std']"
   ]
  },
  {
   "cell_type": "code",
   "execution_count": null,
   "id": "149b3847-f26c-44a0-ae92-86eac5a0f5b3",
   "metadata": {},
   "outputs": [],
   "source": [
    "def read_input_evalmetrics_NN_yy(nemo_run, tt):\n",
    "    inputpath_boxes = '/bettik/burgardc/DATA/NN_PARAM/interim/BOXES/nemo_5km_'+nemo_run+'/'\n",
    "    inputpath_data='/bettik/burgardc/DATA/NN_PARAM/interim/NEMO_eORCA025.L121_'+nemo_run+'_ANT_STEREO/'\n",
    "    inputpath_mask='/bettik/burgardc/DATA/NN_PARAM/interim/ANTARCTICA_IS_MASKS/nemo_5km_'+nemo_run+'/'\n",
    "    \n",
    "    file_isf_orig = xr.open_dataset(inputpath_mask+'nemo_5km_isf_masks_and_info_and_distance_oneFRIS_'+str(tt)+'.nc')\n",
    "    #file_isf = file_isf_orig.sel(Nisf=isf_list)\n",
    "    nonnan_Nisf = file_isf_orig['Nisf'].where(np.isfinite(file_isf_orig['front_bot_depth_max']), drop=True).astype(int)\n",
    "    file_isf_nonnan = file_isf_orig.sel(Nisf=nonnan_Nisf)\n",
    "    large_isf = file_isf_nonnan['Nisf'].where(file_isf_nonnan['isf_area_here'] >= 2500, drop=True)\n",
    "    file_isf = file_isf_nonnan.sel(Nisf=large_isf)\n",
    "    if 'labels' in file_isf.coords.keys():\n",
    "        file_isf = file_isf.drop('labels')\n",
    "    \n",
    "    \n",
    "    map_lim = [-3000000,3000000]\n",
    "    file_mask_orig = xr.open_dataset(inputpath_data+'other_mask_vars_Ant_stereo_'+str(tt)+'.nc')\n",
    "    file_mask_orig_cut = dfmt.cut_domain_stereo(file_mask_orig, map_lim, map_lim)\n",
    "    #file_mask_orig_cut = file_mask_orig_cut.assign_coords({'time': range(1970, 1970 + len(file_mask_orig_cut.time))}).sel(time=tt).drop('time')\n",
    "\n",
    "    file_other = xr.open_dataset(inputpath_data+'corrected_draft_bathy_isf_'+str(tt)+'.nc')#, chunks={'x': chunk_size, 'y': chunk_size})\n",
    "    file_other_cut = dfmt.cut_domain_stereo(file_other, map_lim, map_lim)\n",
    "    #file_other_cut = file_other_cut.assign_coords({'time': range(1970, 1970 + len(file_other_cut.time))}).sel(time=tt).drop('time')\n",
    "\n",
    "    file_conc = xr.open_dataset(inputpath_data+'isfdraft_conc_Ant_stereo_'+str(tt)+'.nc')\n",
    "    file_conc_cut = dfmt.cut_domain_stereo(file_conc, map_lim, map_lim)\n",
    "    #file_conc_cut = file_conc_cut.assign_coords({'time': range(1970, 1970 + len(file_conc_cut.time))}).sel(time=tt).drop('time')\n",
    "    \n",
    "    ice_draft_pos = file_other_cut['corrected_isfdraft']\n",
    "    ice_draft_neg = -ice_draft_pos\n",
    "    \n",
    "    box_charac_2D = xr.open_dataset(inputpath_boxes + 'nemo_5km_boxes_2D_oneFRIS_'+str(tt)+'.nc')\n",
    "    box_charac_1D = xr.open_dataset(inputpath_boxes + 'nemo_5km_boxes_1D_oneFRIS_'+str(tt)+'.nc')\n",
    "    \n",
    "    isf_stack_mask = dfmt.create_stacked_mask(file_isf['ISF_mask'], file_isf.Nisf, ['y','x'], 'mask_coord')\n",
    "\n",
    "    file_isf_conc = file_conc_cut['isfdraft_conc']\n",
    "\n",
    "    xx = file_isf.x\n",
    "    yy = file_isf.y\n",
    "    dx = (xx[2] - xx[1]).values\n",
    "    dy = (yy[2] - yy[1]).values\n",
    "    grid_cell_area = abs(dx*dy)  \n",
    "    grid_cell_area_weighted = file_isf_conc * grid_cell_area\n",
    "    \n",
    "    geometry_info_2D = xr.merge([ice_draft_pos.rename('ice_draft_pos'),\n",
    "                            grid_cell_area_weighted.rename('grid_cell_area_weighted'),\n",
    "                            file_isf_conc])\n",
    "    \n",
    "    return file_isf, geometry_info_2D, box_charac_2D, box_charac_1D, isf_stack_mask"
   ]
  },
  {
   "cell_type": "code",
   "execution_count": null,
   "id": "fb9f7432-1f60-418b-9ff4-ce64dd2f1a65",
   "metadata": {},
   "outputs": [],
   "source": [
    "input_vars"
   ]
  },
  {
   "cell_type": "code",
   "execution_count": null,
   "id": "416567a2-7eb5-48e1-b6fd-37612e23a34f",
   "metadata": {},
   "outputs": [],
   "source": [
    "### use any model from CV over time\n",
    "outputpath_melt_nn = '/bettik/burgardc/DATA/NN_PARAM/processed/MELT_RATE/nemo_5km_'+nemo_run+'/'\n",
    "path_model = '/bettik/burgardc/DATA/NN_PARAM/interim/NN_MODELS/experiments/WHOLE/'\n",
    "\n",
    "for tt in tqdm(range(yy_start, yy_end+1)):\n",
    "#for tt in tqdm(range(1980,1980 + 60)):\n",
    "    \n",
    "    file_isf, geometry_info_2D, box_charac_2D, box_charac_1D, isf_stack_mask = read_input_evalmetrics_NN_yy(nemo_run, tt)\n",
    "\n",
    "    res_2D_all = None\n",
    "    for kisf in file_isf.Nisf.values: \n",
    "\n",
    "        norm_metrics_file = xr.open_dataset(inputpath_CVinput + 'metrics_norm_wholedataset.nc')\n",
    "        #norm_metrics_file_addvar1 = xr.open_dataset(inputpath_CVinput + 'metrics_norm_addvar1_CV_noisf'+str(isf_out).zfill(3)+'_notblock'+str(tblock_out).zfill(3)+'.nc')\n",
    "        #norm_metrics_file_addvar1 = norm_metrics_file_addvar1.drop('salinity_in')\n",
    "        #norm_metrics_file = xr.merge([norm_metrics_file_orig,norm_metrics_file_addvar1])\n",
    "        norm_metrics = norm_metrics_file.sel(norm_method=norm_method).drop('norm_method').to_dataframe()\n",
    "\n",
    "        df_nrun = pd.read_csv(inputpath_csv + 'dataframe_input_isf'+str(kisf).zfill(3)+'_'+str(tt)+'_'+nemo_run+'.csv',index_col=[0,1])\n",
    "        #df_nrun_addvar1 = pd.read_csv(path_orig_data + 'dataframe_addvar1_isf'+str(kisf).zfill(3)+'_'+str(tblock_out).zfill(3)+'.csv',index_col=[0,1,2])\n",
    "        #df_nrun_addvar1 = df_nrun_addvar1.drop(['salinity_in'], axis=1)\n",
    "        #df_nrun = pd.concat([df_nrun_orig,df_nrun_addvar1],join = 'outer', axis = 1)\n",
    "        \n",
    "        ens_res2D_list = []\n",
    "        for seed_nb in range(1,11):\n",
    "            model = keras.models.load_model(path_model + 'model_nn_'+mod_size+'_'+exp_name+'_wholedataset_'+str(seed_nb).zfill(2)+'_TS'+TS_opt+'_norm'+norm_method+'.h5')\n",
    "\n",
    "            res_2D = pp.apply_NN_results_2D_1isf_1tblock(file_isf, norm_metrics, df_nrun, model, input_vars)\n",
    "        \n",
    "            ens_res2D_list.append(res_2D.assign_coords({'seed_nb': seed_nb}))\n",
    "        \n",
    "        xr_ens_res2D = xr.concat(ens_res2D_list, dim='seed_nb')\n",
    "        xr_ensmean_res2D = xr_ens_res2D.mean('seed_nb')\n",
    "        \n",
    "        if res_2D_all is None:\n",
    "            res_2D_all = xr_ensmean_res2D\n",
    "        else:\n",
    "            res_2D_all = res_2D_all.combine_first(xr_ensmean_res2D)\n",
    "    \n",
    "    res_2D_all.to_netcdf(outputpath_melt_nn + 'evalmetrics_2D_'+mod_size+'_'+exp_name+'_ensmean_'+TS_opt+'_norm'+norm_method+'_'+str(tt)+'_'+nemo_run+'.nc')\n",
    "#    if (tblock_out == max(tblock_dim)):\n",
    "#        print('I AM SAVING RESULTS FOR NEMO RUN '+nemo_run_old)\n",
    "#        res_all_CV = xr.concat(res_all_list, dim='time')\n",
    "#        res_all_CV.to_netcdf(outputpath_melt_nn + 'evalmetrics_2D_CV_'+mod_size+'_'+exp_name+'_'+TS_opt+'_norm'+norm_method+'_'+nemo_run_old+'.nc')"
   ]
  },
  {
   "cell_type": "code",
   "execution_count": null,
   "id": "b12340af-e133-4f2d-89b1-206fca6af895",
   "metadata": {},
   "outputs": [],
   "source": [
    "(res_2D_all['predicted_melt'] - res_2D_all['reference_melt']).plot(cmap=mpl.cm.coolwarm)"
   ]
  },
  {
   "cell_type": "code",
   "execution_count": null,
   "id": "b9472217-8634-4acb-aa25-1cf3e06978ff",
   "metadata": {},
   "outputs": [],
   "source": [
    "res_2D_all['reference_melt'].where(file_isf['ISF_mask'] == 66, drop=True).plot(vmax=1)"
   ]
  },
  {
   "cell_type": "code",
   "execution_count": null,
   "id": "878b9c8a-2ab4-4574-87c4-ffe9129e7adc",
   "metadata": {},
   "outputs": [],
   "source": []
  }
 ],
 "metadata": {
  "kernelspec": {
   "display_name": "neuralnet",
   "language": "python",
   "name": "neuralnet"
  },
  "language_info": {
   "codemirror_mode": {
    "name": "ipython",
    "version": 3
   },
   "file_extension": ".py",
   "mimetype": "text/x-python",
   "name": "python",
   "nbconvert_exporter": "python",
   "pygments_lexer": "ipython3",
   "version": "3.9.16"
  }
 },
 "nbformat": 4,
 "nbformat_minor": 5
}
