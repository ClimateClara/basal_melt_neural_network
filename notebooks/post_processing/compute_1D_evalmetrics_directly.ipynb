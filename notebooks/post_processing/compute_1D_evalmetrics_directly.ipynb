{
 "cells": [
  {
   "cell_type": "code",
   "execution_count": null,
   "id": "39f5dfe2-7fa8-458b-a30c-e0a11be8d55f",
   "metadata": {},
   "outputs": [],
   "source": [
    "\"\"\"\n",
    "Created on Fri Sep 09 14:24 2022\n",
    "\n",
    "Convert \"raw output\" from the model to melt Gt per y to compute the RMSE ultimately using cross-validation results\n",
    "\n",
    "Author: @claraburgard\n",
    "\n",
    "\"\"\""
   ]
  },
  {
   "cell_type": "code",
   "execution_count": null,
   "id": "c731f235-1948-4d8e-8bca-d6206005bcb4",
   "metadata": {},
   "outputs": [],
   "source": [
    "import numpy as np\n",
    "import xarray as xr\n",
    "from tqdm.notebook import trange, tqdm\n",
    "import glob\n",
    "import matplotlib as mpl\n",
    "import seaborn as sns\n",
    "import datetime\n",
    "import time\n",
    "import os,sys\n",
    "\n",
    "import tensorflow as tf\n",
    "from tensorflow import keras\n",
    "from contextlib import redirect_stdout\n",
    "\n",
    "from basal_melt_neural_networks.constants import *\n",
    "import basal_melt_neural_networks.diagnostic_functions as diag\n",
    "import basal_melt_neural_networks.data_formatting as dfmt\n",
    "import basal_melt_neural_networks.postprocessing_functions as pp\n",
    "from basal_melt_param.constants import *"
   ]
  },
  {
   "cell_type": "markdown",
   "id": "8e9625ca-6f3d-4c7b-ad41-625d54472bcf",
   "metadata": {},
   "source": [
    "DEFINE OPTIONS"
   ]
  },
  {
   "cell_type": "code",
   "execution_count": null,
   "id": "200ce0dc-b22d-4f8f-b178-3b74e9dd35fa",
   "metadata": {},
   "outputs": [],
   "source": [
    "mod_size =  'medium' #'mini', 'small', 'medium', 'large', 'extra_large'\n",
    "TS_opt = 'extrap' # extrap, whole, thermocline\n",
    "norm_method =  'std' # std, interquart, minmax"
   ]
  },
  {
   "cell_type": "code",
   "execution_count": null,
   "id": "21da86c9-9c12-48b6-9668-b285afa3f3fc",
   "metadata": {},
   "outputs": [],
   "source": [
    "tblock_dim = range(1,14)\n",
    "isf_dim = [10,11,12,13,18,22,23,24,25,30,31,33,38,39,40,42,43,44,45,47,48,51,52,53,54,55,58,61,65,66,69,70,71,73,75]"
   ]
  },
  {
   "cell_type": "markdown",
   "id": "54666cc3-7f68-4d51-bc27-1bf2acc53e52",
   "metadata": {},
   "source": [
    "READ IN DATA"
   ]
  },
  {
   "cell_type": "code",
   "execution_count": null,
   "id": "ecad98a6-8d8a-4ae9-a160-d3c800d4ab2f",
   "metadata": {},
   "outputs": [],
   "source": [
    "inputpath_data_nn = '/bettik/burgardc/DATA/NN_PARAM/interim/INPUT_DATA/'\n"
   ]
  },
  {
   "cell_type": "code",
   "execution_count": null,
   "id": "773b2ac3-134f-49bf-a409-fe1ad93be78c",
   "metadata": {},
   "outputs": [],
   "source": [
    "if TS_opt == 'extrap':\n",
    "    inputpath_CVinput = inputpath_data_nn+'EXTRAPOLATED_ISFDRAFT_CHUNKS_CV/'\n",
    "    path_orig_data = inputpath_data_nn+'EXTRAPOLATED_ISFDRAFT_CHUNKS/'\n",
    "elif TS_opt == 'whole':\n",
    "    inputpath_CVinput = inputpath_data_nn+'WHOLE_PROF_CHUNKS_CV/'\n",
    "    path_orig_data = inputpath_data_nn+'WHOLE_PROF_CHUNKS/'\n",
    "elif TS_opt == 'thermocline':\n",
    "    inputpath_CVinput = inputpath_data_nn+'THERMOCLINE_CHUNKS_CV/'"
   ]
  },
  {
   "cell_type": "markdown",
   "id": "ee5ee8ad-517c-4f07-b7a7-42c061b34fc4",
   "metadata": {},
   "source": [
    "APPLY MODEL"
   ]
  },
  {
   "cell_type": "code",
   "execution_count": null,
   "id": "b53b5bc0-fa5a-4f48-91d5-c2fe333c180c",
   "metadata": {},
   "outputs": [],
   "source": [
    "tblock_dim = range(1,14)\n",
    "isf_dim = [10,11,12,13,18,22,23,24,25,30,31,33,38,39,40,42,43,44,45,47,48,51,52,53,54,55,58,61,65,66,69,70,71,73,75]\n",
    "\n",
    "#### CV over time\n",
    "outputpath_melt_nn = '/bettik/burgardc/DATA/NN_PARAM/processed/MELT_RATE/CV_TBLOCKS/'\n",
    "\n",
    "res_all_list = []\n",
    "nemo_run_old = 'OPM006'\n",
    "for tblock_out in tqdm(tblock_dim):\n",
    "\n",
    "    isf_out = 0\n",
    "\n",
    "    nemo_run = pp.identify_nemo_run_from_tblock(tblock_out)\n",
    "\n",
    "    if (nemo_run_old != nemo_run):\n",
    "        print('I AM SAVING RESULTS FOR NEMO RUN '+nemo_run_old)\n",
    "        res_all_CV = xr.concat(res_all_list, dim='time')\n",
    "        res_all_CV.to_netcdf(outputpath_melt_nn + 'evalmetrics_1D_CV_'+mod_size+'testwoconstants_TS'+TS_opt+'_norm'+norm_method+'_'+nemo_run_old+'.nc')\n",
    "        res_all_list = []\n",
    "    \n",
    "    nemo_run_old = nemo_run\n",
    "        \n",
    "    res_all = pp.compute_crossval_metric_1D_for_1CV(tblock_out,isf_out,tblock_dim,isf_dim,inputpath_CVinput,path_orig_data,norm_method,TS_opt,mod_size,drop_vars=['melt_m_ice_per_y','isf_area','entry_depth_max'],verbose=False)\n",
    "    res_all_list.append(res_all)\n",
    "    \n",
    "    if (tblock_out == max(tblock_dim)):\n",
    "        print('I AM SAVING RESULTS FOR NEMO RUN '+nemo_run_old)\n",
    "        res_all_CV = xr.concat(res_all_list, dim='time')\n",
    "        res_all_CV.to_netcdf(outputpath_melt_nn + 'evalmetrics_1D_CV_'+mod_size+'testwoconstants_TS'+TS_opt+'_norm'+norm_method+'_'+nemo_run_old+'.nc')\n"
   ]
  },
  {
   "cell_type": "code",
   "execution_count": null,
   "id": "a1db44ed-32a6-45a5-8772-23fad71ce9c3",
   "metadata": {},
   "outputs": [],
   "source": [
    "#### CV over shelves\n",
    "outputpath_melt_nn = '/bettik/burgardc/DATA/NN_PARAM/processed/MELT_RATE/CV_ISF/'\n",
    "\n",
    "t_list = []\n",
    "res_all_list = []\n",
    "nemo_run_old = 'OPM006'\n",
    "\n",
    "for tt in tblock_dim:\n",
    "    nemo_run = pp.identify_nemo_run_from_tblock(tt)\n",
    "    print(nemo_run)\n",
    "    \n",
    "    if (nemo_run_old != nemo_run):\n",
    "        print(t_list)\n",
    "        \n",
    "        for isf_out in tqdm(isf_dim):\n",
    "            \n",
    "            tblock_out = 0\n",
    "        \n",
    "            res_all = pp.compute_crossval_metric_1D_for_1CV(tblock_out,isf_out,t_list,isf_dim,inputpath_CVinput,path_orig_data,norm_method,TS_opt,mod_size,drop_vars=['melt_m_ice_per_y','isf_area','entry_depth_max'],verbose=False)\n",
    "            res_all_list.append(res_all)\n",
    "            \n",
    "        res_all_CV = xr.concat(res_all_list, dim='Nisf')\n",
    "        print('I AM SAVING RESULTS FOR NEMO RUN '+nemo_run_old)\n",
    "        res_all_CV.to_netcdf(outputpath_melt_nn + 'evalmetrics_1D_CV_'+mod_size+'testwoconstants_TS'+TS_opt+'_norm'+norm_method+'_'+nemo_run_old+'.nc')\n",
    "        res_all_list = []\n",
    "        \n",
    "        t_list = []\n",
    "        \n",
    "    t_list.append(tt)\n",
    "    nemo_run_old = nemo_run\n",
    "    \n",
    "    if (tt == max(tblock_dim)):\n",
    "        print(t_list)\n",
    "        \n",
    "        for isf_out in tqdm(isf_dim):\n",
    "            \n",
    "            tblock_out = 0\n",
    "        \n",
    "            res_all = pp.compute_crossval_metric_1D_for_1CV(tblock_out,isf_out,t_list,isf_dim,inputpath_CVinput,path_orig_data,norm_method,TS_opt,mod_size,drop_vars=['melt_m_ice_per_y','isf_area','entry_depth_max'],verbose=False)\n",
    "            res_all_list.append(res_all)\n",
    "            \n",
    "        res_all_CV = xr.concat(res_all_list, dim='Nisf')\n",
    "        print('I AM SAVING RESULTS FOR NEMO RUN '+nemo_run_old)\n",
    "        res_all_CV.to_netcdf(outputpath_melt_nn + 'evalmetrics_1D_CV_'+mod_size+'testwoconstants_TS'+TS_opt+'_norm'+norm_method+'_'+nemo_run_old+'.nc')\n",
    "\n",
    "            "
   ]
  },
  {
   "cell_type": "code",
   "execution_count": null,
   "id": "e3da0692-6115-4b1d-be0c-58e657510d8a",
   "metadata": {},
   "outputs": [],
   "source": [
    "res_all_CV = xr.concat(res_all_list, dim='Nisf')"
   ]
  },
  {
   "cell_type": "code",
   "execution_count": null,
   "id": "c11aa58b-8b25-464b-9648-e257f2ed1aaa",
   "metadata": {},
   "outputs": [],
   "source": [
    "xx = range(100,140)\n",
    "plt.scatter(res_all['reference_melt'].sel(metrics='Gt',Nisf=66),res_all['predicted_melt'].sel(metrics='Gt',Nisf=66))\n",
    "plt.plot(xx,xx,'k-')"
   ]
  }
 ],
 "metadata": {
  "kernelspec": {
   "display_name": "neuralnet",
   "language": "python",
   "name": "neuralnet"
  },
  "language_info": {
   "codemirror_mode": {
    "name": "ipython",
    "version": 3
   },
   "file_extension": ".py",
   "mimetype": "text/x-python",
   "name": "python",
   "nbconvert_exporter": "python",
   "pygments_lexer": "ipython3",
   "version": "3.9.4"
  }
 },
 "nbformat": 4,
 "nbformat_minor": 5
}
